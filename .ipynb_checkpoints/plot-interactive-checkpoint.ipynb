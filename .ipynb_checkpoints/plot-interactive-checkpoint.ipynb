{
 "cells": [
  {
   "cell_type": "markdown",
   "metadata": {},
   "source": [
    "# el map eli 5demtha ena bel folium matjich 3ala hedheya el dash ken theb e5edmelna wahda kif eli 5demtha ena  bel exemple eli 7atithoulek louta 5ater adheka tnajem t'integrih"
   ]
  },
  {
   "cell_type": "code",
   "execution_count": 37,
   "metadata": {
    "scrolled": false
   },
   "outputs": [
    {
     "data": {
      "application/vnd.plotly.v1+json": {
       "config": {
        "plotlyServerURL": "https://plot.ly"
       },
       "data": [
        {
         "marker": {
          "color": "royalblue"
         },
         "name": "2016",
         "type": "bar",
         "visible": true,
         "x": [
          "Ariana",
          "Gabès",
          "Gafsa",
          "Mahdia",
          "Manubah",
          "Monastir",
          "Nabeul",
          "Sfax",
          "Siliana",
          "Tozeur",
          "Tunis"
         ],
         "y": [
          0,
          0,
          2800,
          0,
          5000,
          5000,
          12000,
          56000,
          9000,
          0,
          29500
         ]
        },
        {
         "marker": {
          "color": "royalblue"
         },
         "name": "2017",
         "type": "bar",
         "visible": false,
         "x": [
          "Ariana",
          "Gabès",
          "Gafsa",
          "Mahdia",
          "Manubah",
          "Monastir",
          "Nabeul",
          "Sfax",
          "Siliana",
          "Tozeur",
          "Tunis"
         ],
         "y": [
          5000,
          10000,
          3500,
          5000,
          6000,
          7000,
          13000,
          56000,
          10000,
          4000,
          46000
         ]
        },
        {
         "marker": {
          "color": "royalblue"
         },
         "name": "2018",
         "type": "bar",
         "visible": false,
         "x": [
          "Ariana",
          "Gabès",
          "Gafsa",
          "Mahdia",
          "Manubah",
          "Monastir",
          "Nabeul",
          "Sfax",
          "Siliana",
          "Tozeur",
          "Tunis"
         ],
         "y": [
          50000,
          30000,
          5000,
          0,
          10000,
          10000,
          4000,
          0,
          0,
          0,
          2000,
          0,
          0,
          0,
          10000,
          50000,
          20000,
          0,
          8000,
          0,
          4000,
          0,
          0,
          10000,
          10000,
          0,
          4000,
          10000,
          0
         ]
        }
       ],
       "layout": {
        "font": {
         "family": " Gravitas One, cursive",
         "size": 13
        },
        "paper_bgcolor": "rgb(233,233,0)",
        "plot_bgcolor": "rgba(0,0,0)",
        "template": {
         "data": {
          "bar": [
           {
            "error_x": {
             "color": "#2a3f5f"
            },
            "error_y": {
             "color": "#2a3f5f"
            },
            "marker": {
             "line": {
              "color": "white",
              "width": 0.5
             }
            },
            "type": "bar"
           }
          ],
          "barpolar": [
           {
            "marker": {
             "line": {
              "color": "white",
              "width": 0.5
             }
            },
            "type": "barpolar"
           }
          ],
          "carpet": [
           {
            "aaxis": {
             "endlinecolor": "#2a3f5f",
             "gridcolor": "#C8D4E3",
             "linecolor": "#C8D4E3",
             "minorgridcolor": "#C8D4E3",
             "startlinecolor": "#2a3f5f"
            },
            "baxis": {
             "endlinecolor": "#2a3f5f",
             "gridcolor": "#C8D4E3",
             "linecolor": "#C8D4E3",
             "minorgridcolor": "#C8D4E3",
             "startlinecolor": "#2a3f5f"
            },
            "type": "carpet"
           }
          ],
          "choropleth": [
           {
            "colorbar": {
             "outlinewidth": 0,
             "ticks": ""
            },
            "type": "choropleth"
           }
          ],
          "contour": [
           {
            "colorbar": {
             "outlinewidth": 0,
             "ticks": ""
            },
            "colorscale": [
             [
              0,
              "#0d0887"
             ],
             [
              0.1111111111111111,
              "#46039f"
             ],
             [
              0.2222222222222222,
              "#7201a8"
             ],
             [
              0.3333333333333333,
              "#9c179e"
             ],
             [
              0.4444444444444444,
              "#bd3786"
             ],
             [
              0.5555555555555556,
              "#d8576b"
             ],
             [
              0.6666666666666666,
              "#ed7953"
             ],
             [
              0.7777777777777778,
              "#fb9f3a"
             ],
             [
              0.8888888888888888,
              "#fdca26"
             ],
             [
              1,
              "#f0f921"
             ]
            ],
            "type": "contour"
           }
          ],
          "contourcarpet": [
           {
            "colorbar": {
             "outlinewidth": 0,
             "ticks": ""
            },
            "type": "contourcarpet"
           }
          ],
          "heatmap": [
           {
            "colorbar": {
             "outlinewidth": 0,
             "ticks": ""
            },
            "colorscale": [
             [
              0,
              "#0d0887"
             ],
             [
              0.1111111111111111,
              "#46039f"
             ],
             [
              0.2222222222222222,
              "#7201a8"
             ],
             [
              0.3333333333333333,
              "#9c179e"
             ],
             [
              0.4444444444444444,
              "#bd3786"
             ],
             [
              0.5555555555555556,
              "#d8576b"
             ],
             [
              0.6666666666666666,
              "#ed7953"
             ],
             [
              0.7777777777777778,
              "#fb9f3a"
             ],
             [
              0.8888888888888888,
              "#fdca26"
             ],
             [
              1,
              "#f0f921"
             ]
            ],
            "type": "heatmap"
           }
          ],
          "heatmapgl": [
           {
            "colorbar": {
             "outlinewidth": 0,
             "ticks": ""
            },
            "colorscale": [
             [
              0,
              "#0d0887"
             ],
             [
              0.1111111111111111,
              "#46039f"
             ],
             [
              0.2222222222222222,
              "#7201a8"
             ],
             [
              0.3333333333333333,
              "#9c179e"
             ],
             [
              0.4444444444444444,
              "#bd3786"
             ],
             [
              0.5555555555555556,
              "#d8576b"
             ],
             [
              0.6666666666666666,
              "#ed7953"
             ],
             [
              0.7777777777777778,
              "#fb9f3a"
             ],
             [
              0.8888888888888888,
              "#fdca26"
             ],
             [
              1,
              "#f0f921"
             ]
            ],
            "type": "heatmapgl"
           }
          ],
          "histogram": [
           {
            "marker": {
             "colorbar": {
              "outlinewidth": 0,
              "ticks": ""
             }
            },
            "type": "histogram"
           }
          ],
          "histogram2d": [
           {
            "colorbar": {
             "outlinewidth": 0,
             "ticks": ""
            },
            "colorscale": [
             [
              0,
              "#0d0887"
             ],
             [
              0.1111111111111111,
              "#46039f"
             ],
             [
              0.2222222222222222,
              "#7201a8"
             ],
             [
              0.3333333333333333,
              "#9c179e"
             ],
             [
              0.4444444444444444,
              "#bd3786"
             ],
             [
              0.5555555555555556,
              "#d8576b"
             ],
             [
              0.6666666666666666,
              "#ed7953"
             ],
             [
              0.7777777777777778,
              "#fb9f3a"
             ],
             [
              0.8888888888888888,
              "#fdca26"
             ],
             [
              1,
              "#f0f921"
             ]
            ],
            "type": "histogram2d"
           }
          ],
          "histogram2dcontour": [
           {
            "colorbar": {
             "outlinewidth": 0,
             "ticks": ""
            },
            "colorscale": [
             [
              0,
              "#0d0887"
             ],
             [
              0.1111111111111111,
              "#46039f"
             ],
             [
              0.2222222222222222,
              "#7201a8"
             ],
             [
              0.3333333333333333,
              "#9c179e"
             ],
             [
              0.4444444444444444,
              "#bd3786"
             ],
             [
              0.5555555555555556,
              "#d8576b"
             ],
             [
              0.6666666666666666,
              "#ed7953"
             ],
             [
              0.7777777777777778,
              "#fb9f3a"
             ],
             [
              0.8888888888888888,
              "#fdca26"
             ],
             [
              1,
              "#f0f921"
             ]
            ],
            "type": "histogram2dcontour"
           }
          ],
          "mesh3d": [
           {
            "colorbar": {
             "outlinewidth": 0,
             "ticks": ""
            },
            "type": "mesh3d"
           }
          ],
          "parcoords": [
           {
            "line": {
             "colorbar": {
              "outlinewidth": 0,
              "ticks": ""
             }
            },
            "type": "parcoords"
           }
          ],
          "pie": [
           {
            "automargin": true,
            "type": "pie"
           }
          ],
          "scatter": [
           {
            "marker": {
             "colorbar": {
              "outlinewidth": 0,
              "ticks": ""
             }
            },
            "type": "scatter"
           }
          ],
          "scatter3d": [
           {
            "line": {
             "colorbar": {
              "outlinewidth": 0,
              "ticks": ""
             }
            },
            "marker": {
             "colorbar": {
              "outlinewidth": 0,
              "ticks": ""
             }
            },
            "type": "scatter3d"
           }
          ],
          "scattercarpet": [
           {
            "marker": {
             "colorbar": {
              "outlinewidth": 0,
              "ticks": ""
             }
            },
            "type": "scattercarpet"
           }
          ],
          "scattergeo": [
           {
            "marker": {
             "colorbar": {
              "outlinewidth": 0,
              "ticks": ""
             }
            },
            "type": "scattergeo"
           }
          ],
          "scattergl": [
           {
            "marker": {
             "colorbar": {
              "outlinewidth": 0,
              "ticks": ""
             }
            },
            "type": "scattergl"
           }
          ],
          "scattermapbox": [
           {
            "marker": {
             "colorbar": {
              "outlinewidth": 0,
              "ticks": ""
             }
            },
            "type": "scattermapbox"
           }
          ],
          "scatterpolar": [
           {
            "marker": {
             "colorbar": {
              "outlinewidth": 0,
              "ticks": ""
             }
            },
            "type": "scatterpolar"
           }
          ],
          "scatterpolargl": [
           {
            "marker": {
             "colorbar": {
              "outlinewidth": 0,
              "ticks": ""
             }
            },
            "type": "scatterpolargl"
           }
          ],
          "scatterternary": [
           {
            "marker": {
             "colorbar": {
              "outlinewidth": 0,
              "ticks": ""
             }
            },
            "type": "scatterternary"
           }
          ],
          "surface": [
           {
            "colorbar": {
             "outlinewidth": 0,
             "ticks": ""
            },
            "colorscale": [
             [
              0,
              "#0d0887"
             ],
             [
              0.1111111111111111,
              "#46039f"
             ],
             [
              0.2222222222222222,
              "#7201a8"
             ],
             [
              0.3333333333333333,
              "#9c179e"
             ],
             [
              0.4444444444444444,
              "#bd3786"
             ],
             [
              0.5555555555555556,
              "#d8576b"
             ],
             [
              0.6666666666666666,
              "#ed7953"
             ],
             [
              0.7777777777777778,
              "#fb9f3a"
             ],
             [
              0.8888888888888888,
              "#fdca26"
             ],
             [
              1,
              "#f0f921"
             ]
            ],
            "type": "surface"
           }
          ],
          "table": [
           {
            "cells": {
             "fill": {
              "color": "#EBF0F8"
             },
             "line": {
              "color": "white"
             }
            },
            "header": {
             "fill": {
              "color": "#C8D4E3"
             },
             "line": {
              "color": "white"
             }
            },
            "type": "table"
           }
          ]
         },
         "layout": {
          "annotationdefaults": {
           "arrowcolor": "#2a3f5f",
           "arrowhead": 0,
           "arrowwidth": 1
          },
          "coloraxis": {
           "colorbar": {
            "outlinewidth": 0,
            "ticks": ""
           }
          },
          "colorscale": {
           "diverging": [
            [
             0,
             "#8e0152"
            ],
            [
             0.1,
             "#c51b7d"
            ],
            [
             0.2,
             "#de77ae"
            ],
            [
             0.3,
             "#f1b6da"
            ],
            [
             0.4,
             "#fde0ef"
            ],
            [
             0.5,
             "#f7f7f7"
            ],
            [
             0.6,
             "#e6f5d0"
            ],
            [
             0.7,
             "#b8e186"
            ],
            [
             0.8,
             "#7fbc41"
            ],
            [
             0.9,
             "#4d9221"
            ],
            [
             1,
             "#276419"
            ]
           ],
           "sequential": [
            [
             0,
             "#0d0887"
            ],
            [
             0.1111111111111111,
             "#46039f"
            ],
            [
             0.2222222222222222,
             "#7201a8"
            ],
            [
             0.3333333333333333,
             "#9c179e"
            ],
            [
             0.4444444444444444,
             "#bd3786"
            ],
            [
             0.5555555555555556,
             "#d8576b"
            ],
            [
             0.6666666666666666,
             "#ed7953"
            ],
            [
             0.7777777777777778,
             "#fb9f3a"
            ],
            [
             0.8888888888888888,
             "#fdca26"
            ],
            [
             1,
             "#f0f921"
            ]
           ],
           "sequentialminus": [
            [
             0,
             "#0d0887"
            ],
            [
             0.1111111111111111,
             "#46039f"
            ],
            [
             0.2222222222222222,
             "#7201a8"
            ],
            [
             0.3333333333333333,
             "#9c179e"
            ],
            [
             0.4444444444444444,
             "#bd3786"
            ],
            [
             0.5555555555555556,
             "#d8576b"
            ],
            [
             0.6666666666666666,
             "#ed7953"
            ],
            [
             0.7777777777777778,
             "#fb9f3a"
            ],
            [
             0.8888888888888888,
             "#fdca26"
            ],
            [
             1,
             "#f0f921"
            ]
           ]
          },
          "colorway": [
           "#636efa",
           "#EF553B",
           "#00cc96",
           "#ab63fa",
           "#FFA15A",
           "#19d3f3",
           "#FF6692",
           "#B6E880",
           "#FF97FF",
           "#FECB52"
          ],
          "font": {
           "color": "#2a3f5f"
          },
          "geo": {
           "bgcolor": "white",
           "lakecolor": "white",
           "landcolor": "white",
           "showlakes": true,
           "showland": true,
           "subunitcolor": "#C8D4E3"
          },
          "hoverlabel": {
           "align": "left"
          },
          "hovermode": "closest",
          "mapbox": {
           "style": "light"
          },
          "paper_bgcolor": "white",
          "plot_bgcolor": "white",
          "polar": {
           "angularaxis": {
            "gridcolor": "#EBF0F8",
            "linecolor": "#EBF0F8",
            "ticks": ""
           },
           "bgcolor": "white",
           "radialaxis": {
            "gridcolor": "#EBF0F8",
            "linecolor": "#EBF0F8",
            "ticks": ""
           }
          },
          "scene": {
           "xaxis": {
            "backgroundcolor": "white",
            "gridcolor": "#DFE8F3",
            "gridwidth": 2,
            "linecolor": "#EBF0F8",
            "showbackground": true,
            "ticks": "",
            "zerolinecolor": "#EBF0F8"
           },
           "yaxis": {
            "backgroundcolor": "white",
            "gridcolor": "#DFE8F3",
            "gridwidth": 2,
            "linecolor": "#EBF0F8",
            "showbackground": true,
            "ticks": "",
            "zerolinecolor": "#EBF0F8"
           },
           "zaxis": {
            "backgroundcolor": "white",
            "gridcolor": "#DFE8F3",
            "gridwidth": 2,
            "linecolor": "#EBF0F8",
            "showbackground": true,
            "ticks": "",
            "zerolinecolor": "#EBF0F8"
           }
          },
          "shapedefaults": {
           "line": {
            "color": "#2a3f5f"
           }
          },
          "ternary": {
           "aaxis": {
            "gridcolor": "#DFE8F3",
            "linecolor": "#A2B1C6",
            "ticks": ""
           },
           "baxis": {
            "gridcolor": "#DFE8F3",
            "linecolor": "#A2B1C6",
            "ticks": ""
           },
           "bgcolor": "white",
           "caxis": {
            "gridcolor": "#DFE8F3",
            "linecolor": "#A2B1C6",
            "ticks": ""
           }
          },
          "title": {
           "x": 0.05
          },
          "xaxis": {
           "automargin": true,
           "gridcolor": "#EBF0F8",
           "linecolor": "#EBF0F8",
           "ticks": "",
           "title": {
            "standoff": 15
           },
           "zerolinecolor": "#EBF0F8",
           "zerolinewidth": 2
          },
          "yaxis": {
           "automargin": true,
           "gridcolor": "#EBF0F8",
           "linecolor": "#EBF0F8",
           "ticks": "",
           "title": {
            "standoff": 15
           },
           "zerolinecolor": "#EBF0F8",
           "zerolinewidth": 2
          }
         }
        },
        "title": {
         "text": "Les subventions données par année et par gouvernorat"
        },
        "updatemenus": [
         {
          "buttons": [
           {
            "args": [
             {
              "visible": [
               true,
               false,
               false
              ]
             }
            ],
            "label": "2016                             ",
            "method": "update"
           },
           {
            "args": [
             {
              "visible": [
               false,
               true,
               false
              ]
             }
            ],
            "label": "2017",
            "method": "update"
           },
           {
            "args": [
             {
              "visible": [
               false,
               false,
               true
              ]
             }
            ],
            "label": "2018",
            "method": "update"
           }
          ],
          "x": 0.05,
          "y": 1.05
         }
        ]
       }
      },
      "text/html": [
       "<div>\n",
       "        \n",
       "        \n",
       "            <div id=\"50f22068-6890-40c0-8555-67a092ae79f0\" class=\"plotly-graph-div\" style=\"height:525px; width:100%;\"></div>\n",
       "            <script type=\"text/javascript\">\n",
       "                require([\"plotly\"], function(Plotly) {\n",
       "                    window.PLOTLYENV=window.PLOTLYENV || {};\n",
       "                    \n",
       "                if (document.getElementById(\"50f22068-6890-40c0-8555-67a092ae79f0\")) {\n",
       "                    Plotly.newPlot(\n",
       "                        '50f22068-6890-40c0-8555-67a092ae79f0',\n",
       "                        [{\"marker\": {\"color\": \"royalblue\"}, \"name\": \"2016\", \"type\": \"bar\", \"visible\": true, \"x\": [\"Ariana\", \"Gab\\u00e8s\", \"Gafsa\", \"Mahdia\", \"Manubah\", \"Monastir\", \"Nabeul\", \"Sfax\", \"Siliana\", \"Tozeur\", \"Tunis\"], \"y\": [0, 0, 2800, 0, 5000, 5000, 12000, 56000, 9000, 0, 29500]}, {\"marker\": {\"color\": \"royalblue\"}, \"name\": \"2017\", \"type\": \"bar\", \"visible\": false, \"x\": [\"Ariana\", \"Gab\\u00e8s\", \"Gafsa\", \"Mahdia\", \"Manubah\", \"Monastir\", \"Nabeul\", \"Sfax\", \"Siliana\", \"Tozeur\", \"Tunis\"], \"y\": [5000, 10000, 3500, 5000, 6000, 7000, 13000, 56000, 10000, 4000, 46000]}, {\"marker\": {\"color\": \"royalblue\"}, \"name\": \"2018\", \"type\": \"bar\", \"visible\": false, \"x\": [\"Ariana\", \"Gab\\u00e8s\", \"Gafsa\", \"Mahdia\", \"Manubah\", \"Monastir\", \"Nabeul\", \"Sfax\", \"Siliana\", \"Tozeur\", \"Tunis\"], \"y\": [50000, 30000, 5000, 0, 10000, 10000, 4000, 0, 0, 0, 2000, 0, 0, 0, 10000, 50000, 20000, 0, 8000, 0, 4000, 0, 0, 10000, 10000, 0, 4000, 10000, 0]}],\n",
       "                        {\"font\": {\"family\": \" Gravitas One, cursive\", \"size\": 13}, \"paper_bgcolor\": \"rgb(233,233,0)\", \"plot_bgcolor\": \"rgba(0,0,0)\", \"template\": {\"data\": {\"bar\": [{\"error_x\": {\"color\": \"#2a3f5f\"}, \"error_y\": {\"color\": \"#2a3f5f\"}, \"marker\": {\"line\": {\"color\": \"white\", \"width\": 0.5}}, \"type\": \"bar\"}], \"barpolar\": [{\"marker\": {\"line\": {\"color\": \"white\", \"width\": 0.5}}, \"type\": \"barpolar\"}], \"carpet\": [{\"aaxis\": {\"endlinecolor\": \"#2a3f5f\", \"gridcolor\": \"#C8D4E3\", \"linecolor\": \"#C8D4E3\", \"minorgridcolor\": \"#C8D4E3\", \"startlinecolor\": \"#2a3f5f\"}, \"baxis\": {\"endlinecolor\": \"#2a3f5f\", \"gridcolor\": \"#C8D4E3\", \"linecolor\": \"#C8D4E3\", \"minorgridcolor\": \"#C8D4E3\", \"startlinecolor\": \"#2a3f5f\"}, \"type\": \"carpet\"}], \"choropleth\": [{\"colorbar\": {\"outlinewidth\": 0, \"ticks\": \"\"}, \"type\": \"choropleth\"}], \"contour\": [{\"colorbar\": {\"outlinewidth\": 0, \"ticks\": \"\"}, \"colorscale\": [[0.0, \"#0d0887\"], [0.1111111111111111, \"#46039f\"], [0.2222222222222222, \"#7201a8\"], [0.3333333333333333, \"#9c179e\"], [0.4444444444444444, \"#bd3786\"], [0.5555555555555556, \"#d8576b\"], [0.6666666666666666, \"#ed7953\"], [0.7777777777777778, \"#fb9f3a\"], [0.8888888888888888, \"#fdca26\"], [1.0, \"#f0f921\"]], \"type\": \"contour\"}], \"contourcarpet\": [{\"colorbar\": {\"outlinewidth\": 0, \"ticks\": \"\"}, \"type\": \"contourcarpet\"}], \"heatmap\": [{\"colorbar\": {\"outlinewidth\": 0, \"ticks\": \"\"}, \"colorscale\": [[0.0, \"#0d0887\"], [0.1111111111111111, \"#46039f\"], [0.2222222222222222, \"#7201a8\"], [0.3333333333333333, \"#9c179e\"], [0.4444444444444444, \"#bd3786\"], [0.5555555555555556, \"#d8576b\"], [0.6666666666666666, \"#ed7953\"], [0.7777777777777778, \"#fb9f3a\"], [0.8888888888888888, \"#fdca26\"], [1.0, \"#f0f921\"]], \"type\": \"heatmap\"}], \"heatmapgl\": [{\"colorbar\": {\"outlinewidth\": 0, \"ticks\": \"\"}, \"colorscale\": [[0.0, \"#0d0887\"], [0.1111111111111111, \"#46039f\"], [0.2222222222222222, \"#7201a8\"], [0.3333333333333333, \"#9c179e\"], [0.4444444444444444, \"#bd3786\"], [0.5555555555555556, \"#d8576b\"], [0.6666666666666666, \"#ed7953\"], [0.7777777777777778, \"#fb9f3a\"], [0.8888888888888888, \"#fdca26\"], [1.0, \"#f0f921\"]], \"type\": \"heatmapgl\"}], \"histogram\": [{\"marker\": {\"colorbar\": {\"outlinewidth\": 0, \"ticks\": \"\"}}, \"type\": \"histogram\"}], \"histogram2d\": [{\"colorbar\": {\"outlinewidth\": 0, \"ticks\": \"\"}, \"colorscale\": [[0.0, \"#0d0887\"], [0.1111111111111111, \"#46039f\"], [0.2222222222222222, \"#7201a8\"], [0.3333333333333333, \"#9c179e\"], [0.4444444444444444, \"#bd3786\"], [0.5555555555555556, \"#d8576b\"], [0.6666666666666666, \"#ed7953\"], [0.7777777777777778, \"#fb9f3a\"], [0.8888888888888888, \"#fdca26\"], [1.0, \"#f0f921\"]], \"type\": \"histogram2d\"}], \"histogram2dcontour\": [{\"colorbar\": {\"outlinewidth\": 0, \"ticks\": \"\"}, \"colorscale\": [[0.0, \"#0d0887\"], [0.1111111111111111, \"#46039f\"], [0.2222222222222222, \"#7201a8\"], [0.3333333333333333, \"#9c179e\"], [0.4444444444444444, \"#bd3786\"], [0.5555555555555556, \"#d8576b\"], [0.6666666666666666, \"#ed7953\"], [0.7777777777777778, \"#fb9f3a\"], [0.8888888888888888, \"#fdca26\"], [1.0, \"#f0f921\"]], \"type\": \"histogram2dcontour\"}], \"mesh3d\": [{\"colorbar\": {\"outlinewidth\": 0, \"ticks\": \"\"}, \"type\": \"mesh3d\"}], \"parcoords\": [{\"line\": {\"colorbar\": {\"outlinewidth\": 0, \"ticks\": \"\"}}, \"type\": \"parcoords\"}], \"pie\": [{\"automargin\": true, \"type\": \"pie\"}], \"scatter\": [{\"marker\": {\"colorbar\": {\"outlinewidth\": 0, \"ticks\": \"\"}}, \"type\": \"scatter\"}], \"scatter3d\": [{\"line\": {\"colorbar\": {\"outlinewidth\": 0, \"ticks\": \"\"}}, \"marker\": {\"colorbar\": {\"outlinewidth\": 0, \"ticks\": \"\"}}, \"type\": \"scatter3d\"}], \"scattercarpet\": [{\"marker\": {\"colorbar\": {\"outlinewidth\": 0, \"ticks\": \"\"}}, \"type\": \"scattercarpet\"}], \"scattergeo\": [{\"marker\": {\"colorbar\": {\"outlinewidth\": 0, \"ticks\": \"\"}}, \"type\": \"scattergeo\"}], \"scattergl\": [{\"marker\": {\"colorbar\": {\"outlinewidth\": 0, \"ticks\": \"\"}}, \"type\": \"scattergl\"}], \"scattermapbox\": [{\"marker\": {\"colorbar\": {\"outlinewidth\": 0, \"ticks\": \"\"}}, \"type\": \"scattermapbox\"}], \"scatterpolar\": [{\"marker\": {\"colorbar\": {\"outlinewidth\": 0, \"ticks\": \"\"}}, \"type\": \"scatterpolar\"}], \"scatterpolargl\": [{\"marker\": {\"colorbar\": {\"outlinewidth\": 0, \"ticks\": \"\"}}, \"type\": \"scatterpolargl\"}], \"scatterternary\": [{\"marker\": {\"colorbar\": {\"outlinewidth\": 0, \"ticks\": \"\"}}, \"type\": \"scatterternary\"}], \"surface\": [{\"colorbar\": {\"outlinewidth\": 0, \"ticks\": \"\"}, \"colorscale\": [[0.0, \"#0d0887\"], [0.1111111111111111, \"#46039f\"], [0.2222222222222222, \"#7201a8\"], [0.3333333333333333, \"#9c179e\"], [0.4444444444444444, \"#bd3786\"], [0.5555555555555556, \"#d8576b\"], [0.6666666666666666, \"#ed7953\"], [0.7777777777777778, \"#fb9f3a\"], [0.8888888888888888, \"#fdca26\"], [1.0, \"#f0f921\"]], \"type\": \"surface\"}], \"table\": [{\"cells\": {\"fill\": {\"color\": \"#EBF0F8\"}, \"line\": {\"color\": \"white\"}}, \"header\": {\"fill\": {\"color\": \"#C8D4E3\"}, \"line\": {\"color\": \"white\"}}, \"type\": \"table\"}]}, \"layout\": {\"annotationdefaults\": {\"arrowcolor\": \"#2a3f5f\", \"arrowhead\": 0, \"arrowwidth\": 1}, \"coloraxis\": {\"colorbar\": {\"outlinewidth\": 0, \"ticks\": \"\"}}, \"colorscale\": {\"diverging\": [[0, \"#8e0152\"], [0.1, \"#c51b7d\"], [0.2, \"#de77ae\"], [0.3, \"#f1b6da\"], [0.4, \"#fde0ef\"], [0.5, \"#f7f7f7\"], [0.6, \"#e6f5d0\"], [0.7, \"#b8e186\"], [0.8, \"#7fbc41\"], [0.9, \"#4d9221\"], [1, \"#276419\"]], \"sequential\": [[0.0, \"#0d0887\"], [0.1111111111111111, \"#46039f\"], [0.2222222222222222, \"#7201a8\"], [0.3333333333333333, \"#9c179e\"], [0.4444444444444444, \"#bd3786\"], [0.5555555555555556, \"#d8576b\"], [0.6666666666666666, \"#ed7953\"], [0.7777777777777778, \"#fb9f3a\"], [0.8888888888888888, \"#fdca26\"], [1.0, \"#f0f921\"]], \"sequentialminus\": [[0.0, \"#0d0887\"], [0.1111111111111111, \"#46039f\"], [0.2222222222222222, \"#7201a8\"], [0.3333333333333333, \"#9c179e\"], [0.4444444444444444, \"#bd3786\"], [0.5555555555555556, \"#d8576b\"], [0.6666666666666666, \"#ed7953\"], [0.7777777777777778, \"#fb9f3a\"], [0.8888888888888888, \"#fdca26\"], [1.0, \"#f0f921\"]]}, \"colorway\": [\"#636efa\", \"#EF553B\", \"#00cc96\", \"#ab63fa\", \"#FFA15A\", \"#19d3f3\", \"#FF6692\", \"#B6E880\", \"#FF97FF\", \"#FECB52\"], \"font\": {\"color\": \"#2a3f5f\"}, \"geo\": {\"bgcolor\": \"white\", \"lakecolor\": \"white\", \"landcolor\": \"white\", \"showlakes\": true, \"showland\": true, \"subunitcolor\": \"#C8D4E3\"}, \"hoverlabel\": {\"align\": \"left\"}, \"hovermode\": \"closest\", \"mapbox\": {\"style\": \"light\"}, \"paper_bgcolor\": \"white\", \"plot_bgcolor\": \"white\", \"polar\": {\"angularaxis\": {\"gridcolor\": \"#EBF0F8\", \"linecolor\": \"#EBF0F8\", \"ticks\": \"\"}, \"bgcolor\": \"white\", \"radialaxis\": {\"gridcolor\": \"#EBF0F8\", \"linecolor\": \"#EBF0F8\", \"ticks\": \"\"}}, \"scene\": {\"xaxis\": {\"backgroundcolor\": \"white\", \"gridcolor\": \"#DFE8F3\", \"gridwidth\": 2, \"linecolor\": \"#EBF0F8\", \"showbackground\": true, \"ticks\": \"\", \"zerolinecolor\": \"#EBF0F8\"}, \"yaxis\": {\"backgroundcolor\": \"white\", \"gridcolor\": \"#DFE8F3\", \"gridwidth\": 2, \"linecolor\": \"#EBF0F8\", \"showbackground\": true, \"ticks\": \"\", \"zerolinecolor\": \"#EBF0F8\"}, \"zaxis\": {\"backgroundcolor\": \"white\", \"gridcolor\": \"#DFE8F3\", \"gridwidth\": 2, \"linecolor\": \"#EBF0F8\", \"showbackground\": true, \"ticks\": \"\", \"zerolinecolor\": \"#EBF0F8\"}}, \"shapedefaults\": {\"line\": {\"color\": \"#2a3f5f\"}}, \"ternary\": {\"aaxis\": {\"gridcolor\": \"#DFE8F3\", \"linecolor\": \"#A2B1C6\", \"ticks\": \"\"}, \"baxis\": {\"gridcolor\": \"#DFE8F3\", \"linecolor\": \"#A2B1C6\", \"ticks\": \"\"}, \"bgcolor\": \"white\", \"caxis\": {\"gridcolor\": \"#DFE8F3\", \"linecolor\": \"#A2B1C6\", \"ticks\": \"\"}}, \"title\": {\"x\": 0.05}, \"xaxis\": {\"automargin\": true, \"gridcolor\": \"#EBF0F8\", \"linecolor\": \"#EBF0F8\", \"ticks\": \"\", \"title\": {\"standoff\": 15}, \"zerolinecolor\": \"#EBF0F8\", \"zerolinewidth\": 2}, \"yaxis\": {\"automargin\": true, \"gridcolor\": \"#EBF0F8\", \"linecolor\": \"#EBF0F8\", \"ticks\": \"\", \"title\": {\"standoff\": 15}, \"zerolinecolor\": \"#EBF0F8\", \"zerolinewidth\": 2}}}, \"title\": {\"text\": \"Les subventions donn\\u00e9es par ann\\u00e9e et par gouvernorat\"}, \"updatemenus\": [{\"buttons\": [{\"args\": [{\"visible\": [true, false, false]}], \"label\": \"2016                             \", \"method\": \"update\"}, {\"args\": [{\"visible\": [false, true, false]}], \"label\": \"2017\", \"method\": \"update\"}, {\"args\": [{\"visible\": [false, false, true]}], \"label\": \"2018\", \"method\": \"update\"}], \"x\": 0.05, \"y\": 1.05}]},\n",
       "                        {\"responsive\": true}\n",
       "                    ).then(function(){\n",
       "                            \n",
       "var gd = document.getElementById('50f22068-6890-40c0-8555-67a092ae79f0');\n",
       "var x = new MutationObserver(function (mutations, observer) {{\n",
       "        var display = window.getComputedStyle(gd).display;\n",
       "        if (!display || display === 'none') {{\n",
       "            console.log([gd, 'removed!']);\n",
       "            Plotly.purge(gd);\n",
       "            observer.disconnect();\n",
       "        }}\n",
       "}});\n",
       "\n",
       "// Listen for the removal of the full notebook cells\n",
       "var notebookContainer = gd.closest('#notebook-container');\n",
       "if (notebookContainer) {{\n",
       "    x.observe(notebookContainer, {childList: true});\n",
       "}}\n",
       "\n",
       "// Listen for the clearing of the current output cell\n",
       "var outputEl = gd.closest('.output');\n",
       "if (outputEl) {{\n",
       "    x.observe(outputEl, {childList: true});\n",
       "}}\n",
       "\n",
       "                        })\n",
       "                };\n",
       "                });\n",
       "            </script>\n",
       "        </div>"
      ]
     },
     "metadata": {},
     "output_type": "display_data"
    }
   ],
   "source": [
    "import pandas as pd\n",
    "import plotly.graph_objects as go\n",
    "df10=pd.read_csv('subvention20162017.csv')\n",
    "df11=pd.read_csv('subventionassociationsfinancespubliques2018.csv')\n",
    "\n",
    "\n",
    "fig = go.Figure()\n",
    "\n",
    "gk = df10.groupby('gov_name_f').sum()\n",
    "data_bar=[ go.Bar(name='2016',\n",
    "           visible=True,\n",
    "           x=gk.index, \n",
    "           y=gk['subvention_2016'],\n",
    "           marker_color='royalblue'),\n",
    "         go.Bar(name='2017',\n",
    "           visible=False,\n",
    "           x= gk.index, \n",
    "           y= gk['subvention_2017'],\n",
    "          marker_color='royalblue'),\n",
    "         go.Bar(name='2018',\n",
    "           visible=False,\n",
    "           x=gk.index, \n",
    "           y=df11['Subvention'],\n",
    "           marker_color='royalblue'),\n",
    "          \n",
    "        ]\n",
    "    \n",
    "list_updatemenus=[\n",
    "        {'args':[{\"visible\":[True,False,False]}],\n",
    "         'label':\"2016                             \",\n",
    "         'method':\"update\"},\n",
    "    \n",
    "        {'args':[{\"visible\":[False,True,False]}],\n",
    "         'label':\"2017\",\n",
    "         'method':\"update\"},\n",
    "\n",
    "         {'args':[{\"visible\":[False,False,True]}],\n",
    "         'label':\"2018\",\n",
    "         'method':\"update\"}]\n",
    "layout_bar=go.Layout(updatemenus=list([dict(buttons= list_updatemenus,x=0.05,y=1.05)]),\n",
    "                     title_text=\"Les subventions données par année et par gouvernorat\",\n",
    "                     template='plotly_white',\n",
    "                     font=dict(\n",
    "                    family=\" Gravitas One, cursive\",\n",
    "                    size=13), paper_bgcolor='rgb(233,233,0)',plot_bgcolor='rgba(0,0,0)')\n",
    "\n",
    "#defining figure and plotting\n",
    "fig_bar_1 = go.Figure(data_bar,layout_bar)\n",
    "fig_bar_1.show()\n"
   ]
  },
  {
   "cell_type": "code",
   "execution_count": 14,
   "metadata": {},
   "outputs": [
    {
     "data": {
      "application/vnd.plotly.v1+json": {
       "config": {
        "plotlyServerURL": "https://plot.ly"
       },
       "data": [
        {
         "labels": [
          "Lettre",
          "Lettre",
          "Lettre",
          "Lettre",
          "Lettre",
          "Lettre",
          "Lettre",
          "Musique et Danse",
          "Musique et Danse",
          "Musique et Danse",
          "Musique et Danse",
          "Musique et Danse",
          "Musique et Danse",
          "Musique et Danse",
          "Musique et Danse",
          "Arts audiovisuel",
          "Arts audiovisuel",
          "Arts audiovisuel",
          "Arts audiovisuel",
          "Arts audiovisuel",
          "Arts plastiques",
          "Arts plastiques",
          "Action culturelle",
          "Action culturelle",
          "Action culturelle",
          "Action culturelle",
          "Action culturelle",
          "Action culturelle",
          "associations avec de caractère social",
          "Lettre",
          "Teathre",
          "Patrimoine",
          "Action culturelle",
          "Teathre",
          "Teathre",
          "Teathre",
          "Teathre",
          "Action culturelle",
          "Action culturelle",
          "Action culturelle",
          "Action culturelle",
          "Teathre",
          "Arts audiovisuel",
          "Arts plastiques",
          "Patrimoine",
          "Action culturelle",
          "Lettre",
          "Musique et Danse",
          "Teathre",
          "Teathre",
          "Arts plastiques",
          "Patrimoine",
          "Teathre",
          "Action culturelle",
          "Action culturelle",
          "Patrimoine",
          "Action culturelle",
          "Action culturelle",
          "Action culturelle",
          "Patrimoine",
          "Patrimoine",
          "Action culturelle",
          "Arts audiovisuel",
          "Action culturelle",
          "Action culturelle",
          "Musique et Danse",
          "Arts plastiques",
          "Patrimoine",
          "Musique et Danse",
          "Lettre",
          "Arts plastiques",
          "Arts plastiques",
          "Patrimoine",
          "Action culturelle",
          "Action culturelle",
          "Musique et Danse",
          "Action culturelle",
          "Action culturelle",
          "Action culturelle",
          "Lettre",
          "Lettre",
          "Arts plastiques",
          "Patrimoine",
          "Action culturelle",
          "Action culturelle",
          "Action culturelle",
          "Lettre",
          "Lettre",
          "Arts audiovisuel",
          "Action culturelle",
          "Action culturelle",
          "Action culturelle",
          "Action culturelle",
          "Lettre",
          "Patrimoine",
          "Patrimoine",
          "Patrimoine",
          "Action culturelle",
          "Action culturelle",
          "Teathre",
          "Arts plastiques",
          "Arts plastiques",
          "Patrimoine",
          "Action culturelle",
          "Action culturelle"
         ],
         "name": "2015",
         "type": "pie",
         "values": [
          1000,
          3000,
          1500,
          2500,
          6000,
          10000,
          94000,
          3000,
          3000,
          20000,
          25000,
          120000,
          3000,
          5000,
          2000,
          13000,
          8000,
          23000,
          50000,
          5000,
          15000,
          20000,
          2500,
          15000,
          2000,
          2000,
          3000,
          3000,
          6000,
          3000,
          2000,
          7000,
          2000,
          3000,
          2000,
          1000,
          1500,
          3000,
          3000,
          3000,
          10000,
          10000,
          2500,
          4500,
          2000,
          10000,
          4000,
          4000,
          3000,
          20000,
          10000,
          5000,
          7000,
          2000,
          80000,
          4000,
          3000,
          10000,
          3000,
          7000,
          3000,
          8000,
          10000,
          3000,
          82000,
          6500,
          5000,
          12000,
          95000,
          10000,
          6000,
          45000,
          10000,
          10000,
          3000,
          25000,
          4000,
          5000,
          28000,
          4500,
          3000,
          1500,
          3000,
          5000,
          4000,
          4000,
          5000,
          12000,
          25000,
          5000,
          40000,
          3000,
          20000,
          5000,
          5000,
          5000,
          12000,
          3000,
          15000,
          3500,
          2000,
          3000,
          4000,
          4000,
          3500
         ],
         "visible": true
        },
        {
         "labels": [
          "Action Culturelle",
          "Arts audio-visuels",
          "Arts plastiques",
          "Arts scéniques",
          "Autres",
          "Lettres",
          "Manifestations et Festivals culturels",
          "Musique ",
          "Patrimoine"
         ],
         "name": "2016",
         "type": "pie",
         "values": [
          64,
          195,
          116.3,
          117.5,
          16,
          144.5,
          560.25,
          242.5,
          81.5
         ],
         "visible": false
        }
       ],
       "layout": {
        "font": {
         "family": " Gravitas One, cursive",
         "size": 13
        },
        "template": {
         "data": {
          "bar": [
           {
            "error_x": {
             "color": "#2a3f5f"
            },
            "error_y": {
             "color": "#2a3f5f"
            },
            "marker": {
             "line": {
              "color": "white",
              "width": 0.5
             }
            },
            "type": "bar"
           }
          ],
          "barpolar": [
           {
            "marker": {
             "line": {
              "color": "white",
              "width": 0.5
             }
            },
            "type": "barpolar"
           }
          ],
          "carpet": [
           {
            "aaxis": {
             "endlinecolor": "#2a3f5f",
             "gridcolor": "#C8D4E3",
             "linecolor": "#C8D4E3",
             "minorgridcolor": "#C8D4E3",
             "startlinecolor": "#2a3f5f"
            },
            "baxis": {
             "endlinecolor": "#2a3f5f",
             "gridcolor": "#C8D4E3",
             "linecolor": "#C8D4E3",
             "minorgridcolor": "#C8D4E3",
             "startlinecolor": "#2a3f5f"
            },
            "type": "carpet"
           }
          ],
          "choropleth": [
           {
            "colorbar": {
             "outlinewidth": 0,
             "ticks": ""
            },
            "type": "choropleth"
           }
          ],
          "contour": [
           {
            "colorbar": {
             "outlinewidth": 0,
             "ticks": ""
            },
            "colorscale": [
             [
              0,
              "#0d0887"
             ],
             [
              0.1111111111111111,
              "#46039f"
             ],
             [
              0.2222222222222222,
              "#7201a8"
             ],
             [
              0.3333333333333333,
              "#9c179e"
             ],
             [
              0.4444444444444444,
              "#bd3786"
             ],
             [
              0.5555555555555556,
              "#d8576b"
             ],
             [
              0.6666666666666666,
              "#ed7953"
             ],
             [
              0.7777777777777778,
              "#fb9f3a"
             ],
             [
              0.8888888888888888,
              "#fdca26"
             ],
             [
              1,
              "#f0f921"
             ]
            ],
            "type": "contour"
           }
          ],
          "contourcarpet": [
           {
            "colorbar": {
             "outlinewidth": 0,
             "ticks": ""
            },
            "type": "contourcarpet"
           }
          ],
          "heatmap": [
           {
            "colorbar": {
             "outlinewidth": 0,
             "ticks": ""
            },
            "colorscale": [
             [
              0,
              "#0d0887"
             ],
             [
              0.1111111111111111,
              "#46039f"
             ],
             [
              0.2222222222222222,
              "#7201a8"
             ],
             [
              0.3333333333333333,
              "#9c179e"
             ],
             [
              0.4444444444444444,
              "#bd3786"
             ],
             [
              0.5555555555555556,
              "#d8576b"
             ],
             [
              0.6666666666666666,
              "#ed7953"
             ],
             [
              0.7777777777777778,
              "#fb9f3a"
             ],
             [
              0.8888888888888888,
              "#fdca26"
             ],
             [
              1,
              "#f0f921"
             ]
            ],
            "type": "heatmap"
           }
          ],
          "heatmapgl": [
           {
            "colorbar": {
             "outlinewidth": 0,
             "ticks": ""
            },
            "colorscale": [
             [
              0,
              "#0d0887"
             ],
             [
              0.1111111111111111,
              "#46039f"
             ],
             [
              0.2222222222222222,
              "#7201a8"
             ],
             [
              0.3333333333333333,
              "#9c179e"
             ],
             [
              0.4444444444444444,
              "#bd3786"
             ],
             [
              0.5555555555555556,
              "#d8576b"
             ],
             [
              0.6666666666666666,
              "#ed7953"
             ],
             [
              0.7777777777777778,
              "#fb9f3a"
             ],
             [
              0.8888888888888888,
              "#fdca26"
             ],
             [
              1,
              "#f0f921"
             ]
            ],
            "type": "heatmapgl"
           }
          ],
          "histogram": [
           {
            "marker": {
             "colorbar": {
              "outlinewidth": 0,
              "ticks": ""
             }
            },
            "type": "histogram"
           }
          ],
          "histogram2d": [
           {
            "colorbar": {
             "outlinewidth": 0,
             "ticks": ""
            },
            "colorscale": [
             [
              0,
              "#0d0887"
             ],
             [
              0.1111111111111111,
              "#46039f"
             ],
             [
              0.2222222222222222,
              "#7201a8"
             ],
             [
              0.3333333333333333,
              "#9c179e"
             ],
             [
              0.4444444444444444,
              "#bd3786"
             ],
             [
              0.5555555555555556,
              "#d8576b"
             ],
             [
              0.6666666666666666,
              "#ed7953"
             ],
             [
              0.7777777777777778,
              "#fb9f3a"
             ],
             [
              0.8888888888888888,
              "#fdca26"
             ],
             [
              1,
              "#f0f921"
             ]
            ],
            "type": "histogram2d"
           }
          ],
          "histogram2dcontour": [
           {
            "colorbar": {
             "outlinewidth": 0,
             "ticks": ""
            },
            "colorscale": [
             [
              0,
              "#0d0887"
             ],
             [
              0.1111111111111111,
              "#46039f"
             ],
             [
              0.2222222222222222,
              "#7201a8"
             ],
             [
              0.3333333333333333,
              "#9c179e"
             ],
             [
              0.4444444444444444,
              "#bd3786"
             ],
             [
              0.5555555555555556,
              "#d8576b"
             ],
             [
              0.6666666666666666,
              "#ed7953"
             ],
             [
              0.7777777777777778,
              "#fb9f3a"
             ],
             [
              0.8888888888888888,
              "#fdca26"
             ],
             [
              1,
              "#f0f921"
             ]
            ],
            "type": "histogram2dcontour"
           }
          ],
          "mesh3d": [
           {
            "colorbar": {
             "outlinewidth": 0,
             "ticks": ""
            },
            "type": "mesh3d"
           }
          ],
          "parcoords": [
           {
            "line": {
             "colorbar": {
              "outlinewidth": 0,
              "ticks": ""
             }
            },
            "type": "parcoords"
           }
          ],
          "pie": [
           {
            "automargin": true,
            "type": "pie"
           }
          ],
          "scatter": [
           {
            "marker": {
             "colorbar": {
              "outlinewidth": 0,
              "ticks": ""
             }
            },
            "type": "scatter"
           }
          ],
          "scatter3d": [
           {
            "line": {
             "colorbar": {
              "outlinewidth": 0,
              "ticks": ""
             }
            },
            "marker": {
             "colorbar": {
              "outlinewidth": 0,
              "ticks": ""
             }
            },
            "type": "scatter3d"
           }
          ],
          "scattercarpet": [
           {
            "marker": {
             "colorbar": {
              "outlinewidth": 0,
              "ticks": ""
             }
            },
            "type": "scattercarpet"
           }
          ],
          "scattergeo": [
           {
            "marker": {
             "colorbar": {
              "outlinewidth": 0,
              "ticks": ""
             }
            },
            "type": "scattergeo"
           }
          ],
          "scattergl": [
           {
            "marker": {
             "colorbar": {
              "outlinewidth": 0,
              "ticks": ""
             }
            },
            "type": "scattergl"
           }
          ],
          "scattermapbox": [
           {
            "marker": {
             "colorbar": {
              "outlinewidth": 0,
              "ticks": ""
             }
            },
            "type": "scattermapbox"
           }
          ],
          "scatterpolar": [
           {
            "marker": {
             "colorbar": {
              "outlinewidth": 0,
              "ticks": ""
             }
            },
            "type": "scatterpolar"
           }
          ],
          "scatterpolargl": [
           {
            "marker": {
             "colorbar": {
              "outlinewidth": 0,
              "ticks": ""
             }
            },
            "type": "scatterpolargl"
           }
          ],
          "scatterternary": [
           {
            "marker": {
             "colorbar": {
              "outlinewidth": 0,
              "ticks": ""
             }
            },
            "type": "scatterternary"
           }
          ],
          "surface": [
           {
            "colorbar": {
             "outlinewidth": 0,
             "ticks": ""
            },
            "colorscale": [
             [
              0,
              "#0d0887"
             ],
             [
              0.1111111111111111,
              "#46039f"
             ],
             [
              0.2222222222222222,
              "#7201a8"
             ],
             [
              0.3333333333333333,
              "#9c179e"
             ],
             [
              0.4444444444444444,
              "#bd3786"
             ],
             [
              0.5555555555555556,
              "#d8576b"
             ],
             [
              0.6666666666666666,
              "#ed7953"
             ],
             [
              0.7777777777777778,
              "#fb9f3a"
             ],
             [
              0.8888888888888888,
              "#fdca26"
             ],
             [
              1,
              "#f0f921"
             ]
            ],
            "type": "surface"
           }
          ],
          "table": [
           {
            "cells": {
             "fill": {
              "color": "#EBF0F8"
             },
             "line": {
              "color": "white"
             }
            },
            "header": {
             "fill": {
              "color": "#C8D4E3"
             },
             "line": {
              "color": "white"
             }
            },
            "type": "table"
           }
          ]
         },
         "layout": {
          "annotationdefaults": {
           "arrowcolor": "#2a3f5f",
           "arrowhead": 0,
           "arrowwidth": 1
          },
          "coloraxis": {
           "colorbar": {
            "outlinewidth": 0,
            "ticks": ""
           }
          },
          "colorscale": {
           "diverging": [
            [
             0,
             "#8e0152"
            ],
            [
             0.1,
             "#c51b7d"
            ],
            [
             0.2,
             "#de77ae"
            ],
            [
             0.3,
             "#f1b6da"
            ],
            [
             0.4,
             "#fde0ef"
            ],
            [
             0.5,
             "#f7f7f7"
            ],
            [
             0.6,
             "#e6f5d0"
            ],
            [
             0.7,
             "#b8e186"
            ],
            [
             0.8,
             "#7fbc41"
            ],
            [
             0.9,
             "#4d9221"
            ],
            [
             1,
             "#276419"
            ]
           ],
           "sequential": [
            [
             0,
             "#0d0887"
            ],
            [
             0.1111111111111111,
             "#46039f"
            ],
            [
             0.2222222222222222,
             "#7201a8"
            ],
            [
             0.3333333333333333,
             "#9c179e"
            ],
            [
             0.4444444444444444,
             "#bd3786"
            ],
            [
             0.5555555555555556,
             "#d8576b"
            ],
            [
             0.6666666666666666,
             "#ed7953"
            ],
            [
             0.7777777777777778,
             "#fb9f3a"
            ],
            [
             0.8888888888888888,
             "#fdca26"
            ],
            [
             1,
             "#f0f921"
            ]
           ],
           "sequentialminus": [
            [
             0,
             "#0d0887"
            ],
            [
             0.1111111111111111,
             "#46039f"
            ],
            [
             0.2222222222222222,
             "#7201a8"
            ],
            [
             0.3333333333333333,
             "#9c179e"
            ],
            [
             0.4444444444444444,
             "#bd3786"
            ],
            [
             0.5555555555555556,
             "#d8576b"
            ],
            [
             0.6666666666666666,
             "#ed7953"
            ],
            [
             0.7777777777777778,
             "#fb9f3a"
            ],
            [
             0.8888888888888888,
             "#fdca26"
            ],
            [
             1,
             "#f0f921"
            ]
           ]
          },
          "colorway": [
           "#636efa",
           "#EF553B",
           "#00cc96",
           "#ab63fa",
           "#FFA15A",
           "#19d3f3",
           "#FF6692",
           "#B6E880",
           "#FF97FF",
           "#FECB52"
          ],
          "font": {
           "color": "#2a3f5f"
          },
          "geo": {
           "bgcolor": "white",
           "lakecolor": "white",
           "landcolor": "white",
           "showlakes": true,
           "showland": true,
           "subunitcolor": "#C8D4E3"
          },
          "hoverlabel": {
           "align": "left"
          },
          "hovermode": "closest",
          "mapbox": {
           "style": "light"
          },
          "paper_bgcolor": "white",
          "plot_bgcolor": "white",
          "polar": {
           "angularaxis": {
            "gridcolor": "#EBF0F8",
            "linecolor": "#EBF0F8",
            "ticks": ""
           },
           "bgcolor": "white",
           "radialaxis": {
            "gridcolor": "#EBF0F8",
            "linecolor": "#EBF0F8",
            "ticks": ""
           }
          },
          "scene": {
           "xaxis": {
            "backgroundcolor": "white",
            "gridcolor": "#DFE8F3",
            "gridwidth": 2,
            "linecolor": "#EBF0F8",
            "showbackground": true,
            "ticks": "",
            "zerolinecolor": "#EBF0F8"
           },
           "yaxis": {
            "backgroundcolor": "white",
            "gridcolor": "#DFE8F3",
            "gridwidth": 2,
            "linecolor": "#EBF0F8",
            "showbackground": true,
            "ticks": "",
            "zerolinecolor": "#EBF0F8"
           },
           "zaxis": {
            "backgroundcolor": "white",
            "gridcolor": "#DFE8F3",
            "gridwidth": 2,
            "linecolor": "#EBF0F8",
            "showbackground": true,
            "ticks": "",
            "zerolinecolor": "#EBF0F8"
           }
          },
          "shapedefaults": {
           "line": {
            "color": "#2a3f5f"
           }
          },
          "ternary": {
           "aaxis": {
            "gridcolor": "#DFE8F3",
            "linecolor": "#A2B1C6",
            "ticks": ""
           },
           "baxis": {
            "gridcolor": "#DFE8F3",
            "linecolor": "#A2B1C6",
            "ticks": ""
           },
           "bgcolor": "white",
           "caxis": {
            "gridcolor": "#DFE8F3",
            "linecolor": "#A2B1C6",
            "ticks": ""
           }
          },
          "title": {
           "x": 0.05
          },
          "xaxis": {
           "automargin": true,
           "gridcolor": "#EBF0F8",
           "linecolor": "#EBF0F8",
           "ticks": "",
           "title": {
            "standoff": 15
           },
           "zerolinecolor": "#EBF0F8",
           "zerolinewidth": 2
          },
          "yaxis": {
           "automargin": true,
           "gridcolor": "#EBF0F8",
           "linecolor": "#EBF0F8",
           "ticks": "",
           "title": {
            "standoff": 15
           },
           "zerolinecolor": "#EBF0F8",
           "zerolinewidth": 2
          }
         }
        },
        "title": {
         "text": "Subvention par année et par club"
        },
        "updatemenus": [
         {
          "buttons": [
           {
            "args": [
             {
              "visible": [
               true,
               false
              ]
             }
            ],
            "label": "2015",
            "method": "update"
           },
           {
            "args": [
             {
              "visible": [
               false,
               true
              ]
             }
            ],
            "label": "2016",
            "method": "update"
           }
          ]
         }
        ]
       }
      },
      "text/html": [
       "<div>\n",
       "        \n",
       "        \n",
       "            <div id=\"8f988418-b43b-435b-8f25-219f4c903895\" class=\"plotly-graph-div\" style=\"height:525px; width:100%;\"></div>\n",
       "            <script type=\"text/javascript\">\n",
       "                require([\"plotly\"], function(Plotly) {\n",
       "                    window.PLOTLYENV=window.PLOTLYENV || {};\n",
       "                    \n",
       "                if (document.getElementById(\"8f988418-b43b-435b-8f25-219f4c903895\")) {\n",
       "                    Plotly.newPlot(\n",
       "                        '8f988418-b43b-435b-8f25-219f4c903895',\n",
       "                        [{\"labels\": [\"Lettre\", \"Lettre\", \"Lettre\", \"Lettre\", \"Lettre\", \"Lettre\", \"Lettre\", \"Musique et Danse\", \"Musique et Danse\", \"Musique et Danse\", \"Musique et Danse\", \"Musique et Danse\", \"Musique et Danse\", \"Musique et Danse\", \"Musique et Danse\", \"Arts audiovisuel\", \"Arts audiovisuel\", \"Arts audiovisuel\", \"Arts audiovisuel\", \"Arts audiovisuel\", \"Arts plastiques\", \"Arts plastiques\", \"Action culturelle\", \"Action culturelle\", \"Action culturelle\", \"Action culturelle\", \"Action culturelle\", \"Action culturelle\", \"associations avec de caract\\u00e8re social\", \"Lettre\", \"Teathre\", \"Patrimoine\", \"Action culturelle\", \"Teathre\", \"Teathre\", \"Teathre\", \"Teathre\", \"Action culturelle\", \"Action culturelle\", \"Action culturelle\", \"Action culturelle\", \"Teathre\", \"Arts audiovisuel\", \"Arts plastiques\", \"Patrimoine\", \"Action culturelle\", \"Lettre\", \"Musique et Danse\", \"Teathre\", \"Teathre\", \"Arts plastiques\", \"Patrimoine\", \"Teathre\", \"Action culturelle\", \"Action culturelle\", \"Patrimoine\", \"Action culturelle\", \"Action culturelle\", \"Action culturelle\", \"Patrimoine\", \"Patrimoine\", \"Action culturelle\", \"Arts audiovisuel\", \"Action culturelle\", \"Action culturelle\", \"Musique et Danse\", \"Arts plastiques\", \"Patrimoine\", \"Musique et Danse\", \"Lettre\", \"Arts plastiques\", \"Arts plastiques\", \"Patrimoine\", \"Action culturelle\", \"Action culturelle\", \"Musique et Danse\", \"Action culturelle\", \"Action culturelle\", \"Action culturelle\", \"Lettre\", \"Lettre\", \"Arts plastiques\", \"Patrimoine\", \"Action culturelle\", \"Action culturelle\", \"Action culturelle\", \"Lettre\", \"Lettre\", \"Arts audiovisuel\", \"Action culturelle\", \"Action culturelle\", \"Action culturelle\", \"Action culturelle\", \"Lettre\", \"Patrimoine\", \"Patrimoine\", \"Patrimoine\", \"Action culturelle\", \"Action culturelle\", \"Teathre\", \"Arts plastiques\", \"Arts plastiques\", \"Patrimoine\", \"Action culturelle\", \"Action culturelle\"], \"name\": \"2015\", \"type\": \"pie\", \"values\": [1000, 3000, 1500, 2500, 6000, 10000, 94000, 3000, 3000, 20000, 25000, 120000, 3000, 5000, 2000, 13000, 8000, 23000, 50000, 5000, 15000, 20000, 2500, 15000, 2000, 2000, 3000, 3000, 6000, 3000, 2000, 7000, 2000, 3000, 2000, 1000, 1500, 3000, 3000, 3000, 10000, 10000, 2500, 4500, 2000, 10000, 4000, 4000, 3000, 20000, 10000, 5000, 7000, 2000, 80000, 4000, 3000, 10000, 3000, 7000, 3000, 8000, 10000, 3000, 82000, 6500, 5000, 12000, 95000, 10000, 6000, 45000, 10000, 10000, 3000, 25000, 4000, 5000, 28000, 4500, 3000, 1500, 3000, 5000, 4000, 4000, 5000, 12000, 25000, 5000, 40000, 3000, 20000, 5000, 5000, 5000, 12000, 3000, 15000, 3500, 2000, 3000, 4000, 4000, 3500], \"visible\": true}, {\"labels\": [\"Action Culturelle\", \"Arts audio-visuels\", \"Arts plastiques\", \"Arts sc\\u00e9niques\", \"Autres\", \"Lettres\", \"Manifestations et Festivals culturels\", \"Musique \", \"Patrimoine\"], \"name\": \"2016\", \"type\": \"pie\", \"values\": [64.0, 195.0, 116.3, 117.5, 16.0, 144.5, 560.25, 242.5, 81.5], \"visible\": false}],\n",
       "                        {\"font\": {\"family\": \" Gravitas One, cursive\", \"size\": 13}, \"template\": {\"data\": {\"bar\": [{\"error_x\": {\"color\": \"#2a3f5f\"}, \"error_y\": {\"color\": \"#2a3f5f\"}, \"marker\": {\"line\": {\"color\": \"white\", \"width\": 0.5}}, \"type\": \"bar\"}], \"barpolar\": [{\"marker\": {\"line\": {\"color\": \"white\", \"width\": 0.5}}, \"type\": \"barpolar\"}], \"carpet\": [{\"aaxis\": {\"endlinecolor\": \"#2a3f5f\", \"gridcolor\": \"#C8D4E3\", \"linecolor\": \"#C8D4E3\", \"minorgridcolor\": \"#C8D4E3\", \"startlinecolor\": \"#2a3f5f\"}, \"baxis\": {\"endlinecolor\": \"#2a3f5f\", \"gridcolor\": \"#C8D4E3\", \"linecolor\": \"#C8D4E3\", \"minorgridcolor\": \"#C8D4E3\", \"startlinecolor\": \"#2a3f5f\"}, \"type\": \"carpet\"}], \"choropleth\": [{\"colorbar\": {\"outlinewidth\": 0, \"ticks\": \"\"}, \"type\": \"choropleth\"}], \"contour\": [{\"colorbar\": {\"outlinewidth\": 0, \"ticks\": \"\"}, \"colorscale\": [[0.0, \"#0d0887\"], [0.1111111111111111, \"#46039f\"], [0.2222222222222222, \"#7201a8\"], [0.3333333333333333, \"#9c179e\"], [0.4444444444444444, \"#bd3786\"], [0.5555555555555556, \"#d8576b\"], [0.6666666666666666, \"#ed7953\"], [0.7777777777777778, \"#fb9f3a\"], [0.8888888888888888, \"#fdca26\"], [1.0, \"#f0f921\"]], \"type\": \"contour\"}], \"contourcarpet\": [{\"colorbar\": {\"outlinewidth\": 0, \"ticks\": \"\"}, \"type\": \"contourcarpet\"}], \"heatmap\": [{\"colorbar\": {\"outlinewidth\": 0, \"ticks\": \"\"}, \"colorscale\": [[0.0, \"#0d0887\"], [0.1111111111111111, \"#46039f\"], [0.2222222222222222, \"#7201a8\"], [0.3333333333333333, \"#9c179e\"], [0.4444444444444444, \"#bd3786\"], [0.5555555555555556, \"#d8576b\"], [0.6666666666666666, \"#ed7953\"], [0.7777777777777778, \"#fb9f3a\"], [0.8888888888888888, \"#fdca26\"], [1.0, \"#f0f921\"]], \"type\": \"heatmap\"}], \"heatmapgl\": [{\"colorbar\": {\"outlinewidth\": 0, \"ticks\": \"\"}, \"colorscale\": [[0.0, \"#0d0887\"], [0.1111111111111111, \"#46039f\"], [0.2222222222222222, \"#7201a8\"], [0.3333333333333333, \"#9c179e\"], [0.4444444444444444, \"#bd3786\"], [0.5555555555555556, \"#d8576b\"], [0.6666666666666666, \"#ed7953\"], [0.7777777777777778, \"#fb9f3a\"], [0.8888888888888888, \"#fdca26\"], [1.0, \"#f0f921\"]], \"type\": \"heatmapgl\"}], \"histogram\": [{\"marker\": {\"colorbar\": {\"outlinewidth\": 0, \"ticks\": \"\"}}, \"type\": \"histogram\"}], \"histogram2d\": [{\"colorbar\": {\"outlinewidth\": 0, \"ticks\": \"\"}, \"colorscale\": [[0.0, \"#0d0887\"], [0.1111111111111111, \"#46039f\"], [0.2222222222222222, \"#7201a8\"], [0.3333333333333333, \"#9c179e\"], [0.4444444444444444, \"#bd3786\"], [0.5555555555555556, \"#d8576b\"], [0.6666666666666666, \"#ed7953\"], [0.7777777777777778, \"#fb9f3a\"], [0.8888888888888888, \"#fdca26\"], [1.0, \"#f0f921\"]], \"type\": \"histogram2d\"}], \"histogram2dcontour\": [{\"colorbar\": {\"outlinewidth\": 0, \"ticks\": \"\"}, \"colorscale\": [[0.0, \"#0d0887\"], [0.1111111111111111, \"#46039f\"], [0.2222222222222222, \"#7201a8\"], [0.3333333333333333, \"#9c179e\"], [0.4444444444444444, \"#bd3786\"], [0.5555555555555556, \"#d8576b\"], [0.6666666666666666, \"#ed7953\"], [0.7777777777777778, \"#fb9f3a\"], [0.8888888888888888, \"#fdca26\"], [1.0, \"#f0f921\"]], \"type\": \"histogram2dcontour\"}], \"mesh3d\": [{\"colorbar\": {\"outlinewidth\": 0, \"ticks\": \"\"}, \"type\": \"mesh3d\"}], \"parcoords\": [{\"line\": {\"colorbar\": {\"outlinewidth\": 0, \"ticks\": \"\"}}, \"type\": \"parcoords\"}], \"pie\": [{\"automargin\": true, \"type\": \"pie\"}], \"scatter\": [{\"marker\": {\"colorbar\": {\"outlinewidth\": 0, \"ticks\": \"\"}}, \"type\": \"scatter\"}], \"scatter3d\": [{\"line\": {\"colorbar\": {\"outlinewidth\": 0, \"ticks\": \"\"}}, \"marker\": {\"colorbar\": {\"outlinewidth\": 0, \"ticks\": \"\"}}, \"type\": \"scatter3d\"}], \"scattercarpet\": [{\"marker\": {\"colorbar\": {\"outlinewidth\": 0, \"ticks\": \"\"}}, \"type\": \"scattercarpet\"}], \"scattergeo\": [{\"marker\": {\"colorbar\": {\"outlinewidth\": 0, \"ticks\": \"\"}}, \"type\": \"scattergeo\"}], \"scattergl\": [{\"marker\": {\"colorbar\": {\"outlinewidth\": 0, \"ticks\": \"\"}}, \"type\": \"scattergl\"}], \"scattermapbox\": [{\"marker\": {\"colorbar\": {\"outlinewidth\": 0, \"ticks\": \"\"}}, \"type\": \"scattermapbox\"}], \"scatterpolar\": [{\"marker\": {\"colorbar\": {\"outlinewidth\": 0, \"ticks\": \"\"}}, \"type\": \"scatterpolar\"}], \"scatterpolargl\": [{\"marker\": {\"colorbar\": {\"outlinewidth\": 0, \"ticks\": \"\"}}, \"type\": \"scatterpolargl\"}], \"scatterternary\": [{\"marker\": {\"colorbar\": {\"outlinewidth\": 0, \"ticks\": \"\"}}, \"type\": \"scatterternary\"}], \"surface\": [{\"colorbar\": {\"outlinewidth\": 0, \"ticks\": \"\"}, \"colorscale\": [[0.0, \"#0d0887\"], [0.1111111111111111, \"#46039f\"], [0.2222222222222222, \"#7201a8\"], [0.3333333333333333, \"#9c179e\"], [0.4444444444444444, \"#bd3786\"], [0.5555555555555556, \"#d8576b\"], [0.6666666666666666, \"#ed7953\"], [0.7777777777777778, \"#fb9f3a\"], [0.8888888888888888, \"#fdca26\"], [1.0, \"#f0f921\"]], \"type\": \"surface\"}], \"table\": [{\"cells\": {\"fill\": {\"color\": \"#EBF0F8\"}, \"line\": {\"color\": \"white\"}}, \"header\": {\"fill\": {\"color\": \"#C8D4E3\"}, \"line\": {\"color\": \"white\"}}, \"type\": \"table\"}]}, \"layout\": {\"annotationdefaults\": {\"arrowcolor\": \"#2a3f5f\", \"arrowhead\": 0, \"arrowwidth\": 1}, \"coloraxis\": {\"colorbar\": {\"outlinewidth\": 0, \"ticks\": \"\"}}, \"colorscale\": {\"diverging\": [[0, \"#8e0152\"], [0.1, \"#c51b7d\"], [0.2, \"#de77ae\"], [0.3, \"#f1b6da\"], [0.4, \"#fde0ef\"], [0.5, \"#f7f7f7\"], [0.6, \"#e6f5d0\"], [0.7, \"#b8e186\"], [0.8, \"#7fbc41\"], [0.9, \"#4d9221\"], [1, \"#276419\"]], \"sequential\": [[0.0, \"#0d0887\"], [0.1111111111111111, \"#46039f\"], [0.2222222222222222, \"#7201a8\"], [0.3333333333333333, \"#9c179e\"], [0.4444444444444444, \"#bd3786\"], [0.5555555555555556, \"#d8576b\"], [0.6666666666666666, \"#ed7953\"], [0.7777777777777778, \"#fb9f3a\"], [0.8888888888888888, \"#fdca26\"], [1.0, \"#f0f921\"]], \"sequentialminus\": [[0.0, \"#0d0887\"], [0.1111111111111111, \"#46039f\"], [0.2222222222222222, \"#7201a8\"], [0.3333333333333333, \"#9c179e\"], [0.4444444444444444, \"#bd3786\"], [0.5555555555555556, \"#d8576b\"], [0.6666666666666666, \"#ed7953\"], [0.7777777777777778, \"#fb9f3a\"], [0.8888888888888888, \"#fdca26\"], [1.0, \"#f0f921\"]]}, \"colorway\": [\"#636efa\", \"#EF553B\", \"#00cc96\", \"#ab63fa\", \"#FFA15A\", \"#19d3f3\", \"#FF6692\", \"#B6E880\", \"#FF97FF\", \"#FECB52\"], \"font\": {\"color\": \"#2a3f5f\"}, \"geo\": {\"bgcolor\": \"white\", \"lakecolor\": \"white\", \"landcolor\": \"white\", \"showlakes\": true, \"showland\": true, \"subunitcolor\": \"#C8D4E3\"}, \"hoverlabel\": {\"align\": \"left\"}, \"hovermode\": \"closest\", \"mapbox\": {\"style\": \"light\"}, \"paper_bgcolor\": \"white\", \"plot_bgcolor\": \"white\", \"polar\": {\"angularaxis\": {\"gridcolor\": \"#EBF0F8\", \"linecolor\": \"#EBF0F8\", \"ticks\": \"\"}, \"bgcolor\": \"white\", \"radialaxis\": {\"gridcolor\": \"#EBF0F8\", \"linecolor\": \"#EBF0F8\", \"ticks\": \"\"}}, \"scene\": {\"xaxis\": {\"backgroundcolor\": \"white\", \"gridcolor\": \"#DFE8F3\", \"gridwidth\": 2, \"linecolor\": \"#EBF0F8\", \"showbackground\": true, \"ticks\": \"\", \"zerolinecolor\": \"#EBF0F8\"}, \"yaxis\": {\"backgroundcolor\": \"white\", \"gridcolor\": \"#DFE8F3\", \"gridwidth\": 2, \"linecolor\": \"#EBF0F8\", \"showbackground\": true, \"ticks\": \"\", \"zerolinecolor\": \"#EBF0F8\"}, \"zaxis\": {\"backgroundcolor\": \"white\", \"gridcolor\": \"#DFE8F3\", \"gridwidth\": 2, \"linecolor\": \"#EBF0F8\", \"showbackground\": true, \"ticks\": \"\", \"zerolinecolor\": \"#EBF0F8\"}}, \"shapedefaults\": {\"line\": {\"color\": \"#2a3f5f\"}}, \"ternary\": {\"aaxis\": {\"gridcolor\": \"#DFE8F3\", \"linecolor\": \"#A2B1C6\", \"ticks\": \"\"}, \"baxis\": {\"gridcolor\": \"#DFE8F3\", \"linecolor\": \"#A2B1C6\", \"ticks\": \"\"}, \"bgcolor\": \"white\", \"caxis\": {\"gridcolor\": \"#DFE8F3\", \"linecolor\": \"#A2B1C6\", \"ticks\": \"\"}}, \"title\": {\"x\": 0.05}, \"xaxis\": {\"automargin\": true, \"gridcolor\": \"#EBF0F8\", \"linecolor\": \"#EBF0F8\", \"ticks\": \"\", \"title\": {\"standoff\": 15}, \"zerolinecolor\": \"#EBF0F8\", \"zerolinewidth\": 2}, \"yaxis\": {\"automargin\": true, \"gridcolor\": \"#EBF0F8\", \"linecolor\": \"#EBF0F8\", \"ticks\": \"\", \"title\": {\"standoff\": 15}, \"zerolinecolor\": \"#EBF0F8\", \"zerolinewidth\": 2}}}, \"title\": {\"text\": \"Subvention par ann\\u00e9e et par club\"}, \"updatemenus\": [{\"buttons\": [{\"args\": [{\"visible\": [true, false]}], \"label\": \"2015\", \"method\": \"update\"}, {\"args\": [{\"visible\": [false, true]}], \"label\": \"2016\", \"method\": \"update\"}]}]},\n",
       "                        {\"responsive\": true}\n",
       "                    ).then(function(){\n",
       "                            \n",
       "var gd = document.getElementById('8f988418-b43b-435b-8f25-219f4c903895');\n",
       "var x = new MutationObserver(function (mutations, observer) {{\n",
       "        var display = window.getComputedStyle(gd).display;\n",
       "        if (!display || display === 'none') {{\n",
       "            console.log([gd, 'removed!']);\n",
       "            Plotly.purge(gd);\n",
       "            observer.disconnect();\n",
       "        }}\n",
       "}});\n",
       "\n",
       "// Listen for the removal of the full notebook cells\n",
       "var notebookContainer = gd.closest('#notebook-container');\n",
       "if (notebookContainer) {{\n",
       "    x.observe(notebookContainer, {childList: true});\n",
       "}}\n",
       "\n",
       "// Listen for the clearing of the current output cell\n",
       "var outputEl = gd.closest('.output');\n",
       "if (outputEl) {{\n",
       "    x.observe(outputEl, {childList: true});\n",
       "}}\n",
       "\n",
       "                        })\n",
       "                };\n",
       "                });\n",
       "            </script>\n",
       "        </div>"
      ]
     },
     "metadata": {},
     "output_type": "display_data"
    }
   ],
   "source": [
    "import plotly.express as px\n",
    "import pandas as pd \n",
    "df=pd.read_csv('subventions-cadre-financement-public-associations-2016-secteur.csv')\n",
    "\n",
    "df14=pd.read_csv('subventionsdeassociations20151.csv')\n",
    "df6=df14.groupby('Secteur_f').sum()\n",
    "\n",
    "\n",
    "\n",
    "\n",
    "df3=df.groupby('Secteur').sum()\n",
    "\n",
    "\n",
    "\n",
    "data_pie=[go.Pie(name='2015',\n",
    "                 labels=df14['Secteur_f'], values=df14['subvention_2014'],\n",
    "           visible=True,\n",
    "           ),\n",
    "          \n",
    "         go.Pie(name='2016',\n",
    "           visible=False,\n",
    "                labels=df3.index, values=df3['Subvention']),]\n",
    "list_updatemenus=[\n",
    "        {'args':[{\"visible\":[True,False]}],\n",
    "         'label':\"2015\",\n",
    "         'method':\"update\"},\n",
    "    \n",
    "        {'args':[{\"visible\":[False,True,]}],\n",
    "         'label':\"2016\",\n",
    "         'method':\"update\"},]\n",
    "layout_pie=go.Layout(updatemenus=list([dict(buttons= list_updatemenus)]),\n",
    "                     title_text=\"Subvention par année et par club\",\n",
    "                     template='plotly_white',\n",
    "                     font=dict(\n",
    "                    family=\" Gravitas One, cursive\",\n",
    "                    size=13))\n",
    "\n",
    "#defining figure and plotting\n",
    "fig_bar_15 = go.Figure(data_pie,layout_pie)\n",
    "fig_bar_15.show()\n"
   ]
  },
  {
   "cell_type": "code",
   "execution_count": 15,
   "metadata": {
    "scrolled": false
   },
   "outputs": [
    {
     "data": {
      "application/vnd.plotly.v1+json": {
       "config": {
        "plotlyServerURL": "https://plot.ly"
       },
       "data": [
        {
         "marker": {
          "color": "royalblue"
         },
         "name": "Tunis",
         "type": "scatter",
         "visible": true,
         "x": [
          2011,
          2012,
          2013,
          2014,
          2015,
          2016
         ],
         "y": [
          40,
          39,
          39,
          39,
          40,
          40
         ]
        },
        {
         "marker": {
          "color": "royalblue"
         },
         "name": "Nord est",
         "type": "scatter",
         "visible": false,
         "x": [
          2011,
          2012,
          2013,
          2014,
          2015,
          2016
         ],
         "y": [
          22,
          21,
          21,
          21,
          22,
          24
         ]
        },
        {
         "marker": {
          "color": "royalblue"
         },
         "name": "Nord west ",
         "type": "scatter",
         "visible": false,
         "x": [
          2011,
          2012,
          2013,
          2014,
          2015,
          2016
         ],
         "y": [
          36,
          33,
          34,
          34,
          34,
          34
         ]
        },
        {
         "marker": {
          "color": "royalblue"
         },
         "name": "Centre est ",
         "type": "scatter",
         "visible": false,
         "x": [
          2011,
          2012,
          2013,
          2014,
          2015,
          2016
         ],
         "y": [
          50,
          50,
          51,
          52,
          52,
          52
         ]
        },
        {
         "marker": {
          "color": "royalblue"
         },
         "name": "Centre west ",
         "type": "scatter",
         "visible": false,
         "x": [
          2011,
          2012,
          2013,
          2014,
          2015,
          2016
         ],
         "y": [
          30,
          30,
          30,
          30,
          30,
          30
         ]
        },
        {
         "marker": {
          "color": "royalblue"
         },
         "name": "Sud est ",
         "type": "scatter",
         "visible": false,
         "x": [
          2011,
          2012,
          2013,
          2014,
          2015,
          2016
         ],
         "y": [
          20,
          20,
          21,
          21,
          23,
          23
         ]
        },
        {
         "marker": {
          "color": "royalblue"
         },
         "name": "Sud west ",
         "type": "scatter",
         "visible": false,
         "x": [
          2011,
          2012,
          2013,
          2014,
          2015,
          2016
         ],
         "y": [
          17,
          15,
          15,
          15,
          15,
          17
         ]
        }
       ],
       "layout": {
        "font": {
         "family": " Gravitas One, cursive",
         "size": 13
        },
        "template": {
         "data": {
          "bar": [
           {
            "error_x": {
             "color": "#2a3f5f"
            },
            "error_y": {
             "color": "#2a3f5f"
            },
            "marker": {
             "line": {
              "color": "white",
              "width": 0.5
             }
            },
            "type": "bar"
           }
          ],
          "barpolar": [
           {
            "marker": {
             "line": {
              "color": "white",
              "width": 0.5
             }
            },
            "type": "barpolar"
           }
          ],
          "carpet": [
           {
            "aaxis": {
             "endlinecolor": "#2a3f5f",
             "gridcolor": "#C8D4E3",
             "linecolor": "#C8D4E3",
             "minorgridcolor": "#C8D4E3",
             "startlinecolor": "#2a3f5f"
            },
            "baxis": {
             "endlinecolor": "#2a3f5f",
             "gridcolor": "#C8D4E3",
             "linecolor": "#C8D4E3",
             "minorgridcolor": "#C8D4E3",
             "startlinecolor": "#2a3f5f"
            },
            "type": "carpet"
           }
          ],
          "choropleth": [
           {
            "colorbar": {
             "outlinewidth": 0,
             "ticks": ""
            },
            "type": "choropleth"
           }
          ],
          "contour": [
           {
            "colorbar": {
             "outlinewidth": 0,
             "ticks": ""
            },
            "colorscale": [
             [
              0,
              "#0d0887"
             ],
             [
              0.1111111111111111,
              "#46039f"
             ],
             [
              0.2222222222222222,
              "#7201a8"
             ],
             [
              0.3333333333333333,
              "#9c179e"
             ],
             [
              0.4444444444444444,
              "#bd3786"
             ],
             [
              0.5555555555555556,
              "#d8576b"
             ],
             [
              0.6666666666666666,
              "#ed7953"
             ],
             [
              0.7777777777777778,
              "#fb9f3a"
             ],
             [
              0.8888888888888888,
              "#fdca26"
             ],
             [
              1,
              "#f0f921"
             ]
            ],
            "type": "contour"
           }
          ],
          "contourcarpet": [
           {
            "colorbar": {
             "outlinewidth": 0,
             "ticks": ""
            },
            "type": "contourcarpet"
           }
          ],
          "heatmap": [
           {
            "colorbar": {
             "outlinewidth": 0,
             "ticks": ""
            },
            "colorscale": [
             [
              0,
              "#0d0887"
             ],
             [
              0.1111111111111111,
              "#46039f"
             ],
             [
              0.2222222222222222,
              "#7201a8"
             ],
             [
              0.3333333333333333,
              "#9c179e"
             ],
             [
              0.4444444444444444,
              "#bd3786"
             ],
             [
              0.5555555555555556,
              "#d8576b"
             ],
             [
              0.6666666666666666,
              "#ed7953"
             ],
             [
              0.7777777777777778,
              "#fb9f3a"
             ],
             [
              0.8888888888888888,
              "#fdca26"
             ],
             [
              1,
              "#f0f921"
             ]
            ],
            "type": "heatmap"
           }
          ],
          "heatmapgl": [
           {
            "colorbar": {
             "outlinewidth": 0,
             "ticks": ""
            },
            "colorscale": [
             [
              0,
              "#0d0887"
             ],
             [
              0.1111111111111111,
              "#46039f"
             ],
             [
              0.2222222222222222,
              "#7201a8"
             ],
             [
              0.3333333333333333,
              "#9c179e"
             ],
             [
              0.4444444444444444,
              "#bd3786"
             ],
             [
              0.5555555555555556,
              "#d8576b"
             ],
             [
              0.6666666666666666,
              "#ed7953"
             ],
             [
              0.7777777777777778,
              "#fb9f3a"
             ],
             [
              0.8888888888888888,
              "#fdca26"
             ],
             [
              1,
              "#f0f921"
             ]
            ],
            "type": "heatmapgl"
           }
          ],
          "histogram": [
           {
            "marker": {
             "colorbar": {
              "outlinewidth": 0,
              "ticks": ""
             }
            },
            "type": "histogram"
           }
          ],
          "histogram2d": [
           {
            "colorbar": {
             "outlinewidth": 0,
             "ticks": ""
            },
            "colorscale": [
             [
              0,
              "#0d0887"
             ],
             [
              0.1111111111111111,
              "#46039f"
             ],
             [
              0.2222222222222222,
              "#7201a8"
             ],
             [
              0.3333333333333333,
              "#9c179e"
             ],
             [
              0.4444444444444444,
              "#bd3786"
             ],
             [
              0.5555555555555556,
              "#d8576b"
             ],
             [
              0.6666666666666666,
              "#ed7953"
             ],
             [
              0.7777777777777778,
              "#fb9f3a"
             ],
             [
              0.8888888888888888,
              "#fdca26"
             ],
             [
              1,
              "#f0f921"
             ]
            ],
            "type": "histogram2d"
           }
          ],
          "histogram2dcontour": [
           {
            "colorbar": {
             "outlinewidth": 0,
             "ticks": ""
            },
            "colorscale": [
             [
              0,
              "#0d0887"
             ],
             [
              0.1111111111111111,
              "#46039f"
             ],
             [
              0.2222222222222222,
              "#7201a8"
             ],
             [
              0.3333333333333333,
              "#9c179e"
             ],
             [
              0.4444444444444444,
              "#bd3786"
             ],
             [
              0.5555555555555556,
              "#d8576b"
             ],
             [
              0.6666666666666666,
              "#ed7953"
             ],
             [
              0.7777777777777778,
              "#fb9f3a"
             ],
             [
              0.8888888888888888,
              "#fdca26"
             ],
             [
              1,
              "#f0f921"
             ]
            ],
            "type": "histogram2dcontour"
           }
          ],
          "mesh3d": [
           {
            "colorbar": {
             "outlinewidth": 0,
             "ticks": ""
            },
            "type": "mesh3d"
           }
          ],
          "parcoords": [
           {
            "line": {
             "colorbar": {
              "outlinewidth": 0,
              "ticks": ""
             }
            },
            "type": "parcoords"
           }
          ],
          "pie": [
           {
            "automargin": true,
            "type": "pie"
           }
          ],
          "scatter": [
           {
            "marker": {
             "colorbar": {
              "outlinewidth": 0,
              "ticks": ""
             }
            },
            "type": "scatter"
           }
          ],
          "scatter3d": [
           {
            "line": {
             "colorbar": {
              "outlinewidth": 0,
              "ticks": ""
             }
            },
            "marker": {
             "colorbar": {
              "outlinewidth": 0,
              "ticks": ""
             }
            },
            "type": "scatter3d"
           }
          ],
          "scattercarpet": [
           {
            "marker": {
             "colorbar": {
              "outlinewidth": 0,
              "ticks": ""
             }
            },
            "type": "scattercarpet"
           }
          ],
          "scattergeo": [
           {
            "marker": {
             "colorbar": {
              "outlinewidth": 0,
              "ticks": ""
             }
            },
            "type": "scattergeo"
           }
          ],
          "scattergl": [
           {
            "marker": {
             "colorbar": {
              "outlinewidth": 0,
              "ticks": ""
             }
            },
            "type": "scattergl"
           }
          ],
          "scattermapbox": [
           {
            "marker": {
             "colorbar": {
              "outlinewidth": 0,
              "ticks": ""
             }
            },
            "type": "scattermapbox"
           }
          ],
          "scatterpolar": [
           {
            "marker": {
             "colorbar": {
              "outlinewidth": 0,
              "ticks": ""
             }
            },
            "type": "scatterpolar"
           }
          ],
          "scatterpolargl": [
           {
            "marker": {
             "colorbar": {
              "outlinewidth": 0,
              "ticks": ""
             }
            },
            "type": "scatterpolargl"
           }
          ],
          "scatterternary": [
           {
            "marker": {
             "colorbar": {
              "outlinewidth": 0,
              "ticks": ""
             }
            },
            "type": "scatterternary"
           }
          ],
          "surface": [
           {
            "colorbar": {
             "outlinewidth": 0,
             "ticks": ""
            },
            "colorscale": [
             [
              0,
              "#0d0887"
             ],
             [
              0.1111111111111111,
              "#46039f"
             ],
             [
              0.2222222222222222,
              "#7201a8"
             ],
             [
              0.3333333333333333,
              "#9c179e"
             ],
             [
              0.4444444444444444,
              "#bd3786"
             ],
             [
              0.5555555555555556,
              "#d8576b"
             ],
             [
              0.6666666666666666,
              "#ed7953"
             ],
             [
              0.7777777777777778,
              "#fb9f3a"
             ],
             [
              0.8888888888888888,
              "#fdca26"
             ],
             [
              1,
              "#f0f921"
             ]
            ],
            "type": "surface"
           }
          ],
          "table": [
           {
            "cells": {
             "fill": {
              "color": "#EBF0F8"
             },
             "line": {
              "color": "white"
             }
            },
            "header": {
             "fill": {
              "color": "#C8D4E3"
             },
             "line": {
              "color": "white"
             }
            },
            "type": "table"
           }
          ]
         },
         "layout": {
          "annotationdefaults": {
           "arrowcolor": "#2a3f5f",
           "arrowhead": 0,
           "arrowwidth": 1
          },
          "coloraxis": {
           "colorbar": {
            "outlinewidth": 0,
            "ticks": ""
           }
          },
          "colorscale": {
           "diverging": [
            [
             0,
             "#8e0152"
            ],
            [
             0.1,
             "#c51b7d"
            ],
            [
             0.2,
             "#de77ae"
            ],
            [
             0.3,
             "#f1b6da"
            ],
            [
             0.4,
             "#fde0ef"
            ],
            [
             0.5,
             "#f7f7f7"
            ],
            [
             0.6,
             "#e6f5d0"
            ],
            [
             0.7,
             "#b8e186"
            ],
            [
             0.8,
             "#7fbc41"
            ],
            [
             0.9,
             "#4d9221"
            ],
            [
             1,
             "#276419"
            ]
           ],
           "sequential": [
            [
             0,
             "#0d0887"
            ],
            [
             0.1111111111111111,
             "#46039f"
            ],
            [
             0.2222222222222222,
             "#7201a8"
            ],
            [
             0.3333333333333333,
             "#9c179e"
            ],
            [
             0.4444444444444444,
             "#bd3786"
            ],
            [
             0.5555555555555556,
             "#d8576b"
            ],
            [
             0.6666666666666666,
             "#ed7953"
            ],
            [
             0.7777777777777778,
             "#fb9f3a"
            ],
            [
             0.8888888888888888,
             "#fdca26"
            ],
            [
             1,
             "#f0f921"
            ]
           ],
           "sequentialminus": [
            [
             0,
             "#0d0887"
            ],
            [
             0.1111111111111111,
             "#46039f"
            ],
            [
             0.2222222222222222,
             "#7201a8"
            ],
            [
             0.3333333333333333,
             "#9c179e"
            ],
            [
             0.4444444444444444,
             "#bd3786"
            ],
            [
             0.5555555555555556,
             "#d8576b"
            ],
            [
             0.6666666666666666,
             "#ed7953"
            ],
            [
             0.7777777777777778,
             "#fb9f3a"
            ],
            [
             0.8888888888888888,
             "#fdca26"
            ],
            [
             1,
             "#f0f921"
            ]
           ]
          },
          "colorway": [
           "#636efa",
           "#EF553B",
           "#00cc96",
           "#ab63fa",
           "#FFA15A",
           "#19d3f3",
           "#FF6692",
           "#B6E880",
           "#FF97FF",
           "#FECB52"
          ],
          "font": {
           "color": "#2a3f5f"
          },
          "geo": {
           "bgcolor": "white",
           "lakecolor": "white",
           "landcolor": "white",
           "showlakes": true,
           "showland": true,
           "subunitcolor": "#C8D4E3"
          },
          "hoverlabel": {
           "align": "left"
          },
          "hovermode": "closest",
          "mapbox": {
           "style": "light"
          },
          "paper_bgcolor": "white",
          "plot_bgcolor": "white",
          "polar": {
           "angularaxis": {
            "gridcolor": "#EBF0F8",
            "linecolor": "#EBF0F8",
            "ticks": ""
           },
           "bgcolor": "white",
           "radialaxis": {
            "gridcolor": "#EBF0F8",
            "linecolor": "#EBF0F8",
            "ticks": ""
           }
          },
          "scene": {
           "xaxis": {
            "backgroundcolor": "white",
            "gridcolor": "#DFE8F3",
            "gridwidth": 2,
            "linecolor": "#EBF0F8",
            "showbackground": true,
            "ticks": "",
            "zerolinecolor": "#EBF0F8"
           },
           "yaxis": {
            "backgroundcolor": "white",
            "gridcolor": "#DFE8F3",
            "gridwidth": 2,
            "linecolor": "#EBF0F8",
            "showbackground": true,
            "ticks": "",
            "zerolinecolor": "#EBF0F8"
           },
           "zaxis": {
            "backgroundcolor": "white",
            "gridcolor": "#DFE8F3",
            "gridwidth": 2,
            "linecolor": "#EBF0F8",
            "showbackground": true,
            "ticks": "",
            "zerolinecolor": "#EBF0F8"
           }
          },
          "shapedefaults": {
           "line": {
            "color": "#2a3f5f"
           }
          },
          "ternary": {
           "aaxis": {
            "gridcolor": "#DFE8F3",
            "linecolor": "#A2B1C6",
            "ticks": ""
           },
           "baxis": {
            "gridcolor": "#DFE8F3",
            "linecolor": "#A2B1C6",
            "ticks": ""
           },
           "bgcolor": "white",
           "caxis": {
            "gridcolor": "#DFE8F3",
            "linecolor": "#A2B1C6",
            "ticks": ""
           }
          },
          "title": {
           "x": 0.05
          },
          "xaxis": {
           "automargin": true,
           "gridcolor": "#EBF0F8",
           "linecolor": "#EBF0F8",
           "ticks": "",
           "title": {
            "standoff": 15
           },
           "zerolinecolor": "#EBF0F8",
           "zerolinewidth": 2
          },
          "yaxis": {
           "automargin": true,
           "gridcolor": "#EBF0F8",
           "linecolor": "#EBF0F8",
           "ticks": "",
           "title": {
            "standoff": 15
           },
           "zerolinecolor": "#EBF0F8",
           "zerolinewidth": 2
          }
         }
        },
        "title": {
         "text": "Evolution des nombres de maison de culture par section"
        },
        "updatemenus": [
         {
          "buttons": [
           {
            "args": [
             {
              "visible": [
               true,
               false,
               false,
               false,
               false,
               false,
               false
              ]
             }
            ],
            "label": "Tunis",
            "method": "update"
           },
           {
            "args": [
             {
              "visible": [
               false,
               true,
               false,
               false,
               false,
               false,
               false
              ]
             }
            ],
            "label": "Nord est",
            "method": "update"
           },
           {
            "args": [
             {
              "visible": [
               false,
               false,
               true,
               false,
               false,
               false,
               false
              ]
             }
            ],
            "label": "Nord west",
            "method": "update"
           },
           {
            "args": [
             {
              "visible": [
               false,
               false,
               false,
               true,
               false,
               false,
               false
              ]
             }
            ],
            "label": "Centre est",
            "method": "update"
           },
           {
            "args": [
             {
              "visible": [
               false,
               false,
               false,
               false,
               true,
               false,
               false
              ]
             }
            ],
            "label": "Centre west",
            "method": "update"
           },
           {
            "args": [
             {
              "visible": [
               false,
               false,
               false,
               false,
               false,
               true,
               false
              ]
             }
            ],
            "label": "Sud est",
            "method": "update"
           },
           {
            "args": [
             {
              "visible": [
               false,
               false,
               false,
               false,
               false,
               false,
               true
              ]
             }
            ],
            "label": "Sud west",
            "method": "update"
           }
          ],
          "x": 0.11,
          "y": 1.1
         }
        ]
       }
      },
      "text/html": [
       "<div>\n",
       "        \n",
       "        \n",
       "            <div id=\"0720468b-cae9-4d78-8d11-0cf91cf8eb52\" class=\"plotly-graph-div\" style=\"height:525px; width:100%;\"></div>\n",
       "            <script type=\"text/javascript\">\n",
       "                require([\"plotly\"], function(Plotly) {\n",
       "                    window.PLOTLYENV=window.PLOTLYENV || {};\n",
       "                    \n",
       "                if (document.getElementById(\"0720468b-cae9-4d78-8d11-0cf91cf8eb52\")) {\n",
       "                    Plotly.newPlot(\n",
       "                        '0720468b-cae9-4d78-8d11-0cf91cf8eb52',\n",
       "                        [{\"marker\": {\"color\": \"royalblue\"}, \"name\": \"Tunis\", \"type\": \"scatter\", \"visible\": true, \"x\": [2011, 2012, 2013, 2014, 2015, 2016], \"y\": [40, 39, 39, 39, 40, 40]}, {\"marker\": {\"color\": \"royalblue\"}, \"name\": \"Nord est\", \"type\": \"scatter\", \"visible\": false, \"x\": [2011, 2012, 2013, 2014, 2015, 2016], \"y\": [22, 21, 21, 21, 22, 24]}, {\"marker\": {\"color\": \"royalblue\"}, \"name\": \"Nord west \", \"type\": \"scatter\", \"visible\": false, \"x\": [2011, 2012, 2013, 2014, 2015, 2016], \"y\": [36, 33, 34, 34, 34, 34]}, {\"marker\": {\"color\": \"royalblue\"}, \"name\": \"Centre est \", \"type\": \"scatter\", \"visible\": false, \"x\": [2011, 2012, 2013, 2014, 2015, 2016], \"y\": [50, 50, 51, 52, 52, 52]}, {\"marker\": {\"color\": \"royalblue\"}, \"name\": \"Centre west \", \"type\": \"scatter\", \"visible\": false, \"x\": [2011, 2012, 2013, 2014, 2015, 2016], \"y\": [30, 30, 30, 30, 30, 30]}, {\"marker\": {\"color\": \"royalblue\"}, \"name\": \"Sud est \", \"type\": \"scatter\", \"visible\": false, \"x\": [2011, 2012, 2013, 2014, 2015, 2016], \"y\": [20, 20, 21, 21, 23, 23]}, {\"marker\": {\"color\": \"royalblue\"}, \"name\": \"Sud west \", \"type\": \"scatter\", \"visible\": false, \"x\": [2011, 2012, 2013, 2014, 2015, 2016], \"y\": [17, 15, 15, 15, 15, 17]}],\n",
       "                        {\"font\": {\"family\": \" Gravitas One, cursive\", \"size\": 13}, \"template\": {\"data\": {\"bar\": [{\"error_x\": {\"color\": \"#2a3f5f\"}, \"error_y\": {\"color\": \"#2a3f5f\"}, \"marker\": {\"line\": {\"color\": \"white\", \"width\": 0.5}}, \"type\": \"bar\"}], \"barpolar\": [{\"marker\": {\"line\": {\"color\": \"white\", \"width\": 0.5}}, \"type\": \"barpolar\"}], \"carpet\": [{\"aaxis\": {\"endlinecolor\": \"#2a3f5f\", \"gridcolor\": \"#C8D4E3\", \"linecolor\": \"#C8D4E3\", \"minorgridcolor\": \"#C8D4E3\", \"startlinecolor\": \"#2a3f5f\"}, \"baxis\": {\"endlinecolor\": \"#2a3f5f\", \"gridcolor\": \"#C8D4E3\", \"linecolor\": \"#C8D4E3\", \"minorgridcolor\": \"#C8D4E3\", \"startlinecolor\": \"#2a3f5f\"}, \"type\": \"carpet\"}], \"choropleth\": [{\"colorbar\": {\"outlinewidth\": 0, \"ticks\": \"\"}, \"type\": \"choropleth\"}], \"contour\": [{\"colorbar\": {\"outlinewidth\": 0, \"ticks\": \"\"}, \"colorscale\": [[0.0, \"#0d0887\"], [0.1111111111111111, \"#46039f\"], [0.2222222222222222, \"#7201a8\"], [0.3333333333333333, \"#9c179e\"], [0.4444444444444444, \"#bd3786\"], [0.5555555555555556, \"#d8576b\"], [0.6666666666666666, \"#ed7953\"], [0.7777777777777778, \"#fb9f3a\"], [0.8888888888888888, \"#fdca26\"], [1.0, \"#f0f921\"]], \"type\": \"contour\"}], \"contourcarpet\": [{\"colorbar\": {\"outlinewidth\": 0, \"ticks\": \"\"}, \"type\": \"contourcarpet\"}], \"heatmap\": [{\"colorbar\": {\"outlinewidth\": 0, \"ticks\": \"\"}, \"colorscale\": [[0.0, \"#0d0887\"], [0.1111111111111111, \"#46039f\"], [0.2222222222222222, \"#7201a8\"], [0.3333333333333333, \"#9c179e\"], [0.4444444444444444, \"#bd3786\"], [0.5555555555555556, \"#d8576b\"], [0.6666666666666666, \"#ed7953\"], [0.7777777777777778, \"#fb9f3a\"], [0.8888888888888888, \"#fdca26\"], [1.0, \"#f0f921\"]], \"type\": \"heatmap\"}], \"heatmapgl\": [{\"colorbar\": {\"outlinewidth\": 0, \"ticks\": \"\"}, \"colorscale\": [[0.0, \"#0d0887\"], [0.1111111111111111, \"#46039f\"], [0.2222222222222222, \"#7201a8\"], [0.3333333333333333, \"#9c179e\"], [0.4444444444444444, \"#bd3786\"], [0.5555555555555556, \"#d8576b\"], [0.6666666666666666, \"#ed7953\"], [0.7777777777777778, \"#fb9f3a\"], [0.8888888888888888, \"#fdca26\"], [1.0, \"#f0f921\"]], \"type\": \"heatmapgl\"}], \"histogram\": [{\"marker\": {\"colorbar\": {\"outlinewidth\": 0, \"ticks\": \"\"}}, \"type\": \"histogram\"}], \"histogram2d\": [{\"colorbar\": {\"outlinewidth\": 0, \"ticks\": \"\"}, \"colorscale\": [[0.0, \"#0d0887\"], [0.1111111111111111, \"#46039f\"], [0.2222222222222222, \"#7201a8\"], [0.3333333333333333, \"#9c179e\"], [0.4444444444444444, \"#bd3786\"], [0.5555555555555556, \"#d8576b\"], [0.6666666666666666, \"#ed7953\"], [0.7777777777777778, \"#fb9f3a\"], [0.8888888888888888, \"#fdca26\"], [1.0, \"#f0f921\"]], \"type\": \"histogram2d\"}], \"histogram2dcontour\": [{\"colorbar\": {\"outlinewidth\": 0, \"ticks\": \"\"}, \"colorscale\": [[0.0, \"#0d0887\"], [0.1111111111111111, \"#46039f\"], [0.2222222222222222, \"#7201a8\"], [0.3333333333333333, \"#9c179e\"], [0.4444444444444444, \"#bd3786\"], [0.5555555555555556, \"#d8576b\"], [0.6666666666666666, \"#ed7953\"], [0.7777777777777778, \"#fb9f3a\"], [0.8888888888888888, \"#fdca26\"], [1.0, \"#f0f921\"]], \"type\": \"histogram2dcontour\"}], \"mesh3d\": [{\"colorbar\": {\"outlinewidth\": 0, \"ticks\": \"\"}, \"type\": \"mesh3d\"}], \"parcoords\": [{\"line\": {\"colorbar\": {\"outlinewidth\": 0, \"ticks\": \"\"}}, \"type\": \"parcoords\"}], \"pie\": [{\"automargin\": true, \"type\": \"pie\"}], \"scatter\": [{\"marker\": {\"colorbar\": {\"outlinewidth\": 0, \"ticks\": \"\"}}, \"type\": \"scatter\"}], \"scatter3d\": [{\"line\": {\"colorbar\": {\"outlinewidth\": 0, \"ticks\": \"\"}}, \"marker\": {\"colorbar\": {\"outlinewidth\": 0, \"ticks\": \"\"}}, \"type\": \"scatter3d\"}], \"scattercarpet\": [{\"marker\": {\"colorbar\": {\"outlinewidth\": 0, \"ticks\": \"\"}}, \"type\": \"scattercarpet\"}], \"scattergeo\": [{\"marker\": {\"colorbar\": {\"outlinewidth\": 0, \"ticks\": \"\"}}, \"type\": \"scattergeo\"}], \"scattergl\": [{\"marker\": {\"colorbar\": {\"outlinewidth\": 0, \"ticks\": \"\"}}, \"type\": \"scattergl\"}], \"scattermapbox\": [{\"marker\": {\"colorbar\": {\"outlinewidth\": 0, \"ticks\": \"\"}}, \"type\": \"scattermapbox\"}], \"scatterpolar\": [{\"marker\": {\"colorbar\": {\"outlinewidth\": 0, \"ticks\": \"\"}}, \"type\": \"scatterpolar\"}], \"scatterpolargl\": [{\"marker\": {\"colorbar\": {\"outlinewidth\": 0, \"ticks\": \"\"}}, \"type\": \"scatterpolargl\"}], \"scatterternary\": [{\"marker\": {\"colorbar\": {\"outlinewidth\": 0, \"ticks\": \"\"}}, \"type\": \"scatterternary\"}], \"surface\": [{\"colorbar\": {\"outlinewidth\": 0, \"ticks\": \"\"}, \"colorscale\": [[0.0, \"#0d0887\"], [0.1111111111111111, \"#46039f\"], [0.2222222222222222, \"#7201a8\"], [0.3333333333333333, \"#9c179e\"], [0.4444444444444444, \"#bd3786\"], [0.5555555555555556, \"#d8576b\"], [0.6666666666666666, \"#ed7953\"], [0.7777777777777778, \"#fb9f3a\"], [0.8888888888888888, \"#fdca26\"], [1.0, \"#f0f921\"]], \"type\": \"surface\"}], \"table\": [{\"cells\": {\"fill\": {\"color\": \"#EBF0F8\"}, \"line\": {\"color\": \"white\"}}, \"header\": {\"fill\": {\"color\": \"#C8D4E3\"}, \"line\": {\"color\": \"white\"}}, \"type\": \"table\"}]}, \"layout\": {\"annotationdefaults\": {\"arrowcolor\": \"#2a3f5f\", \"arrowhead\": 0, \"arrowwidth\": 1}, \"coloraxis\": {\"colorbar\": {\"outlinewidth\": 0, \"ticks\": \"\"}}, \"colorscale\": {\"diverging\": [[0, \"#8e0152\"], [0.1, \"#c51b7d\"], [0.2, \"#de77ae\"], [0.3, \"#f1b6da\"], [0.4, \"#fde0ef\"], [0.5, \"#f7f7f7\"], [0.6, \"#e6f5d0\"], [0.7, \"#b8e186\"], [0.8, \"#7fbc41\"], [0.9, \"#4d9221\"], [1, \"#276419\"]], \"sequential\": [[0.0, \"#0d0887\"], [0.1111111111111111, \"#46039f\"], [0.2222222222222222, \"#7201a8\"], [0.3333333333333333, \"#9c179e\"], [0.4444444444444444, \"#bd3786\"], [0.5555555555555556, \"#d8576b\"], [0.6666666666666666, \"#ed7953\"], [0.7777777777777778, \"#fb9f3a\"], [0.8888888888888888, \"#fdca26\"], [1.0, \"#f0f921\"]], \"sequentialminus\": [[0.0, \"#0d0887\"], [0.1111111111111111, \"#46039f\"], [0.2222222222222222, \"#7201a8\"], [0.3333333333333333, \"#9c179e\"], [0.4444444444444444, \"#bd3786\"], [0.5555555555555556, \"#d8576b\"], [0.6666666666666666, \"#ed7953\"], [0.7777777777777778, \"#fb9f3a\"], [0.8888888888888888, \"#fdca26\"], [1.0, \"#f0f921\"]]}, \"colorway\": [\"#636efa\", \"#EF553B\", \"#00cc96\", \"#ab63fa\", \"#FFA15A\", \"#19d3f3\", \"#FF6692\", \"#B6E880\", \"#FF97FF\", \"#FECB52\"], \"font\": {\"color\": \"#2a3f5f\"}, \"geo\": {\"bgcolor\": \"white\", \"lakecolor\": \"white\", \"landcolor\": \"white\", \"showlakes\": true, \"showland\": true, \"subunitcolor\": \"#C8D4E3\"}, \"hoverlabel\": {\"align\": \"left\"}, \"hovermode\": \"closest\", \"mapbox\": {\"style\": \"light\"}, \"paper_bgcolor\": \"white\", \"plot_bgcolor\": \"white\", \"polar\": {\"angularaxis\": {\"gridcolor\": \"#EBF0F8\", \"linecolor\": \"#EBF0F8\", \"ticks\": \"\"}, \"bgcolor\": \"white\", \"radialaxis\": {\"gridcolor\": \"#EBF0F8\", \"linecolor\": \"#EBF0F8\", \"ticks\": \"\"}}, \"scene\": {\"xaxis\": {\"backgroundcolor\": \"white\", \"gridcolor\": \"#DFE8F3\", \"gridwidth\": 2, \"linecolor\": \"#EBF0F8\", \"showbackground\": true, \"ticks\": \"\", \"zerolinecolor\": \"#EBF0F8\"}, \"yaxis\": {\"backgroundcolor\": \"white\", \"gridcolor\": \"#DFE8F3\", \"gridwidth\": 2, \"linecolor\": \"#EBF0F8\", \"showbackground\": true, \"ticks\": \"\", \"zerolinecolor\": \"#EBF0F8\"}, \"zaxis\": {\"backgroundcolor\": \"white\", \"gridcolor\": \"#DFE8F3\", \"gridwidth\": 2, \"linecolor\": \"#EBF0F8\", \"showbackground\": true, \"ticks\": \"\", \"zerolinecolor\": \"#EBF0F8\"}}, \"shapedefaults\": {\"line\": {\"color\": \"#2a3f5f\"}}, \"ternary\": {\"aaxis\": {\"gridcolor\": \"#DFE8F3\", \"linecolor\": \"#A2B1C6\", \"ticks\": \"\"}, \"baxis\": {\"gridcolor\": \"#DFE8F3\", \"linecolor\": \"#A2B1C6\", \"ticks\": \"\"}, \"bgcolor\": \"white\", \"caxis\": {\"gridcolor\": \"#DFE8F3\", \"linecolor\": \"#A2B1C6\", \"ticks\": \"\"}}, \"title\": {\"x\": 0.05}, \"xaxis\": {\"automargin\": true, \"gridcolor\": \"#EBF0F8\", \"linecolor\": \"#EBF0F8\", \"ticks\": \"\", \"title\": {\"standoff\": 15}, \"zerolinecolor\": \"#EBF0F8\", \"zerolinewidth\": 2}, \"yaxis\": {\"automargin\": true, \"gridcolor\": \"#EBF0F8\", \"linecolor\": \"#EBF0F8\", \"ticks\": \"\", \"title\": {\"standoff\": 15}, \"zerolinecolor\": \"#EBF0F8\", \"zerolinewidth\": 2}}}, \"title\": {\"text\": \"Evolution des nombres de maison de culture par section\"}, \"updatemenus\": [{\"buttons\": [{\"args\": [{\"visible\": [true, false, false, false, false, false, false]}], \"label\": \"Tunis\", \"method\": \"update\"}, {\"args\": [{\"visible\": [false, true, false, false, false, false, false]}], \"label\": \"Nord est\", \"method\": \"update\"}, {\"args\": [{\"visible\": [false, false, true, false, false, false, false]}], \"label\": \"Nord west\", \"method\": \"update\"}, {\"args\": [{\"visible\": [false, false, false, true, false, false, false]}], \"label\": \"Centre est\", \"method\": \"update\"}, {\"args\": [{\"visible\": [false, false, false, false, true, false, false]}], \"label\": \"Centre west\", \"method\": \"update\"}, {\"args\": [{\"visible\": [false, false, false, false, false, true, false]}], \"label\": \"Sud est\", \"method\": \"update\"}, {\"args\": [{\"visible\": [false, false, false, false, false, false, true]}], \"label\": \"Sud west\", \"method\": \"update\"}], \"x\": 0.11, \"y\": 1.1}]},\n",
       "                        {\"responsive\": true}\n",
       "                    ).then(function(){\n",
       "                            \n",
       "var gd = document.getElementById('0720468b-cae9-4d78-8d11-0cf91cf8eb52');\n",
       "var x = new MutationObserver(function (mutations, observer) {{\n",
       "        var display = window.getComputedStyle(gd).display;\n",
       "        if (!display || display === 'none') {{\n",
       "            console.log([gd, 'removed!']);\n",
       "            Plotly.purge(gd);\n",
       "            observer.disconnect();\n",
       "        }}\n",
       "}});\n",
       "\n",
       "// Listen for the removal of the full notebook cells\n",
       "var notebookContainer = gd.closest('#notebook-container');\n",
       "if (notebookContainer) {{\n",
       "    x.observe(notebookContainer, {childList: true});\n",
       "}}\n",
       "\n",
       "// Listen for the clearing of the current output cell\n",
       "var outputEl = gd.closest('.output');\n",
       "if (outputEl) {{\n",
       "    x.observe(outputEl, {childList: true});\n",
       "}}\n",
       "\n",
       "                        })\n",
       "                };\n",
       "                });\n",
       "            </script>\n",
       "        </div>"
      ]
     },
     "metadata": {},
     "output_type": "display_data"
    }
   ],
   "source": [
    "import plotly.express as px\n",
    "import plotly.graph_objects as go\n",
    "import pandas as pd\n",
    "df4=pd.read_csv('evolution-nombre-maison-cultures-section.csv') \n",
    "df7=df4.iloc[:,1:]\n",
    "df7.iloc[0]\n",
    "fig = go.Figure()\n",
    "fig = go.Figure()\n",
    "years=[2011,2012,2013,2014,2015,2016]\n",
    "data_bar=[go.Scatter(name='Tunis',\n",
    "           visible=True,\n",
    "           x=years, y=df7.iloc[0],\n",
    "           marker_color='royalblue'),\n",
    "          \n",
    "         go.Scatter(name='Nord est',\n",
    "           visible=False,\n",
    "          x=years, y=df7.iloc[1],\n",
    "          marker_color='royalblue'),\n",
    "          \n",
    "         go.Scatter(name='Nord west ',\n",
    "           visible=False,\n",
    "           x=years, y=df7.iloc[2],\n",
    "           marker_color='royalblue'),\n",
    "          \n",
    "          go.Scatter(name='Centre est ',\n",
    "           visible=False,\n",
    "           x=years, y=df7.iloc[3],\n",
    "           marker_color='royalblue'),\n",
    "          go.Scatter(name='Centre west ',\n",
    "           visible=False,\n",
    "           x=years, y=df7.iloc[4],\n",
    "           marker_color='royalblue'),\n",
    "          go.Scatter(name='Sud est ',\n",
    "           visible=False,\n",
    "           x=years, y=df7.iloc[5],\n",
    "           marker_color='royalblue'),\n",
    "          go.Scatter(name='Sud west ',\n",
    "           visible=False,\n",
    "           x=years, y=df7.iloc[6],\n",
    "           marker_color='royalblue'),\n",
    "        ]\n",
    "list_updatemenus=[\n",
    "        {'args':[{\"visible\":[True,False,False,False,False,False,False]}],\n",
    "         'label':\"Tunis\",\n",
    "         'method':\"update\"},\n",
    "    \n",
    "        {'args':[{\"visible\":[False,True,False,False,False,False,False]}],\n",
    "         'label':\"Nord est\",\n",
    "         'method':\"update\"},\n",
    "\n",
    "         {'args':[{\"visible\":[False,False,True,False,False,False,False]}],\n",
    "         'label':\"Nord west\",\n",
    "         'method':\"update\"},\n",
    "    \n",
    "         {'args':[{\"visible\":[False,False,False,True,False,False,False]}],\n",
    "         'label':\"Centre est\",\n",
    "         'method':\"update\"},\n",
    "    {'args':[{\"visible\":[False,False,False,False,True,False,False]}],\n",
    "         'label':\"Centre west\",\n",
    "         'method':\"update\"},\n",
    "    {'args':[{\"visible\":[False,False,False,False,False,True,False]}],\n",
    "         'label':\"Sud est\",\n",
    "         'method':\"update\"},\n",
    "    {'args':[{\"visible\":[False,False,False,False,False,False,True]}],\n",
    "         'label':\"Sud west\",\n",
    "         'method':\"update\"},\n",
    "    \n",
    "    \n",
    "\n",
    "\n",
    "\n",
    "]\n",
    "layout_bar=go.Layout(updatemenus=list([dict(buttons= list_updatemenus, y=1.1 ,x=0.11)]),\n",
    "                     title_text=\"Evolution des nombres de maison de culture par section\",\n",
    "                     template='plotly_white',\n",
    "                     font=dict(\n",
    "                    family=\" Gravitas One, cursive\",\n",
    "                    size=13))\n",
    "\n",
    "#defining figure and plotting\n",
    "fig_2 = go.Figure(data_bar,layout_bar)\n",
    "fig_2.show()\n"
   ]
  },
  {
   "cell_type": "code",
   "execution_count": 16,
   "metadata": {},
   "outputs": [
    {
     "data": {
      "text/html": [
       "<div style=\"width:100%;\"><div style=\"position:relative;width:100%;height:0;padding-bottom:60%;\"><iframe src=\"about:blank\" style=\"position:absolute;width:100%;height:100%;left:0;top:0;border:none !important;\" data-html=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 onload=\"this.contentDocument.open();this.contentDocument.write(atob(this.getAttribute('data-html')));this.contentDocument.close();\" allowfullscreen webkitallowfullscreen mozallowfullscreen></iframe></div></div>"
      ],
      "text/plain": [
       "<folium.folium.Map at 0x178baefcc88>"
      ]
     },
     "execution_count": 16,
     "metadata": {},
     "output_type": "execute_result"
    }
   ],
   "source": [
    "import folium\n",
    "tunisia_geo = r'listegouvernoratstn (1).geojson' # geojson file of tunisia\n",
    "tunisia_map = folium.Map(location=[33.79, 9.59], zoom_start=6.49)\n",
    "\n",
    "\n",
    "import pandas as pd\n",
    "df=pd.read_csv ('evolution-nombre-maison-culture.csv')\n",
    "\n",
    "\n",
    "df['Total'] = df.sum(axis=1)\n",
    "\n",
    "folium.Marker([36.7911558,10.1804308 ], popup= df.loc[0,'2016']).add_to(tunisia_map) #label the marker Tunis\n",
    "folium.Marker([36.9685735,10.1219855], popup= df.loc[1,'2016']).add_to(tunisia_map) #label the marker ariena\n",
    "folium.Marker([36.7488603,10.2246008], popup= df.loc[2,'2016']).add_to(tunisia_map) #label the marker Ben Arous\n",
    "folium.Marker([36.808812726759626,10.086532577929486], popup= df.loc[3,'2016']).add_to(tunisia_map) #label the markr Manouba\n",
    "folium.Marker([36.4823676 ,10.6707197], popup=  df.loc[4,'2016']).add_to(tunisia_map) #label the marker Nabeul\n",
    "folium.Marker([36.4117196,10.2019798], popup= df.loc[5,'2016']).add_to(tunisia_map) #label the markr Zoughan\n",
    "folium.Marker([37.2720905,9.8708565], popup= df.loc[6,'2016']).add_to(tunisia_map) #label the markr Benzart\n",
    "folium.Marker([36.7462303,9.2032328], popup= df.loc[7,'2016']).add_to(tunisia_map) #label the markr Beja \n",
    "folium.Marker([36.6779725,8.752647], popup= df.loc[8,'2016']).add_to(tunisia_map) #label the markr Jendouba\n",
    "folium.Marker([36.0357642,8.7249381], popup= df.loc[9,'2016']).add_to(tunisia_map) #label the markr Kef\n",
    "folium.Marker([35.9715323,9.3577129], popup= df.loc[10,'2016']).add_to(tunisia_map) #label the markr Siliana\n",
    "folium.Marker([35.828829,10.640525], popup= df.loc[11,'2016']).add_to(tunisia_map) #label the markr Sousse\n",
    "folium.Marker([35.7398724,10.7988397], popup= df.loc[12,'2016']).add_to(tunisia_map) #label the markr Monastir\n",
    "folium.Marker([35.4877892,10.9622433], popup= df.loc[13,'2016']).add_to(tunisia_map) #label the markr Mahdia\n",
    "folium.Marker([34.7231273,10.3358789], popup= df.loc[14,'2016']).add_to(tunisia_map) #label the markr Sfax\n",
    "folium.Marker([35.6710101,10.10062], popup= df.loc[15,'2016']).add_to(tunisia_map) #label the markr Kairouan\n",
    "folium.Marker([35.1678191,8.8348097], popup= df.loc[16,'2016']).add_to(tunisia_map) #label the markr Kassrine\n",
    "folium.Marker([35.03396985358989,9.48893761982423], popup= df.loc[17,'2016']).add_to(tunisia_map) #label the markr Sidi Bouzid\n",
    "folium.Marker([33.7765032,9.793063], popup= df.loc[18,'2016']).add_to(tunisia_map) #label the markr Gabes\n",
    "folium.Marker([32.9819987,11.2870254], popup= df.loc[19,'2016']).add_to(tunisia_map) #label the markr Mednine\n",
    "folium.Marker([31.7317009,9.7702197], popup= df.loc[20,'2016']).add_to(tunisia_map) #label the markr Tataouine\n",
    "folium.Marker([34.43367,8.7907988], popup= df.loc[21,'2016']).add_to(tunisia_map) #label the markr Gafsa\n",
    "folium.Marker([33.913485,8.1118241], popup= df.loc[22,'2016']).add_to(tunisia_map) #label the markr Tozeur\n",
    "folium.Marker([33.7061148,8.9698376], popup= df.loc[22,'2016']).add_to(tunisia_map) #label the markr Kebili\n",
    "\n",
    "tunisia_map\n",
    "\n",
    "tunisia_map.save('tunisia.html')\n",
    "tunisia_map"
   ]
  },
  {
   "cell_type": "code",
   "execution_count": 17,
   "metadata": {},
   "outputs": [
    {
     "data": {
      "application/vnd.plotly.v1+json": {
       "config": {
        "plotlyServerURL": "https://plot.ly"
       },
       "data": [
        {
         "marker": {
          "color": "Pink"
         },
         "name": "Nombre de maison de culture",
         "type": "scatter",
         "visible": true,
         "x": [
          2011,
          2012,
          2013,
          2014,
          2015
         ],
         "y": [
          215,
          208,
          211,
          212,
          216
         ]
        },
        {
         "marker": {
          "color": "royalblue"
         },
         "name": "Nombre des inscrits",
         "type": "scatter",
         "visible": false,
         "x": [
          2011,
          2012,
          2013,
          2014,
          2015
         ],
         "y": [
          16351,
          17081,
          20827,
          20708,
          20261
         ]
        }
       ],
       "layout": {
        "font": {
         "family": " Gravitas One, cursive",
         "size": 17
        },
        "template": {
         "data": {
          "bar": [
           {
            "error_x": {
             "color": "#2a3f5f"
            },
            "error_y": {
             "color": "#2a3f5f"
            },
            "marker": {
             "line": {
              "color": "white",
              "width": 0.5
             }
            },
            "type": "bar"
           }
          ],
          "barpolar": [
           {
            "marker": {
             "line": {
              "color": "white",
              "width": 0.5
             }
            },
            "type": "barpolar"
           }
          ],
          "carpet": [
           {
            "aaxis": {
             "endlinecolor": "#2a3f5f",
             "gridcolor": "#C8D4E3",
             "linecolor": "#C8D4E3",
             "minorgridcolor": "#C8D4E3",
             "startlinecolor": "#2a3f5f"
            },
            "baxis": {
             "endlinecolor": "#2a3f5f",
             "gridcolor": "#C8D4E3",
             "linecolor": "#C8D4E3",
             "minorgridcolor": "#C8D4E3",
             "startlinecolor": "#2a3f5f"
            },
            "type": "carpet"
           }
          ],
          "choropleth": [
           {
            "colorbar": {
             "outlinewidth": 0,
             "ticks": ""
            },
            "type": "choropleth"
           }
          ],
          "contour": [
           {
            "colorbar": {
             "outlinewidth": 0,
             "ticks": ""
            },
            "colorscale": [
             [
              0,
              "#0d0887"
             ],
             [
              0.1111111111111111,
              "#46039f"
             ],
             [
              0.2222222222222222,
              "#7201a8"
             ],
             [
              0.3333333333333333,
              "#9c179e"
             ],
             [
              0.4444444444444444,
              "#bd3786"
             ],
             [
              0.5555555555555556,
              "#d8576b"
             ],
             [
              0.6666666666666666,
              "#ed7953"
             ],
             [
              0.7777777777777778,
              "#fb9f3a"
             ],
             [
              0.8888888888888888,
              "#fdca26"
             ],
             [
              1,
              "#f0f921"
             ]
            ],
            "type": "contour"
           }
          ],
          "contourcarpet": [
           {
            "colorbar": {
             "outlinewidth": 0,
             "ticks": ""
            },
            "type": "contourcarpet"
           }
          ],
          "heatmap": [
           {
            "colorbar": {
             "outlinewidth": 0,
             "ticks": ""
            },
            "colorscale": [
             [
              0,
              "#0d0887"
             ],
             [
              0.1111111111111111,
              "#46039f"
             ],
             [
              0.2222222222222222,
              "#7201a8"
             ],
             [
              0.3333333333333333,
              "#9c179e"
             ],
             [
              0.4444444444444444,
              "#bd3786"
             ],
             [
              0.5555555555555556,
              "#d8576b"
             ],
             [
              0.6666666666666666,
              "#ed7953"
             ],
             [
              0.7777777777777778,
              "#fb9f3a"
             ],
             [
              0.8888888888888888,
              "#fdca26"
             ],
             [
              1,
              "#f0f921"
             ]
            ],
            "type": "heatmap"
           }
          ],
          "heatmapgl": [
           {
            "colorbar": {
             "outlinewidth": 0,
             "ticks": ""
            },
            "colorscale": [
             [
              0,
              "#0d0887"
             ],
             [
              0.1111111111111111,
              "#46039f"
             ],
             [
              0.2222222222222222,
              "#7201a8"
             ],
             [
              0.3333333333333333,
              "#9c179e"
             ],
             [
              0.4444444444444444,
              "#bd3786"
             ],
             [
              0.5555555555555556,
              "#d8576b"
             ],
             [
              0.6666666666666666,
              "#ed7953"
             ],
             [
              0.7777777777777778,
              "#fb9f3a"
             ],
             [
              0.8888888888888888,
              "#fdca26"
             ],
             [
              1,
              "#f0f921"
             ]
            ],
            "type": "heatmapgl"
           }
          ],
          "histogram": [
           {
            "marker": {
             "colorbar": {
              "outlinewidth": 0,
              "ticks": ""
             }
            },
            "type": "histogram"
           }
          ],
          "histogram2d": [
           {
            "colorbar": {
             "outlinewidth": 0,
             "ticks": ""
            },
            "colorscale": [
             [
              0,
              "#0d0887"
             ],
             [
              0.1111111111111111,
              "#46039f"
             ],
             [
              0.2222222222222222,
              "#7201a8"
             ],
             [
              0.3333333333333333,
              "#9c179e"
             ],
             [
              0.4444444444444444,
              "#bd3786"
             ],
             [
              0.5555555555555556,
              "#d8576b"
             ],
             [
              0.6666666666666666,
              "#ed7953"
             ],
             [
              0.7777777777777778,
              "#fb9f3a"
             ],
             [
              0.8888888888888888,
              "#fdca26"
             ],
             [
              1,
              "#f0f921"
             ]
            ],
            "type": "histogram2d"
           }
          ],
          "histogram2dcontour": [
           {
            "colorbar": {
             "outlinewidth": 0,
             "ticks": ""
            },
            "colorscale": [
             [
              0,
              "#0d0887"
             ],
             [
              0.1111111111111111,
              "#46039f"
             ],
             [
              0.2222222222222222,
              "#7201a8"
             ],
             [
              0.3333333333333333,
              "#9c179e"
             ],
             [
              0.4444444444444444,
              "#bd3786"
             ],
             [
              0.5555555555555556,
              "#d8576b"
             ],
             [
              0.6666666666666666,
              "#ed7953"
             ],
             [
              0.7777777777777778,
              "#fb9f3a"
             ],
             [
              0.8888888888888888,
              "#fdca26"
             ],
             [
              1,
              "#f0f921"
             ]
            ],
            "type": "histogram2dcontour"
           }
          ],
          "mesh3d": [
           {
            "colorbar": {
             "outlinewidth": 0,
             "ticks": ""
            },
            "type": "mesh3d"
           }
          ],
          "parcoords": [
           {
            "line": {
             "colorbar": {
              "outlinewidth": 0,
              "ticks": ""
             }
            },
            "type": "parcoords"
           }
          ],
          "pie": [
           {
            "automargin": true,
            "type": "pie"
           }
          ],
          "scatter": [
           {
            "marker": {
             "colorbar": {
              "outlinewidth": 0,
              "ticks": ""
             }
            },
            "type": "scatter"
           }
          ],
          "scatter3d": [
           {
            "line": {
             "colorbar": {
              "outlinewidth": 0,
              "ticks": ""
             }
            },
            "marker": {
             "colorbar": {
              "outlinewidth": 0,
              "ticks": ""
             }
            },
            "type": "scatter3d"
           }
          ],
          "scattercarpet": [
           {
            "marker": {
             "colorbar": {
              "outlinewidth": 0,
              "ticks": ""
             }
            },
            "type": "scattercarpet"
           }
          ],
          "scattergeo": [
           {
            "marker": {
             "colorbar": {
              "outlinewidth": 0,
              "ticks": ""
             }
            },
            "type": "scattergeo"
           }
          ],
          "scattergl": [
           {
            "marker": {
             "colorbar": {
              "outlinewidth": 0,
              "ticks": ""
             }
            },
            "type": "scattergl"
           }
          ],
          "scattermapbox": [
           {
            "marker": {
             "colorbar": {
              "outlinewidth": 0,
              "ticks": ""
             }
            },
            "type": "scattermapbox"
           }
          ],
          "scatterpolar": [
           {
            "marker": {
             "colorbar": {
              "outlinewidth": 0,
              "ticks": ""
             }
            },
            "type": "scatterpolar"
           }
          ],
          "scatterpolargl": [
           {
            "marker": {
             "colorbar": {
              "outlinewidth": 0,
              "ticks": ""
             }
            },
            "type": "scatterpolargl"
           }
          ],
          "scatterternary": [
           {
            "marker": {
             "colorbar": {
              "outlinewidth": 0,
              "ticks": ""
             }
            },
            "type": "scatterternary"
           }
          ],
          "surface": [
           {
            "colorbar": {
             "outlinewidth": 0,
             "ticks": ""
            },
            "colorscale": [
             [
              0,
              "#0d0887"
             ],
             [
              0.1111111111111111,
              "#46039f"
             ],
             [
              0.2222222222222222,
              "#7201a8"
             ],
             [
              0.3333333333333333,
              "#9c179e"
             ],
             [
              0.4444444444444444,
              "#bd3786"
             ],
             [
              0.5555555555555556,
              "#d8576b"
             ],
             [
              0.6666666666666666,
              "#ed7953"
             ],
             [
              0.7777777777777778,
              "#fb9f3a"
             ],
             [
              0.8888888888888888,
              "#fdca26"
             ],
             [
              1,
              "#f0f921"
             ]
            ],
            "type": "surface"
           }
          ],
          "table": [
           {
            "cells": {
             "fill": {
              "color": "#EBF0F8"
             },
             "line": {
              "color": "white"
             }
            },
            "header": {
             "fill": {
              "color": "#C8D4E3"
             },
             "line": {
              "color": "white"
             }
            },
            "type": "table"
           }
          ]
         },
         "layout": {
          "annotationdefaults": {
           "arrowcolor": "#2a3f5f",
           "arrowhead": 0,
           "arrowwidth": 1
          },
          "coloraxis": {
           "colorbar": {
            "outlinewidth": 0,
            "ticks": ""
           }
          },
          "colorscale": {
           "diverging": [
            [
             0,
             "#8e0152"
            ],
            [
             0.1,
             "#c51b7d"
            ],
            [
             0.2,
             "#de77ae"
            ],
            [
             0.3,
             "#f1b6da"
            ],
            [
             0.4,
             "#fde0ef"
            ],
            [
             0.5,
             "#f7f7f7"
            ],
            [
             0.6,
             "#e6f5d0"
            ],
            [
             0.7,
             "#b8e186"
            ],
            [
             0.8,
             "#7fbc41"
            ],
            [
             0.9,
             "#4d9221"
            ],
            [
             1,
             "#276419"
            ]
           ],
           "sequential": [
            [
             0,
             "#0d0887"
            ],
            [
             0.1111111111111111,
             "#46039f"
            ],
            [
             0.2222222222222222,
             "#7201a8"
            ],
            [
             0.3333333333333333,
             "#9c179e"
            ],
            [
             0.4444444444444444,
             "#bd3786"
            ],
            [
             0.5555555555555556,
             "#d8576b"
            ],
            [
             0.6666666666666666,
             "#ed7953"
            ],
            [
             0.7777777777777778,
             "#fb9f3a"
            ],
            [
             0.8888888888888888,
             "#fdca26"
            ],
            [
             1,
             "#f0f921"
            ]
           ],
           "sequentialminus": [
            [
             0,
             "#0d0887"
            ],
            [
             0.1111111111111111,
             "#46039f"
            ],
            [
             0.2222222222222222,
             "#7201a8"
            ],
            [
             0.3333333333333333,
             "#9c179e"
            ],
            [
             0.4444444444444444,
             "#bd3786"
            ],
            [
             0.5555555555555556,
             "#d8576b"
            ],
            [
             0.6666666666666666,
             "#ed7953"
            ],
            [
             0.7777777777777778,
             "#fb9f3a"
            ],
            [
             0.8888888888888888,
             "#fdca26"
            ],
            [
             1,
             "#f0f921"
            ]
           ]
          },
          "colorway": [
           "#636efa",
           "#EF553B",
           "#00cc96",
           "#ab63fa",
           "#FFA15A",
           "#19d3f3",
           "#FF6692",
           "#B6E880",
           "#FF97FF",
           "#FECB52"
          ],
          "font": {
           "color": "#2a3f5f"
          },
          "geo": {
           "bgcolor": "white",
           "lakecolor": "white",
           "landcolor": "white",
           "showlakes": true,
           "showland": true,
           "subunitcolor": "#C8D4E3"
          },
          "hoverlabel": {
           "align": "left"
          },
          "hovermode": "closest",
          "mapbox": {
           "style": "light"
          },
          "paper_bgcolor": "white",
          "plot_bgcolor": "white",
          "polar": {
           "angularaxis": {
            "gridcolor": "#EBF0F8",
            "linecolor": "#EBF0F8",
            "ticks": ""
           },
           "bgcolor": "white",
           "radialaxis": {
            "gridcolor": "#EBF0F8",
            "linecolor": "#EBF0F8",
            "ticks": ""
           }
          },
          "scene": {
           "xaxis": {
            "backgroundcolor": "white",
            "gridcolor": "#DFE8F3",
            "gridwidth": 2,
            "linecolor": "#EBF0F8",
            "showbackground": true,
            "ticks": "",
            "zerolinecolor": "#EBF0F8"
           },
           "yaxis": {
            "backgroundcolor": "white",
            "gridcolor": "#DFE8F3",
            "gridwidth": 2,
            "linecolor": "#EBF0F8",
            "showbackground": true,
            "ticks": "",
            "zerolinecolor": "#EBF0F8"
           },
           "zaxis": {
            "backgroundcolor": "white",
            "gridcolor": "#DFE8F3",
            "gridwidth": 2,
            "linecolor": "#EBF0F8",
            "showbackground": true,
            "ticks": "",
            "zerolinecolor": "#EBF0F8"
           }
          },
          "shapedefaults": {
           "line": {
            "color": "#2a3f5f"
           }
          },
          "ternary": {
           "aaxis": {
            "gridcolor": "#DFE8F3",
            "linecolor": "#A2B1C6",
            "ticks": ""
           },
           "baxis": {
            "gridcolor": "#DFE8F3",
            "linecolor": "#A2B1C6",
            "ticks": ""
           },
           "bgcolor": "white",
           "caxis": {
            "gridcolor": "#DFE8F3",
            "linecolor": "#A2B1C6",
            "ticks": ""
           }
          },
          "title": {
           "x": 0.05
          },
          "xaxis": {
           "automargin": true,
           "gridcolor": "#EBF0F8",
           "linecolor": "#EBF0F8",
           "ticks": "",
           "title": {
            "standoff": 15
           },
           "zerolinecolor": "#EBF0F8",
           "zerolinewidth": 2
          },
          "yaxis": {
           "automargin": true,
           "gridcolor": "#EBF0F8",
           "linecolor": "#EBF0F8",
           "ticks": "",
           "title": {
            "standoff": 15
           },
           "zerolinecolor": "#EBF0F8",
           "zerolinewidth": 2
          }
         }
        },
        "title": {
         "text": "Statistique sur le Nombre des maisons de culture et le nombre des inscrits"
        },
        "updatemenus": [
         {
          "buttons": [
           {
            "args": [
             {
              "visible": [
               true,
               false
              ]
             }
            ],
            "label": "Nombre de maison de culture",
            "method": "update"
           },
           {
            "args": [
             {
              "visible": [
               false,
               true
              ]
             }
            ],
            "label": "Nombre des inscrits",
            "method": "update"
           }
          ]
         }
        ]
       }
      },
      "text/html": [
       "<div>\n",
       "        \n",
       "        \n",
       "            <div id=\"cb2814eb-74df-4fcf-bb25-82f4987a9ccc\" class=\"plotly-graph-div\" style=\"height:525px; width:100%;\"></div>\n",
       "            <script type=\"text/javascript\">\n",
       "                require([\"plotly\"], function(Plotly) {\n",
       "                    window.PLOTLYENV=window.PLOTLYENV || {};\n",
       "                    \n",
       "                if (document.getElementById(\"cb2814eb-74df-4fcf-bb25-82f4987a9ccc\")) {\n",
       "                    Plotly.newPlot(\n",
       "                        'cb2814eb-74df-4fcf-bb25-82f4987a9ccc',\n",
       "                        [{\"marker\": {\"color\": \"Pink\"}, \"name\": \"Nombre de maison de culture\", \"type\": \"scatter\", \"visible\": true, \"x\": [2011, 2012, 2013, 2014, 2015], \"y\": [215, 208, 211, 212, 216]}, {\"marker\": {\"color\": \"royalblue\"}, \"name\": \"Nombre des inscrits\", \"type\": \"scatter\", \"visible\": false, \"x\": [2011, 2012, 2013, 2014, 2015], \"y\": [16351, 17081, 20827, 20708, 20261]}],\n",
       "                        {\"font\": {\"family\": \" Gravitas One, cursive\", \"size\": 17}, \"template\": {\"data\": {\"bar\": [{\"error_x\": {\"color\": \"#2a3f5f\"}, \"error_y\": {\"color\": \"#2a3f5f\"}, \"marker\": {\"line\": {\"color\": \"white\", \"width\": 0.5}}, \"type\": \"bar\"}], \"barpolar\": [{\"marker\": {\"line\": {\"color\": \"white\", \"width\": 0.5}}, \"type\": \"barpolar\"}], \"carpet\": [{\"aaxis\": {\"endlinecolor\": \"#2a3f5f\", \"gridcolor\": \"#C8D4E3\", \"linecolor\": \"#C8D4E3\", \"minorgridcolor\": \"#C8D4E3\", \"startlinecolor\": \"#2a3f5f\"}, \"baxis\": {\"endlinecolor\": \"#2a3f5f\", \"gridcolor\": \"#C8D4E3\", \"linecolor\": \"#C8D4E3\", \"minorgridcolor\": \"#C8D4E3\", \"startlinecolor\": \"#2a3f5f\"}, \"type\": \"carpet\"}], \"choropleth\": [{\"colorbar\": {\"outlinewidth\": 0, \"ticks\": \"\"}, \"type\": \"choropleth\"}], \"contour\": [{\"colorbar\": {\"outlinewidth\": 0, \"ticks\": \"\"}, \"colorscale\": [[0.0, \"#0d0887\"], [0.1111111111111111, \"#46039f\"], [0.2222222222222222, \"#7201a8\"], [0.3333333333333333, \"#9c179e\"], [0.4444444444444444, \"#bd3786\"], [0.5555555555555556, \"#d8576b\"], [0.6666666666666666, \"#ed7953\"], [0.7777777777777778, \"#fb9f3a\"], [0.8888888888888888, \"#fdca26\"], [1.0, \"#f0f921\"]], \"type\": \"contour\"}], \"contourcarpet\": [{\"colorbar\": {\"outlinewidth\": 0, \"ticks\": \"\"}, \"type\": \"contourcarpet\"}], \"heatmap\": [{\"colorbar\": {\"outlinewidth\": 0, \"ticks\": \"\"}, \"colorscale\": [[0.0, \"#0d0887\"], [0.1111111111111111, \"#46039f\"], [0.2222222222222222, \"#7201a8\"], [0.3333333333333333, \"#9c179e\"], [0.4444444444444444, \"#bd3786\"], [0.5555555555555556, \"#d8576b\"], [0.6666666666666666, \"#ed7953\"], [0.7777777777777778, \"#fb9f3a\"], [0.8888888888888888, \"#fdca26\"], [1.0, \"#f0f921\"]], \"type\": \"heatmap\"}], \"heatmapgl\": [{\"colorbar\": {\"outlinewidth\": 0, \"ticks\": \"\"}, \"colorscale\": [[0.0, \"#0d0887\"], [0.1111111111111111, \"#46039f\"], [0.2222222222222222, \"#7201a8\"], [0.3333333333333333, \"#9c179e\"], [0.4444444444444444, \"#bd3786\"], [0.5555555555555556, \"#d8576b\"], [0.6666666666666666, \"#ed7953\"], [0.7777777777777778, \"#fb9f3a\"], [0.8888888888888888, \"#fdca26\"], [1.0, \"#f0f921\"]], \"type\": \"heatmapgl\"}], \"histogram\": [{\"marker\": {\"colorbar\": {\"outlinewidth\": 0, \"ticks\": \"\"}}, \"type\": \"histogram\"}], \"histogram2d\": [{\"colorbar\": {\"outlinewidth\": 0, \"ticks\": \"\"}, \"colorscale\": [[0.0, \"#0d0887\"], [0.1111111111111111, \"#46039f\"], [0.2222222222222222, \"#7201a8\"], [0.3333333333333333, \"#9c179e\"], [0.4444444444444444, \"#bd3786\"], [0.5555555555555556, \"#d8576b\"], [0.6666666666666666, \"#ed7953\"], [0.7777777777777778, \"#fb9f3a\"], [0.8888888888888888, \"#fdca26\"], [1.0, \"#f0f921\"]], \"type\": \"histogram2d\"}], \"histogram2dcontour\": [{\"colorbar\": {\"outlinewidth\": 0, \"ticks\": \"\"}, \"colorscale\": [[0.0, \"#0d0887\"], [0.1111111111111111, \"#46039f\"], [0.2222222222222222, \"#7201a8\"], [0.3333333333333333, \"#9c179e\"], [0.4444444444444444, \"#bd3786\"], [0.5555555555555556, \"#d8576b\"], [0.6666666666666666, \"#ed7953\"], [0.7777777777777778, \"#fb9f3a\"], [0.8888888888888888, \"#fdca26\"], [1.0, \"#f0f921\"]], \"type\": \"histogram2dcontour\"}], \"mesh3d\": [{\"colorbar\": {\"outlinewidth\": 0, \"ticks\": \"\"}, \"type\": \"mesh3d\"}], \"parcoords\": [{\"line\": {\"colorbar\": {\"outlinewidth\": 0, \"ticks\": \"\"}}, \"type\": \"parcoords\"}], \"pie\": [{\"automargin\": true, \"type\": \"pie\"}], \"scatter\": [{\"marker\": {\"colorbar\": {\"outlinewidth\": 0, \"ticks\": \"\"}}, \"type\": \"scatter\"}], \"scatter3d\": [{\"line\": {\"colorbar\": {\"outlinewidth\": 0, \"ticks\": \"\"}}, \"marker\": {\"colorbar\": {\"outlinewidth\": 0, \"ticks\": \"\"}}, \"type\": \"scatter3d\"}], \"scattercarpet\": [{\"marker\": {\"colorbar\": {\"outlinewidth\": 0, \"ticks\": \"\"}}, \"type\": \"scattercarpet\"}], \"scattergeo\": [{\"marker\": {\"colorbar\": {\"outlinewidth\": 0, \"ticks\": \"\"}}, \"type\": \"scattergeo\"}], \"scattergl\": [{\"marker\": {\"colorbar\": {\"outlinewidth\": 0, \"ticks\": \"\"}}, \"type\": \"scattergl\"}], \"scattermapbox\": [{\"marker\": {\"colorbar\": {\"outlinewidth\": 0, \"ticks\": \"\"}}, \"type\": \"scattermapbox\"}], \"scatterpolar\": [{\"marker\": {\"colorbar\": {\"outlinewidth\": 0, \"ticks\": \"\"}}, \"type\": \"scatterpolar\"}], \"scatterpolargl\": [{\"marker\": {\"colorbar\": {\"outlinewidth\": 0, \"ticks\": \"\"}}, \"type\": \"scatterpolargl\"}], \"scatterternary\": [{\"marker\": {\"colorbar\": {\"outlinewidth\": 0, \"ticks\": \"\"}}, \"type\": \"scatterternary\"}], \"surface\": [{\"colorbar\": {\"outlinewidth\": 0, \"ticks\": \"\"}, \"colorscale\": [[0.0, \"#0d0887\"], [0.1111111111111111, \"#46039f\"], [0.2222222222222222, \"#7201a8\"], [0.3333333333333333, \"#9c179e\"], [0.4444444444444444, \"#bd3786\"], [0.5555555555555556, \"#d8576b\"], [0.6666666666666666, \"#ed7953\"], [0.7777777777777778, \"#fb9f3a\"], [0.8888888888888888, \"#fdca26\"], [1.0, \"#f0f921\"]], \"type\": \"surface\"}], \"table\": [{\"cells\": {\"fill\": {\"color\": \"#EBF0F8\"}, \"line\": {\"color\": \"white\"}}, \"header\": {\"fill\": {\"color\": \"#C8D4E3\"}, \"line\": {\"color\": \"white\"}}, \"type\": \"table\"}]}, \"layout\": {\"annotationdefaults\": {\"arrowcolor\": \"#2a3f5f\", \"arrowhead\": 0, \"arrowwidth\": 1}, \"coloraxis\": {\"colorbar\": {\"outlinewidth\": 0, \"ticks\": \"\"}}, \"colorscale\": {\"diverging\": [[0, \"#8e0152\"], [0.1, \"#c51b7d\"], [0.2, \"#de77ae\"], [0.3, \"#f1b6da\"], [0.4, \"#fde0ef\"], [0.5, \"#f7f7f7\"], [0.6, \"#e6f5d0\"], [0.7, \"#b8e186\"], [0.8, \"#7fbc41\"], [0.9, \"#4d9221\"], [1, \"#276419\"]], \"sequential\": [[0.0, \"#0d0887\"], [0.1111111111111111, \"#46039f\"], [0.2222222222222222, \"#7201a8\"], [0.3333333333333333, \"#9c179e\"], [0.4444444444444444, \"#bd3786\"], [0.5555555555555556, \"#d8576b\"], [0.6666666666666666, \"#ed7953\"], [0.7777777777777778, \"#fb9f3a\"], [0.8888888888888888, \"#fdca26\"], [1.0, \"#f0f921\"]], \"sequentialminus\": [[0.0, \"#0d0887\"], [0.1111111111111111, \"#46039f\"], [0.2222222222222222, \"#7201a8\"], [0.3333333333333333, \"#9c179e\"], [0.4444444444444444, \"#bd3786\"], [0.5555555555555556, \"#d8576b\"], [0.6666666666666666, \"#ed7953\"], [0.7777777777777778, \"#fb9f3a\"], [0.8888888888888888, \"#fdca26\"], [1.0, \"#f0f921\"]]}, \"colorway\": [\"#636efa\", \"#EF553B\", \"#00cc96\", \"#ab63fa\", \"#FFA15A\", \"#19d3f3\", \"#FF6692\", \"#B6E880\", \"#FF97FF\", \"#FECB52\"], \"font\": {\"color\": \"#2a3f5f\"}, \"geo\": {\"bgcolor\": \"white\", \"lakecolor\": \"white\", \"landcolor\": \"white\", \"showlakes\": true, \"showland\": true, \"subunitcolor\": \"#C8D4E3\"}, \"hoverlabel\": {\"align\": \"left\"}, \"hovermode\": \"closest\", \"mapbox\": {\"style\": \"light\"}, \"paper_bgcolor\": \"white\", \"plot_bgcolor\": \"white\", \"polar\": {\"angularaxis\": {\"gridcolor\": \"#EBF0F8\", \"linecolor\": \"#EBF0F8\", \"ticks\": \"\"}, \"bgcolor\": \"white\", \"radialaxis\": {\"gridcolor\": \"#EBF0F8\", \"linecolor\": \"#EBF0F8\", \"ticks\": \"\"}}, \"scene\": {\"xaxis\": {\"backgroundcolor\": \"white\", \"gridcolor\": \"#DFE8F3\", \"gridwidth\": 2, \"linecolor\": \"#EBF0F8\", \"showbackground\": true, \"ticks\": \"\", \"zerolinecolor\": \"#EBF0F8\"}, \"yaxis\": {\"backgroundcolor\": \"white\", \"gridcolor\": \"#DFE8F3\", \"gridwidth\": 2, \"linecolor\": \"#EBF0F8\", \"showbackground\": true, \"ticks\": \"\", \"zerolinecolor\": \"#EBF0F8\"}, \"zaxis\": {\"backgroundcolor\": \"white\", \"gridcolor\": \"#DFE8F3\", \"gridwidth\": 2, \"linecolor\": \"#EBF0F8\", \"showbackground\": true, \"ticks\": \"\", \"zerolinecolor\": \"#EBF0F8\"}}, \"shapedefaults\": {\"line\": {\"color\": \"#2a3f5f\"}}, \"ternary\": {\"aaxis\": {\"gridcolor\": \"#DFE8F3\", \"linecolor\": \"#A2B1C6\", \"ticks\": \"\"}, \"baxis\": {\"gridcolor\": \"#DFE8F3\", \"linecolor\": \"#A2B1C6\", \"ticks\": \"\"}, \"bgcolor\": \"white\", \"caxis\": {\"gridcolor\": \"#DFE8F3\", \"linecolor\": \"#A2B1C6\", \"ticks\": \"\"}}, \"title\": {\"x\": 0.05}, \"xaxis\": {\"automargin\": true, \"gridcolor\": \"#EBF0F8\", \"linecolor\": \"#EBF0F8\", \"ticks\": \"\", \"title\": {\"standoff\": 15}, \"zerolinecolor\": \"#EBF0F8\", \"zerolinewidth\": 2}, \"yaxis\": {\"automargin\": true, \"gridcolor\": \"#EBF0F8\", \"linecolor\": \"#EBF0F8\", \"ticks\": \"\", \"title\": {\"standoff\": 15}, \"zerolinecolor\": \"#EBF0F8\", \"zerolinewidth\": 2}}}, \"title\": {\"text\": \"Statistique sur le Nombre des maisons de culture et le nombre des inscrits\"}, \"updatemenus\": [{\"buttons\": [{\"args\": [{\"visible\": [true, false]}], \"label\": \"Nombre de maison de culture\", \"method\": \"update\"}, {\"args\": [{\"visible\": [false, true]}], \"label\": \"Nombre des inscrits\", \"method\": \"update\"}]}]},\n",
       "                        {\"responsive\": true}\n",
       "                    ).then(function(){\n",
       "                            \n",
       "var gd = document.getElementById('cb2814eb-74df-4fcf-bb25-82f4987a9ccc');\n",
       "var x = new MutationObserver(function (mutations, observer) {{\n",
       "        var display = window.getComputedStyle(gd).display;\n",
       "        if (!display || display === 'none') {{\n",
       "            console.log([gd, 'removed!']);\n",
       "            Plotly.purge(gd);\n",
       "            observer.disconnect();\n",
       "        }}\n",
       "}});\n",
       "\n",
       "// Listen for the removal of the full notebook cells\n",
       "var notebookContainer = gd.closest('#notebook-container');\n",
       "if (notebookContainer) {{\n",
       "    x.observe(notebookContainer, {childList: true});\n",
       "}}\n",
       "\n",
       "// Listen for the clearing of the current output cell\n",
       "var outputEl = gd.closest('.output');\n",
       "if (outputEl) {{\n",
       "    x.observe(outputEl, {childList: true});\n",
       "}}\n",
       "\n",
       "                        })\n",
       "                };\n",
       "                });\n",
       "            </script>\n",
       "        </div>"
      ]
     },
     "metadata": {},
     "output_type": "display_data"
    }
   ],
   "source": [
    "import pandas as pd\n",
    "import plotly.graph_objects as go\n",
    "df9=pd.read_csv('guide-des-maisons-de-la-culture.csv')\n",
    "\n",
    "fig = go.Figure()\n",
    "\n",
    "data_bar=[ go.Scatter(name='Nombre de maison de culture',\n",
    "           visible=True,\n",
    "           x=df9['Annee'], \n",
    "           y=df9['Nb-mc'],\n",
    "           marker_color='Pink'),\n",
    "          \n",
    "         go.Scatter(name='Nombre des inscrits',\n",
    "           visible=False,\n",
    "           x=df9['Annee'], \n",
    "           y= df9['Nb-inscrits'],\n",
    "          marker_color='royalblue'),\n",
    "         \n",
    "        ]\n",
    "\n",
    "list_updatemenus=[\n",
    "        {'args':[{\"visible\":[True,False]}],\n",
    "         'label':\"Nombre de maison de culture\",\n",
    "         'method':\"update\"},\n",
    "    \n",
    "        {'args':[{\"visible\":[False,True]}],\n",
    "         'label':\"Nombre des inscrits\",\n",
    "         'method':\"update\"},\n",
    "    \n",
    "\n",
    "         ]\n",
    "layout_bar=go.Layout(updatemenus=list([dict(buttons= list_updatemenus)]),\n",
    "                     title_text=\"Statistique sur le Nombre des maisons de culture et le nombre des inscrits\",\n",
    "                     template='plotly_white',\n",
    "                     font=dict(\n",
    "                    family=\" Gravitas One, cursive\",\n",
    "                    size=17))\n",
    "\n",
    "#defining figure and plotting\n",
    "fig_line_4 = go.Figure(data_bar,layout_bar)\n",
    "fig_line_4.show()\n"
   ]
  },
  {
   "cell_type": "code",
   "execution_count": 18,
   "metadata": {},
   "outputs": [
    {
     "data": {
      "application/vnd.plotly.v1+json": {
       "config": {
        "plotlyServerURL": "https://plot.ly"
       },
       "data": [
        {
         "marker": {
          "color": "royalblue"
         },
         "name": "2018",
         "type": "bar",
         "x": [
          "maison de culture nabeul",
          "maison de culture grombalia ",
          "maison de culture korba ",
          "maison de culture tekelssa ",
          "maison de culture tazerka ",
          "maison de culture elhawaria ",
          "maison de culture menzel temime ",
          "maison de culture kelibia ",
          "centre culturelle niapolis "
         ],
         "y": [
          12,
          9,
          5,
          8,
          8,
          5,
          12,
          5,
          8
         ]
        },
        {
         "marker": {
          "color": "Silver"
         },
         "name": "2019",
         "type": "bar",
         "x": [
          "maison de culture nabeul",
          "maison de culture grombalia ",
          "maison de culture korba ",
          "maison de culture tekelssa ",
          "maison de culture tazerka ",
          "maison de culture elhawaria ",
          "maison de culture menzel temime ",
          "maison de culture kelibia ",
          "centre culturelle niapolis "
         ],
         "y": [
          7,
          8,
          6,
          6,
          9,
          7,
          9,
          5,
          9
         ]
        }
       ],
       "layout": {
        "barmode": "group",
        "height": 700,
        "template": {
         "data": {
          "bar": [
           {
            "error_x": {
             "color": "#2a3f5f"
            },
            "error_y": {
             "color": "#2a3f5f"
            },
            "marker": {
             "line": {
              "color": "#E5ECF6",
              "width": 0.5
             }
            },
            "type": "bar"
           }
          ],
          "barpolar": [
           {
            "marker": {
             "line": {
              "color": "#E5ECF6",
              "width": 0.5
             }
            },
            "type": "barpolar"
           }
          ],
          "carpet": [
           {
            "aaxis": {
             "endlinecolor": "#2a3f5f",
             "gridcolor": "white",
             "linecolor": "white",
             "minorgridcolor": "white",
             "startlinecolor": "#2a3f5f"
            },
            "baxis": {
             "endlinecolor": "#2a3f5f",
             "gridcolor": "white",
             "linecolor": "white",
             "minorgridcolor": "white",
             "startlinecolor": "#2a3f5f"
            },
            "type": "carpet"
           }
          ],
          "choropleth": [
           {
            "colorbar": {
             "outlinewidth": 0,
             "ticks": ""
            },
            "type": "choropleth"
           }
          ],
          "contour": [
           {
            "colorbar": {
             "outlinewidth": 0,
             "ticks": ""
            },
            "colorscale": [
             [
              0,
              "#0d0887"
             ],
             [
              0.1111111111111111,
              "#46039f"
             ],
             [
              0.2222222222222222,
              "#7201a8"
             ],
             [
              0.3333333333333333,
              "#9c179e"
             ],
             [
              0.4444444444444444,
              "#bd3786"
             ],
             [
              0.5555555555555556,
              "#d8576b"
             ],
             [
              0.6666666666666666,
              "#ed7953"
             ],
             [
              0.7777777777777778,
              "#fb9f3a"
             ],
             [
              0.8888888888888888,
              "#fdca26"
             ],
             [
              1,
              "#f0f921"
             ]
            ],
            "type": "contour"
           }
          ],
          "contourcarpet": [
           {
            "colorbar": {
             "outlinewidth": 0,
             "ticks": ""
            },
            "type": "contourcarpet"
           }
          ],
          "heatmap": [
           {
            "colorbar": {
             "outlinewidth": 0,
             "ticks": ""
            },
            "colorscale": [
             [
              0,
              "#0d0887"
             ],
             [
              0.1111111111111111,
              "#46039f"
             ],
             [
              0.2222222222222222,
              "#7201a8"
             ],
             [
              0.3333333333333333,
              "#9c179e"
             ],
             [
              0.4444444444444444,
              "#bd3786"
             ],
             [
              0.5555555555555556,
              "#d8576b"
             ],
             [
              0.6666666666666666,
              "#ed7953"
             ],
             [
              0.7777777777777778,
              "#fb9f3a"
             ],
             [
              0.8888888888888888,
              "#fdca26"
             ],
             [
              1,
              "#f0f921"
             ]
            ],
            "type": "heatmap"
           }
          ],
          "heatmapgl": [
           {
            "colorbar": {
             "outlinewidth": 0,
             "ticks": ""
            },
            "colorscale": [
             [
              0,
              "#0d0887"
             ],
             [
              0.1111111111111111,
              "#46039f"
             ],
             [
              0.2222222222222222,
              "#7201a8"
             ],
             [
              0.3333333333333333,
              "#9c179e"
             ],
             [
              0.4444444444444444,
              "#bd3786"
             ],
             [
              0.5555555555555556,
              "#d8576b"
             ],
             [
              0.6666666666666666,
              "#ed7953"
             ],
             [
              0.7777777777777778,
              "#fb9f3a"
             ],
             [
              0.8888888888888888,
              "#fdca26"
             ],
             [
              1,
              "#f0f921"
             ]
            ],
            "type": "heatmapgl"
           }
          ],
          "histogram": [
           {
            "marker": {
             "colorbar": {
              "outlinewidth": 0,
              "ticks": ""
             }
            },
            "type": "histogram"
           }
          ],
          "histogram2d": [
           {
            "colorbar": {
             "outlinewidth": 0,
             "ticks": ""
            },
            "colorscale": [
             [
              0,
              "#0d0887"
             ],
             [
              0.1111111111111111,
              "#46039f"
             ],
             [
              0.2222222222222222,
              "#7201a8"
             ],
             [
              0.3333333333333333,
              "#9c179e"
             ],
             [
              0.4444444444444444,
              "#bd3786"
             ],
             [
              0.5555555555555556,
              "#d8576b"
             ],
             [
              0.6666666666666666,
              "#ed7953"
             ],
             [
              0.7777777777777778,
              "#fb9f3a"
             ],
             [
              0.8888888888888888,
              "#fdca26"
             ],
             [
              1,
              "#f0f921"
             ]
            ],
            "type": "histogram2d"
           }
          ],
          "histogram2dcontour": [
           {
            "colorbar": {
             "outlinewidth": 0,
             "ticks": ""
            },
            "colorscale": [
             [
              0,
              "#0d0887"
             ],
             [
              0.1111111111111111,
              "#46039f"
             ],
             [
              0.2222222222222222,
              "#7201a8"
             ],
             [
              0.3333333333333333,
              "#9c179e"
             ],
             [
              0.4444444444444444,
              "#bd3786"
             ],
             [
              0.5555555555555556,
              "#d8576b"
             ],
             [
              0.6666666666666666,
              "#ed7953"
             ],
             [
              0.7777777777777778,
              "#fb9f3a"
             ],
             [
              0.8888888888888888,
              "#fdca26"
             ],
             [
              1,
              "#f0f921"
             ]
            ],
            "type": "histogram2dcontour"
           }
          ],
          "mesh3d": [
           {
            "colorbar": {
             "outlinewidth": 0,
             "ticks": ""
            },
            "type": "mesh3d"
           }
          ],
          "parcoords": [
           {
            "line": {
             "colorbar": {
              "outlinewidth": 0,
              "ticks": ""
             }
            },
            "type": "parcoords"
           }
          ],
          "pie": [
           {
            "automargin": true,
            "type": "pie"
           }
          ],
          "scatter": [
           {
            "marker": {
             "colorbar": {
              "outlinewidth": 0,
              "ticks": ""
             }
            },
            "type": "scatter"
           }
          ],
          "scatter3d": [
           {
            "line": {
             "colorbar": {
              "outlinewidth": 0,
              "ticks": ""
             }
            },
            "marker": {
             "colorbar": {
              "outlinewidth": 0,
              "ticks": ""
             }
            },
            "type": "scatter3d"
           }
          ],
          "scattercarpet": [
           {
            "marker": {
             "colorbar": {
              "outlinewidth": 0,
              "ticks": ""
             }
            },
            "type": "scattercarpet"
           }
          ],
          "scattergeo": [
           {
            "marker": {
             "colorbar": {
              "outlinewidth": 0,
              "ticks": ""
             }
            },
            "type": "scattergeo"
           }
          ],
          "scattergl": [
           {
            "marker": {
             "colorbar": {
              "outlinewidth": 0,
              "ticks": ""
             }
            },
            "type": "scattergl"
           }
          ],
          "scattermapbox": [
           {
            "marker": {
             "colorbar": {
              "outlinewidth": 0,
              "ticks": ""
             }
            },
            "type": "scattermapbox"
           }
          ],
          "scatterpolar": [
           {
            "marker": {
             "colorbar": {
              "outlinewidth": 0,
              "ticks": ""
             }
            },
            "type": "scatterpolar"
           }
          ],
          "scatterpolargl": [
           {
            "marker": {
             "colorbar": {
              "outlinewidth": 0,
              "ticks": ""
             }
            },
            "type": "scatterpolargl"
           }
          ],
          "scatterternary": [
           {
            "marker": {
             "colorbar": {
              "outlinewidth": 0,
              "ticks": ""
             }
            },
            "type": "scatterternary"
           }
          ],
          "surface": [
           {
            "colorbar": {
             "outlinewidth": 0,
             "ticks": ""
            },
            "colorscale": [
             [
              0,
              "#0d0887"
             ],
             [
              0.1111111111111111,
              "#46039f"
             ],
             [
              0.2222222222222222,
              "#7201a8"
             ],
             [
              0.3333333333333333,
              "#9c179e"
             ],
             [
              0.4444444444444444,
              "#bd3786"
             ],
             [
              0.5555555555555556,
              "#d8576b"
             ],
             [
              0.6666666666666666,
              "#ed7953"
             ],
             [
              0.7777777777777778,
              "#fb9f3a"
             ],
             [
              0.8888888888888888,
              "#fdca26"
             ],
             [
              1,
              "#f0f921"
             ]
            ],
            "type": "surface"
           }
          ],
          "table": [
           {
            "cells": {
             "fill": {
              "color": "#EBF0F8"
             },
             "line": {
              "color": "white"
             }
            },
            "header": {
             "fill": {
              "color": "#C8D4E3"
             },
             "line": {
              "color": "white"
             }
            },
            "type": "table"
           }
          ]
         },
         "layout": {
          "annotationdefaults": {
           "arrowcolor": "#2a3f5f",
           "arrowhead": 0,
           "arrowwidth": 1
          },
          "coloraxis": {
           "colorbar": {
            "outlinewidth": 0,
            "ticks": ""
           }
          },
          "colorscale": {
           "diverging": [
            [
             0,
             "#8e0152"
            ],
            [
             0.1,
             "#c51b7d"
            ],
            [
             0.2,
             "#de77ae"
            ],
            [
             0.3,
             "#f1b6da"
            ],
            [
             0.4,
             "#fde0ef"
            ],
            [
             0.5,
             "#f7f7f7"
            ],
            [
             0.6,
             "#e6f5d0"
            ],
            [
             0.7,
             "#b8e186"
            ],
            [
             0.8,
             "#7fbc41"
            ],
            [
             0.9,
             "#4d9221"
            ],
            [
             1,
             "#276419"
            ]
           ],
           "sequential": [
            [
             0,
             "#0d0887"
            ],
            [
             0.1111111111111111,
             "#46039f"
            ],
            [
             0.2222222222222222,
             "#7201a8"
            ],
            [
             0.3333333333333333,
             "#9c179e"
            ],
            [
             0.4444444444444444,
             "#bd3786"
            ],
            [
             0.5555555555555556,
             "#d8576b"
            ],
            [
             0.6666666666666666,
             "#ed7953"
            ],
            [
             0.7777777777777778,
             "#fb9f3a"
            ],
            [
             0.8888888888888888,
             "#fdca26"
            ],
            [
             1,
             "#f0f921"
            ]
           ],
           "sequentialminus": [
            [
             0,
             "#0d0887"
            ],
            [
             0.1111111111111111,
             "#46039f"
            ],
            [
             0.2222222222222222,
             "#7201a8"
            ],
            [
             0.3333333333333333,
             "#9c179e"
            ],
            [
             0.4444444444444444,
             "#bd3786"
            ],
            [
             0.5555555555555556,
             "#d8576b"
            ],
            [
             0.6666666666666666,
             "#ed7953"
            ],
            [
             0.7777777777777778,
             "#fb9f3a"
            ],
            [
             0.8888888888888888,
             "#fdca26"
            ],
            [
             1,
             "#f0f921"
            ]
           ]
          },
          "colorway": [
           "#636efa",
           "#EF553B",
           "#00cc96",
           "#ab63fa",
           "#FFA15A",
           "#19d3f3",
           "#FF6692",
           "#B6E880",
           "#FF97FF",
           "#FECB52"
          ],
          "font": {
           "color": "#2a3f5f"
          },
          "geo": {
           "bgcolor": "white",
           "lakecolor": "white",
           "landcolor": "#E5ECF6",
           "showlakes": true,
           "showland": true,
           "subunitcolor": "white"
          },
          "hoverlabel": {
           "align": "left"
          },
          "hovermode": "closest",
          "mapbox": {
           "style": "light"
          },
          "paper_bgcolor": "white",
          "plot_bgcolor": "#E5ECF6",
          "polar": {
           "angularaxis": {
            "gridcolor": "white",
            "linecolor": "white",
            "ticks": ""
           },
           "bgcolor": "#E5ECF6",
           "radialaxis": {
            "gridcolor": "white",
            "linecolor": "white",
            "ticks": ""
           }
          },
          "scene": {
           "xaxis": {
            "backgroundcolor": "#E5ECF6",
            "gridcolor": "white",
            "gridwidth": 2,
            "linecolor": "white",
            "showbackground": true,
            "ticks": "",
            "zerolinecolor": "white"
           },
           "yaxis": {
            "backgroundcolor": "#E5ECF6",
            "gridcolor": "white",
            "gridwidth": 2,
            "linecolor": "white",
            "showbackground": true,
            "ticks": "",
            "zerolinecolor": "white"
           },
           "zaxis": {
            "backgroundcolor": "#E5ECF6",
            "gridcolor": "white",
            "gridwidth": 2,
            "linecolor": "white",
            "showbackground": true,
            "ticks": "",
            "zerolinecolor": "white"
           }
          },
          "shapedefaults": {
           "line": {
            "color": "#2a3f5f"
           }
          },
          "ternary": {
           "aaxis": {
            "gridcolor": "white",
            "linecolor": "white",
            "ticks": ""
           },
           "baxis": {
            "gridcolor": "white",
            "linecolor": "white",
            "ticks": ""
           },
           "bgcolor": "#E5ECF6",
           "caxis": {
            "gridcolor": "white",
            "linecolor": "white",
            "ticks": ""
           }
          },
          "title": {
           "x": 0.05
          },
          "xaxis": {
           "automargin": true,
           "gridcolor": "white",
           "linecolor": "white",
           "ticks": "",
           "title": {
            "standoff": 15
           },
           "zerolinecolor": "white",
           "zerolinewidth": 2
          },
          "yaxis": {
           "automargin": true,
           "gridcolor": "white",
           "linecolor": "white",
           "ticks": "",
           "title": {
            "standoff": 15
           },
           "zerolinecolor": "white",
           "zerolinewidth": 2
          }
         }
        },
        "title": {
         "text": "Nombre des club par Maison de culture et par année à Nabeul"
        }
       }
      },
      "text/html": [
       "<div>\n",
       "        \n",
       "        \n",
       "            <div id=\"7b3ade0e-0664-48c9-99b2-1a5d69320f7d\" class=\"plotly-graph-div\" style=\"height:700px; width:100%;\"></div>\n",
       "            <script type=\"text/javascript\">\n",
       "                require([\"plotly\"], function(Plotly) {\n",
       "                    window.PLOTLYENV=window.PLOTLYENV || {};\n",
       "                    \n",
       "                if (document.getElementById(\"7b3ade0e-0664-48c9-99b2-1a5d69320f7d\")) {\n",
       "                    Plotly.newPlot(\n",
       "                        '7b3ade0e-0664-48c9-99b2-1a5d69320f7d',\n",
       "                        [{\"marker\": {\"color\": \"royalblue\"}, \"name\": \"2018\", \"type\": \"bar\", \"x\": [\"maison de culture nabeul\", \"maison de culture grombalia \", \"maison de culture korba \", \"maison de culture tekelssa \", \"maison de culture tazerka \", \"maison de culture elhawaria \", \"maison de culture menzel temime \", \"maison de culture kelibia \", \"centre culturelle niapolis \"], \"y\": [12, 9, 5, 8, 8, 5, 12, 5, 8]}, {\"marker\": {\"color\": \"Silver\"}, \"name\": \"2019\", \"type\": \"bar\", \"x\": [\"maison de culture nabeul\", \"maison de culture grombalia \", \"maison de culture korba \", \"maison de culture tekelssa \", \"maison de culture tazerka \", \"maison de culture elhawaria \", \"maison de culture menzel temime \", \"maison de culture kelibia \", \"centre culturelle niapolis \"], \"y\": [7, 8, 6, 6, 9, 7, 9, 5, 9]}],\n",
       "                        {\"barmode\": \"group\", \"height\": 700, \"template\": {\"data\": {\"bar\": [{\"error_x\": {\"color\": \"#2a3f5f\"}, \"error_y\": {\"color\": \"#2a3f5f\"}, \"marker\": {\"line\": {\"color\": \"#E5ECF6\", \"width\": 0.5}}, \"type\": \"bar\"}], \"barpolar\": [{\"marker\": {\"line\": {\"color\": \"#E5ECF6\", \"width\": 0.5}}, \"type\": \"barpolar\"}], \"carpet\": [{\"aaxis\": {\"endlinecolor\": \"#2a3f5f\", \"gridcolor\": \"white\", \"linecolor\": \"white\", \"minorgridcolor\": \"white\", \"startlinecolor\": \"#2a3f5f\"}, \"baxis\": {\"endlinecolor\": \"#2a3f5f\", \"gridcolor\": \"white\", \"linecolor\": \"white\", \"minorgridcolor\": \"white\", \"startlinecolor\": \"#2a3f5f\"}, \"type\": \"carpet\"}], \"choropleth\": [{\"colorbar\": {\"outlinewidth\": 0, \"ticks\": \"\"}, \"type\": \"choropleth\"}], \"contour\": [{\"colorbar\": {\"outlinewidth\": 0, \"ticks\": \"\"}, \"colorscale\": [[0.0, \"#0d0887\"], [0.1111111111111111, \"#46039f\"], [0.2222222222222222, \"#7201a8\"], [0.3333333333333333, \"#9c179e\"], [0.4444444444444444, \"#bd3786\"], [0.5555555555555556, \"#d8576b\"], [0.6666666666666666, \"#ed7953\"], [0.7777777777777778, \"#fb9f3a\"], [0.8888888888888888, \"#fdca26\"], [1.0, \"#f0f921\"]], \"type\": \"contour\"}], \"contourcarpet\": [{\"colorbar\": {\"outlinewidth\": 0, \"ticks\": \"\"}, \"type\": \"contourcarpet\"}], \"heatmap\": [{\"colorbar\": {\"outlinewidth\": 0, \"ticks\": \"\"}, \"colorscale\": [[0.0, \"#0d0887\"], [0.1111111111111111, \"#46039f\"], [0.2222222222222222, \"#7201a8\"], [0.3333333333333333, \"#9c179e\"], [0.4444444444444444, \"#bd3786\"], [0.5555555555555556, \"#d8576b\"], [0.6666666666666666, \"#ed7953\"], [0.7777777777777778, \"#fb9f3a\"], [0.8888888888888888, \"#fdca26\"], [1.0, \"#f0f921\"]], \"type\": \"heatmap\"}], \"heatmapgl\": [{\"colorbar\": {\"outlinewidth\": 0, \"ticks\": \"\"}, \"colorscale\": [[0.0, \"#0d0887\"], [0.1111111111111111, \"#46039f\"], [0.2222222222222222, \"#7201a8\"], [0.3333333333333333, \"#9c179e\"], [0.4444444444444444, \"#bd3786\"], [0.5555555555555556, \"#d8576b\"], [0.6666666666666666, \"#ed7953\"], [0.7777777777777778, \"#fb9f3a\"], [0.8888888888888888, \"#fdca26\"], [1.0, \"#f0f921\"]], \"type\": \"heatmapgl\"}], \"histogram\": [{\"marker\": {\"colorbar\": {\"outlinewidth\": 0, \"ticks\": \"\"}}, \"type\": \"histogram\"}], \"histogram2d\": [{\"colorbar\": {\"outlinewidth\": 0, \"ticks\": \"\"}, \"colorscale\": [[0.0, \"#0d0887\"], [0.1111111111111111, \"#46039f\"], [0.2222222222222222, \"#7201a8\"], [0.3333333333333333, \"#9c179e\"], [0.4444444444444444, \"#bd3786\"], [0.5555555555555556, \"#d8576b\"], [0.6666666666666666, \"#ed7953\"], [0.7777777777777778, \"#fb9f3a\"], [0.8888888888888888, \"#fdca26\"], [1.0, \"#f0f921\"]], \"type\": \"histogram2d\"}], \"histogram2dcontour\": [{\"colorbar\": {\"outlinewidth\": 0, \"ticks\": \"\"}, \"colorscale\": [[0.0, \"#0d0887\"], [0.1111111111111111, \"#46039f\"], [0.2222222222222222, \"#7201a8\"], [0.3333333333333333, \"#9c179e\"], [0.4444444444444444, \"#bd3786\"], [0.5555555555555556, \"#d8576b\"], [0.6666666666666666, \"#ed7953\"], [0.7777777777777778, \"#fb9f3a\"], [0.8888888888888888, \"#fdca26\"], [1.0, \"#f0f921\"]], \"type\": \"histogram2dcontour\"}], \"mesh3d\": [{\"colorbar\": {\"outlinewidth\": 0, \"ticks\": \"\"}, \"type\": \"mesh3d\"}], \"parcoords\": [{\"line\": {\"colorbar\": {\"outlinewidth\": 0, \"ticks\": \"\"}}, \"type\": \"parcoords\"}], \"pie\": [{\"automargin\": true, \"type\": \"pie\"}], \"scatter\": [{\"marker\": {\"colorbar\": {\"outlinewidth\": 0, \"ticks\": \"\"}}, \"type\": \"scatter\"}], \"scatter3d\": [{\"line\": {\"colorbar\": {\"outlinewidth\": 0, \"ticks\": \"\"}}, \"marker\": {\"colorbar\": {\"outlinewidth\": 0, \"ticks\": \"\"}}, \"type\": \"scatter3d\"}], \"scattercarpet\": [{\"marker\": {\"colorbar\": {\"outlinewidth\": 0, \"ticks\": \"\"}}, \"type\": \"scattercarpet\"}], \"scattergeo\": [{\"marker\": {\"colorbar\": {\"outlinewidth\": 0, \"ticks\": \"\"}}, \"type\": \"scattergeo\"}], \"scattergl\": [{\"marker\": {\"colorbar\": {\"outlinewidth\": 0, \"ticks\": \"\"}}, \"type\": \"scattergl\"}], \"scattermapbox\": [{\"marker\": {\"colorbar\": {\"outlinewidth\": 0, \"ticks\": \"\"}}, \"type\": \"scattermapbox\"}], \"scatterpolar\": [{\"marker\": {\"colorbar\": {\"outlinewidth\": 0, \"ticks\": \"\"}}, \"type\": \"scatterpolar\"}], \"scatterpolargl\": [{\"marker\": {\"colorbar\": {\"outlinewidth\": 0, \"ticks\": \"\"}}, \"type\": \"scatterpolargl\"}], \"scatterternary\": [{\"marker\": {\"colorbar\": {\"outlinewidth\": 0, \"ticks\": \"\"}}, \"type\": \"scatterternary\"}], \"surface\": [{\"colorbar\": {\"outlinewidth\": 0, \"ticks\": \"\"}, \"colorscale\": [[0.0, \"#0d0887\"], [0.1111111111111111, \"#46039f\"], [0.2222222222222222, \"#7201a8\"], [0.3333333333333333, \"#9c179e\"], [0.4444444444444444, \"#bd3786\"], [0.5555555555555556, \"#d8576b\"], [0.6666666666666666, \"#ed7953\"], [0.7777777777777778, \"#fb9f3a\"], [0.8888888888888888, \"#fdca26\"], [1.0, \"#f0f921\"]], \"type\": \"surface\"}], \"table\": [{\"cells\": {\"fill\": {\"color\": \"#EBF0F8\"}, \"line\": {\"color\": \"white\"}}, \"header\": {\"fill\": {\"color\": \"#C8D4E3\"}, \"line\": {\"color\": \"white\"}}, \"type\": \"table\"}]}, \"layout\": {\"annotationdefaults\": {\"arrowcolor\": \"#2a3f5f\", \"arrowhead\": 0, \"arrowwidth\": 1}, \"coloraxis\": {\"colorbar\": {\"outlinewidth\": 0, \"ticks\": \"\"}}, \"colorscale\": {\"diverging\": [[0, \"#8e0152\"], [0.1, \"#c51b7d\"], [0.2, \"#de77ae\"], [0.3, \"#f1b6da\"], [0.4, \"#fde0ef\"], [0.5, \"#f7f7f7\"], [0.6, \"#e6f5d0\"], [0.7, \"#b8e186\"], [0.8, \"#7fbc41\"], [0.9, \"#4d9221\"], [1, \"#276419\"]], \"sequential\": [[0.0, \"#0d0887\"], [0.1111111111111111, \"#46039f\"], [0.2222222222222222, \"#7201a8\"], [0.3333333333333333, \"#9c179e\"], [0.4444444444444444, \"#bd3786\"], [0.5555555555555556, \"#d8576b\"], [0.6666666666666666, \"#ed7953\"], [0.7777777777777778, \"#fb9f3a\"], [0.8888888888888888, \"#fdca26\"], [1.0, \"#f0f921\"]], \"sequentialminus\": [[0.0, \"#0d0887\"], [0.1111111111111111, \"#46039f\"], [0.2222222222222222, \"#7201a8\"], [0.3333333333333333, \"#9c179e\"], [0.4444444444444444, \"#bd3786\"], [0.5555555555555556, \"#d8576b\"], [0.6666666666666666, \"#ed7953\"], [0.7777777777777778, \"#fb9f3a\"], [0.8888888888888888, \"#fdca26\"], [1.0, \"#f0f921\"]]}, \"colorway\": [\"#636efa\", \"#EF553B\", \"#00cc96\", \"#ab63fa\", \"#FFA15A\", \"#19d3f3\", \"#FF6692\", \"#B6E880\", \"#FF97FF\", \"#FECB52\"], \"font\": {\"color\": \"#2a3f5f\"}, \"geo\": {\"bgcolor\": \"white\", \"lakecolor\": \"white\", \"landcolor\": \"#E5ECF6\", \"showlakes\": true, \"showland\": true, \"subunitcolor\": \"white\"}, \"hoverlabel\": {\"align\": \"left\"}, \"hovermode\": \"closest\", \"mapbox\": {\"style\": \"light\"}, \"paper_bgcolor\": \"white\", \"plot_bgcolor\": \"#E5ECF6\", \"polar\": {\"angularaxis\": {\"gridcolor\": \"white\", \"linecolor\": \"white\", \"ticks\": \"\"}, \"bgcolor\": \"#E5ECF6\", \"radialaxis\": {\"gridcolor\": \"white\", \"linecolor\": \"white\", \"ticks\": \"\"}}, \"scene\": {\"xaxis\": {\"backgroundcolor\": \"#E5ECF6\", \"gridcolor\": \"white\", \"gridwidth\": 2, \"linecolor\": \"white\", \"showbackground\": true, \"ticks\": \"\", \"zerolinecolor\": \"white\"}, \"yaxis\": {\"backgroundcolor\": \"#E5ECF6\", \"gridcolor\": \"white\", \"gridwidth\": 2, \"linecolor\": \"white\", \"showbackground\": true, \"ticks\": \"\", \"zerolinecolor\": \"white\"}, \"zaxis\": {\"backgroundcolor\": \"#E5ECF6\", \"gridcolor\": \"white\", \"gridwidth\": 2, \"linecolor\": \"white\", \"showbackground\": true, \"ticks\": \"\", \"zerolinecolor\": \"white\"}}, \"shapedefaults\": {\"line\": {\"color\": \"#2a3f5f\"}}, \"ternary\": {\"aaxis\": {\"gridcolor\": \"white\", \"linecolor\": \"white\", \"ticks\": \"\"}, \"baxis\": {\"gridcolor\": \"white\", \"linecolor\": \"white\", \"ticks\": \"\"}, \"bgcolor\": \"#E5ECF6\", \"caxis\": {\"gridcolor\": \"white\", \"linecolor\": \"white\", \"ticks\": \"\"}}, \"title\": {\"x\": 0.05}, \"xaxis\": {\"automargin\": true, \"gridcolor\": \"white\", \"linecolor\": \"white\", \"ticks\": \"\", \"title\": {\"standoff\": 15}, \"zerolinecolor\": \"white\", \"zerolinewidth\": 2}, \"yaxis\": {\"automargin\": true, \"gridcolor\": \"white\", \"linecolor\": \"white\", \"ticks\": \"\", \"title\": {\"standoff\": 15}, \"zerolinecolor\": \"white\", \"zerolinewidth\": 2}}}, \"title\": {\"text\": \"Nombre des club par Maison de culture et par ann\\u00e9e \\u00e0 Nabeul\"}},\n",
       "                        {\"responsive\": true}\n",
       "                    ).then(function(){\n",
       "                            \n",
       "var gd = document.getElementById('7b3ade0e-0664-48c9-99b2-1a5d69320f7d');\n",
       "var x = new MutationObserver(function (mutations, observer) {{\n",
       "        var display = window.getComputedStyle(gd).display;\n",
       "        if (!display || display === 'none') {{\n",
       "            console.log([gd, 'removed!']);\n",
       "            Plotly.purge(gd);\n",
       "            observer.disconnect();\n",
       "        }}\n",
       "}});\n",
       "\n",
       "// Listen for the removal of the full notebook cells\n",
       "var notebookContainer = gd.closest('#notebook-container');\n",
       "if (notebookContainer) {{\n",
       "    x.observe(notebookContainer, {childList: true});\n",
       "}}\n",
       "\n",
       "// Listen for the clearing of the current output cell\n",
       "var outputEl = gd.closest('.output');\n",
       "if (outputEl) {{\n",
       "    x.observe(outputEl, {childList: true});\n",
       "}}\n",
       "\n",
       "                        })\n",
       "                };\n",
       "                });\n",
       "            </script>\n",
       "        </div>"
      ]
     },
     "metadata": {},
     "output_type": "display_data"
    }
   ],
   "source": [
    "df22=pd.read_csv('donnes-annuels-sur-les-nombres-d-adherent-des-clubs--nabeul-2018-2019.csv')\n",
    "df22\n",
    "import pandas as pd\n",
    "import plotly.graph_objects as go\n",
    "\n",
    "fig = go.Figure()\n",
    "\n",
    "\n",
    "fig = go.Figure(data=[\n",
    "    go.Bar( name='2018',x=df22['Nom_maison _culture'], y=df22['Nbr_clubs_2018'],marker_color='royalblue'),\n",
    "    go.Bar(name='2019',x=df22['Nom_maison _culture'], y=df22['Nbr_clubs_2019'],marker_color='Silver'),\n",
    "])\n",
    "\n",
    "fig.update_layout(barmode='group')\n",
    "fig_5=fig.update_layout(title_text=\"Nombre des club par Maison de culture et par année à Nabeul\" ,height =700)\n",
    "fig_5.show()\n"
   ]
  },
  {
   "cell_type": "code",
   "execution_count": 19,
   "metadata": {},
   "outputs": [
    {
     "data": {
      "application/vnd.plotly.v1+json": {
       "config": {
        "plotlyServerURL": "https://plot.ly"
       },
       "data": [
        {
         "marker": {
          "color": "Blue"
         },
         "name": "Nombre des adhérents total 2019",
         "type": "bar",
         "visible": false,
         "x": [
          "maison de culture nabeul",
          "maison de culture grombalia ",
          "maison de culture korba ",
          "maison de culture tekelssa ",
          "maison de culture tazerka ",
          "maison de culture elhawaria ",
          "maison de culture menzel temime ",
          "maison de culture kelibia ",
          "centre culturelle niapolis "
         ],
         "y": [
          207,
          94,
          90,
          63,
          63,
          89,
          130,
          78,
          138
         ]
        },
        {
         "marker": {
          "color": "royalblue"
         },
         "name": "Nombre des adhérents total 2018",
         "type": "bar",
         "visible": false,
         "x": [
          "maison de culture nabeul",
          "maison de culture grombalia ",
          "maison de culture korba ",
          "maison de culture tekelssa ",
          "maison de culture tazerka ",
          "maison de culture elhawaria ",
          "maison de culture menzel temime ",
          "maison de culture kelibia ",
          "centre culturelle niapolis "
         ],
         "y": [
          274,
          99,
          95,
          86,
          89,
          72,
          171,
          59,
          147
         ]
        },
        {
         "marker": {
          "color": "royalblue"
         },
         "name": "Homme",
         "type": "bar",
         "visible": true,
         "x": [
          "maison de culture nabeul",
          "maison de culture grombalia ",
          "maison de culture korba ",
          "maison de culture tekelssa ",
          "maison de culture tazerka ",
          "maison de culture elhawaria ",
          "maison de culture menzel temime ",
          "maison de culture kelibia ",
          "centre culturelle niapolis "
         ],
         "y": [
          114,
          51,
          28,
          23,
          38,
          29,
          89,
          22,
          72
         ]
        },
        {
         "marker": {
          "color": "Pink"
         },
         "name": "Femme",
         "type": "bar",
         "visible": false,
         "x": [
          "maison de culture nabeul",
          "maison de culture grombalia ",
          "maison de culture korba ",
          "maison de culture tekelssa ",
          "maison de culture tazerka ",
          "maison de culture elhawaria ",
          "maison de culture menzel temime ",
          "maison de culture kelibia ",
          "centre culturelle niapolis "
         ],
         "y": [
          160,
          44,
          67,
          63,
          51,
          43,
          82,
          37,
          75
         ]
        },
        {
         "marker": {
          "color": "royalblue"
         },
         "name": " Homme ",
         "type": "bar",
         "visible": false,
         "x": [
          "maison de culture nabeul",
          "maison de culture grombalia ",
          "maison de culture korba ",
          "maison de culture tekelssa ",
          "maison de culture tazerka ",
          "maison de culture elhawaria ",
          "maison de culture menzel temime ",
          "maison de culture kelibia ",
          "centre culturelle niapolis "
         ],
         "y": [
          46,
          50,
          25,
          20,
          16,
          30,
          46,
          34,
          58
         ]
        },
        {
         "marker": {
          "color": "Pink"
         },
         "name": "Femme 2019",
         "type": "bar",
         "visible": false,
         "x": [
          "maison de culture nabeul",
          "maison de culture grombalia ",
          "maison de culture korba ",
          "maison de culture tekelssa ",
          "maison de culture tazerka ",
          "maison de culture elhawaria ",
          "maison de culture menzel temime ",
          "maison de culture kelibia ",
          "centre culturelle niapolis "
         ],
         "y": [
          161,
          44,
          65,
          43,
          47,
          59,
          84,
          44,
          80
         ]
        }
       ],
       "layout": {
        "font": {
         "family": " Gravitas One, cursive",
         "size": 13
        },
        "template": {
         "data": {
          "bar": [
           {
            "error_x": {
             "color": "#2a3f5f"
            },
            "error_y": {
             "color": "#2a3f5f"
            },
            "marker": {
             "line": {
              "color": "white",
              "width": 0.5
             }
            },
            "type": "bar"
           }
          ],
          "barpolar": [
           {
            "marker": {
             "line": {
              "color": "white",
              "width": 0.5
             }
            },
            "type": "barpolar"
           }
          ],
          "carpet": [
           {
            "aaxis": {
             "endlinecolor": "#2a3f5f",
             "gridcolor": "#C8D4E3",
             "linecolor": "#C8D4E3",
             "minorgridcolor": "#C8D4E3",
             "startlinecolor": "#2a3f5f"
            },
            "baxis": {
             "endlinecolor": "#2a3f5f",
             "gridcolor": "#C8D4E3",
             "linecolor": "#C8D4E3",
             "minorgridcolor": "#C8D4E3",
             "startlinecolor": "#2a3f5f"
            },
            "type": "carpet"
           }
          ],
          "choropleth": [
           {
            "colorbar": {
             "outlinewidth": 0,
             "ticks": ""
            },
            "type": "choropleth"
           }
          ],
          "contour": [
           {
            "colorbar": {
             "outlinewidth": 0,
             "ticks": ""
            },
            "colorscale": [
             [
              0,
              "#0d0887"
             ],
             [
              0.1111111111111111,
              "#46039f"
             ],
             [
              0.2222222222222222,
              "#7201a8"
             ],
             [
              0.3333333333333333,
              "#9c179e"
             ],
             [
              0.4444444444444444,
              "#bd3786"
             ],
             [
              0.5555555555555556,
              "#d8576b"
             ],
             [
              0.6666666666666666,
              "#ed7953"
             ],
             [
              0.7777777777777778,
              "#fb9f3a"
             ],
             [
              0.8888888888888888,
              "#fdca26"
             ],
             [
              1,
              "#f0f921"
             ]
            ],
            "type": "contour"
           }
          ],
          "contourcarpet": [
           {
            "colorbar": {
             "outlinewidth": 0,
             "ticks": ""
            },
            "type": "contourcarpet"
           }
          ],
          "heatmap": [
           {
            "colorbar": {
             "outlinewidth": 0,
             "ticks": ""
            },
            "colorscale": [
             [
              0,
              "#0d0887"
             ],
             [
              0.1111111111111111,
              "#46039f"
             ],
             [
              0.2222222222222222,
              "#7201a8"
             ],
             [
              0.3333333333333333,
              "#9c179e"
             ],
             [
              0.4444444444444444,
              "#bd3786"
             ],
             [
              0.5555555555555556,
              "#d8576b"
             ],
             [
              0.6666666666666666,
              "#ed7953"
             ],
             [
              0.7777777777777778,
              "#fb9f3a"
             ],
             [
              0.8888888888888888,
              "#fdca26"
             ],
             [
              1,
              "#f0f921"
             ]
            ],
            "type": "heatmap"
           }
          ],
          "heatmapgl": [
           {
            "colorbar": {
             "outlinewidth": 0,
             "ticks": ""
            },
            "colorscale": [
             [
              0,
              "#0d0887"
             ],
             [
              0.1111111111111111,
              "#46039f"
             ],
             [
              0.2222222222222222,
              "#7201a8"
             ],
             [
              0.3333333333333333,
              "#9c179e"
             ],
             [
              0.4444444444444444,
              "#bd3786"
             ],
             [
              0.5555555555555556,
              "#d8576b"
             ],
             [
              0.6666666666666666,
              "#ed7953"
             ],
             [
              0.7777777777777778,
              "#fb9f3a"
             ],
             [
              0.8888888888888888,
              "#fdca26"
             ],
             [
              1,
              "#f0f921"
             ]
            ],
            "type": "heatmapgl"
           }
          ],
          "histogram": [
           {
            "marker": {
             "colorbar": {
              "outlinewidth": 0,
              "ticks": ""
             }
            },
            "type": "histogram"
           }
          ],
          "histogram2d": [
           {
            "colorbar": {
             "outlinewidth": 0,
             "ticks": ""
            },
            "colorscale": [
             [
              0,
              "#0d0887"
             ],
             [
              0.1111111111111111,
              "#46039f"
             ],
             [
              0.2222222222222222,
              "#7201a8"
             ],
             [
              0.3333333333333333,
              "#9c179e"
             ],
             [
              0.4444444444444444,
              "#bd3786"
             ],
             [
              0.5555555555555556,
              "#d8576b"
             ],
             [
              0.6666666666666666,
              "#ed7953"
             ],
             [
              0.7777777777777778,
              "#fb9f3a"
             ],
             [
              0.8888888888888888,
              "#fdca26"
             ],
             [
              1,
              "#f0f921"
             ]
            ],
            "type": "histogram2d"
           }
          ],
          "histogram2dcontour": [
           {
            "colorbar": {
             "outlinewidth": 0,
             "ticks": ""
            },
            "colorscale": [
             [
              0,
              "#0d0887"
             ],
             [
              0.1111111111111111,
              "#46039f"
             ],
             [
              0.2222222222222222,
              "#7201a8"
             ],
             [
              0.3333333333333333,
              "#9c179e"
             ],
             [
              0.4444444444444444,
              "#bd3786"
             ],
             [
              0.5555555555555556,
              "#d8576b"
             ],
             [
              0.6666666666666666,
              "#ed7953"
             ],
             [
              0.7777777777777778,
              "#fb9f3a"
             ],
             [
              0.8888888888888888,
              "#fdca26"
             ],
             [
              1,
              "#f0f921"
             ]
            ],
            "type": "histogram2dcontour"
           }
          ],
          "mesh3d": [
           {
            "colorbar": {
             "outlinewidth": 0,
             "ticks": ""
            },
            "type": "mesh3d"
           }
          ],
          "parcoords": [
           {
            "line": {
             "colorbar": {
              "outlinewidth": 0,
              "ticks": ""
             }
            },
            "type": "parcoords"
           }
          ],
          "pie": [
           {
            "automargin": true,
            "type": "pie"
           }
          ],
          "scatter": [
           {
            "marker": {
             "colorbar": {
              "outlinewidth": 0,
              "ticks": ""
             }
            },
            "type": "scatter"
           }
          ],
          "scatter3d": [
           {
            "line": {
             "colorbar": {
              "outlinewidth": 0,
              "ticks": ""
             }
            },
            "marker": {
             "colorbar": {
              "outlinewidth": 0,
              "ticks": ""
             }
            },
            "type": "scatter3d"
           }
          ],
          "scattercarpet": [
           {
            "marker": {
             "colorbar": {
              "outlinewidth": 0,
              "ticks": ""
             }
            },
            "type": "scattercarpet"
           }
          ],
          "scattergeo": [
           {
            "marker": {
             "colorbar": {
              "outlinewidth": 0,
              "ticks": ""
             }
            },
            "type": "scattergeo"
           }
          ],
          "scattergl": [
           {
            "marker": {
             "colorbar": {
              "outlinewidth": 0,
              "ticks": ""
             }
            },
            "type": "scattergl"
           }
          ],
          "scattermapbox": [
           {
            "marker": {
             "colorbar": {
              "outlinewidth": 0,
              "ticks": ""
             }
            },
            "type": "scattermapbox"
           }
          ],
          "scatterpolar": [
           {
            "marker": {
             "colorbar": {
              "outlinewidth": 0,
              "ticks": ""
             }
            },
            "type": "scatterpolar"
           }
          ],
          "scatterpolargl": [
           {
            "marker": {
             "colorbar": {
              "outlinewidth": 0,
              "ticks": ""
             }
            },
            "type": "scatterpolargl"
           }
          ],
          "scatterternary": [
           {
            "marker": {
             "colorbar": {
              "outlinewidth": 0,
              "ticks": ""
             }
            },
            "type": "scatterternary"
           }
          ],
          "surface": [
           {
            "colorbar": {
             "outlinewidth": 0,
             "ticks": ""
            },
            "colorscale": [
             [
              0,
              "#0d0887"
             ],
             [
              0.1111111111111111,
              "#46039f"
             ],
             [
              0.2222222222222222,
              "#7201a8"
             ],
             [
              0.3333333333333333,
              "#9c179e"
             ],
             [
              0.4444444444444444,
              "#bd3786"
             ],
             [
              0.5555555555555556,
              "#d8576b"
             ],
             [
              0.6666666666666666,
              "#ed7953"
             ],
             [
              0.7777777777777778,
              "#fb9f3a"
             ],
             [
              0.8888888888888888,
              "#fdca26"
             ],
             [
              1,
              "#f0f921"
             ]
            ],
            "type": "surface"
           }
          ],
          "table": [
           {
            "cells": {
             "fill": {
              "color": "#EBF0F8"
             },
             "line": {
              "color": "white"
             }
            },
            "header": {
             "fill": {
              "color": "#C8D4E3"
             },
             "line": {
              "color": "white"
             }
            },
            "type": "table"
           }
          ]
         },
         "layout": {
          "annotationdefaults": {
           "arrowcolor": "#2a3f5f",
           "arrowhead": 0,
           "arrowwidth": 1
          },
          "coloraxis": {
           "colorbar": {
            "outlinewidth": 0,
            "ticks": ""
           }
          },
          "colorscale": {
           "diverging": [
            [
             0,
             "#8e0152"
            ],
            [
             0.1,
             "#c51b7d"
            ],
            [
             0.2,
             "#de77ae"
            ],
            [
             0.3,
             "#f1b6da"
            ],
            [
             0.4,
             "#fde0ef"
            ],
            [
             0.5,
             "#f7f7f7"
            ],
            [
             0.6,
             "#e6f5d0"
            ],
            [
             0.7,
             "#b8e186"
            ],
            [
             0.8,
             "#7fbc41"
            ],
            [
             0.9,
             "#4d9221"
            ],
            [
             1,
             "#276419"
            ]
           ],
           "sequential": [
            [
             0,
             "#0d0887"
            ],
            [
             0.1111111111111111,
             "#46039f"
            ],
            [
             0.2222222222222222,
             "#7201a8"
            ],
            [
             0.3333333333333333,
             "#9c179e"
            ],
            [
             0.4444444444444444,
             "#bd3786"
            ],
            [
             0.5555555555555556,
             "#d8576b"
            ],
            [
             0.6666666666666666,
             "#ed7953"
            ],
            [
             0.7777777777777778,
             "#fb9f3a"
            ],
            [
             0.8888888888888888,
             "#fdca26"
            ],
            [
             1,
             "#f0f921"
            ]
           ],
           "sequentialminus": [
            [
             0,
             "#0d0887"
            ],
            [
             0.1111111111111111,
             "#46039f"
            ],
            [
             0.2222222222222222,
             "#7201a8"
            ],
            [
             0.3333333333333333,
             "#9c179e"
            ],
            [
             0.4444444444444444,
             "#bd3786"
            ],
            [
             0.5555555555555556,
             "#d8576b"
            ],
            [
             0.6666666666666666,
             "#ed7953"
            ],
            [
             0.7777777777777778,
             "#fb9f3a"
            ],
            [
             0.8888888888888888,
             "#fdca26"
            ],
            [
             1,
             "#f0f921"
            ]
           ]
          },
          "colorway": [
           "#636efa",
           "#EF553B",
           "#00cc96",
           "#ab63fa",
           "#FFA15A",
           "#19d3f3",
           "#FF6692",
           "#B6E880",
           "#FF97FF",
           "#FECB52"
          ],
          "font": {
           "color": "#2a3f5f"
          },
          "geo": {
           "bgcolor": "white",
           "lakecolor": "white",
           "landcolor": "white",
           "showlakes": true,
           "showland": true,
           "subunitcolor": "#C8D4E3"
          },
          "hoverlabel": {
           "align": "left"
          },
          "hovermode": "closest",
          "mapbox": {
           "style": "light"
          },
          "paper_bgcolor": "white",
          "plot_bgcolor": "white",
          "polar": {
           "angularaxis": {
            "gridcolor": "#EBF0F8",
            "linecolor": "#EBF0F8",
            "ticks": ""
           },
           "bgcolor": "white",
           "radialaxis": {
            "gridcolor": "#EBF0F8",
            "linecolor": "#EBF0F8",
            "ticks": ""
           }
          },
          "scene": {
           "xaxis": {
            "backgroundcolor": "white",
            "gridcolor": "#DFE8F3",
            "gridwidth": 2,
            "linecolor": "#EBF0F8",
            "showbackground": true,
            "ticks": "",
            "zerolinecolor": "#EBF0F8"
           },
           "yaxis": {
            "backgroundcolor": "white",
            "gridcolor": "#DFE8F3",
            "gridwidth": 2,
            "linecolor": "#EBF0F8",
            "showbackground": true,
            "ticks": "",
            "zerolinecolor": "#EBF0F8"
           },
           "zaxis": {
            "backgroundcolor": "white",
            "gridcolor": "#DFE8F3",
            "gridwidth": 2,
            "linecolor": "#EBF0F8",
            "showbackground": true,
            "ticks": "",
            "zerolinecolor": "#EBF0F8"
           }
          },
          "shapedefaults": {
           "line": {
            "color": "#2a3f5f"
           }
          },
          "ternary": {
           "aaxis": {
            "gridcolor": "#DFE8F3",
            "linecolor": "#A2B1C6",
            "ticks": ""
           },
           "baxis": {
            "gridcolor": "#DFE8F3",
            "linecolor": "#A2B1C6",
            "ticks": ""
           },
           "bgcolor": "white",
           "caxis": {
            "gridcolor": "#DFE8F3",
            "linecolor": "#A2B1C6",
            "ticks": ""
           }
          },
          "title": {
           "x": 0.05
          },
          "xaxis": {
           "automargin": true,
           "gridcolor": "#EBF0F8",
           "linecolor": "#EBF0F8",
           "ticks": "",
           "title": {
            "standoff": 15
           },
           "zerolinecolor": "#EBF0F8",
           "zerolinewidth": 2
          },
          "yaxis": {
           "automargin": true,
           "gridcolor": "#EBF0F8",
           "linecolor": "#EBF0F8",
           "ticks": "",
           "title": {
            "standoff": 15
           },
           "zerolinecolor": "#EBF0F8",
           "zerolinewidth": 2
          }
         }
        },
        "title": {
         "text": "Le nombre d'adhrent des les maison de culture de nabeul"
        },
        "updatemenus": [
         {
          "buttons": [
           {
            "args": [
             {
              "visible": [
               true,
               false,
               false,
               false,
               false,
               false
              ]
             }
            ],
            "label": "Nombre des adhérents total 2019",
            "method": "update"
           },
           {
            "args": [
             {
              "visible": [
               false,
               true,
               false,
               false,
               false,
               false
              ]
             }
            ],
            "label": "Nombre des adhérents total 2018",
            "method": "update"
           },
           {
            "args": [
             {
              "visible": [
               false,
               false,
               true,
               false,
               false,
               false
              ]
             }
            ],
            "label": "Nombre des adhérents homme 2018",
            "method": "update"
           },
           {
            "args": [
             {
              "visible": [
               false,
               false,
               false,
               true,
               false,
               false
              ]
             }
            ],
            "label": "Nombre des adhérents femme 2018",
            "method": "update"
           },
           {
            "args": [
             {
              "visible": [
               false,
               false,
               false,
               false,
               true,
               false
              ]
             }
            ],
            "label": "Nombre des adhérents Homme 2019",
            "method": "update"
           },
           {
            "args": [
             {
              "visible": [
               false,
               false,
               false,
               false,
               false,
               true
              ]
             }
            ],
            "label": "Nombre des adhérents Femme 2019",
            "method": "update"
           },
           {
            "args": [
             {
              "visible": [
               false,
               false,
               false,
               false,
               true,
               true
              ]
             }
            ],
            "label": "Nombre des adhérents H/F 2019",
            "method": "update"
           },
           {
            "args": [
             {
              "visible": [
               false,
               false,
               true,
               true,
               false,
               false
              ]
             }
            ],
            "label": "Nombre des adhérents H/F 2018",
            "method": "update"
           }
          ]
         }
        ]
       }
      },
      "text/html": [
       "<div>\n",
       "        \n",
       "        \n",
       "            <div id=\"5978c04e-830b-46f8-abc1-97d3f6cb0911\" class=\"plotly-graph-div\" style=\"height:525px; width:100%;\"></div>\n",
       "            <script type=\"text/javascript\">\n",
       "                require([\"plotly\"], function(Plotly) {\n",
       "                    window.PLOTLYENV=window.PLOTLYENV || {};\n",
       "                    \n",
       "                if (document.getElementById(\"5978c04e-830b-46f8-abc1-97d3f6cb0911\")) {\n",
       "                    Plotly.newPlot(\n",
       "                        '5978c04e-830b-46f8-abc1-97d3f6cb0911',\n",
       "                        [{\"marker\": {\"color\": \"Blue\"}, \"name\": \"Nombre des adh\\u00e9rents total 2019\", \"type\": \"bar\", \"visible\": false, \"x\": [\"maison de culture nabeul\", \"maison de culture grombalia \", \"maison de culture korba \", \"maison de culture tekelssa \", \"maison de culture tazerka \", \"maison de culture elhawaria \", \"maison de culture menzel temime \", \"maison de culture kelibia \", \"centre culturelle niapolis \"], \"y\": [207, 94, 90, 63, 63, 89, 130, 78, 138]}, {\"marker\": {\"color\": \"royalblue\"}, \"name\": \"Nombre des adh\\u00e9rents total 2018\", \"type\": \"bar\", \"visible\": false, \"x\": [\"maison de culture nabeul\", \"maison de culture grombalia \", \"maison de culture korba \", \"maison de culture tekelssa \", \"maison de culture tazerka \", \"maison de culture elhawaria \", \"maison de culture menzel temime \", \"maison de culture kelibia \", \"centre culturelle niapolis \"], \"y\": [274, 99, 95, 86, 89, 72, 171, 59, 147]}, {\"marker\": {\"color\": \"royalblue\"}, \"name\": \"Homme\", \"type\": \"bar\", \"visible\": true, \"x\": [\"maison de culture nabeul\", \"maison de culture grombalia \", \"maison de culture korba \", \"maison de culture tekelssa \", \"maison de culture tazerka \", \"maison de culture elhawaria \", \"maison de culture menzel temime \", \"maison de culture kelibia \", \"centre culturelle niapolis \"], \"y\": [114, 51, 28, 23, 38, 29, 89, 22, 72]}, {\"marker\": {\"color\": \"Pink\"}, \"name\": \"Femme\", \"type\": \"bar\", \"visible\": false, \"x\": [\"maison de culture nabeul\", \"maison de culture grombalia \", \"maison de culture korba \", \"maison de culture tekelssa \", \"maison de culture tazerka \", \"maison de culture elhawaria \", \"maison de culture menzel temime \", \"maison de culture kelibia \", \"centre culturelle niapolis \"], \"y\": [160, 44, 67, 63, 51, 43, 82, 37, 75]}, {\"marker\": {\"color\": \"royalblue\"}, \"name\": \" Homme \", \"type\": \"bar\", \"visible\": false, \"x\": [\"maison de culture nabeul\", \"maison de culture grombalia \", \"maison de culture korba \", \"maison de culture tekelssa \", \"maison de culture tazerka \", \"maison de culture elhawaria \", \"maison de culture menzel temime \", \"maison de culture kelibia \", \"centre culturelle niapolis \"], \"y\": [46, 50, 25, 20, 16, 30, 46, 34, 58]}, {\"marker\": {\"color\": \"Pink\"}, \"name\": \"Femme 2019\", \"type\": \"bar\", \"visible\": false, \"x\": [\"maison de culture nabeul\", \"maison de culture grombalia \", \"maison de culture korba \", \"maison de culture tekelssa \", \"maison de culture tazerka \", \"maison de culture elhawaria \", \"maison de culture menzel temime \", \"maison de culture kelibia \", \"centre culturelle niapolis \"], \"y\": [161, 44, 65, 43, 47, 59, 84, 44, 80]}],\n",
       "                        {\"font\": {\"family\": \" Gravitas One, cursive\", \"size\": 13}, \"template\": {\"data\": {\"bar\": [{\"error_x\": {\"color\": \"#2a3f5f\"}, \"error_y\": {\"color\": \"#2a3f5f\"}, \"marker\": {\"line\": {\"color\": \"white\", \"width\": 0.5}}, \"type\": \"bar\"}], \"barpolar\": [{\"marker\": {\"line\": {\"color\": \"white\", \"width\": 0.5}}, \"type\": \"barpolar\"}], \"carpet\": [{\"aaxis\": {\"endlinecolor\": \"#2a3f5f\", \"gridcolor\": \"#C8D4E3\", \"linecolor\": \"#C8D4E3\", \"minorgridcolor\": \"#C8D4E3\", \"startlinecolor\": \"#2a3f5f\"}, \"baxis\": {\"endlinecolor\": \"#2a3f5f\", \"gridcolor\": \"#C8D4E3\", \"linecolor\": \"#C8D4E3\", \"minorgridcolor\": \"#C8D4E3\", \"startlinecolor\": \"#2a3f5f\"}, \"type\": \"carpet\"}], \"choropleth\": [{\"colorbar\": {\"outlinewidth\": 0, \"ticks\": \"\"}, \"type\": \"choropleth\"}], \"contour\": [{\"colorbar\": {\"outlinewidth\": 0, \"ticks\": \"\"}, \"colorscale\": [[0.0, \"#0d0887\"], [0.1111111111111111, \"#46039f\"], [0.2222222222222222, \"#7201a8\"], [0.3333333333333333, \"#9c179e\"], [0.4444444444444444, \"#bd3786\"], [0.5555555555555556, \"#d8576b\"], [0.6666666666666666, \"#ed7953\"], [0.7777777777777778, \"#fb9f3a\"], [0.8888888888888888, \"#fdca26\"], [1.0, \"#f0f921\"]], \"type\": \"contour\"}], \"contourcarpet\": [{\"colorbar\": {\"outlinewidth\": 0, \"ticks\": \"\"}, \"type\": \"contourcarpet\"}], \"heatmap\": [{\"colorbar\": {\"outlinewidth\": 0, \"ticks\": \"\"}, \"colorscale\": [[0.0, \"#0d0887\"], [0.1111111111111111, \"#46039f\"], [0.2222222222222222, \"#7201a8\"], [0.3333333333333333, \"#9c179e\"], [0.4444444444444444, \"#bd3786\"], [0.5555555555555556, \"#d8576b\"], [0.6666666666666666, \"#ed7953\"], [0.7777777777777778, \"#fb9f3a\"], [0.8888888888888888, \"#fdca26\"], [1.0, \"#f0f921\"]], \"type\": \"heatmap\"}], \"heatmapgl\": [{\"colorbar\": {\"outlinewidth\": 0, \"ticks\": \"\"}, \"colorscale\": [[0.0, \"#0d0887\"], [0.1111111111111111, \"#46039f\"], [0.2222222222222222, \"#7201a8\"], [0.3333333333333333, \"#9c179e\"], [0.4444444444444444, \"#bd3786\"], [0.5555555555555556, \"#d8576b\"], [0.6666666666666666, \"#ed7953\"], [0.7777777777777778, \"#fb9f3a\"], [0.8888888888888888, \"#fdca26\"], [1.0, \"#f0f921\"]], \"type\": \"heatmapgl\"}], \"histogram\": [{\"marker\": {\"colorbar\": {\"outlinewidth\": 0, \"ticks\": \"\"}}, \"type\": \"histogram\"}], \"histogram2d\": [{\"colorbar\": {\"outlinewidth\": 0, \"ticks\": \"\"}, \"colorscale\": [[0.0, \"#0d0887\"], [0.1111111111111111, \"#46039f\"], [0.2222222222222222, \"#7201a8\"], [0.3333333333333333, \"#9c179e\"], [0.4444444444444444, \"#bd3786\"], [0.5555555555555556, \"#d8576b\"], [0.6666666666666666, \"#ed7953\"], [0.7777777777777778, \"#fb9f3a\"], [0.8888888888888888, \"#fdca26\"], [1.0, \"#f0f921\"]], \"type\": \"histogram2d\"}], \"histogram2dcontour\": [{\"colorbar\": {\"outlinewidth\": 0, \"ticks\": \"\"}, \"colorscale\": [[0.0, \"#0d0887\"], [0.1111111111111111, \"#46039f\"], [0.2222222222222222, \"#7201a8\"], [0.3333333333333333, \"#9c179e\"], [0.4444444444444444, \"#bd3786\"], [0.5555555555555556, \"#d8576b\"], [0.6666666666666666, \"#ed7953\"], [0.7777777777777778, \"#fb9f3a\"], [0.8888888888888888, \"#fdca26\"], [1.0, \"#f0f921\"]], \"type\": \"histogram2dcontour\"}], \"mesh3d\": [{\"colorbar\": {\"outlinewidth\": 0, \"ticks\": \"\"}, \"type\": \"mesh3d\"}], \"parcoords\": [{\"line\": {\"colorbar\": {\"outlinewidth\": 0, \"ticks\": \"\"}}, \"type\": \"parcoords\"}], \"pie\": [{\"automargin\": true, \"type\": \"pie\"}], \"scatter\": [{\"marker\": {\"colorbar\": {\"outlinewidth\": 0, \"ticks\": \"\"}}, \"type\": \"scatter\"}], \"scatter3d\": [{\"line\": {\"colorbar\": {\"outlinewidth\": 0, \"ticks\": \"\"}}, \"marker\": {\"colorbar\": {\"outlinewidth\": 0, \"ticks\": \"\"}}, \"type\": \"scatter3d\"}], \"scattercarpet\": [{\"marker\": {\"colorbar\": {\"outlinewidth\": 0, \"ticks\": \"\"}}, \"type\": \"scattercarpet\"}], \"scattergeo\": [{\"marker\": {\"colorbar\": {\"outlinewidth\": 0, \"ticks\": \"\"}}, \"type\": \"scattergeo\"}], \"scattergl\": [{\"marker\": {\"colorbar\": {\"outlinewidth\": 0, \"ticks\": \"\"}}, \"type\": \"scattergl\"}], \"scattermapbox\": [{\"marker\": {\"colorbar\": {\"outlinewidth\": 0, \"ticks\": \"\"}}, \"type\": \"scattermapbox\"}], \"scatterpolar\": [{\"marker\": {\"colorbar\": {\"outlinewidth\": 0, \"ticks\": \"\"}}, \"type\": \"scatterpolar\"}], \"scatterpolargl\": [{\"marker\": {\"colorbar\": {\"outlinewidth\": 0, \"ticks\": \"\"}}, \"type\": \"scatterpolargl\"}], \"scatterternary\": [{\"marker\": {\"colorbar\": {\"outlinewidth\": 0, \"ticks\": \"\"}}, \"type\": \"scatterternary\"}], \"surface\": [{\"colorbar\": {\"outlinewidth\": 0, \"ticks\": \"\"}, \"colorscale\": [[0.0, \"#0d0887\"], [0.1111111111111111, \"#46039f\"], [0.2222222222222222, \"#7201a8\"], [0.3333333333333333, \"#9c179e\"], [0.4444444444444444, \"#bd3786\"], [0.5555555555555556, \"#d8576b\"], [0.6666666666666666, \"#ed7953\"], [0.7777777777777778, \"#fb9f3a\"], [0.8888888888888888, \"#fdca26\"], [1.0, \"#f0f921\"]], \"type\": \"surface\"}], \"table\": [{\"cells\": {\"fill\": {\"color\": \"#EBF0F8\"}, \"line\": {\"color\": \"white\"}}, \"header\": {\"fill\": {\"color\": \"#C8D4E3\"}, \"line\": {\"color\": \"white\"}}, \"type\": \"table\"}]}, \"layout\": {\"annotationdefaults\": {\"arrowcolor\": \"#2a3f5f\", \"arrowhead\": 0, \"arrowwidth\": 1}, \"coloraxis\": {\"colorbar\": {\"outlinewidth\": 0, \"ticks\": \"\"}}, \"colorscale\": {\"diverging\": [[0, \"#8e0152\"], [0.1, \"#c51b7d\"], [0.2, \"#de77ae\"], [0.3, \"#f1b6da\"], [0.4, \"#fde0ef\"], [0.5, \"#f7f7f7\"], [0.6, \"#e6f5d0\"], [0.7, \"#b8e186\"], [0.8, \"#7fbc41\"], [0.9, \"#4d9221\"], [1, \"#276419\"]], \"sequential\": [[0.0, \"#0d0887\"], [0.1111111111111111, \"#46039f\"], [0.2222222222222222, \"#7201a8\"], [0.3333333333333333, \"#9c179e\"], [0.4444444444444444, \"#bd3786\"], [0.5555555555555556, \"#d8576b\"], [0.6666666666666666, \"#ed7953\"], [0.7777777777777778, \"#fb9f3a\"], [0.8888888888888888, \"#fdca26\"], [1.0, \"#f0f921\"]], \"sequentialminus\": [[0.0, \"#0d0887\"], [0.1111111111111111, \"#46039f\"], [0.2222222222222222, \"#7201a8\"], [0.3333333333333333, \"#9c179e\"], [0.4444444444444444, \"#bd3786\"], [0.5555555555555556, \"#d8576b\"], [0.6666666666666666, \"#ed7953\"], [0.7777777777777778, \"#fb9f3a\"], [0.8888888888888888, \"#fdca26\"], [1.0, \"#f0f921\"]]}, \"colorway\": [\"#636efa\", \"#EF553B\", \"#00cc96\", \"#ab63fa\", \"#FFA15A\", \"#19d3f3\", \"#FF6692\", \"#B6E880\", \"#FF97FF\", \"#FECB52\"], \"font\": {\"color\": \"#2a3f5f\"}, \"geo\": {\"bgcolor\": \"white\", \"lakecolor\": \"white\", \"landcolor\": \"white\", \"showlakes\": true, \"showland\": true, \"subunitcolor\": \"#C8D4E3\"}, \"hoverlabel\": {\"align\": \"left\"}, \"hovermode\": \"closest\", \"mapbox\": {\"style\": \"light\"}, \"paper_bgcolor\": \"white\", \"plot_bgcolor\": \"white\", \"polar\": {\"angularaxis\": {\"gridcolor\": \"#EBF0F8\", \"linecolor\": \"#EBF0F8\", \"ticks\": \"\"}, \"bgcolor\": \"white\", \"radialaxis\": {\"gridcolor\": \"#EBF0F8\", \"linecolor\": \"#EBF0F8\", \"ticks\": \"\"}}, \"scene\": {\"xaxis\": {\"backgroundcolor\": \"white\", \"gridcolor\": \"#DFE8F3\", \"gridwidth\": 2, \"linecolor\": \"#EBF0F8\", \"showbackground\": true, \"ticks\": \"\", \"zerolinecolor\": \"#EBF0F8\"}, \"yaxis\": {\"backgroundcolor\": \"white\", \"gridcolor\": \"#DFE8F3\", \"gridwidth\": 2, \"linecolor\": \"#EBF0F8\", \"showbackground\": true, \"ticks\": \"\", \"zerolinecolor\": \"#EBF0F8\"}, \"zaxis\": {\"backgroundcolor\": \"white\", \"gridcolor\": \"#DFE8F3\", \"gridwidth\": 2, \"linecolor\": \"#EBF0F8\", \"showbackground\": true, \"ticks\": \"\", \"zerolinecolor\": \"#EBF0F8\"}}, \"shapedefaults\": {\"line\": {\"color\": \"#2a3f5f\"}}, \"ternary\": {\"aaxis\": {\"gridcolor\": \"#DFE8F3\", \"linecolor\": \"#A2B1C6\", \"ticks\": \"\"}, \"baxis\": {\"gridcolor\": \"#DFE8F3\", \"linecolor\": \"#A2B1C6\", \"ticks\": \"\"}, \"bgcolor\": \"white\", \"caxis\": {\"gridcolor\": \"#DFE8F3\", \"linecolor\": \"#A2B1C6\", \"ticks\": \"\"}}, \"title\": {\"x\": 0.05}, \"xaxis\": {\"automargin\": true, \"gridcolor\": \"#EBF0F8\", \"linecolor\": \"#EBF0F8\", \"ticks\": \"\", \"title\": {\"standoff\": 15}, \"zerolinecolor\": \"#EBF0F8\", \"zerolinewidth\": 2}, \"yaxis\": {\"automargin\": true, \"gridcolor\": \"#EBF0F8\", \"linecolor\": \"#EBF0F8\", \"ticks\": \"\", \"title\": {\"standoff\": 15}, \"zerolinecolor\": \"#EBF0F8\", \"zerolinewidth\": 2}}}, \"title\": {\"text\": \"Le nombre d'adhrent des les maison de culture de nabeul\"}, \"updatemenus\": [{\"buttons\": [{\"args\": [{\"visible\": [true, false, false, false, false, false]}], \"label\": \"Nombre des adh\\u00e9rents total 2019\", \"method\": \"update\"}, {\"args\": [{\"visible\": [false, true, false, false, false, false]}], \"label\": \"Nombre des adh\\u00e9rents total 2018\", \"method\": \"update\"}, {\"args\": [{\"visible\": [false, false, true, false, false, false]}], \"label\": \"Nombre des adh\\u00e9rents homme 2018\", \"method\": \"update\"}, {\"args\": [{\"visible\": [false, false, false, true, false, false]}], \"label\": \"Nombre des adh\\u00e9rents femme 2018\", \"method\": \"update\"}, {\"args\": [{\"visible\": [false, false, false, false, true, false]}], \"label\": \"Nombre des adh\\u00e9rents Homme 2019\", \"method\": \"update\"}, {\"args\": [{\"visible\": [false, false, false, false, false, true]}], \"label\": \"Nombre des adh\\u00e9rents Femme 2019\", \"method\": \"update\"}, {\"args\": [{\"visible\": [false, false, false, false, true, true]}], \"label\": \"Nombre des adh\\u00e9rents H/F 2019\", \"method\": \"update\"}, {\"args\": [{\"visible\": [false, false, true, true, false, false]}], \"label\": \"Nombre des adh\\u00e9rents H/F 2018\", \"method\": \"update\"}]}]},\n",
       "                        {\"responsive\": true}\n",
       "                    ).then(function(){\n",
       "                            \n",
       "var gd = document.getElementById('5978c04e-830b-46f8-abc1-97d3f6cb0911');\n",
       "var x = new MutationObserver(function (mutations, observer) {{\n",
       "        var display = window.getComputedStyle(gd).display;\n",
       "        if (!display || display === 'none') {{\n",
       "            console.log([gd, 'removed!']);\n",
       "            Plotly.purge(gd);\n",
       "            observer.disconnect();\n",
       "        }}\n",
       "}});\n",
       "\n",
       "// Listen for the removal of the full notebook cells\n",
       "var notebookContainer = gd.closest('#notebook-container');\n",
       "if (notebookContainer) {{\n",
       "    x.observe(notebookContainer, {childList: true});\n",
       "}}\n",
       "\n",
       "// Listen for the clearing of the current output cell\n",
       "var outputEl = gd.closest('.output');\n",
       "if (outputEl) {{\n",
       "    x.observe(outputEl, {childList: true});\n",
       "}}\n",
       "\n",
       "                        })\n",
       "                };\n",
       "                });\n",
       "            </script>\n",
       "        </div>"
      ]
     },
     "metadata": {},
     "output_type": "display_data"
    }
   ],
   "source": [
    "df222=pd.read_csv('donnes-annuels-sur-les-nombres-d-adherent-des-clubs--nabeul-2018-2019.csv')\n",
    "df222\n",
    "import pandas as pd\n",
    "import plotly.graph_objects as go\n",
    "\n",
    "data_bar=[ go.Bar(name='Nombre des adhérents total 2019',\n",
    "           visible=False,\n",
    "           x=df222['Nom_maison _culture'], \n",
    "           y=df222['Nbr_adhérent_club_2019'],\n",
    "           marker_color='Blue'), \n",
    "          go.Bar(name='Nombre des adhérents total 2018',\n",
    "           visible=False,\n",
    "           x=df222['Nom_maison _culture'], \n",
    "           y=df222['Nbr_adhérent_club _2018'],\n",
    "           marker_color='royalblue'),\n",
    "          \n",
    "           \n",
    "          \n",
    "           go.Bar(name='Homme',\n",
    "           visible=True,\n",
    "           x=df22['Nom_maison _culture'], \n",
    "           y=df22['Nbr_adhérent_G_2018'],\n",
    "           marker_color='royalblue'),\n",
    "          \n",
    "         go.Bar(name='Femme',\n",
    "           visible=False,\n",
    "           x=df22['Nom_maison _culture'], \n",
    "           y= df22['Nbr_adhérent_f _2018'],\n",
    "          marker_color='Pink'),\n",
    "          \n",
    "         go.Bar(name=' Homme ',\n",
    "           visible=False,\n",
    "           x=df22['Nom_maison _culture'], \n",
    "           y=df22['Nbr_adhérent_G_2019'],\n",
    "           marker_color='royalblue'),\n",
    "          \n",
    "          go.Bar(name='Femme 2019',\n",
    "           visible=False,\n",
    "           x=df22['Nom_maison _culture'], \n",
    "           y=df22['Nbr_adhérent_F_2019'],\n",
    "           marker_color='Pink'),\n",
    "         \n",
    "\n",
    "          \n",
    "        ]\n",
    "    \n",
    "list_updatemenus=[\n",
    "        {'args':[{\"visible\":[True,False,False,False,False,False]}],\n",
    "         'label':\"Nombre des adhérents total 2019\",\n",
    "         'method':\"update\"},\n",
    "    \n",
    "        { 'args':[{\"visible\":[False,True,False,False,False,False]}],\n",
    "         'label':\"Nombre des adhérents total 2018\",\n",
    "         'method':\"update\"},\n",
    "    {'args':[{\"visible\":[False,False,True,False,False,False]}],\n",
    "         'label':\"Nombre des adhérents homme 2018\",\n",
    "         'method':\"update\"},\n",
    "    {'args':[{\"visible\":[False,False,False,True,False,False]}],\n",
    "         'label':\"Nombre des adhérents femme 2018\",\n",
    "         'method':\"update\"},\n",
    "    \n",
    "     {'args':[{\"visible\":[False,False,False,False,True,False]}],\n",
    "         'label':\"Nombre des adhérents Homme 2019\",\n",
    "         'method':\"update\"},\n",
    "     {'args':[{\"visible\":[False,False,False,False,False,True]}],\n",
    "         'label':\"Nombre des adhérents Femme 2019\",\n",
    "         'method':\"update\"},\n",
    "    \n",
    "    \n",
    "     {'args':[{\"visible\":[False,False,False,False,True,True]}],\n",
    "         'label':\"Nombre des adhérents H/F 2019\",\n",
    "         'method':\"update\"},\n",
    "     {'args':[{\"visible\":[False,False,True,True,False,False]}],\n",
    "         'label':\"Nombre des adhérents H/F 2018\",\n",
    "         'method':\"update\"},\n",
    "        ]\n",
    "\n",
    "\n",
    "\n",
    "\n",
    "layout_bar=go.Layout(updatemenus=list([dict(buttons= list_updatemenus)]),\n",
    "                     title_text=\"Le nombre d'adhrent des les maison de culture de nabeul\",\n",
    "                     template='plotly_white',\n",
    "                     font=dict(\n",
    "                    family=\" Gravitas One, cursive\",\n",
    "                    size=13))\n",
    "\n",
    "#defining figure and plotting\n",
    "fig_bar_6 = go.Figure(data_bar,layout_bar)\n",
    "fig_bar_6.show()"
   ]
  },
  {
   "cell_type": "code",
   "execution_count": 20,
   "metadata": {},
   "outputs": [
    {
     "data": {
      "application/vnd.plotly.v1+json": {
       "config": {
        "plotlyServerURL": "https://plot.ly"
       },
       "data": [
        {
         "marker": {
          "color": "RoyalBlue"
         },
         "name": "Nombre de club 2015",
         "type": "bar",
         "visible": true,
         "x": [
          "Ariana",
          "Ben Arous",
          "Bizerte",
          "Béja",
          "Gabès",
          "Gafsa",
          "Jendouba",
          "Kairouan",
          "Kassérine",
          "Kebili",
          "Le Kef",
          "Mahdia",
          "Manubah",
          "Monastir",
          "Médenine",
          "Nabeul",
          "Sfax",
          "Sidi Bou Zid",
          "Siliana",
          "Sousse",
          "Tataouine",
          "Tozeur",
          "Tunis",
          "Zaghouan"
         ],
         "y": [
          15,
          54,
          82,
          38,
          31,
          53,
          31,
          28,
          59,
          23,
          52,
          56,
          27,
          63,
          34,
          53,
          88,
          57,
          41,
          63,
          37,
          19,
          129,
          17
         ]
        },
        {
         "marker": {
          "color": "silver"
         },
         "name": "Nombre de pionnier 2015",
         "type": "bar",
         "visible": false,
         "x": [
          "Ariana",
          "Ben Arous",
          "Bizerte",
          "Béja",
          "Gabès",
          "Gafsa",
          "Jendouba",
          "Kairouan",
          "Kassérine",
          "Kebili",
          "Le Kef",
          "Mahdia",
          "Manubah",
          "Monastir",
          "Médenine",
          "Nabeul",
          "Sfax",
          "Sidi Bou Zid",
          "Siliana",
          "Sousse",
          "Tataouine",
          "Tozeur",
          "Tunis",
          "Zaghouan"
         ],
         "y": [
          392,
          689,
          1354,
          552,
          410,
          988,
          591,
          649,
          784,
          269,
          671,
          941,
          970,
          1006,
          743,
          688,
          1845,
          928,
          807,
          1407,
          562,
          464,
          2127,
          275
         ]
        }
       ],
       "layout": {
        "font": {
         "family": " Gravitas One, cursive",
         "size": 16
        },
        "template": {
         "data": {
          "bar": [
           {
            "error_x": {
             "color": "#2a3f5f"
            },
            "error_y": {
             "color": "#2a3f5f"
            },
            "marker": {
             "line": {
              "color": "white",
              "width": 0.5
             }
            },
            "type": "bar"
           }
          ],
          "barpolar": [
           {
            "marker": {
             "line": {
              "color": "white",
              "width": 0.5
             }
            },
            "type": "barpolar"
           }
          ],
          "carpet": [
           {
            "aaxis": {
             "endlinecolor": "#2a3f5f",
             "gridcolor": "#C8D4E3",
             "linecolor": "#C8D4E3",
             "minorgridcolor": "#C8D4E3",
             "startlinecolor": "#2a3f5f"
            },
            "baxis": {
             "endlinecolor": "#2a3f5f",
             "gridcolor": "#C8D4E3",
             "linecolor": "#C8D4E3",
             "minorgridcolor": "#C8D4E3",
             "startlinecolor": "#2a3f5f"
            },
            "type": "carpet"
           }
          ],
          "choropleth": [
           {
            "colorbar": {
             "outlinewidth": 0,
             "ticks": ""
            },
            "type": "choropleth"
           }
          ],
          "contour": [
           {
            "colorbar": {
             "outlinewidth": 0,
             "ticks": ""
            },
            "colorscale": [
             [
              0,
              "#0d0887"
             ],
             [
              0.1111111111111111,
              "#46039f"
             ],
             [
              0.2222222222222222,
              "#7201a8"
             ],
             [
              0.3333333333333333,
              "#9c179e"
             ],
             [
              0.4444444444444444,
              "#bd3786"
             ],
             [
              0.5555555555555556,
              "#d8576b"
             ],
             [
              0.6666666666666666,
              "#ed7953"
             ],
             [
              0.7777777777777778,
              "#fb9f3a"
             ],
             [
              0.8888888888888888,
              "#fdca26"
             ],
             [
              1,
              "#f0f921"
             ]
            ],
            "type": "contour"
           }
          ],
          "contourcarpet": [
           {
            "colorbar": {
             "outlinewidth": 0,
             "ticks": ""
            },
            "type": "contourcarpet"
           }
          ],
          "heatmap": [
           {
            "colorbar": {
             "outlinewidth": 0,
             "ticks": ""
            },
            "colorscale": [
             [
              0,
              "#0d0887"
             ],
             [
              0.1111111111111111,
              "#46039f"
             ],
             [
              0.2222222222222222,
              "#7201a8"
             ],
             [
              0.3333333333333333,
              "#9c179e"
             ],
             [
              0.4444444444444444,
              "#bd3786"
             ],
             [
              0.5555555555555556,
              "#d8576b"
             ],
             [
              0.6666666666666666,
              "#ed7953"
             ],
             [
              0.7777777777777778,
              "#fb9f3a"
             ],
             [
              0.8888888888888888,
              "#fdca26"
             ],
             [
              1,
              "#f0f921"
             ]
            ],
            "type": "heatmap"
           }
          ],
          "heatmapgl": [
           {
            "colorbar": {
             "outlinewidth": 0,
             "ticks": ""
            },
            "colorscale": [
             [
              0,
              "#0d0887"
             ],
             [
              0.1111111111111111,
              "#46039f"
             ],
             [
              0.2222222222222222,
              "#7201a8"
             ],
             [
              0.3333333333333333,
              "#9c179e"
             ],
             [
              0.4444444444444444,
              "#bd3786"
             ],
             [
              0.5555555555555556,
              "#d8576b"
             ],
             [
              0.6666666666666666,
              "#ed7953"
             ],
             [
              0.7777777777777778,
              "#fb9f3a"
             ],
             [
              0.8888888888888888,
              "#fdca26"
             ],
             [
              1,
              "#f0f921"
             ]
            ],
            "type": "heatmapgl"
           }
          ],
          "histogram": [
           {
            "marker": {
             "colorbar": {
              "outlinewidth": 0,
              "ticks": ""
             }
            },
            "type": "histogram"
           }
          ],
          "histogram2d": [
           {
            "colorbar": {
             "outlinewidth": 0,
             "ticks": ""
            },
            "colorscale": [
             [
              0,
              "#0d0887"
             ],
             [
              0.1111111111111111,
              "#46039f"
             ],
             [
              0.2222222222222222,
              "#7201a8"
             ],
             [
              0.3333333333333333,
              "#9c179e"
             ],
             [
              0.4444444444444444,
              "#bd3786"
             ],
             [
              0.5555555555555556,
              "#d8576b"
             ],
             [
              0.6666666666666666,
              "#ed7953"
             ],
             [
              0.7777777777777778,
              "#fb9f3a"
             ],
             [
              0.8888888888888888,
              "#fdca26"
             ],
             [
              1,
              "#f0f921"
             ]
            ],
            "type": "histogram2d"
           }
          ],
          "histogram2dcontour": [
           {
            "colorbar": {
             "outlinewidth": 0,
             "ticks": ""
            },
            "colorscale": [
             [
              0,
              "#0d0887"
             ],
             [
              0.1111111111111111,
              "#46039f"
             ],
             [
              0.2222222222222222,
              "#7201a8"
             ],
             [
              0.3333333333333333,
              "#9c179e"
             ],
             [
              0.4444444444444444,
              "#bd3786"
             ],
             [
              0.5555555555555556,
              "#d8576b"
             ],
             [
              0.6666666666666666,
              "#ed7953"
             ],
             [
              0.7777777777777778,
              "#fb9f3a"
             ],
             [
              0.8888888888888888,
              "#fdca26"
             ],
             [
              1,
              "#f0f921"
             ]
            ],
            "type": "histogram2dcontour"
           }
          ],
          "mesh3d": [
           {
            "colorbar": {
             "outlinewidth": 0,
             "ticks": ""
            },
            "type": "mesh3d"
           }
          ],
          "parcoords": [
           {
            "line": {
             "colorbar": {
              "outlinewidth": 0,
              "ticks": ""
             }
            },
            "type": "parcoords"
           }
          ],
          "pie": [
           {
            "automargin": true,
            "type": "pie"
           }
          ],
          "scatter": [
           {
            "marker": {
             "colorbar": {
              "outlinewidth": 0,
              "ticks": ""
             }
            },
            "type": "scatter"
           }
          ],
          "scatter3d": [
           {
            "line": {
             "colorbar": {
              "outlinewidth": 0,
              "ticks": ""
             }
            },
            "marker": {
             "colorbar": {
              "outlinewidth": 0,
              "ticks": ""
             }
            },
            "type": "scatter3d"
           }
          ],
          "scattercarpet": [
           {
            "marker": {
             "colorbar": {
              "outlinewidth": 0,
              "ticks": ""
             }
            },
            "type": "scattercarpet"
           }
          ],
          "scattergeo": [
           {
            "marker": {
             "colorbar": {
              "outlinewidth": 0,
              "ticks": ""
             }
            },
            "type": "scattergeo"
           }
          ],
          "scattergl": [
           {
            "marker": {
             "colorbar": {
              "outlinewidth": 0,
              "ticks": ""
             }
            },
            "type": "scattergl"
           }
          ],
          "scattermapbox": [
           {
            "marker": {
             "colorbar": {
              "outlinewidth": 0,
              "ticks": ""
             }
            },
            "type": "scattermapbox"
           }
          ],
          "scatterpolar": [
           {
            "marker": {
             "colorbar": {
              "outlinewidth": 0,
              "ticks": ""
             }
            },
            "type": "scatterpolar"
           }
          ],
          "scatterpolargl": [
           {
            "marker": {
             "colorbar": {
              "outlinewidth": 0,
              "ticks": ""
             }
            },
            "type": "scatterpolargl"
           }
          ],
          "scatterternary": [
           {
            "marker": {
             "colorbar": {
              "outlinewidth": 0,
              "ticks": ""
             }
            },
            "type": "scatterternary"
           }
          ],
          "surface": [
           {
            "colorbar": {
             "outlinewidth": 0,
             "ticks": ""
            },
            "colorscale": [
             [
              0,
              "#0d0887"
             ],
             [
              0.1111111111111111,
              "#46039f"
             ],
             [
              0.2222222222222222,
              "#7201a8"
             ],
             [
              0.3333333333333333,
              "#9c179e"
             ],
             [
              0.4444444444444444,
              "#bd3786"
             ],
             [
              0.5555555555555556,
              "#d8576b"
             ],
             [
              0.6666666666666666,
              "#ed7953"
             ],
             [
              0.7777777777777778,
              "#fb9f3a"
             ],
             [
              0.8888888888888888,
              "#fdca26"
             ],
             [
              1,
              "#f0f921"
             ]
            ],
            "type": "surface"
           }
          ],
          "table": [
           {
            "cells": {
             "fill": {
              "color": "#EBF0F8"
             },
             "line": {
              "color": "white"
             }
            },
            "header": {
             "fill": {
              "color": "#C8D4E3"
             },
             "line": {
              "color": "white"
             }
            },
            "type": "table"
           }
          ]
         },
         "layout": {
          "annotationdefaults": {
           "arrowcolor": "#2a3f5f",
           "arrowhead": 0,
           "arrowwidth": 1
          },
          "coloraxis": {
           "colorbar": {
            "outlinewidth": 0,
            "ticks": ""
           }
          },
          "colorscale": {
           "diverging": [
            [
             0,
             "#8e0152"
            ],
            [
             0.1,
             "#c51b7d"
            ],
            [
             0.2,
             "#de77ae"
            ],
            [
             0.3,
             "#f1b6da"
            ],
            [
             0.4,
             "#fde0ef"
            ],
            [
             0.5,
             "#f7f7f7"
            ],
            [
             0.6,
             "#e6f5d0"
            ],
            [
             0.7,
             "#b8e186"
            ],
            [
             0.8,
             "#7fbc41"
            ],
            [
             0.9,
             "#4d9221"
            ],
            [
             1,
             "#276419"
            ]
           ],
           "sequential": [
            [
             0,
             "#0d0887"
            ],
            [
             0.1111111111111111,
             "#46039f"
            ],
            [
             0.2222222222222222,
             "#7201a8"
            ],
            [
             0.3333333333333333,
             "#9c179e"
            ],
            [
             0.4444444444444444,
             "#bd3786"
            ],
            [
             0.5555555555555556,
             "#d8576b"
            ],
            [
             0.6666666666666666,
             "#ed7953"
            ],
            [
             0.7777777777777778,
             "#fb9f3a"
            ],
            [
             0.8888888888888888,
             "#fdca26"
            ],
            [
             1,
             "#f0f921"
            ]
           ],
           "sequentialminus": [
            [
             0,
             "#0d0887"
            ],
            [
             0.1111111111111111,
             "#46039f"
            ],
            [
             0.2222222222222222,
             "#7201a8"
            ],
            [
             0.3333333333333333,
             "#9c179e"
            ],
            [
             0.4444444444444444,
             "#bd3786"
            ],
            [
             0.5555555555555556,
             "#d8576b"
            ],
            [
             0.6666666666666666,
             "#ed7953"
            ],
            [
             0.7777777777777778,
             "#fb9f3a"
            ],
            [
             0.8888888888888888,
             "#fdca26"
            ],
            [
             1,
             "#f0f921"
            ]
           ]
          },
          "colorway": [
           "#636efa",
           "#EF553B",
           "#00cc96",
           "#ab63fa",
           "#FFA15A",
           "#19d3f3",
           "#FF6692",
           "#B6E880",
           "#FF97FF",
           "#FECB52"
          ],
          "font": {
           "color": "#2a3f5f"
          },
          "geo": {
           "bgcolor": "white",
           "lakecolor": "white",
           "landcolor": "white",
           "showlakes": true,
           "showland": true,
           "subunitcolor": "#C8D4E3"
          },
          "hoverlabel": {
           "align": "left"
          },
          "hovermode": "closest",
          "mapbox": {
           "style": "light"
          },
          "paper_bgcolor": "white",
          "plot_bgcolor": "white",
          "polar": {
           "angularaxis": {
            "gridcolor": "#EBF0F8",
            "linecolor": "#EBF0F8",
            "ticks": ""
           },
           "bgcolor": "white",
           "radialaxis": {
            "gridcolor": "#EBF0F8",
            "linecolor": "#EBF0F8",
            "ticks": ""
           }
          },
          "scene": {
           "xaxis": {
            "backgroundcolor": "white",
            "gridcolor": "#DFE8F3",
            "gridwidth": 2,
            "linecolor": "#EBF0F8",
            "showbackground": true,
            "ticks": "",
            "zerolinecolor": "#EBF0F8"
           },
           "yaxis": {
            "backgroundcolor": "white",
            "gridcolor": "#DFE8F3",
            "gridwidth": 2,
            "linecolor": "#EBF0F8",
            "showbackground": true,
            "ticks": "",
            "zerolinecolor": "#EBF0F8"
           },
           "zaxis": {
            "backgroundcolor": "white",
            "gridcolor": "#DFE8F3",
            "gridwidth": 2,
            "linecolor": "#EBF0F8",
            "showbackground": true,
            "ticks": "",
            "zerolinecolor": "#EBF0F8"
           }
          },
          "shapedefaults": {
           "line": {
            "color": "#2a3f5f"
           }
          },
          "ternary": {
           "aaxis": {
            "gridcolor": "#DFE8F3",
            "linecolor": "#A2B1C6",
            "ticks": ""
           },
           "baxis": {
            "gridcolor": "#DFE8F3",
            "linecolor": "#A2B1C6",
            "ticks": ""
           },
           "bgcolor": "white",
           "caxis": {
            "gridcolor": "#DFE8F3",
            "linecolor": "#A2B1C6",
            "ticks": ""
           }
          },
          "title": {
           "x": 0.05
          },
          "xaxis": {
           "automargin": true,
           "gridcolor": "#EBF0F8",
           "linecolor": "#EBF0F8",
           "ticks": "",
           "title": {
            "standoff": 15
           },
           "zerolinecolor": "#EBF0F8",
           "zerolinewidth": 2
          },
          "yaxis": {
           "automargin": true,
           "gridcolor": "#EBF0F8",
           "linecolor": "#EBF0F8",
           "ticks": "",
           "title": {
            "standoff": 15
           },
           "zerolinecolor": "#EBF0F8",
           "zerolinewidth": 2
          }
         }
        },
        "title": {
         "text": "Nombre de club et de pionnier en 2015 par Gouvernorat"
        },
        "updatemenus": [
         {
          "buttons": [
           {
            "args": [
             {
              "visible": [
               true,
               false
              ]
             }
            ],
            "label": "Nombre de club 2015",
            "method": "update"
           },
           {
            "args": [
             {
              "visible": [
               false,
               true
              ]
             }
            ],
            "label": "Nombre de pionnier 2015",
            "method": "update"
           },
           {
            "args": [
             {
              "visible": [
               true,
               true
              ]
             }
            ],
            "label": "Voir tous",
            "method": "update"
           }
          ]
         }
        ]
       }
      },
      "text/html": [
       "<div>\n",
       "        \n",
       "        \n",
       "            <div id=\"3a562a4d-579f-4867-b6b7-f4113f58c273\" class=\"plotly-graph-div\" style=\"height:525px; width:100%;\"></div>\n",
       "            <script type=\"text/javascript\">\n",
       "                require([\"plotly\"], function(Plotly) {\n",
       "                    window.PLOTLYENV=window.PLOTLYENV || {};\n",
       "                    \n",
       "                if (document.getElementById(\"3a562a4d-579f-4867-b6b7-f4113f58c273\")) {\n",
       "                    Plotly.newPlot(\n",
       "                        '3a562a4d-579f-4867-b6b7-f4113f58c273',\n",
       "                        [{\"marker\": {\"color\": \"RoyalBlue\"}, \"name\": \"Nombre de club 2015\", \"type\": \"bar\", \"visible\": true, \"x\": [\"Ariana\", \"Ben Arous\", \"Bizerte\", \"B\\u00e9ja\", \"Gab\\u00e8s\", \"Gafsa\", \"Jendouba\", \"Kairouan\", \"Kass\\u00e9rine\", \"Kebili\", \"Le Kef\", \"Mahdia\", \"Manubah\", \"Monastir\", \"M\\u00e9denine\", \"Nabeul\", \"Sfax\", \"Sidi Bou Zid\", \"Siliana\", \"Sousse\", \"Tataouine\", \"Tozeur\", \"Tunis\", \"Zaghouan\"], \"y\": [15, 54, 82, 38, 31, 53, 31, 28, 59, 23, 52, 56, 27, 63, 34, 53, 88, 57, 41, 63, 37, 19, 129, 17]}, {\"marker\": {\"color\": \"silver\"}, \"name\": \"Nombre de pionnier 2015\", \"type\": \"bar\", \"visible\": false, \"x\": [\"Ariana\", \"Ben Arous\", \"Bizerte\", \"B\\u00e9ja\", \"Gab\\u00e8s\", \"Gafsa\", \"Jendouba\", \"Kairouan\", \"Kass\\u00e9rine\", \"Kebili\", \"Le Kef\", \"Mahdia\", \"Manubah\", \"Monastir\", \"M\\u00e9denine\", \"Nabeul\", \"Sfax\", \"Sidi Bou Zid\", \"Siliana\", \"Sousse\", \"Tataouine\", \"Tozeur\", \"Tunis\", \"Zaghouan\"], \"y\": [392, 689, 1354, 552, 410, 988, 591, 649, 784, 269, 671, 941, 970, 1006, 743, 688, 1845, 928, 807, 1407, 562, 464, 2127, 275]}],\n",
       "                        {\"font\": {\"family\": \" Gravitas One, cursive\", \"size\": 16}, \"template\": {\"data\": {\"bar\": [{\"error_x\": {\"color\": \"#2a3f5f\"}, \"error_y\": {\"color\": \"#2a3f5f\"}, \"marker\": {\"line\": {\"color\": \"white\", \"width\": 0.5}}, \"type\": \"bar\"}], \"barpolar\": [{\"marker\": {\"line\": {\"color\": \"white\", \"width\": 0.5}}, \"type\": \"barpolar\"}], \"carpet\": [{\"aaxis\": {\"endlinecolor\": \"#2a3f5f\", \"gridcolor\": \"#C8D4E3\", \"linecolor\": \"#C8D4E3\", \"minorgridcolor\": \"#C8D4E3\", \"startlinecolor\": \"#2a3f5f\"}, \"baxis\": {\"endlinecolor\": \"#2a3f5f\", \"gridcolor\": \"#C8D4E3\", \"linecolor\": \"#C8D4E3\", \"minorgridcolor\": \"#C8D4E3\", \"startlinecolor\": \"#2a3f5f\"}, \"type\": \"carpet\"}], \"choropleth\": [{\"colorbar\": {\"outlinewidth\": 0, \"ticks\": \"\"}, \"type\": \"choropleth\"}], \"contour\": [{\"colorbar\": {\"outlinewidth\": 0, \"ticks\": \"\"}, \"colorscale\": [[0.0, \"#0d0887\"], [0.1111111111111111, \"#46039f\"], [0.2222222222222222, \"#7201a8\"], [0.3333333333333333, \"#9c179e\"], [0.4444444444444444, \"#bd3786\"], [0.5555555555555556, \"#d8576b\"], [0.6666666666666666, \"#ed7953\"], [0.7777777777777778, \"#fb9f3a\"], [0.8888888888888888, \"#fdca26\"], [1.0, \"#f0f921\"]], \"type\": \"contour\"}], \"contourcarpet\": [{\"colorbar\": {\"outlinewidth\": 0, \"ticks\": \"\"}, \"type\": \"contourcarpet\"}], \"heatmap\": [{\"colorbar\": {\"outlinewidth\": 0, \"ticks\": \"\"}, \"colorscale\": [[0.0, \"#0d0887\"], [0.1111111111111111, \"#46039f\"], [0.2222222222222222, \"#7201a8\"], [0.3333333333333333, \"#9c179e\"], [0.4444444444444444, \"#bd3786\"], [0.5555555555555556, \"#d8576b\"], [0.6666666666666666, \"#ed7953\"], [0.7777777777777778, \"#fb9f3a\"], [0.8888888888888888, \"#fdca26\"], [1.0, \"#f0f921\"]], \"type\": \"heatmap\"}], \"heatmapgl\": [{\"colorbar\": {\"outlinewidth\": 0, \"ticks\": \"\"}, \"colorscale\": [[0.0, \"#0d0887\"], [0.1111111111111111, \"#46039f\"], [0.2222222222222222, \"#7201a8\"], [0.3333333333333333, \"#9c179e\"], [0.4444444444444444, \"#bd3786\"], [0.5555555555555556, \"#d8576b\"], [0.6666666666666666, \"#ed7953\"], [0.7777777777777778, \"#fb9f3a\"], [0.8888888888888888, \"#fdca26\"], [1.0, \"#f0f921\"]], \"type\": \"heatmapgl\"}], \"histogram\": [{\"marker\": {\"colorbar\": {\"outlinewidth\": 0, \"ticks\": \"\"}}, \"type\": \"histogram\"}], \"histogram2d\": [{\"colorbar\": {\"outlinewidth\": 0, \"ticks\": \"\"}, \"colorscale\": [[0.0, \"#0d0887\"], [0.1111111111111111, \"#46039f\"], [0.2222222222222222, \"#7201a8\"], [0.3333333333333333, \"#9c179e\"], [0.4444444444444444, \"#bd3786\"], [0.5555555555555556, \"#d8576b\"], [0.6666666666666666, \"#ed7953\"], [0.7777777777777778, \"#fb9f3a\"], [0.8888888888888888, \"#fdca26\"], [1.0, \"#f0f921\"]], \"type\": \"histogram2d\"}], \"histogram2dcontour\": [{\"colorbar\": {\"outlinewidth\": 0, \"ticks\": \"\"}, \"colorscale\": [[0.0, \"#0d0887\"], [0.1111111111111111, \"#46039f\"], [0.2222222222222222, \"#7201a8\"], [0.3333333333333333, \"#9c179e\"], [0.4444444444444444, \"#bd3786\"], [0.5555555555555556, \"#d8576b\"], [0.6666666666666666, \"#ed7953\"], [0.7777777777777778, \"#fb9f3a\"], [0.8888888888888888, \"#fdca26\"], [1.0, \"#f0f921\"]], \"type\": \"histogram2dcontour\"}], \"mesh3d\": [{\"colorbar\": {\"outlinewidth\": 0, \"ticks\": \"\"}, \"type\": \"mesh3d\"}], \"parcoords\": [{\"line\": {\"colorbar\": {\"outlinewidth\": 0, \"ticks\": \"\"}}, \"type\": \"parcoords\"}], \"pie\": [{\"automargin\": true, \"type\": \"pie\"}], \"scatter\": [{\"marker\": {\"colorbar\": {\"outlinewidth\": 0, \"ticks\": \"\"}}, \"type\": \"scatter\"}], \"scatter3d\": [{\"line\": {\"colorbar\": {\"outlinewidth\": 0, \"ticks\": \"\"}}, \"marker\": {\"colorbar\": {\"outlinewidth\": 0, \"ticks\": \"\"}}, \"type\": \"scatter3d\"}], \"scattercarpet\": [{\"marker\": {\"colorbar\": {\"outlinewidth\": 0, \"ticks\": \"\"}}, \"type\": \"scattercarpet\"}], \"scattergeo\": [{\"marker\": {\"colorbar\": {\"outlinewidth\": 0, \"ticks\": \"\"}}, \"type\": \"scattergeo\"}], \"scattergl\": [{\"marker\": {\"colorbar\": {\"outlinewidth\": 0, \"ticks\": \"\"}}, \"type\": \"scattergl\"}], \"scattermapbox\": [{\"marker\": {\"colorbar\": {\"outlinewidth\": 0, \"ticks\": \"\"}}, \"type\": \"scattermapbox\"}], \"scatterpolar\": [{\"marker\": {\"colorbar\": {\"outlinewidth\": 0, \"ticks\": \"\"}}, \"type\": \"scatterpolar\"}], \"scatterpolargl\": [{\"marker\": {\"colorbar\": {\"outlinewidth\": 0, \"ticks\": \"\"}}, \"type\": \"scatterpolargl\"}], \"scatterternary\": [{\"marker\": {\"colorbar\": {\"outlinewidth\": 0, \"ticks\": \"\"}}, \"type\": \"scatterternary\"}], \"surface\": [{\"colorbar\": {\"outlinewidth\": 0, \"ticks\": \"\"}, \"colorscale\": [[0.0, \"#0d0887\"], [0.1111111111111111, \"#46039f\"], [0.2222222222222222, \"#7201a8\"], [0.3333333333333333, \"#9c179e\"], [0.4444444444444444, \"#bd3786\"], [0.5555555555555556, \"#d8576b\"], [0.6666666666666666, \"#ed7953\"], [0.7777777777777778, \"#fb9f3a\"], [0.8888888888888888, \"#fdca26\"], [1.0, \"#f0f921\"]], \"type\": \"surface\"}], \"table\": [{\"cells\": {\"fill\": {\"color\": \"#EBF0F8\"}, \"line\": {\"color\": \"white\"}}, \"header\": {\"fill\": {\"color\": \"#C8D4E3\"}, \"line\": {\"color\": \"white\"}}, \"type\": \"table\"}]}, \"layout\": {\"annotationdefaults\": {\"arrowcolor\": \"#2a3f5f\", \"arrowhead\": 0, \"arrowwidth\": 1}, \"coloraxis\": {\"colorbar\": {\"outlinewidth\": 0, \"ticks\": \"\"}}, \"colorscale\": {\"diverging\": [[0, \"#8e0152\"], [0.1, \"#c51b7d\"], [0.2, \"#de77ae\"], [0.3, \"#f1b6da\"], [0.4, \"#fde0ef\"], [0.5, \"#f7f7f7\"], [0.6, \"#e6f5d0\"], [0.7, \"#b8e186\"], [0.8, \"#7fbc41\"], [0.9, \"#4d9221\"], [1, \"#276419\"]], \"sequential\": [[0.0, \"#0d0887\"], [0.1111111111111111, \"#46039f\"], [0.2222222222222222, \"#7201a8\"], [0.3333333333333333, \"#9c179e\"], [0.4444444444444444, \"#bd3786\"], [0.5555555555555556, \"#d8576b\"], [0.6666666666666666, \"#ed7953\"], [0.7777777777777778, \"#fb9f3a\"], [0.8888888888888888, \"#fdca26\"], [1.0, \"#f0f921\"]], \"sequentialminus\": [[0.0, \"#0d0887\"], [0.1111111111111111, \"#46039f\"], [0.2222222222222222, \"#7201a8\"], [0.3333333333333333, \"#9c179e\"], [0.4444444444444444, \"#bd3786\"], [0.5555555555555556, \"#d8576b\"], [0.6666666666666666, \"#ed7953\"], [0.7777777777777778, \"#fb9f3a\"], [0.8888888888888888, \"#fdca26\"], [1.0, \"#f0f921\"]]}, \"colorway\": [\"#636efa\", \"#EF553B\", \"#00cc96\", \"#ab63fa\", \"#FFA15A\", \"#19d3f3\", \"#FF6692\", \"#B6E880\", \"#FF97FF\", \"#FECB52\"], \"font\": {\"color\": \"#2a3f5f\"}, \"geo\": {\"bgcolor\": \"white\", \"lakecolor\": \"white\", \"landcolor\": \"white\", \"showlakes\": true, \"showland\": true, \"subunitcolor\": \"#C8D4E3\"}, \"hoverlabel\": {\"align\": \"left\"}, \"hovermode\": \"closest\", \"mapbox\": {\"style\": \"light\"}, \"paper_bgcolor\": \"white\", \"plot_bgcolor\": \"white\", \"polar\": {\"angularaxis\": {\"gridcolor\": \"#EBF0F8\", \"linecolor\": \"#EBF0F8\", \"ticks\": \"\"}, \"bgcolor\": \"white\", \"radialaxis\": {\"gridcolor\": \"#EBF0F8\", \"linecolor\": \"#EBF0F8\", \"ticks\": \"\"}}, \"scene\": {\"xaxis\": {\"backgroundcolor\": \"white\", \"gridcolor\": \"#DFE8F3\", \"gridwidth\": 2, \"linecolor\": \"#EBF0F8\", \"showbackground\": true, \"ticks\": \"\", \"zerolinecolor\": \"#EBF0F8\"}, \"yaxis\": {\"backgroundcolor\": \"white\", \"gridcolor\": \"#DFE8F3\", \"gridwidth\": 2, \"linecolor\": \"#EBF0F8\", \"showbackground\": true, \"ticks\": \"\", \"zerolinecolor\": \"#EBF0F8\"}, \"zaxis\": {\"backgroundcolor\": \"white\", \"gridcolor\": \"#DFE8F3\", \"gridwidth\": 2, \"linecolor\": \"#EBF0F8\", \"showbackground\": true, \"ticks\": \"\", \"zerolinecolor\": \"#EBF0F8\"}}, \"shapedefaults\": {\"line\": {\"color\": \"#2a3f5f\"}}, \"ternary\": {\"aaxis\": {\"gridcolor\": \"#DFE8F3\", \"linecolor\": \"#A2B1C6\", \"ticks\": \"\"}, \"baxis\": {\"gridcolor\": \"#DFE8F3\", \"linecolor\": \"#A2B1C6\", \"ticks\": \"\"}, \"bgcolor\": \"white\", \"caxis\": {\"gridcolor\": \"#DFE8F3\", \"linecolor\": \"#A2B1C6\", \"ticks\": \"\"}}, \"title\": {\"x\": 0.05}, \"xaxis\": {\"automargin\": true, \"gridcolor\": \"#EBF0F8\", \"linecolor\": \"#EBF0F8\", \"ticks\": \"\", \"title\": {\"standoff\": 15}, \"zerolinecolor\": \"#EBF0F8\", \"zerolinewidth\": 2}, \"yaxis\": {\"automargin\": true, \"gridcolor\": \"#EBF0F8\", \"linecolor\": \"#EBF0F8\", \"ticks\": \"\", \"title\": {\"standoff\": 15}, \"zerolinecolor\": \"#EBF0F8\", \"zerolinewidth\": 2}}}, \"title\": {\"text\": \"Nombre de club et de pionnier en 2015 par Gouvernorat\"}, \"updatemenus\": [{\"buttons\": [{\"args\": [{\"visible\": [true, false]}], \"label\": \"Nombre de club 2015\", \"method\": \"update\"}, {\"args\": [{\"visible\": [false, true]}], \"label\": \"Nombre de pionnier 2015\", \"method\": \"update\"}, {\"args\": [{\"visible\": [true, true]}], \"label\": \"Voir tous\", \"method\": \"update\"}]}]},\n",
       "                        {\"responsive\": true}\n",
       "                    ).then(function(){\n",
       "                            \n",
       "var gd = document.getElementById('3a562a4d-579f-4867-b6b7-f4113f58c273');\n",
       "var x = new MutationObserver(function (mutations, observer) {{\n",
       "        var display = window.getComputedStyle(gd).display;\n",
       "        if (!display || display === 'none') {{\n",
       "            console.log([gd, 'removed!']);\n",
       "            Plotly.purge(gd);\n",
       "            observer.disconnect();\n",
       "        }}\n",
       "}});\n",
       "\n",
       "// Listen for the removal of the full notebook cells\n",
       "var notebookContainer = gd.closest('#notebook-container');\n",
       "if (notebookContainer) {{\n",
       "    x.observe(notebookContainer, {childList: true});\n",
       "}}\n",
       "\n",
       "// Listen for the clearing of the current output cell\n",
       "var outputEl = gd.closest('.output');\n",
       "if (outputEl) {{\n",
       "    x.observe(outputEl, {childList: true});\n",
       "}}\n",
       "\n",
       "                        })\n",
       "                };\n",
       "                });\n",
       "            </script>\n",
       "        </div>"
      ]
     },
     "metadata": {},
     "output_type": "display_data"
    }
   ],
   "source": [
    "import pandas as pd\n",
    "df8=pd.read_csv('statistiqueclubsculturels2015.csv')\n",
    "df55=df8.groupby('gov_name_f').sum()\n",
    "data_bar=[ go.Bar(name='Nombre de club 2015',\n",
    "           visible=True,\n",
    "           x=df55.index, \n",
    "           y=df55['Nombre_clubs'],\n",
    "           marker_color='RoyalBlue'), \n",
    "          \n",
    "          go.Bar(name='Nombre de pionnier 2015',\n",
    "           visible=False,\n",
    "           x=df55.index, \n",
    "           y=df55['pionniers_club'],\n",
    "           marker_color='silver'),]\n",
    "list_updatemenus=[\n",
    "        {'args':[{\"visible\":[True,False]}],\n",
    "         'label':\"Nombre de club 2015\",\n",
    "         'method':\"update\"},\n",
    "    \n",
    "        { 'args':[{\"visible\":[False,True]}],\n",
    "         'label':\"Nombre de pionnier 2015\",\n",
    "         'method':\"update\"},\n",
    "    { 'args':[{\"visible\":[True,True]}],\n",
    "         'label':\"Voir tous\",\n",
    "         'method':\"update\"}\n",
    "]\n",
    "layout_bar=go.Layout(updatemenus=list([dict(buttons= list_updatemenus)]),\n",
    "                     title_text=\"Nombre de club et de pionnier en 2015 par Gouvernorat\",\n",
    "                     template='plotly_white',\n",
    "                     font=dict(\n",
    "                    family=\" Gravitas One, cursive\",\n",
    "                    size=16))\n",
    "\n",
    "#defining figure and plotting\n",
    "fig_bar_25 = go.Figure(data_bar,layout_bar)\n",
    "fig_bar_25.show()\n",
    "     "
   ]
  },
  {
   "cell_type": "code",
   "execution_count": 21,
   "metadata": {},
   "outputs": [
    {
     "data": {
      "text/html": [
       "<div style=\"width:100%;\"><div style=\"position:relative;width:100%;height:0;padding-bottom:60%;\"><iframe src=\"about:blank\" style=\"position:absolute;width:100%;height:100%;left:0;top:0;border:none !important;\" data-html=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 onload=\"this.contentDocument.open();this.contentDocument.write(atob(this.getAttribute('data-html')));this.contentDocument.close();\" allowfullscreen webkitallowfullscreen mozallowfullscreen></iframe></div></div>"
      ],
      "text/plain": [
       "<folium.folium.Map at 0x178bca1dbc8>"
      ]
     },
     "execution_count": 21,
     "metadata": {},
     "output_type": "execute_result"
    }
   ],
   "source": [
    "import pandas as pd\n",
    "df17=pd.read_csv('nombre-festivals-par-gouvernourat.csv')\n",
    "df17\n",
    "import folium\n",
    "tunisia_geo = r'listegouvernoratstn (1).geojson' # geojson file of tunisia\n",
    "tunisia_map = folium.Map(location=[33.79, 9.59], zoom_start=6.49)\n",
    "folium.Marker([36.7911558,10.1804308 ], popup= df17.loc[0,'nb festivals'],\n",
    "              icon=folium.Icon(color='green')).add_to(tunisia_map) #label the marker Tunis\n",
    "folium.Marker([36.9685735,10.1219855], popup= df17.loc[1,'nb festivals'],\n",
    "              icon=folium.Icon(color='green')).add_to(tunisia_map) #label the marker ariena\n",
    "folium.Marker([36.7488603,10.2246008], popup= df17.loc[2,'nb festivals'],\n",
    "              icon=folium.Icon(color='green')).add_to(tunisia_map) #label the marker Ben Arous\n",
    "folium.Marker([36.808812726759626,10.086532577929486], popup= df17.loc[3,'nb festivals'],\n",
    "              icon=folium.Icon(color='green')).add_to(tunisia_map) #label the markr Manouba\n",
    "folium.Marker([36.4823676 ,10.6707197], popup=  df17.loc[4,'nb festivals'],\n",
    "              icon=folium.Icon(color='green')).add_to(tunisia_map) #label the marker Nabeul\n",
    "folium.Marker([36.4117196,10.2019798], popup= df17.loc[5,'nb festivals'],\n",
    "              icon=folium.Icon(color='green')).add_to(tunisia_map) #label the markr Zoughan\n",
    "folium.Marker([37.2720905,9.8708565], popup= df17.loc[6,'nb festivals'],\n",
    "              icon=folium.Icon(color='green')).add_to(tunisia_map) #label the markr Benzart\n",
    "folium.Marker([36.7462303,9.2032328], popup= df17.loc[7,'nb festivals'],\n",
    "              icon=folium.Icon(color='green')).add_to(tunisia_map) #label the markr Beja \n",
    "folium.Marker([36.6779725,8.752647], popup= df17.loc[8,'nb festivals'],\n",
    "              icon=folium.Icon(color='green')).add_to(tunisia_map) #label the markr Jendouba\n",
    "folium.Marker([36.0357642,8.7249381], popup= df17.loc[9,'nb festivals'],\n",
    "              icon=folium.Icon(color='green')).add_to(tunisia_map) #label the markr Kef\n",
    "folium.Marker([35.9715323,9.3577129], popup= df17.loc[10,'nb festivals'],\n",
    "              icon=folium.Icon(color='green')).add_to(tunisia_map) #label the markr Siliana\n",
    "folium.Marker([35.828829,10.640525], popup= df17.loc[11,'nb festivals'],\n",
    "              icon=folium.Icon(color='green')).add_to(tunisia_map) #label the markr Sousse\n",
    "folium.Marker([35.7398724,10.7988397], popup= df17.loc[12,'nb festivals'],\n",
    "              icon=folium.Icon(color='green')).add_to(tunisia_map) #label the markr Monastir\n",
    "folium.Marker([35.4877892,10.9622433], popup= df17.loc[13,'nb festivals'],\n",
    "              icon=folium.Icon(color='green')).add_to(tunisia_map) #label the markr Mahdia\n",
    "folium.Marker([34.7231273,10.3358789], popup= df17.loc[14,'nb festivals'],\n",
    "              icon=folium.Icon(color='green')).add_to(tunisia_map) #label the markr Sfax\n",
    "folium.Marker([35.6710101,10.10062], popup= df17.loc[15,'nb festivals'],\n",
    "              icon=folium.Icon(color='green')).add_to(tunisia_map) #label the markr Kairouan\n",
    "folium.Marker([35.1678191,8.8348097], popup= df17.loc[16,'nb festivals'],\n",
    "              icon=folium.Icon(color='green')).add_to(tunisia_map) #label the markr Kassrine\n",
    "folium.Marker([35.03396985358989,9.48893761982423], popup= df17.loc[17,'nb festivals'],\n",
    "              icon=folium.Icon(color='green')).add_to(tunisia_map) #label the markr Sidi Bouzid\n",
    "folium.Marker([33.7765032,9.793063], popup= df17.loc[18,'nb festivals'],\n",
    "              icon=folium.Icon(color='green')).add_to(tunisia_map) #label the markr Gabes\n",
    "folium.Marker([32.9819987,11.2870254], popup= df17.loc[19,'nb festivals'],\n",
    "              icon=folium.Icon(color='green')).add_to(tunisia_map) #label the markr Mednine\n",
    "folium.Marker([31.7317009,9.7702197], popup= df17.loc[20,'nb festivals'],\n",
    "              icon=folium.Icon(color='green')).add_to(tunisia_map) #label the markr Tataouine\n",
    "folium.Marker([34.43367,8.7907988], popup= df17.loc[21,'nb festivals'],\n",
    "              icon=folium.Icon(color='green')).add_to(tunisia_map) #label the markr Gafsa\n",
    "folium.Marker([33.913485,8.1118241], popup= df17.loc[22,'nb festivals'],\n",
    "              icon=folium.Icon(color='green')).add_to(tunisia_map) #label the markr Tozeur\n",
    "folium.Marker([33.7061148,8.9698376], popup= df17.loc[22,'nb festivals'],\n",
    "              icon=folium.Icon(color='green')).add_to(tunisia_map) #label the markr Kebili\n",
    "#tunisia_map.save('tunisia.html')\n",
    "\n",
    "tunisia_map"
   ]
  },
  {
   "cell_type": "code",
   "execution_count": 22,
   "metadata": {},
   "outputs": [
    {
     "data": {
      "application/vnd.plotly.v1+json": {
       "config": {
        "plotlyServerURL": "https://plot.ly"
       },
       "data": [
        {
         "marker": {
          "color": "Silver"
         },
         "name": "Esstimation",
         "type": "bar",
         "x": [
          "منحة الوزارة",
          "منحة مركز الوطني للسنما و الصورة",
          "مداخيل التذاكر",
          "مداخيل الإشهار",
          "منحة استثنائية من الوزارة في اطار برنامج مقاومة الإرهاب",
          "مدخيل أخرى  Boutique JCC"
         ],
         "y": [
          450000,
          1500000,
          200000,
          600000,
          400000,
          0
         ]
        },
        {
         "marker": {
          "color": "lightseagreen"
         },
         "name": "Réalisation",
         "type": "bar",
         "x": [
          "منحة الوزارة",
          "منحة مركز الوطني للسنما و الصورة",
          "مداخيل التذاكر",
          "مداخيل الإشهار",
          "منحة استثنائية من الوزارة في اطار برنامج مقاومة الإرهاب",
          "مدخيل أخرى  Boutique JCC"
         ],
         "y": [
          450000,
          1500000,
          171348,
          1621510.708,
          325000,
          4487
         ]
        }
       ],
       "layout": {
        "barmode": "group",
        "height": 700,
        "template": {
         "data": {
          "bar": [
           {
            "error_x": {
             "color": "#2a3f5f"
            },
            "error_y": {
             "color": "#2a3f5f"
            },
            "marker": {
             "line": {
              "color": "#E5ECF6",
              "width": 0.5
             }
            },
            "type": "bar"
           }
          ],
          "barpolar": [
           {
            "marker": {
             "line": {
              "color": "#E5ECF6",
              "width": 0.5
             }
            },
            "type": "barpolar"
           }
          ],
          "carpet": [
           {
            "aaxis": {
             "endlinecolor": "#2a3f5f",
             "gridcolor": "white",
             "linecolor": "white",
             "minorgridcolor": "white",
             "startlinecolor": "#2a3f5f"
            },
            "baxis": {
             "endlinecolor": "#2a3f5f",
             "gridcolor": "white",
             "linecolor": "white",
             "minorgridcolor": "white",
             "startlinecolor": "#2a3f5f"
            },
            "type": "carpet"
           }
          ],
          "choropleth": [
           {
            "colorbar": {
             "outlinewidth": 0,
             "ticks": ""
            },
            "type": "choropleth"
           }
          ],
          "contour": [
           {
            "colorbar": {
             "outlinewidth": 0,
             "ticks": ""
            },
            "colorscale": [
             [
              0,
              "#0d0887"
             ],
             [
              0.1111111111111111,
              "#46039f"
             ],
             [
              0.2222222222222222,
              "#7201a8"
             ],
             [
              0.3333333333333333,
              "#9c179e"
             ],
             [
              0.4444444444444444,
              "#bd3786"
             ],
             [
              0.5555555555555556,
              "#d8576b"
             ],
             [
              0.6666666666666666,
              "#ed7953"
             ],
             [
              0.7777777777777778,
              "#fb9f3a"
             ],
             [
              0.8888888888888888,
              "#fdca26"
             ],
             [
              1,
              "#f0f921"
             ]
            ],
            "type": "contour"
           }
          ],
          "contourcarpet": [
           {
            "colorbar": {
             "outlinewidth": 0,
             "ticks": ""
            },
            "type": "contourcarpet"
           }
          ],
          "heatmap": [
           {
            "colorbar": {
             "outlinewidth": 0,
             "ticks": ""
            },
            "colorscale": [
             [
              0,
              "#0d0887"
             ],
             [
              0.1111111111111111,
              "#46039f"
             ],
             [
              0.2222222222222222,
              "#7201a8"
             ],
             [
              0.3333333333333333,
              "#9c179e"
             ],
             [
              0.4444444444444444,
              "#bd3786"
             ],
             [
              0.5555555555555556,
              "#d8576b"
             ],
             [
              0.6666666666666666,
              "#ed7953"
             ],
             [
              0.7777777777777778,
              "#fb9f3a"
             ],
             [
              0.8888888888888888,
              "#fdca26"
             ],
             [
              1,
              "#f0f921"
             ]
            ],
            "type": "heatmap"
           }
          ],
          "heatmapgl": [
           {
            "colorbar": {
             "outlinewidth": 0,
             "ticks": ""
            },
            "colorscale": [
             [
              0,
              "#0d0887"
             ],
             [
              0.1111111111111111,
              "#46039f"
             ],
             [
              0.2222222222222222,
              "#7201a8"
             ],
             [
              0.3333333333333333,
              "#9c179e"
             ],
             [
              0.4444444444444444,
              "#bd3786"
             ],
             [
              0.5555555555555556,
              "#d8576b"
             ],
             [
              0.6666666666666666,
              "#ed7953"
             ],
             [
              0.7777777777777778,
              "#fb9f3a"
             ],
             [
              0.8888888888888888,
              "#fdca26"
             ],
             [
              1,
              "#f0f921"
             ]
            ],
            "type": "heatmapgl"
           }
          ],
          "histogram": [
           {
            "marker": {
             "colorbar": {
              "outlinewidth": 0,
              "ticks": ""
             }
            },
            "type": "histogram"
           }
          ],
          "histogram2d": [
           {
            "colorbar": {
             "outlinewidth": 0,
             "ticks": ""
            },
            "colorscale": [
             [
              0,
              "#0d0887"
             ],
             [
              0.1111111111111111,
              "#46039f"
             ],
             [
              0.2222222222222222,
              "#7201a8"
             ],
             [
              0.3333333333333333,
              "#9c179e"
             ],
             [
              0.4444444444444444,
              "#bd3786"
             ],
             [
              0.5555555555555556,
              "#d8576b"
             ],
             [
              0.6666666666666666,
              "#ed7953"
             ],
             [
              0.7777777777777778,
              "#fb9f3a"
             ],
             [
              0.8888888888888888,
              "#fdca26"
             ],
             [
              1,
              "#f0f921"
             ]
            ],
            "type": "histogram2d"
           }
          ],
          "histogram2dcontour": [
           {
            "colorbar": {
             "outlinewidth": 0,
             "ticks": ""
            },
            "colorscale": [
             [
              0,
              "#0d0887"
             ],
             [
              0.1111111111111111,
              "#46039f"
             ],
             [
              0.2222222222222222,
              "#7201a8"
             ],
             [
              0.3333333333333333,
              "#9c179e"
             ],
             [
              0.4444444444444444,
              "#bd3786"
             ],
             [
              0.5555555555555556,
              "#d8576b"
             ],
             [
              0.6666666666666666,
              "#ed7953"
             ],
             [
              0.7777777777777778,
              "#fb9f3a"
             ],
             [
              0.8888888888888888,
              "#fdca26"
             ],
             [
              1,
              "#f0f921"
             ]
            ],
            "type": "histogram2dcontour"
           }
          ],
          "mesh3d": [
           {
            "colorbar": {
             "outlinewidth": 0,
             "ticks": ""
            },
            "type": "mesh3d"
           }
          ],
          "parcoords": [
           {
            "line": {
             "colorbar": {
              "outlinewidth": 0,
              "ticks": ""
             }
            },
            "type": "parcoords"
           }
          ],
          "pie": [
           {
            "automargin": true,
            "type": "pie"
           }
          ],
          "scatter": [
           {
            "marker": {
             "colorbar": {
              "outlinewidth": 0,
              "ticks": ""
             }
            },
            "type": "scatter"
           }
          ],
          "scatter3d": [
           {
            "line": {
             "colorbar": {
              "outlinewidth": 0,
              "ticks": ""
             }
            },
            "marker": {
             "colorbar": {
              "outlinewidth": 0,
              "ticks": ""
             }
            },
            "type": "scatter3d"
           }
          ],
          "scattercarpet": [
           {
            "marker": {
             "colorbar": {
              "outlinewidth": 0,
              "ticks": ""
             }
            },
            "type": "scattercarpet"
           }
          ],
          "scattergeo": [
           {
            "marker": {
             "colorbar": {
              "outlinewidth": 0,
              "ticks": ""
             }
            },
            "type": "scattergeo"
           }
          ],
          "scattergl": [
           {
            "marker": {
             "colorbar": {
              "outlinewidth": 0,
              "ticks": ""
             }
            },
            "type": "scattergl"
           }
          ],
          "scattermapbox": [
           {
            "marker": {
             "colorbar": {
              "outlinewidth": 0,
              "ticks": ""
             }
            },
            "type": "scattermapbox"
           }
          ],
          "scatterpolar": [
           {
            "marker": {
             "colorbar": {
              "outlinewidth": 0,
              "ticks": ""
             }
            },
            "type": "scatterpolar"
           }
          ],
          "scatterpolargl": [
           {
            "marker": {
             "colorbar": {
              "outlinewidth": 0,
              "ticks": ""
             }
            },
            "type": "scatterpolargl"
           }
          ],
          "scatterternary": [
           {
            "marker": {
             "colorbar": {
              "outlinewidth": 0,
              "ticks": ""
             }
            },
            "type": "scatterternary"
           }
          ],
          "surface": [
           {
            "colorbar": {
             "outlinewidth": 0,
             "ticks": ""
            },
            "colorscale": [
             [
              0,
              "#0d0887"
             ],
             [
              0.1111111111111111,
              "#46039f"
             ],
             [
              0.2222222222222222,
              "#7201a8"
             ],
             [
              0.3333333333333333,
              "#9c179e"
             ],
             [
              0.4444444444444444,
              "#bd3786"
             ],
             [
              0.5555555555555556,
              "#d8576b"
             ],
             [
              0.6666666666666666,
              "#ed7953"
             ],
             [
              0.7777777777777778,
              "#fb9f3a"
             ],
             [
              0.8888888888888888,
              "#fdca26"
             ],
             [
              1,
              "#f0f921"
             ]
            ],
            "type": "surface"
           }
          ],
          "table": [
           {
            "cells": {
             "fill": {
              "color": "#EBF0F8"
             },
             "line": {
              "color": "white"
             }
            },
            "header": {
             "fill": {
              "color": "#C8D4E3"
             },
             "line": {
              "color": "white"
             }
            },
            "type": "table"
           }
          ]
         },
         "layout": {
          "annotationdefaults": {
           "arrowcolor": "#2a3f5f",
           "arrowhead": 0,
           "arrowwidth": 1
          },
          "coloraxis": {
           "colorbar": {
            "outlinewidth": 0,
            "ticks": ""
           }
          },
          "colorscale": {
           "diverging": [
            [
             0,
             "#8e0152"
            ],
            [
             0.1,
             "#c51b7d"
            ],
            [
             0.2,
             "#de77ae"
            ],
            [
             0.3,
             "#f1b6da"
            ],
            [
             0.4,
             "#fde0ef"
            ],
            [
             0.5,
             "#f7f7f7"
            ],
            [
             0.6,
             "#e6f5d0"
            ],
            [
             0.7,
             "#b8e186"
            ],
            [
             0.8,
             "#7fbc41"
            ],
            [
             0.9,
             "#4d9221"
            ],
            [
             1,
             "#276419"
            ]
           ],
           "sequential": [
            [
             0,
             "#0d0887"
            ],
            [
             0.1111111111111111,
             "#46039f"
            ],
            [
             0.2222222222222222,
             "#7201a8"
            ],
            [
             0.3333333333333333,
             "#9c179e"
            ],
            [
             0.4444444444444444,
             "#bd3786"
            ],
            [
             0.5555555555555556,
             "#d8576b"
            ],
            [
             0.6666666666666666,
             "#ed7953"
            ],
            [
             0.7777777777777778,
             "#fb9f3a"
            ],
            [
             0.8888888888888888,
             "#fdca26"
            ],
            [
             1,
             "#f0f921"
            ]
           ],
           "sequentialminus": [
            [
             0,
             "#0d0887"
            ],
            [
             0.1111111111111111,
             "#46039f"
            ],
            [
             0.2222222222222222,
             "#7201a8"
            ],
            [
             0.3333333333333333,
             "#9c179e"
            ],
            [
             0.4444444444444444,
             "#bd3786"
            ],
            [
             0.5555555555555556,
             "#d8576b"
            ],
            [
             0.6666666666666666,
             "#ed7953"
            ],
            [
             0.7777777777777778,
             "#fb9f3a"
            ],
            [
             0.8888888888888888,
             "#fdca26"
            ],
            [
             1,
             "#f0f921"
            ]
           ]
          },
          "colorway": [
           "#636efa",
           "#EF553B",
           "#00cc96",
           "#ab63fa",
           "#FFA15A",
           "#19d3f3",
           "#FF6692",
           "#B6E880",
           "#FF97FF",
           "#FECB52"
          ],
          "font": {
           "color": "#2a3f5f"
          },
          "geo": {
           "bgcolor": "white",
           "lakecolor": "white",
           "landcolor": "#E5ECF6",
           "showlakes": true,
           "showland": true,
           "subunitcolor": "white"
          },
          "hoverlabel": {
           "align": "left"
          },
          "hovermode": "closest",
          "mapbox": {
           "style": "light"
          },
          "paper_bgcolor": "white",
          "plot_bgcolor": "#E5ECF6",
          "polar": {
           "angularaxis": {
            "gridcolor": "white",
            "linecolor": "white",
            "ticks": ""
           },
           "bgcolor": "#E5ECF6",
           "radialaxis": {
            "gridcolor": "white",
            "linecolor": "white",
            "ticks": ""
           }
          },
          "scene": {
           "xaxis": {
            "backgroundcolor": "#E5ECF6",
            "gridcolor": "white",
            "gridwidth": 2,
            "linecolor": "white",
            "showbackground": true,
            "ticks": "",
            "zerolinecolor": "white"
           },
           "yaxis": {
            "backgroundcolor": "#E5ECF6",
            "gridcolor": "white",
            "gridwidth": 2,
            "linecolor": "white",
            "showbackground": true,
            "ticks": "",
            "zerolinecolor": "white"
           },
           "zaxis": {
            "backgroundcolor": "#E5ECF6",
            "gridcolor": "white",
            "gridwidth": 2,
            "linecolor": "white",
            "showbackground": true,
            "ticks": "",
            "zerolinecolor": "white"
           }
          },
          "shapedefaults": {
           "line": {
            "color": "#2a3f5f"
           }
          },
          "ternary": {
           "aaxis": {
            "gridcolor": "white",
            "linecolor": "white",
            "ticks": ""
           },
           "baxis": {
            "gridcolor": "white",
            "linecolor": "white",
            "ticks": ""
           },
           "bgcolor": "#E5ECF6",
           "caxis": {
            "gridcolor": "white",
            "linecolor": "white",
            "ticks": ""
           }
          },
          "title": {
           "x": 0.05
          },
          "xaxis": {
           "automargin": true,
           "gridcolor": "white",
           "linecolor": "white",
           "ticks": "",
           "title": {
            "standoff": 15
           },
           "zerolinecolor": "white",
           "zerolinewidth": 2
          },
          "yaxis": {
           "automargin": true,
           "gridcolor": "white",
           "linecolor": "white",
           "ticks": "",
           "title": {
            "standoff": 15
           },
           "zerolinecolor": "white",
           "zerolinewidth": 2
          }
         }
        },
        "title": {
         "text": "revenus de festivals carthage session 27 pour l'année 2016"
        }
       }
      },
      "text/html": [
       "<div>\n",
       "        \n",
       "        \n",
       "            <div id=\"900193a7-d76c-4519-9407-cec5ad5b69c4\" class=\"plotly-graph-div\" style=\"height:700px; width:100%;\"></div>\n",
       "            <script type=\"text/javascript\">\n",
       "                require([\"plotly\"], function(Plotly) {\n",
       "                    window.PLOTLYENV=window.PLOTLYENV || {};\n",
       "                    \n",
       "                if (document.getElementById(\"900193a7-d76c-4519-9407-cec5ad5b69c4\")) {\n",
       "                    Plotly.newPlot(\n",
       "                        '900193a7-d76c-4519-9407-cec5ad5b69c4',\n",
       "                        [{\"marker\": {\"color\": \"Silver\"}, \"name\": \"Esstimation\", \"type\": \"bar\", \"x\": [\"\\u0645\\u0646\\u062d\\u0629 \\u0627\\u0644\\u0648\\u0632\\u0627\\u0631\\u0629\", \"\\u0645\\u0646\\u062d\\u0629 \\u0645\\u0631\\u0643\\u0632 \\u0627\\u0644\\u0648\\u0637\\u0646\\u064a \\u0644\\u0644\\u0633\\u0646\\u0645\\u0627 \\u0648 \\u0627\\u0644\\u0635\\u0648\\u0631\\u0629\", \"\\u0645\\u062f\\u0627\\u062e\\u064a\\u0644 \\u0627\\u0644\\u062a\\u0630\\u0627\\u0643\\u0631\", \"\\u0645\\u062f\\u0627\\u062e\\u064a\\u0644 \\u0627\\u0644\\u0625\\u0634\\u0647\\u0627\\u0631\", \"\\u0645\\u0646\\u062d\\u0629 \\u0627\\u0633\\u062a\\u062b\\u0646\\u0627\\u0626\\u064a\\u0629 \\u0645\\u0646 \\u0627\\u0644\\u0648\\u0632\\u0627\\u0631\\u0629 \\u0641\\u064a \\u0627\\u0637\\u0627\\u0631 \\u0628\\u0631\\u0646\\u0627\\u0645\\u062c \\u0645\\u0642\\u0627\\u0648\\u0645\\u0629 \\u0627\\u0644\\u0625\\u0631\\u0647\\u0627\\u0628\", \"\\u0645\\u062f\\u062e\\u064a\\u0644 \\u0623\\u062e\\u0631\\u0649  Boutique JCC\"], \"y\": [450000.0, 1500000.0, 200000.0, 600000.0, 400000.0, 0.0]}, {\"marker\": {\"color\": \"lightseagreen\"}, \"name\": \"R\\u00e9alisation\", \"type\": \"bar\", \"x\": [\"\\u0645\\u0646\\u062d\\u0629 \\u0627\\u0644\\u0648\\u0632\\u0627\\u0631\\u0629\", \"\\u0645\\u0646\\u062d\\u0629 \\u0645\\u0631\\u0643\\u0632 \\u0627\\u0644\\u0648\\u0637\\u0646\\u064a \\u0644\\u0644\\u0633\\u0646\\u0645\\u0627 \\u0648 \\u0627\\u0644\\u0635\\u0648\\u0631\\u0629\", \"\\u0645\\u062f\\u0627\\u062e\\u064a\\u0644 \\u0627\\u0644\\u062a\\u0630\\u0627\\u0643\\u0631\", \"\\u0645\\u062f\\u0627\\u062e\\u064a\\u0644 \\u0627\\u0644\\u0625\\u0634\\u0647\\u0627\\u0631\", \"\\u0645\\u0646\\u062d\\u0629 \\u0627\\u0633\\u062a\\u062b\\u0646\\u0627\\u0626\\u064a\\u0629 \\u0645\\u0646 \\u0627\\u0644\\u0648\\u0632\\u0627\\u0631\\u0629 \\u0641\\u064a \\u0627\\u0637\\u0627\\u0631 \\u0628\\u0631\\u0646\\u0627\\u0645\\u062c \\u0645\\u0642\\u0627\\u0648\\u0645\\u0629 \\u0627\\u0644\\u0625\\u0631\\u0647\\u0627\\u0628\", \"\\u0645\\u062f\\u062e\\u064a\\u0644 \\u0623\\u062e\\u0631\\u0649  Boutique JCC\"], \"y\": [450000.0, 1500000.0, 171348.0, 1621510.708, 325000.0, 4487.0]}],\n",
       "                        {\"barmode\": \"group\", \"height\": 700, \"template\": {\"data\": {\"bar\": [{\"error_x\": {\"color\": \"#2a3f5f\"}, \"error_y\": {\"color\": \"#2a3f5f\"}, \"marker\": {\"line\": {\"color\": \"#E5ECF6\", \"width\": 0.5}}, \"type\": \"bar\"}], \"barpolar\": [{\"marker\": {\"line\": {\"color\": \"#E5ECF6\", \"width\": 0.5}}, \"type\": \"barpolar\"}], \"carpet\": [{\"aaxis\": {\"endlinecolor\": \"#2a3f5f\", \"gridcolor\": \"white\", \"linecolor\": \"white\", \"minorgridcolor\": \"white\", \"startlinecolor\": \"#2a3f5f\"}, \"baxis\": {\"endlinecolor\": \"#2a3f5f\", \"gridcolor\": \"white\", \"linecolor\": \"white\", \"minorgridcolor\": \"white\", \"startlinecolor\": \"#2a3f5f\"}, \"type\": \"carpet\"}], \"choropleth\": [{\"colorbar\": {\"outlinewidth\": 0, \"ticks\": \"\"}, \"type\": \"choropleth\"}], \"contour\": [{\"colorbar\": {\"outlinewidth\": 0, \"ticks\": \"\"}, \"colorscale\": [[0.0, \"#0d0887\"], [0.1111111111111111, \"#46039f\"], [0.2222222222222222, \"#7201a8\"], [0.3333333333333333, \"#9c179e\"], [0.4444444444444444, \"#bd3786\"], [0.5555555555555556, \"#d8576b\"], [0.6666666666666666, \"#ed7953\"], [0.7777777777777778, \"#fb9f3a\"], [0.8888888888888888, \"#fdca26\"], [1.0, \"#f0f921\"]], \"type\": \"contour\"}], \"contourcarpet\": [{\"colorbar\": {\"outlinewidth\": 0, \"ticks\": \"\"}, \"type\": \"contourcarpet\"}], \"heatmap\": [{\"colorbar\": {\"outlinewidth\": 0, \"ticks\": \"\"}, \"colorscale\": [[0.0, \"#0d0887\"], [0.1111111111111111, \"#46039f\"], [0.2222222222222222, \"#7201a8\"], [0.3333333333333333, \"#9c179e\"], [0.4444444444444444, \"#bd3786\"], [0.5555555555555556, \"#d8576b\"], [0.6666666666666666, \"#ed7953\"], [0.7777777777777778, \"#fb9f3a\"], [0.8888888888888888, \"#fdca26\"], [1.0, \"#f0f921\"]], \"type\": \"heatmap\"}], \"heatmapgl\": [{\"colorbar\": {\"outlinewidth\": 0, \"ticks\": \"\"}, \"colorscale\": [[0.0, \"#0d0887\"], [0.1111111111111111, \"#46039f\"], [0.2222222222222222, \"#7201a8\"], [0.3333333333333333, \"#9c179e\"], [0.4444444444444444, \"#bd3786\"], [0.5555555555555556, \"#d8576b\"], [0.6666666666666666, \"#ed7953\"], [0.7777777777777778, \"#fb9f3a\"], [0.8888888888888888, \"#fdca26\"], [1.0, \"#f0f921\"]], \"type\": \"heatmapgl\"}], \"histogram\": [{\"marker\": {\"colorbar\": {\"outlinewidth\": 0, \"ticks\": \"\"}}, \"type\": \"histogram\"}], \"histogram2d\": [{\"colorbar\": {\"outlinewidth\": 0, \"ticks\": \"\"}, \"colorscale\": [[0.0, \"#0d0887\"], [0.1111111111111111, \"#46039f\"], [0.2222222222222222, \"#7201a8\"], [0.3333333333333333, \"#9c179e\"], [0.4444444444444444, \"#bd3786\"], [0.5555555555555556, \"#d8576b\"], [0.6666666666666666, \"#ed7953\"], [0.7777777777777778, \"#fb9f3a\"], [0.8888888888888888, \"#fdca26\"], [1.0, \"#f0f921\"]], \"type\": \"histogram2d\"}], \"histogram2dcontour\": [{\"colorbar\": {\"outlinewidth\": 0, \"ticks\": \"\"}, \"colorscale\": [[0.0, \"#0d0887\"], [0.1111111111111111, \"#46039f\"], [0.2222222222222222, \"#7201a8\"], [0.3333333333333333, \"#9c179e\"], [0.4444444444444444, \"#bd3786\"], [0.5555555555555556, \"#d8576b\"], [0.6666666666666666, \"#ed7953\"], [0.7777777777777778, \"#fb9f3a\"], [0.8888888888888888, \"#fdca26\"], [1.0, \"#f0f921\"]], \"type\": \"histogram2dcontour\"}], \"mesh3d\": [{\"colorbar\": {\"outlinewidth\": 0, \"ticks\": \"\"}, \"type\": \"mesh3d\"}], \"parcoords\": [{\"line\": {\"colorbar\": {\"outlinewidth\": 0, \"ticks\": \"\"}}, \"type\": \"parcoords\"}], \"pie\": [{\"automargin\": true, \"type\": \"pie\"}], \"scatter\": [{\"marker\": {\"colorbar\": {\"outlinewidth\": 0, \"ticks\": \"\"}}, \"type\": \"scatter\"}], \"scatter3d\": [{\"line\": {\"colorbar\": {\"outlinewidth\": 0, \"ticks\": \"\"}}, \"marker\": {\"colorbar\": {\"outlinewidth\": 0, \"ticks\": \"\"}}, \"type\": \"scatter3d\"}], \"scattercarpet\": [{\"marker\": {\"colorbar\": {\"outlinewidth\": 0, \"ticks\": \"\"}}, \"type\": \"scattercarpet\"}], \"scattergeo\": [{\"marker\": {\"colorbar\": {\"outlinewidth\": 0, \"ticks\": \"\"}}, \"type\": \"scattergeo\"}], \"scattergl\": [{\"marker\": {\"colorbar\": {\"outlinewidth\": 0, \"ticks\": \"\"}}, \"type\": \"scattergl\"}], \"scattermapbox\": [{\"marker\": {\"colorbar\": {\"outlinewidth\": 0, \"ticks\": \"\"}}, \"type\": \"scattermapbox\"}], \"scatterpolar\": [{\"marker\": {\"colorbar\": {\"outlinewidth\": 0, \"ticks\": \"\"}}, \"type\": \"scatterpolar\"}], \"scatterpolargl\": [{\"marker\": {\"colorbar\": {\"outlinewidth\": 0, \"ticks\": \"\"}}, \"type\": \"scatterpolargl\"}], \"scatterternary\": [{\"marker\": {\"colorbar\": {\"outlinewidth\": 0, \"ticks\": \"\"}}, \"type\": \"scatterternary\"}], \"surface\": [{\"colorbar\": {\"outlinewidth\": 0, \"ticks\": \"\"}, \"colorscale\": [[0.0, \"#0d0887\"], [0.1111111111111111, \"#46039f\"], [0.2222222222222222, \"#7201a8\"], [0.3333333333333333, \"#9c179e\"], [0.4444444444444444, \"#bd3786\"], [0.5555555555555556, \"#d8576b\"], [0.6666666666666666, \"#ed7953\"], [0.7777777777777778, \"#fb9f3a\"], [0.8888888888888888, \"#fdca26\"], [1.0, \"#f0f921\"]], \"type\": \"surface\"}], \"table\": [{\"cells\": {\"fill\": {\"color\": \"#EBF0F8\"}, \"line\": {\"color\": \"white\"}}, \"header\": {\"fill\": {\"color\": \"#C8D4E3\"}, \"line\": {\"color\": \"white\"}}, \"type\": \"table\"}]}, \"layout\": {\"annotationdefaults\": {\"arrowcolor\": \"#2a3f5f\", \"arrowhead\": 0, \"arrowwidth\": 1}, \"coloraxis\": {\"colorbar\": {\"outlinewidth\": 0, \"ticks\": \"\"}}, \"colorscale\": {\"diverging\": [[0, \"#8e0152\"], [0.1, \"#c51b7d\"], [0.2, \"#de77ae\"], [0.3, \"#f1b6da\"], [0.4, \"#fde0ef\"], [0.5, \"#f7f7f7\"], [0.6, \"#e6f5d0\"], [0.7, \"#b8e186\"], [0.8, \"#7fbc41\"], [0.9, \"#4d9221\"], [1, \"#276419\"]], \"sequential\": [[0.0, \"#0d0887\"], [0.1111111111111111, \"#46039f\"], [0.2222222222222222, \"#7201a8\"], [0.3333333333333333, \"#9c179e\"], [0.4444444444444444, \"#bd3786\"], [0.5555555555555556, \"#d8576b\"], [0.6666666666666666, \"#ed7953\"], [0.7777777777777778, \"#fb9f3a\"], [0.8888888888888888, \"#fdca26\"], [1.0, \"#f0f921\"]], \"sequentialminus\": [[0.0, \"#0d0887\"], [0.1111111111111111, \"#46039f\"], [0.2222222222222222, \"#7201a8\"], [0.3333333333333333, \"#9c179e\"], [0.4444444444444444, \"#bd3786\"], [0.5555555555555556, \"#d8576b\"], [0.6666666666666666, \"#ed7953\"], [0.7777777777777778, \"#fb9f3a\"], [0.8888888888888888, \"#fdca26\"], [1.0, \"#f0f921\"]]}, \"colorway\": [\"#636efa\", \"#EF553B\", \"#00cc96\", \"#ab63fa\", \"#FFA15A\", \"#19d3f3\", \"#FF6692\", \"#B6E880\", \"#FF97FF\", \"#FECB52\"], \"font\": {\"color\": \"#2a3f5f\"}, \"geo\": {\"bgcolor\": \"white\", \"lakecolor\": \"white\", \"landcolor\": \"#E5ECF6\", \"showlakes\": true, \"showland\": true, \"subunitcolor\": \"white\"}, \"hoverlabel\": {\"align\": \"left\"}, \"hovermode\": \"closest\", \"mapbox\": {\"style\": \"light\"}, \"paper_bgcolor\": \"white\", \"plot_bgcolor\": \"#E5ECF6\", \"polar\": {\"angularaxis\": {\"gridcolor\": \"white\", \"linecolor\": \"white\", \"ticks\": \"\"}, \"bgcolor\": \"#E5ECF6\", \"radialaxis\": {\"gridcolor\": \"white\", \"linecolor\": \"white\", \"ticks\": \"\"}}, \"scene\": {\"xaxis\": {\"backgroundcolor\": \"#E5ECF6\", \"gridcolor\": \"white\", \"gridwidth\": 2, \"linecolor\": \"white\", \"showbackground\": true, \"ticks\": \"\", \"zerolinecolor\": \"white\"}, \"yaxis\": {\"backgroundcolor\": \"#E5ECF6\", \"gridcolor\": \"white\", \"gridwidth\": 2, \"linecolor\": \"white\", \"showbackground\": true, \"ticks\": \"\", \"zerolinecolor\": \"white\"}, \"zaxis\": {\"backgroundcolor\": \"#E5ECF6\", \"gridcolor\": \"white\", \"gridwidth\": 2, \"linecolor\": \"white\", \"showbackground\": true, \"ticks\": \"\", \"zerolinecolor\": \"white\"}}, \"shapedefaults\": {\"line\": {\"color\": \"#2a3f5f\"}}, \"ternary\": {\"aaxis\": {\"gridcolor\": \"white\", \"linecolor\": \"white\", \"ticks\": \"\"}, \"baxis\": {\"gridcolor\": \"white\", \"linecolor\": \"white\", \"ticks\": \"\"}, \"bgcolor\": \"#E5ECF6\", \"caxis\": {\"gridcolor\": \"white\", \"linecolor\": \"white\", \"ticks\": \"\"}}, \"title\": {\"x\": 0.05}, \"xaxis\": {\"automargin\": true, \"gridcolor\": \"white\", \"linecolor\": \"white\", \"ticks\": \"\", \"title\": {\"standoff\": 15}, \"zerolinecolor\": \"white\", \"zerolinewidth\": 2}, \"yaxis\": {\"automargin\": true, \"gridcolor\": \"white\", \"linecolor\": \"white\", \"ticks\": \"\", \"title\": {\"standoff\": 15}, \"zerolinecolor\": \"white\", \"zerolinewidth\": 2}}}, \"title\": {\"text\": \"revenus de festivals carthage session 27 pour l'ann\\u00e9e 2016\"}},\n",
       "                        {\"responsive\": true}\n",
       "                    ).then(function(){\n",
       "                            \n",
       "var gd = document.getElementById('900193a7-d76c-4519-9407-cec5ad5b69c4');\n",
       "var x = new MutationObserver(function (mutations, observer) {{\n",
       "        var display = window.getComputedStyle(gd).display;\n",
       "        if (!display || display === 'none') {{\n",
       "            console.log([gd, 'removed!']);\n",
       "            Plotly.purge(gd);\n",
       "            observer.disconnect();\n",
       "        }}\n",
       "}});\n",
       "\n",
       "// Listen for the removal of the full notebook cells\n",
       "var notebookContainer = gd.closest('#notebook-container');\n",
       "if (notebookContainer) {{\n",
       "    x.observe(notebookContainer, {childList: true});\n",
       "}}\n",
       "\n",
       "// Listen for the clearing of the current output cell\n",
       "var outputEl = gd.closest('.output');\n",
       "if (outputEl) {{\n",
       "    x.observe(outputEl, {childList: true});\n",
       "}}\n",
       "\n",
       "                        })\n",
       "                };\n",
       "                });\n",
       "            </script>\n",
       "        </div>"
      ]
     },
     "metadata": {},
     "output_type": "display_data"
    }
   ],
   "source": [
    "#grouped bar chart\n",
    "import pandas as pd\n",
    "df23=pd.read_csv('revenus-festivals-carthage-session-27-2016.csv')\n",
    "import plotly.graph_objects as go\n",
    "x_var=df23['Type de Subvention']\n",
    "fig = go.Figure(data=[\n",
    "    go.Bar( name='Esstimation',x=x_var, y=df23['Estimations'],marker_color='Silver'),\n",
    "    go.Bar(name='Réalisation', x=x_var, y=df23['Realisations'],marker_color='lightseagreen')\n",
    "    \n",
    "])\n",
    "\n",
    "fig.update_layout(barmode='group')\n",
    "fig.update_layout(title_text=\"revenus de festivals carthage session 27 pour l'année 2016\" ,height =700)\n",
    "fig.show()\n",
    " "
   ]
  },
  {
   "cell_type": "code",
   "execution_count": 23,
   "metadata": {
    "scrolled": false
   },
   "outputs": [],
   "source": [
    "# !pip install facebook_scraper\n",
    "# from facebook_scraper import get_posts\n",
    "# import pandas as pd\n",
    "\n",
    "# posts= get_posts('JCC.TN',pages=300)\n",
    "# s=pd.DataFrame(posts)\n",
    "# s.to_csv('posts.csv', index = False )\n",
    "# s.tail()\n",
    "\n",
    "# fcbk=pd.read_csv('posts.csv')\n",
    "# df=fcbk.groupby('post_id').sum()\n",
    "\n",
    "\n",
    "\n",
    "\n",
    "\n",
    "# fig = go.Figure()\n",
    "\n",
    "# data_bar=[ go.Scatter(name='Nombre de comments',\n",
    "#            visible=True,\n",
    "#            x=df.index, \n",
    "#            y=df['comments'],\n",
    "#            marker_color='Pink'),\n",
    "          \n",
    "#          go.Scatter(name='Nombre des likes',\n",
    "#            visible=False,\n",
    "#            x=df.index, \n",
    "#            y= df['likes'],\n",
    "#           marker_color='royalblue'),\n",
    "          \n",
    "#           go.Scatter(name='Nombre de shares',\n",
    "#            visible=False,\n",
    "#            x=df.index, \n",
    "#            y= df['shares'],\n",
    "#           marker_color='royalblue'),\n",
    "         \n",
    "#         ]\n",
    "\n",
    "# list_updatemenus=[\n",
    "#         {'args':[{\"visible\":[True,False,False]}],\n",
    "#          'label':\"Nombre de comments\",\n",
    "#          'method':\"update\"},\n",
    "    \n",
    "#         {'args':[{\"visible\":[False,True,False]}],\n",
    "#          'label':\"Nombre des likes\",\n",
    "#          'method':\"update\"},\n",
    "#     {'args':[{\"visible\":[False,False,True]}],\n",
    "#          'label':\"Nombre des Shares\",\n",
    "#          'method':\"update\"},\n",
    "    \n",
    "\n",
    "#          ]\n",
    "# layout_bar=go.Layout(updatemenus=list([dict(buttons= list_updatemenus)]),\n",
    "#                      title_text=\"Statistique sur le Nombre de likes de share et de comments \",\n",
    "#                      template='plotly_white',\n",
    "#                      font=dict(\n",
    "#                     family=\" Gravitas One, cursive\",\n",
    "#                     size=17))\n",
    "\n",
    "# #defining figure and plotting\n",
    "# fig_line_4 = go.Figure(data_bar,layout_bar)\n",
    "# fig_line_4.show()\n"
   ]
  },
  {
   "cell_type": "code",
   "execution_count": 24,
   "metadata": {},
   "outputs": [
    {
     "name": "stdout",
     "output_type": "stream",
     "text": [
      " * Serving Flask app \"dash\" (lazy loading)\n",
      " * Environment: production\n",
      "   WARNING: This is a development server. Do not use it in a production deployment.\n",
      "   Use a production WSGI server instead.\n",
      " * Debug mode: off\n"
     ]
    },
    {
     "name": "stderr",
     "output_type": "stream",
     "text": [
      " * Running on http://127.0.0.1:8050/ (Press CTRL+C to quit)\n",
      "127.0.0.1 - - [12/May/2020 01:47:08] \"GET / HTTP/1.1\" 200 -\n",
      "127.0.0.1 - - [12/May/2020 01:47:09] \"GET /_dash-dependencies HTTP/1.1\" 200 -\n",
      "127.0.0.1 - - [12/May/2020 01:47:09] \"GET /_dash-layout HTTP/1.1\" 200 -\n",
      "127.0.0.1 - - [12/May/2020 01:47:09] \"GET /favicon.ico HTTP/1.1\" 200 -\n"
     ]
    }
   ],
   "source": [
    "import dash\n",
    "import dash_core_components as dcc\n",
    "import dash_html_components as html\n",
    "import pandas as pd\n",
    "import plotly.graph_objects as go\n",
    "\n",
    "\n",
    "\n",
    "fig = go.Figure()\n",
    "\n",
    "\n",
    "\n",
    "\n",
    "\n",
    "import plotly.graph_objects as go\n",
    "\n",
    "fig.update_layout(title_text=\"Evolution des nombres d'adhérents par Année\" )\n",
    "\n",
    "fig\n",
    "\n",
    "\n",
    "external_stylesheets = ['https://codepen.io/chriddyp/pen/bWLwgP.css']\n",
    "\n",
    "app = dash.Dash()\n",
    "\n",
    "app.layout = html.Div(children=[\n",
    "    html.H1(children='Dashbord sur les données de la minsitre culturelle de TUNIS'),\n",
    "   \n",
    "    html.Div(className='row', children=[\n",
    "        html.Div(className='four columns div-user-controls',children = [\n",
    "        html.H2('Dash '),]),  # Define the left element\n",
    "    ]),\n",
    "    \n",
    "    html.Div(className='row',style={'height':'700px'}, children=[\n",
    "    dcc.Graph(\n",
    "        id='example-gggdraph',\n",
    "        figure=fig_bar_1,\n",
    "        style={'width':'45%',\n",
    "               'display':'inline-block',\n",
    "               'margin-left':'10px',\n",
    "               'background-color':'black'\n",
    "              }\n",
    "            \n",
    "        \n",
    "    ),\n",
    "    \n",
    "    dcc.Graph(\n",
    "        id='example-2',\n",
    "        figure=fig_2,\n",
    "        style={'width':'45%',\n",
    "               'display':'inline-block',\n",
    "               'margin-left':'20px'\n",
    "              }\n",
    "            \n",
    "        \n",
    "    ),    \n",
    "    ]),\n",
    "   \n",
    "\n",
    "   \n",
    "   \n",
    "    \n",
    "     dcc.Graph(\n",
    "        id='example-3',\n",
    "        figure=fig_bar_15        \n",
    "            \n",
    "        \n",
    "    ),\n",
    "#      dcc.Graph(\n",
    "#         id='example-4',\n",
    "#         figure=fig_line_4        \n",
    "            \n",
    "        \n",
    "#     ),\n",
    "     dcc.Graph(\n",
    "        id='example-5',\n",
    "        figure=fig_5        \n",
    "            \n",
    "        \n",
    "    ),\n",
    "    \n",
    "    \n",
    "     dcc.Graph(\n",
    "        id='example-6',\n",
    "        figure=fig_bar_6        \n",
    "            \n",
    "        \n",
    "    ),\n",
    "    html.Iframe(id='map',srcDoc=open('tunisia.html','r').read(),width='100%',height=\"600\",style={'margin-top':'100'}),\n",
    "    \n",
    "    \n",
    "  \n",
    "\n",
    " \n",
    "],style={'background-color':'black'})\n",
    "\n",
    "\n",
    "if __name__ == '__main__':\n",
    "    app.run_server(debug=False)"
   ]
  },
  {
   "cell_type": "code",
   "execution_count": null,
   "metadata": {},
   "outputs": [],
   "source": []
  }
 ],
 "metadata": {
  "kernelspec": {
   "display_name": "Python 3",
   "language": "python",
   "name": "python3"
  },
  "language_info": {
   "codemirror_mode": {
    "name": "ipython",
    "version": 3
   },
   "file_extension": ".py",
   "mimetype": "text/x-python",
   "name": "python",
   "nbconvert_exporter": "python",
   "pygments_lexer": "ipython3",
   "version": "3.7.4"
  }
 },
 "nbformat": 4,
 "nbformat_minor": 2
}
