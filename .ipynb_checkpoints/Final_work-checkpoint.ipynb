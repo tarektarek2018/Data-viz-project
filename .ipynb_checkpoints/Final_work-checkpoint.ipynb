{
 "cells": [
  {
   "cell_type": "code",
   "execution_count": 2,
   "metadata": {},
   "outputs": [],
   "source": [
    "import pandas as pd\n",
    "import plotly.graph_objects as go"
   ]
  },
  {
   "cell_type": "markdown",
   "metadata": {},
   "source": [
    "# Subventions"
   ]
  },
  {
   "cell_type": "code",
   "execution_count": 3,
   "metadata": {
    "scrolled": false
   },
   "outputs": [
    {
     "data": {
      "application/vnd.plotly.v1+json": {
       "config": {
        "plotlyServerURL": "https://plot.ly"
       },
       "data": [
        {
         "marker": {
          "color": "royalblue"
         },
         "name": "2016",
         "type": "bar",
         "visible": true,
         "x": [
          "Ariana",
          "Gabès",
          "Gafsa",
          "Mahdia",
          "Manubah",
          "Monastir",
          "Nabeul",
          "Sfax",
          "Siliana",
          "Tozeur",
          "Tunis"
         ],
         "y": [
          0,
          0,
          2800,
          0,
          5000,
          5000,
          12000,
          56000,
          9000,
          0,
          29500
         ]
        },
        {
         "marker": {
          "color": "royalblue"
         },
         "name": "2017",
         "type": "bar",
         "visible": false,
         "x": [
          "Ariana",
          "Gabès",
          "Gafsa",
          "Mahdia",
          "Manubah",
          "Monastir",
          "Nabeul",
          "Sfax",
          "Siliana",
          "Tozeur",
          "Tunis"
         ],
         "y": [
          5000,
          10000,
          3500,
          5000,
          6000,
          7000,
          13000,
          56000,
          10000,
          4000,
          46000
         ]
        },
        {
         "marker": {
          "color": "royalblue"
         },
         "name": "2018",
         "type": "bar",
         "visible": false,
         "x": [
          "Ariana",
          "Gabès",
          "Gafsa",
          "Mahdia",
          "Manubah",
          "Monastir",
          "Nabeul",
          "Sfax",
          "Siliana",
          "Tozeur",
          "Tunis"
         ],
         "y": [
          50000,
          30000,
          5000,
          0,
          10000,
          10000,
          4000,
          0,
          0,
          0,
          2000,
          0,
          0,
          0,
          10000,
          50000,
          20000,
          0,
          8000,
          0,
          4000,
          0,
          0,
          10000,
          10000,
          0,
          4000,
          10000,
          0
         ]
        }
       ],
       "layout": {
        "font": {
         "family": " Gravitas One, cursive",
         "size": 13
        },
        "template": {
         "data": {
          "bar": [
           {
            "error_x": {
             "color": "#2a3f5f"
            },
            "error_y": {
             "color": "#2a3f5f"
            },
            "marker": {
             "line": {
              "color": "white",
              "width": 0.5
             }
            },
            "type": "bar"
           }
          ],
          "barpolar": [
           {
            "marker": {
             "line": {
              "color": "white",
              "width": 0.5
             }
            },
            "type": "barpolar"
           }
          ],
          "carpet": [
           {
            "aaxis": {
             "endlinecolor": "#2a3f5f",
             "gridcolor": "#C8D4E3",
             "linecolor": "#C8D4E3",
             "minorgridcolor": "#C8D4E3",
             "startlinecolor": "#2a3f5f"
            },
            "baxis": {
             "endlinecolor": "#2a3f5f",
             "gridcolor": "#C8D4E3",
             "linecolor": "#C8D4E3",
             "minorgridcolor": "#C8D4E3",
             "startlinecolor": "#2a3f5f"
            },
            "type": "carpet"
           }
          ],
          "choropleth": [
           {
            "colorbar": {
             "outlinewidth": 0,
             "ticks": ""
            },
            "type": "choropleth"
           }
          ],
          "contour": [
           {
            "colorbar": {
             "outlinewidth": 0,
             "ticks": ""
            },
            "colorscale": [
             [
              0,
              "#0d0887"
             ],
             [
              0.1111111111111111,
              "#46039f"
             ],
             [
              0.2222222222222222,
              "#7201a8"
             ],
             [
              0.3333333333333333,
              "#9c179e"
             ],
             [
              0.4444444444444444,
              "#bd3786"
             ],
             [
              0.5555555555555556,
              "#d8576b"
             ],
             [
              0.6666666666666666,
              "#ed7953"
             ],
             [
              0.7777777777777778,
              "#fb9f3a"
             ],
             [
              0.8888888888888888,
              "#fdca26"
             ],
             [
              1,
              "#f0f921"
             ]
            ],
            "type": "contour"
           }
          ],
          "contourcarpet": [
           {
            "colorbar": {
             "outlinewidth": 0,
             "ticks": ""
            },
            "type": "contourcarpet"
           }
          ],
          "heatmap": [
           {
            "colorbar": {
             "outlinewidth": 0,
             "ticks": ""
            },
            "colorscale": [
             [
              0,
              "#0d0887"
             ],
             [
              0.1111111111111111,
              "#46039f"
             ],
             [
              0.2222222222222222,
              "#7201a8"
             ],
             [
              0.3333333333333333,
              "#9c179e"
             ],
             [
              0.4444444444444444,
              "#bd3786"
             ],
             [
              0.5555555555555556,
              "#d8576b"
             ],
             [
              0.6666666666666666,
              "#ed7953"
             ],
             [
              0.7777777777777778,
              "#fb9f3a"
             ],
             [
              0.8888888888888888,
              "#fdca26"
             ],
             [
              1,
              "#f0f921"
             ]
            ],
            "type": "heatmap"
           }
          ],
          "heatmapgl": [
           {
            "colorbar": {
             "outlinewidth": 0,
             "ticks": ""
            },
            "colorscale": [
             [
              0,
              "#0d0887"
             ],
             [
              0.1111111111111111,
              "#46039f"
             ],
             [
              0.2222222222222222,
              "#7201a8"
             ],
             [
              0.3333333333333333,
              "#9c179e"
             ],
             [
              0.4444444444444444,
              "#bd3786"
             ],
             [
              0.5555555555555556,
              "#d8576b"
             ],
             [
              0.6666666666666666,
              "#ed7953"
             ],
             [
              0.7777777777777778,
              "#fb9f3a"
             ],
             [
              0.8888888888888888,
              "#fdca26"
             ],
             [
              1,
              "#f0f921"
             ]
            ],
            "type": "heatmapgl"
           }
          ],
          "histogram": [
           {
            "marker": {
             "colorbar": {
              "outlinewidth": 0,
              "ticks": ""
             }
            },
            "type": "histogram"
           }
          ],
          "histogram2d": [
           {
            "colorbar": {
             "outlinewidth": 0,
             "ticks": ""
            },
            "colorscale": [
             [
              0,
              "#0d0887"
             ],
             [
              0.1111111111111111,
              "#46039f"
             ],
             [
              0.2222222222222222,
              "#7201a8"
             ],
             [
              0.3333333333333333,
              "#9c179e"
             ],
             [
              0.4444444444444444,
              "#bd3786"
             ],
             [
              0.5555555555555556,
              "#d8576b"
             ],
             [
              0.6666666666666666,
              "#ed7953"
             ],
             [
              0.7777777777777778,
              "#fb9f3a"
             ],
             [
              0.8888888888888888,
              "#fdca26"
             ],
             [
              1,
              "#f0f921"
             ]
            ],
            "type": "histogram2d"
           }
          ],
          "histogram2dcontour": [
           {
            "colorbar": {
             "outlinewidth": 0,
             "ticks": ""
            },
            "colorscale": [
             [
              0,
              "#0d0887"
             ],
             [
              0.1111111111111111,
              "#46039f"
             ],
             [
              0.2222222222222222,
              "#7201a8"
             ],
             [
              0.3333333333333333,
              "#9c179e"
             ],
             [
              0.4444444444444444,
              "#bd3786"
             ],
             [
              0.5555555555555556,
              "#d8576b"
             ],
             [
              0.6666666666666666,
              "#ed7953"
             ],
             [
              0.7777777777777778,
              "#fb9f3a"
             ],
             [
              0.8888888888888888,
              "#fdca26"
             ],
             [
              1,
              "#f0f921"
             ]
            ],
            "type": "histogram2dcontour"
           }
          ],
          "mesh3d": [
           {
            "colorbar": {
             "outlinewidth": 0,
             "ticks": ""
            },
            "type": "mesh3d"
           }
          ],
          "parcoords": [
           {
            "line": {
             "colorbar": {
              "outlinewidth": 0,
              "ticks": ""
             }
            },
            "type": "parcoords"
           }
          ],
          "pie": [
           {
            "automargin": true,
            "type": "pie"
           }
          ],
          "scatter": [
           {
            "marker": {
             "colorbar": {
              "outlinewidth": 0,
              "ticks": ""
             }
            },
            "type": "scatter"
           }
          ],
          "scatter3d": [
           {
            "line": {
             "colorbar": {
              "outlinewidth": 0,
              "ticks": ""
             }
            },
            "marker": {
             "colorbar": {
              "outlinewidth": 0,
              "ticks": ""
             }
            },
            "type": "scatter3d"
           }
          ],
          "scattercarpet": [
           {
            "marker": {
             "colorbar": {
              "outlinewidth": 0,
              "ticks": ""
             }
            },
            "type": "scattercarpet"
           }
          ],
          "scattergeo": [
           {
            "marker": {
             "colorbar": {
              "outlinewidth": 0,
              "ticks": ""
             }
            },
            "type": "scattergeo"
           }
          ],
          "scattergl": [
           {
            "marker": {
             "colorbar": {
              "outlinewidth": 0,
              "ticks": ""
             }
            },
            "type": "scattergl"
           }
          ],
          "scattermapbox": [
           {
            "marker": {
             "colorbar": {
              "outlinewidth": 0,
              "ticks": ""
             }
            },
            "type": "scattermapbox"
           }
          ],
          "scatterpolar": [
           {
            "marker": {
             "colorbar": {
              "outlinewidth": 0,
              "ticks": ""
             }
            },
            "type": "scatterpolar"
           }
          ],
          "scatterpolargl": [
           {
            "marker": {
             "colorbar": {
              "outlinewidth": 0,
              "ticks": ""
             }
            },
            "type": "scatterpolargl"
           }
          ],
          "scatterternary": [
           {
            "marker": {
             "colorbar": {
              "outlinewidth": 0,
              "ticks": ""
             }
            },
            "type": "scatterternary"
           }
          ],
          "surface": [
           {
            "colorbar": {
             "outlinewidth": 0,
             "ticks": ""
            },
            "colorscale": [
             [
              0,
              "#0d0887"
             ],
             [
              0.1111111111111111,
              "#46039f"
             ],
             [
              0.2222222222222222,
              "#7201a8"
             ],
             [
              0.3333333333333333,
              "#9c179e"
             ],
             [
              0.4444444444444444,
              "#bd3786"
             ],
             [
              0.5555555555555556,
              "#d8576b"
             ],
             [
              0.6666666666666666,
              "#ed7953"
             ],
             [
              0.7777777777777778,
              "#fb9f3a"
             ],
             [
              0.8888888888888888,
              "#fdca26"
             ],
             [
              1,
              "#f0f921"
             ]
            ],
            "type": "surface"
           }
          ],
          "table": [
           {
            "cells": {
             "fill": {
              "color": "#EBF0F8"
             },
             "line": {
              "color": "white"
             }
            },
            "header": {
             "fill": {
              "color": "#C8D4E3"
             },
             "line": {
              "color": "white"
             }
            },
            "type": "table"
           }
          ]
         },
         "layout": {
          "annotationdefaults": {
           "arrowcolor": "#2a3f5f",
           "arrowhead": 0,
           "arrowwidth": 1
          },
          "coloraxis": {
           "colorbar": {
            "outlinewidth": 0,
            "ticks": ""
           }
          },
          "colorscale": {
           "diverging": [
            [
             0,
             "#8e0152"
            ],
            [
             0.1,
             "#c51b7d"
            ],
            [
             0.2,
             "#de77ae"
            ],
            [
             0.3,
             "#f1b6da"
            ],
            [
             0.4,
             "#fde0ef"
            ],
            [
             0.5,
             "#f7f7f7"
            ],
            [
             0.6,
             "#e6f5d0"
            ],
            [
             0.7,
             "#b8e186"
            ],
            [
             0.8,
             "#7fbc41"
            ],
            [
             0.9,
             "#4d9221"
            ],
            [
             1,
             "#276419"
            ]
           ],
           "sequential": [
            [
             0,
             "#0d0887"
            ],
            [
             0.1111111111111111,
             "#46039f"
            ],
            [
             0.2222222222222222,
             "#7201a8"
            ],
            [
             0.3333333333333333,
             "#9c179e"
            ],
            [
             0.4444444444444444,
             "#bd3786"
            ],
            [
             0.5555555555555556,
             "#d8576b"
            ],
            [
             0.6666666666666666,
             "#ed7953"
            ],
            [
             0.7777777777777778,
             "#fb9f3a"
            ],
            [
             0.8888888888888888,
             "#fdca26"
            ],
            [
             1,
             "#f0f921"
            ]
           ],
           "sequentialminus": [
            [
             0,
             "#0d0887"
            ],
            [
             0.1111111111111111,
             "#46039f"
            ],
            [
             0.2222222222222222,
             "#7201a8"
            ],
            [
             0.3333333333333333,
             "#9c179e"
            ],
            [
             0.4444444444444444,
             "#bd3786"
            ],
            [
             0.5555555555555556,
             "#d8576b"
            ],
            [
             0.6666666666666666,
             "#ed7953"
            ],
            [
             0.7777777777777778,
             "#fb9f3a"
            ],
            [
             0.8888888888888888,
             "#fdca26"
            ],
            [
             1,
             "#f0f921"
            ]
           ]
          },
          "colorway": [
           "#636efa",
           "#EF553B",
           "#00cc96",
           "#ab63fa",
           "#FFA15A",
           "#19d3f3",
           "#FF6692",
           "#B6E880",
           "#FF97FF",
           "#FECB52"
          ],
          "font": {
           "color": "#2a3f5f"
          },
          "geo": {
           "bgcolor": "white",
           "lakecolor": "white",
           "landcolor": "white",
           "showlakes": true,
           "showland": true,
           "subunitcolor": "#C8D4E3"
          },
          "hoverlabel": {
           "align": "left"
          },
          "hovermode": "closest",
          "mapbox": {
           "style": "light"
          },
          "paper_bgcolor": "white",
          "plot_bgcolor": "white",
          "polar": {
           "angularaxis": {
            "gridcolor": "#EBF0F8",
            "linecolor": "#EBF0F8",
            "ticks": ""
           },
           "bgcolor": "white",
           "radialaxis": {
            "gridcolor": "#EBF0F8",
            "linecolor": "#EBF0F8",
            "ticks": ""
           }
          },
          "scene": {
           "xaxis": {
            "backgroundcolor": "white",
            "gridcolor": "#DFE8F3",
            "gridwidth": 2,
            "linecolor": "#EBF0F8",
            "showbackground": true,
            "ticks": "",
            "zerolinecolor": "#EBF0F8"
           },
           "yaxis": {
            "backgroundcolor": "white",
            "gridcolor": "#DFE8F3",
            "gridwidth": 2,
            "linecolor": "#EBF0F8",
            "showbackground": true,
            "ticks": "",
            "zerolinecolor": "#EBF0F8"
           },
           "zaxis": {
            "backgroundcolor": "white",
            "gridcolor": "#DFE8F3",
            "gridwidth": 2,
            "linecolor": "#EBF0F8",
            "showbackground": true,
            "ticks": "",
            "zerolinecolor": "#EBF0F8"
           }
          },
          "shapedefaults": {
           "line": {
            "color": "#2a3f5f"
           }
          },
          "ternary": {
           "aaxis": {
            "gridcolor": "#DFE8F3",
            "linecolor": "#A2B1C6",
            "ticks": ""
           },
           "baxis": {
            "gridcolor": "#DFE8F3",
            "linecolor": "#A2B1C6",
            "ticks": ""
           },
           "bgcolor": "white",
           "caxis": {
            "gridcolor": "#DFE8F3",
            "linecolor": "#A2B1C6",
            "ticks": ""
           }
          },
          "title": {
           "x": 0.05
          },
          "xaxis": {
           "automargin": true,
           "gridcolor": "#EBF0F8",
           "linecolor": "#EBF0F8",
           "ticks": "",
           "title": {
            "standoff": 15
           },
           "zerolinecolor": "#EBF0F8",
           "zerolinewidth": 2
          },
          "yaxis": {
           "automargin": true,
           "gridcolor": "#EBF0F8",
           "linecolor": "#EBF0F8",
           "ticks": "",
           "title": {
            "standoff": 15
           },
           "zerolinecolor": "#EBF0F8",
           "zerolinewidth": 2
          }
         }
        },
        "title": {
         "text": ""
        },
        "updatemenus": [
         {
          "bgcolor": "white",
          "buttons": [
           {
            "args": [
             {
              "visible": [
               true,
               false,
               false
              ]
             }
            ],
            "label": "                                                                                         2016                                                                                                         ",
            "method": "update"
           },
           {
            "args": [
             {
              "visible": [
               false,
               true,
               false
              ]
             }
            ],
            "label": "                                                                                         2017",
            "method": "update"
           },
           {
            "args": [
             {
              "visible": [
               false,
               false,
               true
              ]
             }
            ],
            "label": "                                                                                         2018",
            "method": "update"
           }
          ],
          "font": {
           "color": "black"
          },
          "x": 1.45,
          "y": 1.18
         }
        ]
       }
      },
      "text/html": [
       "<div>\n",
       "        \n",
       "        \n",
       "            <div id=\"bb35e13c-3e02-4615-81e7-1fa1aa9378a1\" class=\"plotly-graph-div\" style=\"height:525px; width:100%;\"></div>\n",
       "            <script type=\"text/javascript\">\n",
       "                require([\"plotly\"], function(Plotly) {\n",
       "                    window.PLOTLYENV=window.PLOTLYENV || {};\n",
       "                    \n",
       "                if (document.getElementById(\"bb35e13c-3e02-4615-81e7-1fa1aa9378a1\")) {\n",
       "                    Plotly.newPlot(\n",
       "                        'bb35e13c-3e02-4615-81e7-1fa1aa9378a1',\n",
       "                        [{\"marker\": {\"color\": \"royalblue\"}, \"name\": \"2016\", \"type\": \"bar\", \"visible\": true, \"x\": [\"Ariana\", \"Gab\\u00e8s\", \"Gafsa\", \"Mahdia\", \"Manubah\", \"Monastir\", \"Nabeul\", \"Sfax\", \"Siliana\", \"Tozeur\", \"Tunis\"], \"y\": [0, 0, 2800, 0, 5000, 5000, 12000, 56000, 9000, 0, 29500]}, {\"marker\": {\"color\": \"royalblue\"}, \"name\": \"2017\", \"type\": \"bar\", \"visible\": false, \"x\": [\"Ariana\", \"Gab\\u00e8s\", \"Gafsa\", \"Mahdia\", \"Manubah\", \"Monastir\", \"Nabeul\", \"Sfax\", \"Siliana\", \"Tozeur\", \"Tunis\"], \"y\": [5000, 10000, 3500, 5000, 6000, 7000, 13000, 56000, 10000, 4000, 46000]}, {\"marker\": {\"color\": \"royalblue\"}, \"name\": \"2018\", \"type\": \"bar\", \"visible\": false, \"x\": [\"Ariana\", \"Gab\\u00e8s\", \"Gafsa\", \"Mahdia\", \"Manubah\", \"Monastir\", \"Nabeul\", \"Sfax\", \"Siliana\", \"Tozeur\", \"Tunis\"], \"y\": [50000, 30000, 5000, 0, 10000, 10000, 4000, 0, 0, 0, 2000, 0, 0, 0, 10000, 50000, 20000, 0, 8000, 0, 4000, 0, 0, 10000, 10000, 0, 4000, 10000, 0]}],\n",
       "                        {\"font\": {\"family\": \" Gravitas One, cursive\", \"size\": 13}, \"template\": {\"data\": {\"bar\": [{\"error_x\": {\"color\": \"#2a3f5f\"}, \"error_y\": {\"color\": \"#2a3f5f\"}, \"marker\": {\"line\": {\"color\": \"white\", \"width\": 0.5}}, \"type\": \"bar\"}], \"barpolar\": [{\"marker\": {\"line\": {\"color\": \"white\", \"width\": 0.5}}, \"type\": \"barpolar\"}], \"carpet\": [{\"aaxis\": {\"endlinecolor\": \"#2a3f5f\", \"gridcolor\": \"#C8D4E3\", \"linecolor\": \"#C8D4E3\", \"minorgridcolor\": \"#C8D4E3\", \"startlinecolor\": \"#2a3f5f\"}, \"baxis\": {\"endlinecolor\": \"#2a3f5f\", \"gridcolor\": \"#C8D4E3\", \"linecolor\": \"#C8D4E3\", \"minorgridcolor\": \"#C8D4E3\", \"startlinecolor\": \"#2a3f5f\"}, \"type\": \"carpet\"}], \"choropleth\": [{\"colorbar\": {\"outlinewidth\": 0, \"ticks\": \"\"}, \"type\": \"choropleth\"}], \"contour\": [{\"colorbar\": {\"outlinewidth\": 0, \"ticks\": \"\"}, \"colorscale\": [[0.0, \"#0d0887\"], [0.1111111111111111, \"#46039f\"], [0.2222222222222222, \"#7201a8\"], [0.3333333333333333, \"#9c179e\"], [0.4444444444444444, \"#bd3786\"], [0.5555555555555556, \"#d8576b\"], [0.6666666666666666, \"#ed7953\"], [0.7777777777777778, \"#fb9f3a\"], [0.8888888888888888, \"#fdca26\"], [1.0, \"#f0f921\"]], \"type\": \"contour\"}], \"contourcarpet\": [{\"colorbar\": {\"outlinewidth\": 0, \"ticks\": \"\"}, \"type\": \"contourcarpet\"}], \"heatmap\": [{\"colorbar\": {\"outlinewidth\": 0, \"ticks\": \"\"}, \"colorscale\": [[0.0, \"#0d0887\"], [0.1111111111111111, \"#46039f\"], [0.2222222222222222, \"#7201a8\"], [0.3333333333333333, \"#9c179e\"], [0.4444444444444444, \"#bd3786\"], [0.5555555555555556, \"#d8576b\"], [0.6666666666666666, \"#ed7953\"], [0.7777777777777778, \"#fb9f3a\"], [0.8888888888888888, \"#fdca26\"], [1.0, \"#f0f921\"]], \"type\": \"heatmap\"}], \"heatmapgl\": [{\"colorbar\": {\"outlinewidth\": 0, \"ticks\": \"\"}, \"colorscale\": [[0.0, \"#0d0887\"], [0.1111111111111111, \"#46039f\"], [0.2222222222222222, \"#7201a8\"], [0.3333333333333333, \"#9c179e\"], [0.4444444444444444, \"#bd3786\"], [0.5555555555555556, \"#d8576b\"], [0.6666666666666666, \"#ed7953\"], [0.7777777777777778, \"#fb9f3a\"], [0.8888888888888888, \"#fdca26\"], [1.0, \"#f0f921\"]], \"type\": \"heatmapgl\"}], \"histogram\": [{\"marker\": {\"colorbar\": {\"outlinewidth\": 0, \"ticks\": \"\"}}, \"type\": \"histogram\"}], \"histogram2d\": [{\"colorbar\": {\"outlinewidth\": 0, \"ticks\": \"\"}, \"colorscale\": [[0.0, \"#0d0887\"], [0.1111111111111111, \"#46039f\"], [0.2222222222222222, \"#7201a8\"], [0.3333333333333333, \"#9c179e\"], [0.4444444444444444, \"#bd3786\"], [0.5555555555555556, \"#d8576b\"], [0.6666666666666666, \"#ed7953\"], [0.7777777777777778, \"#fb9f3a\"], [0.8888888888888888, \"#fdca26\"], [1.0, \"#f0f921\"]], \"type\": \"histogram2d\"}], \"histogram2dcontour\": [{\"colorbar\": {\"outlinewidth\": 0, \"ticks\": \"\"}, \"colorscale\": [[0.0, \"#0d0887\"], [0.1111111111111111, \"#46039f\"], [0.2222222222222222, \"#7201a8\"], [0.3333333333333333, \"#9c179e\"], [0.4444444444444444, \"#bd3786\"], [0.5555555555555556, \"#d8576b\"], [0.6666666666666666, \"#ed7953\"], [0.7777777777777778, \"#fb9f3a\"], [0.8888888888888888, \"#fdca26\"], [1.0, \"#f0f921\"]], \"type\": \"histogram2dcontour\"}], \"mesh3d\": [{\"colorbar\": {\"outlinewidth\": 0, \"ticks\": \"\"}, \"type\": \"mesh3d\"}], \"parcoords\": [{\"line\": {\"colorbar\": {\"outlinewidth\": 0, \"ticks\": \"\"}}, \"type\": \"parcoords\"}], \"pie\": [{\"automargin\": true, \"type\": \"pie\"}], \"scatter\": [{\"marker\": {\"colorbar\": {\"outlinewidth\": 0, \"ticks\": \"\"}}, \"type\": \"scatter\"}], \"scatter3d\": [{\"line\": {\"colorbar\": {\"outlinewidth\": 0, \"ticks\": \"\"}}, \"marker\": {\"colorbar\": {\"outlinewidth\": 0, \"ticks\": \"\"}}, \"type\": \"scatter3d\"}], \"scattercarpet\": [{\"marker\": {\"colorbar\": {\"outlinewidth\": 0, \"ticks\": \"\"}}, \"type\": \"scattercarpet\"}], \"scattergeo\": [{\"marker\": {\"colorbar\": {\"outlinewidth\": 0, \"ticks\": \"\"}}, \"type\": \"scattergeo\"}], \"scattergl\": [{\"marker\": {\"colorbar\": {\"outlinewidth\": 0, \"ticks\": \"\"}}, \"type\": \"scattergl\"}], \"scattermapbox\": [{\"marker\": {\"colorbar\": {\"outlinewidth\": 0, \"ticks\": \"\"}}, \"type\": \"scattermapbox\"}], \"scatterpolar\": [{\"marker\": {\"colorbar\": {\"outlinewidth\": 0, \"ticks\": \"\"}}, \"type\": \"scatterpolar\"}], \"scatterpolargl\": [{\"marker\": {\"colorbar\": {\"outlinewidth\": 0, \"ticks\": \"\"}}, \"type\": \"scatterpolargl\"}], \"scatterternary\": [{\"marker\": {\"colorbar\": {\"outlinewidth\": 0, \"ticks\": \"\"}}, \"type\": \"scatterternary\"}], \"surface\": [{\"colorbar\": {\"outlinewidth\": 0, \"ticks\": \"\"}, \"colorscale\": [[0.0, \"#0d0887\"], [0.1111111111111111, \"#46039f\"], [0.2222222222222222, \"#7201a8\"], [0.3333333333333333, \"#9c179e\"], [0.4444444444444444, \"#bd3786\"], [0.5555555555555556, \"#d8576b\"], [0.6666666666666666, \"#ed7953\"], [0.7777777777777778, \"#fb9f3a\"], [0.8888888888888888, \"#fdca26\"], [1.0, \"#f0f921\"]], \"type\": \"surface\"}], \"table\": [{\"cells\": {\"fill\": {\"color\": \"#EBF0F8\"}, \"line\": {\"color\": \"white\"}}, \"header\": {\"fill\": {\"color\": \"#C8D4E3\"}, \"line\": {\"color\": \"white\"}}, \"type\": \"table\"}]}, \"layout\": {\"annotationdefaults\": {\"arrowcolor\": \"#2a3f5f\", \"arrowhead\": 0, \"arrowwidth\": 1}, \"coloraxis\": {\"colorbar\": {\"outlinewidth\": 0, \"ticks\": \"\"}}, \"colorscale\": {\"diverging\": [[0, \"#8e0152\"], [0.1, \"#c51b7d\"], [0.2, \"#de77ae\"], [0.3, \"#f1b6da\"], [0.4, \"#fde0ef\"], [0.5, \"#f7f7f7\"], [0.6, \"#e6f5d0\"], [0.7, \"#b8e186\"], [0.8, \"#7fbc41\"], [0.9, \"#4d9221\"], [1, \"#276419\"]], \"sequential\": [[0.0, \"#0d0887\"], [0.1111111111111111, \"#46039f\"], [0.2222222222222222, \"#7201a8\"], [0.3333333333333333, \"#9c179e\"], [0.4444444444444444, \"#bd3786\"], [0.5555555555555556, \"#d8576b\"], [0.6666666666666666, \"#ed7953\"], [0.7777777777777778, \"#fb9f3a\"], [0.8888888888888888, \"#fdca26\"], [1.0, \"#f0f921\"]], \"sequentialminus\": [[0.0, \"#0d0887\"], [0.1111111111111111, \"#46039f\"], [0.2222222222222222, \"#7201a8\"], [0.3333333333333333, \"#9c179e\"], [0.4444444444444444, \"#bd3786\"], [0.5555555555555556, \"#d8576b\"], [0.6666666666666666, \"#ed7953\"], [0.7777777777777778, \"#fb9f3a\"], [0.8888888888888888, \"#fdca26\"], [1.0, \"#f0f921\"]]}, \"colorway\": [\"#636efa\", \"#EF553B\", \"#00cc96\", \"#ab63fa\", \"#FFA15A\", \"#19d3f3\", \"#FF6692\", \"#B6E880\", \"#FF97FF\", \"#FECB52\"], \"font\": {\"color\": \"#2a3f5f\"}, \"geo\": {\"bgcolor\": \"white\", \"lakecolor\": \"white\", \"landcolor\": \"white\", \"showlakes\": true, \"showland\": true, \"subunitcolor\": \"#C8D4E3\"}, \"hoverlabel\": {\"align\": \"left\"}, \"hovermode\": \"closest\", \"mapbox\": {\"style\": \"light\"}, \"paper_bgcolor\": \"white\", \"plot_bgcolor\": \"white\", \"polar\": {\"angularaxis\": {\"gridcolor\": \"#EBF0F8\", \"linecolor\": \"#EBF0F8\", \"ticks\": \"\"}, \"bgcolor\": \"white\", \"radialaxis\": {\"gridcolor\": \"#EBF0F8\", \"linecolor\": \"#EBF0F8\", \"ticks\": \"\"}}, \"scene\": {\"xaxis\": {\"backgroundcolor\": \"white\", \"gridcolor\": \"#DFE8F3\", \"gridwidth\": 2, \"linecolor\": \"#EBF0F8\", \"showbackground\": true, \"ticks\": \"\", \"zerolinecolor\": \"#EBF0F8\"}, \"yaxis\": {\"backgroundcolor\": \"white\", \"gridcolor\": \"#DFE8F3\", \"gridwidth\": 2, \"linecolor\": \"#EBF0F8\", \"showbackground\": true, \"ticks\": \"\", \"zerolinecolor\": \"#EBF0F8\"}, \"zaxis\": {\"backgroundcolor\": \"white\", \"gridcolor\": \"#DFE8F3\", \"gridwidth\": 2, \"linecolor\": \"#EBF0F8\", \"showbackground\": true, \"ticks\": \"\", \"zerolinecolor\": \"#EBF0F8\"}}, \"shapedefaults\": {\"line\": {\"color\": \"#2a3f5f\"}}, \"ternary\": {\"aaxis\": {\"gridcolor\": \"#DFE8F3\", \"linecolor\": \"#A2B1C6\", \"ticks\": \"\"}, \"baxis\": {\"gridcolor\": \"#DFE8F3\", \"linecolor\": \"#A2B1C6\", \"ticks\": \"\"}, \"bgcolor\": \"white\", \"caxis\": {\"gridcolor\": \"#DFE8F3\", \"linecolor\": \"#A2B1C6\", \"ticks\": \"\"}}, \"title\": {\"x\": 0.05}, \"xaxis\": {\"automargin\": true, \"gridcolor\": \"#EBF0F8\", \"linecolor\": \"#EBF0F8\", \"ticks\": \"\", \"title\": {\"standoff\": 15}, \"zerolinecolor\": \"#EBF0F8\", \"zerolinewidth\": 2}, \"yaxis\": {\"automargin\": true, \"gridcolor\": \"#EBF0F8\", \"linecolor\": \"#EBF0F8\", \"ticks\": \"\", \"title\": {\"standoff\": 15}, \"zerolinecolor\": \"#EBF0F8\", \"zerolinewidth\": 2}}}, \"title\": {\"text\": \"\"}, \"updatemenus\": [{\"bgcolor\": \"white\", \"buttons\": [{\"args\": [{\"visible\": [true, false, false]}], \"label\": \"                                                                                         2016                                                                                                         \", \"method\": \"update\"}, {\"args\": [{\"visible\": [false, true, false]}], \"label\": \"                                                                                         2017\", \"method\": \"update\"}, {\"args\": [{\"visible\": [false, false, true]}], \"label\": \"                                                                                         2018\", \"method\": \"update\"}], \"font\": {\"color\": \"black\"}, \"x\": 1.45, \"y\": 1.18}]},\n",
       "                        {\"responsive\": true}\n",
       "                    ).then(function(){\n",
       "                            \n",
       "var gd = document.getElementById('bb35e13c-3e02-4615-81e7-1fa1aa9378a1');\n",
       "var x = new MutationObserver(function (mutations, observer) {{\n",
       "        var display = window.getComputedStyle(gd).display;\n",
       "        if (!display || display === 'none') {{\n",
       "            console.log([gd, 'removed!']);\n",
       "            Plotly.purge(gd);\n",
       "            observer.disconnect();\n",
       "        }}\n",
       "}});\n",
       "\n",
       "// Listen for the removal of the full notebook cells\n",
       "var notebookContainer = gd.closest('#notebook-container');\n",
       "if (notebookContainer) {{\n",
       "    x.observe(notebookContainer, {childList: true});\n",
       "}}\n",
       "\n",
       "// Listen for the clearing of the current output cell\n",
       "var outputEl = gd.closest('.output');\n",
       "if (outputEl) {{\n",
       "    x.observe(outputEl, {childList: true});\n",
       "}}\n",
       "\n",
       "                        })\n",
       "                };\n",
       "                });\n",
       "            </script>\n",
       "        </div>"
      ]
     },
     "metadata": {},
     "output_type": "display_data"
    }
   ],
   "source": [
    "df1=pd.read_csv('subvention20162017.csv')\n",
    "df2=pd.read_csv('subventionassociationsfinancespubliques2018.csv')\n",
    "\n",
    "\n",
    "gk = df1.groupby('gov_name_f').sum()\n",
    "data_bar=[ go.Bar(name='2016',\n",
    "           visible=True,\n",
    "           x=gk.index, \n",
    "           y=gk['subvention_2016'],\n",
    "           marker_color='royalblue'),\n",
    "         go.Bar(name='2017',\n",
    "           visible=False,\n",
    "           x= gk.index, \n",
    "           y= gk['subvention_2017'],\n",
    "          marker_color='royalblue'),\n",
    "         go.Bar(name='2018',\n",
    "           visible=False,\n",
    "           x=gk.index, \n",
    "           y=df2['Subvention'],\n",
    "           marker_color='royalblue'),\n",
    "          \n",
    "        ]\n",
    "    \n",
    "list_updatemenus=[\n",
    "        {'args':[{\"visible\":[True,False,False]}],\n",
    "         'label':\"                                                                                         2016                                                                                                         \",\n",
    "         'method':\"update\"},\n",
    "    \n",
    "        {'args':[{\"visible\":[False,True,False]}],\n",
    "         'label':\"                                                                                         2017\",\n",
    "         'method':\"update\"},\n",
    "\n",
    "         {'args':[{\"visible\":[False,False,True]}],\n",
    "         'label':\"                                                                                         2018\",\n",
    "         'method':\"update\"}]\n",
    "layout_bar=go.Layout(updatemenus=list([dict(buttons= list_updatemenus,\n",
    "                                                     x=1.45,\n",
    "                                                     y=1.18,\n",
    "                                                     bgcolor='white',\n",
    "                                                     font=dict(color=\"black\"))]),\n",
    "                     title_text=\"\",\n",
    "                     template='plotly_white',\n",
    "                     font=dict(\n",
    "#                          color=\"white\",\n",
    "                    family=\" Gravitas One, cursive\",\n",
    "                    size=13), \n",
    "#                      paper_bgcolor='rgb(0,0,0)',plot_bgcolor='rgba(0,0,0)'\n",
    "                    )\n",
    "\n",
    "#defining figure and plotting\n",
    "sub_gov_an = go.Figure(data_bar,layout_bar)\n",
    "sub_gov_an.show()\n"
   ]
  },
  {
   "cell_type": "code",
   "execution_count": 4,
   "metadata": {
    "scrolled": false
   },
   "outputs": [
    {
     "data": {
      "application/vnd.plotly.v1+json": {
       "config": {
        "plotlyServerURL": "https://plot.ly"
       },
       "data": [
        {
         "labels": [
          "Lettre",
          "Lettre",
          "Lettre",
          "Lettre",
          "Lettre",
          "Lettre",
          "Lettre",
          "Musique et Danse",
          "Musique et Danse",
          "Musique et Danse",
          "Musique et Danse",
          "Musique et Danse",
          "Musique et Danse",
          "Musique et Danse",
          "Musique et Danse",
          "Arts audiovisuel",
          "Arts audiovisuel",
          "Arts audiovisuel",
          "Arts audiovisuel",
          "Arts audiovisuel",
          "Arts plastiques",
          "Arts plastiques",
          "Action culturelle",
          "Action culturelle",
          "Action culturelle",
          "Action culturelle",
          "Action culturelle",
          "Action culturelle",
          "associations avec de caractère social",
          "Lettre",
          "Teathre",
          "Patrimoine",
          "Action culturelle",
          "Teathre",
          "Teathre",
          "Teathre",
          "Teathre",
          "Action culturelle",
          "Action culturelle",
          "Action culturelle",
          "Action culturelle",
          "Teathre",
          "Arts audiovisuel",
          "Arts plastiques",
          "Patrimoine",
          "Action culturelle",
          "Lettre",
          "Musique et Danse",
          "Teathre",
          "Teathre",
          "Arts plastiques",
          "Patrimoine",
          "Teathre",
          "Action culturelle",
          "Action culturelle",
          "Patrimoine",
          "Action culturelle",
          "Action culturelle",
          "Action culturelle",
          "Patrimoine",
          "Patrimoine",
          "Action culturelle",
          "Arts audiovisuel",
          "Action culturelle",
          "Action culturelle",
          "Musique et Danse",
          "Arts plastiques",
          "Patrimoine",
          "Musique et Danse",
          "Lettre",
          "Arts plastiques",
          "Arts plastiques",
          "Patrimoine",
          "Action culturelle",
          "Action culturelle",
          "Musique et Danse",
          "Action culturelle",
          "Action culturelle",
          "Action culturelle",
          "Lettre",
          "Lettre",
          "Arts plastiques",
          "Patrimoine",
          "Action culturelle",
          "Action culturelle",
          "Action culturelle",
          "Lettre",
          "Lettre",
          "Arts audiovisuel",
          "Action culturelle",
          "Action culturelle",
          "Action culturelle",
          "Action culturelle",
          "Lettre",
          "Patrimoine",
          "Patrimoine",
          "Patrimoine",
          "Action culturelle",
          "Action culturelle",
          "Teathre",
          "Arts plastiques",
          "Arts plastiques",
          "Patrimoine",
          "Action culturelle",
          "Action culturelle"
         ],
         "name": "2015",
         "type": "pie",
         "values": [
          1000,
          3000,
          1500,
          2500,
          6000,
          10000,
          94000,
          3000,
          3000,
          20000,
          25000,
          120000,
          3000,
          5000,
          2000,
          13000,
          8000,
          23000,
          50000,
          5000,
          15000,
          20000,
          2500,
          15000,
          2000,
          2000,
          3000,
          3000,
          6000,
          3000,
          2000,
          7000,
          2000,
          3000,
          2000,
          1000,
          1500,
          3000,
          3000,
          3000,
          10000,
          10000,
          2500,
          4500,
          2000,
          10000,
          4000,
          4000,
          3000,
          20000,
          10000,
          5000,
          7000,
          2000,
          80000,
          4000,
          3000,
          10000,
          3000,
          7000,
          3000,
          8000,
          10000,
          3000,
          82000,
          6500,
          5000,
          12000,
          95000,
          10000,
          6000,
          45000,
          10000,
          10000,
          3000,
          25000,
          4000,
          5000,
          28000,
          4500,
          3000,
          1500,
          3000,
          5000,
          4000,
          4000,
          5000,
          12000,
          25000,
          5000,
          40000,
          3000,
          20000,
          5000,
          5000,
          5000,
          12000,
          3000,
          15000,
          3500,
          2000,
          3000,
          4000,
          4000,
          3500
         ],
         "visible": true
        },
        {
         "labels": [
          "Action Culturelle",
          "Arts audio-visuels",
          "Arts plastiques",
          "Arts scéniques",
          "Autres",
          "Lettres",
          "Manifestations et Festivals culturels",
          "Musique ",
          "Patrimoine"
         ],
         "name": "2016",
         "type": "pie",
         "values": [
          64,
          195,
          116.3,
          117.5,
          16,
          144.5,
          560.25,
          242.5,
          81.5
         ],
         "visible": false
        }
       ],
       "layout": {
        "font": {
         "family": " Gravitas One, cursive",
         "size": 13
        },
        "template": {
         "data": {
          "bar": [
           {
            "error_x": {
             "color": "#2a3f5f"
            },
            "error_y": {
             "color": "#2a3f5f"
            },
            "marker": {
             "line": {
              "color": "white",
              "width": 0.5
             }
            },
            "type": "bar"
           }
          ],
          "barpolar": [
           {
            "marker": {
             "line": {
              "color": "white",
              "width": 0.5
             }
            },
            "type": "barpolar"
           }
          ],
          "carpet": [
           {
            "aaxis": {
             "endlinecolor": "#2a3f5f",
             "gridcolor": "#C8D4E3",
             "linecolor": "#C8D4E3",
             "minorgridcolor": "#C8D4E3",
             "startlinecolor": "#2a3f5f"
            },
            "baxis": {
             "endlinecolor": "#2a3f5f",
             "gridcolor": "#C8D4E3",
             "linecolor": "#C8D4E3",
             "minorgridcolor": "#C8D4E3",
             "startlinecolor": "#2a3f5f"
            },
            "type": "carpet"
           }
          ],
          "choropleth": [
           {
            "colorbar": {
             "outlinewidth": 0,
             "ticks": ""
            },
            "type": "choropleth"
           }
          ],
          "contour": [
           {
            "colorbar": {
             "outlinewidth": 0,
             "ticks": ""
            },
            "colorscale": [
             [
              0,
              "#0d0887"
             ],
             [
              0.1111111111111111,
              "#46039f"
             ],
             [
              0.2222222222222222,
              "#7201a8"
             ],
             [
              0.3333333333333333,
              "#9c179e"
             ],
             [
              0.4444444444444444,
              "#bd3786"
             ],
             [
              0.5555555555555556,
              "#d8576b"
             ],
             [
              0.6666666666666666,
              "#ed7953"
             ],
             [
              0.7777777777777778,
              "#fb9f3a"
             ],
             [
              0.8888888888888888,
              "#fdca26"
             ],
             [
              1,
              "#f0f921"
             ]
            ],
            "type": "contour"
           }
          ],
          "contourcarpet": [
           {
            "colorbar": {
             "outlinewidth": 0,
             "ticks": ""
            },
            "type": "contourcarpet"
           }
          ],
          "heatmap": [
           {
            "colorbar": {
             "outlinewidth": 0,
             "ticks": ""
            },
            "colorscale": [
             [
              0,
              "#0d0887"
             ],
             [
              0.1111111111111111,
              "#46039f"
             ],
             [
              0.2222222222222222,
              "#7201a8"
             ],
             [
              0.3333333333333333,
              "#9c179e"
             ],
             [
              0.4444444444444444,
              "#bd3786"
             ],
             [
              0.5555555555555556,
              "#d8576b"
             ],
             [
              0.6666666666666666,
              "#ed7953"
             ],
             [
              0.7777777777777778,
              "#fb9f3a"
             ],
             [
              0.8888888888888888,
              "#fdca26"
             ],
             [
              1,
              "#f0f921"
             ]
            ],
            "type": "heatmap"
           }
          ],
          "heatmapgl": [
           {
            "colorbar": {
             "outlinewidth": 0,
             "ticks": ""
            },
            "colorscale": [
             [
              0,
              "#0d0887"
             ],
             [
              0.1111111111111111,
              "#46039f"
             ],
             [
              0.2222222222222222,
              "#7201a8"
             ],
             [
              0.3333333333333333,
              "#9c179e"
             ],
             [
              0.4444444444444444,
              "#bd3786"
             ],
             [
              0.5555555555555556,
              "#d8576b"
             ],
             [
              0.6666666666666666,
              "#ed7953"
             ],
             [
              0.7777777777777778,
              "#fb9f3a"
             ],
             [
              0.8888888888888888,
              "#fdca26"
             ],
             [
              1,
              "#f0f921"
             ]
            ],
            "type": "heatmapgl"
           }
          ],
          "histogram": [
           {
            "marker": {
             "colorbar": {
              "outlinewidth": 0,
              "ticks": ""
             }
            },
            "type": "histogram"
           }
          ],
          "histogram2d": [
           {
            "colorbar": {
             "outlinewidth": 0,
             "ticks": ""
            },
            "colorscale": [
             [
              0,
              "#0d0887"
             ],
             [
              0.1111111111111111,
              "#46039f"
             ],
             [
              0.2222222222222222,
              "#7201a8"
             ],
             [
              0.3333333333333333,
              "#9c179e"
             ],
             [
              0.4444444444444444,
              "#bd3786"
             ],
             [
              0.5555555555555556,
              "#d8576b"
             ],
             [
              0.6666666666666666,
              "#ed7953"
             ],
             [
              0.7777777777777778,
              "#fb9f3a"
             ],
             [
              0.8888888888888888,
              "#fdca26"
             ],
             [
              1,
              "#f0f921"
             ]
            ],
            "type": "histogram2d"
           }
          ],
          "histogram2dcontour": [
           {
            "colorbar": {
             "outlinewidth": 0,
             "ticks": ""
            },
            "colorscale": [
             [
              0,
              "#0d0887"
             ],
             [
              0.1111111111111111,
              "#46039f"
             ],
             [
              0.2222222222222222,
              "#7201a8"
             ],
             [
              0.3333333333333333,
              "#9c179e"
             ],
             [
              0.4444444444444444,
              "#bd3786"
             ],
             [
              0.5555555555555556,
              "#d8576b"
             ],
             [
              0.6666666666666666,
              "#ed7953"
             ],
             [
              0.7777777777777778,
              "#fb9f3a"
             ],
             [
              0.8888888888888888,
              "#fdca26"
             ],
             [
              1,
              "#f0f921"
             ]
            ],
            "type": "histogram2dcontour"
           }
          ],
          "mesh3d": [
           {
            "colorbar": {
             "outlinewidth": 0,
             "ticks": ""
            },
            "type": "mesh3d"
           }
          ],
          "parcoords": [
           {
            "line": {
             "colorbar": {
              "outlinewidth": 0,
              "ticks": ""
             }
            },
            "type": "parcoords"
           }
          ],
          "pie": [
           {
            "automargin": true,
            "type": "pie"
           }
          ],
          "scatter": [
           {
            "marker": {
             "colorbar": {
              "outlinewidth": 0,
              "ticks": ""
             }
            },
            "type": "scatter"
           }
          ],
          "scatter3d": [
           {
            "line": {
             "colorbar": {
              "outlinewidth": 0,
              "ticks": ""
             }
            },
            "marker": {
             "colorbar": {
              "outlinewidth": 0,
              "ticks": ""
             }
            },
            "type": "scatter3d"
           }
          ],
          "scattercarpet": [
           {
            "marker": {
             "colorbar": {
              "outlinewidth": 0,
              "ticks": ""
             }
            },
            "type": "scattercarpet"
           }
          ],
          "scattergeo": [
           {
            "marker": {
             "colorbar": {
              "outlinewidth": 0,
              "ticks": ""
             }
            },
            "type": "scattergeo"
           }
          ],
          "scattergl": [
           {
            "marker": {
             "colorbar": {
              "outlinewidth": 0,
              "ticks": ""
             }
            },
            "type": "scattergl"
           }
          ],
          "scattermapbox": [
           {
            "marker": {
             "colorbar": {
              "outlinewidth": 0,
              "ticks": ""
             }
            },
            "type": "scattermapbox"
           }
          ],
          "scatterpolar": [
           {
            "marker": {
             "colorbar": {
              "outlinewidth": 0,
              "ticks": ""
             }
            },
            "type": "scatterpolar"
           }
          ],
          "scatterpolargl": [
           {
            "marker": {
             "colorbar": {
              "outlinewidth": 0,
              "ticks": ""
             }
            },
            "type": "scatterpolargl"
           }
          ],
          "scatterternary": [
           {
            "marker": {
             "colorbar": {
              "outlinewidth": 0,
              "ticks": ""
             }
            },
            "type": "scatterternary"
           }
          ],
          "surface": [
           {
            "colorbar": {
             "outlinewidth": 0,
             "ticks": ""
            },
            "colorscale": [
             [
              0,
              "#0d0887"
             ],
             [
              0.1111111111111111,
              "#46039f"
             ],
             [
              0.2222222222222222,
              "#7201a8"
             ],
             [
              0.3333333333333333,
              "#9c179e"
             ],
             [
              0.4444444444444444,
              "#bd3786"
             ],
             [
              0.5555555555555556,
              "#d8576b"
             ],
             [
              0.6666666666666666,
              "#ed7953"
             ],
             [
              0.7777777777777778,
              "#fb9f3a"
             ],
             [
              0.8888888888888888,
              "#fdca26"
             ],
             [
              1,
              "#f0f921"
             ]
            ],
            "type": "surface"
           }
          ],
          "table": [
           {
            "cells": {
             "fill": {
              "color": "#EBF0F8"
             },
             "line": {
              "color": "white"
             }
            },
            "header": {
             "fill": {
              "color": "#C8D4E3"
             },
             "line": {
              "color": "white"
             }
            },
            "type": "table"
           }
          ]
         },
         "layout": {
          "annotationdefaults": {
           "arrowcolor": "#2a3f5f",
           "arrowhead": 0,
           "arrowwidth": 1
          },
          "coloraxis": {
           "colorbar": {
            "outlinewidth": 0,
            "ticks": ""
           }
          },
          "colorscale": {
           "diverging": [
            [
             0,
             "#8e0152"
            ],
            [
             0.1,
             "#c51b7d"
            ],
            [
             0.2,
             "#de77ae"
            ],
            [
             0.3,
             "#f1b6da"
            ],
            [
             0.4,
             "#fde0ef"
            ],
            [
             0.5,
             "#f7f7f7"
            ],
            [
             0.6,
             "#e6f5d0"
            ],
            [
             0.7,
             "#b8e186"
            ],
            [
             0.8,
             "#7fbc41"
            ],
            [
             0.9,
             "#4d9221"
            ],
            [
             1,
             "#276419"
            ]
           ],
           "sequential": [
            [
             0,
             "#0d0887"
            ],
            [
             0.1111111111111111,
             "#46039f"
            ],
            [
             0.2222222222222222,
             "#7201a8"
            ],
            [
             0.3333333333333333,
             "#9c179e"
            ],
            [
             0.4444444444444444,
             "#bd3786"
            ],
            [
             0.5555555555555556,
             "#d8576b"
            ],
            [
             0.6666666666666666,
             "#ed7953"
            ],
            [
             0.7777777777777778,
             "#fb9f3a"
            ],
            [
             0.8888888888888888,
             "#fdca26"
            ],
            [
             1,
             "#f0f921"
            ]
           ],
           "sequentialminus": [
            [
             0,
             "#0d0887"
            ],
            [
             0.1111111111111111,
             "#46039f"
            ],
            [
             0.2222222222222222,
             "#7201a8"
            ],
            [
             0.3333333333333333,
             "#9c179e"
            ],
            [
             0.4444444444444444,
             "#bd3786"
            ],
            [
             0.5555555555555556,
             "#d8576b"
            ],
            [
             0.6666666666666666,
             "#ed7953"
            ],
            [
             0.7777777777777778,
             "#fb9f3a"
            ],
            [
             0.8888888888888888,
             "#fdca26"
            ],
            [
             1,
             "#f0f921"
            ]
           ]
          },
          "colorway": [
           "#636efa",
           "#EF553B",
           "#00cc96",
           "#ab63fa",
           "#FFA15A",
           "#19d3f3",
           "#FF6692",
           "#B6E880",
           "#FF97FF",
           "#FECB52"
          ],
          "font": {
           "color": "#2a3f5f"
          },
          "geo": {
           "bgcolor": "white",
           "lakecolor": "white",
           "landcolor": "white",
           "showlakes": true,
           "showland": true,
           "subunitcolor": "#C8D4E3"
          },
          "hoverlabel": {
           "align": "left"
          },
          "hovermode": "closest",
          "mapbox": {
           "style": "light"
          },
          "paper_bgcolor": "white",
          "plot_bgcolor": "white",
          "polar": {
           "angularaxis": {
            "gridcolor": "#EBF0F8",
            "linecolor": "#EBF0F8",
            "ticks": ""
           },
           "bgcolor": "white",
           "radialaxis": {
            "gridcolor": "#EBF0F8",
            "linecolor": "#EBF0F8",
            "ticks": ""
           }
          },
          "scene": {
           "xaxis": {
            "backgroundcolor": "white",
            "gridcolor": "#DFE8F3",
            "gridwidth": 2,
            "linecolor": "#EBF0F8",
            "showbackground": true,
            "ticks": "",
            "zerolinecolor": "#EBF0F8"
           },
           "yaxis": {
            "backgroundcolor": "white",
            "gridcolor": "#DFE8F3",
            "gridwidth": 2,
            "linecolor": "#EBF0F8",
            "showbackground": true,
            "ticks": "",
            "zerolinecolor": "#EBF0F8"
           },
           "zaxis": {
            "backgroundcolor": "white",
            "gridcolor": "#DFE8F3",
            "gridwidth": 2,
            "linecolor": "#EBF0F8",
            "showbackground": true,
            "ticks": "",
            "zerolinecolor": "#EBF0F8"
           }
          },
          "shapedefaults": {
           "line": {
            "color": "#2a3f5f"
           }
          },
          "ternary": {
           "aaxis": {
            "gridcolor": "#DFE8F3",
            "linecolor": "#A2B1C6",
            "ticks": ""
           },
           "baxis": {
            "gridcolor": "#DFE8F3",
            "linecolor": "#A2B1C6",
            "ticks": ""
           },
           "bgcolor": "white",
           "caxis": {
            "gridcolor": "#DFE8F3",
            "linecolor": "#A2B1C6",
            "ticks": ""
           }
          },
          "title": {
           "x": 0.05
          },
          "xaxis": {
           "automargin": true,
           "gridcolor": "#EBF0F8",
           "linecolor": "#EBF0F8",
           "ticks": "",
           "title": {
            "standoff": 15
           },
           "zerolinecolor": "#EBF0F8",
           "zerolinewidth": 2
          },
          "yaxis": {
           "automargin": true,
           "gridcolor": "#EBF0F8",
           "linecolor": "#EBF0F8",
           "ticks": "",
           "title": {
            "standoff": 15
           },
           "zerolinecolor": "#EBF0F8",
           "zerolinewidth": 2
          }
         }
        },
        "title": {
         "text": ""
        },
        "updatemenus": [
         {
          "buttons": [
           {
            "args": [
             {
              "visible": [
               true,
               false
              ]
             }
            ],
            "label": "                                                                                         2015                                                                                                         ",
            "method": "update"
           },
           {
            "args": [
             {
              "visible": [
               false,
               true
              ]
             }
            ],
            "label": "                                                                                         2016",
            "method": "update"
           }
          ],
          "x": 1.45,
          "y": 1.18
         }
        ]
       }
      },
      "text/html": [
       "<div>\n",
       "        \n",
       "        \n",
       "            <div id=\"dcd95ae9-4d9f-4bbe-8099-8eaae20f79e6\" class=\"plotly-graph-div\" style=\"height:525px; width:100%;\"></div>\n",
       "            <script type=\"text/javascript\">\n",
       "                require([\"plotly\"], function(Plotly) {\n",
       "                    window.PLOTLYENV=window.PLOTLYENV || {};\n",
       "                    \n",
       "                if (document.getElementById(\"dcd95ae9-4d9f-4bbe-8099-8eaae20f79e6\")) {\n",
       "                    Plotly.newPlot(\n",
       "                        'dcd95ae9-4d9f-4bbe-8099-8eaae20f79e6',\n",
       "                        [{\"labels\": [\"Lettre\", \"Lettre\", \"Lettre\", \"Lettre\", \"Lettre\", \"Lettre\", \"Lettre\", \"Musique et Danse\", \"Musique et Danse\", \"Musique et Danse\", \"Musique et Danse\", \"Musique et Danse\", \"Musique et Danse\", \"Musique et Danse\", \"Musique et Danse\", \"Arts audiovisuel\", \"Arts audiovisuel\", \"Arts audiovisuel\", \"Arts audiovisuel\", \"Arts audiovisuel\", \"Arts plastiques\", \"Arts plastiques\", \"Action culturelle\", \"Action culturelle\", \"Action culturelle\", \"Action culturelle\", \"Action culturelle\", \"Action culturelle\", \"associations avec de caract\\u00e8re social\", \"Lettre\", \"Teathre\", \"Patrimoine\", \"Action culturelle\", \"Teathre\", \"Teathre\", \"Teathre\", \"Teathre\", \"Action culturelle\", \"Action culturelle\", \"Action culturelle\", \"Action culturelle\", \"Teathre\", \"Arts audiovisuel\", \"Arts plastiques\", \"Patrimoine\", \"Action culturelle\", \"Lettre\", \"Musique et Danse\", \"Teathre\", \"Teathre\", \"Arts plastiques\", \"Patrimoine\", \"Teathre\", \"Action culturelle\", \"Action culturelle\", \"Patrimoine\", \"Action culturelle\", \"Action culturelle\", \"Action culturelle\", \"Patrimoine\", \"Patrimoine\", \"Action culturelle\", \"Arts audiovisuel\", \"Action culturelle\", \"Action culturelle\", \"Musique et Danse\", \"Arts plastiques\", \"Patrimoine\", \"Musique et Danse\", \"Lettre\", \"Arts plastiques\", \"Arts plastiques\", \"Patrimoine\", \"Action culturelle\", \"Action culturelle\", \"Musique et Danse\", \"Action culturelle\", \"Action culturelle\", \"Action culturelle\", \"Lettre\", \"Lettre\", \"Arts plastiques\", \"Patrimoine\", \"Action culturelle\", \"Action culturelle\", \"Action culturelle\", \"Lettre\", \"Lettre\", \"Arts audiovisuel\", \"Action culturelle\", \"Action culturelle\", \"Action culturelle\", \"Action culturelle\", \"Lettre\", \"Patrimoine\", \"Patrimoine\", \"Patrimoine\", \"Action culturelle\", \"Action culturelle\", \"Teathre\", \"Arts plastiques\", \"Arts plastiques\", \"Patrimoine\", \"Action culturelle\", \"Action culturelle\"], \"name\": \"2015\", \"type\": \"pie\", \"values\": [1000, 3000, 1500, 2500, 6000, 10000, 94000, 3000, 3000, 20000, 25000, 120000, 3000, 5000, 2000, 13000, 8000, 23000, 50000, 5000, 15000, 20000, 2500, 15000, 2000, 2000, 3000, 3000, 6000, 3000, 2000, 7000, 2000, 3000, 2000, 1000, 1500, 3000, 3000, 3000, 10000, 10000, 2500, 4500, 2000, 10000, 4000, 4000, 3000, 20000, 10000, 5000, 7000, 2000, 80000, 4000, 3000, 10000, 3000, 7000, 3000, 8000, 10000, 3000, 82000, 6500, 5000, 12000, 95000, 10000, 6000, 45000, 10000, 10000, 3000, 25000, 4000, 5000, 28000, 4500, 3000, 1500, 3000, 5000, 4000, 4000, 5000, 12000, 25000, 5000, 40000, 3000, 20000, 5000, 5000, 5000, 12000, 3000, 15000, 3500, 2000, 3000, 4000, 4000, 3500], \"visible\": true}, {\"labels\": [\"Action Culturelle\", \"Arts audio-visuels\", \"Arts plastiques\", \"Arts sc\\u00e9niques\", \"Autres\", \"Lettres\", \"Manifestations et Festivals culturels\", \"Musique \", \"Patrimoine\"], \"name\": \"2016\", \"type\": \"pie\", \"values\": [64.0, 195.0, 116.3, 117.5, 16.0, 144.5, 560.25, 242.5, 81.5], \"visible\": false}],\n",
       "                        {\"font\": {\"family\": \" Gravitas One, cursive\", \"size\": 13}, \"template\": {\"data\": {\"bar\": [{\"error_x\": {\"color\": \"#2a3f5f\"}, \"error_y\": {\"color\": \"#2a3f5f\"}, \"marker\": {\"line\": {\"color\": \"white\", \"width\": 0.5}}, \"type\": \"bar\"}], \"barpolar\": [{\"marker\": {\"line\": {\"color\": \"white\", \"width\": 0.5}}, \"type\": \"barpolar\"}], \"carpet\": [{\"aaxis\": {\"endlinecolor\": \"#2a3f5f\", \"gridcolor\": \"#C8D4E3\", \"linecolor\": \"#C8D4E3\", \"minorgridcolor\": \"#C8D4E3\", \"startlinecolor\": \"#2a3f5f\"}, \"baxis\": {\"endlinecolor\": \"#2a3f5f\", \"gridcolor\": \"#C8D4E3\", \"linecolor\": \"#C8D4E3\", \"minorgridcolor\": \"#C8D4E3\", \"startlinecolor\": \"#2a3f5f\"}, \"type\": \"carpet\"}], \"choropleth\": [{\"colorbar\": {\"outlinewidth\": 0, \"ticks\": \"\"}, \"type\": \"choropleth\"}], \"contour\": [{\"colorbar\": {\"outlinewidth\": 0, \"ticks\": \"\"}, \"colorscale\": [[0.0, \"#0d0887\"], [0.1111111111111111, \"#46039f\"], [0.2222222222222222, \"#7201a8\"], [0.3333333333333333, \"#9c179e\"], [0.4444444444444444, \"#bd3786\"], [0.5555555555555556, \"#d8576b\"], [0.6666666666666666, \"#ed7953\"], [0.7777777777777778, \"#fb9f3a\"], [0.8888888888888888, \"#fdca26\"], [1.0, \"#f0f921\"]], \"type\": \"contour\"}], \"contourcarpet\": [{\"colorbar\": {\"outlinewidth\": 0, \"ticks\": \"\"}, \"type\": \"contourcarpet\"}], \"heatmap\": [{\"colorbar\": {\"outlinewidth\": 0, \"ticks\": \"\"}, \"colorscale\": [[0.0, \"#0d0887\"], [0.1111111111111111, \"#46039f\"], [0.2222222222222222, \"#7201a8\"], [0.3333333333333333, \"#9c179e\"], [0.4444444444444444, \"#bd3786\"], [0.5555555555555556, \"#d8576b\"], [0.6666666666666666, \"#ed7953\"], [0.7777777777777778, \"#fb9f3a\"], [0.8888888888888888, \"#fdca26\"], [1.0, \"#f0f921\"]], \"type\": \"heatmap\"}], \"heatmapgl\": [{\"colorbar\": {\"outlinewidth\": 0, \"ticks\": \"\"}, \"colorscale\": [[0.0, \"#0d0887\"], [0.1111111111111111, \"#46039f\"], [0.2222222222222222, \"#7201a8\"], [0.3333333333333333, \"#9c179e\"], [0.4444444444444444, \"#bd3786\"], [0.5555555555555556, \"#d8576b\"], [0.6666666666666666, \"#ed7953\"], [0.7777777777777778, \"#fb9f3a\"], [0.8888888888888888, \"#fdca26\"], [1.0, \"#f0f921\"]], \"type\": \"heatmapgl\"}], \"histogram\": [{\"marker\": {\"colorbar\": {\"outlinewidth\": 0, \"ticks\": \"\"}}, \"type\": \"histogram\"}], \"histogram2d\": [{\"colorbar\": {\"outlinewidth\": 0, \"ticks\": \"\"}, \"colorscale\": [[0.0, \"#0d0887\"], [0.1111111111111111, \"#46039f\"], [0.2222222222222222, \"#7201a8\"], [0.3333333333333333, \"#9c179e\"], [0.4444444444444444, \"#bd3786\"], [0.5555555555555556, \"#d8576b\"], [0.6666666666666666, \"#ed7953\"], [0.7777777777777778, \"#fb9f3a\"], [0.8888888888888888, \"#fdca26\"], [1.0, \"#f0f921\"]], \"type\": \"histogram2d\"}], \"histogram2dcontour\": [{\"colorbar\": {\"outlinewidth\": 0, \"ticks\": \"\"}, \"colorscale\": [[0.0, \"#0d0887\"], [0.1111111111111111, \"#46039f\"], [0.2222222222222222, \"#7201a8\"], [0.3333333333333333, \"#9c179e\"], [0.4444444444444444, \"#bd3786\"], [0.5555555555555556, \"#d8576b\"], [0.6666666666666666, \"#ed7953\"], [0.7777777777777778, \"#fb9f3a\"], [0.8888888888888888, \"#fdca26\"], [1.0, \"#f0f921\"]], \"type\": \"histogram2dcontour\"}], \"mesh3d\": [{\"colorbar\": {\"outlinewidth\": 0, \"ticks\": \"\"}, \"type\": \"mesh3d\"}], \"parcoords\": [{\"line\": {\"colorbar\": {\"outlinewidth\": 0, \"ticks\": \"\"}}, \"type\": \"parcoords\"}], \"pie\": [{\"automargin\": true, \"type\": \"pie\"}], \"scatter\": [{\"marker\": {\"colorbar\": {\"outlinewidth\": 0, \"ticks\": \"\"}}, \"type\": \"scatter\"}], \"scatter3d\": [{\"line\": {\"colorbar\": {\"outlinewidth\": 0, \"ticks\": \"\"}}, \"marker\": {\"colorbar\": {\"outlinewidth\": 0, \"ticks\": \"\"}}, \"type\": \"scatter3d\"}], \"scattercarpet\": [{\"marker\": {\"colorbar\": {\"outlinewidth\": 0, \"ticks\": \"\"}}, \"type\": \"scattercarpet\"}], \"scattergeo\": [{\"marker\": {\"colorbar\": {\"outlinewidth\": 0, \"ticks\": \"\"}}, \"type\": \"scattergeo\"}], \"scattergl\": [{\"marker\": {\"colorbar\": {\"outlinewidth\": 0, \"ticks\": \"\"}}, \"type\": \"scattergl\"}], \"scattermapbox\": [{\"marker\": {\"colorbar\": {\"outlinewidth\": 0, \"ticks\": \"\"}}, \"type\": \"scattermapbox\"}], \"scatterpolar\": [{\"marker\": {\"colorbar\": {\"outlinewidth\": 0, \"ticks\": \"\"}}, \"type\": \"scatterpolar\"}], \"scatterpolargl\": [{\"marker\": {\"colorbar\": {\"outlinewidth\": 0, \"ticks\": \"\"}}, \"type\": \"scatterpolargl\"}], \"scatterternary\": [{\"marker\": {\"colorbar\": {\"outlinewidth\": 0, \"ticks\": \"\"}}, \"type\": \"scatterternary\"}], \"surface\": [{\"colorbar\": {\"outlinewidth\": 0, \"ticks\": \"\"}, \"colorscale\": [[0.0, \"#0d0887\"], [0.1111111111111111, \"#46039f\"], [0.2222222222222222, \"#7201a8\"], [0.3333333333333333, \"#9c179e\"], [0.4444444444444444, \"#bd3786\"], [0.5555555555555556, \"#d8576b\"], [0.6666666666666666, \"#ed7953\"], [0.7777777777777778, \"#fb9f3a\"], [0.8888888888888888, \"#fdca26\"], [1.0, \"#f0f921\"]], \"type\": \"surface\"}], \"table\": [{\"cells\": {\"fill\": {\"color\": \"#EBF0F8\"}, \"line\": {\"color\": \"white\"}}, \"header\": {\"fill\": {\"color\": \"#C8D4E3\"}, \"line\": {\"color\": \"white\"}}, \"type\": \"table\"}]}, \"layout\": {\"annotationdefaults\": {\"arrowcolor\": \"#2a3f5f\", \"arrowhead\": 0, \"arrowwidth\": 1}, \"coloraxis\": {\"colorbar\": {\"outlinewidth\": 0, \"ticks\": \"\"}}, \"colorscale\": {\"diverging\": [[0, \"#8e0152\"], [0.1, \"#c51b7d\"], [0.2, \"#de77ae\"], [0.3, \"#f1b6da\"], [0.4, \"#fde0ef\"], [0.5, \"#f7f7f7\"], [0.6, \"#e6f5d0\"], [0.7, \"#b8e186\"], [0.8, \"#7fbc41\"], [0.9, \"#4d9221\"], [1, \"#276419\"]], \"sequential\": [[0.0, \"#0d0887\"], [0.1111111111111111, \"#46039f\"], [0.2222222222222222, \"#7201a8\"], [0.3333333333333333, \"#9c179e\"], [0.4444444444444444, \"#bd3786\"], [0.5555555555555556, \"#d8576b\"], [0.6666666666666666, \"#ed7953\"], [0.7777777777777778, \"#fb9f3a\"], [0.8888888888888888, \"#fdca26\"], [1.0, \"#f0f921\"]], \"sequentialminus\": [[0.0, \"#0d0887\"], [0.1111111111111111, \"#46039f\"], [0.2222222222222222, \"#7201a8\"], [0.3333333333333333, \"#9c179e\"], [0.4444444444444444, \"#bd3786\"], [0.5555555555555556, \"#d8576b\"], [0.6666666666666666, \"#ed7953\"], [0.7777777777777778, \"#fb9f3a\"], [0.8888888888888888, \"#fdca26\"], [1.0, \"#f0f921\"]]}, \"colorway\": [\"#636efa\", \"#EF553B\", \"#00cc96\", \"#ab63fa\", \"#FFA15A\", \"#19d3f3\", \"#FF6692\", \"#B6E880\", \"#FF97FF\", \"#FECB52\"], \"font\": {\"color\": \"#2a3f5f\"}, \"geo\": {\"bgcolor\": \"white\", \"lakecolor\": \"white\", \"landcolor\": \"white\", \"showlakes\": true, \"showland\": true, \"subunitcolor\": \"#C8D4E3\"}, \"hoverlabel\": {\"align\": \"left\"}, \"hovermode\": \"closest\", \"mapbox\": {\"style\": \"light\"}, \"paper_bgcolor\": \"white\", \"plot_bgcolor\": \"white\", \"polar\": {\"angularaxis\": {\"gridcolor\": \"#EBF0F8\", \"linecolor\": \"#EBF0F8\", \"ticks\": \"\"}, \"bgcolor\": \"white\", \"radialaxis\": {\"gridcolor\": \"#EBF0F8\", \"linecolor\": \"#EBF0F8\", \"ticks\": \"\"}}, \"scene\": {\"xaxis\": {\"backgroundcolor\": \"white\", \"gridcolor\": \"#DFE8F3\", \"gridwidth\": 2, \"linecolor\": \"#EBF0F8\", \"showbackground\": true, \"ticks\": \"\", \"zerolinecolor\": \"#EBF0F8\"}, \"yaxis\": {\"backgroundcolor\": \"white\", \"gridcolor\": \"#DFE8F3\", \"gridwidth\": 2, \"linecolor\": \"#EBF0F8\", \"showbackground\": true, \"ticks\": \"\", \"zerolinecolor\": \"#EBF0F8\"}, \"zaxis\": {\"backgroundcolor\": \"white\", \"gridcolor\": \"#DFE8F3\", \"gridwidth\": 2, \"linecolor\": \"#EBF0F8\", \"showbackground\": true, \"ticks\": \"\", \"zerolinecolor\": \"#EBF0F8\"}}, \"shapedefaults\": {\"line\": {\"color\": \"#2a3f5f\"}}, \"ternary\": {\"aaxis\": {\"gridcolor\": \"#DFE8F3\", \"linecolor\": \"#A2B1C6\", \"ticks\": \"\"}, \"baxis\": {\"gridcolor\": \"#DFE8F3\", \"linecolor\": \"#A2B1C6\", \"ticks\": \"\"}, \"bgcolor\": \"white\", \"caxis\": {\"gridcolor\": \"#DFE8F3\", \"linecolor\": \"#A2B1C6\", \"ticks\": \"\"}}, \"title\": {\"x\": 0.05}, \"xaxis\": {\"automargin\": true, \"gridcolor\": \"#EBF0F8\", \"linecolor\": \"#EBF0F8\", \"ticks\": \"\", \"title\": {\"standoff\": 15}, \"zerolinecolor\": \"#EBF0F8\", \"zerolinewidth\": 2}, \"yaxis\": {\"automargin\": true, \"gridcolor\": \"#EBF0F8\", \"linecolor\": \"#EBF0F8\", \"ticks\": \"\", \"title\": {\"standoff\": 15}, \"zerolinecolor\": \"#EBF0F8\", \"zerolinewidth\": 2}}}, \"title\": {\"text\": \"\"}, \"updatemenus\": [{\"buttons\": [{\"args\": [{\"visible\": [true, false]}], \"label\": \"                                                                                         2015                                                                                                         \", \"method\": \"update\"}, {\"args\": [{\"visible\": [false, true]}], \"label\": \"                                                                                         2016\", \"method\": \"update\"}], \"x\": 1.45, \"y\": 1.18}]},\n",
       "                        {\"responsive\": true}\n",
       "                    ).then(function(){\n",
       "                            \n",
       "var gd = document.getElementById('dcd95ae9-4d9f-4bbe-8099-8eaae20f79e6');\n",
       "var x = new MutationObserver(function (mutations, observer) {{\n",
       "        var display = window.getComputedStyle(gd).display;\n",
       "        if (!display || display === 'none') {{\n",
       "            console.log([gd, 'removed!']);\n",
       "            Plotly.purge(gd);\n",
       "            observer.disconnect();\n",
       "        }}\n",
       "}});\n",
       "\n",
       "// Listen for the removal of the full notebook cells\n",
       "var notebookContainer = gd.closest('#notebook-container');\n",
       "if (notebookContainer) {{\n",
       "    x.observe(notebookContainer, {childList: true});\n",
       "}}\n",
       "\n",
       "// Listen for the clearing of the current output cell\n",
       "var outputEl = gd.closest('.output');\n",
       "if (outputEl) {{\n",
       "    x.observe(outputEl, {childList: true});\n",
       "}}\n",
       "\n",
       "                        })\n",
       "                };\n",
       "                });\n",
       "            </script>\n",
       "        </div>"
      ]
     },
     "metadata": {},
     "output_type": "display_data"
    }
   ],
   "source": [
    "df3=pd.read_csv('subventions-cadre-financement-public-associations-2016-secteur.csv')\n",
    "\n",
    "df4=pd.read_csv('subventionsdeassociations20151.csv')\n",
    "df5=df4.groupby('Secteur_f').sum()\n",
    "\n",
    "\n",
    "\n",
    "\n",
    "df6=df3.groupby('Secteur').sum()\n",
    "\n",
    "\n",
    "\n",
    "data_pie=[go.Pie(name='2015',\n",
    "                 labels=df4['Secteur_f'], values=df4['subvention_2014'],\n",
    "           visible=True,\n",
    "           ),\n",
    "          \n",
    "         go.Pie(name='2016',\n",
    "           visible=False,\n",
    "                labels=df6.index, values=df6['Subvention']),]\n",
    "list_updatemenus=[\n",
    "        {'args':[{\"visible\":[True,False]}],\n",
    "         'label':\"                                                                                         2015                                                                                                         \",\n",
    "         'method':\"update\"},\n",
    "    \n",
    "        {'args':[{\"visible\":[False,True,]}],\n",
    "         'label':\"                                                                                         2016\",\n",
    "         'method':\"update\"},]\n",
    "layout_pie=go.Layout(updatemenus=list([dict(buttons= list_updatemenus,x=1.45,\n",
    "                                             y=1.18)]),\n",
    "                                             \n",
    "                                             title_text=\"\",\n",
    "                                             template='plotly_white',\n",
    "                                             font=dict(\n",
    "                                            family=\" Gravitas One, cursive\",\n",
    "                                            size=13))\n",
    "\n",
    "#defining figure and plotting\n",
    "sub_club_an = go.Figure(data_pie,layout_pie)\n",
    "sub_club_an.show()\n"
   ]
  },
  {
   "cell_type": "markdown",
   "metadata": {},
   "source": [
    "# Maisons de culture"
   ]
  },
  {
   "cell_type": "code",
   "execution_count": 5,
   "metadata": {},
   "outputs": [
    {
     "data": {
      "application/vnd.plotly.v1+json": {
       "config": {
        "plotlyServerURL": "https://plot.ly"
       },
       "data": [
        {
         "marker": {
          "color": "royalblue"
         },
         "name": "Tunis",
         "type": "scatter",
         "visible": true,
         "x": [
          2011,
          2012,
          2013,
          2014,
          2015,
          2016
         ],
         "y": [
          40,
          39,
          39,
          39,
          40,
          40
         ]
        },
        {
         "marker": {
          "color": "royalblue"
         },
         "name": "Nord est",
         "type": "scatter",
         "visible": false,
         "x": [
          2011,
          2012,
          2013,
          2014,
          2015,
          2016
         ],
         "y": [
          22,
          21,
          21,
          21,
          22,
          24
         ]
        },
        {
         "marker": {
          "color": "royalblue"
         },
         "name": "Nord west ",
         "type": "scatter",
         "visible": false,
         "x": [
          2011,
          2012,
          2013,
          2014,
          2015,
          2016
         ],
         "y": [
          36,
          33,
          34,
          34,
          34,
          34
         ]
        },
        {
         "marker": {
          "color": "royalblue"
         },
         "name": "Centre est ",
         "type": "scatter",
         "visible": false,
         "x": [
          2011,
          2012,
          2013,
          2014,
          2015,
          2016
         ],
         "y": [
          50,
          50,
          51,
          52,
          52,
          52
         ]
        },
        {
         "marker": {
          "color": "royalblue"
         },
         "name": "Centre west ",
         "type": "scatter",
         "visible": false,
         "x": [
          2011,
          2012,
          2013,
          2014,
          2015,
          2016
         ],
         "y": [
          30,
          30,
          30,
          30,
          30,
          30
         ]
        },
        {
         "marker": {
          "color": "royalblue"
         },
         "name": "Sud est ",
         "type": "scatter",
         "visible": false,
         "x": [
          2011,
          2012,
          2013,
          2014,
          2015,
          2016
         ],
         "y": [
          20,
          20,
          21,
          21,
          23,
          23
         ]
        },
        {
         "marker": {
          "color": "royalblue"
         },
         "name": "Sud west ",
         "type": "scatter",
         "visible": false,
         "x": [
          2011,
          2012,
          2013,
          2014,
          2015,
          2016
         ],
         "y": [
          17,
          15,
          15,
          15,
          15,
          17
         ]
        }
       ],
       "layout": {
        "font": {
         "family": " Gravitas One, cursive",
         "size": 13
        },
        "template": {
         "data": {
          "bar": [
           {
            "error_x": {
             "color": "#2a3f5f"
            },
            "error_y": {
             "color": "#2a3f5f"
            },
            "marker": {
             "line": {
              "color": "white",
              "width": 0.5
             }
            },
            "type": "bar"
           }
          ],
          "barpolar": [
           {
            "marker": {
             "line": {
              "color": "white",
              "width": 0.5
             }
            },
            "type": "barpolar"
           }
          ],
          "carpet": [
           {
            "aaxis": {
             "endlinecolor": "#2a3f5f",
             "gridcolor": "#C8D4E3",
             "linecolor": "#C8D4E3",
             "minorgridcolor": "#C8D4E3",
             "startlinecolor": "#2a3f5f"
            },
            "baxis": {
             "endlinecolor": "#2a3f5f",
             "gridcolor": "#C8D4E3",
             "linecolor": "#C8D4E3",
             "minorgridcolor": "#C8D4E3",
             "startlinecolor": "#2a3f5f"
            },
            "type": "carpet"
           }
          ],
          "choropleth": [
           {
            "colorbar": {
             "outlinewidth": 0,
             "ticks": ""
            },
            "type": "choropleth"
           }
          ],
          "contour": [
           {
            "colorbar": {
             "outlinewidth": 0,
             "ticks": ""
            },
            "colorscale": [
             [
              0,
              "#0d0887"
             ],
             [
              0.1111111111111111,
              "#46039f"
             ],
             [
              0.2222222222222222,
              "#7201a8"
             ],
             [
              0.3333333333333333,
              "#9c179e"
             ],
             [
              0.4444444444444444,
              "#bd3786"
             ],
             [
              0.5555555555555556,
              "#d8576b"
             ],
             [
              0.6666666666666666,
              "#ed7953"
             ],
             [
              0.7777777777777778,
              "#fb9f3a"
             ],
             [
              0.8888888888888888,
              "#fdca26"
             ],
             [
              1,
              "#f0f921"
             ]
            ],
            "type": "contour"
           }
          ],
          "contourcarpet": [
           {
            "colorbar": {
             "outlinewidth": 0,
             "ticks": ""
            },
            "type": "contourcarpet"
           }
          ],
          "heatmap": [
           {
            "colorbar": {
             "outlinewidth": 0,
             "ticks": ""
            },
            "colorscale": [
             [
              0,
              "#0d0887"
             ],
             [
              0.1111111111111111,
              "#46039f"
             ],
             [
              0.2222222222222222,
              "#7201a8"
             ],
             [
              0.3333333333333333,
              "#9c179e"
             ],
             [
              0.4444444444444444,
              "#bd3786"
             ],
             [
              0.5555555555555556,
              "#d8576b"
             ],
             [
              0.6666666666666666,
              "#ed7953"
             ],
             [
              0.7777777777777778,
              "#fb9f3a"
             ],
             [
              0.8888888888888888,
              "#fdca26"
             ],
             [
              1,
              "#f0f921"
             ]
            ],
            "type": "heatmap"
           }
          ],
          "heatmapgl": [
           {
            "colorbar": {
             "outlinewidth": 0,
             "ticks": ""
            },
            "colorscale": [
             [
              0,
              "#0d0887"
             ],
             [
              0.1111111111111111,
              "#46039f"
             ],
             [
              0.2222222222222222,
              "#7201a8"
             ],
             [
              0.3333333333333333,
              "#9c179e"
             ],
             [
              0.4444444444444444,
              "#bd3786"
             ],
             [
              0.5555555555555556,
              "#d8576b"
             ],
             [
              0.6666666666666666,
              "#ed7953"
             ],
             [
              0.7777777777777778,
              "#fb9f3a"
             ],
             [
              0.8888888888888888,
              "#fdca26"
             ],
             [
              1,
              "#f0f921"
             ]
            ],
            "type": "heatmapgl"
           }
          ],
          "histogram": [
           {
            "marker": {
             "colorbar": {
              "outlinewidth": 0,
              "ticks": ""
             }
            },
            "type": "histogram"
           }
          ],
          "histogram2d": [
           {
            "colorbar": {
             "outlinewidth": 0,
             "ticks": ""
            },
            "colorscale": [
             [
              0,
              "#0d0887"
             ],
             [
              0.1111111111111111,
              "#46039f"
             ],
             [
              0.2222222222222222,
              "#7201a8"
             ],
             [
              0.3333333333333333,
              "#9c179e"
             ],
             [
              0.4444444444444444,
              "#bd3786"
             ],
             [
              0.5555555555555556,
              "#d8576b"
             ],
             [
              0.6666666666666666,
              "#ed7953"
             ],
             [
              0.7777777777777778,
              "#fb9f3a"
             ],
             [
              0.8888888888888888,
              "#fdca26"
             ],
             [
              1,
              "#f0f921"
             ]
            ],
            "type": "histogram2d"
           }
          ],
          "histogram2dcontour": [
           {
            "colorbar": {
             "outlinewidth": 0,
             "ticks": ""
            },
            "colorscale": [
             [
              0,
              "#0d0887"
             ],
             [
              0.1111111111111111,
              "#46039f"
             ],
             [
              0.2222222222222222,
              "#7201a8"
             ],
             [
              0.3333333333333333,
              "#9c179e"
             ],
             [
              0.4444444444444444,
              "#bd3786"
             ],
             [
              0.5555555555555556,
              "#d8576b"
             ],
             [
              0.6666666666666666,
              "#ed7953"
             ],
             [
              0.7777777777777778,
              "#fb9f3a"
             ],
             [
              0.8888888888888888,
              "#fdca26"
             ],
             [
              1,
              "#f0f921"
             ]
            ],
            "type": "histogram2dcontour"
           }
          ],
          "mesh3d": [
           {
            "colorbar": {
             "outlinewidth": 0,
             "ticks": ""
            },
            "type": "mesh3d"
           }
          ],
          "parcoords": [
           {
            "line": {
             "colorbar": {
              "outlinewidth": 0,
              "ticks": ""
             }
            },
            "type": "parcoords"
           }
          ],
          "pie": [
           {
            "automargin": true,
            "type": "pie"
           }
          ],
          "scatter": [
           {
            "marker": {
             "colorbar": {
              "outlinewidth": 0,
              "ticks": ""
             }
            },
            "type": "scatter"
           }
          ],
          "scatter3d": [
           {
            "line": {
             "colorbar": {
              "outlinewidth": 0,
              "ticks": ""
             }
            },
            "marker": {
             "colorbar": {
              "outlinewidth": 0,
              "ticks": ""
             }
            },
            "type": "scatter3d"
           }
          ],
          "scattercarpet": [
           {
            "marker": {
             "colorbar": {
              "outlinewidth": 0,
              "ticks": ""
             }
            },
            "type": "scattercarpet"
           }
          ],
          "scattergeo": [
           {
            "marker": {
             "colorbar": {
              "outlinewidth": 0,
              "ticks": ""
             }
            },
            "type": "scattergeo"
           }
          ],
          "scattergl": [
           {
            "marker": {
             "colorbar": {
              "outlinewidth": 0,
              "ticks": ""
             }
            },
            "type": "scattergl"
           }
          ],
          "scattermapbox": [
           {
            "marker": {
             "colorbar": {
              "outlinewidth": 0,
              "ticks": ""
             }
            },
            "type": "scattermapbox"
           }
          ],
          "scatterpolar": [
           {
            "marker": {
             "colorbar": {
              "outlinewidth": 0,
              "ticks": ""
             }
            },
            "type": "scatterpolar"
           }
          ],
          "scatterpolargl": [
           {
            "marker": {
             "colorbar": {
              "outlinewidth": 0,
              "ticks": ""
             }
            },
            "type": "scatterpolargl"
           }
          ],
          "scatterternary": [
           {
            "marker": {
             "colorbar": {
              "outlinewidth": 0,
              "ticks": ""
             }
            },
            "type": "scatterternary"
           }
          ],
          "surface": [
           {
            "colorbar": {
             "outlinewidth": 0,
             "ticks": ""
            },
            "colorscale": [
             [
              0,
              "#0d0887"
             ],
             [
              0.1111111111111111,
              "#46039f"
             ],
             [
              0.2222222222222222,
              "#7201a8"
             ],
             [
              0.3333333333333333,
              "#9c179e"
             ],
             [
              0.4444444444444444,
              "#bd3786"
             ],
             [
              0.5555555555555556,
              "#d8576b"
             ],
             [
              0.6666666666666666,
              "#ed7953"
             ],
             [
              0.7777777777777778,
              "#fb9f3a"
             ],
             [
              0.8888888888888888,
              "#fdca26"
             ],
             [
              1,
              "#f0f921"
             ]
            ],
            "type": "surface"
           }
          ],
          "table": [
           {
            "cells": {
             "fill": {
              "color": "#EBF0F8"
             },
             "line": {
              "color": "white"
             }
            },
            "header": {
             "fill": {
              "color": "#C8D4E3"
             },
             "line": {
              "color": "white"
             }
            },
            "type": "table"
           }
          ]
         },
         "layout": {
          "annotationdefaults": {
           "arrowcolor": "#2a3f5f",
           "arrowhead": 0,
           "arrowwidth": 1
          },
          "coloraxis": {
           "colorbar": {
            "outlinewidth": 0,
            "ticks": ""
           }
          },
          "colorscale": {
           "diverging": [
            [
             0,
             "#8e0152"
            ],
            [
             0.1,
             "#c51b7d"
            ],
            [
             0.2,
             "#de77ae"
            ],
            [
             0.3,
             "#f1b6da"
            ],
            [
             0.4,
             "#fde0ef"
            ],
            [
             0.5,
             "#f7f7f7"
            ],
            [
             0.6,
             "#e6f5d0"
            ],
            [
             0.7,
             "#b8e186"
            ],
            [
             0.8,
             "#7fbc41"
            ],
            [
             0.9,
             "#4d9221"
            ],
            [
             1,
             "#276419"
            ]
           ],
           "sequential": [
            [
             0,
             "#0d0887"
            ],
            [
             0.1111111111111111,
             "#46039f"
            ],
            [
             0.2222222222222222,
             "#7201a8"
            ],
            [
             0.3333333333333333,
             "#9c179e"
            ],
            [
             0.4444444444444444,
             "#bd3786"
            ],
            [
             0.5555555555555556,
             "#d8576b"
            ],
            [
             0.6666666666666666,
             "#ed7953"
            ],
            [
             0.7777777777777778,
             "#fb9f3a"
            ],
            [
             0.8888888888888888,
             "#fdca26"
            ],
            [
             1,
             "#f0f921"
            ]
           ],
           "sequentialminus": [
            [
             0,
             "#0d0887"
            ],
            [
             0.1111111111111111,
             "#46039f"
            ],
            [
             0.2222222222222222,
             "#7201a8"
            ],
            [
             0.3333333333333333,
             "#9c179e"
            ],
            [
             0.4444444444444444,
             "#bd3786"
            ],
            [
             0.5555555555555556,
             "#d8576b"
            ],
            [
             0.6666666666666666,
             "#ed7953"
            ],
            [
             0.7777777777777778,
             "#fb9f3a"
            ],
            [
             0.8888888888888888,
             "#fdca26"
            ],
            [
             1,
             "#f0f921"
            ]
           ]
          },
          "colorway": [
           "#636efa",
           "#EF553B",
           "#00cc96",
           "#ab63fa",
           "#FFA15A",
           "#19d3f3",
           "#FF6692",
           "#B6E880",
           "#FF97FF",
           "#FECB52"
          ],
          "font": {
           "color": "#2a3f5f"
          },
          "geo": {
           "bgcolor": "white",
           "lakecolor": "white",
           "landcolor": "white",
           "showlakes": true,
           "showland": true,
           "subunitcolor": "#C8D4E3"
          },
          "hoverlabel": {
           "align": "left"
          },
          "hovermode": "closest",
          "mapbox": {
           "style": "light"
          },
          "paper_bgcolor": "white",
          "plot_bgcolor": "white",
          "polar": {
           "angularaxis": {
            "gridcolor": "#EBF0F8",
            "linecolor": "#EBF0F8",
            "ticks": ""
           },
           "bgcolor": "white",
           "radialaxis": {
            "gridcolor": "#EBF0F8",
            "linecolor": "#EBF0F8",
            "ticks": ""
           }
          },
          "scene": {
           "xaxis": {
            "backgroundcolor": "white",
            "gridcolor": "#DFE8F3",
            "gridwidth": 2,
            "linecolor": "#EBF0F8",
            "showbackground": true,
            "ticks": "",
            "zerolinecolor": "#EBF0F8"
           },
           "yaxis": {
            "backgroundcolor": "white",
            "gridcolor": "#DFE8F3",
            "gridwidth": 2,
            "linecolor": "#EBF0F8",
            "showbackground": true,
            "ticks": "",
            "zerolinecolor": "#EBF0F8"
           },
           "zaxis": {
            "backgroundcolor": "white",
            "gridcolor": "#DFE8F3",
            "gridwidth": 2,
            "linecolor": "#EBF0F8",
            "showbackground": true,
            "ticks": "",
            "zerolinecolor": "#EBF0F8"
           }
          },
          "shapedefaults": {
           "line": {
            "color": "#2a3f5f"
           }
          },
          "ternary": {
           "aaxis": {
            "gridcolor": "#DFE8F3",
            "linecolor": "#A2B1C6",
            "ticks": ""
           },
           "baxis": {
            "gridcolor": "#DFE8F3",
            "linecolor": "#A2B1C6",
            "ticks": ""
           },
           "bgcolor": "white",
           "caxis": {
            "gridcolor": "#DFE8F3",
            "linecolor": "#A2B1C6",
            "ticks": ""
           }
          },
          "title": {
           "x": 0.05
          },
          "xaxis": {
           "automargin": true,
           "gridcolor": "#EBF0F8",
           "linecolor": "#EBF0F8",
           "ticks": "",
           "title": {
            "standoff": 15
           },
           "zerolinecolor": "#EBF0F8",
           "zerolinewidth": 2
          },
          "yaxis": {
           "automargin": true,
           "gridcolor": "#EBF0F8",
           "linecolor": "#EBF0F8",
           "ticks": "",
           "title": {
            "standoff": 15
           },
           "zerolinecolor": "#EBF0F8",
           "zerolinewidth": 2
          }
         }
        },
        "title": {
         "text": ""
        },
        "updatemenus": [
         {
          "buttons": [
           {
            "args": [
             {
              "visible": [
               true,
               false,
               false,
               false,
               false,
               false,
               false
              ]
             }
            ],
            "label": "                                                                                         Tunis                                                                                           ",
            "method": "update"
           },
           {
            "args": [
             {
              "visible": [
               false,
               true,
               false,
               false,
               false,
               false,
               false
              ]
             }
            ],
            "label": "                                                                                         Nord est",
            "method": "update"
           },
           {
            "args": [
             {
              "visible": [
               false,
               false,
               true,
               false,
               false,
               false,
               false
              ]
             }
            ],
            "label": "                                                                                         Nord west",
            "method": "update"
           },
           {
            "args": [
             {
              "visible": [
               false,
               false,
               false,
               true,
               false,
               false,
               false
              ]
             }
            ],
            "label": "                                                                                         Centre est",
            "method": "update"
           },
           {
            "args": [
             {
              "visible": [
               false,
               false,
               false,
               false,
               true,
               false,
               false
              ]
             }
            ],
            "label": "                                                                                         Centre west",
            "method": "update"
           },
           {
            "args": [
             {
              "visible": [
               false,
               false,
               false,
               false,
               false,
               true,
               false
              ]
             }
            ],
            "label": "                                                                                         Sud est",
            "method": "update"
           },
           {
            "args": [
             {
              "visible": [
               false,
               false,
               false,
               false,
               false,
               false,
               true
              ]
             }
            ],
            "label": "                                                                                         Sud west",
            "method": "update"
           }
          ],
          "x": 1.1,
          "y": 1.18
         }
        ]
       }
      },
      "text/html": [
       "<div>\n",
       "        \n",
       "        \n",
       "            <div id=\"1f5dc4c0-4228-424b-bfd3-3de3fd76e83d\" class=\"plotly-graph-div\" style=\"height:525px; width:100%;\"></div>\n",
       "            <script type=\"text/javascript\">\n",
       "                require([\"plotly\"], function(Plotly) {\n",
       "                    window.PLOTLYENV=window.PLOTLYENV || {};\n",
       "                    \n",
       "                if (document.getElementById(\"1f5dc4c0-4228-424b-bfd3-3de3fd76e83d\")) {\n",
       "                    Plotly.newPlot(\n",
       "                        '1f5dc4c0-4228-424b-bfd3-3de3fd76e83d',\n",
       "                        [{\"marker\": {\"color\": \"royalblue\"}, \"name\": \"Tunis\", \"type\": \"scatter\", \"visible\": true, \"x\": [2011, 2012, 2013, 2014, 2015, 2016], \"y\": [40, 39, 39, 39, 40, 40]}, {\"marker\": {\"color\": \"royalblue\"}, \"name\": \"Nord est\", \"type\": \"scatter\", \"visible\": false, \"x\": [2011, 2012, 2013, 2014, 2015, 2016], \"y\": [22, 21, 21, 21, 22, 24]}, {\"marker\": {\"color\": \"royalblue\"}, \"name\": \"Nord west \", \"type\": \"scatter\", \"visible\": false, \"x\": [2011, 2012, 2013, 2014, 2015, 2016], \"y\": [36, 33, 34, 34, 34, 34]}, {\"marker\": {\"color\": \"royalblue\"}, \"name\": \"Centre est \", \"type\": \"scatter\", \"visible\": false, \"x\": [2011, 2012, 2013, 2014, 2015, 2016], \"y\": [50, 50, 51, 52, 52, 52]}, {\"marker\": {\"color\": \"royalblue\"}, \"name\": \"Centre west \", \"type\": \"scatter\", \"visible\": false, \"x\": [2011, 2012, 2013, 2014, 2015, 2016], \"y\": [30, 30, 30, 30, 30, 30]}, {\"marker\": {\"color\": \"royalblue\"}, \"name\": \"Sud est \", \"type\": \"scatter\", \"visible\": false, \"x\": [2011, 2012, 2013, 2014, 2015, 2016], \"y\": [20, 20, 21, 21, 23, 23]}, {\"marker\": {\"color\": \"royalblue\"}, \"name\": \"Sud west \", \"type\": \"scatter\", \"visible\": false, \"x\": [2011, 2012, 2013, 2014, 2015, 2016], \"y\": [17, 15, 15, 15, 15, 17]}],\n",
       "                        {\"font\": {\"family\": \" Gravitas One, cursive\", \"size\": 13}, \"template\": {\"data\": {\"bar\": [{\"error_x\": {\"color\": \"#2a3f5f\"}, \"error_y\": {\"color\": \"#2a3f5f\"}, \"marker\": {\"line\": {\"color\": \"white\", \"width\": 0.5}}, \"type\": \"bar\"}], \"barpolar\": [{\"marker\": {\"line\": {\"color\": \"white\", \"width\": 0.5}}, \"type\": \"barpolar\"}], \"carpet\": [{\"aaxis\": {\"endlinecolor\": \"#2a3f5f\", \"gridcolor\": \"#C8D4E3\", \"linecolor\": \"#C8D4E3\", \"minorgridcolor\": \"#C8D4E3\", \"startlinecolor\": \"#2a3f5f\"}, \"baxis\": {\"endlinecolor\": \"#2a3f5f\", \"gridcolor\": \"#C8D4E3\", \"linecolor\": \"#C8D4E3\", \"minorgridcolor\": \"#C8D4E3\", \"startlinecolor\": \"#2a3f5f\"}, \"type\": \"carpet\"}], \"choropleth\": [{\"colorbar\": {\"outlinewidth\": 0, \"ticks\": \"\"}, \"type\": \"choropleth\"}], \"contour\": [{\"colorbar\": {\"outlinewidth\": 0, \"ticks\": \"\"}, \"colorscale\": [[0.0, \"#0d0887\"], [0.1111111111111111, \"#46039f\"], [0.2222222222222222, \"#7201a8\"], [0.3333333333333333, \"#9c179e\"], [0.4444444444444444, \"#bd3786\"], [0.5555555555555556, \"#d8576b\"], [0.6666666666666666, \"#ed7953\"], [0.7777777777777778, \"#fb9f3a\"], [0.8888888888888888, \"#fdca26\"], [1.0, \"#f0f921\"]], \"type\": \"contour\"}], \"contourcarpet\": [{\"colorbar\": {\"outlinewidth\": 0, \"ticks\": \"\"}, \"type\": \"contourcarpet\"}], \"heatmap\": [{\"colorbar\": {\"outlinewidth\": 0, \"ticks\": \"\"}, \"colorscale\": [[0.0, \"#0d0887\"], [0.1111111111111111, \"#46039f\"], [0.2222222222222222, \"#7201a8\"], [0.3333333333333333, \"#9c179e\"], [0.4444444444444444, \"#bd3786\"], [0.5555555555555556, \"#d8576b\"], [0.6666666666666666, \"#ed7953\"], [0.7777777777777778, \"#fb9f3a\"], [0.8888888888888888, \"#fdca26\"], [1.0, \"#f0f921\"]], \"type\": \"heatmap\"}], \"heatmapgl\": [{\"colorbar\": {\"outlinewidth\": 0, \"ticks\": \"\"}, \"colorscale\": [[0.0, \"#0d0887\"], [0.1111111111111111, \"#46039f\"], [0.2222222222222222, \"#7201a8\"], [0.3333333333333333, \"#9c179e\"], [0.4444444444444444, \"#bd3786\"], [0.5555555555555556, \"#d8576b\"], [0.6666666666666666, \"#ed7953\"], [0.7777777777777778, \"#fb9f3a\"], [0.8888888888888888, \"#fdca26\"], [1.0, \"#f0f921\"]], \"type\": \"heatmapgl\"}], \"histogram\": [{\"marker\": {\"colorbar\": {\"outlinewidth\": 0, \"ticks\": \"\"}}, \"type\": \"histogram\"}], \"histogram2d\": [{\"colorbar\": {\"outlinewidth\": 0, \"ticks\": \"\"}, \"colorscale\": [[0.0, \"#0d0887\"], [0.1111111111111111, \"#46039f\"], [0.2222222222222222, \"#7201a8\"], [0.3333333333333333, \"#9c179e\"], [0.4444444444444444, \"#bd3786\"], [0.5555555555555556, \"#d8576b\"], [0.6666666666666666, \"#ed7953\"], [0.7777777777777778, \"#fb9f3a\"], [0.8888888888888888, \"#fdca26\"], [1.0, \"#f0f921\"]], \"type\": \"histogram2d\"}], \"histogram2dcontour\": [{\"colorbar\": {\"outlinewidth\": 0, \"ticks\": \"\"}, \"colorscale\": [[0.0, \"#0d0887\"], [0.1111111111111111, \"#46039f\"], [0.2222222222222222, \"#7201a8\"], [0.3333333333333333, \"#9c179e\"], [0.4444444444444444, \"#bd3786\"], [0.5555555555555556, \"#d8576b\"], [0.6666666666666666, \"#ed7953\"], [0.7777777777777778, \"#fb9f3a\"], [0.8888888888888888, \"#fdca26\"], [1.0, \"#f0f921\"]], \"type\": \"histogram2dcontour\"}], \"mesh3d\": [{\"colorbar\": {\"outlinewidth\": 0, \"ticks\": \"\"}, \"type\": \"mesh3d\"}], \"parcoords\": [{\"line\": {\"colorbar\": {\"outlinewidth\": 0, \"ticks\": \"\"}}, \"type\": \"parcoords\"}], \"pie\": [{\"automargin\": true, \"type\": \"pie\"}], \"scatter\": [{\"marker\": {\"colorbar\": {\"outlinewidth\": 0, \"ticks\": \"\"}}, \"type\": \"scatter\"}], \"scatter3d\": [{\"line\": {\"colorbar\": {\"outlinewidth\": 0, \"ticks\": \"\"}}, \"marker\": {\"colorbar\": {\"outlinewidth\": 0, \"ticks\": \"\"}}, \"type\": \"scatter3d\"}], \"scattercarpet\": [{\"marker\": {\"colorbar\": {\"outlinewidth\": 0, \"ticks\": \"\"}}, \"type\": \"scattercarpet\"}], \"scattergeo\": [{\"marker\": {\"colorbar\": {\"outlinewidth\": 0, \"ticks\": \"\"}}, \"type\": \"scattergeo\"}], \"scattergl\": [{\"marker\": {\"colorbar\": {\"outlinewidth\": 0, \"ticks\": \"\"}}, \"type\": \"scattergl\"}], \"scattermapbox\": [{\"marker\": {\"colorbar\": {\"outlinewidth\": 0, \"ticks\": \"\"}}, \"type\": \"scattermapbox\"}], \"scatterpolar\": [{\"marker\": {\"colorbar\": {\"outlinewidth\": 0, \"ticks\": \"\"}}, \"type\": \"scatterpolar\"}], \"scatterpolargl\": [{\"marker\": {\"colorbar\": {\"outlinewidth\": 0, \"ticks\": \"\"}}, \"type\": \"scatterpolargl\"}], \"scatterternary\": [{\"marker\": {\"colorbar\": {\"outlinewidth\": 0, \"ticks\": \"\"}}, \"type\": \"scatterternary\"}], \"surface\": [{\"colorbar\": {\"outlinewidth\": 0, \"ticks\": \"\"}, \"colorscale\": [[0.0, \"#0d0887\"], [0.1111111111111111, \"#46039f\"], [0.2222222222222222, \"#7201a8\"], [0.3333333333333333, \"#9c179e\"], [0.4444444444444444, \"#bd3786\"], [0.5555555555555556, \"#d8576b\"], [0.6666666666666666, \"#ed7953\"], [0.7777777777777778, \"#fb9f3a\"], [0.8888888888888888, \"#fdca26\"], [1.0, \"#f0f921\"]], \"type\": \"surface\"}], \"table\": [{\"cells\": {\"fill\": {\"color\": \"#EBF0F8\"}, \"line\": {\"color\": \"white\"}}, \"header\": {\"fill\": {\"color\": \"#C8D4E3\"}, \"line\": {\"color\": \"white\"}}, \"type\": \"table\"}]}, \"layout\": {\"annotationdefaults\": {\"arrowcolor\": \"#2a3f5f\", \"arrowhead\": 0, \"arrowwidth\": 1}, \"coloraxis\": {\"colorbar\": {\"outlinewidth\": 0, \"ticks\": \"\"}}, \"colorscale\": {\"diverging\": [[0, \"#8e0152\"], [0.1, \"#c51b7d\"], [0.2, \"#de77ae\"], [0.3, \"#f1b6da\"], [0.4, \"#fde0ef\"], [0.5, \"#f7f7f7\"], [0.6, \"#e6f5d0\"], [0.7, \"#b8e186\"], [0.8, \"#7fbc41\"], [0.9, \"#4d9221\"], [1, \"#276419\"]], \"sequential\": [[0.0, \"#0d0887\"], [0.1111111111111111, \"#46039f\"], [0.2222222222222222, \"#7201a8\"], [0.3333333333333333, \"#9c179e\"], [0.4444444444444444, \"#bd3786\"], [0.5555555555555556, \"#d8576b\"], [0.6666666666666666, \"#ed7953\"], [0.7777777777777778, \"#fb9f3a\"], [0.8888888888888888, \"#fdca26\"], [1.0, \"#f0f921\"]], \"sequentialminus\": [[0.0, \"#0d0887\"], [0.1111111111111111, \"#46039f\"], [0.2222222222222222, \"#7201a8\"], [0.3333333333333333, \"#9c179e\"], [0.4444444444444444, \"#bd3786\"], [0.5555555555555556, \"#d8576b\"], [0.6666666666666666, \"#ed7953\"], [0.7777777777777778, \"#fb9f3a\"], [0.8888888888888888, \"#fdca26\"], [1.0, \"#f0f921\"]]}, \"colorway\": [\"#636efa\", \"#EF553B\", \"#00cc96\", \"#ab63fa\", \"#FFA15A\", \"#19d3f3\", \"#FF6692\", \"#B6E880\", \"#FF97FF\", \"#FECB52\"], \"font\": {\"color\": \"#2a3f5f\"}, \"geo\": {\"bgcolor\": \"white\", \"lakecolor\": \"white\", \"landcolor\": \"white\", \"showlakes\": true, \"showland\": true, \"subunitcolor\": \"#C8D4E3\"}, \"hoverlabel\": {\"align\": \"left\"}, \"hovermode\": \"closest\", \"mapbox\": {\"style\": \"light\"}, \"paper_bgcolor\": \"white\", \"plot_bgcolor\": \"white\", \"polar\": {\"angularaxis\": {\"gridcolor\": \"#EBF0F8\", \"linecolor\": \"#EBF0F8\", \"ticks\": \"\"}, \"bgcolor\": \"white\", \"radialaxis\": {\"gridcolor\": \"#EBF0F8\", \"linecolor\": \"#EBF0F8\", \"ticks\": \"\"}}, \"scene\": {\"xaxis\": {\"backgroundcolor\": \"white\", \"gridcolor\": \"#DFE8F3\", \"gridwidth\": 2, \"linecolor\": \"#EBF0F8\", \"showbackground\": true, \"ticks\": \"\", \"zerolinecolor\": \"#EBF0F8\"}, \"yaxis\": {\"backgroundcolor\": \"white\", \"gridcolor\": \"#DFE8F3\", \"gridwidth\": 2, \"linecolor\": \"#EBF0F8\", \"showbackground\": true, \"ticks\": \"\", \"zerolinecolor\": \"#EBF0F8\"}, \"zaxis\": {\"backgroundcolor\": \"white\", \"gridcolor\": \"#DFE8F3\", \"gridwidth\": 2, \"linecolor\": \"#EBF0F8\", \"showbackground\": true, \"ticks\": \"\", \"zerolinecolor\": \"#EBF0F8\"}}, \"shapedefaults\": {\"line\": {\"color\": \"#2a3f5f\"}}, \"ternary\": {\"aaxis\": {\"gridcolor\": \"#DFE8F3\", \"linecolor\": \"#A2B1C6\", \"ticks\": \"\"}, \"baxis\": {\"gridcolor\": \"#DFE8F3\", \"linecolor\": \"#A2B1C6\", \"ticks\": \"\"}, \"bgcolor\": \"white\", \"caxis\": {\"gridcolor\": \"#DFE8F3\", \"linecolor\": \"#A2B1C6\", \"ticks\": \"\"}}, \"title\": {\"x\": 0.05}, \"xaxis\": {\"automargin\": true, \"gridcolor\": \"#EBF0F8\", \"linecolor\": \"#EBF0F8\", \"ticks\": \"\", \"title\": {\"standoff\": 15}, \"zerolinecolor\": \"#EBF0F8\", \"zerolinewidth\": 2}, \"yaxis\": {\"automargin\": true, \"gridcolor\": \"#EBF0F8\", \"linecolor\": \"#EBF0F8\", \"ticks\": \"\", \"title\": {\"standoff\": 15}, \"zerolinecolor\": \"#EBF0F8\", \"zerolinewidth\": 2}}}, \"title\": {\"text\": \"\"}, \"updatemenus\": [{\"buttons\": [{\"args\": [{\"visible\": [true, false, false, false, false, false, false]}], \"label\": \"                                                                                         Tunis                                                                                           \", \"method\": \"update\"}, {\"args\": [{\"visible\": [false, true, false, false, false, false, false]}], \"label\": \"                                                                                         Nord est\", \"method\": \"update\"}, {\"args\": [{\"visible\": [false, false, true, false, false, false, false]}], \"label\": \"                                                                                         Nord west\", \"method\": \"update\"}, {\"args\": [{\"visible\": [false, false, false, true, false, false, false]}], \"label\": \"                                                                                         Centre est\", \"method\": \"update\"}, {\"args\": [{\"visible\": [false, false, false, false, true, false, false]}], \"label\": \"                                                                                         Centre west\", \"method\": \"update\"}, {\"args\": [{\"visible\": [false, false, false, false, false, true, false]}], \"label\": \"                                                                                         Sud est\", \"method\": \"update\"}, {\"args\": [{\"visible\": [false, false, false, false, false, false, true]}], \"label\": \"                                                                                         Sud west\", \"method\": \"update\"}], \"x\": 1.1, \"y\": 1.18}]},\n",
       "                        {\"responsive\": true}\n",
       "                    ).then(function(){\n",
       "                            \n",
       "var gd = document.getElementById('1f5dc4c0-4228-424b-bfd3-3de3fd76e83d');\n",
       "var x = new MutationObserver(function (mutations, observer) {{\n",
       "        var display = window.getComputedStyle(gd).display;\n",
       "        if (!display || display === 'none') {{\n",
       "            console.log([gd, 'removed!']);\n",
       "            Plotly.purge(gd);\n",
       "            observer.disconnect();\n",
       "        }}\n",
       "}});\n",
       "\n",
       "// Listen for the removal of the full notebook cells\n",
       "var notebookContainer = gd.closest('#notebook-container');\n",
       "if (notebookContainer) {{\n",
       "    x.observe(notebookContainer, {childList: true});\n",
       "}}\n",
       "\n",
       "// Listen for the clearing of the current output cell\n",
       "var outputEl = gd.closest('.output');\n",
       "if (outputEl) {{\n",
       "    x.observe(outputEl, {childList: true});\n",
       "}}\n",
       "\n",
       "                        })\n",
       "                };\n",
       "                });\n",
       "            </script>\n",
       "        </div>"
      ]
     },
     "metadata": {},
     "output_type": "display_data"
    }
   ],
   "source": [
    "df7=pd.read_csv('evolution-nombre-maison-cultures-section.csv') \n",
    "df8=df7.iloc[:,1:]\n",
    "\n",
    "\n",
    "years=[2011,2012,2013,2014,2015,2016]\n",
    "data_bar=[go.Scatter(name='Tunis',\n",
    "           visible=True,\n",
    "           x=years, y=df8.iloc[0],\n",
    "           marker_color='royalblue'),\n",
    "          \n",
    "         go.Scatter(name='Nord est',\n",
    "           visible=False,\n",
    "          x=years, y=df8.iloc[1],\n",
    "          marker_color='royalblue'),\n",
    "          \n",
    "         go.Scatter(name='Nord west ',\n",
    "           visible=False,\n",
    "           x=years, y=df8.iloc[2],\n",
    "           marker_color='royalblue'),\n",
    "          \n",
    "          go.Scatter(name='Centre est ',\n",
    "           visible=False,\n",
    "           x=years, y=df8.iloc[3],\n",
    "           marker_color='royalblue'),\n",
    "          go.Scatter(name='Centre west ',\n",
    "           visible=False,\n",
    "           x=years, y=df8.iloc[4],\n",
    "           marker_color='royalblue'),\n",
    "          go.Scatter(name='Sud est ',\n",
    "           visible=False,\n",
    "           x=years, y=df8.iloc[5],\n",
    "           marker_color='royalblue'),\n",
    "          go.Scatter(name='Sud west ',\n",
    "           visible=False,\n",
    "           x=years, y=df8.iloc[6],\n",
    "           marker_color='royalblue'),\n",
    "        ]\n",
    "list_updatemenus=[\n",
    "        {'args':[{\"visible\":[True,False,False,False,False,False,False]}],\n",
    "         'label':\"                                                                                         Tunis                                                                                           \",\n",
    "         'method':\"update\"},\n",
    "    \n",
    "        {'args':[{\"visible\":[False,True,False,False,False,False,False]}],\n",
    "         'label':\"                                                                                         Nord est\",\n",
    "         'method':\"update\"},\n",
    "\n",
    "         {'args':[{\"visible\":[False,False,True,False,False,False,False]}],\n",
    "         'label':\"                                                                                         Nord west\",\n",
    "         'method':\"update\"},\n",
    "    \n",
    "         {'args':[{\"visible\":[False,False,False,True,False,False,False]}],\n",
    "         'label':\"                                                                                         Centre est\",\n",
    "         'method':\"update\"},\n",
    "    {'args':[{\"visible\":[False,False,False,False,True,False,False]}],\n",
    "         'label':\"                                                                                         Centre west\",\n",
    "         'method':\"update\"},\n",
    "    {'args':[{\"visible\":[False,False,False,False,False,True,False]}],\n",
    "         'label':\"                                                                                         Sud est\",\n",
    "         'method':\"update\"},\n",
    "    {'args':[{\"visible\":[False,False,False,False,False,False,True]}],\n",
    "         'label':\"                                                                                         Sud west\",\n",
    "         'method':\"update\"},\n",
    "    \n",
    "    \n",
    "\n",
    "\n",
    "\n",
    "]\n",
    "layout_bar=go.Layout(updatemenus=list([dict(buttons= list_updatemenus,x=1.1,y=1.18)]),\n",
    "                     title_text=\"\",\n",
    "                     template='plotly_white',\n",
    "                     font=dict(\n",
    "                    family=\" Gravitas One, cursive\",\n",
    "                    size=13))\n",
    "\n",
    "#defining figure and plotting\n",
    "evol_MC_section = go.Figure(data_bar,layout_bar)\n",
    "evol_MC_section.show()\n"
   ]
  },
  {
   "cell_type": "code",
   "execution_count": 6,
   "metadata": {},
   "outputs": [
    {
     "data": {
      "text/html": [
       "<div style=\"width:100%;\"><div style=\"position:relative;width:100%;height:0;padding-bottom:60%;\"><iframe src=\"about:blank\" style=\"position:absolute;width:100%;height:100%;left:0;top:0;border:none !important;\" data-html=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 onload=\"this.contentDocument.open();this.contentDocument.write(atob(this.getAttribute('data-html')));this.contentDocument.close();\" allowfullscreen webkitallowfullscreen mozallowfullscreen></iframe></div></div>"
      ],
      "text/plain": [
       "<folium.folium.Map at 0x1cd56216a48>"
      ]
     },
     "execution_count": 6,
     "metadata": {},
     "output_type": "execute_result"
    }
   ],
   "source": [
    "import folium\n",
    "tunisia_geo = r'listegouvernoratstn (1).geojson' # geojson file of tunisia\n",
    "tunisia_map_Mc = folium.Map(location=[33.79, 9.59], zoom_start=6.49)\n",
    "\n",
    "\n",
    "\n",
    "df9=pd.read_csv ('evolution-nombre-maison-culture.csv')\n",
    "\n",
    "\n",
    "df9['Total'] = df9.sum(axis=1)\n",
    "\n",
    "folium.Marker([36.7911558,10.1804308 ], popup= df9.loc[0,'2016']).add_to(tunisia_map_Mc) #label the marker Tunis\n",
    "folium.Marker([36.9685735,10.1219855], popup= df9.loc[1,'2016']).add_to(tunisia_map_Mc) #label the marker ariena\n",
    "folium.Marker([36.7488603,10.2246008], popup= df9.loc[2,'2016']).add_to(tunisia_map_Mc) #label the marker Ben Arous\n",
    "folium.Marker([36.808812726759626,10.086532577929486], popup= df9.loc[3,'2016']).add_to(tunisia_map_Mc) #label the markr Manouba\n",
    "folium.Marker([36.4823676 ,10.6707197], popup=  df9.loc[4,'2016']).add_to(tunisia_map_Mc) #label the marker Nabeul\n",
    "folium.Marker([36.4117196,10.2019798], popup= df9.loc[5,'2016']).add_to(tunisia_map_Mc) #label the markr Zoughan\n",
    "folium.Marker([37.2720905,9.8708565], popup= df9.loc[6,'2016']).add_to(tunisia_map_Mc) #label the markr Benzart\n",
    "folium.Marker([36.7462303,9.2032328], popup= df9.loc[7,'2016']).add_to(tunisia_map_Mc) #label the markr Beja \n",
    "folium.Marker([36.6779725,8.752647], popup= df9.loc[8,'2016']).add_to(tunisia_map_Mc) #label the markr Jendouba\n",
    "folium.Marker([36.0357642,8.7249381], popup= df9.loc[9,'2016']).add_to(tunisia_map_Mc) #label the markr Kef\n",
    "folium.Marker([35.9715323,9.3577129], popup= df9.loc[10,'2016']).add_to(tunisia_map_Mc) #label the markr Siliana\n",
    "folium.Marker([35.828829,10.640525], popup= df9.loc[11,'2016']).add_to(tunisia_map_Mc) #label the markr Sousse\n",
    "folium.Marker([35.7398724,10.7988397], popup= df9.loc[12,'2016']).add_to(tunisia_map_Mc) #label the markr Monastir\n",
    "folium.Marker([35.4877892,10.9622433], popup= df9.loc[13,'2016']).add_to(tunisia_map_Mc) #label the markr Mahdia\n",
    "folium.Marker([34.7231273,10.3358789], popup= df9.loc[14,'2016']).add_to(tunisia_map_Mc) #label the markr Sfax\n",
    "folium.Marker([35.6710101,10.10062], popup= df9.loc[15,'2016']).add_to(tunisia_map_Mc) #label the markr Kairouan\n",
    "folium.Marker([35.1678191,8.8348097], popup= df9.loc[16,'2016']).add_to(tunisia_map_Mc) #label the markr Kassrine\n",
    "folium.Marker([35.03396985358989,9.48893761982423], popup= df9.loc[17,'2016']).add_to(tunisia_map_Mc) #label the markr Sidi Bouzid\n",
    "folium.Marker([33.7765032,9.793063], popup= df9.loc[18,'2016']).add_to(tunisia_map_Mc) #label the markr Gabes\n",
    "folium.Marker([32.9819987,11.2870254], popup= df9.loc[19,'2016']).add_to(tunisia_map_Mc) #label the markr Mednine\n",
    "folium.Marker([31.7317009,9.7702197], popup= df9.loc[20,'2016']).add_to(tunisia_map_Mc) #label the markr Tataouine\n",
    "folium.Marker([34.43367,8.7907988], popup= df9.loc[21,'2016']).add_to(tunisia_map_Mc) #label the markr Gafsa\n",
    "folium.Marker([33.913485,8.1118241], popup= df9.loc[22,'2016']).add_to(tunisia_map_Mc) #label the markr Tozeur\n",
    "folium.Marker([33.7061148,8.9698376], popup= df9.loc[22,'2016']).add_to(tunisia_map_Mc) #label the markr Kebili\n",
    "\n",
    "tunisia_map_Mc\n",
    "\n",
    "tunisia_map_Mc.save('tunisia_map_Mc.html')\n",
    "tunisia_map_Mc"
   ]
  },
  {
   "cell_type": "code",
   "execution_count": 7,
   "metadata": {},
   "outputs": [
    {
     "data": {
      "application/vnd.plotly.v1+json": {
       "config": {
        "plotlyServerURL": "https://plot.ly"
       },
       "data": [
        {
         "marker": {
          "color": "Pink"
         },
         "name": "Nombre de maison de culture",
         "type": "scatter",
         "visible": true,
         "x": [
          2011,
          2012,
          2013,
          2014,
          2015
         ],
         "y": [
          215,
          208,
          211,
          212,
          216
         ]
        },
        {
         "marker": {
          "color": "royalblue"
         },
         "name": "Nombre des inscrits",
         "type": "scatter",
         "visible": false,
         "x": [
          2011,
          2012,
          2013,
          2014,
          2015
         ],
         "y": [
          16351,
          17081,
          20827,
          20708,
          20261
         ]
        }
       ],
       "layout": {
        "font": {
         "family": " Gravitas One, cursive",
         "size": 17
        },
        "template": {
         "data": {
          "bar": [
           {
            "error_x": {
             "color": "#2a3f5f"
            },
            "error_y": {
             "color": "#2a3f5f"
            },
            "marker": {
             "line": {
              "color": "white",
              "width": 0.5
             }
            },
            "type": "bar"
           }
          ],
          "barpolar": [
           {
            "marker": {
             "line": {
              "color": "white",
              "width": 0.5
             }
            },
            "type": "barpolar"
           }
          ],
          "carpet": [
           {
            "aaxis": {
             "endlinecolor": "#2a3f5f",
             "gridcolor": "#C8D4E3",
             "linecolor": "#C8D4E3",
             "minorgridcolor": "#C8D4E3",
             "startlinecolor": "#2a3f5f"
            },
            "baxis": {
             "endlinecolor": "#2a3f5f",
             "gridcolor": "#C8D4E3",
             "linecolor": "#C8D4E3",
             "minorgridcolor": "#C8D4E3",
             "startlinecolor": "#2a3f5f"
            },
            "type": "carpet"
           }
          ],
          "choropleth": [
           {
            "colorbar": {
             "outlinewidth": 0,
             "ticks": ""
            },
            "type": "choropleth"
           }
          ],
          "contour": [
           {
            "colorbar": {
             "outlinewidth": 0,
             "ticks": ""
            },
            "colorscale": [
             [
              0,
              "#0d0887"
             ],
             [
              0.1111111111111111,
              "#46039f"
             ],
             [
              0.2222222222222222,
              "#7201a8"
             ],
             [
              0.3333333333333333,
              "#9c179e"
             ],
             [
              0.4444444444444444,
              "#bd3786"
             ],
             [
              0.5555555555555556,
              "#d8576b"
             ],
             [
              0.6666666666666666,
              "#ed7953"
             ],
             [
              0.7777777777777778,
              "#fb9f3a"
             ],
             [
              0.8888888888888888,
              "#fdca26"
             ],
             [
              1,
              "#f0f921"
             ]
            ],
            "type": "contour"
           }
          ],
          "contourcarpet": [
           {
            "colorbar": {
             "outlinewidth": 0,
             "ticks": ""
            },
            "type": "contourcarpet"
           }
          ],
          "heatmap": [
           {
            "colorbar": {
             "outlinewidth": 0,
             "ticks": ""
            },
            "colorscale": [
             [
              0,
              "#0d0887"
             ],
             [
              0.1111111111111111,
              "#46039f"
             ],
             [
              0.2222222222222222,
              "#7201a8"
             ],
             [
              0.3333333333333333,
              "#9c179e"
             ],
             [
              0.4444444444444444,
              "#bd3786"
             ],
             [
              0.5555555555555556,
              "#d8576b"
             ],
             [
              0.6666666666666666,
              "#ed7953"
             ],
             [
              0.7777777777777778,
              "#fb9f3a"
             ],
             [
              0.8888888888888888,
              "#fdca26"
             ],
             [
              1,
              "#f0f921"
             ]
            ],
            "type": "heatmap"
           }
          ],
          "heatmapgl": [
           {
            "colorbar": {
             "outlinewidth": 0,
             "ticks": ""
            },
            "colorscale": [
             [
              0,
              "#0d0887"
             ],
             [
              0.1111111111111111,
              "#46039f"
             ],
             [
              0.2222222222222222,
              "#7201a8"
             ],
             [
              0.3333333333333333,
              "#9c179e"
             ],
             [
              0.4444444444444444,
              "#bd3786"
             ],
             [
              0.5555555555555556,
              "#d8576b"
             ],
             [
              0.6666666666666666,
              "#ed7953"
             ],
             [
              0.7777777777777778,
              "#fb9f3a"
             ],
             [
              0.8888888888888888,
              "#fdca26"
             ],
             [
              1,
              "#f0f921"
             ]
            ],
            "type": "heatmapgl"
           }
          ],
          "histogram": [
           {
            "marker": {
             "colorbar": {
              "outlinewidth": 0,
              "ticks": ""
             }
            },
            "type": "histogram"
           }
          ],
          "histogram2d": [
           {
            "colorbar": {
             "outlinewidth": 0,
             "ticks": ""
            },
            "colorscale": [
             [
              0,
              "#0d0887"
             ],
             [
              0.1111111111111111,
              "#46039f"
             ],
             [
              0.2222222222222222,
              "#7201a8"
             ],
             [
              0.3333333333333333,
              "#9c179e"
             ],
             [
              0.4444444444444444,
              "#bd3786"
             ],
             [
              0.5555555555555556,
              "#d8576b"
             ],
             [
              0.6666666666666666,
              "#ed7953"
             ],
             [
              0.7777777777777778,
              "#fb9f3a"
             ],
             [
              0.8888888888888888,
              "#fdca26"
             ],
             [
              1,
              "#f0f921"
             ]
            ],
            "type": "histogram2d"
           }
          ],
          "histogram2dcontour": [
           {
            "colorbar": {
             "outlinewidth": 0,
             "ticks": ""
            },
            "colorscale": [
             [
              0,
              "#0d0887"
             ],
             [
              0.1111111111111111,
              "#46039f"
             ],
             [
              0.2222222222222222,
              "#7201a8"
             ],
             [
              0.3333333333333333,
              "#9c179e"
             ],
             [
              0.4444444444444444,
              "#bd3786"
             ],
             [
              0.5555555555555556,
              "#d8576b"
             ],
             [
              0.6666666666666666,
              "#ed7953"
             ],
             [
              0.7777777777777778,
              "#fb9f3a"
             ],
             [
              0.8888888888888888,
              "#fdca26"
             ],
             [
              1,
              "#f0f921"
             ]
            ],
            "type": "histogram2dcontour"
           }
          ],
          "mesh3d": [
           {
            "colorbar": {
             "outlinewidth": 0,
             "ticks": ""
            },
            "type": "mesh3d"
           }
          ],
          "parcoords": [
           {
            "line": {
             "colorbar": {
              "outlinewidth": 0,
              "ticks": ""
             }
            },
            "type": "parcoords"
           }
          ],
          "pie": [
           {
            "automargin": true,
            "type": "pie"
           }
          ],
          "scatter": [
           {
            "marker": {
             "colorbar": {
              "outlinewidth": 0,
              "ticks": ""
             }
            },
            "type": "scatter"
           }
          ],
          "scatter3d": [
           {
            "line": {
             "colorbar": {
              "outlinewidth": 0,
              "ticks": ""
             }
            },
            "marker": {
             "colorbar": {
              "outlinewidth": 0,
              "ticks": ""
             }
            },
            "type": "scatter3d"
           }
          ],
          "scattercarpet": [
           {
            "marker": {
             "colorbar": {
              "outlinewidth": 0,
              "ticks": ""
             }
            },
            "type": "scattercarpet"
           }
          ],
          "scattergeo": [
           {
            "marker": {
             "colorbar": {
              "outlinewidth": 0,
              "ticks": ""
             }
            },
            "type": "scattergeo"
           }
          ],
          "scattergl": [
           {
            "marker": {
             "colorbar": {
              "outlinewidth": 0,
              "ticks": ""
             }
            },
            "type": "scattergl"
           }
          ],
          "scattermapbox": [
           {
            "marker": {
             "colorbar": {
              "outlinewidth": 0,
              "ticks": ""
             }
            },
            "type": "scattermapbox"
           }
          ],
          "scatterpolar": [
           {
            "marker": {
             "colorbar": {
              "outlinewidth": 0,
              "ticks": ""
             }
            },
            "type": "scatterpolar"
           }
          ],
          "scatterpolargl": [
           {
            "marker": {
             "colorbar": {
              "outlinewidth": 0,
              "ticks": ""
             }
            },
            "type": "scatterpolargl"
           }
          ],
          "scatterternary": [
           {
            "marker": {
             "colorbar": {
              "outlinewidth": 0,
              "ticks": ""
             }
            },
            "type": "scatterternary"
           }
          ],
          "surface": [
           {
            "colorbar": {
             "outlinewidth": 0,
             "ticks": ""
            },
            "colorscale": [
             [
              0,
              "#0d0887"
             ],
             [
              0.1111111111111111,
              "#46039f"
             ],
             [
              0.2222222222222222,
              "#7201a8"
             ],
             [
              0.3333333333333333,
              "#9c179e"
             ],
             [
              0.4444444444444444,
              "#bd3786"
             ],
             [
              0.5555555555555556,
              "#d8576b"
             ],
             [
              0.6666666666666666,
              "#ed7953"
             ],
             [
              0.7777777777777778,
              "#fb9f3a"
             ],
             [
              0.8888888888888888,
              "#fdca26"
             ],
             [
              1,
              "#f0f921"
             ]
            ],
            "type": "surface"
           }
          ],
          "table": [
           {
            "cells": {
             "fill": {
              "color": "#EBF0F8"
             },
             "line": {
              "color": "white"
             }
            },
            "header": {
             "fill": {
              "color": "#C8D4E3"
             },
             "line": {
              "color": "white"
             }
            },
            "type": "table"
           }
          ]
         },
         "layout": {
          "annotationdefaults": {
           "arrowcolor": "#2a3f5f",
           "arrowhead": 0,
           "arrowwidth": 1
          },
          "coloraxis": {
           "colorbar": {
            "outlinewidth": 0,
            "ticks": ""
           }
          },
          "colorscale": {
           "diverging": [
            [
             0,
             "#8e0152"
            ],
            [
             0.1,
             "#c51b7d"
            ],
            [
             0.2,
             "#de77ae"
            ],
            [
             0.3,
             "#f1b6da"
            ],
            [
             0.4,
             "#fde0ef"
            ],
            [
             0.5,
             "#f7f7f7"
            ],
            [
             0.6,
             "#e6f5d0"
            ],
            [
             0.7,
             "#b8e186"
            ],
            [
             0.8,
             "#7fbc41"
            ],
            [
             0.9,
             "#4d9221"
            ],
            [
             1,
             "#276419"
            ]
           ],
           "sequential": [
            [
             0,
             "#0d0887"
            ],
            [
             0.1111111111111111,
             "#46039f"
            ],
            [
             0.2222222222222222,
             "#7201a8"
            ],
            [
             0.3333333333333333,
             "#9c179e"
            ],
            [
             0.4444444444444444,
             "#bd3786"
            ],
            [
             0.5555555555555556,
             "#d8576b"
            ],
            [
             0.6666666666666666,
             "#ed7953"
            ],
            [
             0.7777777777777778,
             "#fb9f3a"
            ],
            [
             0.8888888888888888,
             "#fdca26"
            ],
            [
             1,
             "#f0f921"
            ]
           ],
           "sequentialminus": [
            [
             0,
             "#0d0887"
            ],
            [
             0.1111111111111111,
             "#46039f"
            ],
            [
             0.2222222222222222,
             "#7201a8"
            ],
            [
             0.3333333333333333,
             "#9c179e"
            ],
            [
             0.4444444444444444,
             "#bd3786"
            ],
            [
             0.5555555555555556,
             "#d8576b"
            ],
            [
             0.6666666666666666,
             "#ed7953"
            ],
            [
             0.7777777777777778,
             "#fb9f3a"
            ],
            [
             0.8888888888888888,
             "#fdca26"
            ],
            [
             1,
             "#f0f921"
            ]
           ]
          },
          "colorway": [
           "#636efa",
           "#EF553B",
           "#00cc96",
           "#ab63fa",
           "#FFA15A",
           "#19d3f3",
           "#FF6692",
           "#B6E880",
           "#FF97FF",
           "#FECB52"
          ],
          "font": {
           "color": "#2a3f5f"
          },
          "geo": {
           "bgcolor": "white",
           "lakecolor": "white",
           "landcolor": "white",
           "showlakes": true,
           "showland": true,
           "subunitcolor": "#C8D4E3"
          },
          "hoverlabel": {
           "align": "left"
          },
          "hovermode": "closest",
          "mapbox": {
           "style": "light"
          },
          "paper_bgcolor": "white",
          "plot_bgcolor": "white",
          "polar": {
           "angularaxis": {
            "gridcolor": "#EBF0F8",
            "linecolor": "#EBF0F8",
            "ticks": ""
           },
           "bgcolor": "white",
           "radialaxis": {
            "gridcolor": "#EBF0F8",
            "linecolor": "#EBF0F8",
            "ticks": ""
           }
          },
          "scene": {
           "xaxis": {
            "backgroundcolor": "white",
            "gridcolor": "#DFE8F3",
            "gridwidth": 2,
            "linecolor": "#EBF0F8",
            "showbackground": true,
            "ticks": "",
            "zerolinecolor": "#EBF0F8"
           },
           "yaxis": {
            "backgroundcolor": "white",
            "gridcolor": "#DFE8F3",
            "gridwidth": 2,
            "linecolor": "#EBF0F8",
            "showbackground": true,
            "ticks": "",
            "zerolinecolor": "#EBF0F8"
           },
           "zaxis": {
            "backgroundcolor": "white",
            "gridcolor": "#DFE8F3",
            "gridwidth": 2,
            "linecolor": "#EBF0F8",
            "showbackground": true,
            "ticks": "",
            "zerolinecolor": "#EBF0F8"
           }
          },
          "shapedefaults": {
           "line": {
            "color": "#2a3f5f"
           }
          },
          "ternary": {
           "aaxis": {
            "gridcolor": "#DFE8F3",
            "linecolor": "#A2B1C6",
            "ticks": ""
           },
           "baxis": {
            "gridcolor": "#DFE8F3",
            "linecolor": "#A2B1C6",
            "ticks": ""
           },
           "bgcolor": "white",
           "caxis": {
            "gridcolor": "#DFE8F3",
            "linecolor": "#A2B1C6",
            "ticks": ""
           }
          },
          "title": {
           "x": 0.05
          },
          "xaxis": {
           "automargin": true,
           "gridcolor": "#EBF0F8",
           "linecolor": "#EBF0F8",
           "ticks": "",
           "title": {
            "standoff": 15
           },
           "zerolinecolor": "#EBF0F8",
           "zerolinewidth": 2
          },
          "yaxis": {
           "automargin": true,
           "gridcolor": "#EBF0F8",
           "linecolor": "#EBF0F8",
           "ticks": "",
           "title": {
            "standoff": 15
           },
           "zerolinecolor": "#EBF0F8",
           "zerolinewidth": 2
          }
         }
        },
        "title": {
         "text": ""
        },
        "updatemenus": [
         {
          "buttons": [
           {
            "args": [
             {
              "visible": [
               true,
               false
              ]
             }
            ],
            "label": "                                                             Nombre de maison de culture                                               ",
            "method": "update"
           },
           {
            "args": [
             {
              "visible": [
               false,
               true
              ]
             }
            ],
            "label": "                                                             Nombre des inscrits",
            "method": "update"
           }
          ],
          "x": 1,
          "y": 1.18
         }
        ]
       }
      },
      "text/html": [
       "<div>\n",
       "        \n",
       "        \n",
       "            <div id=\"d157a300-bedf-4b8d-9b0e-0cde00d34996\" class=\"plotly-graph-div\" style=\"height:525px; width:100%;\"></div>\n",
       "            <script type=\"text/javascript\">\n",
       "                require([\"plotly\"], function(Plotly) {\n",
       "                    window.PLOTLYENV=window.PLOTLYENV || {};\n",
       "                    \n",
       "                if (document.getElementById(\"d157a300-bedf-4b8d-9b0e-0cde00d34996\")) {\n",
       "                    Plotly.newPlot(\n",
       "                        'd157a300-bedf-4b8d-9b0e-0cde00d34996',\n",
       "                        [{\"marker\": {\"color\": \"Pink\"}, \"name\": \"Nombre de maison de culture\", \"type\": \"scatter\", \"visible\": true, \"x\": [2011, 2012, 2013, 2014, 2015], \"y\": [215, 208, 211, 212, 216]}, {\"marker\": {\"color\": \"royalblue\"}, \"name\": \"Nombre des inscrits\", \"type\": \"scatter\", \"visible\": false, \"x\": [2011, 2012, 2013, 2014, 2015], \"y\": [16351, 17081, 20827, 20708, 20261]}],\n",
       "                        {\"font\": {\"family\": \" Gravitas One, cursive\", \"size\": 17}, \"template\": {\"data\": {\"bar\": [{\"error_x\": {\"color\": \"#2a3f5f\"}, \"error_y\": {\"color\": \"#2a3f5f\"}, \"marker\": {\"line\": {\"color\": \"white\", \"width\": 0.5}}, \"type\": \"bar\"}], \"barpolar\": [{\"marker\": {\"line\": {\"color\": \"white\", \"width\": 0.5}}, \"type\": \"barpolar\"}], \"carpet\": [{\"aaxis\": {\"endlinecolor\": \"#2a3f5f\", \"gridcolor\": \"#C8D4E3\", \"linecolor\": \"#C8D4E3\", \"minorgridcolor\": \"#C8D4E3\", \"startlinecolor\": \"#2a3f5f\"}, \"baxis\": {\"endlinecolor\": \"#2a3f5f\", \"gridcolor\": \"#C8D4E3\", \"linecolor\": \"#C8D4E3\", \"minorgridcolor\": \"#C8D4E3\", \"startlinecolor\": \"#2a3f5f\"}, \"type\": \"carpet\"}], \"choropleth\": [{\"colorbar\": {\"outlinewidth\": 0, \"ticks\": \"\"}, \"type\": \"choropleth\"}], \"contour\": [{\"colorbar\": {\"outlinewidth\": 0, \"ticks\": \"\"}, \"colorscale\": [[0.0, \"#0d0887\"], [0.1111111111111111, \"#46039f\"], [0.2222222222222222, \"#7201a8\"], [0.3333333333333333, \"#9c179e\"], [0.4444444444444444, \"#bd3786\"], [0.5555555555555556, \"#d8576b\"], [0.6666666666666666, \"#ed7953\"], [0.7777777777777778, \"#fb9f3a\"], [0.8888888888888888, \"#fdca26\"], [1.0, \"#f0f921\"]], \"type\": \"contour\"}], \"contourcarpet\": [{\"colorbar\": {\"outlinewidth\": 0, \"ticks\": \"\"}, \"type\": \"contourcarpet\"}], \"heatmap\": [{\"colorbar\": {\"outlinewidth\": 0, \"ticks\": \"\"}, \"colorscale\": [[0.0, \"#0d0887\"], [0.1111111111111111, \"#46039f\"], [0.2222222222222222, \"#7201a8\"], [0.3333333333333333, \"#9c179e\"], [0.4444444444444444, \"#bd3786\"], [0.5555555555555556, \"#d8576b\"], [0.6666666666666666, \"#ed7953\"], [0.7777777777777778, \"#fb9f3a\"], [0.8888888888888888, \"#fdca26\"], [1.0, \"#f0f921\"]], \"type\": \"heatmap\"}], \"heatmapgl\": [{\"colorbar\": {\"outlinewidth\": 0, \"ticks\": \"\"}, \"colorscale\": [[0.0, \"#0d0887\"], [0.1111111111111111, \"#46039f\"], [0.2222222222222222, \"#7201a8\"], [0.3333333333333333, \"#9c179e\"], [0.4444444444444444, \"#bd3786\"], [0.5555555555555556, \"#d8576b\"], [0.6666666666666666, \"#ed7953\"], [0.7777777777777778, \"#fb9f3a\"], [0.8888888888888888, \"#fdca26\"], [1.0, \"#f0f921\"]], \"type\": \"heatmapgl\"}], \"histogram\": [{\"marker\": {\"colorbar\": {\"outlinewidth\": 0, \"ticks\": \"\"}}, \"type\": \"histogram\"}], \"histogram2d\": [{\"colorbar\": {\"outlinewidth\": 0, \"ticks\": \"\"}, \"colorscale\": [[0.0, \"#0d0887\"], [0.1111111111111111, \"#46039f\"], [0.2222222222222222, \"#7201a8\"], [0.3333333333333333, \"#9c179e\"], [0.4444444444444444, \"#bd3786\"], [0.5555555555555556, \"#d8576b\"], [0.6666666666666666, \"#ed7953\"], [0.7777777777777778, \"#fb9f3a\"], [0.8888888888888888, \"#fdca26\"], [1.0, \"#f0f921\"]], \"type\": \"histogram2d\"}], \"histogram2dcontour\": [{\"colorbar\": {\"outlinewidth\": 0, \"ticks\": \"\"}, \"colorscale\": [[0.0, \"#0d0887\"], [0.1111111111111111, \"#46039f\"], [0.2222222222222222, \"#7201a8\"], [0.3333333333333333, \"#9c179e\"], [0.4444444444444444, \"#bd3786\"], [0.5555555555555556, \"#d8576b\"], [0.6666666666666666, \"#ed7953\"], [0.7777777777777778, \"#fb9f3a\"], [0.8888888888888888, \"#fdca26\"], [1.0, \"#f0f921\"]], \"type\": \"histogram2dcontour\"}], \"mesh3d\": [{\"colorbar\": {\"outlinewidth\": 0, \"ticks\": \"\"}, \"type\": \"mesh3d\"}], \"parcoords\": [{\"line\": {\"colorbar\": {\"outlinewidth\": 0, \"ticks\": \"\"}}, \"type\": \"parcoords\"}], \"pie\": [{\"automargin\": true, \"type\": \"pie\"}], \"scatter\": [{\"marker\": {\"colorbar\": {\"outlinewidth\": 0, \"ticks\": \"\"}}, \"type\": \"scatter\"}], \"scatter3d\": [{\"line\": {\"colorbar\": {\"outlinewidth\": 0, \"ticks\": \"\"}}, \"marker\": {\"colorbar\": {\"outlinewidth\": 0, \"ticks\": \"\"}}, \"type\": \"scatter3d\"}], \"scattercarpet\": [{\"marker\": {\"colorbar\": {\"outlinewidth\": 0, \"ticks\": \"\"}}, \"type\": \"scattercarpet\"}], \"scattergeo\": [{\"marker\": {\"colorbar\": {\"outlinewidth\": 0, \"ticks\": \"\"}}, \"type\": \"scattergeo\"}], \"scattergl\": [{\"marker\": {\"colorbar\": {\"outlinewidth\": 0, \"ticks\": \"\"}}, \"type\": \"scattergl\"}], \"scattermapbox\": [{\"marker\": {\"colorbar\": {\"outlinewidth\": 0, \"ticks\": \"\"}}, \"type\": \"scattermapbox\"}], \"scatterpolar\": [{\"marker\": {\"colorbar\": {\"outlinewidth\": 0, \"ticks\": \"\"}}, \"type\": \"scatterpolar\"}], \"scatterpolargl\": [{\"marker\": {\"colorbar\": {\"outlinewidth\": 0, \"ticks\": \"\"}}, \"type\": \"scatterpolargl\"}], \"scatterternary\": [{\"marker\": {\"colorbar\": {\"outlinewidth\": 0, \"ticks\": \"\"}}, \"type\": \"scatterternary\"}], \"surface\": [{\"colorbar\": {\"outlinewidth\": 0, \"ticks\": \"\"}, \"colorscale\": [[0.0, \"#0d0887\"], [0.1111111111111111, \"#46039f\"], [0.2222222222222222, \"#7201a8\"], [0.3333333333333333, \"#9c179e\"], [0.4444444444444444, \"#bd3786\"], [0.5555555555555556, \"#d8576b\"], [0.6666666666666666, \"#ed7953\"], [0.7777777777777778, \"#fb9f3a\"], [0.8888888888888888, \"#fdca26\"], [1.0, \"#f0f921\"]], \"type\": \"surface\"}], \"table\": [{\"cells\": {\"fill\": {\"color\": \"#EBF0F8\"}, \"line\": {\"color\": \"white\"}}, \"header\": {\"fill\": {\"color\": \"#C8D4E3\"}, \"line\": {\"color\": \"white\"}}, \"type\": \"table\"}]}, \"layout\": {\"annotationdefaults\": {\"arrowcolor\": \"#2a3f5f\", \"arrowhead\": 0, \"arrowwidth\": 1}, \"coloraxis\": {\"colorbar\": {\"outlinewidth\": 0, \"ticks\": \"\"}}, \"colorscale\": {\"diverging\": [[0, \"#8e0152\"], [0.1, \"#c51b7d\"], [0.2, \"#de77ae\"], [0.3, \"#f1b6da\"], [0.4, \"#fde0ef\"], [0.5, \"#f7f7f7\"], [0.6, \"#e6f5d0\"], [0.7, \"#b8e186\"], [0.8, \"#7fbc41\"], [0.9, \"#4d9221\"], [1, \"#276419\"]], \"sequential\": [[0.0, \"#0d0887\"], [0.1111111111111111, \"#46039f\"], [0.2222222222222222, \"#7201a8\"], [0.3333333333333333, \"#9c179e\"], [0.4444444444444444, \"#bd3786\"], [0.5555555555555556, \"#d8576b\"], [0.6666666666666666, \"#ed7953\"], [0.7777777777777778, \"#fb9f3a\"], [0.8888888888888888, \"#fdca26\"], [1.0, \"#f0f921\"]], \"sequentialminus\": [[0.0, \"#0d0887\"], [0.1111111111111111, \"#46039f\"], [0.2222222222222222, \"#7201a8\"], [0.3333333333333333, \"#9c179e\"], [0.4444444444444444, \"#bd3786\"], [0.5555555555555556, \"#d8576b\"], [0.6666666666666666, \"#ed7953\"], [0.7777777777777778, \"#fb9f3a\"], [0.8888888888888888, \"#fdca26\"], [1.0, \"#f0f921\"]]}, \"colorway\": [\"#636efa\", \"#EF553B\", \"#00cc96\", \"#ab63fa\", \"#FFA15A\", \"#19d3f3\", \"#FF6692\", \"#B6E880\", \"#FF97FF\", \"#FECB52\"], \"font\": {\"color\": \"#2a3f5f\"}, \"geo\": {\"bgcolor\": \"white\", \"lakecolor\": \"white\", \"landcolor\": \"white\", \"showlakes\": true, \"showland\": true, \"subunitcolor\": \"#C8D4E3\"}, \"hoverlabel\": {\"align\": \"left\"}, \"hovermode\": \"closest\", \"mapbox\": {\"style\": \"light\"}, \"paper_bgcolor\": \"white\", \"plot_bgcolor\": \"white\", \"polar\": {\"angularaxis\": {\"gridcolor\": \"#EBF0F8\", \"linecolor\": \"#EBF0F8\", \"ticks\": \"\"}, \"bgcolor\": \"white\", \"radialaxis\": {\"gridcolor\": \"#EBF0F8\", \"linecolor\": \"#EBF0F8\", \"ticks\": \"\"}}, \"scene\": {\"xaxis\": {\"backgroundcolor\": \"white\", \"gridcolor\": \"#DFE8F3\", \"gridwidth\": 2, \"linecolor\": \"#EBF0F8\", \"showbackground\": true, \"ticks\": \"\", \"zerolinecolor\": \"#EBF0F8\"}, \"yaxis\": {\"backgroundcolor\": \"white\", \"gridcolor\": \"#DFE8F3\", \"gridwidth\": 2, \"linecolor\": \"#EBF0F8\", \"showbackground\": true, \"ticks\": \"\", \"zerolinecolor\": \"#EBF0F8\"}, \"zaxis\": {\"backgroundcolor\": \"white\", \"gridcolor\": \"#DFE8F3\", \"gridwidth\": 2, \"linecolor\": \"#EBF0F8\", \"showbackground\": true, \"ticks\": \"\", \"zerolinecolor\": \"#EBF0F8\"}}, \"shapedefaults\": {\"line\": {\"color\": \"#2a3f5f\"}}, \"ternary\": {\"aaxis\": {\"gridcolor\": \"#DFE8F3\", \"linecolor\": \"#A2B1C6\", \"ticks\": \"\"}, \"baxis\": {\"gridcolor\": \"#DFE8F3\", \"linecolor\": \"#A2B1C6\", \"ticks\": \"\"}, \"bgcolor\": \"white\", \"caxis\": {\"gridcolor\": \"#DFE8F3\", \"linecolor\": \"#A2B1C6\", \"ticks\": \"\"}}, \"title\": {\"x\": 0.05}, \"xaxis\": {\"automargin\": true, \"gridcolor\": \"#EBF0F8\", \"linecolor\": \"#EBF0F8\", \"ticks\": \"\", \"title\": {\"standoff\": 15}, \"zerolinecolor\": \"#EBF0F8\", \"zerolinewidth\": 2}, \"yaxis\": {\"automargin\": true, \"gridcolor\": \"#EBF0F8\", \"linecolor\": \"#EBF0F8\", \"ticks\": \"\", \"title\": {\"standoff\": 15}, \"zerolinecolor\": \"#EBF0F8\", \"zerolinewidth\": 2}}}, \"title\": {\"text\": \"\"}, \"updatemenus\": [{\"buttons\": [{\"args\": [{\"visible\": [true, false]}], \"label\": \"                                                             Nombre de maison de culture                                               \", \"method\": \"update\"}, {\"args\": [{\"visible\": [false, true]}], \"label\": \"                                                             Nombre des inscrits\", \"method\": \"update\"}], \"x\": 1.0, \"y\": 1.18}]},\n",
       "                        {\"responsive\": true}\n",
       "                    ).then(function(){\n",
       "                            \n",
       "var gd = document.getElementById('d157a300-bedf-4b8d-9b0e-0cde00d34996');\n",
       "var x = new MutationObserver(function (mutations, observer) {{\n",
       "        var display = window.getComputedStyle(gd).display;\n",
       "        if (!display || display === 'none') {{\n",
       "            console.log([gd, 'removed!']);\n",
       "            Plotly.purge(gd);\n",
       "            observer.disconnect();\n",
       "        }}\n",
       "}});\n",
       "\n",
       "// Listen for the removal of the full notebook cells\n",
       "var notebookContainer = gd.closest('#notebook-container');\n",
       "if (notebookContainer) {{\n",
       "    x.observe(notebookContainer, {childList: true});\n",
       "}}\n",
       "\n",
       "// Listen for the clearing of the current output cell\n",
       "var outputEl = gd.closest('.output');\n",
       "if (outputEl) {{\n",
       "    x.observe(outputEl, {childList: true});\n",
       "}}\n",
       "\n",
       "                        })\n",
       "                };\n",
       "                });\n",
       "            </script>\n",
       "        </div>"
      ]
     },
     "metadata": {},
     "output_type": "display_data"
    }
   ],
   "source": [
    "df10=pd.read_csv('guide-des-maisons-de-la-culture.csv')\n",
    "\n",
    "data_bar=[ go.Scatter(name='Nombre de maison de culture',\n",
    "           visible=True,\n",
    "           x=df10['Annee'], \n",
    "           y=df10['Nb-mc'],\n",
    "           marker_color='Pink'),\n",
    "          \n",
    "         go.Scatter(name='Nombre des inscrits',\n",
    "           visible=False,\n",
    "           x=df10['Annee'], \n",
    "           y= df10['Nb-inscrits'],\n",
    "          marker_color='royalblue'),\n",
    "         \n",
    "        ]\n",
    "\n",
    "list_updatemenus=[\n",
    "        {'args':[{\"visible\":[True,False]}],\n",
    "         'label':\"                                                             Nombre de maison de culture                                               \",\n",
    "         'method':\"update\"},\n",
    "    \n",
    "        {'args':[{\"visible\":[False,True]}],\n",
    "         'label':\"                                                             Nombre des inscrits\",\n",
    "         'method':\"update\"},\n",
    "    \n",
    "\n",
    "         ]\n",
    "layout_bar=go.Layout(updatemenus=list([dict(buttons= list_updatemenus,x=1.0,y=1.18)]),\n",
    "                     title_text=\"\",\n",
    "                     template='plotly_white',\n",
    "                     font=dict(\n",
    "                    family=\" Gravitas One, cursive\",\n",
    "                    size=17))\n",
    "\n",
    "#defining figure and plotting\n",
    "nbre_MC_inscrits = go.Figure(data_bar,layout_bar)\n",
    "nbre_MC_inscrits.show()\n"
   ]
  },
  {
   "cell_type": "code",
   "execution_count": 8,
   "metadata": {},
   "outputs": [
    {
     "data": {
      "application/vnd.plotly.v1+json": {
       "config": {
        "plotlyServerURL": "https://plot.ly"
       },
       "data": [
        {
         "marker": {
          "color": "royalblue"
         },
         "name": "2018",
         "type": "bar",
         "x": [
          "maison de culture nabeul",
          "maison de culture grombalia ",
          "maison de culture korba ",
          "maison de culture tekelssa ",
          "maison de culture tazerka ",
          "maison de culture elhawaria ",
          "maison de culture menzel temime ",
          "maison de culture kelibia ",
          "centre culturelle niapolis "
         ],
         "y": [
          12,
          9,
          5,
          8,
          8,
          5,
          12,
          5,
          8
         ]
        },
        {
         "marker": {
          "color": "Silver"
         },
         "name": "2019",
         "type": "bar",
         "x": [
          "maison de culture nabeul",
          "maison de culture grombalia ",
          "maison de culture korba ",
          "maison de culture tekelssa ",
          "maison de culture tazerka ",
          "maison de culture elhawaria ",
          "maison de culture menzel temime ",
          "maison de culture kelibia ",
          "centre culturelle niapolis "
         ],
         "y": [
          7,
          8,
          6,
          6,
          9,
          7,
          9,
          5,
          9
         ]
        }
       ],
       "layout": {
        "barmode": "group",
        "height": 700,
        "template": {
         "data": {
          "bar": [
           {
            "error_x": {
             "color": "#2a3f5f"
            },
            "error_y": {
             "color": "#2a3f5f"
            },
            "marker": {
             "line": {
              "color": "#E5ECF6",
              "width": 0.5
             }
            },
            "type": "bar"
           }
          ],
          "barpolar": [
           {
            "marker": {
             "line": {
              "color": "#E5ECF6",
              "width": 0.5
             }
            },
            "type": "barpolar"
           }
          ],
          "carpet": [
           {
            "aaxis": {
             "endlinecolor": "#2a3f5f",
             "gridcolor": "white",
             "linecolor": "white",
             "minorgridcolor": "white",
             "startlinecolor": "#2a3f5f"
            },
            "baxis": {
             "endlinecolor": "#2a3f5f",
             "gridcolor": "white",
             "linecolor": "white",
             "minorgridcolor": "white",
             "startlinecolor": "#2a3f5f"
            },
            "type": "carpet"
           }
          ],
          "choropleth": [
           {
            "colorbar": {
             "outlinewidth": 0,
             "ticks": ""
            },
            "type": "choropleth"
           }
          ],
          "contour": [
           {
            "colorbar": {
             "outlinewidth": 0,
             "ticks": ""
            },
            "colorscale": [
             [
              0,
              "#0d0887"
             ],
             [
              0.1111111111111111,
              "#46039f"
             ],
             [
              0.2222222222222222,
              "#7201a8"
             ],
             [
              0.3333333333333333,
              "#9c179e"
             ],
             [
              0.4444444444444444,
              "#bd3786"
             ],
             [
              0.5555555555555556,
              "#d8576b"
             ],
             [
              0.6666666666666666,
              "#ed7953"
             ],
             [
              0.7777777777777778,
              "#fb9f3a"
             ],
             [
              0.8888888888888888,
              "#fdca26"
             ],
             [
              1,
              "#f0f921"
             ]
            ],
            "type": "contour"
           }
          ],
          "contourcarpet": [
           {
            "colorbar": {
             "outlinewidth": 0,
             "ticks": ""
            },
            "type": "contourcarpet"
           }
          ],
          "heatmap": [
           {
            "colorbar": {
             "outlinewidth": 0,
             "ticks": ""
            },
            "colorscale": [
             [
              0,
              "#0d0887"
             ],
             [
              0.1111111111111111,
              "#46039f"
             ],
             [
              0.2222222222222222,
              "#7201a8"
             ],
             [
              0.3333333333333333,
              "#9c179e"
             ],
             [
              0.4444444444444444,
              "#bd3786"
             ],
             [
              0.5555555555555556,
              "#d8576b"
             ],
             [
              0.6666666666666666,
              "#ed7953"
             ],
             [
              0.7777777777777778,
              "#fb9f3a"
             ],
             [
              0.8888888888888888,
              "#fdca26"
             ],
             [
              1,
              "#f0f921"
             ]
            ],
            "type": "heatmap"
           }
          ],
          "heatmapgl": [
           {
            "colorbar": {
             "outlinewidth": 0,
             "ticks": ""
            },
            "colorscale": [
             [
              0,
              "#0d0887"
             ],
             [
              0.1111111111111111,
              "#46039f"
             ],
             [
              0.2222222222222222,
              "#7201a8"
             ],
             [
              0.3333333333333333,
              "#9c179e"
             ],
             [
              0.4444444444444444,
              "#bd3786"
             ],
             [
              0.5555555555555556,
              "#d8576b"
             ],
             [
              0.6666666666666666,
              "#ed7953"
             ],
             [
              0.7777777777777778,
              "#fb9f3a"
             ],
             [
              0.8888888888888888,
              "#fdca26"
             ],
             [
              1,
              "#f0f921"
             ]
            ],
            "type": "heatmapgl"
           }
          ],
          "histogram": [
           {
            "marker": {
             "colorbar": {
              "outlinewidth": 0,
              "ticks": ""
             }
            },
            "type": "histogram"
           }
          ],
          "histogram2d": [
           {
            "colorbar": {
             "outlinewidth": 0,
             "ticks": ""
            },
            "colorscale": [
             [
              0,
              "#0d0887"
             ],
             [
              0.1111111111111111,
              "#46039f"
             ],
             [
              0.2222222222222222,
              "#7201a8"
             ],
             [
              0.3333333333333333,
              "#9c179e"
             ],
             [
              0.4444444444444444,
              "#bd3786"
             ],
             [
              0.5555555555555556,
              "#d8576b"
             ],
             [
              0.6666666666666666,
              "#ed7953"
             ],
             [
              0.7777777777777778,
              "#fb9f3a"
             ],
             [
              0.8888888888888888,
              "#fdca26"
             ],
             [
              1,
              "#f0f921"
             ]
            ],
            "type": "histogram2d"
           }
          ],
          "histogram2dcontour": [
           {
            "colorbar": {
             "outlinewidth": 0,
             "ticks": ""
            },
            "colorscale": [
             [
              0,
              "#0d0887"
             ],
             [
              0.1111111111111111,
              "#46039f"
             ],
             [
              0.2222222222222222,
              "#7201a8"
             ],
             [
              0.3333333333333333,
              "#9c179e"
             ],
             [
              0.4444444444444444,
              "#bd3786"
             ],
             [
              0.5555555555555556,
              "#d8576b"
             ],
             [
              0.6666666666666666,
              "#ed7953"
             ],
             [
              0.7777777777777778,
              "#fb9f3a"
             ],
             [
              0.8888888888888888,
              "#fdca26"
             ],
             [
              1,
              "#f0f921"
             ]
            ],
            "type": "histogram2dcontour"
           }
          ],
          "mesh3d": [
           {
            "colorbar": {
             "outlinewidth": 0,
             "ticks": ""
            },
            "type": "mesh3d"
           }
          ],
          "parcoords": [
           {
            "line": {
             "colorbar": {
              "outlinewidth": 0,
              "ticks": ""
             }
            },
            "type": "parcoords"
           }
          ],
          "pie": [
           {
            "automargin": true,
            "type": "pie"
           }
          ],
          "scatter": [
           {
            "marker": {
             "colorbar": {
              "outlinewidth": 0,
              "ticks": ""
             }
            },
            "type": "scatter"
           }
          ],
          "scatter3d": [
           {
            "line": {
             "colorbar": {
              "outlinewidth": 0,
              "ticks": ""
             }
            },
            "marker": {
             "colorbar": {
              "outlinewidth": 0,
              "ticks": ""
             }
            },
            "type": "scatter3d"
           }
          ],
          "scattercarpet": [
           {
            "marker": {
             "colorbar": {
              "outlinewidth": 0,
              "ticks": ""
             }
            },
            "type": "scattercarpet"
           }
          ],
          "scattergeo": [
           {
            "marker": {
             "colorbar": {
              "outlinewidth": 0,
              "ticks": ""
             }
            },
            "type": "scattergeo"
           }
          ],
          "scattergl": [
           {
            "marker": {
             "colorbar": {
              "outlinewidth": 0,
              "ticks": ""
             }
            },
            "type": "scattergl"
           }
          ],
          "scattermapbox": [
           {
            "marker": {
             "colorbar": {
              "outlinewidth": 0,
              "ticks": ""
             }
            },
            "type": "scattermapbox"
           }
          ],
          "scatterpolar": [
           {
            "marker": {
             "colorbar": {
              "outlinewidth": 0,
              "ticks": ""
             }
            },
            "type": "scatterpolar"
           }
          ],
          "scatterpolargl": [
           {
            "marker": {
             "colorbar": {
              "outlinewidth": 0,
              "ticks": ""
             }
            },
            "type": "scatterpolargl"
           }
          ],
          "scatterternary": [
           {
            "marker": {
             "colorbar": {
              "outlinewidth": 0,
              "ticks": ""
             }
            },
            "type": "scatterternary"
           }
          ],
          "surface": [
           {
            "colorbar": {
             "outlinewidth": 0,
             "ticks": ""
            },
            "colorscale": [
             [
              0,
              "#0d0887"
             ],
             [
              0.1111111111111111,
              "#46039f"
             ],
             [
              0.2222222222222222,
              "#7201a8"
             ],
             [
              0.3333333333333333,
              "#9c179e"
             ],
             [
              0.4444444444444444,
              "#bd3786"
             ],
             [
              0.5555555555555556,
              "#d8576b"
             ],
             [
              0.6666666666666666,
              "#ed7953"
             ],
             [
              0.7777777777777778,
              "#fb9f3a"
             ],
             [
              0.8888888888888888,
              "#fdca26"
             ],
             [
              1,
              "#f0f921"
             ]
            ],
            "type": "surface"
           }
          ],
          "table": [
           {
            "cells": {
             "fill": {
              "color": "#EBF0F8"
             },
             "line": {
              "color": "white"
             }
            },
            "header": {
             "fill": {
              "color": "#C8D4E3"
             },
             "line": {
              "color": "white"
             }
            },
            "type": "table"
           }
          ]
         },
         "layout": {
          "annotationdefaults": {
           "arrowcolor": "#2a3f5f",
           "arrowhead": 0,
           "arrowwidth": 1
          },
          "coloraxis": {
           "colorbar": {
            "outlinewidth": 0,
            "ticks": ""
           }
          },
          "colorscale": {
           "diverging": [
            [
             0,
             "#8e0152"
            ],
            [
             0.1,
             "#c51b7d"
            ],
            [
             0.2,
             "#de77ae"
            ],
            [
             0.3,
             "#f1b6da"
            ],
            [
             0.4,
             "#fde0ef"
            ],
            [
             0.5,
             "#f7f7f7"
            ],
            [
             0.6,
             "#e6f5d0"
            ],
            [
             0.7,
             "#b8e186"
            ],
            [
             0.8,
             "#7fbc41"
            ],
            [
             0.9,
             "#4d9221"
            ],
            [
             1,
             "#276419"
            ]
           ],
           "sequential": [
            [
             0,
             "#0d0887"
            ],
            [
             0.1111111111111111,
             "#46039f"
            ],
            [
             0.2222222222222222,
             "#7201a8"
            ],
            [
             0.3333333333333333,
             "#9c179e"
            ],
            [
             0.4444444444444444,
             "#bd3786"
            ],
            [
             0.5555555555555556,
             "#d8576b"
            ],
            [
             0.6666666666666666,
             "#ed7953"
            ],
            [
             0.7777777777777778,
             "#fb9f3a"
            ],
            [
             0.8888888888888888,
             "#fdca26"
            ],
            [
             1,
             "#f0f921"
            ]
           ],
           "sequentialminus": [
            [
             0,
             "#0d0887"
            ],
            [
             0.1111111111111111,
             "#46039f"
            ],
            [
             0.2222222222222222,
             "#7201a8"
            ],
            [
             0.3333333333333333,
             "#9c179e"
            ],
            [
             0.4444444444444444,
             "#bd3786"
            ],
            [
             0.5555555555555556,
             "#d8576b"
            ],
            [
             0.6666666666666666,
             "#ed7953"
            ],
            [
             0.7777777777777778,
             "#fb9f3a"
            ],
            [
             0.8888888888888888,
             "#fdca26"
            ],
            [
             1,
             "#f0f921"
            ]
           ]
          },
          "colorway": [
           "#636efa",
           "#EF553B",
           "#00cc96",
           "#ab63fa",
           "#FFA15A",
           "#19d3f3",
           "#FF6692",
           "#B6E880",
           "#FF97FF",
           "#FECB52"
          ],
          "font": {
           "color": "#2a3f5f"
          },
          "geo": {
           "bgcolor": "white",
           "lakecolor": "white",
           "landcolor": "#E5ECF6",
           "showlakes": true,
           "showland": true,
           "subunitcolor": "white"
          },
          "hoverlabel": {
           "align": "left"
          },
          "hovermode": "closest",
          "mapbox": {
           "style": "light"
          },
          "paper_bgcolor": "white",
          "plot_bgcolor": "#E5ECF6",
          "polar": {
           "angularaxis": {
            "gridcolor": "white",
            "linecolor": "white",
            "ticks": ""
           },
           "bgcolor": "#E5ECF6",
           "radialaxis": {
            "gridcolor": "white",
            "linecolor": "white",
            "ticks": ""
           }
          },
          "scene": {
           "xaxis": {
            "backgroundcolor": "#E5ECF6",
            "gridcolor": "white",
            "gridwidth": 2,
            "linecolor": "white",
            "showbackground": true,
            "ticks": "",
            "zerolinecolor": "white"
           },
           "yaxis": {
            "backgroundcolor": "#E5ECF6",
            "gridcolor": "white",
            "gridwidth": 2,
            "linecolor": "white",
            "showbackground": true,
            "ticks": "",
            "zerolinecolor": "white"
           },
           "zaxis": {
            "backgroundcolor": "#E5ECF6",
            "gridcolor": "white",
            "gridwidth": 2,
            "linecolor": "white",
            "showbackground": true,
            "ticks": "",
            "zerolinecolor": "white"
           }
          },
          "shapedefaults": {
           "line": {
            "color": "#2a3f5f"
           }
          },
          "ternary": {
           "aaxis": {
            "gridcolor": "white",
            "linecolor": "white",
            "ticks": ""
           },
           "baxis": {
            "gridcolor": "white",
            "linecolor": "white",
            "ticks": ""
           },
           "bgcolor": "#E5ECF6",
           "caxis": {
            "gridcolor": "white",
            "linecolor": "white",
            "ticks": ""
           }
          },
          "title": {
           "x": 0.05
          },
          "xaxis": {
           "automargin": true,
           "gridcolor": "white",
           "linecolor": "white",
           "ticks": "",
           "title": {
            "standoff": 15
           },
           "zerolinecolor": "white",
           "zerolinewidth": 2
          },
          "yaxis": {
           "automargin": true,
           "gridcolor": "white",
           "linecolor": "white",
           "ticks": "",
           "title": {
            "standoff": 15
           },
           "zerolinecolor": "white",
           "zerolinewidth": 2
          }
         }
        },
        "title": {
         "text": ""
        }
       }
      },
      "text/html": [
       "<div>\n",
       "        \n",
       "        \n",
       "            <div id=\"c3a81f6f-116d-48b7-b0ae-8bcbd1816bbc\" class=\"plotly-graph-div\" style=\"height:700px; width:100%;\"></div>\n",
       "            <script type=\"text/javascript\">\n",
       "                require([\"plotly\"], function(Plotly) {\n",
       "                    window.PLOTLYENV=window.PLOTLYENV || {};\n",
       "                    \n",
       "                if (document.getElementById(\"c3a81f6f-116d-48b7-b0ae-8bcbd1816bbc\")) {\n",
       "                    Plotly.newPlot(\n",
       "                        'c3a81f6f-116d-48b7-b0ae-8bcbd1816bbc',\n",
       "                        [{\"marker\": {\"color\": \"royalblue\"}, \"name\": \"2018\", \"type\": \"bar\", \"x\": [\"maison de culture nabeul\", \"maison de culture grombalia \", \"maison de culture korba \", \"maison de culture tekelssa \", \"maison de culture tazerka \", \"maison de culture elhawaria \", \"maison de culture menzel temime \", \"maison de culture kelibia \", \"centre culturelle niapolis \"], \"y\": [12, 9, 5, 8, 8, 5, 12, 5, 8]}, {\"marker\": {\"color\": \"Silver\"}, \"name\": \"2019\", \"type\": \"bar\", \"x\": [\"maison de culture nabeul\", \"maison de culture grombalia \", \"maison de culture korba \", \"maison de culture tekelssa \", \"maison de culture tazerka \", \"maison de culture elhawaria \", \"maison de culture menzel temime \", \"maison de culture kelibia \", \"centre culturelle niapolis \"], \"y\": [7, 8, 6, 6, 9, 7, 9, 5, 9]}],\n",
       "                        {\"barmode\": \"group\", \"height\": 700, \"template\": {\"data\": {\"bar\": [{\"error_x\": {\"color\": \"#2a3f5f\"}, \"error_y\": {\"color\": \"#2a3f5f\"}, \"marker\": {\"line\": {\"color\": \"#E5ECF6\", \"width\": 0.5}}, \"type\": \"bar\"}], \"barpolar\": [{\"marker\": {\"line\": {\"color\": \"#E5ECF6\", \"width\": 0.5}}, \"type\": \"barpolar\"}], \"carpet\": [{\"aaxis\": {\"endlinecolor\": \"#2a3f5f\", \"gridcolor\": \"white\", \"linecolor\": \"white\", \"minorgridcolor\": \"white\", \"startlinecolor\": \"#2a3f5f\"}, \"baxis\": {\"endlinecolor\": \"#2a3f5f\", \"gridcolor\": \"white\", \"linecolor\": \"white\", \"minorgridcolor\": \"white\", \"startlinecolor\": \"#2a3f5f\"}, \"type\": \"carpet\"}], \"choropleth\": [{\"colorbar\": {\"outlinewidth\": 0, \"ticks\": \"\"}, \"type\": \"choropleth\"}], \"contour\": [{\"colorbar\": {\"outlinewidth\": 0, \"ticks\": \"\"}, \"colorscale\": [[0.0, \"#0d0887\"], [0.1111111111111111, \"#46039f\"], [0.2222222222222222, \"#7201a8\"], [0.3333333333333333, \"#9c179e\"], [0.4444444444444444, \"#bd3786\"], [0.5555555555555556, \"#d8576b\"], [0.6666666666666666, \"#ed7953\"], [0.7777777777777778, \"#fb9f3a\"], [0.8888888888888888, \"#fdca26\"], [1.0, \"#f0f921\"]], \"type\": \"contour\"}], \"contourcarpet\": [{\"colorbar\": {\"outlinewidth\": 0, \"ticks\": \"\"}, \"type\": \"contourcarpet\"}], \"heatmap\": [{\"colorbar\": {\"outlinewidth\": 0, \"ticks\": \"\"}, \"colorscale\": [[0.0, \"#0d0887\"], [0.1111111111111111, \"#46039f\"], [0.2222222222222222, \"#7201a8\"], [0.3333333333333333, \"#9c179e\"], [0.4444444444444444, \"#bd3786\"], [0.5555555555555556, \"#d8576b\"], [0.6666666666666666, \"#ed7953\"], [0.7777777777777778, \"#fb9f3a\"], [0.8888888888888888, \"#fdca26\"], [1.0, \"#f0f921\"]], \"type\": \"heatmap\"}], \"heatmapgl\": [{\"colorbar\": {\"outlinewidth\": 0, \"ticks\": \"\"}, \"colorscale\": [[0.0, \"#0d0887\"], [0.1111111111111111, \"#46039f\"], [0.2222222222222222, \"#7201a8\"], [0.3333333333333333, \"#9c179e\"], [0.4444444444444444, \"#bd3786\"], [0.5555555555555556, \"#d8576b\"], [0.6666666666666666, \"#ed7953\"], [0.7777777777777778, \"#fb9f3a\"], [0.8888888888888888, \"#fdca26\"], [1.0, \"#f0f921\"]], \"type\": \"heatmapgl\"}], \"histogram\": [{\"marker\": {\"colorbar\": {\"outlinewidth\": 0, \"ticks\": \"\"}}, \"type\": \"histogram\"}], \"histogram2d\": [{\"colorbar\": {\"outlinewidth\": 0, \"ticks\": \"\"}, \"colorscale\": [[0.0, \"#0d0887\"], [0.1111111111111111, \"#46039f\"], [0.2222222222222222, \"#7201a8\"], [0.3333333333333333, \"#9c179e\"], [0.4444444444444444, \"#bd3786\"], [0.5555555555555556, \"#d8576b\"], [0.6666666666666666, \"#ed7953\"], [0.7777777777777778, \"#fb9f3a\"], [0.8888888888888888, \"#fdca26\"], [1.0, \"#f0f921\"]], \"type\": \"histogram2d\"}], \"histogram2dcontour\": [{\"colorbar\": {\"outlinewidth\": 0, \"ticks\": \"\"}, \"colorscale\": [[0.0, \"#0d0887\"], [0.1111111111111111, \"#46039f\"], [0.2222222222222222, \"#7201a8\"], [0.3333333333333333, \"#9c179e\"], [0.4444444444444444, \"#bd3786\"], [0.5555555555555556, \"#d8576b\"], [0.6666666666666666, \"#ed7953\"], [0.7777777777777778, \"#fb9f3a\"], [0.8888888888888888, \"#fdca26\"], [1.0, \"#f0f921\"]], \"type\": \"histogram2dcontour\"}], \"mesh3d\": [{\"colorbar\": {\"outlinewidth\": 0, \"ticks\": \"\"}, \"type\": \"mesh3d\"}], \"parcoords\": [{\"line\": {\"colorbar\": {\"outlinewidth\": 0, \"ticks\": \"\"}}, \"type\": \"parcoords\"}], \"pie\": [{\"automargin\": true, \"type\": \"pie\"}], \"scatter\": [{\"marker\": {\"colorbar\": {\"outlinewidth\": 0, \"ticks\": \"\"}}, \"type\": \"scatter\"}], \"scatter3d\": [{\"line\": {\"colorbar\": {\"outlinewidth\": 0, \"ticks\": \"\"}}, \"marker\": {\"colorbar\": {\"outlinewidth\": 0, \"ticks\": \"\"}}, \"type\": \"scatter3d\"}], \"scattercarpet\": [{\"marker\": {\"colorbar\": {\"outlinewidth\": 0, \"ticks\": \"\"}}, \"type\": \"scattercarpet\"}], \"scattergeo\": [{\"marker\": {\"colorbar\": {\"outlinewidth\": 0, \"ticks\": \"\"}}, \"type\": \"scattergeo\"}], \"scattergl\": [{\"marker\": {\"colorbar\": {\"outlinewidth\": 0, \"ticks\": \"\"}}, \"type\": \"scattergl\"}], \"scattermapbox\": [{\"marker\": {\"colorbar\": {\"outlinewidth\": 0, \"ticks\": \"\"}}, \"type\": \"scattermapbox\"}], \"scatterpolar\": [{\"marker\": {\"colorbar\": {\"outlinewidth\": 0, \"ticks\": \"\"}}, \"type\": \"scatterpolar\"}], \"scatterpolargl\": [{\"marker\": {\"colorbar\": {\"outlinewidth\": 0, \"ticks\": \"\"}}, \"type\": \"scatterpolargl\"}], \"scatterternary\": [{\"marker\": {\"colorbar\": {\"outlinewidth\": 0, \"ticks\": \"\"}}, \"type\": \"scatterternary\"}], \"surface\": [{\"colorbar\": {\"outlinewidth\": 0, \"ticks\": \"\"}, \"colorscale\": [[0.0, \"#0d0887\"], [0.1111111111111111, \"#46039f\"], [0.2222222222222222, \"#7201a8\"], [0.3333333333333333, \"#9c179e\"], [0.4444444444444444, \"#bd3786\"], [0.5555555555555556, \"#d8576b\"], [0.6666666666666666, \"#ed7953\"], [0.7777777777777778, \"#fb9f3a\"], [0.8888888888888888, \"#fdca26\"], [1.0, \"#f0f921\"]], \"type\": \"surface\"}], \"table\": [{\"cells\": {\"fill\": {\"color\": \"#EBF0F8\"}, \"line\": {\"color\": \"white\"}}, \"header\": {\"fill\": {\"color\": \"#C8D4E3\"}, \"line\": {\"color\": \"white\"}}, \"type\": \"table\"}]}, \"layout\": {\"annotationdefaults\": {\"arrowcolor\": \"#2a3f5f\", \"arrowhead\": 0, \"arrowwidth\": 1}, \"coloraxis\": {\"colorbar\": {\"outlinewidth\": 0, \"ticks\": \"\"}}, \"colorscale\": {\"diverging\": [[0, \"#8e0152\"], [0.1, \"#c51b7d\"], [0.2, \"#de77ae\"], [0.3, \"#f1b6da\"], [0.4, \"#fde0ef\"], [0.5, \"#f7f7f7\"], [0.6, \"#e6f5d0\"], [0.7, \"#b8e186\"], [0.8, \"#7fbc41\"], [0.9, \"#4d9221\"], [1, \"#276419\"]], \"sequential\": [[0.0, \"#0d0887\"], [0.1111111111111111, \"#46039f\"], [0.2222222222222222, \"#7201a8\"], [0.3333333333333333, \"#9c179e\"], [0.4444444444444444, \"#bd3786\"], [0.5555555555555556, \"#d8576b\"], [0.6666666666666666, \"#ed7953\"], [0.7777777777777778, \"#fb9f3a\"], [0.8888888888888888, \"#fdca26\"], [1.0, \"#f0f921\"]], \"sequentialminus\": [[0.0, \"#0d0887\"], [0.1111111111111111, \"#46039f\"], [0.2222222222222222, \"#7201a8\"], [0.3333333333333333, \"#9c179e\"], [0.4444444444444444, \"#bd3786\"], [0.5555555555555556, \"#d8576b\"], [0.6666666666666666, \"#ed7953\"], [0.7777777777777778, \"#fb9f3a\"], [0.8888888888888888, \"#fdca26\"], [1.0, \"#f0f921\"]]}, \"colorway\": [\"#636efa\", \"#EF553B\", \"#00cc96\", \"#ab63fa\", \"#FFA15A\", \"#19d3f3\", \"#FF6692\", \"#B6E880\", \"#FF97FF\", \"#FECB52\"], \"font\": {\"color\": \"#2a3f5f\"}, \"geo\": {\"bgcolor\": \"white\", \"lakecolor\": \"white\", \"landcolor\": \"#E5ECF6\", \"showlakes\": true, \"showland\": true, \"subunitcolor\": \"white\"}, \"hoverlabel\": {\"align\": \"left\"}, \"hovermode\": \"closest\", \"mapbox\": {\"style\": \"light\"}, \"paper_bgcolor\": \"white\", \"plot_bgcolor\": \"#E5ECF6\", \"polar\": {\"angularaxis\": {\"gridcolor\": \"white\", \"linecolor\": \"white\", \"ticks\": \"\"}, \"bgcolor\": \"#E5ECF6\", \"radialaxis\": {\"gridcolor\": \"white\", \"linecolor\": \"white\", \"ticks\": \"\"}}, \"scene\": {\"xaxis\": {\"backgroundcolor\": \"#E5ECF6\", \"gridcolor\": \"white\", \"gridwidth\": 2, \"linecolor\": \"white\", \"showbackground\": true, \"ticks\": \"\", \"zerolinecolor\": \"white\"}, \"yaxis\": {\"backgroundcolor\": \"#E5ECF6\", \"gridcolor\": \"white\", \"gridwidth\": 2, \"linecolor\": \"white\", \"showbackground\": true, \"ticks\": \"\", \"zerolinecolor\": \"white\"}, \"zaxis\": {\"backgroundcolor\": \"#E5ECF6\", \"gridcolor\": \"white\", \"gridwidth\": 2, \"linecolor\": \"white\", \"showbackground\": true, \"ticks\": \"\", \"zerolinecolor\": \"white\"}}, \"shapedefaults\": {\"line\": {\"color\": \"#2a3f5f\"}}, \"ternary\": {\"aaxis\": {\"gridcolor\": \"white\", \"linecolor\": \"white\", \"ticks\": \"\"}, \"baxis\": {\"gridcolor\": \"white\", \"linecolor\": \"white\", \"ticks\": \"\"}, \"bgcolor\": \"#E5ECF6\", \"caxis\": {\"gridcolor\": \"white\", \"linecolor\": \"white\", \"ticks\": \"\"}}, \"title\": {\"x\": 0.05}, \"xaxis\": {\"automargin\": true, \"gridcolor\": \"white\", \"linecolor\": \"white\", \"ticks\": \"\", \"title\": {\"standoff\": 15}, \"zerolinecolor\": \"white\", \"zerolinewidth\": 2}, \"yaxis\": {\"automargin\": true, \"gridcolor\": \"white\", \"linecolor\": \"white\", \"ticks\": \"\", \"title\": {\"standoff\": 15}, \"zerolinecolor\": \"white\", \"zerolinewidth\": 2}}}, \"title\": {\"text\": \"\"}},\n",
       "                        {\"responsive\": true}\n",
       "                    ).then(function(){\n",
       "                            \n",
       "var gd = document.getElementById('c3a81f6f-116d-48b7-b0ae-8bcbd1816bbc');\n",
       "var x = new MutationObserver(function (mutations, observer) {{\n",
       "        var display = window.getComputedStyle(gd).display;\n",
       "        if (!display || display === 'none') {{\n",
       "            console.log([gd, 'removed!']);\n",
       "            Plotly.purge(gd);\n",
       "            observer.disconnect();\n",
       "        }}\n",
       "}});\n",
       "\n",
       "// Listen for the removal of the full notebook cells\n",
       "var notebookContainer = gd.closest('#notebook-container');\n",
       "if (notebookContainer) {{\n",
       "    x.observe(notebookContainer, {childList: true});\n",
       "}}\n",
       "\n",
       "// Listen for the clearing of the current output cell\n",
       "var outputEl = gd.closest('.output');\n",
       "if (outputEl) {{\n",
       "    x.observe(outputEl, {childList: true});\n",
       "}}\n",
       "\n",
       "                        })\n",
       "                };\n",
       "                });\n",
       "            </script>\n",
       "        </div>"
      ]
     },
     "metadata": {},
     "output_type": "display_data"
    }
   ],
   "source": [
    "df11=pd.read_csv('donnes-annuels-sur-les-nombres-d-adherent-des-clubs--nabeul-2018-2019.csv')\n",
    "\n",
    "fig1 = go.Figure(data=[\n",
    "    go.Bar( name='2018',x=df11['Nom_maison _culture'], y=df11['Nbr_clubs_2018'],marker_color='royalblue'),\n",
    "    go.Bar(name='2019',x=df11['Nom_maison _culture'], y=df11['Nbr_clubs_2019'],marker_color='Silver'),\n",
    "])\n",
    "\n",
    "fig1.update_layout(barmode='group')\n",
    "nbre_MC_an_Nabeul = fig1.update_layout(title_text=\"\" ,height =700)\n",
    "nbre_MC_an_Nabeul.show()\n"
   ]
  },
  {
   "cell_type": "code",
   "execution_count": 9,
   "metadata": {
    "scrolled": false
   },
   "outputs": [
    {
     "data": {
      "application/vnd.plotly.v1+json": {
       "config": {
        "plotlyServerURL": "https://plot.ly"
       },
       "data": [
        {
         "marker": {
          "color": "Blue"
         },
         "name": "Nombre des adhérents total 2019",
         "type": "bar",
         "visible": false,
         "x": [
          "maison de culture nabeul",
          "maison de culture grombalia ",
          "maison de culture korba ",
          "maison de culture tekelssa ",
          "maison de culture tazerka ",
          "maison de culture elhawaria ",
          "maison de culture menzel temime ",
          "maison de culture kelibia ",
          "centre culturelle niapolis "
         ],
         "y": [
          207,
          94,
          90,
          63,
          63,
          89,
          130,
          78,
          138
         ]
        },
        {
         "marker": {
          "color": "royalblue"
         },
         "name": "Nombre des adhérents total 2018",
         "type": "bar",
         "visible": false,
         "x": [
          "maison de culture nabeul",
          "maison de culture grombalia ",
          "maison de culture korba ",
          "maison de culture tekelssa ",
          "maison de culture tazerka ",
          "maison de culture elhawaria ",
          "maison de culture menzel temime ",
          "maison de culture kelibia ",
          "centre culturelle niapolis "
         ],
         "y": [
          274,
          99,
          95,
          86,
          89,
          72,
          171,
          59,
          147
         ]
        },
        {
         "marker": {
          "color": "blue"
         },
         "name": "Nombre des hommes 2019",
         "type": "bar",
         "visible": true,
         "x": [
          "maison de culture nabeul",
          "maison de culture grombalia ",
          "maison de culture korba ",
          "maison de culture tekelssa ",
          "maison de culture tazerka ",
          "maison de culture elhawaria ",
          "maison de culture menzel temime ",
          "maison de culture kelibia ",
          "centre culturelle niapolis "
         ],
         "y": [
          46,
          50,
          25,
          20,
          16,
          30,
          46,
          34,
          58
         ]
        },
        {
         "marker": {
          "color": "Pink"
         },
         "name": "Nombre des femmes 2019",
         "type": "bar",
         "visible": false,
         "x": [
          "maison de culture nabeul",
          "maison de culture grombalia ",
          "maison de culture korba ",
          "maison de culture tekelssa ",
          "maison de culture tazerka ",
          "maison de culture elhawaria ",
          "maison de culture menzel temime ",
          "maison de culture kelibia ",
          "centre culturelle niapolis "
         ],
         "y": [
          161,
          44,
          65,
          43,
          47,
          59,
          84,
          44,
          80
         ]
        },
        {
         "marker": {
          "color": "royalblue"
         },
         "name": "Nombre des hommes 2018",
         "type": "bar",
         "visible": true,
         "x": [
          "maison de culture nabeul",
          "maison de culture grombalia ",
          "maison de culture korba ",
          "maison de culture tekelssa ",
          "maison de culture tazerka ",
          "maison de culture elhawaria ",
          "maison de culture menzel temime ",
          "maison de culture kelibia ",
          "centre culturelle niapolis "
         ],
         "y": [
          114,
          51,
          28,
          23,
          38,
          29,
          89,
          22,
          72
         ]
        },
        {
         "marker": {
          "color": "purple"
         },
         "name": "Nombre des femmes 2018",
         "type": "bar",
         "visible": false,
         "x": [
          "maison de culture nabeul",
          "maison de culture grombalia ",
          "maison de culture korba ",
          "maison de culture tekelssa ",
          "maison de culture tazerka ",
          "maison de culture elhawaria ",
          "maison de culture menzel temime ",
          "maison de culture kelibia ",
          "centre culturelle niapolis "
         ],
         "y": [
          160,
          44,
          67,
          63,
          51,
          43,
          82,
          37,
          75
         ]
        }
       ],
       "layout": {
        "font": {
         "family": " Gravitas One, cursive",
         "size": 13
        },
        "template": {
         "data": {
          "bar": [
           {
            "error_x": {
             "color": "#2a3f5f"
            },
            "error_y": {
             "color": "#2a3f5f"
            },
            "marker": {
             "line": {
              "color": "white",
              "width": 0.5
             }
            },
            "type": "bar"
           }
          ],
          "barpolar": [
           {
            "marker": {
             "line": {
              "color": "white",
              "width": 0.5
             }
            },
            "type": "barpolar"
           }
          ],
          "carpet": [
           {
            "aaxis": {
             "endlinecolor": "#2a3f5f",
             "gridcolor": "#C8D4E3",
             "linecolor": "#C8D4E3",
             "minorgridcolor": "#C8D4E3",
             "startlinecolor": "#2a3f5f"
            },
            "baxis": {
             "endlinecolor": "#2a3f5f",
             "gridcolor": "#C8D4E3",
             "linecolor": "#C8D4E3",
             "minorgridcolor": "#C8D4E3",
             "startlinecolor": "#2a3f5f"
            },
            "type": "carpet"
           }
          ],
          "choropleth": [
           {
            "colorbar": {
             "outlinewidth": 0,
             "ticks": ""
            },
            "type": "choropleth"
           }
          ],
          "contour": [
           {
            "colorbar": {
             "outlinewidth": 0,
             "ticks": ""
            },
            "colorscale": [
             [
              0,
              "#0d0887"
             ],
             [
              0.1111111111111111,
              "#46039f"
             ],
             [
              0.2222222222222222,
              "#7201a8"
             ],
             [
              0.3333333333333333,
              "#9c179e"
             ],
             [
              0.4444444444444444,
              "#bd3786"
             ],
             [
              0.5555555555555556,
              "#d8576b"
             ],
             [
              0.6666666666666666,
              "#ed7953"
             ],
             [
              0.7777777777777778,
              "#fb9f3a"
             ],
             [
              0.8888888888888888,
              "#fdca26"
             ],
             [
              1,
              "#f0f921"
             ]
            ],
            "type": "contour"
           }
          ],
          "contourcarpet": [
           {
            "colorbar": {
             "outlinewidth": 0,
             "ticks": ""
            },
            "type": "contourcarpet"
           }
          ],
          "heatmap": [
           {
            "colorbar": {
             "outlinewidth": 0,
             "ticks": ""
            },
            "colorscale": [
             [
              0,
              "#0d0887"
             ],
             [
              0.1111111111111111,
              "#46039f"
             ],
             [
              0.2222222222222222,
              "#7201a8"
             ],
             [
              0.3333333333333333,
              "#9c179e"
             ],
             [
              0.4444444444444444,
              "#bd3786"
             ],
             [
              0.5555555555555556,
              "#d8576b"
             ],
             [
              0.6666666666666666,
              "#ed7953"
             ],
             [
              0.7777777777777778,
              "#fb9f3a"
             ],
             [
              0.8888888888888888,
              "#fdca26"
             ],
             [
              1,
              "#f0f921"
             ]
            ],
            "type": "heatmap"
           }
          ],
          "heatmapgl": [
           {
            "colorbar": {
             "outlinewidth": 0,
             "ticks": ""
            },
            "colorscale": [
             [
              0,
              "#0d0887"
             ],
             [
              0.1111111111111111,
              "#46039f"
             ],
             [
              0.2222222222222222,
              "#7201a8"
             ],
             [
              0.3333333333333333,
              "#9c179e"
             ],
             [
              0.4444444444444444,
              "#bd3786"
             ],
             [
              0.5555555555555556,
              "#d8576b"
             ],
             [
              0.6666666666666666,
              "#ed7953"
             ],
             [
              0.7777777777777778,
              "#fb9f3a"
             ],
             [
              0.8888888888888888,
              "#fdca26"
             ],
             [
              1,
              "#f0f921"
             ]
            ],
            "type": "heatmapgl"
           }
          ],
          "histogram": [
           {
            "marker": {
             "colorbar": {
              "outlinewidth": 0,
              "ticks": ""
             }
            },
            "type": "histogram"
           }
          ],
          "histogram2d": [
           {
            "colorbar": {
             "outlinewidth": 0,
             "ticks": ""
            },
            "colorscale": [
             [
              0,
              "#0d0887"
             ],
             [
              0.1111111111111111,
              "#46039f"
             ],
             [
              0.2222222222222222,
              "#7201a8"
             ],
             [
              0.3333333333333333,
              "#9c179e"
             ],
             [
              0.4444444444444444,
              "#bd3786"
             ],
             [
              0.5555555555555556,
              "#d8576b"
             ],
             [
              0.6666666666666666,
              "#ed7953"
             ],
             [
              0.7777777777777778,
              "#fb9f3a"
             ],
             [
              0.8888888888888888,
              "#fdca26"
             ],
             [
              1,
              "#f0f921"
             ]
            ],
            "type": "histogram2d"
           }
          ],
          "histogram2dcontour": [
           {
            "colorbar": {
             "outlinewidth": 0,
             "ticks": ""
            },
            "colorscale": [
             [
              0,
              "#0d0887"
             ],
             [
              0.1111111111111111,
              "#46039f"
             ],
             [
              0.2222222222222222,
              "#7201a8"
             ],
             [
              0.3333333333333333,
              "#9c179e"
             ],
             [
              0.4444444444444444,
              "#bd3786"
             ],
             [
              0.5555555555555556,
              "#d8576b"
             ],
             [
              0.6666666666666666,
              "#ed7953"
             ],
             [
              0.7777777777777778,
              "#fb9f3a"
             ],
             [
              0.8888888888888888,
              "#fdca26"
             ],
             [
              1,
              "#f0f921"
             ]
            ],
            "type": "histogram2dcontour"
           }
          ],
          "mesh3d": [
           {
            "colorbar": {
             "outlinewidth": 0,
             "ticks": ""
            },
            "type": "mesh3d"
           }
          ],
          "parcoords": [
           {
            "line": {
             "colorbar": {
              "outlinewidth": 0,
              "ticks": ""
             }
            },
            "type": "parcoords"
           }
          ],
          "pie": [
           {
            "automargin": true,
            "type": "pie"
           }
          ],
          "scatter": [
           {
            "marker": {
             "colorbar": {
              "outlinewidth": 0,
              "ticks": ""
             }
            },
            "type": "scatter"
           }
          ],
          "scatter3d": [
           {
            "line": {
             "colorbar": {
              "outlinewidth": 0,
              "ticks": ""
             }
            },
            "marker": {
             "colorbar": {
              "outlinewidth": 0,
              "ticks": ""
             }
            },
            "type": "scatter3d"
           }
          ],
          "scattercarpet": [
           {
            "marker": {
             "colorbar": {
              "outlinewidth": 0,
              "ticks": ""
             }
            },
            "type": "scattercarpet"
           }
          ],
          "scattergeo": [
           {
            "marker": {
             "colorbar": {
              "outlinewidth": 0,
              "ticks": ""
             }
            },
            "type": "scattergeo"
           }
          ],
          "scattergl": [
           {
            "marker": {
             "colorbar": {
              "outlinewidth": 0,
              "ticks": ""
             }
            },
            "type": "scattergl"
           }
          ],
          "scattermapbox": [
           {
            "marker": {
             "colorbar": {
              "outlinewidth": 0,
              "ticks": ""
             }
            },
            "type": "scattermapbox"
           }
          ],
          "scatterpolar": [
           {
            "marker": {
             "colorbar": {
              "outlinewidth": 0,
              "ticks": ""
             }
            },
            "type": "scatterpolar"
           }
          ],
          "scatterpolargl": [
           {
            "marker": {
             "colorbar": {
              "outlinewidth": 0,
              "ticks": ""
             }
            },
            "type": "scatterpolargl"
           }
          ],
          "scatterternary": [
           {
            "marker": {
             "colorbar": {
              "outlinewidth": 0,
              "ticks": ""
             }
            },
            "type": "scatterternary"
           }
          ],
          "surface": [
           {
            "colorbar": {
             "outlinewidth": 0,
             "ticks": ""
            },
            "colorscale": [
             [
              0,
              "#0d0887"
             ],
             [
              0.1111111111111111,
              "#46039f"
             ],
             [
              0.2222222222222222,
              "#7201a8"
             ],
             [
              0.3333333333333333,
              "#9c179e"
             ],
             [
              0.4444444444444444,
              "#bd3786"
             ],
             [
              0.5555555555555556,
              "#d8576b"
             ],
             [
              0.6666666666666666,
              "#ed7953"
             ],
             [
              0.7777777777777778,
              "#fb9f3a"
             ],
             [
              0.8888888888888888,
              "#fdca26"
             ],
             [
              1,
              "#f0f921"
             ]
            ],
            "type": "surface"
           }
          ],
          "table": [
           {
            "cells": {
             "fill": {
              "color": "#EBF0F8"
             },
             "line": {
              "color": "white"
             }
            },
            "header": {
             "fill": {
              "color": "#C8D4E3"
             },
             "line": {
              "color": "white"
             }
            },
            "type": "table"
           }
          ]
         },
         "layout": {
          "annotationdefaults": {
           "arrowcolor": "#2a3f5f",
           "arrowhead": 0,
           "arrowwidth": 1
          },
          "coloraxis": {
           "colorbar": {
            "outlinewidth": 0,
            "ticks": ""
           }
          },
          "colorscale": {
           "diverging": [
            [
             0,
             "#8e0152"
            ],
            [
             0.1,
             "#c51b7d"
            ],
            [
             0.2,
             "#de77ae"
            ],
            [
             0.3,
             "#f1b6da"
            ],
            [
             0.4,
             "#fde0ef"
            ],
            [
             0.5,
             "#f7f7f7"
            ],
            [
             0.6,
             "#e6f5d0"
            ],
            [
             0.7,
             "#b8e186"
            ],
            [
             0.8,
             "#7fbc41"
            ],
            [
             0.9,
             "#4d9221"
            ],
            [
             1,
             "#276419"
            ]
           ],
           "sequential": [
            [
             0,
             "#0d0887"
            ],
            [
             0.1111111111111111,
             "#46039f"
            ],
            [
             0.2222222222222222,
             "#7201a8"
            ],
            [
             0.3333333333333333,
             "#9c179e"
            ],
            [
             0.4444444444444444,
             "#bd3786"
            ],
            [
             0.5555555555555556,
             "#d8576b"
            ],
            [
             0.6666666666666666,
             "#ed7953"
            ],
            [
             0.7777777777777778,
             "#fb9f3a"
            ],
            [
             0.8888888888888888,
             "#fdca26"
            ],
            [
             1,
             "#f0f921"
            ]
           ],
           "sequentialminus": [
            [
             0,
             "#0d0887"
            ],
            [
             0.1111111111111111,
             "#46039f"
            ],
            [
             0.2222222222222222,
             "#7201a8"
            ],
            [
             0.3333333333333333,
             "#9c179e"
            ],
            [
             0.4444444444444444,
             "#bd3786"
            ],
            [
             0.5555555555555556,
             "#d8576b"
            ],
            [
             0.6666666666666666,
             "#ed7953"
            ],
            [
             0.7777777777777778,
             "#fb9f3a"
            ],
            [
             0.8888888888888888,
             "#fdca26"
            ],
            [
             1,
             "#f0f921"
            ]
           ]
          },
          "colorway": [
           "#636efa",
           "#EF553B",
           "#00cc96",
           "#ab63fa",
           "#FFA15A",
           "#19d3f3",
           "#FF6692",
           "#B6E880",
           "#FF97FF",
           "#FECB52"
          ],
          "font": {
           "color": "#2a3f5f"
          },
          "geo": {
           "bgcolor": "white",
           "lakecolor": "white",
           "landcolor": "white",
           "showlakes": true,
           "showland": true,
           "subunitcolor": "#C8D4E3"
          },
          "hoverlabel": {
           "align": "left"
          },
          "hovermode": "closest",
          "mapbox": {
           "style": "light"
          },
          "paper_bgcolor": "white",
          "plot_bgcolor": "white",
          "polar": {
           "angularaxis": {
            "gridcolor": "#EBF0F8",
            "linecolor": "#EBF0F8",
            "ticks": ""
           },
           "bgcolor": "white",
           "radialaxis": {
            "gridcolor": "#EBF0F8",
            "linecolor": "#EBF0F8",
            "ticks": ""
           }
          },
          "scene": {
           "xaxis": {
            "backgroundcolor": "white",
            "gridcolor": "#DFE8F3",
            "gridwidth": 2,
            "linecolor": "#EBF0F8",
            "showbackground": true,
            "ticks": "",
            "zerolinecolor": "#EBF0F8"
           },
           "yaxis": {
            "backgroundcolor": "white",
            "gridcolor": "#DFE8F3",
            "gridwidth": 2,
            "linecolor": "#EBF0F8",
            "showbackground": true,
            "ticks": "",
            "zerolinecolor": "#EBF0F8"
           },
           "zaxis": {
            "backgroundcolor": "white",
            "gridcolor": "#DFE8F3",
            "gridwidth": 2,
            "linecolor": "#EBF0F8",
            "showbackground": true,
            "ticks": "",
            "zerolinecolor": "#EBF0F8"
           }
          },
          "shapedefaults": {
           "line": {
            "color": "#2a3f5f"
           }
          },
          "ternary": {
           "aaxis": {
            "gridcolor": "#DFE8F3",
            "linecolor": "#A2B1C6",
            "ticks": ""
           },
           "baxis": {
            "gridcolor": "#DFE8F3",
            "linecolor": "#A2B1C6",
            "ticks": ""
           },
           "bgcolor": "white",
           "caxis": {
            "gridcolor": "#DFE8F3",
            "linecolor": "#A2B1C6",
            "ticks": ""
           }
          },
          "title": {
           "x": 0.05
          },
          "xaxis": {
           "automargin": true,
           "gridcolor": "#EBF0F8",
           "linecolor": "#EBF0F8",
           "ticks": "",
           "title": {
            "standoff": 15
           },
           "zerolinecolor": "#EBF0F8",
           "zerolinewidth": 2
          },
          "yaxis": {
           "automargin": true,
           "gridcolor": "#EBF0F8",
           "linecolor": "#EBF0F8",
           "ticks": "",
           "title": {
            "standoff": 15
           },
           "zerolinecolor": "#EBF0F8",
           "zerolinewidth": 2
          }
         }
        },
        "title": {
         "text": ""
        },
        "updatemenus": [
         {
          "buttons": [
           {
            "args": [
             {
              "visible": [
               false,
               false,
               true,
               false,
               true,
               false
              ]
             }
            ],
            "label": "                                                                                         Homme                                                                                           ",
            "method": "update"
           },
           {
            "args": [
             {
              "visible": [
               false,
               false,
               false,
               true,
               false,
               true
              ]
             }
            ],
            "label": "                                                                                         Femme",
            "method": "update"
           },
           {
            "args": [
             {
              "visible": [
               true,
               true,
               false,
               false,
               false,
               false
              ]
             }
            ],
            "label": "                                                                                         Tout",
            "method": "update"
           }
          ],
          "x": 1.45,
          "y": 1.28
         }
        ]
       }
      },
      "text/html": [
       "<div>\n",
       "        \n",
       "        \n",
       "            <div id=\"6ba06ca1-8001-4572-ac94-a8f835b832bf\" class=\"plotly-graph-div\" style=\"height:525px; width:100%;\"></div>\n",
       "            <script type=\"text/javascript\">\n",
       "                require([\"plotly\"], function(Plotly) {\n",
       "                    window.PLOTLYENV=window.PLOTLYENV || {};\n",
       "                    \n",
       "                if (document.getElementById(\"6ba06ca1-8001-4572-ac94-a8f835b832bf\")) {\n",
       "                    Plotly.newPlot(\n",
       "                        '6ba06ca1-8001-4572-ac94-a8f835b832bf',\n",
       "                        [{\"marker\": {\"color\": \"Blue\"}, \"name\": \"Nombre des adh\\u00e9rents total 2019\", \"type\": \"bar\", \"visible\": false, \"x\": [\"maison de culture nabeul\", \"maison de culture grombalia \", \"maison de culture korba \", \"maison de culture tekelssa \", \"maison de culture tazerka \", \"maison de culture elhawaria \", \"maison de culture menzel temime \", \"maison de culture kelibia \", \"centre culturelle niapolis \"], \"y\": [207, 94, 90, 63, 63, 89, 130, 78, 138]}, {\"marker\": {\"color\": \"royalblue\"}, \"name\": \"Nombre des adh\\u00e9rents total 2018\", \"type\": \"bar\", \"visible\": false, \"x\": [\"maison de culture nabeul\", \"maison de culture grombalia \", \"maison de culture korba \", \"maison de culture tekelssa \", \"maison de culture tazerka \", \"maison de culture elhawaria \", \"maison de culture menzel temime \", \"maison de culture kelibia \", \"centre culturelle niapolis \"], \"y\": [274, 99, 95, 86, 89, 72, 171, 59, 147]}, {\"marker\": {\"color\": \"blue\"}, \"name\": \"Nombre des hommes 2019\", \"type\": \"bar\", \"visible\": true, \"x\": [\"maison de culture nabeul\", \"maison de culture grombalia \", \"maison de culture korba \", \"maison de culture tekelssa \", \"maison de culture tazerka \", \"maison de culture elhawaria \", \"maison de culture menzel temime \", \"maison de culture kelibia \", \"centre culturelle niapolis \"], \"y\": [46, 50, 25, 20, 16, 30, 46, 34, 58]}, {\"marker\": {\"color\": \"Pink\"}, \"name\": \"Nombre des femmes 2019\", \"type\": \"bar\", \"visible\": false, \"x\": [\"maison de culture nabeul\", \"maison de culture grombalia \", \"maison de culture korba \", \"maison de culture tekelssa \", \"maison de culture tazerka \", \"maison de culture elhawaria \", \"maison de culture menzel temime \", \"maison de culture kelibia \", \"centre culturelle niapolis \"], \"y\": [161, 44, 65, 43, 47, 59, 84, 44, 80]}, {\"marker\": {\"color\": \"royalblue\"}, \"name\": \"Nombre des hommes 2018\", \"type\": \"bar\", \"visible\": true, \"x\": [\"maison de culture nabeul\", \"maison de culture grombalia \", \"maison de culture korba \", \"maison de culture tekelssa \", \"maison de culture tazerka \", \"maison de culture elhawaria \", \"maison de culture menzel temime \", \"maison de culture kelibia \", \"centre culturelle niapolis \"], \"y\": [114, 51, 28, 23, 38, 29, 89, 22, 72]}, {\"marker\": {\"color\": \"purple\"}, \"name\": \"Nombre des femmes 2018\", \"type\": \"bar\", \"visible\": false, \"x\": [\"maison de culture nabeul\", \"maison de culture grombalia \", \"maison de culture korba \", \"maison de culture tekelssa \", \"maison de culture tazerka \", \"maison de culture elhawaria \", \"maison de culture menzel temime \", \"maison de culture kelibia \", \"centre culturelle niapolis \"], \"y\": [160, 44, 67, 63, 51, 43, 82, 37, 75]}],\n",
       "                        {\"font\": {\"family\": \" Gravitas One, cursive\", \"size\": 13}, \"template\": {\"data\": {\"bar\": [{\"error_x\": {\"color\": \"#2a3f5f\"}, \"error_y\": {\"color\": \"#2a3f5f\"}, \"marker\": {\"line\": {\"color\": \"white\", \"width\": 0.5}}, \"type\": \"bar\"}], \"barpolar\": [{\"marker\": {\"line\": {\"color\": \"white\", \"width\": 0.5}}, \"type\": \"barpolar\"}], \"carpet\": [{\"aaxis\": {\"endlinecolor\": \"#2a3f5f\", \"gridcolor\": \"#C8D4E3\", \"linecolor\": \"#C8D4E3\", \"minorgridcolor\": \"#C8D4E3\", \"startlinecolor\": \"#2a3f5f\"}, \"baxis\": {\"endlinecolor\": \"#2a3f5f\", \"gridcolor\": \"#C8D4E3\", \"linecolor\": \"#C8D4E3\", \"minorgridcolor\": \"#C8D4E3\", \"startlinecolor\": \"#2a3f5f\"}, \"type\": \"carpet\"}], \"choropleth\": [{\"colorbar\": {\"outlinewidth\": 0, \"ticks\": \"\"}, \"type\": \"choropleth\"}], \"contour\": [{\"colorbar\": {\"outlinewidth\": 0, \"ticks\": \"\"}, \"colorscale\": [[0.0, \"#0d0887\"], [0.1111111111111111, \"#46039f\"], [0.2222222222222222, \"#7201a8\"], [0.3333333333333333, \"#9c179e\"], [0.4444444444444444, \"#bd3786\"], [0.5555555555555556, \"#d8576b\"], [0.6666666666666666, \"#ed7953\"], [0.7777777777777778, \"#fb9f3a\"], [0.8888888888888888, \"#fdca26\"], [1.0, \"#f0f921\"]], \"type\": \"contour\"}], \"contourcarpet\": [{\"colorbar\": {\"outlinewidth\": 0, \"ticks\": \"\"}, \"type\": \"contourcarpet\"}], \"heatmap\": [{\"colorbar\": {\"outlinewidth\": 0, \"ticks\": \"\"}, \"colorscale\": [[0.0, \"#0d0887\"], [0.1111111111111111, \"#46039f\"], [0.2222222222222222, \"#7201a8\"], [0.3333333333333333, \"#9c179e\"], [0.4444444444444444, \"#bd3786\"], [0.5555555555555556, \"#d8576b\"], [0.6666666666666666, \"#ed7953\"], [0.7777777777777778, \"#fb9f3a\"], [0.8888888888888888, \"#fdca26\"], [1.0, \"#f0f921\"]], \"type\": \"heatmap\"}], \"heatmapgl\": [{\"colorbar\": {\"outlinewidth\": 0, \"ticks\": \"\"}, \"colorscale\": [[0.0, \"#0d0887\"], [0.1111111111111111, \"#46039f\"], [0.2222222222222222, \"#7201a8\"], [0.3333333333333333, \"#9c179e\"], [0.4444444444444444, \"#bd3786\"], [0.5555555555555556, \"#d8576b\"], [0.6666666666666666, \"#ed7953\"], [0.7777777777777778, \"#fb9f3a\"], [0.8888888888888888, \"#fdca26\"], [1.0, \"#f0f921\"]], \"type\": \"heatmapgl\"}], \"histogram\": [{\"marker\": {\"colorbar\": {\"outlinewidth\": 0, \"ticks\": \"\"}}, \"type\": \"histogram\"}], \"histogram2d\": [{\"colorbar\": {\"outlinewidth\": 0, \"ticks\": \"\"}, \"colorscale\": [[0.0, \"#0d0887\"], [0.1111111111111111, \"#46039f\"], [0.2222222222222222, \"#7201a8\"], [0.3333333333333333, \"#9c179e\"], [0.4444444444444444, \"#bd3786\"], [0.5555555555555556, \"#d8576b\"], [0.6666666666666666, \"#ed7953\"], [0.7777777777777778, \"#fb9f3a\"], [0.8888888888888888, \"#fdca26\"], [1.0, \"#f0f921\"]], \"type\": \"histogram2d\"}], \"histogram2dcontour\": [{\"colorbar\": {\"outlinewidth\": 0, \"ticks\": \"\"}, \"colorscale\": [[0.0, \"#0d0887\"], [0.1111111111111111, \"#46039f\"], [0.2222222222222222, \"#7201a8\"], [0.3333333333333333, \"#9c179e\"], [0.4444444444444444, \"#bd3786\"], [0.5555555555555556, \"#d8576b\"], [0.6666666666666666, \"#ed7953\"], [0.7777777777777778, \"#fb9f3a\"], [0.8888888888888888, \"#fdca26\"], [1.0, \"#f0f921\"]], \"type\": \"histogram2dcontour\"}], \"mesh3d\": [{\"colorbar\": {\"outlinewidth\": 0, \"ticks\": \"\"}, \"type\": \"mesh3d\"}], \"parcoords\": [{\"line\": {\"colorbar\": {\"outlinewidth\": 0, \"ticks\": \"\"}}, \"type\": \"parcoords\"}], \"pie\": [{\"automargin\": true, \"type\": \"pie\"}], \"scatter\": [{\"marker\": {\"colorbar\": {\"outlinewidth\": 0, \"ticks\": \"\"}}, \"type\": \"scatter\"}], \"scatter3d\": [{\"line\": {\"colorbar\": {\"outlinewidth\": 0, \"ticks\": \"\"}}, \"marker\": {\"colorbar\": {\"outlinewidth\": 0, \"ticks\": \"\"}}, \"type\": \"scatter3d\"}], \"scattercarpet\": [{\"marker\": {\"colorbar\": {\"outlinewidth\": 0, \"ticks\": \"\"}}, \"type\": \"scattercarpet\"}], \"scattergeo\": [{\"marker\": {\"colorbar\": {\"outlinewidth\": 0, \"ticks\": \"\"}}, \"type\": \"scattergeo\"}], \"scattergl\": [{\"marker\": {\"colorbar\": {\"outlinewidth\": 0, \"ticks\": \"\"}}, \"type\": \"scattergl\"}], \"scattermapbox\": [{\"marker\": {\"colorbar\": {\"outlinewidth\": 0, \"ticks\": \"\"}}, \"type\": \"scattermapbox\"}], \"scatterpolar\": [{\"marker\": {\"colorbar\": {\"outlinewidth\": 0, \"ticks\": \"\"}}, \"type\": \"scatterpolar\"}], \"scatterpolargl\": [{\"marker\": {\"colorbar\": {\"outlinewidth\": 0, \"ticks\": \"\"}}, \"type\": \"scatterpolargl\"}], \"scatterternary\": [{\"marker\": {\"colorbar\": {\"outlinewidth\": 0, \"ticks\": \"\"}}, \"type\": \"scatterternary\"}], \"surface\": [{\"colorbar\": {\"outlinewidth\": 0, \"ticks\": \"\"}, \"colorscale\": [[0.0, \"#0d0887\"], [0.1111111111111111, \"#46039f\"], [0.2222222222222222, \"#7201a8\"], [0.3333333333333333, \"#9c179e\"], [0.4444444444444444, \"#bd3786\"], [0.5555555555555556, \"#d8576b\"], [0.6666666666666666, \"#ed7953\"], [0.7777777777777778, \"#fb9f3a\"], [0.8888888888888888, \"#fdca26\"], [1.0, \"#f0f921\"]], \"type\": \"surface\"}], \"table\": [{\"cells\": {\"fill\": {\"color\": \"#EBF0F8\"}, \"line\": {\"color\": \"white\"}}, \"header\": {\"fill\": {\"color\": \"#C8D4E3\"}, \"line\": {\"color\": \"white\"}}, \"type\": \"table\"}]}, \"layout\": {\"annotationdefaults\": {\"arrowcolor\": \"#2a3f5f\", \"arrowhead\": 0, \"arrowwidth\": 1}, \"coloraxis\": {\"colorbar\": {\"outlinewidth\": 0, \"ticks\": \"\"}}, \"colorscale\": {\"diverging\": [[0, \"#8e0152\"], [0.1, \"#c51b7d\"], [0.2, \"#de77ae\"], [0.3, \"#f1b6da\"], [0.4, \"#fde0ef\"], [0.5, \"#f7f7f7\"], [0.6, \"#e6f5d0\"], [0.7, \"#b8e186\"], [0.8, \"#7fbc41\"], [0.9, \"#4d9221\"], [1, \"#276419\"]], \"sequential\": [[0.0, \"#0d0887\"], [0.1111111111111111, \"#46039f\"], [0.2222222222222222, \"#7201a8\"], [0.3333333333333333, \"#9c179e\"], [0.4444444444444444, \"#bd3786\"], [0.5555555555555556, \"#d8576b\"], [0.6666666666666666, \"#ed7953\"], [0.7777777777777778, \"#fb9f3a\"], [0.8888888888888888, \"#fdca26\"], [1.0, \"#f0f921\"]], \"sequentialminus\": [[0.0, \"#0d0887\"], [0.1111111111111111, \"#46039f\"], [0.2222222222222222, \"#7201a8\"], [0.3333333333333333, \"#9c179e\"], [0.4444444444444444, \"#bd3786\"], [0.5555555555555556, \"#d8576b\"], [0.6666666666666666, \"#ed7953\"], [0.7777777777777778, \"#fb9f3a\"], [0.8888888888888888, \"#fdca26\"], [1.0, \"#f0f921\"]]}, \"colorway\": [\"#636efa\", \"#EF553B\", \"#00cc96\", \"#ab63fa\", \"#FFA15A\", \"#19d3f3\", \"#FF6692\", \"#B6E880\", \"#FF97FF\", \"#FECB52\"], \"font\": {\"color\": \"#2a3f5f\"}, \"geo\": {\"bgcolor\": \"white\", \"lakecolor\": \"white\", \"landcolor\": \"white\", \"showlakes\": true, \"showland\": true, \"subunitcolor\": \"#C8D4E3\"}, \"hoverlabel\": {\"align\": \"left\"}, \"hovermode\": \"closest\", \"mapbox\": {\"style\": \"light\"}, \"paper_bgcolor\": \"white\", \"plot_bgcolor\": \"white\", \"polar\": {\"angularaxis\": {\"gridcolor\": \"#EBF0F8\", \"linecolor\": \"#EBF0F8\", \"ticks\": \"\"}, \"bgcolor\": \"white\", \"radialaxis\": {\"gridcolor\": \"#EBF0F8\", \"linecolor\": \"#EBF0F8\", \"ticks\": \"\"}}, \"scene\": {\"xaxis\": {\"backgroundcolor\": \"white\", \"gridcolor\": \"#DFE8F3\", \"gridwidth\": 2, \"linecolor\": \"#EBF0F8\", \"showbackground\": true, \"ticks\": \"\", \"zerolinecolor\": \"#EBF0F8\"}, \"yaxis\": {\"backgroundcolor\": \"white\", \"gridcolor\": \"#DFE8F3\", \"gridwidth\": 2, \"linecolor\": \"#EBF0F8\", \"showbackground\": true, \"ticks\": \"\", \"zerolinecolor\": \"#EBF0F8\"}, \"zaxis\": {\"backgroundcolor\": \"white\", \"gridcolor\": \"#DFE8F3\", \"gridwidth\": 2, \"linecolor\": \"#EBF0F8\", \"showbackground\": true, \"ticks\": \"\", \"zerolinecolor\": \"#EBF0F8\"}}, \"shapedefaults\": {\"line\": {\"color\": \"#2a3f5f\"}}, \"ternary\": {\"aaxis\": {\"gridcolor\": \"#DFE8F3\", \"linecolor\": \"#A2B1C6\", \"ticks\": \"\"}, \"baxis\": {\"gridcolor\": \"#DFE8F3\", \"linecolor\": \"#A2B1C6\", \"ticks\": \"\"}, \"bgcolor\": \"white\", \"caxis\": {\"gridcolor\": \"#DFE8F3\", \"linecolor\": \"#A2B1C6\", \"ticks\": \"\"}}, \"title\": {\"x\": 0.05}, \"xaxis\": {\"automargin\": true, \"gridcolor\": \"#EBF0F8\", \"linecolor\": \"#EBF0F8\", \"ticks\": \"\", \"title\": {\"standoff\": 15}, \"zerolinecolor\": \"#EBF0F8\", \"zerolinewidth\": 2}, \"yaxis\": {\"automargin\": true, \"gridcolor\": \"#EBF0F8\", \"linecolor\": \"#EBF0F8\", \"ticks\": \"\", \"title\": {\"standoff\": 15}, \"zerolinecolor\": \"#EBF0F8\", \"zerolinewidth\": 2}}}, \"title\": {\"text\": \"\"}, \"updatemenus\": [{\"buttons\": [{\"args\": [{\"visible\": [false, false, true, false, true, false]}], \"label\": \"                                                                                         Homme                                                                                           \", \"method\": \"update\"}, {\"args\": [{\"visible\": [false, false, false, true, false, true]}], \"label\": \"                                                                                         Femme\", \"method\": \"update\"}, {\"args\": [{\"visible\": [true, true, false, false, false, false]}], \"label\": \"                                                                                         Tout\", \"method\": \"update\"}], \"x\": 1.45, \"y\": 1.28}]},\n",
       "                        {\"responsive\": true}\n",
       "                    ).then(function(){\n",
       "                            \n",
       "var gd = document.getElementById('6ba06ca1-8001-4572-ac94-a8f835b832bf');\n",
       "var x = new MutationObserver(function (mutations, observer) {{\n",
       "        var display = window.getComputedStyle(gd).display;\n",
       "        if (!display || display === 'none') {{\n",
       "            console.log([gd, 'removed!']);\n",
       "            Plotly.purge(gd);\n",
       "            observer.disconnect();\n",
       "        }}\n",
       "}});\n",
       "\n",
       "// Listen for the removal of the full notebook cells\n",
       "var notebookContainer = gd.closest('#notebook-container');\n",
       "if (notebookContainer) {{\n",
       "    x.observe(notebookContainer, {childList: true});\n",
       "}}\n",
       "\n",
       "// Listen for the clearing of the current output cell\n",
       "var outputEl = gd.closest('.output');\n",
       "if (outputEl) {{\n",
       "    x.observe(outputEl, {childList: true});\n",
       "}}\n",
       "\n",
       "                        })\n",
       "                };\n",
       "                });\n",
       "            </script>\n",
       "        </div>"
      ]
     },
     "metadata": {},
     "output_type": "display_data"
    }
   ],
   "source": [
    "df12=pd.read_csv('donnes-annuels-sur-les-nombres-d-adherent-des-clubs--nabeul-2018-2019.csv')\n",
    "\n",
    "data_bar=[ go.Bar(name='Nombre des adhérents total 2019',\n",
    "           visible=False,\n",
    "           x=df12['Nom_maison _culture'], \n",
    "           y=df12['Nbr_adhérent_club_2019'],\n",
    "           marker_color='Blue'), \n",
    "          \n",
    "          go.Bar(name='Nombre des adhérents total 2018',\n",
    "           visible=False,\n",
    "           x=df12['Nom_maison _culture'], \n",
    "           y=df12['Nbr_adhérent_club _2018'],\n",
    "           marker_color='royalblue'),\n",
    "          \n",
    "           \n",
    "          \n",
    "           go.Bar(name='Nombre des hommes 2019',\n",
    "           visible=True,\n",
    "           x=df12['Nom_maison _culture'], \n",
    "           y=df12['Nbr_adhérent_G_2019'],\n",
    "           marker_color='blue'),\n",
    "          \n",
    "         go.Bar(name='Nombre des femmes 2019',\n",
    "           visible=False,\n",
    "           x=df12['Nom_maison _culture'], \n",
    "           y= df12['Nbr_adhérent_F_2019'],\n",
    "          marker_color='Pink'),\n",
    "          \n",
    "         go.Bar(name='Nombre des hommes 2018',\n",
    "           visible=True,\n",
    "           x=df12['Nom_maison _culture'], \n",
    "           y=df12['Nbr_adhérent_G_2018'],\n",
    "           marker_color='royalblue'),\n",
    "          \n",
    "          go.Bar(name='Nombre des femmes 2018',\n",
    "           visible=False,\n",
    "           x=df12['Nom_maison _culture'], \n",
    "           y=df12['Nbr_adhérent_f _2018'],\n",
    "           marker_color='purple'),\n",
    "         \n",
    "\n",
    "          \n",
    "        ]\n",
    "    \n",
    "list_updatemenus=[\n",
    "        {'args':[{\"visible\":[False,False,True,False,True,False]}],\n",
    "         'label':\"                                                                                         Homme                                                                                           \",\n",
    "         'method':\"update\"},\n",
    "    \n",
    "        { 'args':[{\"visible\":[False,False,False,True,False,True]}],\n",
    "         'label':\"                                                                                         Femme\",\n",
    "         'method':\"update\"},\n",
    "    \n",
    "        { 'args':[{\"visible\":[True,True,False,False,False,False]}],\n",
    "         'label':\"                                                                                         Tout\",\n",
    "         'method':\"update\"},\n",
    "        \n",
    "        ]\n",
    "\n",
    "\n",
    "\n",
    "\n",
    "layout_bar=go.Layout(updatemenus=list([dict(buttons= list_updatemenus,x=1.45,y=1.28)]),\n",
    "                     title_text=\"\",\n",
    "                     template='plotly_white',\n",
    "                     font=dict(\n",
    "                    family=\" Gravitas One, cursive\",\n",
    "                    size=13))\n",
    "\n",
    "#defining figure and plotting\n",
    "nbre_adherent = go.Figure(data_bar,layout_bar)\n",
    "nbre_adherent.show()"
   ]
  },
  {
   "cell_type": "code",
   "execution_count": 10,
   "metadata": {},
   "outputs": [
    {
     "data": {
      "application/vnd.plotly.v1+json": {
       "config": {
        "plotlyServerURL": "https://plot.ly"
       },
       "data": [
        {
         "marker": {
          "color": "RoyalBlue"
         },
         "name": "Nombre de club 2015",
         "type": "bar",
         "visible": true,
         "x": [
          "Ariana",
          "Ben Arous",
          "Bizerte",
          "Béja",
          "Gabès",
          "Gafsa",
          "Jendouba",
          "Kairouan",
          "Kassérine",
          "Kebili",
          "Le Kef",
          "Mahdia",
          "Manubah",
          "Monastir",
          "Médenine",
          "Nabeul",
          "Sfax",
          "Sidi Bou Zid",
          "Siliana",
          "Sousse",
          "Tataouine",
          "Tozeur",
          "Tunis",
          "Zaghouan"
         ],
         "y": [
          15,
          54,
          82,
          38,
          31,
          53,
          31,
          28,
          59,
          23,
          52,
          56,
          27,
          63,
          34,
          53,
          88,
          57,
          41,
          63,
          37,
          19,
          129,
          17
         ]
        },
        {
         "marker": {
          "color": "silver"
         },
         "name": "Nombre de pionnier 2015",
         "type": "bar",
         "visible": false,
         "x": [
          "Ariana",
          "Ben Arous",
          "Bizerte",
          "Béja",
          "Gabès",
          "Gafsa",
          "Jendouba",
          "Kairouan",
          "Kassérine",
          "Kebili",
          "Le Kef",
          "Mahdia",
          "Manubah",
          "Monastir",
          "Médenine",
          "Nabeul",
          "Sfax",
          "Sidi Bou Zid",
          "Siliana",
          "Sousse",
          "Tataouine",
          "Tozeur",
          "Tunis",
          "Zaghouan"
         ],
         "y": [
          392,
          689,
          1354,
          552,
          410,
          988,
          591,
          649,
          784,
          269,
          671,
          941,
          970,
          1006,
          743,
          688,
          1845,
          928,
          807,
          1407,
          562,
          464,
          2127,
          275
         ]
        }
       ],
       "layout": {
        "font": {
         "family": " Gravitas One, cursive",
         "size": 16
        },
        "template": {
         "data": {
          "bar": [
           {
            "error_x": {
             "color": "#2a3f5f"
            },
            "error_y": {
             "color": "#2a3f5f"
            },
            "marker": {
             "line": {
              "color": "white",
              "width": 0.5
             }
            },
            "type": "bar"
           }
          ],
          "barpolar": [
           {
            "marker": {
             "line": {
              "color": "white",
              "width": 0.5
             }
            },
            "type": "barpolar"
           }
          ],
          "carpet": [
           {
            "aaxis": {
             "endlinecolor": "#2a3f5f",
             "gridcolor": "#C8D4E3",
             "linecolor": "#C8D4E3",
             "minorgridcolor": "#C8D4E3",
             "startlinecolor": "#2a3f5f"
            },
            "baxis": {
             "endlinecolor": "#2a3f5f",
             "gridcolor": "#C8D4E3",
             "linecolor": "#C8D4E3",
             "minorgridcolor": "#C8D4E3",
             "startlinecolor": "#2a3f5f"
            },
            "type": "carpet"
           }
          ],
          "choropleth": [
           {
            "colorbar": {
             "outlinewidth": 0,
             "ticks": ""
            },
            "type": "choropleth"
           }
          ],
          "contour": [
           {
            "colorbar": {
             "outlinewidth": 0,
             "ticks": ""
            },
            "colorscale": [
             [
              0,
              "#0d0887"
             ],
             [
              0.1111111111111111,
              "#46039f"
             ],
             [
              0.2222222222222222,
              "#7201a8"
             ],
             [
              0.3333333333333333,
              "#9c179e"
             ],
             [
              0.4444444444444444,
              "#bd3786"
             ],
             [
              0.5555555555555556,
              "#d8576b"
             ],
             [
              0.6666666666666666,
              "#ed7953"
             ],
             [
              0.7777777777777778,
              "#fb9f3a"
             ],
             [
              0.8888888888888888,
              "#fdca26"
             ],
             [
              1,
              "#f0f921"
             ]
            ],
            "type": "contour"
           }
          ],
          "contourcarpet": [
           {
            "colorbar": {
             "outlinewidth": 0,
             "ticks": ""
            },
            "type": "contourcarpet"
           }
          ],
          "heatmap": [
           {
            "colorbar": {
             "outlinewidth": 0,
             "ticks": ""
            },
            "colorscale": [
             [
              0,
              "#0d0887"
             ],
             [
              0.1111111111111111,
              "#46039f"
             ],
             [
              0.2222222222222222,
              "#7201a8"
             ],
             [
              0.3333333333333333,
              "#9c179e"
             ],
             [
              0.4444444444444444,
              "#bd3786"
             ],
             [
              0.5555555555555556,
              "#d8576b"
             ],
             [
              0.6666666666666666,
              "#ed7953"
             ],
             [
              0.7777777777777778,
              "#fb9f3a"
             ],
             [
              0.8888888888888888,
              "#fdca26"
             ],
             [
              1,
              "#f0f921"
             ]
            ],
            "type": "heatmap"
           }
          ],
          "heatmapgl": [
           {
            "colorbar": {
             "outlinewidth": 0,
             "ticks": ""
            },
            "colorscale": [
             [
              0,
              "#0d0887"
             ],
             [
              0.1111111111111111,
              "#46039f"
             ],
             [
              0.2222222222222222,
              "#7201a8"
             ],
             [
              0.3333333333333333,
              "#9c179e"
             ],
             [
              0.4444444444444444,
              "#bd3786"
             ],
             [
              0.5555555555555556,
              "#d8576b"
             ],
             [
              0.6666666666666666,
              "#ed7953"
             ],
             [
              0.7777777777777778,
              "#fb9f3a"
             ],
             [
              0.8888888888888888,
              "#fdca26"
             ],
             [
              1,
              "#f0f921"
             ]
            ],
            "type": "heatmapgl"
           }
          ],
          "histogram": [
           {
            "marker": {
             "colorbar": {
              "outlinewidth": 0,
              "ticks": ""
             }
            },
            "type": "histogram"
           }
          ],
          "histogram2d": [
           {
            "colorbar": {
             "outlinewidth": 0,
             "ticks": ""
            },
            "colorscale": [
             [
              0,
              "#0d0887"
             ],
             [
              0.1111111111111111,
              "#46039f"
             ],
             [
              0.2222222222222222,
              "#7201a8"
             ],
             [
              0.3333333333333333,
              "#9c179e"
             ],
             [
              0.4444444444444444,
              "#bd3786"
             ],
             [
              0.5555555555555556,
              "#d8576b"
             ],
             [
              0.6666666666666666,
              "#ed7953"
             ],
             [
              0.7777777777777778,
              "#fb9f3a"
             ],
             [
              0.8888888888888888,
              "#fdca26"
             ],
             [
              1,
              "#f0f921"
             ]
            ],
            "type": "histogram2d"
           }
          ],
          "histogram2dcontour": [
           {
            "colorbar": {
             "outlinewidth": 0,
             "ticks": ""
            },
            "colorscale": [
             [
              0,
              "#0d0887"
             ],
             [
              0.1111111111111111,
              "#46039f"
             ],
             [
              0.2222222222222222,
              "#7201a8"
             ],
             [
              0.3333333333333333,
              "#9c179e"
             ],
             [
              0.4444444444444444,
              "#bd3786"
             ],
             [
              0.5555555555555556,
              "#d8576b"
             ],
             [
              0.6666666666666666,
              "#ed7953"
             ],
             [
              0.7777777777777778,
              "#fb9f3a"
             ],
             [
              0.8888888888888888,
              "#fdca26"
             ],
             [
              1,
              "#f0f921"
             ]
            ],
            "type": "histogram2dcontour"
           }
          ],
          "mesh3d": [
           {
            "colorbar": {
             "outlinewidth": 0,
             "ticks": ""
            },
            "type": "mesh3d"
           }
          ],
          "parcoords": [
           {
            "line": {
             "colorbar": {
              "outlinewidth": 0,
              "ticks": ""
             }
            },
            "type": "parcoords"
           }
          ],
          "pie": [
           {
            "automargin": true,
            "type": "pie"
           }
          ],
          "scatter": [
           {
            "marker": {
             "colorbar": {
              "outlinewidth": 0,
              "ticks": ""
             }
            },
            "type": "scatter"
           }
          ],
          "scatter3d": [
           {
            "line": {
             "colorbar": {
              "outlinewidth": 0,
              "ticks": ""
             }
            },
            "marker": {
             "colorbar": {
              "outlinewidth": 0,
              "ticks": ""
             }
            },
            "type": "scatter3d"
           }
          ],
          "scattercarpet": [
           {
            "marker": {
             "colorbar": {
              "outlinewidth": 0,
              "ticks": ""
             }
            },
            "type": "scattercarpet"
           }
          ],
          "scattergeo": [
           {
            "marker": {
             "colorbar": {
              "outlinewidth": 0,
              "ticks": ""
             }
            },
            "type": "scattergeo"
           }
          ],
          "scattergl": [
           {
            "marker": {
             "colorbar": {
              "outlinewidth": 0,
              "ticks": ""
             }
            },
            "type": "scattergl"
           }
          ],
          "scattermapbox": [
           {
            "marker": {
             "colorbar": {
              "outlinewidth": 0,
              "ticks": ""
             }
            },
            "type": "scattermapbox"
           }
          ],
          "scatterpolar": [
           {
            "marker": {
             "colorbar": {
              "outlinewidth": 0,
              "ticks": ""
             }
            },
            "type": "scatterpolar"
           }
          ],
          "scatterpolargl": [
           {
            "marker": {
             "colorbar": {
              "outlinewidth": 0,
              "ticks": ""
             }
            },
            "type": "scatterpolargl"
           }
          ],
          "scatterternary": [
           {
            "marker": {
             "colorbar": {
              "outlinewidth": 0,
              "ticks": ""
             }
            },
            "type": "scatterternary"
           }
          ],
          "surface": [
           {
            "colorbar": {
             "outlinewidth": 0,
             "ticks": ""
            },
            "colorscale": [
             [
              0,
              "#0d0887"
             ],
             [
              0.1111111111111111,
              "#46039f"
             ],
             [
              0.2222222222222222,
              "#7201a8"
             ],
             [
              0.3333333333333333,
              "#9c179e"
             ],
             [
              0.4444444444444444,
              "#bd3786"
             ],
             [
              0.5555555555555556,
              "#d8576b"
             ],
             [
              0.6666666666666666,
              "#ed7953"
             ],
             [
              0.7777777777777778,
              "#fb9f3a"
             ],
             [
              0.8888888888888888,
              "#fdca26"
             ],
             [
              1,
              "#f0f921"
             ]
            ],
            "type": "surface"
           }
          ],
          "table": [
           {
            "cells": {
             "fill": {
              "color": "#EBF0F8"
             },
             "line": {
              "color": "white"
             }
            },
            "header": {
             "fill": {
              "color": "#C8D4E3"
             },
             "line": {
              "color": "white"
             }
            },
            "type": "table"
           }
          ]
         },
         "layout": {
          "annotationdefaults": {
           "arrowcolor": "#2a3f5f",
           "arrowhead": 0,
           "arrowwidth": 1
          },
          "coloraxis": {
           "colorbar": {
            "outlinewidth": 0,
            "ticks": ""
           }
          },
          "colorscale": {
           "diverging": [
            [
             0,
             "#8e0152"
            ],
            [
             0.1,
             "#c51b7d"
            ],
            [
             0.2,
             "#de77ae"
            ],
            [
             0.3,
             "#f1b6da"
            ],
            [
             0.4,
             "#fde0ef"
            ],
            [
             0.5,
             "#f7f7f7"
            ],
            [
             0.6,
             "#e6f5d0"
            ],
            [
             0.7,
             "#b8e186"
            ],
            [
             0.8,
             "#7fbc41"
            ],
            [
             0.9,
             "#4d9221"
            ],
            [
             1,
             "#276419"
            ]
           ],
           "sequential": [
            [
             0,
             "#0d0887"
            ],
            [
             0.1111111111111111,
             "#46039f"
            ],
            [
             0.2222222222222222,
             "#7201a8"
            ],
            [
             0.3333333333333333,
             "#9c179e"
            ],
            [
             0.4444444444444444,
             "#bd3786"
            ],
            [
             0.5555555555555556,
             "#d8576b"
            ],
            [
             0.6666666666666666,
             "#ed7953"
            ],
            [
             0.7777777777777778,
             "#fb9f3a"
            ],
            [
             0.8888888888888888,
             "#fdca26"
            ],
            [
             1,
             "#f0f921"
            ]
           ],
           "sequentialminus": [
            [
             0,
             "#0d0887"
            ],
            [
             0.1111111111111111,
             "#46039f"
            ],
            [
             0.2222222222222222,
             "#7201a8"
            ],
            [
             0.3333333333333333,
             "#9c179e"
            ],
            [
             0.4444444444444444,
             "#bd3786"
            ],
            [
             0.5555555555555556,
             "#d8576b"
            ],
            [
             0.6666666666666666,
             "#ed7953"
            ],
            [
             0.7777777777777778,
             "#fb9f3a"
            ],
            [
             0.8888888888888888,
             "#fdca26"
            ],
            [
             1,
             "#f0f921"
            ]
           ]
          },
          "colorway": [
           "#636efa",
           "#EF553B",
           "#00cc96",
           "#ab63fa",
           "#FFA15A",
           "#19d3f3",
           "#FF6692",
           "#B6E880",
           "#FF97FF",
           "#FECB52"
          ],
          "font": {
           "color": "#2a3f5f"
          },
          "geo": {
           "bgcolor": "white",
           "lakecolor": "white",
           "landcolor": "white",
           "showlakes": true,
           "showland": true,
           "subunitcolor": "#C8D4E3"
          },
          "hoverlabel": {
           "align": "left"
          },
          "hovermode": "closest",
          "mapbox": {
           "style": "light"
          },
          "paper_bgcolor": "white",
          "plot_bgcolor": "white",
          "polar": {
           "angularaxis": {
            "gridcolor": "#EBF0F8",
            "linecolor": "#EBF0F8",
            "ticks": ""
           },
           "bgcolor": "white",
           "radialaxis": {
            "gridcolor": "#EBF0F8",
            "linecolor": "#EBF0F8",
            "ticks": ""
           }
          },
          "scene": {
           "xaxis": {
            "backgroundcolor": "white",
            "gridcolor": "#DFE8F3",
            "gridwidth": 2,
            "linecolor": "#EBF0F8",
            "showbackground": true,
            "ticks": "",
            "zerolinecolor": "#EBF0F8"
           },
           "yaxis": {
            "backgroundcolor": "white",
            "gridcolor": "#DFE8F3",
            "gridwidth": 2,
            "linecolor": "#EBF0F8",
            "showbackground": true,
            "ticks": "",
            "zerolinecolor": "#EBF0F8"
           },
           "zaxis": {
            "backgroundcolor": "white",
            "gridcolor": "#DFE8F3",
            "gridwidth": 2,
            "linecolor": "#EBF0F8",
            "showbackground": true,
            "ticks": "",
            "zerolinecolor": "#EBF0F8"
           }
          },
          "shapedefaults": {
           "line": {
            "color": "#2a3f5f"
           }
          },
          "ternary": {
           "aaxis": {
            "gridcolor": "#DFE8F3",
            "linecolor": "#A2B1C6",
            "ticks": ""
           },
           "baxis": {
            "gridcolor": "#DFE8F3",
            "linecolor": "#A2B1C6",
            "ticks": ""
           },
           "bgcolor": "white",
           "caxis": {
            "gridcolor": "#DFE8F3",
            "linecolor": "#A2B1C6",
            "ticks": ""
           }
          },
          "title": {
           "x": 0.05
          },
          "xaxis": {
           "automargin": true,
           "gridcolor": "#EBF0F8",
           "linecolor": "#EBF0F8",
           "ticks": "",
           "title": {
            "standoff": 15
           },
           "zerolinecolor": "#EBF0F8",
           "zerolinewidth": 2
          },
          "yaxis": {
           "automargin": true,
           "gridcolor": "#EBF0F8",
           "linecolor": "#EBF0F8",
           "ticks": "",
           "title": {
            "standoff": 15
           },
           "zerolinecolor": "#EBF0F8",
           "zerolinewidth": 2
          }
         }
        },
        "title": {
         "text": ""
        },
        "updatemenus": [
         {
          "buttons": [
           {
            "args": [
             {
              "visible": [
               true,
               false
              ]
             }
            ],
            "label": "                                                              Nombre de club 2015                                                                  ",
            "method": "update"
           },
           {
            "args": [
             {
              "visible": [
               false,
               true
              ]
             }
            ],
            "label": "                                                              Nombre de pionnier 2015",
            "method": "update"
           },
           {
            "args": [
             {
              "visible": [
               true,
               true
              ]
             }
            ],
            "label": "                                                              Voir tous",
            "method": "update"
           }
          ],
          "x": 1.1,
          "y": 1.3
         }
        ]
       }
      },
      "text/html": [
       "<div>\n",
       "        \n",
       "        \n",
       "            <div id=\"347ad9f5-8e65-4a58-ab2f-e525ed091a86\" class=\"plotly-graph-div\" style=\"height:525px; width:100%;\"></div>\n",
       "            <script type=\"text/javascript\">\n",
       "                require([\"plotly\"], function(Plotly) {\n",
       "                    window.PLOTLYENV=window.PLOTLYENV || {};\n",
       "                    \n",
       "                if (document.getElementById(\"347ad9f5-8e65-4a58-ab2f-e525ed091a86\")) {\n",
       "                    Plotly.newPlot(\n",
       "                        '347ad9f5-8e65-4a58-ab2f-e525ed091a86',\n",
       "                        [{\"marker\": {\"color\": \"RoyalBlue\"}, \"name\": \"Nombre de club 2015\", \"type\": \"bar\", \"visible\": true, \"x\": [\"Ariana\", \"Ben Arous\", \"Bizerte\", \"B\\u00e9ja\", \"Gab\\u00e8s\", \"Gafsa\", \"Jendouba\", \"Kairouan\", \"Kass\\u00e9rine\", \"Kebili\", \"Le Kef\", \"Mahdia\", \"Manubah\", \"Monastir\", \"M\\u00e9denine\", \"Nabeul\", \"Sfax\", \"Sidi Bou Zid\", \"Siliana\", \"Sousse\", \"Tataouine\", \"Tozeur\", \"Tunis\", \"Zaghouan\"], \"y\": [15, 54, 82, 38, 31, 53, 31, 28, 59, 23, 52, 56, 27, 63, 34, 53, 88, 57, 41, 63, 37, 19, 129, 17]}, {\"marker\": {\"color\": \"silver\"}, \"name\": \"Nombre de pionnier 2015\", \"type\": \"bar\", \"visible\": false, \"x\": [\"Ariana\", \"Ben Arous\", \"Bizerte\", \"B\\u00e9ja\", \"Gab\\u00e8s\", \"Gafsa\", \"Jendouba\", \"Kairouan\", \"Kass\\u00e9rine\", \"Kebili\", \"Le Kef\", \"Mahdia\", \"Manubah\", \"Monastir\", \"M\\u00e9denine\", \"Nabeul\", \"Sfax\", \"Sidi Bou Zid\", \"Siliana\", \"Sousse\", \"Tataouine\", \"Tozeur\", \"Tunis\", \"Zaghouan\"], \"y\": [392, 689, 1354, 552, 410, 988, 591, 649, 784, 269, 671, 941, 970, 1006, 743, 688, 1845, 928, 807, 1407, 562, 464, 2127, 275]}],\n",
       "                        {\"font\": {\"family\": \" Gravitas One, cursive\", \"size\": 16}, \"template\": {\"data\": {\"bar\": [{\"error_x\": {\"color\": \"#2a3f5f\"}, \"error_y\": {\"color\": \"#2a3f5f\"}, \"marker\": {\"line\": {\"color\": \"white\", \"width\": 0.5}}, \"type\": \"bar\"}], \"barpolar\": [{\"marker\": {\"line\": {\"color\": \"white\", \"width\": 0.5}}, \"type\": \"barpolar\"}], \"carpet\": [{\"aaxis\": {\"endlinecolor\": \"#2a3f5f\", \"gridcolor\": \"#C8D4E3\", \"linecolor\": \"#C8D4E3\", \"minorgridcolor\": \"#C8D4E3\", \"startlinecolor\": \"#2a3f5f\"}, \"baxis\": {\"endlinecolor\": \"#2a3f5f\", \"gridcolor\": \"#C8D4E3\", \"linecolor\": \"#C8D4E3\", \"minorgridcolor\": \"#C8D4E3\", \"startlinecolor\": \"#2a3f5f\"}, \"type\": \"carpet\"}], \"choropleth\": [{\"colorbar\": {\"outlinewidth\": 0, \"ticks\": \"\"}, \"type\": \"choropleth\"}], \"contour\": [{\"colorbar\": {\"outlinewidth\": 0, \"ticks\": \"\"}, \"colorscale\": [[0.0, \"#0d0887\"], [0.1111111111111111, \"#46039f\"], [0.2222222222222222, \"#7201a8\"], [0.3333333333333333, \"#9c179e\"], [0.4444444444444444, \"#bd3786\"], [0.5555555555555556, \"#d8576b\"], [0.6666666666666666, \"#ed7953\"], [0.7777777777777778, \"#fb9f3a\"], [0.8888888888888888, \"#fdca26\"], [1.0, \"#f0f921\"]], \"type\": \"contour\"}], \"contourcarpet\": [{\"colorbar\": {\"outlinewidth\": 0, \"ticks\": \"\"}, \"type\": \"contourcarpet\"}], \"heatmap\": [{\"colorbar\": {\"outlinewidth\": 0, \"ticks\": \"\"}, \"colorscale\": [[0.0, \"#0d0887\"], [0.1111111111111111, \"#46039f\"], [0.2222222222222222, \"#7201a8\"], [0.3333333333333333, \"#9c179e\"], [0.4444444444444444, \"#bd3786\"], [0.5555555555555556, \"#d8576b\"], [0.6666666666666666, \"#ed7953\"], [0.7777777777777778, \"#fb9f3a\"], [0.8888888888888888, \"#fdca26\"], [1.0, \"#f0f921\"]], \"type\": \"heatmap\"}], \"heatmapgl\": [{\"colorbar\": {\"outlinewidth\": 0, \"ticks\": \"\"}, \"colorscale\": [[0.0, \"#0d0887\"], [0.1111111111111111, \"#46039f\"], [0.2222222222222222, \"#7201a8\"], [0.3333333333333333, \"#9c179e\"], [0.4444444444444444, \"#bd3786\"], [0.5555555555555556, \"#d8576b\"], [0.6666666666666666, \"#ed7953\"], [0.7777777777777778, \"#fb9f3a\"], [0.8888888888888888, \"#fdca26\"], [1.0, \"#f0f921\"]], \"type\": \"heatmapgl\"}], \"histogram\": [{\"marker\": {\"colorbar\": {\"outlinewidth\": 0, \"ticks\": \"\"}}, \"type\": \"histogram\"}], \"histogram2d\": [{\"colorbar\": {\"outlinewidth\": 0, \"ticks\": \"\"}, \"colorscale\": [[0.0, \"#0d0887\"], [0.1111111111111111, \"#46039f\"], [0.2222222222222222, \"#7201a8\"], [0.3333333333333333, \"#9c179e\"], [0.4444444444444444, \"#bd3786\"], [0.5555555555555556, \"#d8576b\"], [0.6666666666666666, \"#ed7953\"], [0.7777777777777778, \"#fb9f3a\"], [0.8888888888888888, \"#fdca26\"], [1.0, \"#f0f921\"]], \"type\": \"histogram2d\"}], \"histogram2dcontour\": [{\"colorbar\": {\"outlinewidth\": 0, \"ticks\": \"\"}, \"colorscale\": [[0.0, \"#0d0887\"], [0.1111111111111111, \"#46039f\"], [0.2222222222222222, \"#7201a8\"], [0.3333333333333333, \"#9c179e\"], [0.4444444444444444, \"#bd3786\"], [0.5555555555555556, \"#d8576b\"], [0.6666666666666666, \"#ed7953\"], [0.7777777777777778, \"#fb9f3a\"], [0.8888888888888888, \"#fdca26\"], [1.0, \"#f0f921\"]], \"type\": \"histogram2dcontour\"}], \"mesh3d\": [{\"colorbar\": {\"outlinewidth\": 0, \"ticks\": \"\"}, \"type\": \"mesh3d\"}], \"parcoords\": [{\"line\": {\"colorbar\": {\"outlinewidth\": 0, \"ticks\": \"\"}}, \"type\": \"parcoords\"}], \"pie\": [{\"automargin\": true, \"type\": \"pie\"}], \"scatter\": [{\"marker\": {\"colorbar\": {\"outlinewidth\": 0, \"ticks\": \"\"}}, \"type\": \"scatter\"}], \"scatter3d\": [{\"line\": {\"colorbar\": {\"outlinewidth\": 0, \"ticks\": \"\"}}, \"marker\": {\"colorbar\": {\"outlinewidth\": 0, \"ticks\": \"\"}}, \"type\": \"scatter3d\"}], \"scattercarpet\": [{\"marker\": {\"colorbar\": {\"outlinewidth\": 0, \"ticks\": \"\"}}, \"type\": \"scattercarpet\"}], \"scattergeo\": [{\"marker\": {\"colorbar\": {\"outlinewidth\": 0, \"ticks\": \"\"}}, \"type\": \"scattergeo\"}], \"scattergl\": [{\"marker\": {\"colorbar\": {\"outlinewidth\": 0, \"ticks\": \"\"}}, \"type\": \"scattergl\"}], \"scattermapbox\": [{\"marker\": {\"colorbar\": {\"outlinewidth\": 0, \"ticks\": \"\"}}, \"type\": \"scattermapbox\"}], \"scatterpolar\": [{\"marker\": {\"colorbar\": {\"outlinewidth\": 0, \"ticks\": \"\"}}, \"type\": \"scatterpolar\"}], \"scatterpolargl\": [{\"marker\": {\"colorbar\": {\"outlinewidth\": 0, \"ticks\": \"\"}}, \"type\": \"scatterpolargl\"}], \"scatterternary\": [{\"marker\": {\"colorbar\": {\"outlinewidth\": 0, \"ticks\": \"\"}}, \"type\": \"scatterternary\"}], \"surface\": [{\"colorbar\": {\"outlinewidth\": 0, \"ticks\": \"\"}, \"colorscale\": [[0.0, \"#0d0887\"], [0.1111111111111111, \"#46039f\"], [0.2222222222222222, \"#7201a8\"], [0.3333333333333333, \"#9c179e\"], [0.4444444444444444, \"#bd3786\"], [0.5555555555555556, \"#d8576b\"], [0.6666666666666666, \"#ed7953\"], [0.7777777777777778, \"#fb9f3a\"], [0.8888888888888888, \"#fdca26\"], [1.0, \"#f0f921\"]], \"type\": \"surface\"}], \"table\": [{\"cells\": {\"fill\": {\"color\": \"#EBF0F8\"}, \"line\": {\"color\": \"white\"}}, \"header\": {\"fill\": {\"color\": \"#C8D4E3\"}, \"line\": {\"color\": \"white\"}}, \"type\": \"table\"}]}, \"layout\": {\"annotationdefaults\": {\"arrowcolor\": \"#2a3f5f\", \"arrowhead\": 0, \"arrowwidth\": 1}, \"coloraxis\": {\"colorbar\": {\"outlinewidth\": 0, \"ticks\": \"\"}}, \"colorscale\": {\"diverging\": [[0, \"#8e0152\"], [0.1, \"#c51b7d\"], [0.2, \"#de77ae\"], [0.3, \"#f1b6da\"], [0.4, \"#fde0ef\"], [0.5, \"#f7f7f7\"], [0.6, \"#e6f5d0\"], [0.7, \"#b8e186\"], [0.8, \"#7fbc41\"], [0.9, \"#4d9221\"], [1, \"#276419\"]], \"sequential\": [[0.0, \"#0d0887\"], [0.1111111111111111, \"#46039f\"], [0.2222222222222222, \"#7201a8\"], [0.3333333333333333, \"#9c179e\"], [0.4444444444444444, \"#bd3786\"], [0.5555555555555556, \"#d8576b\"], [0.6666666666666666, \"#ed7953\"], [0.7777777777777778, \"#fb9f3a\"], [0.8888888888888888, \"#fdca26\"], [1.0, \"#f0f921\"]], \"sequentialminus\": [[0.0, \"#0d0887\"], [0.1111111111111111, \"#46039f\"], [0.2222222222222222, \"#7201a8\"], [0.3333333333333333, \"#9c179e\"], [0.4444444444444444, \"#bd3786\"], [0.5555555555555556, \"#d8576b\"], [0.6666666666666666, \"#ed7953\"], [0.7777777777777778, \"#fb9f3a\"], [0.8888888888888888, \"#fdca26\"], [1.0, \"#f0f921\"]]}, \"colorway\": [\"#636efa\", \"#EF553B\", \"#00cc96\", \"#ab63fa\", \"#FFA15A\", \"#19d3f3\", \"#FF6692\", \"#B6E880\", \"#FF97FF\", \"#FECB52\"], \"font\": {\"color\": \"#2a3f5f\"}, \"geo\": {\"bgcolor\": \"white\", \"lakecolor\": \"white\", \"landcolor\": \"white\", \"showlakes\": true, \"showland\": true, \"subunitcolor\": \"#C8D4E3\"}, \"hoverlabel\": {\"align\": \"left\"}, \"hovermode\": \"closest\", \"mapbox\": {\"style\": \"light\"}, \"paper_bgcolor\": \"white\", \"plot_bgcolor\": \"white\", \"polar\": {\"angularaxis\": {\"gridcolor\": \"#EBF0F8\", \"linecolor\": \"#EBF0F8\", \"ticks\": \"\"}, \"bgcolor\": \"white\", \"radialaxis\": {\"gridcolor\": \"#EBF0F8\", \"linecolor\": \"#EBF0F8\", \"ticks\": \"\"}}, \"scene\": {\"xaxis\": {\"backgroundcolor\": \"white\", \"gridcolor\": \"#DFE8F3\", \"gridwidth\": 2, \"linecolor\": \"#EBF0F8\", \"showbackground\": true, \"ticks\": \"\", \"zerolinecolor\": \"#EBF0F8\"}, \"yaxis\": {\"backgroundcolor\": \"white\", \"gridcolor\": \"#DFE8F3\", \"gridwidth\": 2, \"linecolor\": \"#EBF0F8\", \"showbackground\": true, \"ticks\": \"\", \"zerolinecolor\": \"#EBF0F8\"}, \"zaxis\": {\"backgroundcolor\": \"white\", \"gridcolor\": \"#DFE8F3\", \"gridwidth\": 2, \"linecolor\": \"#EBF0F8\", \"showbackground\": true, \"ticks\": \"\", \"zerolinecolor\": \"#EBF0F8\"}}, \"shapedefaults\": {\"line\": {\"color\": \"#2a3f5f\"}}, \"ternary\": {\"aaxis\": {\"gridcolor\": \"#DFE8F3\", \"linecolor\": \"#A2B1C6\", \"ticks\": \"\"}, \"baxis\": {\"gridcolor\": \"#DFE8F3\", \"linecolor\": \"#A2B1C6\", \"ticks\": \"\"}, \"bgcolor\": \"white\", \"caxis\": {\"gridcolor\": \"#DFE8F3\", \"linecolor\": \"#A2B1C6\", \"ticks\": \"\"}}, \"title\": {\"x\": 0.05}, \"xaxis\": {\"automargin\": true, \"gridcolor\": \"#EBF0F8\", \"linecolor\": \"#EBF0F8\", \"ticks\": \"\", \"title\": {\"standoff\": 15}, \"zerolinecolor\": \"#EBF0F8\", \"zerolinewidth\": 2}, \"yaxis\": {\"automargin\": true, \"gridcolor\": \"#EBF0F8\", \"linecolor\": \"#EBF0F8\", \"ticks\": \"\", \"title\": {\"standoff\": 15}, \"zerolinecolor\": \"#EBF0F8\", \"zerolinewidth\": 2}}}, \"title\": {\"text\": \"\"}, \"updatemenus\": [{\"buttons\": [{\"args\": [{\"visible\": [true, false]}], \"label\": \"                                                              Nombre de club 2015                                                                  \", \"method\": \"update\"}, {\"args\": [{\"visible\": [false, true]}], \"label\": \"                                                              Nombre de pionnier 2015\", \"method\": \"update\"}, {\"args\": [{\"visible\": [true, true]}], \"label\": \"                                                              Voir tous\", \"method\": \"update\"}], \"x\": 1.1, \"y\": 1.3}]},\n",
       "                        {\"responsive\": true}\n",
       "                    ).then(function(){\n",
       "                            \n",
       "var gd = document.getElementById('347ad9f5-8e65-4a58-ab2f-e525ed091a86');\n",
       "var x = new MutationObserver(function (mutations, observer) {{\n",
       "        var display = window.getComputedStyle(gd).display;\n",
       "        if (!display || display === 'none') {{\n",
       "            console.log([gd, 'removed!']);\n",
       "            Plotly.purge(gd);\n",
       "            observer.disconnect();\n",
       "        }}\n",
       "}});\n",
       "\n",
       "// Listen for the removal of the full notebook cells\n",
       "var notebookContainer = gd.closest('#notebook-container');\n",
       "if (notebookContainer) {{\n",
       "    x.observe(notebookContainer, {childList: true});\n",
       "}}\n",
       "\n",
       "// Listen for the clearing of the current output cell\n",
       "var outputEl = gd.closest('.output');\n",
       "if (outputEl) {{\n",
       "    x.observe(outputEl, {childList: true});\n",
       "}}\n",
       "\n",
       "                        })\n",
       "                };\n",
       "                });\n",
       "            </script>\n",
       "        </div>"
      ]
     },
     "metadata": {},
     "output_type": "display_data"
    }
   ],
   "source": [
    "df13=pd.read_csv('statistiqueclubsculturels2015.csv')\n",
    "df14=df13.groupby('gov_name_f').sum()\n",
    "data_bar=[ go.Bar(name='Nombre de club 2015',\n",
    "           visible=True,\n",
    "           x=df14.index, \n",
    "           y=df14['Nombre_clubs'],\n",
    "           marker_color='RoyalBlue'), \n",
    "          \n",
    "          go.Bar(name='Nombre de pionnier 2015',\n",
    "           visible=False,\n",
    "           x=df14.index, \n",
    "           y=df14['pionniers_club'],\n",
    "           marker_color='silver'),]\n",
    "list_updatemenus=[\n",
    "        {'args':[{\"visible\":[True,False]}],\n",
    "         'label':\"                                                              Nombre de club 2015                                                                  \",\n",
    "         'method':\"update\"},\n",
    "    \n",
    "        { 'args':[{\"visible\":[False,True]}],\n",
    "         'label':\"                                                              Nombre de pionnier 2015\",\n",
    "         'method':\"update\"},\n",
    "    { 'args':[{\"visible\":[True,True]}],\n",
    "         'label':\"                                                              Voir tous\",\n",
    "         'method':\"update\"}\n",
    "]\n",
    "layout_bar=go.Layout(updatemenus=list([dict(buttons= list_updatemenus,x=1.1,y=1.3)]),\n",
    "                     title_text=\"\",\n",
    "                     template='plotly_white',\n",
    "                     font=dict(\n",
    "                    family=\" Gravitas One, cursive\",\n",
    "                    size=16))\n",
    "\n",
    "#defining figure and plotting\n",
    "nbre_club_pion = go.Figure(data_bar,layout_bar)\n",
    "nbre_club_pion.show()\n",
    "     "
   ]
  },
  {
   "cell_type": "markdown",
   "metadata": {},
   "source": [
    "# Festivals"
   ]
  },
  {
   "cell_type": "code",
   "execution_count": 11,
   "metadata": {},
   "outputs": [
    {
     "data": {
      "text/html": [
       "<div style=\"width:100%;\"><div style=\"position:relative;width:100%;height:0;padding-bottom:60%;\"><iframe src=\"about:blank\" style=\"position:absolute;width:100%;height:100%;left:0;top:0;border:none !important;\" data-html=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 onload=\"this.contentDocument.open();this.contentDocument.write(atob(this.getAttribute('data-html')));this.contentDocument.close();\" allowfullscreen webkitallowfullscreen mozallowfullscreen></iframe></div></div>"
      ],
      "text/plain": [
       "<folium.folium.Map at 0x1cd6207b1c8>"
      ]
     },
     "execution_count": 11,
     "metadata": {},
     "output_type": "execute_result"
    }
   ],
   "source": [
    "df15 = pd.read_csv('nombre-festivals-par-gouvernourat.csv')\n",
    "\n",
    "tunisia_geo = r'listegouvernoratstn (1).geojson' # geojson file of tunisia\n",
    "tunisia_map_Fest = folium.Map(location=[33.79, 9.59], zoom_start=6.49)\n",
    "folium.Marker([36.7911558,10.1804308 ], popup= df15.loc[0,'nb festivals'],\n",
    "              icon=folium.Icon(color='green')).add_to(tunisia_map_Fest) #label the marker Tunis\n",
    "folium.Marker([36.9685735,10.1219855], popup= df15.loc[1,'nb festivals'],\n",
    "              icon=folium.Icon(color='green')).add_to(tunisia_map_Fest) #label the marker ariena\n",
    "folium.Marker([36.7488603,10.2246008], popup= df15.loc[2,'nb festivals'],\n",
    "              icon=folium.Icon(color='green')).add_to(tunisia_map_Fest) #label the marker Ben Arous\n",
    "folium.Marker([36.808812726759626,10.086532577929486], popup= df15.loc[3,'nb festivals'],\n",
    "              icon=folium.Icon(color='green')).add_to(tunisia_map_Fest) #label the markr Manouba\n",
    "folium.Marker([36.4823676 ,10.6707197], popup=  df15.loc[4,'nb festivals'],\n",
    "              icon=folium.Icon(color='green')).add_to(tunisia_map_Fest) #label the marker Nabeul\n",
    "folium.Marker([36.4117196,10.2019798], popup= df15.loc[5,'nb festivals'],\n",
    "              icon=folium.Icon(color='green')).add_to(tunisia_map_Fest) #label the markr Zoughan\n",
    "folium.Marker([37.2720905,9.8708565], popup= df15.loc[6,'nb festivals'],\n",
    "              icon=folium.Icon(color='green')).add_to(tunisia_map_Fest) #label the markr Benzart\n",
    "folium.Marker([36.7462303,9.2032328], popup= df15.loc[7,'nb festivals'],\n",
    "              icon=folium.Icon(color='green')).add_to(tunisia_map_Fest) #label the markr Beja \n",
    "folium.Marker([36.6779725,8.752647], popup= df15.loc[8,'nb festivals'],\n",
    "              icon=folium.Icon(color='green')).add_to(tunisia_map_Fest) #label the markr Jendouba\n",
    "folium.Marker([36.0357642,8.7249381], popup= df15.loc[9,'nb festivals'],\n",
    "              icon=folium.Icon(color='green')).add_to(tunisia_map_Fest) #label the markr Kef\n",
    "folium.Marker([35.9715323,9.3577129], popup= df15.loc[10,'nb festivals'],\n",
    "              icon=folium.Icon(color='green')).add_to(tunisia_map_Fest) #label the markr Siliana\n",
    "folium.Marker([35.828829,10.640525], popup= df15.loc[11,'nb festivals'],\n",
    "              icon=folium.Icon(color='green')).add_to(tunisia_map_Fest) #label the markr Sousse\n",
    "folium.Marker([35.7398724,10.7988397], popup= df15.loc[12,'nb festivals'],\n",
    "              icon=folium.Icon(color='green')).add_to(tunisia_map_Fest) #label the markr Monastir\n",
    "folium.Marker([35.4877892,10.9622433], popup= df15.loc[13,'nb festivals'],\n",
    "              icon=folium.Icon(color='green')).add_to(tunisia_map_Fest) #label the markr Mahdia\n",
    "folium.Marker([34.7231273,10.3358789], popup= df15.loc[14,'nb festivals'],\n",
    "              icon=folium.Icon(color='green')).add_to(tunisia_map_Fest) #label the markr Sfax\n",
    "folium.Marker([35.6710101,10.10062], popup= df15.loc[15,'nb festivals'],\n",
    "              icon=folium.Icon(color='green')).add_to(tunisia_map_Fest) #label the markr Kairouan\n",
    "folium.Marker([35.1678191,8.8348097], popup= df15.loc[16,'nb festivals'],\n",
    "              icon=folium.Icon(color='green')).add_to(tunisia_map_Fest) #label the markr Kassrine\n",
    "folium.Marker([35.03396985358989,9.48893761982423], popup= df15.loc[17,'nb festivals'],\n",
    "              icon=folium.Icon(color='green')).add_to(tunisia_map_Fest) #label the markr Sidi Bouzid\n",
    "folium.Marker([33.7765032,9.793063], popup= df15.loc[18,'nb festivals'],\n",
    "              icon=folium.Icon(color='green')).add_to(tunisia_map_Fest) #label the markr Gabes\n",
    "folium.Marker([32.9819987,11.2870254], popup= df15.loc[19,'nb festivals'],\n",
    "              icon=folium.Icon(color='green')).add_to(tunisia_map_Fest) #label the markr Mednine\n",
    "folium.Marker([31.7317009,9.7702197], popup= df15.loc[20,'nb festivals'],\n",
    "              icon=folium.Icon(color='green')).add_to(tunisia_map_Fest) #label the markr Tataouine\n",
    "folium.Marker([34.43367,8.7907988], popup= df15.loc[21,'nb festivals'],\n",
    "              icon=folium.Icon(color='green')).add_to(tunisia_map_Fest) #label the markr Gafsa\n",
    "folium.Marker([33.913485,8.1118241], popup= df15.loc[22,'nb festivals'],\n",
    "              icon=folium.Icon(color='green')).add_to(tunisia_map_Fest) #label the markr Tozeur\n",
    "folium.Marker([33.7061148,8.9698376], popup= df15.loc[22,'nb festivals'],\n",
    "              icon=folium.Icon(color='green')).add_to(tunisia_map_Fest) #label the markr Kebili\n",
    "\n",
    "tunisia_map_Fest.save('tunisia_map_Fest.html')\n",
    "\n",
    "tunisia_map_Fest"
   ]
  },
  {
   "cell_type": "code",
   "execution_count": 12,
   "metadata": {},
   "outputs": [
    {
     "data": {
      "application/vnd.plotly.v1+json": {
       "config": {
        "plotlyServerURL": "https://plot.ly"
       },
       "data": [
        {
         "marker": {
          "color": "Silver"
         },
         "name": "Esstimation",
         "type": "bar",
         "x": [
          "منحة الوزارة",
          "منحة مركز الوطني للسنما و الصورة",
          "مداخيل التذاكر",
          "مداخيل الإشهار",
          "منحة استثنائية من الوزارة في اطار برنامج مقاومة الإرهاب",
          "مدخيل أخرى  Boutique JCC"
         ],
         "y": [
          450000,
          1500000,
          200000,
          600000,
          400000,
          0
         ]
        },
        {
         "marker": {
          "color": "lightseagreen"
         },
         "name": "Réalisation",
         "type": "bar",
         "x": [
          "منحة الوزارة",
          "منحة مركز الوطني للسنما و الصورة",
          "مداخيل التذاكر",
          "مداخيل الإشهار",
          "منحة استثنائية من الوزارة في اطار برنامج مقاومة الإرهاب",
          "مدخيل أخرى  Boutique JCC"
         ],
         "y": [
          450000,
          1500000,
          171348,
          1621510.708,
          325000,
          4487
         ]
        }
       ],
       "layout": {
        "barmode": "group",
        "height": 700,
        "template": {
         "data": {
          "bar": [
           {
            "error_x": {
             "color": "#2a3f5f"
            },
            "error_y": {
             "color": "#2a3f5f"
            },
            "marker": {
             "line": {
              "color": "#E5ECF6",
              "width": 0.5
             }
            },
            "type": "bar"
           }
          ],
          "barpolar": [
           {
            "marker": {
             "line": {
              "color": "#E5ECF6",
              "width": 0.5
             }
            },
            "type": "barpolar"
           }
          ],
          "carpet": [
           {
            "aaxis": {
             "endlinecolor": "#2a3f5f",
             "gridcolor": "white",
             "linecolor": "white",
             "minorgridcolor": "white",
             "startlinecolor": "#2a3f5f"
            },
            "baxis": {
             "endlinecolor": "#2a3f5f",
             "gridcolor": "white",
             "linecolor": "white",
             "minorgridcolor": "white",
             "startlinecolor": "#2a3f5f"
            },
            "type": "carpet"
           }
          ],
          "choropleth": [
           {
            "colorbar": {
             "outlinewidth": 0,
             "ticks": ""
            },
            "type": "choropleth"
           }
          ],
          "contour": [
           {
            "colorbar": {
             "outlinewidth": 0,
             "ticks": ""
            },
            "colorscale": [
             [
              0,
              "#0d0887"
             ],
             [
              0.1111111111111111,
              "#46039f"
             ],
             [
              0.2222222222222222,
              "#7201a8"
             ],
             [
              0.3333333333333333,
              "#9c179e"
             ],
             [
              0.4444444444444444,
              "#bd3786"
             ],
             [
              0.5555555555555556,
              "#d8576b"
             ],
             [
              0.6666666666666666,
              "#ed7953"
             ],
             [
              0.7777777777777778,
              "#fb9f3a"
             ],
             [
              0.8888888888888888,
              "#fdca26"
             ],
             [
              1,
              "#f0f921"
             ]
            ],
            "type": "contour"
           }
          ],
          "contourcarpet": [
           {
            "colorbar": {
             "outlinewidth": 0,
             "ticks": ""
            },
            "type": "contourcarpet"
           }
          ],
          "heatmap": [
           {
            "colorbar": {
             "outlinewidth": 0,
             "ticks": ""
            },
            "colorscale": [
             [
              0,
              "#0d0887"
             ],
             [
              0.1111111111111111,
              "#46039f"
             ],
             [
              0.2222222222222222,
              "#7201a8"
             ],
             [
              0.3333333333333333,
              "#9c179e"
             ],
             [
              0.4444444444444444,
              "#bd3786"
             ],
             [
              0.5555555555555556,
              "#d8576b"
             ],
             [
              0.6666666666666666,
              "#ed7953"
             ],
             [
              0.7777777777777778,
              "#fb9f3a"
             ],
             [
              0.8888888888888888,
              "#fdca26"
             ],
             [
              1,
              "#f0f921"
             ]
            ],
            "type": "heatmap"
           }
          ],
          "heatmapgl": [
           {
            "colorbar": {
             "outlinewidth": 0,
             "ticks": ""
            },
            "colorscale": [
             [
              0,
              "#0d0887"
             ],
             [
              0.1111111111111111,
              "#46039f"
             ],
             [
              0.2222222222222222,
              "#7201a8"
             ],
             [
              0.3333333333333333,
              "#9c179e"
             ],
             [
              0.4444444444444444,
              "#bd3786"
             ],
             [
              0.5555555555555556,
              "#d8576b"
             ],
             [
              0.6666666666666666,
              "#ed7953"
             ],
             [
              0.7777777777777778,
              "#fb9f3a"
             ],
             [
              0.8888888888888888,
              "#fdca26"
             ],
             [
              1,
              "#f0f921"
             ]
            ],
            "type": "heatmapgl"
           }
          ],
          "histogram": [
           {
            "marker": {
             "colorbar": {
              "outlinewidth": 0,
              "ticks": ""
             }
            },
            "type": "histogram"
           }
          ],
          "histogram2d": [
           {
            "colorbar": {
             "outlinewidth": 0,
             "ticks": ""
            },
            "colorscale": [
             [
              0,
              "#0d0887"
             ],
             [
              0.1111111111111111,
              "#46039f"
             ],
             [
              0.2222222222222222,
              "#7201a8"
             ],
             [
              0.3333333333333333,
              "#9c179e"
             ],
             [
              0.4444444444444444,
              "#bd3786"
             ],
             [
              0.5555555555555556,
              "#d8576b"
             ],
             [
              0.6666666666666666,
              "#ed7953"
             ],
             [
              0.7777777777777778,
              "#fb9f3a"
             ],
             [
              0.8888888888888888,
              "#fdca26"
             ],
             [
              1,
              "#f0f921"
             ]
            ],
            "type": "histogram2d"
           }
          ],
          "histogram2dcontour": [
           {
            "colorbar": {
             "outlinewidth": 0,
             "ticks": ""
            },
            "colorscale": [
             [
              0,
              "#0d0887"
             ],
             [
              0.1111111111111111,
              "#46039f"
             ],
             [
              0.2222222222222222,
              "#7201a8"
             ],
             [
              0.3333333333333333,
              "#9c179e"
             ],
             [
              0.4444444444444444,
              "#bd3786"
             ],
             [
              0.5555555555555556,
              "#d8576b"
             ],
             [
              0.6666666666666666,
              "#ed7953"
             ],
             [
              0.7777777777777778,
              "#fb9f3a"
             ],
             [
              0.8888888888888888,
              "#fdca26"
             ],
             [
              1,
              "#f0f921"
             ]
            ],
            "type": "histogram2dcontour"
           }
          ],
          "mesh3d": [
           {
            "colorbar": {
             "outlinewidth": 0,
             "ticks": ""
            },
            "type": "mesh3d"
           }
          ],
          "parcoords": [
           {
            "line": {
             "colorbar": {
              "outlinewidth": 0,
              "ticks": ""
             }
            },
            "type": "parcoords"
           }
          ],
          "pie": [
           {
            "automargin": true,
            "type": "pie"
           }
          ],
          "scatter": [
           {
            "marker": {
             "colorbar": {
              "outlinewidth": 0,
              "ticks": ""
             }
            },
            "type": "scatter"
           }
          ],
          "scatter3d": [
           {
            "line": {
             "colorbar": {
              "outlinewidth": 0,
              "ticks": ""
             }
            },
            "marker": {
             "colorbar": {
              "outlinewidth": 0,
              "ticks": ""
             }
            },
            "type": "scatter3d"
           }
          ],
          "scattercarpet": [
           {
            "marker": {
             "colorbar": {
              "outlinewidth": 0,
              "ticks": ""
             }
            },
            "type": "scattercarpet"
           }
          ],
          "scattergeo": [
           {
            "marker": {
             "colorbar": {
              "outlinewidth": 0,
              "ticks": ""
             }
            },
            "type": "scattergeo"
           }
          ],
          "scattergl": [
           {
            "marker": {
             "colorbar": {
              "outlinewidth": 0,
              "ticks": ""
             }
            },
            "type": "scattergl"
           }
          ],
          "scattermapbox": [
           {
            "marker": {
             "colorbar": {
              "outlinewidth": 0,
              "ticks": ""
             }
            },
            "type": "scattermapbox"
           }
          ],
          "scatterpolar": [
           {
            "marker": {
             "colorbar": {
              "outlinewidth": 0,
              "ticks": ""
             }
            },
            "type": "scatterpolar"
           }
          ],
          "scatterpolargl": [
           {
            "marker": {
             "colorbar": {
              "outlinewidth": 0,
              "ticks": ""
             }
            },
            "type": "scatterpolargl"
           }
          ],
          "scatterternary": [
           {
            "marker": {
             "colorbar": {
              "outlinewidth": 0,
              "ticks": ""
             }
            },
            "type": "scatterternary"
           }
          ],
          "surface": [
           {
            "colorbar": {
             "outlinewidth": 0,
             "ticks": ""
            },
            "colorscale": [
             [
              0,
              "#0d0887"
             ],
             [
              0.1111111111111111,
              "#46039f"
             ],
             [
              0.2222222222222222,
              "#7201a8"
             ],
             [
              0.3333333333333333,
              "#9c179e"
             ],
             [
              0.4444444444444444,
              "#bd3786"
             ],
             [
              0.5555555555555556,
              "#d8576b"
             ],
             [
              0.6666666666666666,
              "#ed7953"
             ],
             [
              0.7777777777777778,
              "#fb9f3a"
             ],
             [
              0.8888888888888888,
              "#fdca26"
             ],
             [
              1,
              "#f0f921"
             ]
            ],
            "type": "surface"
           }
          ],
          "table": [
           {
            "cells": {
             "fill": {
              "color": "#EBF0F8"
             },
             "line": {
              "color": "white"
             }
            },
            "header": {
             "fill": {
              "color": "#C8D4E3"
             },
             "line": {
              "color": "white"
             }
            },
            "type": "table"
           }
          ]
         },
         "layout": {
          "annotationdefaults": {
           "arrowcolor": "#2a3f5f",
           "arrowhead": 0,
           "arrowwidth": 1
          },
          "coloraxis": {
           "colorbar": {
            "outlinewidth": 0,
            "ticks": ""
           }
          },
          "colorscale": {
           "diverging": [
            [
             0,
             "#8e0152"
            ],
            [
             0.1,
             "#c51b7d"
            ],
            [
             0.2,
             "#de77ae"
            ],
            [
             0.3,
             "#f1b6da"
            ],
            [
             0.4,
             "#fde0ef"
            ],
            [
             0.5,
             "#f7f7f7"
            ],
            [
             0.6,
             "#e6f5d0"
            ],
            [
             0.7,
             "#b8e186"
            ],
            [
             0.8,
             "#7fbc41"
            ],
            [
             0.9,
             "#4d9221"
            ],
            [
             1,
             "#276419"
            ]
           ],
           "sequential": [
            [
             0,
             "#0d0887"
            ],
            [
             0.1111111111111111,
             "#46039f"
            ],
            [
             0.2222222222222222,
             "#7201a8"
            ],
            [
             0.3333333333333333,
             "#9c179e"
            ],
            [
             0.4444444444444444,
             "#bd3786"
            ],
            [
             0.5555555555555556,
             "#d8576b"
            ],
            [
             0.6666666666666666,
             "#ed7953"
            ],
            [
             0.7777777777777778,
             "#fb9f3a"
            ],
            [
             0.8888888888888888,
             "#fdca26"
            ],
            [
             1,
             "#f0f921"
            ]
           ],
           "sequentialminus": [
            [
             0,
             "#0d0887"
            ],
            [
             0.1111111111111111,
             "#46039f"
            ],
            [
             0.2222222222222222,
             "#7201a8"
            ],
            [
             0.3333333333333333,
             "#9c179e"
            ],
            [
             0.4444444444444444,
             "#bd3786"
            ],
            [
             0.5555555555555556,
             "#d8576b"
            ],
            [
             0.6666666666666666,
             "#ed7953"
            ],
            [
             0.7777777777777778,
             "#fb9f3a"
            ],
            [
             0.8888888888888888,
             "#fdca26"
            ],
            [
             1,
             "#f0f921"
            ]
           ]
          },
          "colorway": [
           "#636efa",
           "#EF553B",
           "#00cc96",
           "#ab63fa",
           "#FFA15A",
           "#19d3f3",
           "#FF6692",
           "#B6E880",
           "#FF97FF",
           "#FECB52"
          ],
          "font": {
           "color": "#2a3f5f"
          },
          "geo": {
           "bgcolor": "white",
           "lakecolor": "white",
           "landcolor": "#E5ECF6",
           "showlakes": true,
           "showland": true,
           "subunitcolor": "white"
          },
          "hoverlabel": {
           "align": "left"
          },
          "hovermode": "closest",
          "mapbox": {
           "style": "light"
          },
          "paper_bgcolor": "white",
          "plot_bgcolor": "#E5ECF6",
          "polar": {
           "angularaxis": {
            "gridcolor": "white",
            "linecolor": "white",
            "ticks": ""
           },
           "bgcolor": "#E5ECF6",
           "radialaxis": {
            "gridcolor": "white",
            "linecolor": "white",
            "ticks": ""
           }
          },
          "scene": {
           "xaxis": {
            "backgroundcolor": "#E5ECF6",
            "gridcolor": "white",
            "gridwidth": 2,
            "linecolor": "white",
            "showbackground": true,
            "ticks": "",
            "zerolinecolor": "white"
           },
           "yaxis": {
            "backgroundcolor": "#E5ECF6",
            "gridcolor": "white",
            "gridwidth": 2,
            "linecolor": "white",
            "showbackground": true,
            "ticks": "",
            "zerolinecolor": "white"
           },
           "zaxis": {
            "backgroundcolor": "#E5ECF6",
            "gridcolor": "white",
            "gridwidth": 2,
            "linecolor": "white",
            "showbackground": true,
            "ticks": "",
            "zerolinecolor": "white"
           }
          },
          "shapedefaults": {
           "line": {
            "color": "#2a3f5f"
           }
          },
          "ternary": {
           "aaxis": {
            "gridcolor": "white",
            "linecolor": "white",
            "ticks": ""
           },
           "baxis": {
            "gridcolor": "white",
            "linecolor": "white",
            "ticks": ""
           },
           "bgcolor": "#E5ECF6",
           "caxis": {
            "gridcolor": "white",
            "linecolor": "white",
            "ticks": ""
           }
          },
          "title": {
           "x": 0.05
          },
          "xaxis": {
           "automargin": true,
           "gridcolor": "white",
           "linecolor": "white",
           "ticks": "",
           "title": {
            "standoff": 15
           },
           "zerolinecolor": "white",
           "zerolinewidth": 2
          },
          "yaxis": {
           "automargin": true,
           "gridcolor": "white",
           "linecolor": "white",
           "ticks": "",
           "title": {
            "standoff": 15
           },
           "zerolinecolor": "white",
           "zerolinewidth": 2
          }
         }
        },
        "title": {
         "text": ""
        }
       }
      },
      "text/html": [
       "<div>\n",
       "        \n",
       "        \n",
       "            <div id=\"d44d9fbb-beb9-45f0-919f-4d7f17eaa0fb\" class=\"plotly-graph-div\" style=\"height:700px; width:100%;\"></div>\n",
       "            <script type=\"text/javascript\">\n",
       "                require([\"plotly\"], function(Plotly) {\n",
       "                    window.PLOTLYENV=window.PLOTLYENV || {};\n",
       "                    \n",
       "                if (document.getElementById(\"d44d9fbb-beb9-45f0-919f-4d7f17eaa0fb\")) {\n",
       "                    Plotly.newPlot(\n",
       "                        'd44d9fbb-beb9-45f0-919f-4d7f17eaa0fb',\n",
       "                        [{\"marker\": {\"color\": \"Silver\"}, \"name\": \"Esstimation\", \"type\": \"bar\", \"x\": [\"\\u0645\\u0646\\u062d\\u0629 \\u0627\\u0644\\u0648\\u0632\\u0627\\u0631\\u0629\", \"\\u0645\\u0646\\u062d\\u0629 \\u0645\\u0631\\u0643\\u0632 \\u0627\\u0644\\u0648\\u0637\\u0646\\u064a \\u0644\\u0644\\u0633\\u0646\\u0645\\u0627 \\u0648 \\u0627\\u0644\\u0635\\u0648\\u0631\\u0629\", \"\\u0645\\u062f\\u0627\\u062e\\u064a\\u0644 \\u0627\\u0644\\u062a\\u0630\\u0627\\u0643\\u0631\", \"\\u0645\\u062f\\u0627\\u062e\\u064a\\u0644 \\u0627\\u0644\\u0625\\u0634\\u0647\\u0627\\u0631\", \"\\u0645\\u0646\\u062d\\u0629 \\u0627\\u0633\\u062a\\u062b\\u0646\\u0627\\u0626\\u064a\\u0629 \\u0645\\u0646 \\u0627\\u0644\\u0648\\u0632\\u0627\\u0631\\u0629 \\u0641\\u064a \\u0627\\u0637\\u0627\\u0631 \\u0628\\u0631\\u0646\\u0627\\u0645\\u062c \\u0645\\u0642\\u0627\\u0648\\u0645\\u0629 \\u0627\\u0644\\u0625\\u0631\\u0647\\u0627\\u0628\", \"\\u0645\\u062f\\u062e\\u064a\\u0644 \\u0623\\u062e\\u0631\\u0649  Boutique JCC\"], \"y\": [450000.0, 1500000.0, 200000.0, 600000.0, 400000.0, 0.0]}, {\"marker\": {\"color\": \"lightseagreen\"}, \"name\": \"R\\u00e9alisation\", \"type\": \"bar\", \"x\": [\"\\u0645\\u0646\\u062d\\u0629 \\u0627\\u0644\\u0648\\u0632\\u0627\\u0631\\u0629\", \"\\u0645\\u0646\\u062d\\u0629 \\u0645\\u0631\\u0643\\u0632 \\u0627\\u0644\\u0648\\u0637\\u0646\\u064a \\u0644\\u0644\\u0633\\u0646\\u0645\\u0627 \\u0648 \\u0627\\u0644\\u0635\\u0648\\u0631\\u0629\", \"\\u0645\\u062f\\u0627\\u062e\\u064a\\u0644 \\u0627\\u0644\\u062a\\u0630\\u0627\\u0643\\u0631\", \"\\u0645\\u062f\\u0627\\u062e\\u064a\\u0644 \\u0627\\u0644\\u0625\\u0634\\u0647\\u0627\\u0631\", \"\\u0645\\u0646\\u062d\\u0629 \\u0627\\u0633\\u062a\\u062b\\u0646\\u0627\\u0626\\u064a\\u0629 \\u0645\\u0646 \\u0627\\u0644\\u0648\\u0632\\u0627\\u0631\\u0629 \\u0641\\u064a \\u0627\\u0637\\u0627\\u0631 \\u0628\\u0631\\u0646\\u0627\\u0645\\u062c \\u0645\\u0642\\u0627\\u0648\\u0645\\u0629 \\u0627\\u0644\\u0625\\u0631\\u0647\\u0627\\u0628\", \"\\u0645\\u062f\\u062e\\u064a\\u0644 \\u0623\\u062e\\u0631\\u0649  Boutique JCC\"], \"y\": [450000.0, 1500000.0, 171348.0, 1621510.708, 325000.0, 4487.0]}],\n",
       "                        {\"barmode\": \"group\", \"height\": 700, \"template\": {\"data\": {\"bar\": [{\"error_x\": {\"color\": \"#2a3f5f\"}, \"error_y\": {\"color\": \"#2a3f5f\"}, \"marker\": {\"line\": {\"color\": \"#E5ECF6\", \"width\": 0.5}}, \"type\": \"bar\"}], \"barpolar\": [{\"marker\": {\"line\": {\"color\": \"#E5ECF6\", \"width\": 0.5}}, \"type\": \"barpolar\"}], \"carpet\": [{\"aaxis\": {\"endlinecolor\": \"#2a3f5f\", \"gridcolor\": \"white\", \"linecolor\": \"white\", \"minorgridcolor\": \"white\", \"startlinecolor\": \"#2a3f5f\"}, \"baxis\": {\"endlinecolor\": \"#2a3f5f\", \"gridcolor\": \"white\", \"linecolor\": \"white\", \"minorgridcolor\": \"white\", \"startlinecolor\": \"#2a3f5f\"}, \"type\": \"carpet\"}], \"choropleth\": [{\"colorbar\": {\"outlinewidth\": 0, \"ticks\": \"\"}, \"type\": \"choropleth\"}], \"contour\": [{\"colorbar\": {\"outlinewidth\": 0, \"ticks\": \"\"}, \"colorscale\": [[0.0, \"#0d0887\"], [0.1111111111111111, \"#46039f\"], [0.2222222222222222, \"#7201a8\"], [0.3333333333333333, \"#9c179e\"], [0.4444444444444444, \"#bd3786\"], [0.5555555555555556, \"#d8576b\"], [0.6666666666666666, \"#ed7953\"], [0.7777777777777778, \"#fb9f3a\"], [0.8888888888888888, \"#fdca26\"], [1.0, \"#f0f921\"]], \"type\": \"contour\"}], \"contourcarpet\": [{\"colorbar\": {\"outlinewidth\": 0, \"ticks\": \"\"}, \"type\": \"contourcarpet\"}], \"heatmap\": [{\"colorbar\": {\"outlinewidth\": 0, \"ticks\": \"\"}, \"colorscale\": [[0.0, \"#0d0887\"], [0.1111111111111111, \"#46039f\"], [0.2222222222222222, \"#7201a8\"], [0.3333333333333333, \"#9c179e\"], [0.4444444444444444, \"#bd3786\"], [0.5555555555555556, \"#d8576b\"], [0.6666666666666666, \"#ed7953\"], [0.7777777777777778, \"#fb9f3a\"], [0.8888888888888888, \"#fdca26\"], [1.0, \"#f0f921\"]], \"type\": \"heatmap\"}], \"heatmapgl\": [{\"colorbar\": {\"outlinewidth\": 0, \"ticks\": \"\"}, \"colorscale\": [[0.0, \"#0d0887\"], [0.1111111111111111, \"#46039f\"], [0.2222222222222222, \"#7201a8\"], [0.3333333333333333, \"#9c179e\"], [0.4444444444444444, \"#bd3786\"], [0.5555555555555556, \"#d8576b\"], [0.6666666666666666, \"#ed7953\"], [0.7777777777777778, \"#fb9f3a\"], [0.8888888888888888, \"#fdca26\"], [1.0, \"#f0f921\"]], \"type\": \"heatmapgl\"}], \"histogram\": [{\"marker\": {\"colorbar\": {\"outlinewidth\": 0, \"ticks\": \"\"}}, \"type\": \"histogram\"}], \"histogram2d\": [{\"colorbar\": {\"outlinewidth\": 0, \"ticks\": \"\"}, \"colorscale\": [[0.0, \"#0d0887\"], [0.1111111111111111, \"#46039f\"], [0.2222222222222222, \"#7201a8\"], [0.3333333333333333, \"#9c179e\"], [0.4444444444444444, \"#bd3786\"], [0.5555555555555556, \"#d8576b\"], [0.6666666666666666, \"#ed7953\"], [0.7777777777777778, \"#fb9f3a\"], [0.8888888888888888, \"#fdca26\"], [1.0, \"#f0f921\"]], \"type\": \"histogram2d\"}], \"histogram2dcontour\": [{\"colorbar\": {\"outlinewidth\": 0, \"ticks\": \"\"}, \"colorscale\": [[0.0, \"#0d0887\"], [0.1111111111111111, \"#46039f\"], [0.2222222222222222, \"#7201a8\"], [0.3333333333333333, \"#9c179e\"], [0.4444444444444444, \"#bd3786\"], [0.5555555555555556, \"#d8576b\"], [0.6666666666666666, \"#ed7953\"], [0.7777777777777778, \"#fb9f3a\"], [0.8888888888888888, \"#fdca26\"], [1.0, \"#f0f921\"]], \"type\": \"histogram2dcontour\"}], \"mesh3d\": [{\"colorbar\": {\"outlinewidth\": 0, \"ticks\": \"\"}, \"type\": \"mesh3d\"}], \"parcoords\": [{\"line\": {\"colorbar\": {\"outlinewidth\": 0, \"ticks\": \"\"}}, \"type\": \"parcoords\"}], \"pie\": [{\"automargin\": true, \"type\": \"pie\"}], \"scatter\": [{\"marker\": {\"colorbar\": {\"outlinewidth\": 0, \"ticks\": \"\"}}, \"type\": \"scatter\"}], \"scatter3d\": [{\"line\": {\"colorbar\": {\"outlinewidth\": 0, \"ticks\": \"\"}}, \"marker\": {\"colorbar\": {\"outlinewidth\": 0, \"ticks\": \"\"}}, \"type\": \"scatter3d\"}], \"scattercarpet\": [{\"marker\": {\"colorbar\": {\"outlinewidth\": 0, \"ticks\": \"\"}}, \"type\": \"scattercarpet\"}], \"scattergeo\": [{\"marker\": {\"colorbar\": {\"outlinewidth\": 0, \"ticks\": \"\"}}, \"type\": \"scattergeo\"}], \"scattergl\": [{\"marker\": {\"colorbar\": {\"outlinewidth\": 0, \"ticks\": \"\"}}, \"type\": \"scattergl\"}], \"scattermapbox\": [{\"marker\": {\"colorbar\": {\"outlinewidth\": 0, \"ticks\": \"\"}}, \"type\": \"scattermapbox\"}], \"scatterpolar\": [{\"marker\": {\"colorbar\": {\"outlinewidth\": 0, \"ticks\": \"\"}}, \"type\": \"scatterpolar\"}], \"scatterpolargl\": [{\"marker\": {\"colorbar\": {\"outlinewidth\": 0, \"ticks\": \"\"}}, \"type\": \"scatterpolargl\"}], \"scatterternary\": [{\"marker\": {\"colorbar\": {\"outlinewidth\": 0, \"ticks\": \"\"}}, \"type\": \"scatterternary\"}], \"surface\": [{\"colorbar\": {\"outlinewidth\": 0, \"ticks\": \"\"}, \"colorscale\": [[0.0, \"#0d0887\"], [0.1111111111111111, \"#46039f\"], [0.2222222222222222, \"#7201a8\"], [0.3333333333333333, \"#9c179e\"], [0.4444444444444444, \"#bd3786\"], [0.5555555555555556, \"#d8576b\"], [0.6666666666666666, \"#ed7953\"], [0.7777777777777778, \"#fb9f3a\"], [0.8888888888888888, \"#fdca26\"], [1.0, \"#f0f921\"]], \"type\": \"surface\"}], \"table\": [{\"cells\": {\"fill\": {\"color\": \"#EBF0F8\"}, \"line\": {\"color\": \"white\"}}, \"header\": {\"fill\": {\"color\": \"#C8D4E3\"}, \"line\": {\"color\": \"white\"}}, \"type\": \"table\"}]}, \"layout\": {\"annotationdefaults\": {\"arrowcolor\": \"#2a3f5f\", \"arrowhead\": 0, \"arrowwidth\": 1}, \"coloraxis\": {\"colorbar\": {\"outlinewidth\": 0, \"ticks\": \"\"}}, \"colorscale\": {\"diverging\": [[0, \"#8e0152\"], [0.1, \"#c51b7d\"], [0.2, \"#de77ae\"], [0.3, \"#f1b6da\"], [0.4, \"#fde0ef\"], [0.5, \"#f7f7f7\"], [0.6, \"#e6f5d0\"], [0.7, \"#b8e186\"], [0.8, \"#7fbc41\"], [0.9, \"#4d9221\"], [1, \"#276419\"]], \"sequential\": [[0.0, \"#0d0887\"], [0.1111111111111111, \"#46039f\"], [0.2222222222222222, \"#7201a8\"], [0.3333333333333333, \"#9c179e\"], [0.4444444444444444, \"#bd3786\"], [0.5555555555555556, \"#d8576b\"], [0.6666666666666666, \"#ed7953\"], [0.7777777777777778, \"#fb9f3a\"], [0.8888888888888888, \"#fdca26\"], [1.0, \"#f0f921\"]], \"sequentialminus\": [[0.0, \"#0d0887\"], [0.1111111111111111, \"#46039f\"], [0.2222222222222222, \"#7201a8\"], [0.3333333333333333, \"#9c179e\"], [0.4444444444444444, \"#bd3786\"], [0.5555555555555556, \"#d8576b\"], [0.6666666666666666, \"#ed7953\"], [0.7777777777777778, \"#fb9f3a\"], [0.8888888888888888, \"#fdca26\"], [1.0, \"#f0f921\"]]}, \"colorway\": [\"#636efa\", \"#EF553B\", \"#00cc96\", \"#ab63fa\", \"#FFA15A\", \"#19d3f3\", \"#FF6692\", \"#B6E880\", \"#FF97FF\", \"#FECB52\"], \"font\": {\"color\": \"#2a3f5f\"}, \"geo\": {\"bgcolor\": \"white\", \"lakecolor\": \"white\", \"landcolor\": \"#E5ECF6\", \"showlakes\": true, \"showland\": true, \"subunitcolor\": \"white\"}, \"hoverlabel\": {\"align\": \"left\"}, \"hovermode\": \"closest\", \"mapbox\": {\"style\": \"light\"}, \"paper_bgcolor\": \"white\", \"plot_bgcolor\": \"#E5ECF6\", \"polar\": {\"angularaxis\": {\"gridcolor\": \"white\", \"linecolor\": \"white\", \"ticks\": \"\"}, \"bgcolor\": \"#E5ECF6\", \"radialaxis\": {\"gridcolor\": \"white\", \"linecolor\": \"white\", \"ticks\": \"\"}}, \"scene\": {\"xaxis\": {\"backgroundcolor\": \"#E5ECF6\", \"gridcolor\": \"white\", \"gridwidth\": 2, \"linecolor\": \"white\", \"showbackground\": true, \"ticks\": \"\", \"zerolinecolor\": \"white\"}, \"yaxis\": {\"backgroundcolor\": \"#E5ECF6\", \"gridcolor\": \"white\", \"gridwidth\": 2, \"linecolor\": \"white\", \"showbackground\": true, \"ticks\": \"\", \"zerolinecolor\": \"white\"}, \"zaxis\": {\"backgroundcolor\": \"#E5ECF6\", \"gridcolor\": \"white\", \"gridwidth\": 2, \"linecolor\": \"white\", \"showbackground\": true, \"ticks\": \"\", \"zerolinecolor\": \"white\"}}, \"shapedefaults\": {\"line\": {\"color\": \"#2a3f5f\"}}, \"ternary\": {\"aaxis\": {\"gridcolor\": \"white\", \"linecolor\": \"white\", \"ticks\": \"\"}, \"baxis\": {\"gridcolor\": \"white\", \"linecolor\": \"white\", \"ticks\": \"\"}, \"bgcolor\": \"#E5ECF6\", \"caxis\": {\"gridcolor\": \"white\", \"linecolor\": \"white\", \"ticks\": \"\"}}, \"title\": {\"x\": 0.05}, \"xaxis\": {\"automargin\": true, \"gridcolor\": \"white\", \"linecolor\": \"white\", \"ticks\": \"\", \"title\": {\"standoff\": 15}, \"zerolinecolor\": \"white\", \"zerolinewidth\": 2}, \"yaxis\": {\"automargin\": true, \"gridcolor\": \"white\", \"linecolor\": \"white\", \"ticks\": \"\", \"title\": {\"standoff\": 15}, \"zerolinecolor\": \"white\", \"zerolinewidth\": 2}}}, \"title\": {\"text\": \"\"}},\n",
       "                        {\"responsive\": true}\n",
       "                    ).then(function(){\n",
       "                            \n",
       "var gd = document.getElementById('d44d9fbb-beb9-45f0-919f-4d7f17eaa0fb');\n",
       "var x = new MutationObserver(function (mutations, observer) {{\n",
       "        var display = window.getComputedStyle(gd).display;\n",
       "        if (!display || display === 'none') {{\n",
       "            console.log([gd, 'removed!']);\n",
       "            Plotly.purge(gd);\n",
       "            observer.disconnect();\n",
       "        }}\n",
       "}});\n",
       "\n",
       "// Listen for the removal of the full notebook cells\n",
       "var notebookContainer = gd.closest('#notebook-container');\n",
       "if (notebookContainer) {{\n",
       "    x.observe(notebookContainer, {childList: true});\n",
       "}}\n",
       "\n",
       "// Listen for the clearing of the current output cell\n",
       "var outputEl = gd.closest('.output');\n",
       "if (outputEl) {{\n",
       "    x.observe(outputEl, {childList: true});\n",
       "}}\n",
       "\n",
       "                        })\n",
       "                };\n",
       "                });\n",
       "            </script>\n",
       "        </div>"
      ]
     },
     "metadata": {},
     "output_type": "display_data"
    }
   ],
   "source": [
    "df16 = pd.read_csv('revenus-festivals-carthage-session-27-2016.csv')\n",
    "\n",
    "x_var=df16['Type de Subvention']\n",
    "fig2 = go.Figure(data=[\n",
    "    go.Bar( name='Esstimation',x=x_var, y=df16['Estimations'],marker_color='Silver'),\n",
    "    go.Bar( name='Réalisation', x=x_var, y=df16['Realisations'],marker_color='lightseagreen')\n",
    "    \n",
    "])\n",
    "\n",
    "fig2.update_layout(barmode='group')\n",
    "fig2.update_layout(title_text=\"\" ,height =700)\n",
    "fig2.show()\n",
    " "
   ]
  },
  {
   "cell_type": "code",
   "execution_count": 13,
   "metadata": {
    "scrolled": false
   },
   "outputs": [
    {
     "data": {
      "application/vnd.plotly.v1+json": {
       "config": {
        "plotlyServerURL": "https://plot.ly"
       },
       "data": [
        {
         "marker": {
          "color": "Pink"
         },
         "name": "Nombre de comments",
         "type": "scatter",
         "visible": true,
         "x": [
          421678448546068,
          537911493687646,
          772103069561752,
          972136112828862,
          1646529012272322,
          1646529925605564,
          1646806645577892,
          1647435668848323,
          1647453935513163,
          1648394142085809,
          1648677248724165,
          1648953152029908,
          1648992495359307,
          1649167118675178,
          1649192365339320,
          1649192978672592,
          1649193458672544,
          1649241542001069,
          1650325608559329,
          1650491298542760,
          1650815671843656,
          1651704891754734,
          1651813261743897,
          1651814068410483,
          1651999228391967,
          1652052465053310,
          1652227401702483,
          1652459308345959,
          1652720544986502,
          1653480291577194,
          1653559738235916,
          1653731524885404,
          1654017384856818,
          1654259554832601,
          1654261861499037,
          1654600208131869,
          1654910304767526,
          1654918701433353,
          1654920521433171,
          1654923844766172,
          1654927301432493,
          1655291708062719,
          1655306241394599,
          1655600878031802,
          1655620221363201,
          1655632734695283,
          1655701541355069,
          1655741381351085,
          1655751494683407,
          1655754098016480,
          1655774024681154,
          1655849114673645,
          1655859098005980,
          1655865304672026,
          1655870564671500,
          1655906994667857,
          1655920114666545,
          1655926167999273,
          1655929281332295,
          1655946881330535,
          1655969271328296,
          1655987847993105,
          1656165394642017,
          1656181194640437,
          1656181314640425,
          1656182474640309,
          1656191901306033,
          1656218021303421,
          1656220117969878,
          1656230187968871,
          1656233837968506,
          1656235357968354,
          1656236991301524,
          1656239487967941,
          1656254664633090,
          1656266304631926,
          1656270557964834,
          1656271647964725,
          1656272441297979,
          1656283841296839,
          1656307851294438,
          1656327921292431,
          1656410717950818,
          1656411847950705,
          1656413307950559,
          1656413721283851,
          1656414007950489,
          1656414437950446,
          1656448047947085,
          1656469251278298,
          1656470864611470,
          1656479874610569,
          1656530094605547,
          1656565027935387,
          1656687814589775,
          1656688231256400,
          1656760677915822,
          1656806451244578,
          1656954777896412,
          1656959764562580,
          1656987604559796,
          1656993157892574,
          1657097681215455,
          1657237101201513,
          1657251317866758,
          1657259124532644,
          1657260254532531,
          1657260681199155,
          1657274651197758,
          1657275247864365,
          1657284577863432,
          1657289531196270,
          1657345857857304,
          1657497274508829,
          1657538831171340,
          1657756127816277,
          1657775734480983,
          1657777741147449,
          1657793884479168,
          1657797037812186,
          1657890287802861,
          1657892597802630,
          1657894591135764,
          1657895884468968,
          1657896734468883,
          1657898121135411,
          1657898591135364,
          1657899191135304,
          1658112327780657,
          1658113201113903,
          1658115757780314,
          1658117644446792,
          1658121731113050,
          1659344547657435,
          1659585040966719,
          1659737650951458,
          1659794527612437,
          1660091750916048,
          1660161297575760,
          1660567020868521,
          1660911667500723,
          1660967804161776,
          1661259317465958,
          1661475424111014,
          1661517084106848,
          1661543067437583,
          1662961367295753,
          1664003033858253,
          1667815583476998,
          1667815856810304,
          1667817350143488,
          1676020905989799,
          1684771261781430,
          1709339862657903,
          1709597729298783,
          1710693215855901,
          1710880515837171,
          1710910232500866,
          1711471885778034,
          1714594758799080,
          1785045165087372,
          1785049041753651,
          1785067335085155,
          1785068115085077,
          1785077605084128,
          1785079455083943,
          1785872775004611,
          1786100671648488,
          1786249368300285,
          1786286548296567,
          1786299061628649,
          1786307391627816,
          1786649241593631,
          1786662808258941,
          1786690124922876,
          1787127764879112,
          1787325491526006,
          1787356714856217,
          1787357221522833,
          1787360191522536,
          1787578431500712,
          1787616134830275,
          1787643008160921,
          1787645471494008,
          1787647274827161,
          1787749958150226,
          1787754434816445,
          1787786281479927,
          1787786811479874,
          1787789314812957,
          1788062671452288,
          1788071338118088,
          1788075054784383,
          1788085761449979,
          1788089648116257,
          1788109474780941,
          1788189908106231,
          1788257718099450,
          1788261048099117,
          1788583694733519,
          1788583984733490,
          1788665084725380,
          1788669264724962,
          1788693594722529,
          1788701961388359,
          1788740931384462,
          1788742424717646,
          1788743621384193,
          1788744281384127,
          1788744671384088,
          1789142514677637,
          1789143788010843,
          1789144478010774,
          1789144981344057,
          1789291341329421,
          1789305611327994,
          1789319211326634,
          1789334174658471,
          1789335081325047,
          1789600607965161,
          1789746737950548,
          1789837744608114,
          1789844427940779,
          1789870891271466,
          1789870934604795,
          1790012147924007,
          1790021627923059,
          1790129714578917,
          1790395357885686,
          1790739867851235,
          1791096361148919,
          1791284754463413,
          1791318787793343,
          1791412164450672,
          1791888727736349,
          1792038587721363,
          1792041661054389,
          1792041851054370,
          1792248337700388,
          1792248701033685,
          1792249214366967,
          1792249681033587,
          1792250804366808,
          1792294257695796,
          1792670570991498,
          1792671294324759,
          1792671797658042,
          1792672360991319,
          1792672794324609,
          1793295017595720,
          1793451350913420,
          1793457044246184,
          1793515507573671,
          1793555367569685,
          1793585907566631,
          1793589480899607,
          1793591810899374,
          1793593004232588,
          1793595147565707,
          1793601170898438,
          1793793444212544,
          1793803470878208,
          1793803784211510,
          1793805290878026,
          1793805460878009,
          1793805814211307,
          1793808770877678,
          1793809167544305,
          1793813987543823,
          1938982866360267,
          1938984003026820,
          1938984383026782,
          1938994489692438,
          1939613636297190,
          1942592219332665,
          1947899015468652,
          1950741481851072,
          1950828148509072,
          1951337995124754,
          1951929368398950,
          1951974235061130,
          1952284051696815,
          1952454221679798,
          1952456095012944,
          1952535435005010,
          1952896248302262,
          1952897621635458,
          1953061684952385,
          1953092521615968,
          1953801894878364,
          1953903728201514,
          1953916474866906,
          1953917064866847,
          1953955551529665,
          1954255754832978,
          1954422868149600,
          1954436051481615,
          1954468631478357,
          1954807474777806,
          1954816031443617,
          1954847138107173,
          1955316538060233,
          1955317051393515,
          1955634761361744,
          1956094127982474,
          1956094667982420,
          1956468707945016,
          1956469904611563,
          1956470427944844,
          1956471344611419,
          1956472294611324,
          1956472934611260,
          1956473307944556,
          1956527754605778,
          1956750347916852,
          1957194351205785,
          1957573121167908,
          1957982684460285,
          1958027627789124,
          1958058821119338,
          1958591801066040,
          1958788427713044,
          1959470467644840,
          1959649610960259,
          1960108570914363,
          1960120464246507,
          1960199780905242,
          1960296140895606,
          1960570147534872,
          1960581924200361,
          1961079117483975,
          1961306247461262,
          1961653307426556,
          1961906550734565,
          1962077327384154,
          1962251864033367,
          1962261614032392,
          1962269567364930,
          1962304304028123,
          1962337984024755,
          1962530357338851,
          1962602083998345,
          1962613037330583,
          1962642890660931,
          1962649670660253,
          1962710220654198,
          1962748037317083,
          1963018943956659,
          1963030217288865,
          1963554533903100,
          1963555090569711,
          1963562730568947,
          1963921277199759,
          1963927857199101,
          1963937713864782,
          1964310870494133,
          1964388487153038,
          1964715630453657,
          1964807990444421,
          1965104407081446,
          1965115473747006,
          1965116837080203,
          1965159230409297,
          1965220283736525,
          1965231110402109,
          1965532697038617,
          1965669717024915,
          1965672137024673,
          1965674310357789,
          1965916390333581,
          1965919963666557,
          1965947226997164,
          1966014490323771,
          1966086993649854,
          1966272680297952,
          1966410833617470,
          1966437530281467,
          1966443263614227,
          1966444556947431,
          1966445303614023,
          1966446043613949,
          1966448860280334,
          1966454790279741,
          1966634370261783,
          1966675343591019,
          1966680530257167,
          1966711686920718,
          1966720063586547,
          1966824540242766,
          1966845526907334,
          1966858156906071,
          1966866840238536,
          1967070680218152,
          1967130833545470,
          1967258396866047,
          1967279140197306,
          1967280353530518,
          1967514426840444,
          1967667866825100,
          1967669516824935,
          1967670710158149,
          1967672966824590,
          1967674073491146,
          1967678223490731,
          1967680450157175,
          1967681946823692,
          1967683053490248,
          1967685620156658,
          1967686666823220,
          1967688703489683,
          1967690086822878,
          1967696126822274,
          1967700260155194,
          1967705703487983,
          1967710503487503,
          1967722713486282,
          1967728366819050,
          1967868760138344,
          1967895216802365,
          1968040473454506,
          1968079410117279,
          1968104573448096,
          1968127166779170,
          1968136773444876,
          1968139526777934,
          1968173720107848,
          1968178266774060,
          1968283596763527,
          1968358690089351,
          1968373893421164,
          1968383090086911,
          1968390550086165,
          1968421493416404,
          1968450936746793,
          1968459946745892,
          1968467853411768,
          1968709880054232,
          1968727916719095,
          1968729510052269,
          1968786550046565,
          1968792896712597,
          1968807783377775,
          1968852596706627,
          1968856753372878,
          1968860290039191,
          1968863900038830,
          1968882840036936,
          1968883416703545,
          1968884603370093,
          1968885120036708,
          1968894480035772,
          1968906383367915,
          1968910690034151,
          1968925703365983,
          1968927096699177,
          1968929053365648,
          1968932670031953,
          1968942570030963,
          1968944820030738,
          1968949533363600,
          1968952033363350,
          1968955743362979,
          1968957110029509,
          1968957540029466,
          1968958820029338,
          1968962856695601,
          1968974966694390,
          1968977880027432,
          1968979976693889,
          1968982866693600,
          1968986203359933,
          1968989320026288,
          1968990523359501,
          1968990750026145,
          1969024296689457,
          1969032123355341,
          1969053910019829,
          1969070350018185,
          1969082166683670,
          1969092913349262,
          1969093850015835,
          1969313066660580,
          1969313616660525,
          1969316909993529,
          1969369286654958,
          1969385603319993,
          1969434639981756,
          1969450176646869,
          1969456896646197,
          1969468849978335,
          1969472173311336,
          1969474599977760,
          1969476376644249,
          1969712139954006,
          1969723909952829,
          1969836473274906,
          1969888479936372,
          1969914079933812,
          1969914419933778,
          1969914609933759,
          1969915039933716,
          1969915253267028,
          1969915596600327,
          1969915979933622,
          1969916159933604,
          1970114699913750,
          1970117019913518,
          1970117399913480,
          1970117929913427,
          1970120206579866,
          1970153336576553,
          1970158863242667,
          1970160136575873,
          1970162876575599,
          1970164019908818,
          1970165263242027,
          1970172719907948,
          1970177263240827,
          1970180053240548,
          1970188493239704,
          1970190373239516,
          1970190979906122,
          1970271713231382,
          1970272646564622,
          1970301566561730,
          1970359123222641,
          1970385563219997,
          1970509003207653,
          1970544706537416,
          1970565996535287,
          1970579979867222,
          1970580136533873,
          1970624133196140,
          1970627699862450,
          1970646073193946,
          1970713139853906,
          1970716543186899,
          1970730883185465,
          1970731036518783,
          1970731176518769,
          1970758319849388,
          1970774839847736,
          1970776269847593,
          1971268936464993,
          1971276473130906,
          1971276576464229,
          1971277003130853,
          1971354573123096,
          1971383256453561,
          1971405933117960,
          1971407636451123,
          1971411816450705,
          1971412899783930,
          1971418676450019,
          1971428046449082,
          1971446673113886,
          1971540253104528,
          1971557106436176,
          1971557613102792,
          1971558213102732,
          1971559189769301,
          1971584979766722,
          1971712339753986,
          1971712896420597,
          1971713026420584,
          1971816799743540,
          1971817509743469,
          1971818109743409,
          1971818783076675,
          1971924523066101,
          1971978029727417,
          1971997953058758,
          1972004506391436,
          1972008706391016,
          1972227139702506,
          1972244376367449,
          1972249659700254,
          1972253813033172,
          1972255123033041,
          1972303453028208,
          1972413306350556,
          1972425859682634,
          1972431243015429,
          1972433956348491,
          1972434773015076,
          1972436619681558,
          1972437816348105,
          1972439023014651,
          1972441699681050,
          1972442659680954,
          1972442766347610,
          1972443439680876,
          1972444603014093,
          1972444806347406,
          1972445119680708,
          1972452699679950,
          1972452896346597,
          1972454149679805,
          1972454893013064,
          1972455763012977,
          1972456536346233,
          1972457309679489,
          1972457606346126,
          1972457953012758,
          1972458513012702,
          1972458936345993,
          1972459373012616,
          1972460059679214,
          1972461456345741,
          1972477726344114,
          1972486723009881,
          1972491453009408,
          1972502119675008,
          1972653456326541,
          1972680082990545,
          1972686679656552,
          1972718626320024,
          1972720822986471,
          1972728502985703,
          1972739382984615,
          1972739829651237,
          1972917916300095,
          1972918426300044,
          1972923439632876,
          1972923842966169,
          1972924352966118,
          1973077866284100,
          1973170522941501,
          1973179092940644,
          1973205702937983,
          1973279186263968,
          1973284126263474,
          1973291939596026,
          1973315409593679,
          1973368386255048,
          1973371869588033,
          1973532136238673,
          1973790479546172,
          1973832622875291,
          1974120319513188,
          1974127456179141,
          1974128099512410,
          1974129472845606,
          1974218519503368,
          1974459442812609,
          1974459969479223,
          1974683359456884,
          1974713359453884,
          1975882019337018,
          1975882366003650,
          1976475982610955,
          1976476712610882,
          1976766419248578,
          1977255585866328,
          1977283922530161,
          1977412189184001,
          1977456152512938,
          1977667642491789,
          1978324839092736,
          1978327772425776,
          1978328579092362,
          1978332162425337,
          1978398289085391,
          1978398339085386,
          1978398865752000,
          1978412509083969,
          1978888949036325,
          1979356225656264,
          1980024095589477,
          1980196548905565,
          1980199138905306,
          1980204792238074,
          1980462235545663,
          1981207658804454,
          1981360042122549,
          1981541568771063,
          1981559115435975,
          1982083348716885,
          1982368832021670,
          1982467485345138,
          1983277815264105,
          1983284888596731,
          1983290238596196,
          1983292825262604,
          1983295998595620,
          1983392278585992,
          1983397081918845,
          1983765081882045,
          1983769855214901,
          1983780795213807,
          1983897051868848,
          1984146151843938,
          1984163868508833,
          1984187431839810,
          1984247248500495,
          1984365848488635,
          1985127648412455,
          1985133635078523,
          1985287191729834,
          1985499798375240,
          1985506128374607,
          1985586328366587,
          1985938088331411,
          1985960164995870,
          1986042711654282,
          1986054201653133,
          1986537701604783,
          1986540348271185,
          1986545684937318,
          1986549301603623,
          1987358531522700,
          1987361638189056,
          1987395464852340,
          1987659718159248,
          1987830471475506,
          1987832361475317,
          1987855128139707,
          1988125564779330,
          1988132351445318,
          1988286438096576,
          1988659641392589,
          1988720598053160,
          1988724818052738,
          1989123758012844,
          1989128784679008,
          1989138988011321,
          1989586137966606,
          1989600881298465,
          1990379047887315,
          1990386921219861,
          1990388181219735,
          1990402381218315,
          1990827754509111,
          1990942071164346,
          1991002331158320,
          1991329357792284,
          1991862327738987,
          1992176184374268,
          1992209197704300,
          1992210994370787,
          1992211571037396,
          1992212991037254,
          1992350647690155,
          1992932630965290,
          1992932647631955,
          1992937417631478,
          1992937990964754,
          1993486544243232,
          1993503037574916,
          1993717174220169,
          1993720537553166,
          1993744597550760,
          1993757224216164,
          1994224060836147,
          1994224674169419,
          1994256470832906,
          1994448180813735,
          1994694117455808,
          1994694907455729,
          1994703237454896,
          1994703300788223,
          1994703354121551,
          1994703437454876,
          1994703547454865,
          1994749540783599,
          2000019773589909,
          2006277772964109,
          2006283116296908,
          2006420849616468,
          2006442259614327,
          2009162169342336,
          2018125441779342,
          2020120884913131,
          2039961372929082,
          2041641126094440,
          2045929618998924,
          2046875115571041,
          2046879718903914,
          2046892915569261,
          2046915918900294,
          2048756685382884,
          2048757305382822,
          2048757622049457,
          2048782592046960,
          2048783475380205,
          2048919762033243,
          2049445425314010,
          2049446711980548,
          2052717944986758,
          2058764647715421,
          2058778817714004,
          2058860974372455,
          2059387294319823,
          2059671467624739,
          2090394414552444,
          2122205894704629,
          2123274167931135,
          2139204783004740,
          2139463392978879,
          2139550506303501,
          2143628525895699,
          2143630892562129,
          2148926698699215,
          2152465538345331,
          2156715867920298,
          2156892701235948,
          2157185754539976,
          2157247231200495,
          2157249064533645,
          2159915164267035,
          2160908650834353,
          2162989607292924,
          2163114413947110,
          2164463967145488,
          2164559777135907,
          2164847770440441,
          2164870137104871,
          2164888317103053,
          2164969343761617,
          2166836860241532,
          2167802720144946,
          2167803776811507,
          2168229306768954,
          2168233230101895,
          2168694716722413,
          2174710586120826,
          2174718769453341,
          2174727089452509,
          2174733929451825,
          2174839332774618,
          2174889456102939,
          2174967239428494,
          2177853085806576,
          2178043752454176,
          2178241639101054,
          2178569715734913,
          2178607915731093,
          2178942735697611,
          2178959139029304,
          2178983852360166,
          2179012645690620,
          2179044902354061,
          2179491315642753,
          2179542788970939,
          2179609402297611,
          2179904538934764,
          2179906578934560,
          2179908312267720,
          2179909395600945,
          2180450555546829,
          2180483245543560,
          2180489638876254,
          2180503002208251,
          2180730962185455,
          2181061195485765,
          2181160055475879,
          2181212448803973,
          2181215528803665,
          2181219705469914,
          2181500162108535,
          2181913098733908,
          2182088258716392,
          2182166705375214,
          2182187685373116,
          2182624331996118,
          2182743611984190,
          2182755228649695,
          2182774858647732,
          2183091275282757,
          2183177985274086,
          2183340808591137,
          2183813318543886,
          2183826178542600,
          2184097168515501,
          2184258258499392,
          2184299061828645,
          2184329961825555,
          2184389801819571,
          2184413018483916,
          2184452635146621,
          2184462818478936,
          2184789485112936,
          2184920531766498,
          2184959678429250,
          2184985845093300,
          2185052838419934,
          2185076971750854,
          2185093145082570,
          2185366505055234,
          2185403965051488,
          2185452048380013,
          2185475135044371,
          2185489038376314,
          2185494231709128,
          2185510578374160,
          2185555821702969,
          2185561968369021,
          2185880041670547,
          2185961738329044,
          2185962501662301,
          2185964604995424,
          2185997368325481,
          2186095328315685,
          2186465778278640,
          2186494838275734,
          2186555848269633,
          2186640574927827,
          2186655088259709,
          2186926968232521,
          2187029364888948,
          2187076338217584,
          2187101568215061,
          2187470608178157,
          2187771624814722,
          2189300374661847,
          2189993937925824,
          2197021153889769,
          2199810270277524,
          2201450586780159,
          2201457483446136,
          2205949306330287,
          2214452915479926,
          2216231198635431,
          2238765149715369,
          2242736072651610,
          2242760319315852,
          2243396709252213,
          2243419929249891,
          2244583999133484,
          2244870065771544,
          2247150295543521,
          2247168225541728,
          2250864188505465,
          2251212811803936,
          2251222045136346,
          2255384314720119,
          2257334924525058,
          2261284517463432,
          2262225077369376,
          2263171350608082,
          2263337043924846,
          2265573160367901,
          2266009790324238,
          2271720823086468,
          2272546313003919,
          2277725645819319,
          2278597225732161,
          2279597348965482,
          2281487135443170,
          2282673688657848,
          2283755641882986,
          2283765615215322,
          2286086111649939,
          2288190898106127,
          2288774608047756,
          2290639377861279,
          2292223531036197,
          2292918850966665,
          2294262387498978,
          2295003544091529,
          2297313353860548,
          2297315120527038,
          2299470553644828,
          2303062019952348,
          2304016199856930,
          2304464393145444,
          2304533139805236,
          2305795183012365,
          2306164782975405,
          2307291419529408,
          2307815512810332,
          2308005496124667,
          2308283482763535,
          2315015332090350,
          2315025088756041,
          2318419481749935,
          2324683327790217,
          2333930746865475,
          2341832972741919,
          2343611099230773,
          2345548449037038,
          2347863535472196,
          2348194532105763,
          2348465175412032,
          2348527615405788,
          2357620457829837,
          2358851997706683,
          2359623630962853,
          2361582557433627,
          2361689707422912,
          2361753617416521,
          2362332857358597,
          2364310840494132,
          2364938177098065,
          2365645153694034,
          2368493920075824,
          2368495313409018,
          2368498086742074,
          2371040143154535,
          2371042159821000,
          2372302766361606,
          2372316769693539,
          2373093382949211,
          2373094379615778,
          2373564429568773,
          2373729559552260,
          2373989566192926,
          2373997872858762,
          2374366099488606,
          2375747309350485,
          2376969482561601,
          2377073699217846,
          2377127765879106,
          2377129689212247,
          2377693932489156,
          2377989925792890,
          2378430132415536,
          2379406228984593,
          2380613058863910,
          2381461212112428,
          2389498037975412,
          2394160094175873,
          2395019704089912,
          2395764584015424,
          2398074953784387,
          2400543790204170,
          2400634453528437,
          2401234123468470,
          2403023189956230,
          2404676569790892,
          2405496749708874,
          2407086862883196,
          2409536885971527,
          2410281079230441,
          2410959885829227,
          2411198435805372,
          2411852572406625,
          2411990319059517,
          2412280932363789,
          2412283795696836,
          2412821695643046,
          2412832418975307,
          2413827682209114,
          2414098725515343,
          2414844045440811,
          2414861922105690,
          2414984638760085,
          2415001602091722,
          2415754715349744,
          2415892082002674,
          2415970441994838,
          2416024138656135,
          2416713205253895,
          2416848065240409,
          2417107138547835,
          2417699611821921,
          2417945401797342,
          2418000531791829,
          2418594148399134,
          2418730898385459,
          2418805808377968,
          2419232615001954,
          2419392171652665,
          2419538708304678,
          2419597641632118,
          2419599388298610,
          2419600651631817,
          2419602044965011,
          2419604814964734,
          2419606141631268,
          2419714531620429,
          2420264351565447,
          2420334281558454,
          2420542631537619,
          2420589591532923,
          2420613021530580,
          2421071171484765,
          2421141821477700,
          2421163061475576,
          2421281228130426,
          2421365794788636,
          2421367354788480,
          2421472608111288,
          2421488024776413,
          2421498754775340,
          2421545668103982,
          2421565141435368,
          2421969631394919,
          2422045641387318,
          2422176091374273,
          2422230161368866,
          2422373798021169,
          2422800447978504,
          2422897021302180,
          2423011034624112,
          2423075264617689,
          2423079651283917,
          2423205504604665,
          2423210657937483,
          2423215694603646,
          2423235294601686,
          2423817687876780,
          2423825311209351,
          2423916887866860,
          2424122014513014,
          2424653427793206,
          2424709087787640,
          2424715947786954,
          2425632767695272,
          2425959497662599,
          2426065804318635,
          2426388100953072,
          2427478810844001,
          2429002304024985,
          2429953287263220,
          2429960303929185,
          2432940800317986,
          2435020870089795,
          2436169713308244,
          2440439239547958,
          2444135685844980,
          2446314878960394,
          2450617025196846,
          2452988358293046,
          2462056114052937,
          2472301086361773,
          2479491152309433,
          2479589218966293,
          2481712258753989,
          2493565630901985,
          2494536430804905,
          2553076554950892,
          2590174414574439,
          2590822911176256,
          2590920174499863,
          2594056747519539
         ],
         "y": [
          10,
          8,
          4,
          1,
          1,
          0,
          59,
          6,
          2,
          2,
          2,
          3,
          11,
          15,
          1,
          10,
          20,
          3,
          15,
          36,
          10,
          1,
          2,
          5,
          18,
          0,
          5,
          54,
          19,
          7,
          14,
          10,
          2,
          0,
          65,
          26,
          2,
          8,
          2,
          2,
          19,
          7,
          13,
          20,
          10,
          8,
          36,
          14,
          5,
          13,
          0,
          23,
          8,
          2,
          6,
          3,
          24,
          0,
          3,
          2,
          8,
          4,
          16,
          10,
          2,
          0,
          5,
          0,
          2,
          9,
          3,
          2,
          8,
          0,
          1,
          0,
          6,
          7,
          1,
          1,
          17,
          1,
          1,
          0,
          1,
          0,
          3,
          0,
          2,
          2,
          7,
          2,
          18,
          6,
          2,
          0,
          16,
          8,
          1,
          1,
          1,
          0,
          2,
          0,
          0,
          0,
          0,
          0,
          2,
          0,
          1,
          1,
          2,
          0,
          2,
          1,
          0,
          0,
          0,
          0,
          0,
          2,
          2,
          1,
          2,
          1,
          1,
          1,
          0,
          0,
          0,
          0,
          1,
          0,
          0,
          0,
          0,
          0,
          0,
          1,
          0,
          3,
          0,
          2,
          1,
          2,
          0,
          2,
          1,
          2,
          2,
          4,
          1,
          11,
          1,
          0,
          0,
          0,
          0,
          3,
          0,
          0,
          0,
          2,
          0,
          2,
          53,
          5,
          1,
          11,
          0,
          2,
          0,
          4,
          3,
          23,
          29,
          8,
          0,
          51,
          3,
          5,
          130,
          3,
          14,
          1,
          0,
          8,
          0,
          12,
          126,
          1,
          9,
          2,
          19,
          21,
          22,
          7,
          3,
          109,
          35,
          80,
          6,
          2,
          34,
          2,
          36,
          44,
          16,
          5,
          14,
          0,
          9,
          5,
          27,
          39,
          5,
          12,
          13,
          21,
          1,
          7,
          15,
          0,
          5,
          1,
          0,
          14,
          5,
          10,
          2,
          6,
          11,
          6,
          1,
          2,
          1,
          0,
          5,
          14,
          24,
          20,
          102,
          1,
          0,
          1,
          0,
          7,
          2,
          0,
          0,
          14,
          10,
          10,
          11,
          8,
          6,
          21,
          5,
          13,
          9,
          6,
          25,
          12,
          5,
          11,
          2,
          5,
          14,
          19,
          0,
          0,
          1,
          6,
          5,
          14,
          3,
          1,
          1,
          0,
          0,
          1,
          2,
          29,
          0,
          0,
          0,
          2,
          0,
          0,
          1,
          1,
          1,
          4,
          1,
          8,
          2,
          1,
          2,
          1,
          5,
          0,
          31,
          1,
          5,
          0,
          1,
          5,
          0,
          7,
          8,
          0,
          2,
          1,
          0,
          1,
          1,
          3,
          1,
          3,
          5,
          1,
          1,
          0,
          0,
          0,
          0,
          0,
          0,
          0,
          0,
          0,
          0,
          10,
          1,
          1,
          6,
          0,
          0,
          2,
          0,
          0,
          3,
          0,
          1,
          2,
          0,
          1,
          0,
          1,
          6,
          6,
          0,
          2,
          2,
          0,
          0,
          10,
          0,
          1,
          0,
          0,
          13,
          0,
          0,
          17,
          1,
          0,
          0,
          0,
          0,
          0,
          1,
          3,
          11,
          7,
          1,
          1,
          0,
          0,
          1,
          3,
          1,
          0,
          0,
          6,
          2,
          6,
          1,
          2,
          2,
          0,
          3,
          7,
          0,
          9,
          0,
          2,
          177,
          19,
          3,
          6,
          0,
          0,
          0,
          5,
          0,
          6,
          0,
          1,
          7,
          3,
          62,
          1,
          0,
          3,
          0,
          385,
          21,
          66,
          3,
          7,
          11,
          1,
          0,
          6,
          0,
          12,
          1,
          1,
          8,
          55,
          0,
          6,
          56,
          8,
          3,
          1,
          2,
          45,
          11,
          3,
          0,
          3,
          0,
          19,
          3,
          2,
          12,
          7,
          2,
          49,
          31,
          5,
          1,
          1,
          5,
          0,
          1,
          0,
          0,
          0,
          0,
          0,
          0,
          0,
          10,
          0,
          0,
          0,
          0,
          0,
          0,
          6,
          0,
          3,
          8,
          2,
          3,
          1,
          1,
          1,
          13,
          1,
          8,
          1,
          2,
          60,
          1,
          13,
          1,
          1,
          2,
          2,
          2,
          3,
          1,
          1,
          0,
          0,
          0,
          1,
          1,
          0,
          1,
          0,
          0,
          5,
          0,
          0,
          2,
          0,
          0,
          0,
          0,
          0,
          0,
          1,
          0,
          2,
          3,
          2,
          0,
          1,
          0,
          7,
          9,
          0,
          0,
          0,
          0,
          0,
          0,
          0,
          0,
          0,
          1,
          0,
          1,
          0,
          2,
          0,
          3,
          2,
          0,
          0,
          1,
          8,
          2,
          1,
          1,
          1,
          0,
          10,
          24,
          0,
          2,
          0,
          0,
          0,
          0,
          5,
          0,
          0,
          1,
          1,
          0,
          0,
          18,
          5,
          7,
          0,
          1,
          17,
          7,
          2,
          0,
          0,
          1,
          9,
          0,
          8,
          0,
          1,
          0,
          0,
          1,
          0,
          0,
          1,
          0,
          0,
          0,
          0,
          1,
          0,
          1,
          0,
          7,
          3,
          1,
          0,
          3,
          0,
          6,
          3,
          2,
          5,
          2,
          0,
          1,
          0,
          5,
          19,
          1,
          0,
          1,
          5,
          11,
          0,
          1,
          1,
          1,
          0,
          12,
          0,
          6,
          0,
          0,
          0,
          5,
          0,
          0,
          0,
          1,
          0,
          0,
          0,
          0,
          0,
          0,
          0,
          14,
          0,
          0,
          0,
          0,
          3,
          0,
          0,
          2,
          0,
          0,
          0,
          0,
          2,
          0,
          0,
          0,
          0,
          0,
          1,
          0,
          1,
          0,
          7,
          1,
          0,
          0,
          0,
          0,
          0,
          0,
          0,
          1,
          0,
          0,
          0,
          0,
          0,
          0,
          0,
          0,
          0,
          0,
          0,
          0,
          0,
          0,
          0,
          0,
          1,
          0,
          0,
          1,
          0,
          11,
          0,
          0,
          0,
          0,
          2,
          0,
          0,
          0,
          0,
          0,
          0,
          0,
          0,
          2,
          0,
          0,
          1,
          3,
          0,
          0,
          0,
          0,
          1,
          0,
          0,
          0,
          0,
          0,
          0,
          0,
          0,
          0,
          0,
          0,
          0,
          0,
          0,
          0,
          1,
          2,
          1,
          0,
          0,
          0,
          0,
          0,
          0,
          0,
          0,
          0,
          0,
          1,
          0,
          0,
          0,
          1,
          0,
          0,
          0,
          0,
          1,
          3,
          0,
          1,
          0,
          0,
          2,
          0,
          0,
          0,
          1,
          7,
          0,
          1,
          0,
          6,
          0,
          0,
          0,
          0,
          0,
          0,
          0,
          3,
          0,
          0,
          0,
          1,
          0,
          0,
          2,
          0,
          0,
          13,
          0,
          0,
          0,
          1,
          0,
          0,
          3,
          0,
          0,
          0,
          0,
          3,
          2,
          8,
          0,
          2,
          0,
          2,
          0,
          7,
          7,
          0,
          1,
          0,
          3,
          0,
          1,
          2,
          0,
          4,
          0,
          0,
          2,
          3,
          2,
          1,
          1,
          2,
          6,
          19,
          2,
          15,
          0,
          1,
          0,
          0,
          0,
          2,
          8,
          1,
          0,
          0,
          11,
          0,
          0,
          2,
          7,
          1,
          2,
          2,
          0,
          2,
          1,
          0,
          6,
          13,
          4,
          4,
          1,
          1,
          6,
          87,
          304,
          4,
          7,
          5,
          12,
          20,
          10,
          12,
          13,
          10,
          25,
          2,
          5,
          11,
          1,
          22,
          2,
          4,
          1,
          1,
          1,
          2,
          7,
          0,
          8,
          0,
          1,
          0,
          3,
          1,
          1,
          2,
          12,
          0,
          1,
          0,
          0,
          1,
          0,
          2,
          2,
          0,
          2,
          0,
          6,
          3,
          0,
          0,
          0,
          1,
          9,
          2,
          1,
          0,
          1,
          0,
          0,
          4,
          1,
          0,
          19,
          2,
          2,
          0,
          0,
          0,
          0,
          1,
          0,
          0,
          0,
          0,
          0,
          0,
          0,
          0,
          0,
          0,
          0,
          0,
          0,
          1,
          1,
          0,
          1,
          0,
          1,
          1,
          0,
          0,
          0,
          0,
          0,
          0,
          1,
          0,
          1,
          18,
          0,
          0,
          0,
          0,
          0,
          0,
          0,
          0,
          0,
          2,
          0,
          1,
          1,
          1,
          0,
          2,
          0,
          1,
          0,
          0,
          0,
          0,
          0,
          1,
          1,
          0,
          0,
          0,
          0,
          0,
          1,
          0,
          197,
          21,
          18,
          0,
          1,
          1,
          0,
          1,
          5,
          12,
          8,
          3,
          7,
          4,
          1,
          0,
          1,
          1,
          1,
          11,
          6,
          0,
          2,
          12,
          10,
          1,
          0,
          0,
          0,
          0,
          8,
          2,
          0,
          1,
          0,
          2,
          2,
          19,
          2,
          0,
          1,
          16,
          8,
          12,
          29,
          0,
          2,
          1,
          0,
          0,
          0,
          3,
          1,
          2,
          2,
          0,
          3,
          7,
          6,
          1,
          5,
          1,
          2,
          3,
          2,
          20,
          1,
          6,
          10,
          12,
          16,
          11,
          3,
          0,
          1,
          1,
          0,
          7,
          11,
          6,
          3,
          0,
          2,
          0,
          2,
          1,
          0,
          22,
          2,
          1,
          0,
          3,
          0,
          1,
          0,
          0,
          0,
          88,
          1,
          16,
          0,
          0,
          1,
          0,
          0,
          0,
          0,
          0,
          2,
          8,
          1,
          2,
          0,
          0,
          10,
          2,
          7,
          7,
          16,
          2,
          8,
          8,
          1,
          0,
          0,
          2,
          0,
          0,
          0,
          0,
          1,
          0,
          1,
          2,
          0,
          4,
          11,
          1,
          7,
          3,
          1,
          1,
          0
         ]
        },
        {
         "marker": {
          "color": "royalblue"
         },
         "name": "Nombre des likes",
         "type": "scatter",
         "visible": false,
         "x": [
          421678448546068,
          537911493687646,
          772103069561752,
          972136112828862,
          1646529012272322,
          1646529925605564,
          1646806645577892,
          1647435668848323,
          1647453935513163,
          1648394142085809,
          1648677248724165,
          1648953152029908,
          1648992495359307,
          1649167118675178,
          1649192365339320,
          1649192978672592,
          1649193458672544,
          1649241542001069,
          1650325608559329,
          1650491298542760,
          1650815671843656,
          1651704891754734,
          1651813261743897,
          1651814068410483,
          1651999228391967,
          1652052465053310,
          1652227401702483,
          1652459308345959,
          1652720544986502,
          1653480291577194,
          1653559738235916,
          1653731524885404,
          1654017384856818,
          1654259554832601,
          1654261861499037,
          1654600208131869,
          1654910304767526,
          1654918701433353,
          1654920521433171,
          1654923844766172,
          1654927301432493,
          1655291708062719,
          1655306241394599,
          1655600878031802,
          1655620221363201,
          1655632734695283,
          1655701541355069,
          1655741381351085,
          1655751494683407,
          1655754098016480,
          1655774024681154,
          1655849114673645,
          1655859098005980,
          1655865304672026,
          1655870564671500,
          1655906994667857,
          1655920114666545,
          1655926167999273,
          1655929281332295,
          1655946881330535,
          1655969271328296,
          1655987847993105,
          1656165394642017,
          1656181194640437,
          1656181314640425,
          1656182474640309,
          1656191901306033,
          1656218021303421,
          1656220117969878,
          1656230187968871,
          1656233837968506,
          1656235357968354,
          1656236991301524,
          1656239487967941,
          1656254664633090,
          1656266304631926,
          1656270557964834,
          1656271647964725,
          1656272441297979,
          1656283841296839,
          1656307851294438,
          1656327921292431,
          1656410717950818,
          1656411847950705,
          1656413307950559,
          1656413721283851,
          1656414007950489,
          1656414437950446,
          1656448047947085,
          1656469251278298,
          1656470864611470,
          1656479874610569,
          1656530094605547,
          1656565027935387,
          1656687814589775,
          1656688231256400,
          1656760677915822,
          1656806451244578,
          1656954777896412,
          1656959764562580,
          1656987604559796,
          1656993157892574,
          1657097681215455,
          1657237101201513,
          1657251317866758,
          1657259124532644,
          1657260254532531,
          1657260681199155,
          1657274651197758,
          1657275247864365,
          1657284577863432,
          1657289531196270,
          1657345857857304,
          1657497274508829,
          1657538831171340,
          1657756127816277,
          1657775734480983,
          1657777741147449,
          1657793884479168,
          1657797037812186,
          1657890287802861,
          1657892597802630,
          1657894591135764,
          1657895884468968,
          1657896734468883,
          1657898121135411,
          1657898591135364,
          1657899191135304,
          1658112327780657,
          1658113201113903,
          1658115757780314,
          1658117644446792,
          1658121731113050,
          1659344547657435,
          1659585040966719,
          1659737650951458,
          1659794527612437,
          1660091750916048,
          1660161297575760,
          1660567020868521,
          1660911667500723,
          1660967804161776,
          1661259317465958,
          1661475424111014,
          1661517084106848,
          1661543067437583,
          1662961367295753,
          1664003033858253,
          1667815583476998,
          1667815856810304,
          1667817350143488,
          1676020905989799,
          1684771261781430,
          1709339862657903,
          1709597729298783,
          1710693215855901,
          1710880515837171,
          1710910232500866,
          1711471885778034,
          1714594758799080,
          1785045165087372,
          1785049041753651,
          1785067335085155,
          1785068115085077,
          1785077605084128,
          1785079455083943,
          1785872775004611,
          1786100671648488,
          1786249368300285,
          1786286548296567,
          1786299061628649,
          1786307391627816,
          1786649241593631,
          1786662808258941,
          1786690124922876,
          1787127764879112,
          1787325491526006,
          1787356714856217,
          1787357221522833,
          1787360191522536,
          1787578431500712,
          1787616134830275,
          1787643008160921,
          1787645471494008,
          1787647274827161,
          1787749958150226,
          1787754434816445,
          1787786281479927,
          1787786811479874,
          1787789314812957,
          1788062671452288,
          1788071338118088,
          1788075054784383,
          1788085761449979,
          1788089648116257,
          1788109474780941,
          1788189908106231,
          1788257718099450,
          1788261048099117,
          1788583694733519,
          1788583984733490,
          1788665084725380,
          1788669264724962,
          1788693594722529,
          1788701961388359,
          1788740931384462,
          1788742424717646,
          1788743621384193,
          1788744281384127,
          1788744671384088,
          1789142514677637,
          1789143788010843,
          1789144478010774,
          1789144981344057,
          1789291341329421,
          1789305611327994,
          1789319211326634,
          1789334174658471,
          1789335081325047,
          1789600607965161,
          1789746737950548,
          1789837744608114,
          1789844427940779,
          1789870891271466,
          1789870934604795,
          1790012147924007,
          1790021627923059,
          1790129714578917,
          1790395357885686,
          1790739867851235,
          1791096361148919,
          1791284754463413,
          1791318787793343,
          1791412164450672,
          1791888727736349,
          1792038587721363,
          1792041661054389,
          1792041851054370,
          1792248337700388,
          1792248701033685,
          1792249214366967,
          1792249681033587,
          1792250804366808,
          1792294257695796,
          1792670570991498,
          1792671294324759,
          1792671797658042,
          1792672360991319,
          1792672794324609,
          1793295017595720,
          1793451350913420,
          1793457044246184,
          1793515507573671,
          1793555367569685,
          1793585907566631,
          1793589480899607,
          1793591810899374,
          1793593004232588,
          1793595147565707,
          1793601170898438,
          1793793444212544,
          1793803470878208,
          1793803784211510,
          1793805290878026,
          1793805460878009,
          1793805814211307,
          1793808770877678,
          1793809167544305,
          1793813987543823,
          1938982866360267,
          1938984003026820,
          1938984383026782,
          1938994489692438,
          1939613636297190,
          1942592219332665,
          1947899015468652,
          1950741481851072,
          1950828148509072,
          1951337995124754,
          1951929368398950,
          1951974235061130,
          1952284051696815,
          1952454221679798,
          1952456095012944,
          1952535435005010,
          1952896248302262,
          1952897621635458,
          1953061684952385,
          1953092521615968,
          1953801894878364,
          1953903728201514,
          1953916474866906,
          1953917064866847,
          1953955551529665,
          1954255754832978,
          1954422868149600,
          1954436051481615,
          1954468631478357,
          1954807474777806,
          1954816031443617,
          1954847138107173,
          1955316538060233,
          1955317051393515,
          1955634761361744,
          1956094127982474,
          1956094667982420,
          1956468707945016,
          1956469904611563,
          1956470427944844,
          1956471344611419,
          1956472294611324,
          1956472934611260,
          1956473307944556,
          1956527754605778,
          1956750347916852,
          1957194351205785,
          1957573121167908,
          1957982684460285,
          1958027627789124,
          1958058821119338,
          1958591801066040,
          1958788427713044,
          1959470467644840,
          1959649610960259,
          1960108570914363,
          1960120464246507,
          1960199780905242,
          1960296140895606,
          1960570147534872,
          1960581924200361,
          1961079117483975,
          1961306247461262,
          1961653307426556,
          1961906550734565,
          1962077327384154,
          1962251864033367,
          1962261614032392,
          1962269567364930,
          1962304304028123,
          1962337984024755,
          1962530357338851,
          1962602083998345,
          1962613037330583,
          1962642890660931,
          1962649670660253,
          1962710220654198,
          1962748037317083,
          1963018943956659,
          1963030217288865,
          1963554533903100,
          1963555090569711,
          1963562730568947,
          1963921277199759,
          1963927857199101,
          1963937713864782,
          1964310870494133,
          1964388487153038,
          1964715630453657,
          1964807990444421,
          1965104407081446,
          1965115473747006,
          1965116837080203,
          1965159230409297,
          1965220283736525,
          1965231110402109,
          1965532697038617,
          1965669717024915,
          1965672137024673,
          1965674310357789,
          1965916390333581,
          1965919963666557,
          1965947226997164,
          1966014490323771,
          1966086993649854,
          1966272680297952,
          1966410833617470,
          1966437530281467,
          1966443263614227,
          1966444556947431,
          1966445303614023,
          1966446043613949,
          1966448860280334,
          1966454790279741,
          1966634370261783,
          1966675343591019,
          1966680530257167,
          1966711686920718,
          1966720063586547,
          1966824540242766,
          1966845526907334,
          1966858156906071,
          1966866840238536,
          1967070680218152,
          1967130833545470,
          1967258396866047,
          1967279140197306,
          1967280353530518,
          1967514426840444,
          1967667866825100,
          1967669516824935,
          1967670710158149,
          1967672966824590,
          1967674073491146,
          1967678223490731,
          1967680450157175,
          1967681946823692,
          1967683053490248,
          1967685620156658,
          1967686666823220,
          1967688703489683,
          1967690086822878,
          1967696126822274,
          1967700260155194,
          1967705703487983,
          1967710503487503,
          1967722713486282,
          1967728366819050,
          1967868760138344,
          1967895216802365,
          1968040473454506,
          1968079410117279,
          1968104573448096,
          1968127166779170,
          1968136773444876,
          1968139526777934,
          1968173720107848,
          1968178266774060,
          1968283596763527,
          1968358690089351,
          1968373893421164,
          1968383090086911,
          1968390550086165,
          1968421493416404,
          1968450936746793,
          1968459946745892,
          1968467853411768,
          1968709880054232,
          1968727916719095,
          1968729510052269,
          1968786550046565,
          1968792896712597,
          1968807783377775,
          1968852596706627,
          1968856753372878,
          1968860290039191,
          1968863900038830,
          1968882840036936,
          1968883416703545,
          1968884603370093,
          1968885120036708,
          1968894480035772,
          1968906383367915,
          1968910690034151,
          1968925703365983,
          1968927096699177,
          1968929053365648,
          1968932670031953,
          1968942570030963,
          1968944820030738,
          1968949533363600,
          1968952033363350,
          1968955743362979,
          1968957110029509,
          1968957540029466,
          1968958820029338,
          1968962856695601,
          1968974966694390,
          1968977880027432,
          1968979976693889,
          1968982866693600,
          1968986203359933,
          1968989320026288,
          1968990523359501,
          1968990750026145,
          1969024296689457,
          1969032123355341,
          1969053910019829,
          1969070350018185,
          1969082166683670,
          1969092913349262,
          1969093850015835,
          1969313066660580,
          1969313616660525,
          1969316909993529,
          1969369286654958,
          1969385603319993,
          1969434639981756,
          1969450176646869,
          1969456896646197,
          1969468849978335,
          1969472173311336,
          1969474599977760,
          1969476376644249,
          1969712139954006,
          1969723909952829,
          1969836473274906,
          1969888479936372,
          1969914079933812,
          1969914419933778,
          1969914609933759,
          1969915039933716,
          1969915253267028,
          1969915596600327,
          1969915979933622,
          1969916159933604,
          1970114699913750,
          1970117019913518,
          1970117399913480,
          1970117929913427,
          1970120206579866,
          1970153336576553,
          1970158863242667,
          1970160136575873,
          1970162876575599,
          1970164019908818,
          1970165263242027,
          1970172719907948,
          1970177263240827,
          1970180053240548,
          1970188493239704,
          1970190373239516,
          1970190979906122,
          1970271713231382,
          1970272646564622,
          1970301566561730,
          1970359123222641,
          1970385563219997,
          1970509003207653,
          1970544706537416,
          1970565996535287,
          1970579979867222,
          1970580136533873,
          1970624133196140,
          1970627699862450,
          1970646073193946,
          1970713139853906,
          1970716543186899,
          1970730883185465,
          1970731036518783,
          1970731176518769,
          1970758319849388,
          1970774839847736,
          1970776269847593,
          1971268936464993,
          1971276473130906,
          1971276576464229,
          1971277003130853,
          1971354573123096,
          1971383256453561,
          1971405933117960,
          1971407636451123,
          1971411816450705,
          1971412899783930,
          1971418676450019,
          1971428046449082,
          1971446673113886,
          1971540253104528,
          1971557106436176,
          1971557613102792,
          1971558213102732,
          1971559189769301,
          1971584979766722,
          1971712339753986,
          1971712896420597,
          1971713026420584,
          1971816799743540,
          1971817509743469,
          1971818109743409,
          1971818783076675,
          1971924523066101,
          1971978029727417,
          1971997953058758,
          1972004506391436,
          1972008706391016,
          1972227139702506,
          1972244376367449,
          1972249659700254,
          1972253813033172,
          1972255123033041,
          1972303453028208,
          1972413306350556,
          1972425859682634,
          1972431243015429,
          1972433956348491,
          1972434773015076,
          1972436619681558,
          1972437816348105,
          1972439023014651,
          1972441699681050,
          1972442659680954,
          1972442766347610,
          1972443439680876,
          1972444603014093,
          1972444806347406,
          1972445119680708,
          1972452699679950,
          1972452896346597,
          1972454149679805,
          1972454893013064,
          1972455763012977,
          1972456536346233,
          1972457309679489,
          1972457606346126,
          1972457953012758,
          1972458513012702,
          1972458936345993,
          1972459373012616,
          1972460059679214,
          1972461456345741,
          1972477726344114,
          1972486723009881,
          1972491453009408,
          1972502119675008,
          1972653456326541,
          1972680082990545,
          1972686679656552,
          1972718626320024,
          1972720822986471,
          1972728502985703,
          1972739382984615,
          1972739829651237,
          1972917916300095,
          1972918426300044,
          1972923439632876,
          1972923842966169,
          1972924352966118,
          1973077866284100,
          1973170522941501,
          1973179092940644,
          1973205702937983,
          1973279186263968,
          1973284126263474,
          1973291939596026,
          1973315409593679,
          1973368386255048,
          1973371869588033,
          1973532136238673,
          1973790479546172,
          1973832622875291,
          1974120319513188,
          1974127456179141,
          1974128099512410,
          1974129472845606,
          1974218519503368,
          1974459442812609,
          1974459969479223,
          1974683359456884,
          1974713359453884,
          1975882019337018,
          1975882366003650,
          1976475982610955,
          1976476712610882,
          1976766419248578,
          1977255585866328,
          1977283922530161,
          1977412189184001,
          1977456152512938,
          1977667642491789,
          1978324839092736,
          1978327772425776,
          1978328579092362,
          1978332162425337,
          1978398289085391,
          1978398339085386,
          1978398865752000,
          1978412509083969,
          1978888949036325,
          1979356225656264,
          1980024095589477,
          1980196548905565,
          1980199138905306,
          1980204792238074,
          1980462235545663,
          1981207658804454,
          1981360042122549,
          1981541568771063,
          1981559115435975,
          1982083348716885,
          1982368832021670,
          1982467485345138,
          1983277815264105,
          1983284888596731,
          1983290238596196,
          1983292825262604,
          1983295998595620,
          1983392278585992,
          1983397081918845,
          1983765081882045,
          1983769855214901,
          1983780795213807,
          1983897051868848,
          1984146151843938,
          1984163868508833,
          1984187431839810,
          1984247248500495,
          1984365848488635,
          1985127648412455,
          1985133635078523,
          1985287191729834,
          1985499798375240,
          1985506128374607,
          1985586328366587,
          1985938088331411,
          1985960164995870,
          1986042711654282,
          1986054201653133,
          1986537701604783,
          1986540348271185,
          1986545684937318,
          1986549301603623,
          1987358531522700,
          1987361638189056,
          1987395464852340,
          1987659718159248,
          1987830471475506,
          1987832361475317,
          1987855128139707,
          1988125564779330,
          1988132351445318,
          1988286438096576,
          1988659641392589,
          1988720598053160,
          1988724818052738,
          1989123758012844,
          1989128784679008,
          1989138988011321,
          1989586137966606,
          1989600881298465,
          1990379047887315,
          1990386921219861,
          1990388181219735,
          1990402381218315,
          1990827754509111,
          1990942071164346,
          1991002331158320,
          1991329357792284,
          1991862327738987,
          1992176184374268,
          1992209197704300,
          1992210994370787,
          1992211571037396,
          1992212991037254,
          1992350647690155,
          1992932630965290,
          1992932647631955,
          1992937417631478,
          1992937990964754,
          1993486544243232,
          1993503037574916,
          1993717174220169,
          1993720537553166,
          1993744597550760,
          1993757224216164,
          1994224060836147,
          1994224674169419,
          1994256470832906,
          1994448180813735,
          1994694117455808,
          1994694907455729,
          1994703237454896,
          1994703300788223,
          1994703354121551,
          1994703437454876,
          1994703547454865,
          1994749540783599,
          2000019773589909,
          2006277772964109,
          2006283116296908,
          2006420849616468,
          2006442259614327,
          2009162169342336,
          2018125441779342,
          2020120884913131,
          2039961372929082,
          2041641126094440,
          2045929618998924,
          2046875115571041,
          2046879718903914,
          2046892915569261,
          2046915918900294,
          2048756685382884,
          2048757305382822,
          2048757622049457,
          2048782592046960,
          2048783475380205,
          2048919762033243,
          2049445425314010,
          2049446711980548,
          2052717944986758,
          2058764647715421,
          2058778817714004,
          2058860974372455,
          2059387294319823,
          2059671467624739,
          2090394414552444,
          2122205894704629,
          2123274167931135,
          2139204783004740,
          2139463392978879,
          2139550506303501,
          2143628525895699,
          2143630892562129,
          2148926698699215,
          2152465538345331,
          2156715867920298,
          2156892701235948,
          2157185754539976,
          2157247231200495,
          2157249064533645,
          2159915164267035,
          2160908650834353,
          2162989607292924,
          2163114413947110,
          2164463967145488,
          2164559777135907,
          2164847770440441,
          2164870137104871,
          2164888317103053,
          2164969343761617,
          2166836860241532,
          2167802720144946,
          2167803776811507,
          2168229306768954,
          2168233230101895,
          2168694716722413,
          2174710586120826,
          2174718769453341,
          2174727089452509,
          2174733929451825,
          2174839332774618,
          2174889456102939,
          2174967239428494,
          2177853085806576,
          2178043752454176,
          2178241639101054,
          2178569715734913,
          2178607915731093,
          2178942735697611,
          2178959139029304,
          2178983852360166,
          2179012645690620,
          2179044902354061,
          2179491315642753,
          2179542788970939,
          2179609402297611,
          2179904538934764,
          2179906578934560,
          2179908312267720,
          2179909395600945,
          2180450555546829,
          2180483245543560,
          2180489638876254,
          2180503002208251,
          2180730962185455,
          2181061195485765,
          2181160055475879,
          2181212448803973,
          2181215528803665,
          2181219705469914,
          2181500162108535,
          2181913098733908,
          2182088258716392,
          2182166705375214,
          2182187685373116,
          2182624331996118,
          2182743611984190,
          2182755228649695,
          2182774858647732,
          2183091275282757,
          2183177985274086,
          2183340808591137,
          2183813318543886,
          2183826178542600,
          2184097168515501,
          2184258258499392,
          2184299061828645,
          2184329961825555,
          2184389801819571,
          2184413018483916,
          2184452635146621,
          2184462818478936,
          2184789485112936,
          2184920531766498,
          2184959678429250,
          2184985845093300,
          2185052838419934,
          2185076971750854,
          2185093145082570,
          2185366505055234,
          2185403965051488,
          2185452048380013,
          2185475135044371,
          2185489038376314,
          2185494231709128,
          2185510578374160,
          2185555821702969,
          2185561968369021,
          2185880041670547,
          2185961738329044,
          2185962501662301,
          2185964604995424,
          2185997368325481,
          2186095328315685,
          2186465778278640,
          2186494838275734,
          2186555848269633,
          2186640574927827,
          2186655088259709,
          2186926968232521,
          2187029364888948,
          2187076338217584,
          2187101568215061,
          2187470608178157,
          2187771624814722,
          2189300374661847,
          2189993937925824,
          2197021153889769,
          2199810270277524,
          2201450586780159,
          2201457483446136,
          2205949306330287,
          2214452915479926,
          2216231198635431,
          2238765149715369,
          2242736072651610,
          2242760319315852,
          2243396709252213,
          2243419929249891,
          2244583999133484,
          2244870065771544,
          2247150295543521,
          2247168225541728,
          2250864188505465,
          2251212811803936,
          2251222045136346,
          2255384314720119,
          2257334924525058,
          2261284517463432,
          2262225077369376,
          2263171350608082,
          2263337043924846,
          2265573160367901,
          2266009790324238,
          2271720823086468,
          2272546313003919,
          2277725645819319,
          2278597225732161,
          2279597348965482,
          2281487135443170,
          2282673688657848,
          2283755641882986,
          2283765615215322,
          2286086111649939,
          2288190898106127,
          2288774608047756,
          2290639377861279,
          2292223531036197,
          2292918850966665,
          2294262387498978,
          2295003544091529,
          2297313353860548,
          2297315120527038,
          2299470553644828,
          2303062019952348,
          2304016199856930,
          2304464393145444,
          2304533139805236,
          2305795183012365,
          2306164782975405,
          2307291419529408,
          2307815512810332,
          2308005496124667,
          2308283482763535,
          2315015332090350,
          2315025088756041,
          2318419481749935,
          2324683327790217,
          2333930746865475,
          2341832972741919,
          2343611099230773,
          2345548449037038,
          2347863535472196,
          2348194532105763,
          2348465175412032,
          2348527615405788,
          2357620457829837,
          2358851997706683,
          2359623630962853,
          2361582557433627,
          2361689707422912,
          2361753617416521,
          2362332857358597,
          2364310840494132,
          2364938177098065,
          2365645153694034,
          2368493920075824,
          2368495313409018,
          2368498086742074,
          2371040143154535,
          2371042159821000,
          2372302766361606,
          2372316769693539,
          2373093382949211,
          2373094379615778,
          2373564429568773,
          2373729559552260,
          2373989566192926,
          2373997872858762,
          2374366099488606,
          2375747309350485,
          2376969482561601,
          2377073699217846,
          2377127765879106,
          2377129689212247,
          2377693932489156,
          2377989925792890,
          2378430132415536,
          2379406228984593,
          2380613058863910,
          2381461212112428,
          2389498037975412,
          2394160094175873,
          2395019704089912,
          2395764584015424,
          2398074953784387,
          2400543790204170,
          2400634453528437,
          2401234123468470,
          2403023189956230,
          2404676569790892,
          2405496749708874,
          2407086862883196,
          2409536885971527,
          2410281079230441,
          2410959885829227,
          2411198435805372,
          2411852572406625,
          2411990319059517,
          2412280932363789,
          2412283795696836,
          2412821695643046,
          2412832418975307,
          2413827682209114,
          2414098725515343,
          2414844045440811,
          2414861922105690,
          2414984638760085,
          2415001602091722,
          2415754715349744,
          2415892082002674,
          2415970441994838,
          2416024138656135,
          2416713205253895,
          2416848065240409,
          2417107138547835,
          2417699611821921,
          2417945401797342,
          2418000531791829,
          2418594148399134,
          2418730898385459,
          2418805808377968,
          2419232615001954,
          2419392171652665,
          2419538708304678,
          2419597641632118,
          2419599388298610,
          2419600651631817,
          2419602044965011,
          2419604814964734,
          2419606141631268,
          2419714531620429,
          2420264351565447,
          2420334281558454,
          2420542631537619,
          2420589591532923,
          2420613021530580,
          2421071171484765,
          2421141821477700,
          2421163061475576,
          2421281228130426,
          2421365794788636,
          2421367354788480,
          2421472608111288,
          2421488024776413,
          2421498754775340,
          2421545668103982,
          2421565141435368,
          2421969631394919,
          2422045641387318,
          2422176091374273,
          2422230161368866,
          2422373798021169,
          2422800447978504,
          2422897021302180,
          2423011034624112,
          2423075264617689,
          2423079651283917,
          2423205504604665,
          2423210657937483,
          2423215694603646,
          2423235294601686,
          2423817687876780,
          2423825311209351,
          2423916887866860,
          2424122014513014,
          2424653427793206,
          2424709087787640,
          2424715947786954,
          2425632767695272,
          2425959497662599,
          2426065804318635,
          2426388100953072,
          2427478810844001,
          2429002304024985,
          2429953287263220,
          2429960303929185,
          2432940800317986,
          2435020870089795,
          2436169713308244,
          2440439239547958,
          2444135685844980,
          2446314878960394,
          2450617025196846,
          2452988358293046,
          2462056114052937,
          2472301086361773,
          2479491152309433,
          2479589218966293,
          2481712258753989,
          2493565630901985,
          2494536430804905,
          2553076554950892,
          2590174414574439,
          2590822911176256,
          2590920174499863,
          2594056747519539
         ],
         "y": [
          40,
          74,
          8,
          5,
          5,
          13,
          656,
          227,
          37,
          32,
          39,
          222,
          461,
          264,
          20,
          365,
          559,
          28,
          68,
          634,
          431,
          37,
          88,
          121,
          163,
          78,
          197,
          1025,
          219,
          127,
          134,
          132,
          121,
          86,
          330,
          220,
          150,
          88,
          149,
          94,
          138,
          47,
          64,
          19,
          26,
          16,
          484,
          218,
          181,
          388,
          11,
          68,
          49,
          21,
          88,
          179,
          603,
          19,
          139,
          110,
          282,
          70,
          53,
          231,
          29,
          80,
          318,
          6,
          15,
          47,
          9,
          5,
          183,
          7,
          12,
          7,
          243,
          130,
          33,
          30,
          267,
          25,
          1,
          3,
          9,
          7,
          13,
          11,
          12,
          8,
          23,
          101,
          99,
          92,
          23,
          15,
          88,
          192,
          28,
          12,
          9,
          16,
          20,
          10,
          24,
          85,
          5,
          4,
          4,
          5,
          14,
          32,
          5,
          7,
          15,
          113,
          11,
          15,
          14,
          12,
          8,
          5,
          6,
          6,
          10,
          7,
          5,
          6,
          18,
          12,
          8,
          9,
          26,
          16,
          20,
          7,
          10,
          15,
          7,
          19,
          5,
          25,
          14,
          38,
          14,
          28,
          11,
          32,
          8,
          14,
          17,
          80,
          25,
          40,
          24,
          6,
          50,
          5,
          17,
          35,
          20,
          7,
          11,
          16,
          14,
          25,
          751,
          154,
          113,
          201,
          61,
          141,
          115,
          97,
          37,
          296,
          97,
          169,
          21,
          677,
          72,
          152,
          1217,
          30,
          181,
          49,
          169,
          283,
          109,
          121,
          745,
          63,
          152,
          367,
          729,
          3343,
          86,
          181,
          187,
          293,
          877,
          1676,
          92,
          186,
          1370,
          77,
          1032,
          1405,
          950,
          170,
          146,
          61,
          89,
          105,
          825,
          234,
          209,
          258,
          273,
          351,
          87,
          85,
          228,
          119,
          124,
          61,
          35,
          171,
          79,
          87,
          20,
          97,
          82,
          36,
          18,
          157,
          54,
          23,
          30,
          99,
          140,
          110,
          1308,
          25,
          24,
          13,
          45,
          45,
          497,
          10,
          61,
          121,
          196,
          110,
          126,
          92,
          97,
          230,
          133,
          115,
          147,
          166,
          260,
          55,
          89,
          29,
          60,
          70,
          140,
          180,
          39,
          20,
          59,
          53,
          42,
          27,
          90,
          3,
          33,
          53,
          18,
          25,
          52,
          305,
          8,
          25,
          5,
          23,
          13,
          24,
          47,
          23,
          32,
          35,
          30,
          94,
          45,
          44,
          17,
          10,
          22,
          61,
          123,
          27,
          34,
          19,
          25,
          69,
          18,
          32,
          89,
          21,
          23,
          11,
          58,
          22,
          17,
          33,
          29,
          64,
          38,
          29,
          34,
          11,
          24,
          19,
          7,
          31,
          16,
          57,
          6,
          3,
          7,
          212,
          13,
          20,
          61,
          46,
          47,
          42,
          34,
          51,
          88,
          11,
          14,
          34,
          12,
          23,
          31,
          14,
          56,
          35,
          30,
          30,
          32,
          22,
          11,
          56,
          15,
          37,
          5,
          16,
          131,
          36,
          20,
          130,
          39,
          22,
          16,
          18,
          24,
          20,
          96,
          22,
          83,
          110,
          13,
          8,
          2,
          6,
          13,
          34,
          43,
          67,
          27,
          40,
          103,
          28,
          40,
          34,
          18,
          31,
          54,
          44,
          10,
          36,
          13,
          38,
          691,
          96,
          65,
          39,
          57,
          32,
          29,
          33,
          18,
          23,
          19,
          28,
          29,
          89,
          114,
          61,
          10,
          96,
          26,
          962,
          221,
          1300,
          145,
          73,
          316,
          25,
          11,
          35,
          14,
          72,
          19,
          53,
          185,
          473,
          93,
          119,
          81,
          486,
          100,
          104,
          82,
          1130,
          192,
          84,
          33,
          21,
          37,
          82,
          87,
          23,
          444,
          40,
          76,
          279,
          151,
          37,
          32,
          16,
          29,
          13,
          11,
          16,
          10,
          15,
          17,
          18,
          17,
          32,
          140,
          55,
          39,
          46,
          31,
          37,
          27,
          113,
          55,
          113,
          328,
          107,
          146,
          43,
          26,
          36,
          148,
          93,
          147,
          20,
          100,
          89,
          33,
          16,
          33,
          32,
          40,
          51,
          19,
          6,
          14,
          43,
          30,
          10,
          22,
          17,
          61,
          5,
          8,
          7,
          3,
          88,
          1,
          4,
          9,
          7,
          11,
          12,
          2,
          8,
          16,
          30,
          11,
          17,
          25,
          95,
          9,
          18,
          30,
          680,
          72,
          29,
          21,
          21,
          13,
          14,
          29,
          12,
          69,
          12,
          18,
          10,
          8,
          9,
          59,
          7,
          10,
          15,
          8,
          8,
          11,
          47,
          77,
          11,
          15,
          11,
          11,
          106,
          36,
          20,
          11,
          4,
          3,
          5,
          3,
          72,
          3,
          8,
          17,
          3,
          7,
          26,
          159,
          21,
          107,
          16,
          56,
          281,
          18,
          41,
          6,
          6,
          9,
          23,
          18,
          48,
          29,
          52,
          31,
          20,
          15,
          11,
          8,
          25,
          14,
          51,
          16,
          25,
          17,
          20,
          27,
          15,
          40,
          26,
          19,
          25,
          26,
          41,
          56,
          28,
          19,
          36,
          28,
          41,
          15,
          15,
          124,
          26,
          6,
          29,
          19,
          17,
          22,
          6,
          21,
          13,
          41,
          2,
          224,
          12,
          50,
          13,
          12,
          11,
          12,
          11,
          7,
          10,
          32,
          18,
          12,
          15,
          11,
          5,
          10,
          5,
          51,
          13,
          6,
          48,
          38,
          138,
          4,
          13,
          11,
          6,
          3,
          1,
          5,
          54,
          6,
          1,
          1,
          0,
          4,
          2,
          1,
          7,
          2,
          36,
          3,
          4,
          37,
          8,
          3,
          5,
          17,
          8,
          4,
          3,
          8,
          12,
          7,
          3,
          1,
          3,
          1,
          3,
          5,
          4,
          6,
          2,
          5,
          5,
          7,
          14,
          8,
          2,
          70,
          14,
          119,
          7,
          2,
          1,
          1,
          30,
          6,
          11,
          1,
          5,
          8,
          6,
          12,
          2,
          4,
          49,
          10,
          8,
          61,
          4,
          4,
          7,
          1,
          80,
          4,
          5,
          3,
          2,
          4,
          10,
          40,
          5,
          8,
          8,
          1,
          3,
          1,
          8,
          4,
          8,
          30,
          14,
          5,
          1,
          2,
          5,
          2,
          0,
          3,
          0,
          4,
          8,
          6,
          3,
          8,
          5,
          9,
          3,
          3,
          13,
          7,
          2,
          36,
          26,
          70,
          15,
          33,
          68,
          5,
          8,
          28,
          10,
          59,
          5,
          19,
          4,
          23,
          11,
          5,
          13,
          3,
          4,
          4,
          22,
          12,
          3,
          8,
          13,
          13,
          4,
          3,
          9,
          3,
          6,
          42,
          6,
          14,
          13,
          15,
          10,
          3,
          39,
          12,
          4,
          5,
          33,
          34,
          13,
          17,
          13,
          11,
          13,
          18,
          14,
          13,
          20,
          20,
          22,
          21,
          44,
          19,
          40,
          31,
          15,
          22,
          13,
          16,
          25,
          26,
          6,
          15,
          13,
          34,
          149,
          204,
          49,
          106,
          36,
          27,
          11,
          30,
          8,
          40,
          26,
          39,
          8,
          9,
          159,
          14,
          9,
          37,
          75,
          37,
          21,
          44,
          16,
          26,
          47,
          16,
          64,
          218,
          76,
          56,
          41,
          34,
          80,
          187,
          854,
          65,
          224,
          147,
          227,
          117,
          360,
          222,
          138,
          204,
          97,
          64,
          123,
          185,
          43,
          92,
          23,
          30,
          25,
          17,
          15,
          67,
          22,
          31,
          61,
          10,
          10,
          8,
          19,
          11,
          27,
          36,
          63,
          26,
          41,
          11,
          5,
          35,
          21,
          27,
          8,
          28,
          15,
          12,
          69,
          55,
          15,
          100,
          35,
          39,
          80,
          45,
          21,
          14,
          11,
          5,
          19,
          77,
          8,
          17,
          107,
          90,
          79,
          21,
          21,
          8,
          9,
          16,
          22,
          1,
          4,
          11,
          3,
          4,
          5,
          6,
          6,
          5,
          16,
          18,
          17,
          20,
          21,
          17,
          18,
          5,
          34,
          13,
          20,
          28,
          9,
          33,
          11,
          6,
          47,
          27,
          23,
          63,
          23,
          11,
          15,
          16,
          12,
          24,
          8,
          20,
          8,
          77,
          12,
          20,
          19,
          36,
          17,
          21,
          45,
          10,
          5,
          11,
          11,
          4,
          4,
          7,
          76,
          31,
          13,
          13,
          12,
          12,
          30,
          17,
          177,
          41,
          70,
          15,
          7,
          11,
          14,
          28,
          58,
          130,
          50,
          46,
          29,
          38,
          34,
          52,
          24,
          22,
          10,
          30,
          25,
          7,
          11,
          164,
          123,
          54,
          11,
          9,
          14,
          12,
          116,
          33,
          26,
          22,
          46,
          24,
          25,
          47,
          54,
          11,
          13,
          57,
          59,
          187,
          284,
          23,
          36,
          28,
          19,
          20,
          18,
          62,
          34,
          68,
          37,
          10,
          40,
          79,
          27,
          43,
          81,
          119,
          41,
          99,
          56,
          147,
          74,
          105,
          71,
          133,
          76,
          58,
          30,
          20,
          19,
          17,
          14,
          126,
          63,
          65,
          37,
          45,
          39,
          15,
          23,
          22,
          21,
          67,
          31,
          17,
          4,
          34,
          9,
          29,
          39,
          13,
          22,
          155,
          12,
          29,
          21,
          13,
          18,
          16,
          10,
          27,
          11,
          17,
          21,
          68,
          30,
          33,
          33,
          23,
          109,
          35,
          52,
          66,
          111,
          38,
          37,
          20,
          21,
          26,
          13,
          37,
          10,
          8,
          49,
          36,
          8,
          1,
          119,
          51,
          3,
          43,
          140,
          61,
          50,
          64,
          26,
          14,
          7
         ]
        },
        {
         "marker": {
          "color": "royalblue"
         },
         "name": "Nombre de shares",
         "type": "scatter",
         "visible": false,
         "x": [
          421678448546068,
          537911493687646,
          772103069561752,
          972136112828862,
          1646529012272322,
          1646529925605564,
          1646806645577892,
          1647435668848323,
          1647453935513163,
          1648394142085809,
          1648677248724165,
          1648953152029908,
          1648992495359307,
          1649167118675178,
          1649192365339320,
          1649192978672592,
          1649193458672544,
          1649241542001069,
          1650325608559329,
          1650491298542760,
          1650815671843656,
          1651704891754734,
          1651813261743897,
          1651814068410483,
          1651999228391967,
          1652052465053310,
          1652227401702483,
          1652459308345959,
          1652720544986502,
          1653480291577194,
          1653559738235916,
          1653731524885404,
          1654017384856818,
          1654259554832601,
          1654261861499037,
          1654600208131869,
          1654910304767526,
          1654918701433353,
          1654920521433171,
          1654923844766172,
          1654927301432493,
          1655291708062719,
          1655306241394599,
          1655600878031802,
          1655620221363201,
          1655632734695283,
          1655701541355069,
          1655741381351085,
          1655751494683407,
          1655754098016480,
          1655774024681154,
          1655849114673645,
          1655859098005980,
          1655865304672026,
          1655870564671500,
          1655906994667857,
          1655920114666545,
          1655926167999273,
          1655929281332295,
          1655946881330535,
          1655969271328296,
          1655987847993105,
          1656165394642017,
          1656181194640437,
          1656181314640425,
          1656182474640309,
          1656191901306033,
          1656218021303421,
          1656220117969878,
          1656230187968871,
          1656233837968506,
          1656235357968354,
          1656236991301524,
          1656239487967941,
          1656254664633090,
          1656266304631926,
          1656270557964834,
          1656271647964725,
          1656272441297979,
          1656283841296839,
          1656307851294438,
          1656327921292431,
          1656410717950818,
          1656411847950705,
          1656413307950559,
          1656413721283851,
          1656414007950489,
          1656414437950446,
          1656448047947085,
          1656469251278298,
          1656470864611470,
          1656479874610569,
          1656530094605547,
          1656565027935387,
          1656687814589775,
          1656688231256400,
          1656760677915822,
          1656806451244578,
          1656954777896412,
          1656959764562580,
          1656987604559796,
          1656993157892574,
          1657097681215455,
          1657237101201513,
          1657251317866758,
          1657259124532644,
          1657260254532531,
          1657260681199155,
          1657274651197758,
          1657275247864365,
          1657284577863432,
          1657289531196270,
          1657345857857304,
          1657497274508829,
          1657538831171340,
          1657756127816277,
          1657775734480983,
          1657777741147449,
          1657793884479168,
          1657797037812186,
          1657890287802861,
          1657892597802630,
          1657894591135764,
          1657895884468968,
          1657896734468883,
          1657898121135411,
          1657898591135364,
          1657899191135304,
          1658112327780657,
          1658113201113903,
          1658115757780314,
          1658117644446792,
          1658121731113050,
          1659344547657435,
          1659585040966719,
          1659737650951458,
          1659794527612437,
          1660091750916048,
          1660161297575760,
          1660567020868521,
          1660911667500723,
          1660967804161776,
          1661259317465958,
          1661475424111014,
          1661517084106848,
          1661543067437583,
          1662961367295753,
          1664003033858253,
          1667815583476998,
          1667815856810304,
          1667817350143488,
          1676020905989799,
          1684771261781430,
          1709339862657903,
          1709597729298783,
          1710693215855901,
          1710880515837171,
          1710910232500866,
          1711471885778034,
          1714594758799080,
          1785045165087372,
          1785049041753651,
          1785067335085155,
          1785068115085077,
          1785077605084128,
          1785079455083943,
          1785872775004611,
          1786100671648488,
          1786249368300285,
          1786286548296567,
          1786299061628649,
          1786307391627816,
          1786649241593631,
          1786662808258941,
          1786690124922876,
          1787127764879112,
          1787325491526006,
          1787356714856217,
          1787357221522833,
          1787360191522536,
          1787578431500712,
          1787616134830275,
          1787643008160921,
          1787645471494008,
          1787647274827161,
          1787749958150226,
          1787754434816445,
          1787786281479927,
          1787786811479874,
          1787789314812957,
          1788062671452288,
          1788071338118088,
          1788075054784383,
          1788085761449979,
          1788089648116257,
          1788109474780941,
          1788189908106231,
          1788257718099450,
          1788261048099117,
          1788583694733519,
          1788583984733490,
          1788665084725380,
          1788669264724962,
          1788693594722529,
          1788701961388359,
          1788740931384462,
          1788742424717646,
          1788743621384193,
          1788744281384127,
          1788744671384088,
          1789142514677637,
          1789143788010843,
          1789144478010774,
          1789144981344057,
          1789291341329421,
          1789305611327994,
          1789319211326634,
          1789334174658471,
          1789335081325047,
          1789600607965161,
          1789746737950548,
          1789837744608114,
          1789844427940779,
          1789870891271466,
          1789870934604795,
          1790012147924007,
          1790021627923059,
          1790129714578917,
          1790395357885686,
          1790739867851235,
          1791096361148919,
          1791284754463413,
          1791318787793343,
          1791412164450672,
          1791888727736349,
          1792038587721363,
          1792041661054389,
          1792041851054370,
          1792248337700388,
          1792248701033685,
          1792249214366967,
          1792249681033587,
          1792250804366808,
          1792294257695796,
          1792670570991498,
          1792671294324759,
          1792671797658042,
          1792672360991319,
          1792672794324609,
          1793295017595720,
          1793451350913420,
          1793457044246184,
          1793515507573671,
          1793555367569685,
          1793585907566631,
          1793589480899607,
          1793591810899374,
          1793593004232588,
          1793595147565707,
          1793601170898438,
          1793793444212544,
          1793803470878208,
          1793803784211510,
          1793805290878026,
          1793805460878009,
          1793805814211307,
          1793808770877678,
          1793809167544305,
          1793813987543823,
          1938982866360267,
          1938984003026820,
          1938984383026782,
          1938994489692438,
          1939613636297190,
          1942592219332665,
          1947899015468652,
          1950741481851072,
          1950828148509072,
          1951337995124754,
          1951929368398950,
          1951974235061130,
          1952284051696815,
          1952454221679798,
          1952456095012944,
          1952535435005010,
          1952896248302262,
          1952897621635458,
          1953061684952385,
          1953092521615968,
          1953801894878364,
          1953903728201514,
          1953916474866906,
          1953917064866847,
          1953955551529665,
          1954255754832978,
          1954422868149600,
          1954436051481615,
          1954468631478357,
          1954807474777806,
          1954816031443617,
          1954847138107173,
          1955316538060233,
          1955317051393515,
          1955634761361744,
          1956094127982474,
          1956094667982420,
          1956468707945016,
          1956469904611563,
          1956470427944844,
          1956471344611419,
          1956472294611324,
          1956472934611260,
          1956473307944556,
          1956527754605778,
          1956750347916852,
          1957194351205785,
          1957573121167908,
          1957982684460285,
          1958027627789124,
          1958058821119338,
          1958591801066040,
          1958788427713044,
          1959470467644840,
          1959649610960259,
          1960108570914363,
          1960120464246507,
          1960199780905242,
          1960296140895606,
          1960570147534872,
          1960581924200361,
          1961079117483975,
          1961306247461262,
          1961653307426556,
          1961906550734565,
          1962077327384154,
          1962251864033367,
          1962261614032392,
          1962269567364930,
          1962304304028123,
          1962337984024755,
          1962530357338851,
          1962602083998345,
          1962613037330583,
          1962642890660931,
          1962649670660253,
          1962710220654198,
          1962748037317083,
          1963018943956659,
          1963030217288865,
          1963554533903100,
          1963555090569711,
          1963562730568947,
          1963921277199759,
          1963927857199101,
          1963937713864782,
          1964310870494133,
          1964388487153038,
          1964715630453657,
          1964807990444421,
          1965104407081446,
          1965115473747006,
          1965116837080203,
          1965159230409297,
          1965220283736525,
          1965231110402109,
          1965532697038617,
          1965669717024915,
          1965672137024673,
          1965674310357789,
          1965916390333581,
          1965919963666557,
          1965947226997164,
          1966014490323771,
          1966086993649854,
          1966272680297952,
          1966410833617470,
          1966437530281467,
          1966443263614227,
          1966444556947431,
          1966445303614023,
          1966446043613949,
          1966448860280334,
          1966454790279741,
          1966634370261783,
          1966675343591019,
          1966680530257167,
          1966711686920718,
          1966720063586547,
          1966824540242766,
          1966845526907334,
          1966858156906071,
          1966866840238536,
          1967070680218152,
          1967130833545470,
          1967258396866047,
          1967279140197306,
          1967280353530518,
          1967514426840444,
          1967667866825100,
          1967669516824935,
          1967670710158149,
          1967672966824590,
          1967674073491146,
          1967678223490731,
          1967680450157175,
          1967681946823692,
          1967683053490248,
          1967685620156658,
          1967686666823220,
          1967688703489683,
          1967690086822878,
          1967696126822274,
          1967700260155194,
          1967705703487983,
          1967710503487503,
          1967722713486282,
          1967728366819050,
          1967868760138344,
          1967895216802365,
          1968040473454506,
          1968079410117279,
          1968104573448096,
          1968127166779170,
          1968136773444876,
          1968139526777934,
          1968173720107848,
          1968178266774060,
          1968283596763527,
          1968358690089351,
          1968373893421164,
          1968383090086911,
          1968390550086165,
          1968421493416404,
          1968450936746793,
          1968459946745892,
          1968467853411768,
          1968709880054232,
          1968727916719095,
          1968729510052269,
          1968786550046565,
          1968792896712597,
          1968807783377775,
          1968852596706627,
          1968856753372878,
          1968860290039191,
          1968863900038830,
          1968882840036936,
          1968883416703545,
          1968884603370093,
          1968885120036708,
          1968894480035772,
          1968906383367915,
          1968910690034151,
          1968925703365983,
          1968927096699177,
          1968929053365648,
          1968932670031953,
          1968942570030963,
          1968944820030738,
          1968949533363600,
          1968952033363350,
          1968955743362979,
          1968957110029509,
          1968957540029466,
          1968958820029338,
          1968962856695601,
          1968974966694390,
          1968977880027432,
          1968979976693889,
          1968982866693600,
          1968986203359933,
          1968989320026288,
          1968990523359501,
          1968990750026145,
          1969024296689457,
          1969032123355341,
          1969053910019829,
          1969070350018185,
          1969082166683670,
          1969092913349262,
          1969093850015835,
          1969313066660580,
          1969313616660525,
          1969316909993529,
          1969369286654958,
          1969385603319993,
          1969434639981756,
          1969450176646869,
          1969456896646197,
          1969468849978335,
          1969472173311336,
          1969474599977760,
          1969476376644249,
          1969712139954006,
          1969723909952829,
          1969836473274906,
          1969888479936372,
          1969914079933812,
          1969914419933778,
          1969914609933759,
          1969915039933716,
          1969915253267028,
          1969915596600327,
          1969915979933622,
          1969916159933604,
          1970114699913750,
          1970117019913518,
          1970117399913480,
          1970117929913427,
          1970120206579866,
          1970153336576553,
          1970158863242667,
          1970160136575873,
          1970162876575599,
          1970164019908818,
          1970165263242027,
          1970172719907948,
          1970177263240827,
          1970180053240548,
          1970188493239704,
          1970190373239516,
          1970190979906122,
          1970271713231382,
          1970272646564622,
          1970301566561730,
          1970359123222641,
          1970385563219997,
          1970509003207653,
          1970544706537416,
          1970565996535287,
          1970579979867222,
          1970580136533873,
          1970624133196140,
          1970627699862450,
          1970646073193946,
          1970713139853906,
          1970716543186899,
          1970730883185465,
          1970731036518783,
          1970731176518769,
          1970758319849388,
          1970774839847736,
          1970776269847593,
          1971268936464993,
          1971276473130906,
          1971276576464229,
          1971277003130853,
          1971354573123096,
          1971383256453561,
          1971405933117960,
          1971407636451123,
          1971411816450705,
          1971412899783930,
          1971418676450019,
          1971428046449082,
          1971446673113886,
          1971540253104528,
          1971557106436176,
          1971557613102792,
          1971558213102732,
          1971559189769301,
          1971584979766722,
          1971712339753986,
          1971712896420597,
          1971713026420584,
          1971816799743540,
          1971817509743469,
          1971818109743409,
          1971818783076675,
          1971924523066101,
          1971978029727417,
          1971997953058758,
          1972004506391436,
          1972008706391016,
          1972227139702506,
          1972244376367449,
          1972249659700254,
          1972253813033172,
          1972255123033041,
          1972303453028208,
          1972413306350556,
          1972425859682634,
          1972431243015429,
          1972433956348491,
          1972434773015076,
          1972436619681558,
          1972437816348105,
          1972439023014651,
          1972441699681050,
          1972442659680954,
          1972442766347610,
          1972443439680876,
          1972444603014093,
          1972444806347406,
          1972445119680708,
          1972452699679950,
          1972452896346597,
          1972454149679805,
          1972454893013064,
          1972455763012977,
          1972456536346233,
          1972457309679489,
          1972457606346126,
          1972457953012758,
          1972458513012702,
          1972458936345993,
          1972459373012616,
          1972460059679214,
          1972461456345741,
          1972477726344114,
          1972486723009881,
          1972491453009408,
          1972502119675008,
          1972653456326541,
          1972680082990545,
          1972686679656552,
          1972718626320024,
          1972720822986471,
          1972728502985703,
          1972739382984615,
          1972739829651237,
          1972917916300095,
          1972918426300044,
          1972923439632876,
          1972923842966169,
          1972924352966118,
          1973077866284100,
          1973170522941501,
          1973179092940644,
          1973205702937983,
          1973279186263968,
          1973284126263474,
          1973291939596026,
          1973315409593679,
          1973368386255048,
          1973371869588033,
          1973532136238673,
          1973790479546172,
          1973832622875291,
          1974120319513188,
          1974127456179141,
          1974128099512410,
          1974129472845606,
          1974218519503368,
          1974459442812609,
          1974459969479223,
          1974683359456884,
          1974713359453884,
          1975882019337018,
          1975882366003650,
          1976475982610955,
          1976476712610882,
          1976766419248578,
          1977255585866328,
          1977283922530161,
          1977412189184001,
          1977456152512938,
          1977667642491789,
          1978324839092736,
          1978327772425776,
          1978328579092362,
          1978332162425337,
          1978398289085391,
          1978398339085386,
          1978398865752000,
          1978412509083969,
          1978888949036325,
          1979356225656264,
          1980024095589477,
          1980196548905565,
          1980199138905306,
          1980204792238074,
          1980462235545663,
          1981207658804454,
          1981360042122549,
          1981541568771063,
          1981559115435975,
          1982083348716885,
          1982368832021670,
          1982467485345138,
          1983277815264105,
          1983284888596731,
          1983290238596196,
          1983292825262604,
          1983295998595620,
          1983392278585992,
          1983397081918845,
          1983765081882045,
          1983769855214901,
          1983780795213807,
          1983897051868848,
          1984146151843938,
          1984163868508833,
          1984187431839810,
          1984247248500495,
          1984365848488635,
          1985127648412455,
          1985133635078523,
          1985287191729834,
          1985499798375240,
          1985506128374607,
          1985586328366587,
          1985938088331411,
          1985960164995870,
          1986042711654282,
          1986054201653133,
          1986537701604783,
          1986540348271185,
          1986545684937318,
          1986549301603623,
          1987358531522700,
          1987361638189056,
          1987395464852340,
          1987659718159248,
          1987830471475506,
          1987832361475317,
          1987855128139707,
          1988125564779330,
          1988132351445318,
          1988286438096576,
          1988659641392589,
          1988720598053160,
          1988724818052738,
          1989123758012844,
          1989128784679008,
          1989138988011321,
          1989586137966606,
          1989600881298465,
          1990379047887315,
          1990386921219861,
          1990388181219735,
          1990402381218315,
          1990827754509111,
          1990942071164346,
          1991002331158320,
          1991329357792284,
          1991862327738987,
          1992176184374268,
          1992209197704300,
          1992210994370787,
          1992211571037396,
          1992212991037254,
          1992350647690155,
          1992932630965290,
          1992932647631955,
          1992937417631478,
          1992937990964754,
          1993486544243232,
          1993503037574916,
          1993717174220169,
          1993720537553166,
          1993744597550760,
          1993757224216164,
          1994224060836147,
          1994224674169419,
          1994256470832906,
          1994448180813735,
          1994694117455808,
          1994694907455729,
          1994703237454896,
          1994703300788223,
          1994703354121551,
          1994703437454876,
          1994703547454865,
          1994749540783599,
          2000019773589909,
          2006277772964109,
          2006283116296908,
          2006420849616468,
          2006442259614327,
          2009162169342336,
          2018125441779342,
          2020120884913131,
          2039961372929082,
          2041641126094440,
          2045929618998924,
          2046875115571041,
          2046879718903914,
          2046892915569261,
          2046915918900294,
          2048756685382884,
          2048757305382822,
          2048757622049457,
          2048782592046960,
          2048783475380205,
          2048919762033243,
          2049445425314010,
          2049446711980548,
          2052717944986758,
          2058764647715421,
          2058778817714004,
          2058860974372455,
          2059387294319823,
          2059671467624739,
          2090394414552444,
          2122205894704629,
          2123274167931135,
          2139204783004740,
          2139463392978879,
          2139550506303501,
          2143628525895699,
          2143630892562129,
          2148926698699215,
          2152465538345331,
          2156715867920298,
          2156892701235948,
          2157185754539976,
          2157247231200495,
          2157249064533645,
          2159915164267035,
          2160908650834353,
          2162989607292924,
          2163114413947110,
          2164463967145488,
          2164559777135907,
          2164847770440441,
          2164870137104871,
          2164888317103053,
          2164969343761617,
          2166836860241532,
          2167802720144946,
          2167803776811507,
          2168229306768954,
          2168233230101895,
          2168694716722413,
          2174710586120826,
          2174718769453341,
          2174727089452509,
          2174733929451825,
          2174839332774618,
          2174889456102939,
          2174967239428494,
          2177853085806576,
          2178043752454176,
          2178241639101054,
          2178569715734913,
          2178607915731093,
          2178942735697611,
          2178959139029304,
          2178983852360166,
          2179012645690620,
          2179044902354061,
          2179491315642753,
          2179542788970939,
          2179609402297611,
          2179904538934764,
          2179906578934560,
          2179908312267720,
          2179909395600945,
          2180450555546829,
          2180483245543560,
          2180489638876254,
          2180503002208251,
          2180730962185455,
          2181061195485765,
          2181160055475879,
          2181212448803973,
          2181215528803665,
          2181219705469914,
          2181500162108535,
          2181913098733908,
          2182088258716392,
          2182166705375214,
          2182187685373116,
          2182624331996118,
          2182743611984190,
          2182755228649695,
          2182774858647732,
          2183091275282757,
          2183177985274086,
          2183340808591137,
          2183813318543886,
          2183826178542600,
          2184097168515501,
          2184258258499392,
          2184299061828645,
          2184329961825555,
          2184389801819571,
          2184413018483916,
          2184452635146621,
          2184462818478936,
          2184789485112936,
          2184920531766498,
          2184959678429250,
          2184985845093300,
          2185052838419934,
          2185076971750854,
          2185093145082570,
          2185366505055234,
          2185403965051488,
          2185452048380013,
          2185475135044371,
          2185489038376314,
          2185494231709128,
          2185510578374160,
          2185555821702969,
          2185561968369021,
          2185880041670547,
          2185961738329044,
          2185962501662301,
          2185964604995424,
          2185997368325481,
          2186095328315685,
          2186465778278640,
          2186494838275734,
          2186555848269633,
          2186640574927827,
          2186655088259709,
          2186926968232521,
          2187029364888948,
          2187076338217584,
          2187101568215061,
          2187470608178157,
          2187771624814722,
          2189300374661847,
          2189993937925824,
          2197021153889769,
          2199810270277524,
          2201450586780159,
          2201457483446136,
          2205949306330287,
          2214452915479926,
          2216231198635431,
          2238765149715369,
          2242736072651610,
          2242760319315852,
          2243396709252213,
          2243419929249891,
          2244583999133484,
          2244870065771544,
          2247150295543521,
          2247168225541728,
          2250864188505465,
          2251212811803936,
          2251222045136346,
          2255384314720119,
          2257334924525058,
          2261284517463432,
          2262225077369376,
          2263171350608082,
          2263337043924846,
          2265573160367901,
          2266009790324238,
          2271720823086468,
          2272546313003919,
          2277725645819319,
          2278597225732161,
          2279597348965482,
          2281487135443170,
          2282673688657848,
          2283755641882986,
          2283765615215322,
          2286086111649939,
          2288190898106127,
          2288774608047756,
          2290639377861279,
          2292223531036197,
          2292918850966665,
          2294262387498978,
          2295003544091529,
          2297313353860548,
          2297315120527038,
          2299470553644828,
          2303062019952348,
          2304016199856930,
          2304464393145444,
          2304533139805236,
          2305795183012365,
          2306164782975405,
          2307291419529408,
          2307815512810332,
          2308005496124667,
          2308283482763535,
          2315015332090350,
          2315025088756041,
          2318419481749935,
          2324683327790217,
          2333930746865475,
          2341832972741919,
          2343611099230773,
          2345548449037038,
          2347863535472196,
          2348194532105763,
          2348465175412032,
          2348527615405788,
          2357620457829837,
          2358851997706683,
          2359623630962853,
          2361582557433627,
          2361689707422912,
          2361753617416521,
          2362332857358597,
          2364310840494132,
          2364938177098065,
          2365645153694034,
          2368493920075824,
          2368495313409018,
          2368498086742074,
          2371040143154535,
          2371042159821000,
          2372302766361606,
          2372316769693539,
          2373093382949211,
          2373094379615778,
          2373564429568773,
          2373729559552260,
          2373989566192926,
          2373997872858762,
          2374366099488606,
          2375747309350485,
          2376969482561601,
          2377073699217846,
          2377127765879106,
          2377129689212247,
          2377693932489156,
          2377989925792890,
          2378430132415536,
          2379406228984593,
          2380613058863910,
          2381461212112428,
          2389498037975412,
          2394160094175873,
          2395019704089912,
          2395764584015424,
          2398074953784387,
          2400543790204170,
          2400634453528437,
          2401234123468470,
          2403023189956230,
          2404676569790892,
          2405496749708874,
          2407086862883196,
          2409536885971527,
          2410281079230441,
          2410959885829227,
          2411198435805372,
          2411852572406625,
          2411990319059517,
          2412280932363789,
          2412283795696836,
          2412821695643046,
          2412832418975307,
          2413827682209114,
          2414098725515343,
          2414844045440811,
          2414861922105690,
          2414984638760085,
          2415001602091722,
          2415754715349744,
          2415892082002674,
          2415970441994838,
          2416024138656135,
          2416713205253895,
          2416848065240409,
          2417107138547835,
          2417699611821921,
          2417945401797342,
          2418000531791829,
          2418594148399134,
          2418730898385459,
          2418805808377968,
          2419232615001954,
          2419392171652665,
          2419538708304678,
          2419597641632118,
          2419599388298610,
          2419600651631817,
          2419602044965011,
          2419604814964734,
          2419606141631268,
          2419714531620429,
          2420264351565447,
          2420334281558454,
          2420542631537619,
          2420589591532923,
          2420613021530580,
          2421071171484765,
          2421141821477700,
          2421163061475576,
          2421281228130426,
          2421365794788636,
          2421367354788480,
          2421472608111288,
          2421488024776413,
          2421498754775340,
          2421545668103982,
          2421565141435368,
          2421969631394919,
          2422045641387318,
          2422176091374273,
          2422230161368866,
          2422373798021169,
          2422800447978504,
          2422897021302180,
          2423011034624112,
          2423075264617689,
          2423079651283917,
          2423205504604665,
          2423210657937483,
          2423215694603646,
          2423235294601686,
          2423817687876780,
          2423825311209351,
          2423916887866860,
          2424122014513014,
          2424653427793206,
          2424709087787640,
          2424715947786954,
          2425632767695272,
          2425959497662599,
          2426065804318635,
          2426388100953072,
          2427478810844001,
          2429002304024985,
          2429953287263220,
          2429960303929185,
          2432940800317986,
          2435020870089795,
          2436169713308244,
          2440439239547958,
          2444135685844980,
          2446314878960394,
          2450617025196846,
          2452988358293046,
          2462056114052937,
          2472301086361773,
          2479491152309433,
          2479589218966293,
          2481712258753989,
          2493565630901985,
          2494536430804905,
          2553076554950892,
          2590174414574439,
          2590822911176256,
          2590920174499863,
          2594056747519539
         ],
         "y": [
          23,
          65,
          0,
          0,
          6,
          2,
          0,
          0,
          0,
          0,
          0,
          0,
          0,
          0,
          0,
          0,
          0,
          0,
          24,
          0,
          0,
          0,
          46,
          66,
          0,
          0,
          0,
          0,
          0,
          80,
          0,
          73,
          55,
          0,
          205,
          78,
          0,
          0,
          0,
          0,
          0,
          0,
          0,
          0,
          0,
          2,
          0,
          0,
          57,
          0,
          0,
          0,
          0,
          0,
          33,
          0,
          0,
          0,
          0,
          0,
          252,
          0,
          0,
          0,
          0,
          18,
          0,
          0,
          0,
          5,
          3,
          0,
          0,
          0,
          0,
          0,
          0,
          0,
          14,
          0,
          0,
          0,
          0,
          0,
          0,
          0,
          2,
          0,
          0,
          0,
          0,
          0,
          44,
          0,
          3,
          0,
          0,
          220,
          5,
          4,
          0,
          4,
          3,
          0,
          7,
          96,
          0,
          0,
          0,
          0,
          12,
          0,
          3,
          0,
          0,
          0,
          3,
          0,
          0,
          0,
          5,
          4,
          3,
          4,
          3,
          4,
          4,
          3,
          8,
          19,
          2,
          2,
          3,
          0,
          2,
          0,
          0,
          0,
          0,
          0,
          2,
          0,
          8,
          0,
          7,
          0,
          2,
          18,
          0,
          0,
          0,
          0,
          0,
          0,
          25,
          0,
          9,
          0,
          9,
          0,
          0,
          0,
          3,
          4,
          5,
          8,
          1146,
          62,
          32,
          220,
          28,
          144,
          45,
          71,
          16,
          184,
          0,
          0,
          10,
          0,
          0,
          74,
          0,
          0,
          52,
          0,
          0,
          0,
          36,
          0,
          0,
          0,
          0,
          0,
          0,
          0,
          0,
          63,
          0,
          0,
          0,
          0,
          0,
          0,
          0,
          0,
          0,
          0,
          0,
          0,
          0,
          0,
          0,
          0,
          0,
          58,
          39,
          0,
          0,
          128,
          12,
          10,
          60,
          0,
          0,
          17,
          15,
          20,
          15,
          33,
          0,
          13,
          12,
          8,
          0,
          0,
          10,
          0,
          5,
          0,
          0,
          0,
          0,
          0,
          0,
          0,
          0,
          0,
          0,
          0,
          0,
          0,
          0,
          0,
          0,
          0,
          0,
          0,
          0,
          0,
          0,
          0,
          0,
          0,
          0,
          0,
          0,
          0,
          0,
          0,
          0,
          0,
          0,
          0,
          0,
          26,
          0,
          0,
          0,
          0,
          0,
          0,
          0,
          0,
          0,
          0,
          3,
          0,
          0,
          4,
          0,
          0,
          0,
          0,
          0,
          0,
          0,
          0,
          0,
          0,
          0,
          0,
          0,
          0,
          0,
          0,
          0,
          0,
          0,
          0,
          0,
          0,
          0,
          0,
          0,
          0,
          2,
          0,
          0,
          0,
          0,
          0,
          0,
          6,
          0,
          0,
          0,
          0,
          3,
          0,
          0,
          0,
          5,
          0,
          3,
          0,
          0,
          0,
          0,
          0,
          8,
          23,
          0,
          0,
          0,
          0,
          12,
          8,
          35,
          0,
          0,
          0,
          7,
          3,
          0,
          0,
          4,
          0,
          0,
          10,
          12,
          2,
          0,
          0,
          0,
          0,
          6,
          0,
          0,
          0,
          0,
          2,
          0,
          2,
          14,
          0,
          0,
          4,
          4,
          4,
          6,
          5,
          0,
          20,
          7,
          0,
          39,
          2,
          5,
          0,
          6,
          0,
          0,
          0,
          0,
          3,
          0,
          8,
          0,
          0,
          0,
          0,
          0,
          0,
          0,
          0,
          0,
          0,
          0,
          0,
          0,
          0,
          0,
          0,
          0,
          8,
          4,
          0,
          165,
          0,
          0,
          0,
          0,
          0,
          0,
          0,
          0,
          36,
          7,
          0,
          0,
          76,
          0,
          7,
          0,
          0,
          15,
          9,
          25,
          0,
          0,
          0,
          6,
          0,
          0,
          51,
          0,
          5,
          0,
          12,
          0,
          66,
          34,
          6,
          0,
          0,
          0,
          3,
          0,
          0,
          0,
          0,
          0,
          0,
          0,
          0,
          47,
          0,
          14,
          13,
          9,
          12,
          0,
          40,
          0,
          0,
          0,
          0,
          0,
          11,
          2,
          6,
          17,
          7,
          0,
          2,
          39,
          0,
          0,
          0,
          0,
          0,
          0,
          0,
          0,
          0,
          0,
          2,
          2,
          0,
          2,
          0,
          0,
          6,
          0,
          0,
          0,
          5,
          0,
          0,
          0,
          0,
          2,
          0,
          0,
          3,
          0,
          4,
          0,
          0,
          0,
          0,
          0,
          0,
          0,
          0,
          0,
          0,
          0,
          0,
          0,
          4,
          0,
          0,
          0,
          5,
          0,
          0,
          0,
          0,
          5,
          0,
          0,
          0,
          0,
          0,
          3,
          0,
          0,
          0,
          0,
          2,
          0,
          0,
          0,
          4,
          0,
          2,
          0,
          0,
          5,
          10,
          0,
          0,
          2,
          0,
          0,
          3,
          8,
          0,
          0,
          0,
          0,
          0,
          0,
          0,
          0,
          0,
          0,
          0,
          0,
          22,
          0,
          0,
          0,
          0,
          0,
          0,
          0,
          10,
          0,
          0,
          0,
          7,
          0,
          0,
          0,
          0,
          0,
          0,
          0,
          0,
          0,
          0,
          0,
          0,
          0,
          0,
          0,
          10,
          4,
          8,
          47,
          0,
          0,
          4,
          4,
          0,
          0,
          0,
          6,
          2,
          3,
          0,
          4,
          3,
          3,
          0,
          0,
          0,
          6,
          0,
          0,
          0,
          3,
          0,
          0,
          0,
          0,
          2,
          3,
          0,
          7,
          0,
          0,
          0,
          2,
          16,
          0,
          0,
          0,
          0,
          0,
          0,
          0,
          5,
          0,
          0,
          0,
          0,
          0,
          0,
          0,
          0,
          0,
          0,
          0,
          0,
          0,
          0,
          0,
          0,
          4,
          0,
          0,
          0,
          0,
          0,
          0,
          0,
          0,
          0,
          0,
          0,
          0,
          0,
          0,
          0,
          0,
          0,
          0,
          0,
          0,
          0,
          0,
          0,
          8,
          0,
          0,
          0,
          0,
          0,
          0,
          0,
          0,
          0,
          0,
          0,
          2,
          0,
          0,
          0,
          0,
          0,
          0,
          0,
          0,
          0,
          0,
          17,
          0,
          0,
          0,
          0,
          0,
          3,
          0,
          0,
          0,
          0,
          0,
          0,
          0,
          0,
          0,
          0,
          0,
          0,
          0,
          0,
          0,
          0,
          0,
          0,
          2,
          0,
          0,
          0,
          0,
          0,
          5,
          0,
          0,
          0,
          0,
          0,
          0,
          2,
          4,
          0,
          0,
          0,
          0,
          2,
          0,
          0,
          0,
          0,
          0,
          0,
          5,
          0,
          3,
          0,
          0,
          0,
          0,
          0,
          0,
          0,
          0,
          0,
          0,
          0,
          0,
          2,
          0,
          0,
          0,
          0,
          18,
          0,
          0,
          3,
          3,
          0,
          0,
          0,
          0,
          0,
          0,
          0,
          0,
          0,
          0,
          4,
          0,
          0,
          0,
          2,
          0,
          0,
          3,
          0,
          0,
          0,
          3,
          0,
          5,
          0,
          0,
          0,
          0,
          0,
          0,
          0,
          7,
          0,
          0,
          346,
          438,
          0,
          0,
          0,
          0,
          0,
          6,
          0,
          0,
          0,
          0,
          0,
          0,
          0,
          0,
          0,
          0,
          0,
          0,
          0,
          0,
          0,
          0,
          0,
          0,
          0,
          0,
          0,
          0,
          0,
          0,
          0,
          0,
          0,
          0,
          0,
          0,
          0,
          0,
          0,
          0,
          0,
          0,
          0,
          0,
          0,
          0,
          0,
          0,
          0,
          0,
          0,
          0,
          0,
          0,
          0,
          0,
          0,
          0,
          0,
          0,
          0,
          0,
          0,
          0,
          0,
          0,
          0,
          0,
          0,
          0,
          0,
          0,
          4,
          0,
          0,
          3,
          0,
          0,
          2,
          0,
          0,
          8,
          0,
          0,
          0,
          8,
          2,
          0,
          0,
          0,
          0,
          0,
          0,
          0,
          0,
          25,
          8,
          0,
          0,
          0,
          0,
          0,
          0,
          0,
          0,
          0,
          0,
          0,
          0,
          0,
          0,
          0,
          0,
          0,
          0,
          2,
          0,
          0,
          0,
          0,
          0,
          0,
          0,
          0,
          0,
          0,
          0,
          9,
          3,
          0,
          0,
          7,
          0,
          0,
          0,
          0,
          0,
          5,
          4,
          0,
          2,
          0,
          0,
          0,
          0,
          0,
          0,
          0,
          2,
          0,
          0,
          0,
          0,
          0,
          0,
          9,
          0,
          2,
          0,
          2,
          0,
          0,
          0,
          0,
          0,
          0,
          0,
          3,
          5,
          0,
          0,
          0,
          0,
          4,
          0,
          0,
          15,
          0,
          7,
          0,
          0,
          0,
          0,
          0,
          0,
          0,
          0,
          0,
          0,
          9,
          0,
          3,
          0,
          0,
          0,
          0,
          0,
          5,
          0,
          0,
          4,
          2,
          0,
          0,
          0,
          0,
          0,
          0,
          0,
          20,
          7,
          0,
          2,
          0,
          0,
          0,
          0,
          0,
          0,
          0,
          7,
          19,
          0,
          0,
          0,
          0,
          0,
          0,
          0,
          0,
          0,
          0,
          6,
          0,
          0,
          0,
          0,
          0,
          0,
          0,
          0,
          0,
          2,
          0,
          0,
          0,
          0,
          0,
          0,
          0,
          0,
          0,
          0,
          0,
          0,
          0,
          0,
          0,
          0,
          0,
          0,
          0,
          0,
          0,
          0,
          0,
          0,
          0,
          0,
          0,
          0,
          0,
          0,
          0,
          0,
          0,
          0,
          0,
          0,
          0,
          0,
          0,
          0,
          0,
          0,
          10,
          10,
          20,
          0,
          0,
          0,
          9,
          0,
          0,
          35,
          0,
          0,
          0,
          0,
          0,
          0,
          0,
          11,
          0,
          0
         ]
        }
       ],
       "layout": {
        "font": {
         "family": " Gravitas One, cursive",
         "size": 17
        },
        "template": {
         "data": {
          "bar": [
           {
            "error_x": {
             "color": "#2a3f5f"
            },
            "error_y": {
             "color": "#2a3f5f"
            },
            "marker": {
             "line": {
              "color": "white",
              "width": 0.5
             }
            },
            "type": "bar"
           }
          ],
          "barpolar": [
           {
            "marker": {
             "line": {
              "color": "white",
              "width": 0.5
             }
            },
            "type": "barpolar"
           }
          ],
          "carpet": [
           {
            "aaxis": {
             "endlinecolor": "#2a3f5f",
             "gridcolor": "#C8D4E3",
             "linecolor": "#C8D4E3",
             "minorgridcolor": "#C8D4E3",
             "startlinecolor": "#2a3f5f"
            },
            "baxis": {
             "endlinecolor": "#2a3f5f",
             "gridcolor": "#C8D4E3",
             "linecolor": "#C8D4E3",
             "minorgridcolor": "#C8D4E3",
             "startlinecolor": "#2a3f5f"
            },
            "type": "carpet"
           }
          ],
          "choropleth": [
           {
            "colorbar": {
             "outlinewidth": 0,
             "ticks": ""
            },
            "type": "choropleth"
           }
          ],
          "contour": [
           {
            "colorbar": {
             "outlinewidth": 0,
             "ticks": ""
            },
            "colorscale": [
             [
              0,
              "#0d0887"
             ],
             [
              0.1111111111111111,
              "#46039f"
             ],
             [
              0.2222222222222222,
              "#7201a8"
             ],
             [
              0.3333333333333333,
              "#9c179e"
             ],
             [
              0.4444444444444444,
              "#bd3786"
             ],
             [
              0.5555555555555556,
              "#d8576b"
             ],
             [
              0.6666666666666666,
              "#ed7953"
             ],
             [
              0.7777777777777778,
              "#fb9f3a"
             ],
             [
              0.8888888888888888,
              "#fdca26"
             ],
             [
              1,
              "#f0f921"
             ]
            ],
            "type": "contour"
           }
          ],
          "contourcarpet": [
           {
            "colorbar": {
             "outlinewidth": 0,
             "ticks": ""
            },
            "type": "contourcarpet"
           }
          ],
          "heatmap": [
           {
            "colorbar": {
             "outlinewidth": 0,
             "ticks": ""
            },
            "colorscale": [
             [
              0,
              "#0d0887"
             ],
             [
              0.1111111111111111,
              "#46039f"
             ],
             [
              0.2222222222222222,
              "#7201a8"
             ],
             [
              0.3333333333333333,
              "#9c179e"
             ],
             [
              0.4444444444444444,
              "#bd3786"
             ],
             [
              0.5555555555555556,
              "#d8576b"
             ],
             [
              0.6666666666666666,
              "#ed7953"
             ],
             [
              0.7777777777777778,
              "#fb9f3a"
             ],
             [
              0.8888888888888888,
              "#fdca26"
             ],
             [
              1,
              "#f0f921"
             ]
            ],
            "type": "heatmap"
           }
          ],
          "heatmapgl": [
           {
            "colorbar": {
             "outlinewidth": 0,
             "ticks": ""
            },
            "colorscale": [
             [
              0,
              "#0d0887"
             ],
             [
              0.1111111111111111,
              "#46039f"
             ],
             [
              0.2222222222222222,
              "#7201a8"
             ],
             [
              0.3333333333333333,
              "#9c179e"
             ],
             [
              0.4444444444444444,
              "#bd3786"
             ],
             [
              0.5555555555555556,
              "#d8576b"
             ],
             [
              0.6666666666666666,
              "#ed7953"
             ],
             [
              0.7777777777777778,
              "#fb9f3a"
             ],
             [
              0.8888888888888888,
              "#fdca26"
             ],
             [
              1,
              "#f0f921"
             ]
            ],
            "type": "heatmapgl"
           }
          ],
          "histogram": [
           {
            "marker": {
             "colorbar": {
              "outlinewidth": 0,
              "ticks": ""
             }
            },
            "type": "histogram"
           }
          ],
          "histogram2d": [
           {
            "colorbar": {
             "outlinewidth": 0,
             "ticks": ""
            },
            "colorscale": [
             [
              0,
              "#0d0887"
             ],
             [
              0.1111111111111111,
              "#46039f"
             ],
             [
              0.2222222222222222,
              "#7201a8"
             ],
             [
              0.3333333333333333,
              "#9c179e"
             ],
             [
              0.4444444444444444,
              "#bd3786"
             ],
             [
              0.5555555555555556,
              "#d8576b"
             ],
             [
              0.6666666666666666,
              "#ed7953"
             ],
             [
              0.7777777777777778,
              "#fb9f3a"
             ],
             [
              0.8888888888888888,
              "#fdca26"
             ],
             [
              1,
              "#f0f921"
             ]
            ],
            "type": "histogram2d"
           }
          ],
          "histogram2dcontour": [
           {
            "colorbar": {
             "outlinewidth": 0,
             "ticks": ""
            },
            "colorscale": [
             [
              0,
              "#0d0887"
             ],
             [
              0.1111111111111111,
              "#46039f"
             ],
             [
              0.2222222222222222,
              "#7201a8"
             ],
             [
              0.3333333333333333,
              "#9c179e"
             ],
             [
              0.4444444444444444,
              "#bd3786"
             ],
             [
              0.5555555555555556,
              "#d8576b"
             ],
             [
              0.6666666666666666,
              "#ed7953"
             ],
             [
              0.7777777777777778,
              "#fb9f3a"
             ],
             [
              0.8888888888888888,
              "#fdca26"
             ],
             [
              1,
              "#f0f921"
             ]
            ],
            "type": "histogram2dcontour"
           }
          ],
          "mesh3d": [
           {
            "colorbar": {
             "outlinewidth": 0,
             "ticks": ""
            },
            "type": "mesh3d"
           }
          ],
          "parcoords": [
           {
            "line": {
             "colorbar": {
              "outlinewidth": 0,
              "ticks": ""
             }
            },
            "type": "parcoords"
           }
          ],
          "pie": [
           {
            "automargin": true,
            "type": "pie"
           }
          ],
          "scatter": [
           {
            "marker": {
             "colorbar": {
              "outlinewidth": 0,
              "ticks": ""
             }
            },
            "type": "scatter"
           }
          ],
          "scatter3d": [
           {
            "line": {
             "colorbar": {
              "outlinewidth": 0,
              "ticks": ""
             }
            },
            "marker": {
             "colorbar": {
              "outlinewidth": 0,
              "ticks": ""
             }
            },
            "type": "scatter3d"
           }
          ],
          "scattercarpet": [
           {
            "marker": {
             "colorbar": {
              "outlinewidth": 0,
              "ticks": ""
             }
            },
            "type": "scattercarpet"
           }
          ],
          "scattergeo": [
           {
            "marker": {
             "colorbar": {
              "outlinewidth": 0,
              "ticks": ""
             }
            },
            "type": "scattergeo"
           }
          ],
          "scattergl": [
           {
            "marker": {
             "colorbar": {
              "outlinewidth": 0,
              "ticks": ""
             }
            },
            "type": "scattergl"
           }
          ],
          "scattermapbox": [
           {
            "marker": {
             "colorbar": {
              "outlinewidth": 0,
              "ticks": ""
             }
            },
            "type": "scattermapbox"
           }
          ],
          "scatterpolar": [
           {
            "marker": {
             "colorbar": {
              "outlinewidth": 0,
              "ticks": ""
             }
            },
            "type": "scatterpolar"
           }
          ],
          "scatterpolargl": [
           {
            "marker": {
             "colorbar": {
              "outlinewidth": 0,
              "ticks": ""
             }
            },
            "type": "scatterpolargl"
           }
          ],
          "scatterternary": [
           {
            "marker": {
             "colorbar": {
              "outlinewidth": 0,
              "ticks": ""
             }
            },
            "type": "scatterternary"
           }
          ],
          "surface": [
           {
            "colorbar": {
             "outlinewidth": 0,
             "ticks": ""
            },
            "colorscale": [
             [
              0,
              "#0d0887"
             ],
             [
              0.1111111111111111,
              "#46039f"
             ],
             [
              0.2222222222222222,
              "#7201a8"
             ],
             [
              0.3333333333333333,
              "#9c179e"
             ],
             [
              0.4444444444444444,
              "#bd3786"
             ],
             [
              0.5555555555555556,
              "#d8576b"
             ],
             [
              0.6666666666666666,
              "#ed7953"
             ],
             [
              0.7777777777777778,
              "#fb9f3a"
             ],
             [
              0.8888888888888888,
              "#fdca26"
             ],
             [
              1,
              "#f0f921"
             ]
            ],
            "type": "surface"
           }
          ],
          "table": [
           {
            "cells": {
             "fill": {
              "color": "#EBF0F8"
             },
             "line": {
              "color": "white"
             }
            },
            "header": {
             "fill": {
              "color": "#C8D4E3"
             },
             "line": {
              "color": "white"
             }
            },
            "type": "table"
           }
          ]
         },
         "layout": {
          "annotationdefaults": {
           "arrowcolor": "#2a3f5f",
           "arrowhead": 0,
           "arrowwidth": 1
          },
          "coloraxis": {
           "colorbar": {
            "outlinewidth": 0,
            "ticks": ""
           }
          },
          "colorscale": {
           "diverging": [
            [
             0,
             "#8e0152"
            ],
            [
             0.1,
             "#c51b7d"
            ],
            [
             0.2,
             "#de77ae"
            ],
            [
             0.3,
             "#f1b6da"
            ],
            [
             0.4,
             "#fde0ef"
            ],
            [
             0.5,
             "#f7f7f7"
            ],
            [
             0.6,
             "#e6f5d0"
            ],
            [
             0.7,
             "#b8e186"
            ],
            [
             0.8,
             "#7fbc41"
            ],
            [
             0.9,
             "#4d9221"
            ],
            [
             1,
             "#276419"
            ]
           ],
           "sequential": [
            [
             0,
             "#0d0887"
            ],
            [
             0.1111111111111111,
             "#46039f"
            ],
            [
             0.2222222222222222,
             "#7201a8"
            ],
            [
             0.3333333333333333,
             "#9c179e"
            ],
            [
             0.4444444444444444,
             "#bd3786"
            ],
            [
             0.5555555555555556,
             "#d8576b"
            ],
            [
             0.6666666666666666,
             "#ed7953"
            ],
            [
             0.7777777777777778,
             "#fb9f3a"
            ],
            [
             0.8888888888888888,
             "#fdca26"
            ],
            [
             1,
             "#f0f921"
            ]
           ],
           "sequentialminus": [
            [
             0,
             "#0d0887"
            ],
            [
             0.1111111111111111,
             "#46039f"
            ],
            [
             0.2222222222222222,
             "#7201a8"
            ],
            [
             0.3333333333333333,
             "#9c179e"
            ],
            [
             0.4444444444444444,
             "#bd3786"
            ],
            [
             0.5555555555555556,
             "#d8576b"
            ],
            [
             0.6666666666666666,
             "#ed7953"
            ],
            [
             0.7777777777777778,
             "#fb9f3a"
            ],
            [
             0.8888888888888888,
             "#fdca26"
            ],
            [
             1,
             "#f0f921"
            ]
           ]
          },
          "colorway": [
           "#636efa",
           "#EF553B",
           "#00cc96",
           "#ab63fa",
           "#FFA15A",
           "#19d3f3",
           "#FF6692",
           "#B6E880",
           "#FF97FF",
           "#FECB52"
          ],
          "font": {
           "color": "#2a3f5f"
          },
          "geo": {
           "bgcolor": "white",
           "lakecolor": "white",
           "landcolor": "white",
           "showlakes": true,
           "showland": true,
           "subunitcolor": "#C8D4E3"
          },
          "hoverlabel": {
           "align": "left"
          },
          "hovermode": "closest",
          "mapbox": {
           "style": "light"
          },
          "paper_bgcolor": "white",
          "plot_bgcolor": "white",
          "polar": {
           "angularaxis": {
            "gridcolor": "#EBF0F8",
            "linecolor": "#EBF0F8",
            "ticks": ""
           },
           "bgcolor": "white",
           "radialaxis": {
            "gridcolor": "#EBF0F8",
            "linecolor": "#EBF0F8",
            "ticks": ""
           }
          },
          "scene": {
           "xaxis": {
            "backgroundcolor": "white",
            "gridcolor": "#DFE8F3",
            "gridwidth": 2,
            "linecolor": "#EBF0F8",
            "showbackground": true,
            "ticks": "",
            "zerolinecolor": "#EBF0F8"
           },
           "yaxis": {
            "backgroundcolor": "white",
            "gridcolor": "#DFE8F3",
            "gridwidth": 2,
            "linecolor": "#EBF0F8",
            "showbackground": true,
            "ticks": "",
            "zerolinecolor": "#EBF0F8"
           },
           "zaxis": {
            "backgroundcolor": "white",
            "gridcolor": "#DFE8F3",
            "gridwidth": 2,
            "linecolor": "#EBF0F8",
            "showbackground": true,
            "ticks": "",
            "zerolinecolor": "#EBF0F8"
           }
          },
          "shapedefaults": {
           "line": {
            "color": "#2a3f5f"
           }
          },
          "ternary": {
           "aaxis": {
            "gridcolor": "#DFE8F3",
            "linecolor": "#A2B1C6",
            "ticks": ""
           },
           "baxis": {
            "gridcolor": "#DFE8F3",
            "linecolor": "#A2B1C6",
            "ticks": ""
           },
           "bgcolor": "white",
           "caxis": {
            "gridcolor": "#DFE8F3",
            "linecolor": "#A2B1C6",
            "ticks": ""
           }
          },
          "title": {
           "x": 0.05
          },
          "xaxis": {
           "automargin": true,
           "gridcolor": "#EBF0F8",
           "linecolor": "#EBF0F8",
           "ticks": "",
           "title": {
            "standoff": 15
           },
           "zerolinecolor": "#EBF0F8",
           "zerolinewidth": 2
          },
          "yaxis": {
           "automargin": true,
           "gridcolor": "#EBF0F8",
           "linecolor": "#EBF0F8",
           "ticks": "",
           "title": {
            "standoff": 15
           },
           "zerolinecolor": "#EBF0F8",
           "zerolinewidth": 2
          }
         }
        },
        "title": {
         "text": " "
        },
        "updatemenus": [
         {
          "buttons": [
           {
            "args": [
             {
              "visible": [
               true,
               false,
               false
              ]
             }
            ],
            "label": "                                                              Nombre de comments                                                                  ",
            "method": "update"
           },
           {
            "args": [
             {
              "visible": [
               false,
               true,
               false
              ]
             }
            ],
            "label": "                                                              Nombre des likes",
            "method": "update"
           },
           {
            "args": [
             {
              "visible": [
               false,
               false,
               true
              ]
             }
            ],
            "label": "                                                              Nombre des Shares",
            "method": "update"
           }
          ],
          "x": 1.1,
          "y": 1.3
         }
        ]
       }
      },
      "text/html": [
       "<div>\n",
       "        \n",
       "        \n",
       "            <div id=\"3c5006be-081b-406f-898f-b3f5e0bec1c4\" class=\"plotly-graph-div\" style=\"height:525px; width:100%;\"></div>\n",
       "            <script type=\"text/javascript\">\n",
       "                require([\"plotly\"], function(Plotly) {\n",
       "                    window.PLOTLYENV=window.PLOTLYENV || {};\n",
       "                    \n",
       "                if (document.getElementById(\"3c5006be-081b-406f-898f-b3f5e0bec1c4\")) {\n",
       "                    Plotly.newPlot(\n",
       "                        '3c5006be-081b-406f-898f-b3f5e0bec1c4',\n",
       "                        [{\"marker\": {\"color\": \"Pink\"}, \"name\": \"Nombre de comments\", \"type\": \"scatter\", \"visible\": true, \"x\": [421678448546068.0, 537911493687646.0, 772103069561752.0, 972136112828862.0, 1646529012272322.0, 1646529925605564.0, 1646806645577892.0, 1647435668848323.0, 1647453935513163.0, 1648394142085809.0, 1648677248724165.0, 1648953152029908.0, 1648992495359307.0, 1649167118675178.0, 1649192365339320.0, 1649192978672592.0, 1649193458672544.0, 1649241542001069.0, 1650325608559329.0, 1650491298542760.0, 1650815671843656.0, 1651704891754734.0, 1651813261743897.0, 1651814068410483.0, 1651999228391967.0, 1652052465053310.0, 1652227401702483.0, 1652459308345959.0, 1652720544986502.0, 1653480291577194.0, 1653559738235916.0, 1653731524885404.0, 1654017384856818.0, 1654259554832601.0, 1654261861499037.0, 1654600208131869.0, 1654910304767526.0, 1654918701433353.0, 1654920521433171.0, 1654923844766172.0, 1654927301432493.0, 1655291708062719.0, 1655306241394599.0, 1655600878031802.0, 1655620221363201.0, 1655632734695283.0, 1655701541355069.0, 1655741381351085.0, 1655751494683407.0, 1655754098016480.0, 1655774024681154.0, 1655849114673645.0, 1655859098005980.0, 1655865304672026.0, 1655870564671500.0, 1655906994667857.0, 1655920114666545.0, 1655926167999273.0, 1655929281332295.0, 1655946881330535.0, 1655969271328296.0, 1655987847993105.0, 1656165394642017.0, 1656181194640437.0, 1656181314640425.0, 1656182474640309.0, 1656191901306033.0, 1656218021303421.0, 1656220117969878.0, 1656230187968871.0, 1656233837968506.0, 1656235357968354.0, 1656236991301524.0, 1656239487967941.0, 1656254664633090.0, 1656266304631926.0, 1656270557964834.0, 1656271647964725.0, 1656272441297979.0, 1656283841296839.0, 1656307851294438.0, 1656327921292431.0, 1656410717950818.0, 1656411847950705.0, 1656413307950559.0, 1656413721283851.0, 1656414007950489.0, 1656414437950446.0, 1656448047947085.0, 1656469251278298.0, 1656470864611470.0, 1656479874610569.0, 1656530094605547.0, 1656565027935387.0, 1656687814589775.0, 1656688231256400.0, 1656760677915822.0, 1656806451244578.0, 1656954777896412.0, 1656959764562580.0, 1656987604559796.0, 1656993157892574.0, 1657097681215455.0, 1657237101201513.0, 1657251317866758.0, 1657259124532644.0, 1657260254532531.0, 1657260681199155.0, 1657274651197758.0, 1657275247864365.0, 1657284577863432.0, 1657289531196270.0, 1657345857857304.0, 1657497274508829.0, 1657538831171340.0, 1657756127816277.0, 1657775734480983.0, 1657777741147449.0, 1657793884479168.0, 1657797037812186.0, 1657890287802861.0, 1657892597802630.0, 1657894591135764.0, 1657895884468968.0, 1657896734468883.0, 1657898121135411.0, 1657898591135364.0, 1657899191135304.0, 1658112327780657.0, 1658113201113903.0, 1658115757780314.0, 1658117644446792.0, 1658121731113050.0, 1659344547657435.0, 1659585040966719.0, 1659737650951458.0, 1659794527612437.0, 1660091750916048.0, 1660161297575760.0, 1660567020868521.0, 1660911667500723.0, 1660967804161776.0, 1661259317465958.0, 1661475424111014.0, 1661517084106848.0, 1661543067437583.0, 1662961367295753.0, 1664003033858253.0, 1667815583476998.0, 1667815856810304.0, 1667817350143488.0, 1676020905989799.0, 1684771261781430.0, 1709339862657903.0, 1709597729298783.0, 1710693215855901.0, 1710880515837171.0, 1710910232500866.0, 1711471885778034.0, 1714594758799080.0, 1785045165087372.0, 1785049041753651.0, 1785067335085155.0, 1785068115085077.0, 1785077605084128.0, 1785079455083943.0, 1785872775004611.0, 1786100671648488.0, 1786249368300285.0, 1786286548296567.0, 1786299061628649.0, 1786307391627816.0, 1786649241593631.0, 1786662808258941.0, 1786690124922876.0, 1787127764879112.0, 1787325491526006.0, 1787356714856217.0, 1787357221522833.0, 1787360191522536.0, 1787578431500712.0, 1787616134830275.0, 1787643008160921.0, 1787645471494008.0, 1787647274827161.0, 1787749958150226.0, 1787754434816445.0, 1787786281479927.0, 1787786811479874.0, 1787789314812957.0, 1788062671452288.0, 1788071338118088.0, 1788075054784383.0, 1788085761449979.0, 1788089648116257.0, 1788109474780941.0, 1788189908106231.0, 1788257718099450.0, 1788261048099117.0, 1788583694733519.0, 1788583984733490.0, 1788665084725380.0, 1788669264724962.0, 1788693594722529.0, 1788701961388359.0, 1788740931384462.0, 1788742424717646.0, 1788743621384193.0, 1788744281384127.0, 1788744671384088.0, 1789142514677637.0, 1789143788010843.0, 1789144478010774.0, 1789144981344057.0, 1789291341329421.0, 1789305611327994.0, 1789319211326634.0, 1789334174658471.0, 1789335081325047.0, 1789600607965161.0, 1789746737950548.0, 1789837744608114.0, 1789844427940779.0, 1789870891271466.0, 1789870934604795.0, 1790012147924007.0, 1790021627923059.0, 1790129714578917.0, 1790395357885686.0, 1790739867851235.0, 1791096361148919.0, 1791284754463413.0, 1791318787793343.0, 1791412164450672.0, 1791888727736349.0, 1792038587721363.0, 1792041661054389.0, 1792041851054370.0, 1792248337700388.0, 1792248701033685.0, 1792249214366967.0, 1792249681033587.0, 1792250804366808.0, 1792294257695796.0, 1792670570991498.0, 1792671294324759.0, 1792671797658042.0, 1792672360991319.0, 1792672794324609.0, 1793295017595720.0, 1793451350913420.0, 1793457044246184.0, 1793515507573671.0, 1793555367569685.0, 1793585907566631.0, 1793589480899607.0, 1793591810899374.0, 1793593004232588.0, 1793595147565707.0, 1793601170898438.0, 1793793444212544.0, 1793803470878208.0, 1793803784211510.0, 1793805290878026.0, 1793805460878009.0, 1793805814211307.0, 1793808770877678.0, 1793809167544305.0, 1793813987543823.0, 1938982866360267.0, 1938984003026820.0, 1938984383026782.0, 1938994489692438.0, 1939613636297190.0, 1942592219332665.0, 1947899015468652.0, 1950741481851072.0, 1950828148509072.0, 1951337995124754.0, 1951929368398950.0, 1951974235061130.0, 1952284051696815.0, 1952454221679798.0, 1952456095012944.0, 1952535435005010.0, 1952896248302262.0, 1952897621635458.0, 1953061684952385.0, 1953092521615968.0, 1953801894878364.0, 1953903728201514.0, 1953916474866906.0, 1953917064866847.0, 1953955551529665.0, 1954255754832978.0, 1954422868149600.0, 1954436051481615.0, 1954468631478357.0, 1954807474777806.0, 1954816031443617.0, 1954847138107173.0, 1955316538060233.0, 1955317051393515.0, 1955634761361744.0, 1956094127982474.0, 1956094667982420.0, 1956468707945016.0, 1956469904611563.0, 1956470427944844.0, 1956471344611419.0, 1956472294611324.0, 1956472934611260.0, 1956473307944556.0, 1956527754605778.0, 1956750347916852.0, 1957194351205785.0, 1957573121167908.0, 1957982684460285.0, 1958027627789124.0, 1958058821119338.0, 1958591801066040.0, 1958788427713044.0, 1959470467644840.0, 1959649610960259.0, 1960108570914363.0, 1960120464246507.0, 1960199780905242.0, 1960296140895606.0, 1960570147534872.0, 1960581924200361.0, 1961079117483975.0, 1961306247461262.0, 1961653307426556.0, 1961906550734565.0, 1962077327384154.0, 1962251864033367.0, 1962261614032392.0, 1962269567364930.0, 1962304304028123.0, 1962337984024755.0, 1962530357338851.0, 1962602083998345.0, 1962613037330583.0, 1962642890660931.0, 1962649670660253.0, 1962710220654198.0, 1962748037317083.0, 1963018943956659.0, 1963030217288865.0, 1963554533903100.0, 1963555090569711.0, 1963562730568947.0, 1963921277199759.0, 1963927857199101.0, 1963937713864782.0, 1964310870494133.0, 1964388487153038.0, 1964715630453657.0, 1964807990444421.0, 1965104407081446.0, 1965115473747006.0, 1965116837080203.0, 1965159230409297.0, 1965220283736525.0, 1965231110402109.0, 1965532697038617.0, 1965669717024915.0, 1965672137024673.0, 1965674310357789.0, 1965916390333581.0, 1965919963666557.0, 1965947226997164.0, 1966014490323771.0, 1966086993649854.0, 1966272680297952.0, 1966410833617470.0, 1966437530281467.0, 1966443263614227.0, 1966444556947431.0, 1966445303614023.0, 1966446043613949.0, 1966448860280334.0, 1966454790279741.0, 1966634370261783.0, 1966675343591019.0, 1966680530257167.0, 1966711686920718.0, 1966720063586547.0, 1966824540242766.0, 1966845526907334.0, 1966858156906071.0, 1966866840238536.0, 1967070680218152.0, 1967130833545470.0, 1967258396866047.0, 1967279140197306.0, 1967280353530518.0, 1967514426840444.0, 1967667866825100.0, 1967669516824935.0, 1967670710158149.0, 1967672966824590.0, 1967674073491146.0, 1967678223490731.0, 1967680450157175.0, 1967681946823692.0, 1967683053490248.0, 1967685620156658.0, 1967686666823220.0, 1967688703489683.0, 1967690086822878.0, 1967696126822274.0, 1967700260155194.0, 1967705703487983.0, 1967710503487503.0, 1967722713486282.0, 1967728366819050.0, 1967868760138344.0, 1967895216802365.0, 1968040473454506.0, 1968079410117279.0, 1968104573448096.0, 1968127166779170.0, 1968136773444876.0, 1968139526777934.0, 1968173720107848.0, 1968178266774060.0, 1968283596763527.0, 1968358690089351.0, 1968373893421164.0, 1968383090086911.0, 1968390550086165.0, 1968421493416404.0, 1968450936746793.0, 1968459946745892.0, 1968467853411768.0, 1968709880054232.0, 1968727916719095.0, 1968729510052269.0, 1968786550046565.0, 1968792896712597.0, 1968807783377775.0, 1968852596706627.0, 1968856753372878.0, 1968860290039191.0, 1968863900038830.0, 1968882840036936.0, 1968883416703545.0, 1968884603370093.0, 1968885120036708.0, 1968894480035772.0, 1968906383367915.0, 1968910690034151.0, 1968925703365983.0, 1968927096699177.0, 1968929053365648.0, 1968932670031953.0, 1968942570030963.0, 1968944820030738.0, 1968949533363600.0, 1968952033363350.0, 1968955743362979.0, 1968957110029509.0, 1968957540029466.0, 1968958820029338.0, 1968962856695601.0, 1968974966694390.0, 1968977880027432.0, 1968979976693889.0, 1968982866693600.0, 1968986203359933.0, 1968989320026288.0, 1968990523359501.0, 1968990750026145.0, 1969024296689457.0, 1969032123355341.0, 1969053910019829.0, 1969070350018185.0, 1969082166683670.0, 1969092913349262.0, 1969093850015835.0, 1969313066660580.0, 1969313616660525.0, 1969316909993529.0, 1969369286654958.0, 1969385603319993.0, 1969434639981756.0, 1969450176646869.0, 1969456896646197.0, 1969468849978335.0, 1969472173311336.0, 1969474599977760.0, 1969476376644249.0, 1969712139954006.0, 1969723909952829.0, 1969836473274906.0, 1969888479936372.0, 1969914079933812.0, 1969914419933778.0, 1969914609933759.0, 1969915039933716.0, 1969915253267028.0, 1969915596600327.0, 1969915979933622.0, 1969916159933604.0, 1970114699913750.0, 1970117019913518.0, 1970117399913480.0, 1970117929913427.0, 1970120206579866.0, 1970153336576553.0, 1970158863242667.0, 1970160136575873.0, 1970162876575599.0, 1970164019908818.0, 1970165263242027.0, 1970172719907948.0, 1970177263240827.0, 1970180053240548.0, 1970188493239704.0, 1970190373239516.0, 1970190979906122.0, 1970271713231382.0, 1970272646564622.0, 1970301566561730.0, 1970359123222641.0, 1970385563219997.0, 1970509003207653.0, 1970544706537416.0, 1970565996535287.0, 1970579979867222.0, 1970580136533873.0, 1970624133196140.0, 1970627699862450.0, 1970646073193946.0, 1970713139853906.0, 1970716543186899.0, 1970730883185465.0, 1970731036518783.0, 1970731176518769.0, 1970758319849388.0, 1970774839847736.0, 1970776269847593.0, 1971268936464993.0, 1971276473130906.0, 1971276576464229.0, 1971277003130853.0, 1971354573123096.0, 1971383256453561.0, 1971405933117960.0, 1971407636451123.0, 1971411816450705.0, 1971412899783930.0, 1971418676450019.0, 1971428046449082.0, 1971446673113886.0, 1971540253104528.0, 1971557106436176.0, 1971557613102792.0, 1971558213102732.0, 1971559189769301.0, 1971584979766722.0, 1971712339753986.0, 1971712896420597.0, 1971713026420584.0, 1971816799743540.0, 1971817509743469.0, 1971818109743409.0, 1971818783076675.0, 1971924523066101.0, 1971978029727417.0, 1971997953058758.0, 1972004506391436.0, 1972008706391016.0, 1972227139702506.0, 1972244376367449.0, 1972249659700254.0, 1972253813033172.0, 1972255123033041.0, 1972303453028208.0, 1972413306350556.0, 1972425859682634.0, 1972431243015429.0, 1972433956348491.0, 1972434773015076.0, 1972436619681558.0, 1972437816348105.0, 1972439023014651.0, 1972441699681050.0, 1972442659680954.0, 1972442766347610.0, 1972443439680876.0, 1972444603014093.0, 1972444806347406.0, 1972445119680708.0, 1972452699679950.0, 1972452896346597.0, 1972454149679805.0, 1972454893013064.0, 1972455763012977.0, 1972456536346233.0, 1972457309679489.0, 1972457606346126.0, 1972457953012758.0, 1972458513012702.0, 1972458936345993.0, 1972459373012616.0, 1972460059679214.0, 1972461456345741.0, 1972477726344114.0, 1972486723009881.0, 1972491453009408.0, 1972502119675008.0, 1972653456326541.0, 1972680082990545.0, 1972686679656552.0, 1972718626320024.0, 1972720822986471.0, 1972728502985703.0, 1972739382984615.0, 1972739829651237.0, 1972917916300095.0, 1972918426300044.0, 1972923439632876.0, 1972923842966169.0, 1972924352966118.0, 1973077866284100.0, 1973170522941501.0, 1973179092940644.0, 1973205702937983.0, 1973279186263968.0, 1973284126263474.0, 1973291939596026.0, 1973315409593679.0, 1973368386255048.0, 1973371869588033.0, 1973532136238673.0, 1973790479546172.0, 1973832622875291.0, 1974120319513188.0, 1974127456179141.0, 1974128099512410.0, 1974129472845606.0, 1974218519503368.0, 1974459442812609.0, 1974459969479223.0, 1974683359456884.0, 1974713359453884.0, 1975882019337018.0, 1975882366003650.0, 1976475982610955.0, 1976476712610882.0, 1976766419248578.0, 1977255585866328.0, 1977283922530161.0, 1977412189184001.0, 1977456152512938.0, 1977667642491789.0, 1978324839092736.0, 1978327772425776.0, 1978328579092362.0, 1978332162425337.0, 1978398289085391.0, 1978398339085386.0, 1978398865752000.0, 1978412509083969.0, 1978888949036325.0, 1979356225656264.0, 1980024095589477.0, 1980196548905565.0, 1980199138905306.0, 1980204792238074.0, 1980462235545663.0, 1981207658804454.0, 1981360042122549.0, 1981541568771063.0, 1981559115435975.0, 1982083348716885.0, 1982368832021670.0, 1982467485345138.0, 1983277815264105.0, 1983284888596731.0, 1983290238596196.0, 1983292825262604.0, 1983295998595620.0, 1983392278585992.0, 1983397081918845.0, 1983765081882045.0, 1983769855214901.0, 1983780795213807.0, 1983897051868848.0, 1984146151843938.0, 1984163868508833.0, 1984187431839810.0, 1984247248500495.0, 1984365848488635.0, 1985127648412455.0, 1985133635078523.0, 1985287191729834.0, 1985499798375240.0, 1985506128374607.0, 1985586328366587.0, 1985938088331411.0, 1985960164995870.0, 1986042711654282.0, 1986054201653133.0, 1986537701604783.0, 1986540348271185.0, 1986545684937318.0, 1986549301603623.0, 1987358531522700.0, 1987361638189056.0, 1987395464852340.0, 1987659718159248.0, 1987830471475506.0, 1987832361475317.0, 1987855128139707.0, 1988125564779330.0, 1988132351445318.0, 1988286438096576.0, 1988659641392589.0, 1988720598053160.0, 1988724818052738.0, 1989123758012844.0, 1989128784679008.0, 1989138988011321.0, 1989586137966606.0, 1989600881298465.0, 1990379047887315.0, 1990386921219861.0, 1990388181219735.0, 1990402381218315.0, 1990827754509111.0, 1990942071164346.0, 1991002331158320.0, 1991329357792284.0, 1991862327738987.0, 1992176184374268.0, 1992209197704300.0, 1992210994370787.0, 1992211571037396.0, 1992212991037254.0, 1992350647690155.0, 1992932630965290.0, 1992932647631955.0, 1992937417631478.0, 1992937990964754.0, 1993486544243232.0, 1993503037574916.0, 1993717174220169.0, 1993720537553166.0, 1993744597550760.0, 1993757224216164.0, 1994224060836147.0, 1994224674169419.0, 1994256470832906.0, 1994448180813735.0, 1994694117455808.0, 1994694907455729.0, 1994703237454896.0, 1994703300788223.0, 1994703354121551.0, 1994703437454876.0, 1994703547454865.0, 1994749540783599.0, 2000019773589909.0, 2006277772964109.0, 2006283116296908.0, 2006420849616468.0, 2006442259614327.0, 2009162169342336.0, 2018125441779342.0, 2020120884913131.0, 2039961372929082.0, 2041641126094440.0, 2045929618998924.0, 2046875115571041.0, 2046879718903914.0, 2046892915569261.0, 2046915918900294.0, 2048756685382884.0, 2048757305382822.0, 2048757622049457.0, 2048782592046960.0, 2048783475380205.0, 2048919762033243.0, 2049445425314010.0, 2049446711980548.0, 2052717944986758.0, 2058764647715421.0, 2058778817714004.0, 2058860974372455.0, 2059387294319823.0, 2059671467624739.0, 2090394414552444.0, 2122205894704629.0, 2123274167931135.0, 2139204783004740.0, 2139463392978879.0, 2139550506303501.0, 2143628525895699.0, 2143630892562129.0, 2148926698699215.0, 2152465538345331.0, 2156715867920298.0, 2156892701235948.0, 2157185754539976.0, 2157247231200495.0, 2157249064533645.0, 2159915164267035.0, 2160908650834353.0, 2162989607292924.0, 2163114413947110.0, 2164463967145488.0, 2164559777135907.0, 2164847770440441.0, 2164870137104871.0, 2164888317103053.0, 2164969343761617.0, 2166836860241532.0, 2167802720144946.0, 2167803776811507.0, 2168229306768954.0, 2168233230101895.0, 2168694716722413.0, 2174710586120826.0, 2174718769453341.0, 2174727089452509.0, 2174733929451825.0, 2174839332774618.0, 2174889456102939.0, 2174967239428494.0, 2177853085806576.0, 2178043752454176.0, 2178241639101054.0, 2178569715734913.0, 2178607915731093.0, 2178942735697611.0, 2178959139029304.0, 2178983852360166.0, 2179012645690620.0, 2179044902354061.0, 2179491315642753.0, 2179542788970939.0, 2179609402297611.0, 2179904538934764.0, 2179906578934560.0, 2179908312267720.0, 2179909395600945.0, 2180450555546829.0, 2180483245543560.0, 2180489638876254.0, 2180503002208251.0, 2180730962185455.0, 2181061195485765.0, 2181160055475879.0, 2181212448803973.0, 2181215528803665.0, 2181219705469914.0, 2181500162108535.0, 2181913098733908.0, 2182088258716392.0, 2182166705375214.0, 2182187685373116.0, 2182624331996118.0, 2182743611984190.0, 2182755228649695.0, 2182774858647732.0, 2183091275282757.0, 2183177985274086.0, 2183340808591137.0, 2183813318543886.0, 2183826178542600.0, 2184097168515501.0, 2184258258499392.0, 2184299061828645.0, 2184329961825555.0, 2184389801819571.0, 2184413018483916.0, 2184452635146621.0, 2184462818478936.0, 2184789485112936.0, 2184920531766498.0, 2184959678429250.0, 2184985845093300.0, 2185052838419934.0, 2185076971750854.0, 2185093145082570.0, 2185366505055234.0, 2185403965051488.0, 2185452048380013.0, 2185475135044371.0, 2185489038376314.0, 2185494231709128.0, 2185510578374160.0, 2185555821702969.0, 2185561968369021.0, 2185880041670547.0, 2185961738329044.0, 2185962501662301.0, 2185964604995424.0, 2185997368325481.0, 2186095328315685.0, 2186465778278640.0, 2186494838275734.0, 2186555848269633.0, 2186640574927827.0, 2186655088259709.0, 2186926968232521.0, 2187029364888948.0, 2187076338217584.0, 2187101568215061.0, 2187470608178157.0, 2187771624814722.0, 2189300374661847.0, 2189993937925824.0, 2197021153889769.0, 2199810270277524.0, 2201450586780159.0, 2201457483446136.0, 2205949306330287.0, 2214452915479926.0, 2216231198635431.0, 2238765149715369.0, 2242736072651610.0, 2242760319315852.0, 2243396709252213.0, 2243419929249891.0, 2244583999133484.0, 2244870065771544.0, 2247150295543521.0, 2247168225541728.0, 2250864188505465.0, 2251212811803936.0, 2251222045136346.0, 2255384314720119.0, 2257334924525058.0, 2261284517463432.0, 2262225077369376.0, 2263171350608082.0, 2263337043924846.0, 2265573160367901.0, 2266009790324238.0, 2271720823086468.0, 2272546313003919.0, 2277725645819319.0, 2278597225732161.0, 2279597348965482.0, 2281487135443170.0, 2282673688657848.0, 2283755641882986.0, 2283765615215322.0, 2286086111649939.0, 2288190898106127.0, 2288774608047756.0, 2290639377861279.0, 2292223531036197.0, 2292918850966665.0, 2294262387498978.0, 2295003544091529.0, 2297313353860548.0, 2297315120527038.0, 2299470553644828.0, 2303062019952348.0, 2304016199856930.0, 2304464393145444.0, 2304533139805236.0, 2305795183012365.0, 2306164782975405.0, 2307291419529408.0, 2307815512810332.0, 2308005496124667.0, 2308283482763535.0, 2315015332090350.0, 2315025088756041.0, 2318419481749935.0, 2324683327790217.0, 2333930746865475.0, 2341832972741919.0, 2343611099230773.0, 2345548449037038.0, 2347863535472196.0, 2348194532105763.0, 2348465175412032.0, 2348527615405788.0, 2357620457829837.0, 2358851997706683.0, 2359623630962853.0, 2361582557433627.0, 2361689707422912.0, 2361753617416521.0, 2362332857358597.0, 2364310840494132.0, 2364938177098065.0, 2365645153694034.0, 2368493920075824.0, 2368495313409018.0, 2368498086742074.0, 2371040143154535.0, 2371042159821000.0, 2372302766361606.0, 2372316769693539.0, 2373093382949211.0, 2373094379615778.0, 2373564429568773.0, 2373729559552260.0, 2373989566192926.0, 2373997872858762.0, 2374366099488606.0, 2375747309350485.0, 2376969482561601.0, 2377073699217846.0, 2377127765879106.0, 2377129689212247.0, 2377693932489156.0, 2377989925792890.0, 2378430132415536.0, 2379406228984593.0, 2380613058863910.0, 2381461212112428.0, 2389498037975412.0, 2394160094175873.0, 2395019704089912.0, 2395764584015424.0, 2398074953784387.0, 2400543790204170.0, 2400634453528437.0, 2401234123468470.0, 2403023189956230.0, 2404676569790892.0, 2405496749708874.0, 2407086862883196.0, 2409536885971527.0, 2410281079230441.0, 2410959885829227.0, 2411198435805372.0, 2411852572406625.0, 2411990319059517.0, 2412280932363789.0, 2412283795696836.0, 2412821695643046.0, 2412832418975307.0, 2413827682209114.0, 2414098725515343.0, 2414844045440811.0, 2414861922105690.0, 2414984638760085.0, 2415001602091722.0, 2415754715349744.0, 2415892082002674.0, 2415970441994838.0, 2416024138656135.0, 2416713205253895.0, 2416848065240409.0, 2417107138547835.0, 2417699611821921.0, 2417945401797342.0, 2418000531791829.0, 2418594148399134.0, 2418730898385459.0, 2418805808377968.0, 2419232615001954.0, 2419392171652665.0, 2419538708304678.0, 2419597641632118.0, 2419599388298610.0, 2419600651631817.0, 2419602044965011.0, 2419604814964734.0, 2419606141631268.0, 2419714531620429.0, 2420264351565447.0, 2420334281558454.0, 2420542631537619.0, 2420589591532923.0, 2420613021530580.0, 2421071171484765.0, 2421141821477700.0, 2421163061475576.0, 2421281228130426.0, 2421365794788636.0, 2421367354788480.0, 2421472608111288.0, 2421488024776413.0, 2421498754775340.0, 2421545668103982.0, 2421565141435368.0, 2421969631394919.0, 2422045641387318.0, 2422176091374273.0, 2422230161368866.0, 2422373798021169.0, 2422800447978504.0, 2422897021302180.0, 2423011034624112.0, 2423075264617689.0, 2423079651283917.0, 2423205504604665.0, 2423210657937483.0, 2423215694603646.0, 2423235294601686.0, 2423817687876780.0, 2423825311209351.0, 2423916887866860.0, 2424122014513014.0, 2424653427793206.0, 2424709087787640.0, 2424715947786954.0, 2425632767695272.0, 2425959497662599.0, 2426065804318635.0, 2426388100953072.0, 2427478810844001.0, 2429002304024985.0, 2429953287263220.0, 2429960303929185.0, 2432940800317986.0, 2435020870089795.0, 2436169713308244.0, 2440439239547958.0, 2444135685844980.0, 2446314878960394.0, 2450617025196846.0, 2452988358293046.0, 2462056114052937.0, 2472301086361773.0, 2479491152309433.0, 2479589218966293.0, 2481712258753989.0, 2493565630901985.0, 2494536430804905.0, 2553076554950892.0, 2590174414574439.0, 2590822911176256.0, 2590920174499863.0, 2594056747519539.0], \"y\": [10, 8, 4, 1, 1, 0, 59, 6, 2, 2, 2, 3, 11, 15, 1, 10, 20, 3, 15, 36, 10, 1, 2, 5, 18, 0, 5, 54, 19, 7, 14, 10, 2, 0, 65, 26, 2, 8, 2, 2, 19, 7, 13, 20, 10, 8, 36, 14, 5, 13, 0, 23, 8, 2, 6, 3, 24, 0, 3, 2, 8, 4, 16, 10, 2, 0, 5, 0, 2, 9, 3, 2, 8, 0, 1, 0, 6, 7, 1, 1, 17, 1, 1, 0, 1, 0, 3, 0, 2, 2, 7, 2, 18, 6, 2, 0, 16, 8, 1, 1, 1, 0, 2, 0, 0, 0, 0, 0, 2, 0, 1, 1, 2, 0, 2, 1, 0, 0, 0, 0, 0, 2, 2, 1, 2, 1, 1, 1, 0, 0, 0, 0, 1, 0, 0, 0, 0, 0, 0, 1, 0, 3, 0, 2, 1, 2, 0, 2, 1, 2, 2, 4, 1, 11, 1, 0, 0, 0, 0, 3, 0, 0, 0, 2, 0, 2, 53, 5, 1, 11, 0, 2, 0, 4, 3, 23, 29, 8, 0, 51, 3, 5, 130, 3, 14, 1, 0, 8, 0, 12, 126, 1, 9, 2, 19, 21, 22, 7, 3, 109, 35, 80, 6, 2, 34, 2, 36, 44, 16, 5, 14, 0, 9, 5, 27, 39, 5, 12, 13, 21, 1, 7, 15, 0, 5, 1, 0, 14, 5, 10, 2, 6, 11, 6, 1, 2, 1, 0, 5, 14, 24, 20, 102, 1, 0, 1, 0, 7, 2, 0, 0, 14, 10, 10, 11, 8, 6, 21, 5, 13, 9, 6, 25, 12, 5, 11, 2, 5, 14, 19, 0, 0, 1, 6, 5, 14, 3, 1, 1, 0, 0, 1, 2, 29, 0, 0, 0, 2, 0, 0, 1, 1, 1, 4, 1, 8, 2, 1, 2, 1, 5, 0, 31, 1, 5, 0, 1, 5, 0, 7, 8, 0, 2, 1, 0, 1, 1, 3, 1, 3, 5, 1, 1, 0, 0, 0, 0, 0, 0, 0, 0, 0, 0, 10, 1, 1, 6, 0, 0, 2, 0, 0, 3, 0, 1, 2, 0, 1, 0, 1, 6, 6, 0, 2, 2, 0, 0, 10, 0, 1, 0, 0, 13, 0, 0, 17, 1, 0, 0, 0, 0, 0, 1, 3, 11, 7, 1, 1, 0, 0, 1, 3, 1, 0, 0, 6, 2, 6, 1, 2, 2, 0, 3, 7, 0, 9, 0, 2, 177, 19, 3, 6, 0, 0, 0, 5, 0, 6, 0, 1, 7, 3, 62, 1, 0, 3, 0, 385, 21, 66, 3, 7, 11, 1, 0, 6, 0, 12, 1, 1, 8, 55, 0, 6, 56, 8, 3, 1, 2, 45, 11, 3, 0, 3, 0, 19, 3, 2, 12, 7, 2, 49, 31, 5, 1, 1, 5, 0, 1, 0, 0, 0, 0, 0, 0, 0, 10, 0, 0, 0, 0, 0, 0, 6, 0, 3, 8, 2, 3, 1, 1, 1, 13, 1, 8, 1, 2, 60, 1, 13, 1, 1, 2, 2, 2, 3, 1, 1, 0, 0, 0, 1, 1, 0, 1, 0, 0, 5, 0, 0, 2, 0, 0, 0, 0, 0, 0, 1, 0, 2, 3, 2, 0, 1, 0, 7, 9, 0, 0, 0, 0, 0, 0, 0, 0, 0, 1, 0, 1, 0, 2, 0, 3, 2, 0, 0, 1, 8, 2, 1, 1, 1, 0, 10, 24, 0, 2, 0, 0, 0, 0, 5, 0, 0, 1, 1, 0, 0, 18, 5, 7, 0, 1, 17, 7, 2, 0, 0, 1, 9, 0, 8, 0, 1, 0, 0, 1, 0, 0, 1, 0, 0, 0, 0, 1, 0, 1, 0, 7, 3, 1, 0, 3, 0, 6, 3, 2, 5, 2, 0, 1, 0, 5, 19, 1, 0, 1, 5, 11, 0, 1, 1, 1, 0, 12, 0, 6, 0, 0, 0, 5, 0, 0, 0, 1, 0, 0, 0, 0, 0, 0, 0, 14, 0, 0, 0, 0, 3, 0, 0, 2, 0, 0, 0, 0, 2, 0, 0, 0, 0, 0, 1, 0, 1, 0, 7, 1, 0, 0, 0, 0, 0, 0, 0, 1, 0, 0, 0, 0, 0, 0, 0, 0, 0, 0, 0, 0, 0, 0, 0, 0, 1, 0, 0, 1, 0, 11, 0, 0, 0, 0, 2, 0, 0, 0, 0, 0, 0, 0, 0, 2, 0, 0, 1, 3, 0, 0, 0, 0, 1, 0, 0, 0, 0, 0, 0, 0, 0, 0, 0, 0, 0, 0, 0, 0, 1, 2, 1, 0, 0, 0, 0, 0, 0, 0, 0, 0, 0, 1, 0, 0, 0, 1, 0, 0, 0, 0, 1, 3, 0, 1, 0, 0, 2, 0, 0, 0, 1, 7, 0, 1, 0, 6, 0, 0, 0, 0, 0, 0, 0, 3, 0, 0, 0, 1, 0, 0, 2, 0, 0, 13, 0, 0, 0, 1, 0, 0, 3, 0, 0, 0, 0, 3, 2, 8, 0, 2, 0, 2, 0, 7, 7, 0, 1, 0, 3, 0, 1, 2, 0, 4, 0, 0, 2, 3, 2, 1, 1, 2, 6, 19, 2, 15, 0, 1, 0, 0, 0, 2, 8, 1, 0, 0, 11, 0, 0, 2, 7, 1, 2, 2, 0, 2, 1, 0, 6, 13, 4, 4, 1, 1, 6, 87, 304, 4, 7, 5, 12, 20, 10, 12, 13, 10, 25, 2, 5, 11, 1, 22, 2, 4, 1, 1, 1, 2, 7, 0, 8, 0, 1, 0, 3, 1, 1, 2, 12, 0, 1, 0, 0, 1, 0, 2, 2, 0, 2, 0, 6, 3, 0, 0, 0, 1, 9, 2, 1, 0, 1, 0, 0, 4, 1, 0, 19, 2, 2, 0, 0, 0, 0, 1, 0, 0, 0, 0, 0, 0, 0, 0, 0, 0, 0, 0, 0, 1, 1, 0, 1, 0, 1, 1, 0, 0, 0, 0, 0, 0, 1, 0, 1, 18, 0, 0, 0, 0, 0, 0, 0, 0, 0, 2, 0, 1, 1, 1, 0, 2, 0, 1, 0, 0, 0, 0, 0, 1, 1, 0, 0, 0, 0, 0, 1, 0, 197, 21, 18, 0, 1, 1, 0, 1, 5, 12, 8, 3, 7, 4, 1, 0, 1, 1, 1, 11, 6, 0, 2, 12, 10, 1, 0, 0, 0, 0, 8, 2, 0, 1, 0, 2, 2, 19, 2, 0, 1, 16, 8, 12, 29, 0, 2, 1, 0, 0, 0, 3, 1, 2, 2, 0, 3, 7, 6, 1, 5, 1, 2, 3, 2, 20, 1, 6, 10, 12, 16, 11, 3, 0, 1, 1, 0, 7, 11, 6, 3, 0, 2, 0, 2, 1, 0, 22, 2, 1, 0, 3, 0, 1, 0, 0, 0, 88, 1, 16, 0, 0, 1, 0, 0, 0, 0, 0, 2, 8, 1, 2, 0, 0, 10, 2, 7, 7, 16, 2, 8, 8, 1, 0, 0, 2, 0, 0, 0, 0, 1, 0, 1, 2, 0, 4, 11, 1, 7, 3, 1, 1, 0]}, {\"marker\": {\"color\": \"royalblue\"}, \"name\": \"Nombre des likes\", \"type\": \"scatter\", \"visible\": false, \"x\": [421678448546068.0, 537911493687646.0, 772103069561752.0, 972136112828862.0, 1646529012272322.0, 1646529925605564.0, 1646806645577892.0, 1647435668848323.0, 1647453935513163.0, 1648394142085809.0, 1648677248724165.0, 1648953152029908.0, 1648992495359307.0, 1649167118675178.0, 1649192365339320.0, 1649192978672592.0, 1649193458672544.0, 1649241542001069.0, 1650325608559329.0, 1650491298542760.0, 1650815671843656.0, 1651704891754734.0, 1651813261743897.0, 1651814068410483.0, 1651999228391967.0, 1652052465053310.0, 1652227401702483.0, 1652459308345959.0, 1652720544986502.0, 1653480291577194.0, 1653559738235916.0, 1653731524885404.0, 1654017384856818.0, 1654259554832601.0, 1654261861499037.0, 1654600208131869.0, 1654910304767526.0, 1654918701433353.0, 1654920521433171.0, 1654923844766172.0, 1654927301432493.0, 1655291708062719.0, 1655306241394599.0, 1655600878031802.0, 1655620221363201.0, 1655632734695283.0, 1655701541355069.0, 1655741381351085.0, 1655751494683407.0, 1655754098016480.0, 1655774024681154.0, 1655849114673645.0, 1655859098005980.0, 1655865304672026.0, 1655870564671500.0, 1655906994667857.0, 1655920114666545.0, 1655926167999273.0, 1655929281332295.0, 1655946881330535.0, 1655969271328296.0, 1655987847993105.0, 1656165394642017.0, 1656181194640437.0, 1656181314640425.0, 1656182474640309.0, 1656191901306033.0, 1656218021303421.0, 1656220117969878.0, 1656230187968871.0, 1656233837968506.0, 1656235357968354.0, 1656236991301524.0, 1656239487967941.0, 1656254664633090.0, 1656266304631926.0, 1656270557964834.0, 1656271647964725.0, 1656272441297979.0, 1656283841296839.0, 1656307851294438.0, 1656327921292431.0, 1656410717950818.0, 1656411847950705.0, 1656413307950559.0, 1656413721283851.0, 1656414007950489.0, 1656414437950446.0, 1656448047947085.0, 1656469251278298.0, 1656470864611470.0, 1656479874610569.0, 1656530094605547.0, 1656565027935387.0, 1656687814589775.0, 1656688231256400.0, 1656760677915822.0, 1656806451244578.0, 1656954777896412.0, 1656959764562580.0, 1656987604559796.0, 1656993157892574.0, 1657097681215455.0, 1657237101201513.0, 1657251317866758.0, 1657259124532644.0, 1657260254532531.0, 1657260681199155.0, 1657274651197758.0, 1657275247864365.0, 1657284577863432.0, 1657289531196270.0, 1657345857857304.0, 1657497274508829.0, 1657538831171340.0, 1657756127816277.0, 1657775734480983.0, 1657777741147449.0, 1657793884479168.0, 1657797037812186.0, 1657890287802861.0, 1657892597802630.0, 1657894591135764.0, 1657895884468968.0, 1657896734468883.0, 1657898121135411.0, 1657898591135364.0, 1657899191135304.0, 1658112327780657.0, 1658113201113903.0, 1658115757780314.0, 1658117644446792.0, 1658121731113050.0, 1659344547657435.0, 1659585040966719.0, 1659737650951458.0, 1659794527612437.0, 1660091750916048.0, 1660161297575760.0, 1660567020868521.0, 1660911667500723.0, 1660967804161776.0, 1661259317465958.0, 1661475424111014.0, 1661517084106848.0, 1661543067437583.0, 1662961367295753.0, 1664003033858253.0, 1667815583476998.0, 1667815856810304.0, 1667817350143488.0, 1676020905989799.0, 1684771261781430.0, 1709339862657903.0, 1709597729298783.0, 1710693215855901.0, 1710880515837171.0, 1710910232500866.0, 1711471885778034.0, 1714594758799080.0, 1785045165087372.0, 1785049041753651.0, 1785067335085155.0, 1785068115085077.0, 1785077605084128.0, 1785079455083943.0, 1785872775004611.0, 1786100671648488.0, 1786249368300285.0, 1786286548296567.0, 1786299061628649.0, 1786307391627816.0, 1786649241593631.0, 1786662808258941.0, 1786690124922876.0, 1787127764879112.0, 1787325491526006.0, 1787356714856217.0, 1787357221522833.0, 1787360191522536.0, 1787578431500712.0, 1787616134830275.0, 1787643008160921.0, 1787645471494008.0, 1787647274827161.0, 1787749958150226.0, 1787754434816445.0, 1787786281479927.0, 1787786811479874.0, 1787789314812957.0, 1788062671452288.0, 1788071338118088.0, 1788075054784383.0, 1788085761449979.0, 1788089648116257.0, 1788109474780941.0, 1788189908106231.0, 1788257718099450.0, 1788261048099117.0, 1788583694733519.0, 1788583984733490.0, 1788665084725380.0, 1788669264724962.0, 1788693594722529.0, 1788701961388359.0, 1788740931384462.0, 1788742424717646.0, 1788743621384193.0, 1788744281384127.0, 1788744671384088.0, 1789142514677637.0, 1789143788010843.0, 1789144478010774.0, 1789144981344057.0, 1789291341329421.0, 1789305611327994.0, 1789319211326634.0, 1789334174658471.0, 1789335081325047.0, 1789600607965161.0, 1789746737950548.0, 1789837744608114.0, 1789844427940779.0, 1789870891271466.0, 1789870934604795.0, 1790012147924007.0, 1790021627923059.0, 1790129714578917.0, 1790395357885686.0, 1790739867851235.0, 1791096361148919.0, 1791284754463413.0, 1791318787793343.0, 1791412164450672.0, 1791888727736349.0, 1792038587721363.0, 1792041661054389.0, 1792041851054370.0, 1792248337700388.0, 1792248701033685.0, 1792249214366967.0, 1792249681033587.0, 1792250804366808.0, 1792294257695796.0, 1792670570991498.0, 1792671294324759.0, 1792671797658042.0, 1792672360991319.0, 1792672794324609.0, 1793295017595720.0, 1793451350913420.0, 1793457044246184.0, 1793515507573671.0, 1793555367569685.0, 1793585907566631.0, 1793589480899607.0, 1793591810899374.0, 1793593004232588.0, 1793595147565707.0, 1793601170898438.0, 1793793444212544.0, 1793803470878208.0, 1793803784211510.0, 1793805290878026.0, 1793805460878009.0, 1793805814211307.0, 1793808770877678.0, 1793809167544305.0, 1793813987543823.0, 1938982866360267.0, 1938984003026820.0, 1938984383026782.0, 1938994489692438.0, 1939613636297190.0, 1942592219332665.0, 1947899015468652.0, 1950741481851072.0, 1950828148509072.0, 1951337995124754.0, 1951929368398950.0, 1951974235061130.0, 1952284051696815.0, 1952454221679798.0, 1952456095012944.0, 1952535435005010.0, 1952896248302262.0, 1952897621635458.0, 1953061684952385.0, 1953092521615968.0, 1953801894878364.0, 1953903728201514.0, 1953916474866906.0, 1953917064866847.0, 1953955551529665.0, 1954255754832978.0, 1954422868149600.0, 1954436051481615.0, 1954468631478357.0, 1954807474777806.0, 1954816031443617.0, 1954847138107173.0, 1955316538060233.0, 1955317051393515.0, 1955634761361744.0, 1956094127982474.0, 1956094667982420.0, 1956468707945016.0, 1956469904611563.0, 1956470427944844.0, 1956471344611419.0, 1956472294611324.0, 1956472934611260.0, 1956473307944556.0, 1956527754605778.0, 1956750347916852.0, 1957194351205785.0, 1957573121167908.0, 1957982684460285.0, 1958027627789124.0, 1958058821119338.0, 1958591801066040.0, 1958788427713044.0, 1959470467644840.0, 1959649610960259.0, 1960108570914363.0, 1960120464246507.0, 1960199780905242.0, 1960296140895606.0, 1960570147534872.0, 1960581924200361.0, 1961079117483975.0, 1961306247461262.0, 1961653307426556.0, 1961906550734565.0, 1962077327384154.0, 1962251864033367.0, 1962261614032392.0, 1962269567364930.0, 1962304304028123.0, 1962337984024755.0, 1962530357338851.0, 1962602083998345.0, 1962613037330583.0, 1962642890660931.0, 1962649670660253.0, 1962710220654198.0, 1962748037317083.0, 1963018943956659.0, 1963030217288865.0, 1963554533903100.0, 1963555090569711.0, 1963562730568947.0, 1963921277199759.0, 1963927857199101.0, 1963937713864782.0, 1964310870494133.0, 1964388487153038.0, 1964715630453657.0, 1964807990444421.0, 1965104407081446.0, 1965115473747006.0, 1965116837080203.0, 1965159230409297.0, 1965220283736525.0, 1965231110402109.0, 1965532697038617.0, 1965669717024915.0, 1965672137024673.0, 1965674310357789.0, 1965916390333581.0, 1965919963666557.0, 1965947226997164.0, 1966014490323771.0, 1966086993649854.0, 1966272680297952.0, 1966410833617470.0, 1966437530281467.0, 1966443263614227.0, 1966444556947431.0, 1966445303614023.0, 1966446043613949.0, 1966448860280334.0, 1966454790279741.0, 1966634370261783.0, 1966675343591019.0, 1966680530257167.0, 1966711686920718.0, 1966720063586547.0, 1966824540242766.0, 1966845526907334.0, 1966858156906071.0, 1966866840238536.0, 1967070680218152.0, 1967130833545470.0, 1967258396866047.0, 1967279140197306.0, 1967280353530518.0, 1967514426840444.0, 1967667866825100.0, 1967669516824935.0, 1967670710158149.0, 1967672966824590.0, 1967674073491146.0, 1967678223490731.0, 1967680450157175.0, 1967681946823692.0, 1967683053490248.0, 1967685620156658.0, 1967686666823220.0, 1967688703489683.0, 1967690086822878.0, 1967696126822274.0, 1967700260155194.0, 1967705703487983.0, 1967710503487503.0, 1967722713486282.0, 1967728366819050.0, 1967868760138344.0, 1967895216802365.0, 1968040473454506.0, 1968079410117279.0, 1968104573448096.0, 1968127166779170.0, 1968136773444876.0, 1968139526777934.0, 1968173720107848.0, 1968178266774060.0, 1968283596763527.0, 1968358690089351.0, 1968373893421164.0, 1968383090086911.0, 1968390550086165.0, 1968421493416404.0, 1968450936746793.0, 1968459946745892.0, 1968467853411768.0, 1968709880054232.0, 1968727916719095.0, 1968729510052269.0, 1968786550046565.0, 1968792896712597.0, 1968807783377775.0, 1968852596706627.0, 1968856753372878.0, 1968860290039191.0, 1968863900038830.0, 1968882840036936.0, 1968883416703545.0, 1968884603370093.0, 1968885120036708.0, 1968894480035772.0, 1968906383367915.0, 1968910690034151.0, 1968925703365983.0, 1968927096699177.0, 1968929053365648.0, 1968932670031953.0, 1968942570030963.0, 1968944820030738.0, 1968949533363600.0, 1968952033363350.0, 1968955743362979.0, 1968957110029509.0, 1968957540029466.0, 1968958820029338.0, 1968962856695601.0, 1968974966694390.0, 1968977880027432.0, 1968979976693889.0, 1968982866693600.0, 1968986203359933.0, 1968989320026288.0, 1968990523359501.0, 1968990750026145.0, 1969024296689457.0, 1969032123355341.0, 1969053910019829.0, 1969070350018185.0, 1969082166683670.0, 1969092913349262.0, 1969093850015835.0, 1969313066660580.0, 1969313616660525.0, 1969316909993529.0, 1969369286654958.0, 1969385603319993.0, 1969434639981756.0, 1969450176646869.0, 1969456896646197.0, 1969468849978335.0, 1969472173311336.0, 1969474599977760.0, 1969476376644249.0, 1969712139954006.0, 1969723909952829.0, 1969836473274906.0, 1969888479936372.0, 1969914079933812.0, 1969914419933778.0, 1969914609933759.0, 1969915039933716.0, 1969915253267028.0, 1969915596600327.0, 1969915979933622.0, 1969916159933604.0, 1970114699913750.0, 1970117019913518.0, 1970117399913480.0, 1970117929913427.0, 1970120206579866.0, 1970153336576553.0, 1970158863242667.0, 1970160136575873.0, 1970162876575599.0, 1970164019908818.0, 1970165263242027.0, 1970172719907948.0, 1970177263240827.0, 1970180053240548.0, 1970188493239704.0, 1970190373239516.0, 1970190979906122.0, 1970271713231382.0, 1970272646564622.0, 1970301566561730.0, 1970359123222641.0, 1970385563219997.0, 1970509003207653.0, 1970544706537416.0, 1970565996535287.0, 1970579979867222.0, 1970580136533873.0, 1970624133196140.0, 1970627699862450.0, 1970646073193946.0, 1970713139853906.0, 1970716543186899.0, 1970730883185465.0, 1970731036518783.0, 1970731176518769.0, 1970758319849388.0, 1970774839847736.0, 1970776269847593.0, 1971268936464993.0, 1971276473130906.0, 1971276576464229.0, 1971277003130853.0, 1971354573123096.0, 1971383256453561.0, 1971405933117960.0, 1971407636451123.0, 1971411816450705.0, 1971412899783930.0, 1971418676450019.0, 1971428046449082.0, 1971446673113886.0, 1971540253104528.0, 1971557106436176.0, 1971557613102792.0, 1971558213102732.0, 1971559189769301.0, 1971584979766722.0, 1971712339753986.0, 1971712896420597.0, 1971713026420584.0, 1971816799743540.0, 1971817509743469.0, 1971818109743409.0, 1971818783076675.0, 1971924523066101.0, 1971978029727417.0, 1971997953058758.0, 1972004506391436.0, 1972008706391016.0, 1972227139702506.0, 1972244376367449.0, 1972249659700254.0, 1972253813033172.0, 1972255123033041.0, 1972303453028208.0, 1972413306350556.0, 1972425859682634.0, 1972431243015429.0, 1972433956348491.0, 1972434773015076.0, 1972436619681558.0, 1972437816348105.0, 1972439023014651.0, 1972441699681050.0, 1972442659680954.0, 1972442766347610.0, 1972443439680876.0, 1972444603014093.0, 1972444806347406.0, 1972445119680708.0, 1972452699679950.0, 1972452896346597.0, 1972454149679805.0, 1972454893013064.0, 1972455763012977.0, 1972456536346233.0, 1972457309679489.0, 1972457606346126.0, 1972457953012758.0, 1972458513012702.0, 1972458936345993.0, 1972459373012616.0, 1972460059679214.0, 1972461456345741.0, 1972477726344114.0, 1972486723009881.0, 1972491453009408.0, 1972502119675008.0, 1972653456326541.0, 1972680082990545.0, 1972686679656552.0, 1972718626320024.0, 1972720822986471.0, 1972728502985703.0, 1972739382984615.0, 1972739829651237.0, 1972917916300095.0, 1972918426300044.0, 1972923439632876.0, 1972923842966169.0, 1972924352966118.0, 1973077866284100.0, 1973170522941501.0, 1973179092940644.0, 1973205702937983.0, 1973279186263968.0, 1973284126263474.0, 1973291939596026.0, 1973315409593679.0, 1973368386255048.0, 1973371869588033.0, 1973532136238673.0, 1973790479546172.0, 1973832622875291.0, 1974120319513188.0, 1974127456179141.0, 1974128099512410.0, 1974129472845606.0, 1974218519503368.0, 1974459442812609.0, 1974459969479223.0, 1974683359456884.0, 1974713359453884.0, 1975882019337018.0, 1975882366003650.0, 1976475982610955.0, 1976476712610882.0, 1976766419248578.0, 1977255585866328.0, 1977283922530161.0, 1977412189184001.0, 1977456152512938.0, 1977667642491789.0, 1978324839092736.0, 1978327772425776.0, 1978328579092362.0, 1978332162425337.0, 1978398289085391.0, 1978398339085386.0, 1978398865752000.0, 1978412509083969.0, 1978888949036325.0, 1979356225656264.0, 1980024095589477.0, 1980196548905565.0, 1980199138905306.0, 1980204792238074.0, 1980462235545663.0, 1981207658804454.0, 1981360042122549.0, 1981541568771063.0, 1981559115435975.0, 1982083348716885.0, 1982368832021670.0, 1982467485345138.0, 1983277815264105.0, 1983284888596731.0, 1983290238596196.0, 1983292825262604.0, 1983295998595620.0, 1983392278585992.0, 1983397081918845.0, 1983765081882045.0, 1983769855214901.0, 1983780795213807.0, 1983897051868848.0, 1984146151843938.0, 1984163868508833.0, 1984187431839810.0, 1984247248500495.0, 1984365848488635.0, 1985127648412455.0, 1985133635078523.0, 1985287191729834.0, 1985499798375240.0, 1985506128374607.0, 1985586328366587.0, 1985938088331411.0, 1985960164995870.0, 1986042711654282.0, 1986054201653133.0, 1986537701604783.0, 1986540348271185.0, 1986545684937318.0, 1986549301603623.0, 1987358531522700.0, 1987361638189056.0, 1987395464852340.0, 1987659718159248.0, 1987830471475506.0, 1987832361475317.0, 1987855128139707.0, 1988125564779330.0, 1988132351445318.0, 1988286438096576.0, 1988659641392589.0, 1988720598053160.0, 1988724818052738.0, 1989123758012844.0, 1989128784679008.0, 1989138988011321.0, 1989586137966606.0, 1989600881298465.0, 1990379047887315.0, 1990386921219861.0, 1990388181219735.0, 1990402381218315.0, 1990827754509111.0, 1990942071164346.0, 1991002331158320.0, 1991329357792284.0, 1991862327738987.0, 1992176184374268.0, 1992209197704300.0, 1992210994370787.0, 1992211571037396.0, 1992212991037254.0, 1992350647690155.0, 1992932630965290.0, 1992932647631955.0, 1992937417631478.0, 1992937990964754.0, 1993486544243232.0, 1993503037574916.0, 1993717174220169.0, 1993720537553166.0, 1993744597550760.0, 1993757224216164.0, 1994224060836147.0, 1994224674169419.0, 1994256470832906.0, 1994448180813735.0, 1994694117455808.0, 1994694907455729.0, 1994703237454896.0, 1994703300788223.0, 1994703354121551.0, 1994703437454876.0, 1994703547454865.0, 1994749540783599.0, 2000019773589909.0, 2006277772964109.0, 2006283116296908.0, 2006420849616468.0, 2006442259614327.0, 2009162169342336.0, 2018125441779342.0, 2020120884913131.0, 2039961372929082.0, 2041641126094440.0, 2045929618998924.0, 2046875115571041.0, 2046879718903914.0, 2046892915569261.0, 2046915918900294.0, 2048756685382884.0, 2048757305382822.0, 2048757622049457.0, 2048782592046960.0, 2048783475380205.0, 2048919762033243.0, 2049445425314010.0, 2049446711980548.0, 2052717944986758.0, 2058764647715421.0, 2058778817714004.0, 2058860974372455.0, 2059387294319823.0, 2059671467624739.0, 2090394414552444.0, 2122205894704629.0, 2123274167931135.0, 2139204783004740.0, 2139463392978879.0, 2139550506303501.0, 2143628525895699.0, 2143630892562129.0, 2148926698699215.0, 2152465538345331.0, 2156715867920298.0, 2156892701235948.0, 2157185754539976.0, 2157247231200495.0, 2157249064533645.0, 2159915164267035.0, 2160908650834353.0, 2162989607292924.0, 2163114413947110.0, 2164463967145488.0, 2164559777135907.0, 2164847770440441.0, 2164870137104871.0, 2164888317103053.0, 2164969343761617.0, 2166836860241532.0, 2167802720144946.0, 2167803776811507.0, 2168229306768954.0, 2168233230101895.0, 2168694716722413.0, 2174710586120826.0, 2174718769453341.0, 2174727089452509.0, 2174733929451825.0, 2174839332774618.0, 2174889456102939.0, 2174967239428494.0, 2177853085806576.0, 2178043752454176.0, 2178241639101054.0, 2178569715734913.0, 2178607915731093.0, 2178942735697611.0, 2178959139029304.0, 2178983852360166.0, 2179012645690620.0, 2179044902354061.0, 2179491315642753.0, 2179542788970939.0, 2179609402297611.0, 2179904538934764.0, 2179906578934560.0, 2179908312267720.0, 2179909395600945.0, 2180450555546829.0, 2180483245543560.0, 2180489638876254.0, 2180503002208251.0, 2180730962185455.0, 2181061195485765.0, 2181160055475879.0, 2181212448803973.0, 2181215528803665.0, 2181219705469914.0, 2181500162108535.0, 2181913098733908.0, 2182088258716392.0, 2182166705375214.0, 2182187685373116.0, 2182624331996118.0, 2182743611984190.0, 2182755228649695.0, 2182774858647732.0, 2183091275282757.0, 2183177985274086.0, 2183340808591137.0, 2183813318543886.0, 2183826178542600.0, 2184097168515501.0, 2184258258499392.0, 2184299061828645.0, 2184329961825555.0, 2184389801819571.0, 2184413018483916.0, 2184452635146621.0, 2184462818478936.0, 2184789485112936.0, 2184920531766498.0, 2184959678429250.0, 2184985845093300.0, 2185052838419934.0, 2185076971750854.0, 2185093145082570.0, 2185366505055234.0, 2185403965051488.0, 2185452048380013.0, 2185475135044371.0, 2185489038376314.0, 2185494231709128.0, 2185510578374160.0, 2185555821702969.0, 2185561968369021.0, 2185880041670547.0, 2185961738329044.0, 2185962501662301.0, 2185964604995424.0, 2185997368325481.0, 2186095328315685.0, 2186465778278640.0, 2186494838275734.0, 2186555848269633.0, 2186640574927827.0, 2186655088259709.0, 2186926968232521.0, 2187029364888948.0, 2187076338217584.0, 2187101568215061.0, 2187470608178157.0, 2187771624814722.0, 2189300374661847.0, 2189993937925824.0, 2197021153889769.0, 2199810270277524.0, 2201450586780159.0, 2201457483446136.0, 2205949306330287.0, 2214452915479926.0, 2216231198635431.0, 2238765149715369.0, 2242736072651610.0, 2242760319315852.0, 2243396709252213.0, 2243419929249891.0, 2244583999133484.0, 2244870065771544.0, 2247150295543521.0, 2247168225541728.0, 2250864188505465.0, 2251212811803936.0, 2251222045136346.0, 2255384314720119.0, 2257334924525058.0, 2261284517463432.0, 2262225077369376.0, 2263171350608082.0, 2263337043924846.0, 2265573160367901.0, 2266009790324238.0, 2271720823086468.0, 2272546313003919.0, 2277725645819319.0, 2278597225732161.0, 2279597348965482.0, 2281487135443170.0, 2282673688657848.0, 2283755641882986.0, 2283765615215322.0, 2286086111649939.0, 2288190898106127.0, 2288774608047756.0, 2290639377861279.0, 2292223531036197.0, 2292918850966665.0, 2294262387498978.0, 2295003544091529.0, 2297313353860548.0, 2297315120527038.0, 2299470553644828.0, 2303062019952348.0, 2304016199856930.0, 2304464393145444.0, 2304533139805236.0, 2305795183012365.0, 2306164782975405.0, 2307291419529408.0, 2307815512810332.0, 2308005496124667.0, 2308283482763535.0, 2315015332090350.0, 2315025088756041.0, 2318419481749935.0, 2324683327790217.0, 2333930746865475.0, 2341832972741919.0, 2343611099230773.0, 2345548449037038.0, 2347863535472196.0, 2348194532105763.0, 2348465175412032.0, 2348527615405788.0, 2357620457829837.0, 2358851997706683.0, 2359623630962853.0, 2361582557433627.0, 2361689707422912.0, 2361753617416521.0, 2362332857358597.0, 2364310840494132.0, 2364938177098065.0, 2365645153694034.0, 2368493920075824.0, 2368495313409018.0, 2368498086742074.0, 2371040143154535.0, 2371042159821000.0, 2372302766361606.0, 2372316769693539.0, 2373093382949211.0, 2373094379615778.0, 2373564429568773.0, 2373729559552260.0, 2373989566192926.0, 2373997872858762.0, 2374366099488606.0, 2375747309350485.0, 2376969482561601.0, 2377073699217846.0, 2377127765879106.0, 2377129689212247.0, 2377693932489156.0, 2377989925792890.0, 2378430132415536.0, 2379406228984593.0, 2380613058863910.0, 2381461212112428.0, 2389498037975412.0, 2394160094175873.0, 2395019704089912.0, 2395764584015424.0, 2398074953784387.0, 2400543790204170.0, 2400634453528437.0, 2401234123468470.0, 2403023189956230.0, 2404676569790892.0, 2405496749708874.0, 2407086862883196.0, 2409536885971527.0, 2410281079230441.0, 2410959885829227.0, 2411198435805372.0, 2411852572406625.0, 2411990319059517.0, 2412280932363789.0, 2412283795696836.0, 2412821695643046.0, 2412832418975307.0, 2413827682209114.0, 2414098725515343.0, 2414844045440811.0, 2414861922105690.0, 2414984638760085.0, 2415001602091722.0, 2415754715349744.0, 2415892082002674.0, 2415970441994838.0, 2416024138656135.0, 2416713205253895.0, 2416848065240409.0, 2417107138547835.0, 2417699611821921.0, 2417945401797342.0, 2418000531791829.0, 2418594148399134.0, 2418730898385459.0, 2418805808377968.0, 2419232615001954.0, 2419392171652665.0, 2419538708304678.0, 2419597641632118.0, 2419599388298610.0, 2419600651631817.0, 2419602044965011.0, 2419604814964734.0, 2419606141631268.0, 2419714531620429.0, 2420264351565447.0, 2420334281558454.0, 2420542631537619.0, 2420589591532923.0, 2420613021530580.0, 2421071171484765.0, 2421141821477700.0, 2421163061475576.0, 2421281228130426.0, 2421365794788636.0, 2421367354788480.0, 2421472608111288.0, 2421488024776413.0, 2421498754775340.0, 2421545668103982.0, 2421565141435368.0, 2421969631394919.0, 2422045641387318.0, 2422176091374273.0, 2422230161368866.0, 2422373798021169.0, 2422800447978504.0, 2422897021302180.0, 2423011034624112.0, 2423075264617689.0, 2423079651283917.0, 2423205504604665.0, 2423210657937483.0, 2423215694603646.0, 2423235294601686.0, 2423817687876780.0, 2423825311209351.0, 2423916887866860.0, 2424122014513014.0, 2424653427793206.0, 2424709087787640.0, 2424715947786954.0, 2425632767695272.0, 2425959497662599.0, 2426065804318635.0, 2426388100953072.0, 2427478810844001.0, 2429002304024985.0, 2429953287263220.0, 2429960303929185.0, 2432940800317986.0, 2435020870089795.0, 2436169713308244.0, 2440439239547958.0, 2444135685844980.0, 2446314878960394.0, 2450617025196846.0, 2452988358293046.0, 2462056114052937.0, 2472301086361773.0, 2479491152309433.0, 2479589218966293.0, 2481712258753989.0, 2493565630901985.0, 2494536430804905.0, 2553076554950892.0, 2590174414574439.0, 2590822911176256.0, 2590920174499863.0, 2594056747519539.0], \"y\": [40, 74, 8, 5, 5, 13, 656, 227, 37, 32, 39, 222, 461, 264, 20, 365, 559, 28, 68, 634, 431, 37, 88, 121, 163, 78, 197, 1025, 219, 127, 134, 132, 121, 86, 330, 220, 150, 88, 149, 94, 138, 47, 64, 19, 26, 16, 484, 218, 181, 388, 11, 68, 49, 21, 88, 179, 603, 19, 139, 110, 282, 70, 53, 231, 29, 80, 318, 6, 15, 47, 9, 5, 183, 7, 12, 7, 243, 130, 33, 30, 267, 25, 1, 3, 9, 7, 13, 11, 12, 8, 23, 101, 99, 92, 23, 15, 88, 192, 28, 12, 9, 16, 20, 10, 24, 85, 5, 4, 4, 5, 14, 32, 5, 7, 15, 113, 11, 15, 14, 12, 8, 5, 6, 6, 10, 7, 5, 6, 18, 12, 8, 9, 26, 16, 20, 7, 10, 15, 7, 19, 5, 25, 14, 38, 14, 28, 11, 32, 8, 14, 17, 80, 25, 40, 24, 6, 50, 5, 17, 35, 20, 7, 11, 16, 14, 25, 751, 154, 113, 201, 61, 141, 115, 97, 37, 296, 97, 169, 21, 677, 72, 152, 1217, 30, 181, 49, 169, 283, 109, 121, 745, 63, 152, 367, 729, 3343, 86, 181, 187, 293, 877, 1676, 92, 186, 1370, 77, 1032, 1405, 950, 170, 146, 61, 89, 105, 825, 234, 209, 258, 273, 351, 87, 85, 228, 119, 124, 61, 35, 171, 79, 87, 20, 97, 82, 36, 18, 157, 54, 23, 30, 99, 140, 110, 1308, 25, 24, 13, 45, 45, 497, 10, 61, 121, 196, 110, 126, 92, 97, 230, 133, 115, 147, 166, 260, 55, 89, 29, 60, 70, 140, 180, 39, 20, 59, 53, 42, 27, 90, 3, 33, 53, 18, 25, 52, 305, 8, 25, 5, 23, 13, 24, 47, 23, 32, 35, 30, 94, 45, 44, 17, 10, 22, 61, 123, 27, 34, 19, 25, 69, 18, 32, 89, 21, 23, 11, 58, 22, 17, 33, 29, 64, 38, 29, 34, 11, 24, 19, 7, 31, 16, 57, 6, 3, 7, 212, 13, 20, 61, 46, 47, 42, 34, 51, 88, 11, 14, 34, 12, 23, 31, 14, 56, 35, 30, 30, 32, 22, 11, 56, 15, 37, 5, 16, 131, 36, 20, 130, 39, 22, 16, 18, 24, 20, 96, 22, 83, 110, 13, 8, 2, 6, 13, 34, 43, 67, 27, 40, 103, 28, 40, 34, 18, 31, 54, 44, 10, 36, 13, 38, 691, 96, 65, 39, 57, 32, 29, 33, 18, 23, 19, 28, 29, 89, 114, 61, 10, 96, 26, 962, 221, 1300, 145, 73, 316, 25, 11, 35, 14, 72, 19, 53, 185, 473, 93, 119, 81, 486, 100, 104, 82, 1130, 192, 84, 33, 21, 37, 82, 87, 23, 444, 40, 76, 279, 151, 37, 32, 16, 29, 13, 11, 16, 10, 15, 17, 18, 17, 32, 140, 55, 39, 46, 31, 37, 27, 113, 55, 113, 328, 107, 146, 43, 26, 36, 148, 93, 147, 20, 100, 89, 33, 16, 33, 32, 40, 51, 19, 6, 14, 43, 30, 10, 22, 17, 61, 5, 8, 7, 3, 88, 1, 4, 9, 7, 11, 12, 2, 8, 16, 30, 11, 17, 25, 95, 9, 18, 30, 680, 72, 29, 21, 21, 13, 14, 29, 12, 69, 12, 18, 10, 8, 9, 59, 7, 10, 15, 8, 8, 11, 47, 77, 11, 15, 11, 11, 106, 36, 20, 11, 4, 3, 5, 3, 72, 3, 8, 17, 3, 7, 26, 159, 21, 107, 16, 56, 281, 18, 41, 6, 6, 9, 23, 18, 48, 29, 52, 31, 20, 15, 11, 8, 25, 14, 51, 16, 25, 17, 20, 27, 15, 40, 26, 19, 25, 26, 41, 56, 28, 19, 36, 28, 41, 15, 15, 124, 26, 6, 29, 19, 17, 22, 6, 21, 13, 41, 2, 224, 12, 50, 13, 12, 11, 12, 11, 7, 10, 32, 18, 12, 15, 11, 5, 10, 5, 51, 13, 6, 48, 38, 138, 4, 13, 11, 6, 3, 1, 5, 54, 6, 1, 1, 0, 4, 2, 1, 7, 2, 36, 3, 4, 37, 8, 3, 5, 17, 8, 4, 3, 8, 12, 7, 3, 1, 3, 1, 3, 5, 4, 6, 2, 5, 5, 7, 14, 8, 2, 70, 14, 119, 7, 2, 1, 1, 30, 6, 11, 1, 5, 8, 6, 12, 2, 4, 49, 10, 8, 61, 4, 4, 7, 1, 80, 4, 5, 3, 2, 4, 10, 40, 5, 8, 8, 1, 3, 1, 8, 4, 8, 30, 14, 5, 1, 2, 5, 2, 0, 3, 0, 4, 8, 6, 3, 8, 5, 9, 3, 3, 13, 7, 2, 36, 26, 70, 15, 33, 68, 5, 8, 28, 10, 59, 5, 19, 4, 23, 11, 5, 13, 3, 4, 4, 22, 12, 3, 8, 13, 13, 4, 3, 9, 3, 6, 42, 6, 14, 13, 15, 10, 3, 39, 12, 4, 5, 33, 34, 13, 17, 13, 11, 13, 18, 14, 13, 20, 20, 22, 21, 44, 19, 40, 31, 15, 22, 13, 16, 25, 26, 6, 15, 13, 34, 149, 204, 49, 106, 36, 27, 11, 30, 8, 40, 26, 39, 8, 9, 159, 14, 9, 37, 75, 37, 21, 44, 16, 26, 47, 16, 64, 218, 76, 56, 41, 34, 80, 187, 854, 65, 224, 147, 227, 117, 360, 222, 138, 204, 97, 64, 123, 185, 43, 92, 23, 30, 25, 17, 15, 67, 22, 31, 61, 10, 10, 8, 19, 11, 27, 36, 63, 26, 41, 11, 5, 35, 21, 27, 8, 28, 15, 12, 69, 55, 15, 100, 35, 39, 80, 45, 21, 14, 11, 5, 19, 77, 8, 17, 107, 90, 79, 21, 21, 8, 9, 16, 22, 1, 4, 11, 3, 4, 5, 6, 6, 5, 16, 18, 17, 20, 21, 17, 18, 5, 34, 13, 20, 28, 9, 33, 11, 6, 47, 27, 23, 63, 23, 11, 15, 16, 12, 24, 8, 20, 8, 77, 12, 20, 19, 36, 17, 21, 45, 10, 5, 11, 11, 4, 4, 7, 76, 31, 13, 13, 12, 12, 30, 17, 177, 41, 70, 15, 7, 11, 14, 28, 58, 130, 50, 46, 29, 38, 34, 52, 24, 22, 10, 30, 25, 7, 11, 164, 123, 54, 11, 9, 14, 12, 116, 33, 26, 22, 46, 24, 25, 47, 54, 11, 13, 57, 59, 187, 284, 23, 36, 28, 19, 20, 18, 62, 34, 68, 37, 10, 40, 79, 27, 43, 81, 119, 41, 99, 56, 147, 74, 105, 71, 133, 76, 58, 30, 20, 19, 17, 14, 126, 63, 65, 37, 45, 39, 15, 23, 22, 21, 67, 31, 17, 4, 34, 9, 29, 39, 13, 22, 155, 12, 29, 21, 13, 18, 16, 10, 27, 11, 17, 21, 68, 30, 33, 33, 23, 109, 35, 52, 66, 111, 38, 37, 20, 21, 26, 13, 37, 10, 8, 49, 36, 8, 1, 119, 51, 3, 43, 140, 61, 50, 64, 26, 14, 7]}, {\"marker\": {\"color\": \"royalblue\"}, \"name\": \"Nombre de shares\", \"type\": \"scatter\", \"visible\": false, \"x\": [421678448546068.0, 537911493687646.0, 772103069561752.0, 972136112828862.0, 1646529012272322.0, 1646529925605564.0, 1646806645577892.0, 1647435668848323.0, 1647453935513163.0, 1648394142085809.0, 1648677248724165.0, 1648953152029908.0, 1648992495359307.0, 1649167118675178.0, 1649192365339320.0, 1649192978672592.0, 1649193458672544.0, 1649241542001069.0, 1650325608559329.0, 1650491298542760.0, 1650815671843656.0, 1651704891754734.0, 1651813261743897.0, 1651814068410483.0, 1651999228391967.0, 1652052465053310.0, 1652227401702483.0, 1652459308345959.0, 1652720544986502.0, 1653480291577194.0, 1653559738235916.0, 1653731524885404.0, 1654017384856818.0, 1654259554832601.0, 1654261861499037.0, 1654600208131869.0, 1654910304767526.0, 1654918701433353.0, 1654920521433171.0, 1654923844766172.0, 1654927301432493.0, 1655291708062719.0, 1655306241394599.0, 1655600878031802.0, 1655620221363201.0, 1655632734695283.0, 1655701541355069.0, 1655741381351085.0, 1655751494683407.0, 1655754098016480.0, 1655774024681154.0, 1655849114673645.0, 1655859098005980.0, 1655865304672026.0, 1655870564671500.0, 1655906994667857.0, 1655920114666545.0, 1655926167999273.0, 1655929281332295.0, 1655946881330535.0, 1655969271328296.0, 1655987847993105.0, 1656165394642017.0, 1656181194640437.0, 1656181314640425.0, 1656182474640309.0, 1656191901306033.0, 1656218021303421.0, 1656220117969878.0, 1656230187968871.0, 1656233837968506.0, 1656235357968354.0, 1656236991301524.0, 1656239487967941.0, 1656254664633090.0, 1656266304631926.0, 1656270557964834.0, 1656271647964725.0, 1656272441297979.0, 1656283841296839.0, 1656307851294438.0, 1656327921292431.0, 1656410717950818.0, 1656411847950705.0, 1656413307950559.0, 1656413721283851.0, 1656414007950489.0, 1656414437950446.0, 1656448047947085.0, 1656469251278298.0, 1656470864611470.0, 1656479874610569.0, 1656530094605547.0, 1656565027935387.0, 1656687814589775.0, 1656688231256400.0, 1656760677915822.0, 1656806451244578.0, 1656954777896412.0, 1656959764562580.0, 1656987604559796.0, 1656993157892574.0, 1657097681215455.0, 1657237101201513.0, 1657251317866758.0, 1657259124532644.0, 1657260254532531.0, 1657260681199155.0, 1657274651197758.0, 1657275247864365.0, 1657284577863432.0, 1657289531196270.0, 1657345857857304.0, 1657497274508829.0, 1657538831171340.0, 1657756127816277.0, 1657775734480983.0, 1657777741147449.0, 1657793884479168.0, 1657797037812186.0, 1657890287802861.0, 1657892597802630.0, 1657894591135764.0, 1657895884468968.0, 1657896734468883.0, 1657898121135411.0, 1657898591135364.0, 1657899191135304.0, 1658112327780657.0, 1658113201113903.0, 1658115757780314.0, 1658117644446792.0, 1658121731113050.0, 1659344547657435.0, 1659585040966719.0, 1659737650951458.0, 1659794527612437.0, 1660091750916048.0, 1660161297575760.0, 1660567020868521.0, 1660911667500723.0, 1660967804161776.0, 1661259317465958.0, 1661475424111014.0, 1661517084106848.0, 1661543067437583.0, 1662961367295753.0, 1664003033858253.0, 1667815583476998.0, 1667815856810304.0, 1667817350143488.0, 1676020905989799.0, 1684771261781430.0, 1709339862657903.0, 1709597729298783.0, 1710693215855901.0, 1710880515837171.0, 1710910232500866.0, 1711471885778034.0, 1714594758799080.0, 1785045165087372.0, 1785049041753651.0, 1785067335085155.0, 1785068115085077.0, 1785077605084128.0, 1785079455083943.0, 1785872775004611.0, 1786100671648488.0, 1786249368300285.0, 1786286548296567.0, 1786299061628649.0, 1786307391627816.0, 1786649241593631.0, 1786662808258941.0, 1786690124922876.0, 1787127764879112.0, 1787325491526006.0, 1787356714856217.0, 1787357221522833.0, 1787360191522536.0, 1787578431500712.0, 1787616134830275.0, 1787643008160921.0, 1787645471494008.0, 1787647274827161.0, 1787749958150226.0, 1787754434816445.0, 1787786281479927.0, 1787786811479874.0, 1787789314812957.0, 1788062671452288.0, 1788071338118088.0, 1788075054784383.0, 1788085761449979.0, 1788089648116257.0, 1788109474780941.0, 1788189908106231.0, 1788257718099450.0, 1788261048099117.0, 1788583694733519.0, 1788583984733490.0, 1788665084725380.0, 1788669264724962.0, 1788693594722529.0, 1788701961388359.0, 1788740931384462.0, 1788742424717646.0, 1788743621384193.0, 1788744281384127.0, 1788744671384088.0, 1789142514677637.0, 1789143788010843.0, 1789144478010774.0, 1789144981344057.0, 1789291341329421.0, 1789305611327994.0, 1789319211326634.0, 1789334174658471.0, 1789335081325047.0, 1789600607965161.0, 1789746737950548.0, 1789837744608114.0, 1789844427940779.0, 1789870891271466.0, 1789870934604795.0, 1790012147924007.0, 1790021627923059.0, 1790129714578917.0, 1790395357885686.0, 1790739867851235.0, 1791096361148919.0, 1791284754463413.0, 1791318787793343.0, 1791412164450672.0, 1791888727736349.0, 1792038587721363.0, 1792041661054389.0, 1792041851054370.0, 1792248337700388.0, 1792248701033685.0, 1792249214366967.0, 1792249681033587.0, 1792250804366808.0, 1792294257695796.0, 1792670570991498.0, 1792671294324759.0, 1792671797658042.0, 1792672360991319.0, 1792672794324609.0, 1793295017595720.0, 1793451350913420.0, 1793457044246184.0, 1793515507573671.0, 1793555367569685.0, 1793585907566631.0, 1793589480899607.0, 1793591810899374.0, 1793593004232588.0, 1793595147565707.0, 1793601170898438.0, 1793793444212544.0, 1793803470878208.0, 1793803784211510.0, 1793805290878026.0, 1793805460878009.0, 1793805814211307.0, 1793808770877678.0, 1793809167544305.0, 1793813987543823.0, 1938982866360267.0, 1938984003026820.0, 1938984383026782.0, 1938994489692438.0, 1939613636297190.0, 1942592219332665.0, 1947899015468652.0, 1950741481851072.0, 1950828148509072.0, 1951337995124754.0, 1951929368398950.0, 1951974235061130.0, 1952284051696815.0, 1952454221679798.0, 1952456095012944.0, 1952535435005010.0, 1952896248302262.0, 1952897621635458.0, 1953061684952385.0, 1953092521615968.0, 1953801894878364.0, 1953903728201514.0, 1953916474866906.0, 1953917064866847.0, 1953955551529665.0, 1954255754832978.0, 1954422868149600.0, 1954436051481615.0, 1954468631478357.0, 1954807474777806.0, 1954816031443617.0, 1954847138107173.0, 1955316538060233.0, 1955317051393515.0, 1955634761361744.0, 1956094127982474.0, 1956094667982420.0, 1956468707945016.0, 1956469904611563.0, 1956470427944844.0, 1956471344611419.0, 1956472294611324.0, 1956472934611260.0, 1956473307944556.0, 1956527754605778.0, 1956750347916852.0, 1957194351205785.0, 1957573121167908.0, 1957982684460285.0, 1958027627789124.0, 1958058821119338.0, 1958591801066040.0, 1958788427713044.0, 1959470467644840.0, 1959649610960259.0, 1960108570914363.0, 1960120464246507.0, 1960199780905242.0, 1960296140895606.0, 1960570147534872.0, 1960581924200361.0, 1961079117483975.0, 1961306247461262.0, 1961653307426556.0, 1961906550734565.0, 1962077327384154.0, 1962251864033367.0, 1962261614032392.0, 1962269567364930.0, 1962304304028123.0, 1962337984024755.0, 1962530357338851.0, 1962602083998345.0, 1962613037330583.0, 1962642890660931.0, 1962649670660253.0, 1962710220654198.0, 1962748037317083.0, 1963018943956659.0, 1963030217288865.0, 1963554533903100.0, 1963555090569711.0, 1963562730568947.0, 1963921277199759.0, 1963927857199101.0, 1963937713864782.0, 1964310870494133.0, 1964388487153038.0, 1964715630453657.0, 1964807990444421.0, 1965104407081446.0, 1965115473747006.0, 1965116837080203.0, 1965159230409297.0, 1965220283736525.0, 1965231110402109.0, 1965532697038617.0, 1965669717024915.0, 1965672137024673.0, 1965674310357789.0, 1965916390333581.0, 1965919963666557.0, 1965947226997164.0, 1966014490323771.0, 1966086993649854.0, 1966272680297952.0, 1966410833617470.0, 1966437530281467.0, 1966443263614227.0, 1966444556947431.0, 1966445303614023.0, 1966446043613949.0, 1966448860280334.0, 1966454790279741.0, 1966634370261783.0, 1966675343591019.0, 1966680530257167.0, 1966711686920718.0, 1966720063586547.0, 1966824540242766.0, 1966845526907334.0, 1966858156906071.0, 1966866840238536.0, 1967070680218152.0, 1967130833545470.0, 1967258396866047.0, 1967279140197306.0, 1967280353530518.0, 1967514426840444.0, 1967667866825100.0, 1967669516824935.0, 1967670710158149.0, 1967672966824590.0, 1967674073491146.0, 1967678223490731.0, 1967680450157175.0, 1967681946823692.0, 1967683053490248.0, 1967685620156658.0, 1967686666823220.0, 1967688703489683.0, 1967690086822878.0, 1967696126822274.0, 1967700260155194.0, 1967705703487983.0, 1967710503487503.0, 1967722713486282.0, 1967728366819050.0, 1967868760138344.0, 1967895216802365.0, 1968040473454506.0, 1968079410117279.0, 1968104573448096.0, 1968127166779170.0, 1968136773444876.0, 1968139526777934.0, 1968173720107848.0, 1968178266774060.0, 1968283596763527.0, 1968358690089351.0, 1968373893421164.0, 1968383090086911.0, 1968390550086165.0, 1968421493416404.0, 1968450936746793.0, 1968459946745892.0, 1968467853411768.0, 1968709880054232.0, 1968727916719095.0, 1968729510052269.0, 1968786550046565.0, 1968792896712597.0, 1968807783377775.0, 1968852596706627.0, 1968856753372878.0, 1968860290039191.0, 1968863900038830.0, 1968882840036936.0, 1968883416703545.0, 1968884603370093.0, 1968885120036708.0, 1968894480035772.0, 1968906383367915.0, 1968910690034151.0, 1968925703365983.0, 1968927096699177.0, 1968929053365648.0, 1968932670031953.0, 1968942570030963.0, 1968944820030738.0, 1968949533363600.0, 1968952033363350.0, 1968955743362979.0, 1968957110029509.0, 1968957540029466.0, 1968958820029338.0, 1968962856695601.0, 1968974966694390.0, 1968977880027432.0, 1968979976693889.0, 1968982866693600.0, 1968986203359933.0, 1968989320026288.0, 1968990523359501.0, 1968990750026145.0, 1969024296689457.0, 1969032123355341.0, 1969053910019829.0, 1969070350018185.0, 1969082166683670.0, 1969092913349262.0, 1969093850015835.0, 1969313066660580.0, 1969313616660525.0, 1969316909993529.0, 1969369286654958.0, 1969385603319993.0, 1969434639981756.0, 1969450176646869.0, 1969456896646197.0, 1969468849978335.0, 1969472173311336.0, 1969474599977760.0, 1969476376644249.0, 1969712139954006.0, 1969723909952829.0, 1969836473274906.0, 1969888479936372.0, 1969914079933812.0, 1969914419933778.0, 1969914609933759.0, 1969915039933716.0, 1969915253267028.0, 1969915596600327.0, 1969915979933622.0, 1969916159933604.0, 1970114699913750.0, 1970117019913518.0, 1970117399913480.0, 1970117929913427.0, 1970120206579866.0, 1970153336576553.0, 1970158863242667.0, 1970160136575873.0, 1970162876575599.0, 1970164019908818.0, 1970165263242027.0, 1970172719907948.0, 1970177263240827.0, 1970180053240548.0, 1970188493239704.0, 1970190373239516.0, 1970190979906122.0, 1970271713231382.0, 1970272646564622.0, 1970301566561730.0, 1970359123222641.0, 1970385563219997.0, 1970509003207653.0, 1970544706537416.0, 1970565996535287.0, 1970579979867222.0, 1970580136533873.0, 1970624133196140.0, 1970627699862450.0, 1970646073193946.0, 1970713139853906.0, 1970716543186899.0, 1970730883185465.0, 1970731036518783.0, 1970731176518769.0, 1970758319849388.0, 1970774839847736.0, 1970776269847593.0, 1971268936464993.0, 1971276473130906.0, 1971276576464229.0, 1971277003130853.0, 1971354573123096.0, 1971383256453561.0, 1971405933117960.0, 1971407636451123.0, 1971411816450705.0, 1971412899783930.0, 1971418676450019.0, 1971428046449082.0, 1971446673113886.0, 1971540253104528.0, 1971557106436176.0, 1971557613102792.0, 1971558213102732.0, 1971559189769301.0, 1971584979766722.0, 1971712339753986.0, 1971712896420597.0, 1971713026420584.0, 1971816799743540.0, 1971817509743469.0, 1971818109743409.0, 1971818783076675.0, 1971924523066101.0, 1971978029727417.0, 1971997953058758.0, 1972004506391436.0, 1972008706391016.0, 1972227139702506.0, 1972244376367449.0, 1972249659700254.0, 1972253813033172.0, 1972255123033041.0, 1972303453028208.0, 1972413306350556.0, 1972425859682634.0, 1972431243015429.0, 1972433956348491.0, 1972434773015076.0, 1972436619681558.0, 1972437816348105.0, 1972439023014651.0, 1972441699681050.0, 1972442659680954.0, 1972442766347610.0, 1972443439680876.0, 1972444603014093.0, 1972444806347406.0, 1972445119680708.0, 1972452699679950.0, 1972452896346597.0, 1972454149679805.0, 1972454893013064.0, 1972455763012977.0, 1972456536346233.0, 1972457309679489.0, 1972457606346126.0, 1972457953012758.0, 1972458513012702.0, 1972458936345993.0, 1972459373012616.0, 1972460059679214.0, 1972461456345741.0, 1972477726344114.0, 1972486723009881.0, 1972491453009408.0, 1972502119675008.0, 1972653456326541.0, 1972680082990545.0, 1972686679656552.0, 1972718626320024.0, 1972720822986471.0, 1972728502985703.0, 1972739382984615.0, 1972739829651237.0, 1972917916300095.0, 1972918426300044.0, 1972923439632876.0, 1972923842966169.0, 1972924352966118.0, 1973077866284100.0, 1973170522941501.0, 1973179092940644.0, 1973205702937983.0, 1973279186263968.0, 1973284126263474.0, 1973291939596026.0, 1973315409593679.0, 1973368386255048.0, 1973371869588033.0, 1973532136238673.0, 1973790479546172.0, 1973832622875291.0, 1974120319513188.0, 1974127456179141.0, 1974128099512410.0, 1974129472845606.0, 1974218519503368.0, 1974459442812609.0, 1974459969479223.0, 1974683359456884.0, 1974713359453884.0, 1975882019337018.0, 1975882366003650.0, 1976475982610955.0, 1976476712610882.0, 1976766419248578.0, 1977255585866328.0, 1977283922530161.0, 1977412189184001.0, 1977456152512938.0, 1977667642491789.0, 1978324839092736.0, 1978327772425776.0, 1978328579092362.0, 1978332162425337.0, 1978398289085391.0, 1978398339085386.0, 1978398865752000.0, 1978412509083969.0, 1978888949036325.0, 1979356225656264.0, 1980024095589477.0, 1980196548905565.0, 1980199138905306.0, 1980204792238074.0, 1980462235545663.0, 1981207658804454.0, 1981360042122549.0, 1981541568771063.0, 1981559115435975.0, 1982083348716885.0, 1982368832021670.0, 1982467485345138.0, 1983277815264105.0, 1983284888596731.0, 1983290238596196.0, 1983292825262604.0, 1983295998595620.0, 1983392278585992.0, 1983397081918845.0, 1983765081882045.0, 1983769855214901.0, 1983780795213807.0, 1983897051868848.0, 1984146151843938.0, 1984163868508833.0, 1984187431839810.0, 1984247248500495.0, 1984365848488635.0, 1985127648412455.0, 1985133635078523.0, 1985287191729834.0, 1985499798375240.0, 1985506128374607.0, 1985586328366587.0, 1985938088331411.0, 1985960164995870.0, 1986042711654282.0, 1986054201653133.0, 1986537701604783.0, 1986540348271185.0, 1986545684937318.0, 1986549301603623.0, 1987358531522700.0, 1987361638189056.0, 1987395464852340.0, 1987659718159248.0, 1987830471475506.0, 1987832361475317.0, 1987855128139707.0, 1988125564779330.0, 1988132351445318.0, 1988286438096576.0, 1988659641392589.0, 1988720598053160.0, 1988724818052738.0, 1989123758012844.0, 1989128784679008.0, 1989138988011321.0, 1989586137966606.0, 1989600881298465.0, 1990379047887315.0, 1990386921219861.0, 1990388181219735.0, 1990402381218315.0, 1990827754509111.0, 1990942071164346.0, 1991002331158320.0, 1991329357792284.0, 1991862327738987.0, 1992176184374268.0, 1992209197704300.0, 1992210994370787.0, 1992211571037396.0, 1992212991037254.0, 1992350647690155.0, 1992932630965290.0, 1992932647631955.0, 1992937417631478.0, 1992937990964754.0, 1993486544243232.0, 1993503037574916.0, 1993717174220169.0, 1993720537553166.0, 1993744597550760.0, 1993757224216164.0, 1994224060836147.0, 1994224674169419.0, 1994256470832906.0, 1994448180813735.0, 1994694117455808.0, 1994694907455729.0, 1994703237454896.0, 1994703300788223.0, 1994703354121551.0, 1994703437454876.0, 1994703547454865.0, 1994749540783599.0, 2000019773589909.0, 2006277772964109.0, 2006283116296908.0, 2006420849616468.0, 2006442259614327.0, 2009162169342336.0, 2018125441779342.0, 2020120884913131.0, 2039961372929082.0, 2041641126094440.0, 2045929618998924.0, 2046875115571041.0, 2046879718903914.0, 2046892915569261.0, 2046915918900294.0, 2048756685382884.0, 2048757305382822.0, 2048757622049457.0, 2048782592046960.0, 2048783475380205.0, 2048919762033243.0, 2049445425314010.0, 2049446711980548.0, 2052717944986758.0, 2058764647715421.0, 2058778817714004.0, 2058860974372455.0, 2059387294319823.0, 2059671467624739.0, 2090394414552444.0, 2122205894704629.0, 2123274167931135.0, 2139204783004740.0, 2139463392978879.0, 2139550506303501.0, 2143628525895699.0, 2143630892562129.0, 2148926698699215.0, 2152465538345331.0, 2156715867920298.0, 2156892701235948.0, 2157185754539976.0, 2157247231200495.0, 2157249064533645.0, 2159915164267035.0, 2160908650834353.0, 2162989607292924.0, 2163114413947110.0, 2164463967145488.0, 2164559777135907.0, 2164847770440441.0, 2164870137104871.0, 2164888317103053.0, 2164969343761617.0, 2166836860241532.0, 2167802720144946.0, 2167803776811507.0, 2168229306768954.0, 2168233230101895.0, 2168694716722413.0, 2174710586120826.0, 2174718769453341.0, 2174727089452509.0, 2174733929451825.0, 2174839332774618.0, 2174889456102939.0, 2174967239428494.0, 2177853085806576.0, 2178043752454176.0, 2178241639101054.0, 2178569715734913.0, 2178607915731093.0, 2178942735697611.0, 2178959139029304.0, 2178983852360166.0, 2179012645690620.0, 2179044902354061.0, 2179491315642753.0, 2179542788970939.0, 2179609402297611.0, 2179904538934764.0, 2179906578934560.0, 2179908312267720.0, 2179909395600945.0, 2180450555546829.0, 2180483245543560.0, 2180489638876254.0, 2180503002208251.0, 2180730962185455.0, 2181061195485765.0, 2181160055475879.0, 2181212448803973.0, 2181215528803665.0, 2181219705469914.0, 2181500162108535.0, 2181913098733908.0, 2182088258716392.0, 2182166705375214.0, 2182187685373116.0, 2182624331996118.0, 2182743611984190.0, 2182755228649695.0, 2182774858647732.0, 2183091275282757.0, 2183177985274086.0, 2183340808591137.0, 2183813318543886.0, 2183826178542600.0, 2184097168515501.0, 2184258258499392.0, 2184299061828645.0, 2184329961825555.0, 2184389801819571.0, 2184413018483916.0, 2184452635146621.0, 2184462818478936.0, 2184789485112936.0, 2184920531766498.0, 2184959678429250.0, 2184985845093300.0, 2185052838419934.0, 2185076971750854.0, 2185093145082570.0, 2185366505055234.0, 2185403965051488.0, 2185452048380013.0, 2185475135044371.0, 2185489038376314.0, 2185494231709128.0, 2185510578374160.0, 2185555821702969.0, 2185561968369021.0, 2185880041670547.0, 2185961738329044.0, 2185962501662301.0, 2185964604995424.0, 2185997368325481.0, 2186095328315685.0, 2186465778278640.0, 2186494838275734.0, 2186555848269633.0, 2186640574927827.0, 2186655088259709.0, 2186926968232521.0, 2187029364888948.0, 2187076338217584.0, 2187101568215061.0, 2187470608178157.0, 2187771624814722.0, 2189300374661847.0, 2189993937925824.0, 2197021153889769.0, 2199810270277524.0, 2201450586780159.0, 2201457483446136.0, 2205949306330287.0, 2214452915479926.0, 2216231198635431.0, 2238765149715369.0, 2242736072651610.0, 2242760319315852.0, 2243396709252213.0, 2243419929249891.0, 2244583999133484.0, 2244870065771544.0, 2247150295543521.0, 2247168225541728.0, 2250864188505465.0, 2251212811803936.0, 2251222045136346.0, 2255384314720119.0, 2257334924525058.0, 2261284517463432.0, 2262225077369376.0, 2263171350608082.0, 2263337043924846.0, 2265573160367901.0, 2266009790324238.0, 2271720823086468.0, 2272546313003919.0, 2277725645819319.0, 2278597225732161.0, 2279597348965482.0, 2281487135443170.0, 2282673688657848.0, 2283755641882986.0, 2283765615215322.0, 2286086111649939.0, 2288190898106127.0, 2288774608047756.0, 2290639377861279.0, 2292223531036197.0, 2292918850966665.0, 2294262387498978.0, 2295003544091529.0, 2297313353860548.0, 2297315120527038.0, 2299470553644828.0, 2303062019952348.0, 2304016199856930.0, 2304464393145444.0, 2304533139805236.0, 2305795183012365.0, 2306164782975405.0, 2307291419529408.0, 2307815512810332.0, 2308005496124667.0, 2308283482763535.0, 2315015332090350.0, 2315025088756041.0, 2318419481749935.0, 2324683327790217.0, 2333930746865475.0, 2341832972741919.0, 2343611099230773.0, 2345548449037038.0, 2347863535472196.0, 2348194532105763.0, 2348465175412032.0, 2348527615405788.0, 2357620457829837.0, 2358851997706683.0, 2359623630962853.0, 2361582557433627.0, 2361689707422912.0, 2361753617416521.0, 2362332857358597.0, 2364310840494132.0, 2364938177098065.0, 2365645153694034.0, 2368493920075824.0, 2368495313409018.0, 2368498086742074.0, 2371040143154535.0, 2371042159821000.0, 2372302766361606.0, 2372316769693539.0, 2373093382949211.0, 2373094379615778.0, 2373564429568773.0, 2373729559552260.0, 2373989566192926.0, 2373997872858762.0, 2374366099488606.0, 2375747309350485.0, 2376969482561601.0, 2377073699217846.0, 2377127765879106.0, 2377129689212247.0, 2377693932489156.0, 2377989925792890.0, 2378430132415536.0, 2379406228984593.0, 2380613058863910.0, 2381461212112428.0, 2389498037975412.0, 2394160094175873.0, 2395019704089912.0, 2395764584015424.0, 2398074953784387.0, 2400543790204170.0, 2400634453528437.0, 2401234123468470.0, 2403023189956230.0, 2404676569790892.0, 2405496749708874.0, 2407086862883196.0, 2409536885971527.0, 2410281079230441.0, 2410959885829227.0, 2411198435805372.0, 2411852572406625.0, 2411990319059517.0, 2412280932363789.0, 2412283795696836.0, 2412821695643046.0, 2412832418975307.0, 2413827682209114.0, 2414098725515343.0, 2414844045440811.0, 2414861922105690.0, 2414984638760085.0, 2415001602091722.0, 2415754715349744.0, 2415892082002674.0, 2415970441994838.0, 2416024138656135.0, 2416713205253895.0, 2416848065240409.0, 2417107138547835.0, 2417699611821921.0, 2417945401797342.0, 2418000531791829.0, 2418594148399134.0, 2418730898385459.0, 2418805808377968.0, 2419232615001954.0, 2419392171652665.0, 2419538708304678.0, 2419597641632118.0, 2419599388298610.0, 2419600651631817.0, 2419602044965011.0, 2419604814964734.0, 2419606141631268.0, 2419714531620429.0, 2420264351565447.0, 2420334281558454.0, 2420542631537619.0, 2420589591532923.0, 2420613021530580.0, 2421071171484765.0, 2421141821477700.0, 2421163061475576.0, 2421281228130426.0, 2421365794788636.0, 2421367354788480.0, 2421472608111288.0, 2421488024776413.0, 2421498754775340.0, 2421545668103982.0, 2421565141435368.0, 2421969631394919.0, 2422045641387318.0, 2422176091374273.0, 2422230161368866.0, 2422373798021169.0, 2422800447978504.0, 2422897021302180.0, 2423011034624112.0, 2423075264617689.0, 2423079651283917.0, 2423205504604665.0, 2423210657937483.0, 2423215694603646.0, 2423235294601686.0, 2423817687876780.0, 2423825311209351.0, 2423916887866860.0, 2424122014513014.0, 2424653427793206.0, 2424709087787640.0, 2424715947786954.0, 2425632767695272.0, 2425959497662599.0, 2426065804318635.0, 2426388100953072.0, 2427478810844001.0, 2429002304024985.0, 2429953287263220.0, 2429960303929185.0, 2432940800317986.0, 2435020870089795.0, 2436169713308244.0, 2440439239547958.0, 2444135685844980.0, 2446314878960394.0, 2450617025196846.0, 2452988358293046.0, 2462056114052937.0, 2472301086361773.0, 2479491152309433.0, 2479589218966293.0, 2481712258753989.0, 2493565630901985.0, 2494536430804905.0, 2553076554950892.0, 2590174414574439.0, 2590822911176256.0, 2590920174499863.0, 2594056747519539.0], \"y\": [23, 65, 0, 0, 6, 2, 0, 0, 0, 0, 0, 0, 0, 0, 0, 0, 0, 0, 24, 0, 0, 0, 46, 66, 0, 0, 0, 0, 0, 80, 0, 73, 55, 0, 205, 78, 0, 0, 0, 0, 0, 0, 0, 0, 0, 2, 0, 0, 57, 0, 0, 0, 0, 0, 33, 0, 0, 0, 0, 0, 252, 0, 0, 0, 0, 18, 0, 0, 0, 5, 3, 0, 0, 0, 0, 0, 0, 0, 14, 0, 0, 0, 0, 0, 0, 0, 2, 0, 0, 0, 0, 0, 44, 0, 3, 0, 0, 220, 5, 4, 0, 4, 3, 0, 7, 96, 0, 0, 0, 0, 12, 0, 3, 0, 0, 0, 3, 0, 0, 0, 5, 4, 3, 4, 3, 4, 4, 3, 8, 19, 2, 2, 3, 0, 2, 0, 0, 0, 0, 0, 2, 0, 8, 0, 7, 0, 2, 18, 0, 0, 0, 0, 0, 0, 25, 0, 9, 0, 9, 0, 0, 0, 3, 4, 5, 8, 1146, 62, 32, 220, 28, 144, 45, 71, 16, 184, 0, 0, 10, 0, 0, 74, 0, 0, 52, 0, 0, 0, 36, 0, 0, 0, 0, 0, 0, 0, 0, 63, 0, 0, 0, 0, 0, 0, 0, 0, 0, 0, 0, 0, 0, 0, 0, 0, 0, 58, 39, 0, 0, 128, 12, 10, 60, 0, 0, 17, 15, 20, 15, 33, 0, 13, 12, 8, 0, 0, 10, 0, 5, 0, 0, 0, 0, 0, 0, 0, 0, 0, 0, 0, 0, 0, 0, 0, 0, 0, 0, 0, 0, 0, 0, 0, 0, 0, 0, 0, 0, 0, 0, 0, 0, 0, 0, 0, 0, 26, 0, 0, 0, 0, 0, 0, 0, 0, 0, 0, 3, 0, 0, 4, 0, 0, 0, 0, 0, 0, 0, 0, 0, 0, 0, 0, 0, 0, 0, 0, 0, 0, 0, 0, 0, 0, 0, 0, 0, 0, 2, 0, 0, 0, 0, 0, 0, 6, 0, 0, 0, 0, 3, 0, 0, 0, 5, 0, 3, 0, 0, 0, 0, 0, 8, 23, 0, 0, 0, 0, 12, 8, 35, 0, 0, 0, 7, 3, 0, 0, 4, 0, 0, 10, 12, 2, 0, 0, 0, 0, 6, 0, 0, 0, 0, 2, 0, 2, 14, 0, 0, 4, 4, 4, 6, 5, 0, 20, 7, 0, 39, 2, 5, 0, 6, 0, 0, 0, 0, 3, 0, 8, 0, 0, 0, 0, 0, 0, 0, 0, 0, 0, 0, 0, 0, 0, 0, 0, 0, 8, 4, 0, 165, 0, 0, 0, 0, 0, 0, 0, 0, 36, 7, 0, 0, 76, 0, 7, 0, 0, 15, 9, 25, 0, 0, 0, 6, 0, 0, 51, 0, 5, 0, 12, 0, 66, 34, 6, 0, 0, 0, 3, 0, 0, 0, 0, 0, 0, 0, 0, 47, 0, 14, 13, 9, 12, 0, 40, 0, 0, 0, 0, 0, 11, 2, 6, 17, 7, 0, 2, 39, 0, 0, 0, 0, 0, 0, 0, 0, 0, 0, 2, 2, 0, 2, 0, 0, 6, 0, 0, 0, 5, 0, 0, 0, 0, 2, 0, 0, 3, 0, 4, 0, 0, 0, 0, 0, 0, 0, 0, 0, 0, 0, 0, 0, 4, 0, 0, 0, 5, 0, 0, 0, 0, 5, 0, 0, 0, 0, 0, 3, 0, 0, 0, 0, 2, 0, 0, 0, 4, 0, 2, 0, 0, 5, 10, 0, 0, 2, 0, 0, 3, 8, 0, 0, 0, 0, 0, 0, 0, 0, 0, 0, 0, 0, 22, 0, 0, 0, 0, 0, 0, 0, 10, 0, 0, 0, 7, 0, 0, 0, 0, 0, 0, 0, 0, 0, 0, 0, 0, 0, 0, 0, 10, 4, 8, 47, 0, 0, 4, 4, 0, 0, 0, 6, 2, 3, 0, 4, 3, 3, 0, 0, 0, 6, 0, 0, 0, 3, 0, 0, 0, 0, 2, 3, 0, 7, 0, 0, 0, 2, 16, 0, 0, 0, 0, 0, 0, 0, 5, 0, 0, 0, 0, 0, 0, 0, 0, 0, 0, 0, 0, 0, 0, 0, 0, 4, 0, 0, 0, 0, 0, 0, 0, 0, 0, 0, 0, 0, 0, 0, 0, 0, 0, 0, 0, 0, 0, 0, 0, 8, 0, 0, 0, 0, 0, 0, 0, 0, 0, 0, 0, 2, 0, 0, 0, 0, 0, 0, 0, 0, 0, 0, 17, 0, 0, 0, 0, 0, 3, 0, 0, 0, 0, 0, 0, 0, 0, 0, 0, 0, 0, 0, 0, 0, 0, 0, 0, 2, 0, 0, 0, 0, 0, 5, 0, 0, 0, 0, 0, 0, 2, 4, 0, 0, 0, 0, 2, 0, 0, 0, 0, 0, 0, 5, 0, 3, 0, 0, 0, 0, 0, 0, 0, 0, 0, 0, 0, 0, 2, 0, 0, 0, 0, 18, 0, 0, 3, 3, 0, 0, 0, 0, 0, 0, 0, 0, 0, 0, 4, 0, 0, 0, 2, 0, 0, 3, 0, 0, 0, 3, 0, 5, 0, 0, 0, 0, 0, 0, 0, 7, 0, 0, 346, 438, 0, 0, 0, 0, 0, 6, 0, 0, 0, 0, 0, 0, 0, 0, 0, 0, 0, 0, 0, 0, 0, 0, 0, 0, 0, 0, 0, 0, 0, 0, 0, 0, 0, 0, 0, 0, 0, 0, 0, 0, 0, 0, 0, 0, 0, 0, 0, 0, 0, 0, 0, 0, 0, 0, 0, 0, 0, 0, 0, 0, 0, 0, 0, 0, 0, 0, 0, 0, 0, 0, 0, 0, 4, 0, 0, 3, 0, 0, 2, 0, 0, 8, 0, 0, 0, 8, 2, 0, 0, 0, 0, 0, 0, 0, 0, 25, 8, 0, 0, 0, 0, 0, 0, 0, 0, 0, 0, 0, 0, 0, 0, 0, 0, 0, 0, 2, 0, 0, 0, 0, 0, 0, 0, 0, 0, 0, 0, 9, 3, 0, 0, 7, 0, 0, 0, 0, 0, 5, 4, 0, 2, 0, 0, 0, 0, 0, 0, 0, 2, 0, 0, 0, 0, 0, 0, 9, 0, 2, 0, 2, 0, 0, 0, 0, 0, 0, 0, 3, 5, 0, 0, 0, 0, 4, 0, 0, 15, 0, 7, 0, 0, 0, 0, 0, 0, 0, 0, 0, 0, 9, 0, 3, 0, 0, 0, 0, 0, 5, 0, 0, 4, 2, 0, 0, 0, 0, 0, 0, 0, 20, 7, 0, 2, 0, 0, 0, 0, 0, 0, 0, 7, 19, 0, 0, 0, 0, 0, 0, 0, 0, 0, 0, 6, 0, 0, 0, 0, 0, 0, 0, 0, 0, 2, 0, 0, 0, 0, 0, 0, 0, 0, 0, 0, 0, 0, 0, 0, 0, 0, 0, 0, 0, 0, 0, 0, 0, 0, 0, 0, 0, 0, 0, 0, 0, 0, 0, 0, 0, 0, 0, 0, 0, 0, 0, 0, 10, 10, 20, 0, 0, 0, 9, 0, 0, 35, 0, 0, 0, 0, 0, 0, 0, 11, 0, 0]}],\n",
       "                        {\"font\": {\"family\": \" Gravitas One, cursive\", \"size\": 17}, \"template\": {\"data\": {\"bar\": [{\"error_x\": {\"color\": \"#2a3f5f\"}, \"error_y\": {\"color\": \"#2a3f5f\"}, \"marker\": {\"line\": {\"color\": \"white\", \"width\": 0.5}}, \"type\": \"bar\"}], \"barpolar\": [{\"marker\": {\"line\": {\"color\": \"white\", \"width\": 0.5}}, \"type\": \"barpolar\"}], \"carpet\": [{\"aaxis\": {\"endlinecolor\": \"#2a3f5f\", \"gridcolor\": \"#C8D4E3\", \"linecolor\": \"#C8D4E3\", \"minorgridcolor\": \"#C8D4E3\", \"startlinecolor\": \"#2a3f5f\"}, \"baxis\": {\"endlinecolor\": \"#2a3f5f\", \"gridcolor\": \"#C8D4E3\", \"linecolor\": \"#C8D4E3\", \"minorgridcolor\": \"#C8D4E3\", \"startlinecolor\": \"#2a3f5f\"}, \"type\": \"carpet\"}], \"choropleth\": [{\"colorbar\": {\"outlinewidth\": 0, \"ticks\": \"\"}, \"type\": \"choropleth\"}], \"contour\": [{\"colorbar\": {\"outlinewidth\": 0, \"ticks\": \"\"}, \"colorscale\": [[0.0, \"#0d0887\"], [0.1111111111111111, \"#46039f\"], [0.2222222222222222, \"#7201a8\"], [0.3333333333333333, \"#9c179e\"], [0.4444444444444444, \"#bd3786\"], [0.5555555555555556, \"#d8576b\"], [0.6666666666666666, \"#ed7953\"], [0.7777777777777778, \"#fb9f3a\"], [0.8888888888888888, \"#fdca26\"], [1.0, \"#f0f921\"]], \"type\": \"contour\"}], \"contourcarpet\": [{\"colorbar\": {\"outlinewidth\": 0, \"ticks\": \"\"}, \"type\": \"contourcarpet\"}], \"heatmap\": [{\"colorbar\": {\"outlinewidth\": 0, \"ticks\": \"\"}, \"colorscale\": [[0.0, \"#0d0887\"], [0.1111111111111111, \"#46039f\"], [0.2222222222222222, \"#7201a8\"], [0.3333333333333333, \"#9c179e\"], [0.4444444444444444, \"#bd3786\"], [0.5555555555555556, \"#d8576b\"], [0.6666666666666666, \"#ed7953\"], [0.7777777777777778, \"#fb9f3a\"], [0.8888888888888888, \"#fdca26\"], [1.0, \"#f0f921\"]], \"type\": \"heatmap\"}], \"heatmapgl\": [{\"colorbar\": {\"outlinewidth\": 0, \"ticks\": \"\"}, \"colorscale\": [[0.0, \"#0d0887\"], [0.1111111111111111, \"#46039f\"], [0.2222222222222222, \"#7201a8\"], [0.3333333333333333, \"#9c179e\"], [0.4444444444444444, \"#bd3786\"], [0.5555555555555556, \"#d8576b\"], [0.6666666666666666, \"#ed7953\"], [0.7777777777777778, \"#fb9f3a\"], [0.8888888888888888, \"#fdca26\"], [1.0, \"#f0f921\"]], \"type\": \"heatmapgl\"}], \"histogram\": [{\"marker\": {\"colorbar\": {\"outlinewidth\": 0, \"ticks\": \"\"}}, \"type\": \"histogram\"}], \"histogram2d\": [{\"colorbar\": {\"outlinewidth\": 0, \"ticks\": \"\"}, \"colorscale\": [[0.0, \"#0d0887\"], [0.1111111111111111, \"#46039f\"], [0.2222222222222222, \"#7201a8\"], [0.3333333333333333, \"#9c179e\"], [0.4444444444444444, \"#bd3786\"], [0.5555555555555556, \"#d8576b\"], [0.6666666666666666, \"#ed7953\"], [0.7777777777777778, \"#fb9f3a\"], [0.8888888888888888, \"#fdca26\"], [1.0, \"#f0f921\"]], \"type\": \"histogram2d\"}], \"histogram2dcontour\": [{\"colorbar\": {\"outlinewidth\": 0, \"ticks\": \"\"}, \"colorscale\": [[0.0, \"#0d0887\"], [0.1111111111111111, \"#46039f\"], [0.2222222222222222, \"#7201a8\"], [0.3333333333333333, \"#9c179e\"], [0.4444444444444444, \"#bd3786\"], [0.5555555555555556, \"#d8576b\"], [0.6666666666666666, \"#ed7953\"], [0.7777777777777778, \"#fb9f3a\"], [0.8888888888888888, \"#fdca26\"], [1.0, \"#f0f921\"]], \"type\": \"histogram2dcontour\"}], \"mesh3d\": [{\"colorbar\": {\"outlinewidth\": 0, \"ticks\": \"\"}, \"type\": \"mesh3d\"}], \"parcoords\": [{\"line\": {\"colorbar\": {\"outlinewidth\": 0, \"ticks\": \"\"}}, \"type\": \"parcoords\"}], \"pie\": [{\"automargin\": true, \"type\": \"pie\"}], \"scatter\": [{\"marker\": {\"colorbar\": {\"outlinewidth\": 0, \"ticks\": \"\"}}, \"type\": \"scatter\"}], \"scatter3d\": [{\"line\": {\"colorbar\": {\"outlinewidth\": 0, \"ticks\": \"\"}}, \"marker\": {\"colorbar\": {\"outlinewidth\": 0, \"ticks\": \"\"}}, \"type\": \"scatter3d\"}], \"scattercarpet\": [{\"marker\": {\"colorbar\": {\"outlinewidth\": 0, \"ticks\": \"\"}}, \"type\": \"scattercarpet\"}], \"scattergeo\": [{\"marker\": {\"colorbar\": {\"outlinewidth\": 0, \"ticks\": \"\"}}, \"type\": \"scattergeo\"}], \"scattergl\": [{\"marker\": {\"colorbar\": {\"outlinewidth\": 0, \"ticks\": \"\"}}, \"type\": \"scattergl\"}], \"scattermapbox\": [{\"marker\": {\"colorbar\": {\"outlinewidth\": 0, \"ticks\": \"\"}}, \"type\": \"scattermapbox\"}], \"scatterpolar\": [{\"marker\": {\"colorbar\": {\"outlinewidth\": 0, \"ticks\": \"\"}}, \"type\": \"scatterpolar\"}], \"scatterpolargl\": [{\"marker\": {\"colorbar\": {\"outlinewidth\": 0, \"ticks\": \"\"}}, \"type\": \"scatterpolargl\"}], \"scatterternary\": [{\"marker\": {\"colorbar\": {\"outlinewidth\": 0, \"ticks\": \"\"}}, \"type\": \"scatterternary\"}], \"surface\": [{\"colorbar\": {\"outlinewidth\": 0, \"ticks\": \"\"}, \"colorscale\": [[0.0, \"#0d0887\"], [0.1111111111111111, \"#46039f\"], [0.2222222222222222, \"#7201a8\"], [0.3333333333333333, \"#9c179e\"], [0.4444444444444444, \"#bd3786\"], [0.5555555555555556, \"#d8576b\"], [0.6666666666666666, \"#ed7953\"], [0.7777777777777778, \"#fb9f3a\"], [0.8888888888888888, \"#fdca26\"], [1.0, \"#f0f921\"]], \"type\": \"surface\"}], \"table\": [{\"cells\": {\"fill\": {\"color\": \"#EBF0F8\"}, \"line\": {\"color\": \"white\"}}, \"header\": {\"fill\": {\"color\": \"#C8D4E3\"}, \"line\": {\"color\": \"white\"}}, \"type\": \"table\"}]}, \"layout\": {\"annotationdefaults\": {\"arrowcolor\": \"#2a3f5f\", \"arrowhead\": 0, \"arrowwidth\": 1}, \"coloraxis\": {\"colorbar\": {\"outlinewidth\": 0, \"ticks\": \"\"}}, \"colorscale\": {\"diverging\": [[0, \"#8e0152\"], [0.1, \"#c51b7d\"], [0.2, \"#de77ae\"], [0.3, \"#f1b6da\"], [0.4, \"#fde0ef\"], [0.5, \"#f7f7f7\"], [0.6, \"#e6f5d0\"], [0.7, \"#b8e186\"], [0.8, \"#7fbc41\"], [0.9, \"#4d9221\"], [1, \"#276419\"]], \"sequential\": [[0.0, \"#0d0887\"], [0.1111111111111111, \"#46039f\"], [0.2222222222222222, \"#7201a8\"], [0.3333333333333333, \"#9c179e\"], [0.4444444444444444, \"#bd3786\"], [0.5555555555555556, \"#d8576b\"], [0.6666666666666666, \"#ed7953\"], [0.7777777777777778, \"#fb9f3a\"], [0.8888888888888888, \"#fdca26\"], [1.0, \"#f0f921\"]], \"sequentialminus\": [[0.0, \"#0d0887\"], [0.1111111111111111, \"#46039f\"], [0.2222222222222222, \"#7201a8\"], [0.3333333333333333, \"#9c179e\"], [0.4444444444444444, \"#bd3786\"], [0.5555555555555556, \"#d8576b\"], [0.6666666666666666, \"#ed7953\"], [0.7777777777777778, \"#fb9f3a\"], [0.8888888888888888, \"#fdca26\"], [1.0, \"#f0f921\"]]}, \"colorway\": [\"#636efa\", \"#EF553B\", \"#00cc96\", \"#ab63fa\", \"#FFA15A\", \"#19d3f3\", \"#FF6692\", \"#B6E880\", \"#FF97FF\", \"#FECB52\"], \"font\": {\"color\": \"#2a3f5f\"}, \"geo\": {\"bgcolor\": \"white\", \"lakecolor\": \"white\", \"landcolor\": \"white\", \"showlakes\": true, \"showland\": true, \"subunitcolor\": \"#C8D4E3\"}, \"hoverlabel\": {\"align\": \"left\"}, \"hovermode\": \"closest\", \"mapbox\": {\"style\": \"light\"}, \"paper_bgcolor\": \"white\", \"plot_bgcolor\": \"white\", \"polar\": {\"angularaxis\": {\"gridcolor\": \"#EBF0F8\", \"linecolor\": \"#EBF0F8\", \"ticks\": \"\"}, \"bgcolor\": \"white\", \"radialaxis\": {\"gridcolor\": \"#EBF0F8\", \"linecolor\": \"#EBF0F8\", \"ticks\": \"\"}}, \"scene\": {\"xaxis\": {\"backgroundcolor\": \"white\", \"gridcolor\": \"#DFE8F3\", \"gridwidth\": 2, \"linecolor\": \"#EBF0F8\", \"showbackground\": true, \"ticks\": \"\", \"zerolinecolor\": \"#EBF0F8\"}, \"yaxis\": {\"backgroundcolor\": \"white\", \"gridcolor\": \"#DFE8F3\", \"gridwidth\": 2, \"linecolor\": \"#EBF0F8\", \"showbackground\": true, \"ticks\": \"\", \"zerolinecolor\": \"#EBF0F8\"}, \"zaxis\": {\"backgroundcolor\": \"white\", \"gridcolor\": \"#DFE8F3\", \"gridwidth\": 2, \"linecolor\": \"#EBF0F8\", \"showbackground\": true, \"ticks\": \"\", \"zerolinecolor\": \"#EBF0F8\"}}, \"shapedefaults\": {\"line\": {\"color\": \"#2a3f5f\"}}, \"ternary\": {\"aaxis\": {\"gridcolor\": \"#DFE8F3\", \"linecolor\": \"#A2B1C6\", \"ticks\": \"\"}, \"baxis\": {\"gridcolor\": \"#DFE8F3\", \"linecolor\": \"#A2B1C6\", \"ticks\": \"\"}, \"bgcolor\": \"white\", \"caxis\": {\"gridcolor\": \"#DFE8F3\", \"linecolor\": \"#A2B1C6\", \"ticks\": \"\"}}, \"title\": {\"x\": 0.05}, \"xaxis\": {\"automargin\": true, \"gridcolor\": \"#EBF0F8\", \"linecolor\": \"#EBF0F8\", \"ticks\": \"\", \"title\": {\"standoff\": 15}, \"zerolinecolor\": \"#EBF0F8\", \"zerolinewidth\": 2}, \"yaxis\": {\"automargin\": true, \"gridcolor\": \"#EBF0F8\", \"linecolor\": \"#EBF0F8\", \"ticks\": \"\", \"title\": {\"standoff\": 15}, \"zerolinecolor\": \"#EBF0F8\", \"zerolinewidth\": 2}}}, \"title\": {\"text\": \" \"}, \"updatemenus\": [{\"buttons\": [{\"args\": [{\"visible\": [true, false, false]}], \"label\": \"                                                              Nombre de comments                                                                  \", \"method\": \"update\"}, {\"args\": [{\"visible\": [false, true, false]}], \"label\": \"                                                              Nombre des likes\", \"method\": \"update\"}, {\"args\": [{\"visible\": [false, false, true]}], \"label\": \"                                                              Nombre des Shares\", \"method\": \"update\"}], \"x\": 1.1, \"y\": 1.3}]},\n",
       "                        {\"responsive\": true}\n",
       "                    ).then(function(){\n",
       "                            \n",
       "var gd = document.getElementById('3c5006be-081b-406f-898f-b3f5e0bec1c4');\n",
       "var x = new MutationObserver(function (mutations, observer) {{\n",
       "        var display = window.getComputedStyle(gd).display;\n",
       "        if (!display || display === 'none') {{\n",
       "            console.log([gd, 'removed!']);\n",
       "            Plotly.purge(gd);\n",
       "            observer.disconnect();\n",
       "        }}\n",
       "}});\n",
       "\n",
       "// Listen for the removal of the full notebook cells\n",
       "var notebookContainer = gd.closest('#notebook-container');\n",
       "if (notebookContainer) {{\n",
       "    x.observe(notebookContainer, {childList: true});\n",
       "}}\n",
       "\n",
       "// Listen for the clearing of the current output cell\n",
       "var outputEl = gd.closest('.output');\n",
       "if (outputEl) {{\n",
       "    x.observe(outputEl, {childList: true});\n",
       "}}\n",
       "\n",
       "                        })\n",
       "                };\n",
       "                });\n",
       "            </script>\n",
       "        </div>"
      ]
     },
     "metadata": {},
     "output_type": "display_data"
    }
   ],
   "source": [
    "fcbk=pd.read_csv('posts.csv')\n",
    "df17=fcbk.groupby('post_id').sum()\n",
    "\n",
    "\n",
    "\n",
    "data_bar=[ go.Scatter(name='Nombre de comments',\n",
    "           visible=True,\n",
    "           x=df17.index, \n",
    "           y=df17['comments'],\n",
    "           marker_color='Pink'),\n",
    "          \n",
    "         go.Scatter(name='Nombre des likes',\n",
    "           visible=False,\n",
    "           x=df17.index, \n",
    "           y= df17['likes'],\n",
    "          marker_color='royalblue'),\n",
    "          \n",
    "          go.Scatter(name='Nombre de shares',\n",
    "           visible=False,\n",
    "           x=df17.index, \n",
    "           y= df17['shares'],\n",
    "          marker_color='royalblue'),\n",
    "         \n",
    "        ]\n",
    "\n",
    "list_updatemenus=[\n",
    "        {'args':[{\"visible\":[True,False,False]}],\n",
    "         'label':\"                                                              Nombre de comments                                                                  \",\n",
    "         'method':\"update\"},\n",
    "    \n",
    "        {'args':[{\"visible\":[False,True,False]}],\n",
    "         'label':\"                                                              Nombre des likes\",\n",
    "         'method':\"update\"},\n",
    "    {'args':[{\"visible\":[False,False,True]}],\n",
    "         'label':\"                                                              Nombre des Shares\",\n",
    "         'method':\"update\"},\n",
    "    \n",
    "\n",
    "         ]\n",
    "layout_bar=go.Layout(updatemenus=list([dict(buttons= list_updatemenus,x=1.1,y=1.3)]),\n",
    "                     title_text=\" \",\n",
    "                     template='plotly_white',\n",
    "                     font=dict(\n",
    "                    family=\" Gravitas One, cursive\",\n",
    "                    size=17))\n",
    "\n",
    "#defining figure and plotting\n",
    "nbre_like_share_comment = go.Figure(data_bar,layout_bar)\n",
    "nbre_like_share_comment.show()\n"
   ]
  },
  {
   "cell_type": "code",
   "execution_count": 14,
   "metadata": {
    "scrolled": false
   },
   "outputs": [
    {
     "data": {
      "text/html": [
       "<div>\n",
       "<style scoped>\n",
       "    .dataframe tbody tr th:only-of-type {\n",
       "        vertical-align: middle;\n",
       "    }\n",
       "\n",
       "    .dataframe tbody tr th {\n",
       "        vertical-align: top;\n",
       "    }\n",
       "\n",
       "    .dataframe thead th {\n",
       "        text-align: right;\n",
       "    }\n",
       "</style>\n",
       "<table border=\"1\" class=\"dataframe\">\n",
       "  <thead>\n",
       "    <tr style=\"text-align: right;\">\n",
       "      <th></th>\n",
       "      <th>post_id</th>\n",
       "      <th>text</th>\n",
       "      <th>post_text</th>\n",
       "      <th>shared_text</th>\n",
       "      <th>time</th>\n",
       "      <th>image</th>\n",
       "      <th>likes</th>\n",
       "      <th>comments</th>\n",
       "      <th>shares</th>\n",
       "      <th>post_url</th>\n",
       "      <th>link</th>\n",
       "    </tr>\n",
       "  </thead>\n",
       "  <tbody>\n",
       "    <tr>\n",
       "      <td>0</td>\n",
       "      <td>2.594057e+15</td>\n",
       "      <td>abdelkarim Bennani\\nJCC Carthage Film Festival...</td>\n",
       "      <td>abdelkarim Bennani</td>\n",
       "      <td>JCC Carthage Film Festival\\nNovember 9, 2019 a...</td>\n",
       "      <td>2020-05-17</td>\n",
       "      <td>https://scontent-atl3-1.xx.fbcdn.net/v/t1.0-9/...</td>\n",
       "      <td>7</td>\n",
       "      <td>0</td>\n",
       "      <td>0</td>\n",
       "      <td>https://m.facebook.com/story.php?story_fbid=25...</td>\n",
       "      <td>NaN</td>\n",
       "    </tr>\n",
       "    <tr>\n",
       "      <td>1</td>\n",
       "      <td>2.590920e+15</td>\n",
       "      <td>\"الشاذلي القليبي لم يعد بيننا\"\\nرجل دولة لامع ...</td>\n",
       "      <td>\"الشاذلي القليبي لم يعد بيننا\"\\nرجل دولة لامع ...</td>\n",
       "      <td>NaN</td>\n",
       "      <td>2020-05-13</td>\n",
       "      <td>https://scontent-atl3-1.xx.fbcdn.net/v/t1.0-9/...</td>\n",
       "      <td>14</td>\n",
       "      <td>1</td>\n",
       "      <td>0</td>\n",
       "      <td>https://m.facebook.com/story.php?story_fbid=25...</td>\n",
       "      <td>NaN</td>\n",
       "    </tr>\n",
       "    <tr>\n",
       "      <td>2</td>\n",
       "      <td>2.590823e+15</td>\n",
       "      <td>\"لأننا نحب الحياة، نذهب إلى السينما\"\\nتتابع ال...</td>\n",
       "      <td>\"لأننا نحب الحياة، نذهب إلى السينما\"\\nتتابع ال...</td>\n",
       "      <td>JCCTUNISIE.ORG\\nThe news of the Carthage Film ...</td>\n",
       "      <td>2020-05-13</td>\n",
       "      <td>https://external-atl3-1.xx.fbcdn.net/safe_imag...</td>\n",
       "      <td>26</td>\n",
       "      <td>1</td>\n",
       "      <td>11</td>\n",
       "      <td>https://m.facebook.com/story.php?story_fbid=25...</td>\n",
       "      <td>https://www.jcctunisie.org/eng/actualites.php#2</td>\n",
       "    </tr>\n",
       "    <tr>\n",
       "      <td>3</td>\n",
       "      <td>2.590174e+15</td>\n",
       "      <td>NaN</td>\n",
       "      <td>NaN</td>\n",
       "      <td>NaN</td>\n",
       "      <td>2020-05-12</td>\n",
       "      <td>https://scontent-atl3-1.xx.fbcdn.net/v/t1.0-9/...</td>\n",
       "      <td>64</td>\n",
       "      <td>3</td>\n",
       "      <td>0</td>\n",
       "      <td>NaN</td>\n",
       "      <td>NaN</td>\n",
       "    </tr>\n",
       "    <tr>\n",
       "      <td>4</td>\n",
       "      <td>2.553077e+15</td>\n",
       "      <td>NaN</td>\n",
       "      <td>NaN</td>\n",
       "      <td>NaN</td>\n",
       "      <td>2020-03-27</td>\n",
       "      <td>https://scontent-atl3-1.xx.fbcdn.net/v/t1.0-9/...</td>\n",
       "      <td>50</td>\n",
       "      <td>7</td>\n",
       "      <td>0</td>\n",
       "      <td>NaN</td>\n",
       "      <td>NaN</td>\n",
       "    </tr>\n",
       "    <tr>\n",
       "      <td>...</td>\n",
       "      <td>...</td>\n",
       "      <td>...</td>\n",
       "      <td>...</td>\n",
       "      <td>...</td>\n",
       "      <td>...</td>\n",
       "      <td>...</td>\n",
       "      <td>...</td>\n",
       "      <td>...</td>\n",
       "      <td>...</td>\n",
       "      <td>...</td>\n",
       "      <td>...</td>\n",
       "    </tr>\n",
       "    <tr>\n",
       "      <td>1212</td>\n",
       "      <td>1.647454e+15</td>\n",
       "      <td>«La boite magique» de Ridha Béhi : Tanit Spéci...</td>\n",
       "      <td>«La boite magique» de Ridha Béhi : Tanit Spéci...</td>\n",
       "      <td>NaN</td>\n",
       "      <td>2015-10-26</td>\n",
       "      <td>https://scontent-atl3-1.xx.fbcdn.net/v/t1.0-9/...</td>\n",
       "      <td>37</td>\n",
       "      <td>2</td>\n",
       "      <td>0</td>\n",
       "      <td>NaN</td>\n",
       "      <td>NaN</td>\n",
       "    </tr>\n",
       "    <tr>\n",
       "      <td>1213</td>\n",
       "      <td>1.647436e+15</td>\n",
       "      <td>«Sois mon amie» (2000) de Naceur Ktari : Tanit...</td>\n",
       "      <td>«Sois mon amie» (2000) de Naceur Ktari : Tanit...</td>\n",
       "      <td>NaN</td>\n",
       "      <td>2015-10-23</td>\n",
       "      <td>https://scontent-atl3-1.xx.fbcdn.net/v/t1.0-9/...</td>\n",
       "      <td>227</td>\n",
       "      <td>6</td>\n",
       "      <td>0</td>\n",
       "      <td>NaN</td>\n",
       "      <td>NaN</td>\n",
       "    </tr>\n",
       "    <tr>\n",
       "      <td>1214</td>\n",
       "      <td>1.646807e+15</td>\n",
       "      <td>Etes-vous intéressé par le cinéma et par l'org...</td>\n",
       "      <td>Etes-vous intéressé par le cinéma et par l'org...</td>\n",
       "      <td>NaN</td>\n",
       "      <td>2015-10-20</td>\n",
       "      <td>https://scontent-atl3-1.xx.fbcdn.net/v/t1.0-9/...</td>\n",
       "      <td>656</td>\n",
       "      <td>59</td>\n",
       "      <td>0</td>\n",
       "      <td>NaN</td>\n",
       "      <td>http://www.jcctunisie.org/benevoles.php</td>\n",
       "    </tr>\n",
       "    <tr>\n",
       "      <td>1215</td>\n",
       "      <td>1.646530e+15</td>\n",
       "      <td>بلاغ صحفي\\nتعلم ادارة ايام قرطاج السينمائية كا...</td>\n",
       "      <td>NaN</td>\n",
       "      <td>بلاغ صحفي\\nتعلم ادارة ايام قرطاج السينمائية كا...</td>\n",
       "      <td>2015-10-19</td>\n",
       "      <td>NaN</td>\n",
       "      <td>13</td>\n",
       "      <td>0</td>\n",
       "      <td>2</td>\n",
       "      <td>NaN</td>\n",
       "      <td>NaN</td>\n",
       "    </tr>\n",
       "    <tr>\n",
       "      <td>1216</td>\n",
       "      <td>1.646529e+15</td>\n",
       "      <td>Procédure d'accréditation\\nLa direction du fes...</td>\n",
       "      <td>NaN</td>\n",
       "      <td>Procédure d'accréditation\\nLa direction du fes...</td>\n",
       "      <td>2015-10-19</td>\n",
       "      <td>NaN</td>\n",
       "      <td>5</td>\n",
       "      <td>1</td>\n",
       "      <td>6</td>\n",
       "      <td>NaN</td>\n",
       "      <td>NaN</td>\n",
       "    </tr>\n",
       "  </tbody>\n",
       "</table>\n",
       "<p>1217 rows × 11 columns</p>\n",
       "</div>"
      ],
      "text/plain": [
       "           post_id                                               text  \\\n",
       "0     2.594057e+15  abdelkarim Bennani\\nJCC Carthage Film Festival...   \n",
       "1     2.590920e+15  \"الشاذلي القليبي لم يعد بيننا\"\\nرجل دولة لامع ...   \n",
       "2     2.590823e+15  \"لأننا نحب الحياة، نذهب إلى السينما\"\\nتتابع ال...   \n",
       "3     2.590174e+15                                                NaN   \n",
       "4     2.553077e+15                                                NaN   \n",
       "...            ...                                                ...   \n",
       "1212  1.647454e+15  «La boite magique» de Ridha Béhi : Tanit Spéci...   \n",
       "1213  1.647436e+15  «Sois mon amie» (2000) de Naceur Ktari : Tanit...   \n",
       "1214  1.646807e+15  Etes-vous intéressé par le cinéma et par l'org...   \n",
       "1215  1.646530e+15  بلاغ صحفي\\nتعلم ادارة ايام قرطاج السينمائية كا...   \n",
       "1216  1.646529e+15  Procédure d'accréditation\\nLa direction du fes...   \n",
       "\n",
       "                                              post_text  \\\n",
       "0                                    abdelkarim Bennani   \n",
       "1     \"الشاذلي القليبي لم يعد بيننا\"\\nرجل دولة لامع ...   \n",
       "2     \"لأننا نحب الحياة، نذهب إلى السينما\"\\nتتابع ال...   \n",
       "3                                                   NaN   \n",
       "4                                                   NaN   \n",
       "...                                                 ...   \n",
       "1212  «La boite magique» de Ridha Béhi : Tanit Spéci...   \n",
       "1213  «Sois mon amie» (2000) de Naceur Ktari : Tanit...   \n",
       "1214  Etes-vous intéressé par le cinéma et par l'org...   \n",
       "1215                                                NaN   \n",
       "1216                                                NaN   \n",
       "\n",
       "                                            shared_text        time  \\\n",
       "0     JCC Carthage Film Festival\\nNovember 9, 2019 a...  2020-05-17   \n",
       "1                                                   NaN  2020-05-13   \n",
       "2     JCCTUNISIE.ORG\\nThe news of the Carthage Film ...  2020-05-13   \n",
       "3                                                   NaN  2020-05-12   \n",
       "4                                                   NaN  2020-03-27   \n",
       "...                                                 ...         ...   \n",
       "1212                                                NaN  2015-10-26   \n",
       "1213                                                NaN  2015-10-23   \n",
       "1214                                                NaN  2015-10-20   \n",
       "1215  بلاغ صحفي\\nتعلم ادارة ايام قرطاج السينمائية كا...  2015-10-19   \n",
       "1216  Procédure d'accréditation\\nLa direction du fes...  2015-10-19   \n",
       "\n",
       "                                                  image  likes  comments  \\\n",
       "0     https://scontent-atl3-1.xx.fbcdn.net/v/t1.0-9/...      7         0   \n",
       "1     https://scontent-atl3-1.xx.fbcdn.net/v/t1.0-9/...     14         1   \n",
       "2     https://external-atl3-1.xx.fbcdn.net/safe_imag...     26         1   \n",
       "3     https://scontent-atl3-1.xx.fbcdn.net/v/t1.0-9/...     64         3   \n",
       "4     https://scontent-atl3-1.xx.fbcdn.net/v/t1.0-9/...     50         7   \n",
       "...                                                 ...    ...       ...   \n",
       "1212  https://scontent-atl3-1.xx.fbcdn.net/v/t1.0-9/...     37         2   \n",
       "1213  https://scontent-atl3-1.xx.fbcdn.net/v/t1.0-9/...    227         6   \n",
       "1214  https://scontent-atl3-1.xx.fbcdn.net/v/t1.0-9/...    656        59   \n",
       "1215                                                NaN     13         0   \n",
       "1216                                                NaN      5         1   \n",
       "\n",
       "      shares                                           post_url  \\\n",
       "0          0  https://m.facebook.com/story.php?story_fbid=25...   \n",
       "1          0  https://m.facebook.com/story.php?story_fbid=25...   \n",
       "2         11  https://m.facebook.com/story.php?story_fbid=25...   \n",
       "3          0                                                NaN   \n",
       "4          0                                                NaN   \n",
       "...      ...                                                ...   \n",
       "1212       0                                                NaN   \n",
       "1213       0                                                NaN   \n",
       "1214       0                                                NaN   \n",
       "1215       2                                                NaN   \n",
       "1216       6                                                NaN   \n",
       "\n",
       "                                                 link  \n",
       "0                                                 NaN  \n",
       "1                                                 NaN  \n",
       "2     https://www.jcctunisie.org/eng/actualites.php#2  \n",
       "3                                                 NaN  \n",
       "4                                                 NaN  \n",
       "...                                               ...  \n",
       "1212                                              NaN  \n",
       "1213                                              NaN  \n",
       "1214          http://www.jcctunisie.org/benevoles.php  \n",
       "1215                                              NaN  \n",
       "1216                                              NaN  \n",
       "\n",
       "[1217 rows x 11 columns]"
      ]
     },
     "execution_count": 14,
     "metadata": {},
     "output_type": "execute_result"
    }
   ],
   "source": [
    "fcbk['time']=fcbk['time'].str[:10]\n",
    "fcbk"
   ]
  },
  {
   "cell_type": "code",
   "execution_count": 15,
   "metadata": {
    "scrolled": true
   },
   "outputs": [],
   "source": [
    "df18=fcbk.groupby('time').count()"
   ]
  },
  {
   "cell_type": "code",
   "execution_count": 16,
   "metadata": {},
   "outputs": [],
   "source": [
    "df19=pd.read_csv('jcc tunisie-20k-tweets.csv')\n",
    "df19['ts']=df19['ts'].str[:10]\n",
    "df20=df19.groupby('ts').count()"
   ]
  },
  {
   "cell_type": "code",
   "execution_count": 17,
   "metadata": {},
   "outputs": [
    {
     "data": {
      "application/vnd.plotly.v1+json": {
       "config": {
        "plotlyServerURL": "https://plot.ly"
       },
       "data": [
        {
         "marker": {
          "color": "Pink"
         },
         "name": "Nombre de posts",
         "type": "scatter",
         "visible": true,
         "x": [
          "2015-10-19",
          "2015-10-20",
          "2015-10-23",
          "2015-10-26",
          "2015-10-27",
          "2015-10-28",
          "2015-10-29",
          "2015-10-30",
          "2015-10-31",
          "2015-11-01",
          "2015-11-03",
          "2015-11-04",
          "2015-11-05",
          "2015-11-09",
          "2015-11-10",
          "2015-11-11",
          "2015-11-12",
          "2015-11-15",
          "2015-11-16",
          "2015-11-17",
          "2015-11-18",
          "2015-11-19",
          "2015-11-20",
          "2015-11-21",
          "2015-11-23",
          "2015-11-24",
          "2015-11-25",
          "2015-11-26",
          "2015-11-27",
          "2015-11-28",
          "2015-11-29",
          "2015-11-30",
          "2015-12-01",
          "2015-12-02",
          "2015-12-03",
          "2015-12-06",
          "2015-12-07",
          "2015-12-08",
          "2015-12-09",
          "2015-12-10",
          "2015-12-11",
          "2015-12-12",
          "2015-12-17",
          "2015-12-20",
          "2015-12-30",
          "2016-01-24",
          "2016-02-18",
          "2016-04-18",
          "2016-04-19",
          "2016-04-22",
          "2016-04-24",
          "2016-05-03",
          "2016-10-20",
          "2016-10-22",
          "2016-10-23",
          "2016-10-24",
          "2016-10-25",
          "2016-10-26",
          "2016-10-27",
          "2016-10-28",
          "2016-10-29",
          "2016-10-30",
          "2016-10-31",
          "2016-11-01",
          "2016-11-02",
          "2016-11-03",
          "2016-11-04",
          "2016-11-05",
          "2016-11-06",
          "2017-08-24",
          "2017-08-25",
          "2017-09-01",
          "2017-09-14",
          "2017-09-21",
          "2017-09-23",
          "2017-09-24",
          "2017-09-25",
          "2017-09-26",
          "2017-09-27",
          "2017-09-29",
          "2017-09-30",
          "2017-10-01",
          "2017-10-02",
          "2017-10-03",
          "2017-10-04",
          "2017-10-05",
          "2017-10-06",
          "2017-10-07",
          "2017-10-08",
          "2017-10-09",
          "2017-10-10",
          "2017-10-11",
          "2017-10-13",
          "2017-10-14",
          "2017-10-15",
          "2017-10-16",
          "2017-10-17",
          "2017-10-18",
          "2017-10-19",
          "2017-10-20",
          "2017-10-21",
          "2017-10-22",
          "2017-10-23",
          "2017-10-24",
          "2017-10-25",
          "2017-10-26",
          "2017-10-27",
          "2017-10-28",
          "2017-10-29",
          "2017-10-30",
          "2017-10-31",
          "2017-11-01",
          "2017-11-02",
          "2017-11-03",
          "2017-11-04",
          "2017-11-05",
          "2017-11-06",
          "2017-11-07",
          "2017-11-08",
          "2017-11-09",
          "2017-11-10",
          "2017-11-11",
          "2017-11-12",
          "2017-11-13",
          "2017-11-14",
          "2017-11-15",
          "2017-11-16",
          "2017-11-17",
          "2017-11-19",
          "2017-11-20",
          "2017-11-21",
          "2017-11-22",
          "2017-11-23",
          "2017-11-24",
          "2017-11-26",
          "2017-11-27",
          "2017-11-28",
          "2017-11-29",
          "2017-12-01",
          "2017-12-02",
          "2017-12-03",
          "2017-12-05",
          "2017-12-06",
          "2017-12-07",
          "2017-12-09",
          "2017-12-10",
          "2017-12-11",
          "2017-12-12",
          "2017-12-14",
          "2017-12-15",
          "2017-12-16",
          "2017-12-17",
          "2017-12-18",
          "2017-12-19",
          "2017-12-21",
          "2017-12-22",
          "2017-12-23",
          "2017-12-24",
          "2017-12-25",
          "2017-12-27",
          "2017-12-28",
          "2017-12-29",
          "2017-12-30",
          "2017-12-31",
          "2018-01-10",
          "2018-01-23",
          "2018-01-29",
          "2018-02-17",
          "2018-02-21",
          "2018-04-03",
          "2018-04-07",
          "2018-04-17",
          "2018-04-19",
          "2018-04-23",
          "2018-04-24",
          "2018-04-25",
          "2018-05-02",
          "2018-05-15",
          "2018-05-16",
          "2018-05-17",
          "2018-07-02",
          "2018-08-02",
          "2018-08-03",
          "2018-08-18",
          "2018-08-22",
          "2018-08-29",
          "2018-09-05",
          "2018-09-13",
          "2018-09-14",
          "2018-09-19",
          "2018-09-21",
          "2018-09-25",
          "2018-09-28",
          "2018-09-29",
          "2018-09-30",
          "2018-10-02",
          "2018-10-04",
          "2018-10-05",
          "2018-10-06",
          "2018-10-17",
          "2018-10-23",
          "2018-10-24",
          "2018-10-25",
          "2018-10-26",
          "2018-10-27",
          "2018-10-28",
          "2018-10-29",
          "2018-10-30",
          "2018-10-31",
          "2018-11-01",
          "2018-11-02",
          "2018-11-03",
          "2018-11-04",
          "2018-11-05",
          "2018-11-06",
          "2018-11-07",
          "2018-11-08",
          "2018-11-09",
          "2018-11-10",
          "2018-11-11",
          "2018-11-13",
          "2018-11-14",
          "2018-11-26",
          "2018-11-30",
          "2018-12-03",
          "2018-12-10",
          "2018-12-24",
          "2018-12-26",
          "2019-02-02",
          "2019-02-08",
          "2019-02-10",
          "2019-02-11",
          "2019-02-12",
          "2019-02-14",
          "2019-02-15",
          "2019-02-18",
          "2019-02-21",
          "2019-02-23",
          "2019-02-26",
          "2019-03-01",
          "2019-03-04",
          "2019-03-11",
          "2019-03-13",
          "2019-03-15",
          "2019-03-19",
          "2019-03-20",
          "2019-03-21",
          "2019-03-30",
          "2019-04-01",
          "2019-04-09",
          "2019-04-10",
          "2019-04-12",
          "2019-04-15",
          "2019-04-17",
          "2019-04-19",
          "2019-04-22",
          "2019-04-23",
          "2019-04-26",
          "2019-04-27",
          "2019-04-30",
          "2019-05-02",
          "2019-05-03",
          "2019-05-05",
          "2019-05-06",
          "2019-05-10",
          "2019-05-13",
          "2019-05-18",
          "2019-05-19",
          "2019-05-20",
          "2019-05-22",
          "2019-05-24",
          "2019-05-25",
          "2019-05-26",
          "2019-06-04",
          "2019-06-09",
          "2019-06-18",
          "2019-06-30",
          "2019-07-12",
          "2019-07-15",
          "2019-07-18",
          "2019-07-21",
          "2019-07-22",
          "2019-08-05",
          "2019-08-07",
          "2019-08-08",
          "2019-08-11",
          "2019-08-12",
          "2019-08-15",
          "2019-08-16",
          "2019-08-17",
          "2019-08-21",
          "2019-08-25",
          "2019-08-28",
          "2019-08-29",
          "2019-08-30",
          "2019-09-01",
          "2019-09-03",
          "2019-09-04",
          "2019-09-05",
          "2019-09-06",
          "2019-09-08",
          "2019-09-09",
          "2019-09-20",
          "2019-09-26",
          "2019-09-27",
          "2019-09-28",
          "2019-10-01",
          "2019-10-04",
          "2019-10-05",
          "2019-10-07",
          "2019-10-09",
          "2019-10-10",
          "2019-10-12",
          "2019-10-15",
          "2019-10-16",
          "2019-10-17",
          "2019-10-18",
          "2019-10-19",
          "2019-10-20",
          "2019-10-21",
          "2019-10-22",
          "2019-10-23",
          "2019-10-24",
          "2019-10-25",
          "2019-10-26",
          "2019-10-27",
          "2019-10-28",
          "2019-10-29",
          "2019-10-30",
          "2019-10-31",
          "2019-11-01",
          "2019-11-02",
          "2019-11-03",
          "2019-11-04",
          "2019-11-06",
          "2019-11-07",
          "2019-11-08",
          "2019-11-09",
          "2019-11-13",
          "2019-11-14",
          "2019-11-19",
          "2019-11-23",
          "2019-11-25",
          "2019-11-30",
          "2019-12-03",
          "2019-12-12",
          "2019-12-23",
          "2019-12-30",
          "2020-01-01",
          "2020-01-13",
          "2020-01-14",
          "2020-03-27",
          "2020-05-12",
          "2020-05-13",
          "2020-05-17"
         ],
         "y": [
          2,
          1,
          1,
          1,
          1,
          1,
          2,
          2,
          2,
          1,
          1,
          1,
          1,
          3,
          2,
          1,
          1,
          1,
          2,
          1,
          1,
          2,
          1,
          5,
          2,
          9,
          12,
          20,
          12,
          4,
          5,
          10,
          2,
          13,
          5,
          1,
          3,
          2,
          1,
          2,
          1,
          3,
          1,
          1,
          3,
          1,
          1,
          1,
          1,
          3,
          1,
          1,
          6,
          4,
          4,
          5,
          8,
          10,
          8,
          14,
          4,
          5,
          3,
          3,
          3,
          7,
          5,
          11,
          9,
          4,
          1,
          1,
          1,
          2,
          1,
          2,
          4,
          2,
          2,
          5,
          4,
          3,
          2,
          1,
          2,
          8,
          1,
          1,
          1,
          3,
          1,
          1,
          2,
          3,
          3,
          1,
          1,
          2,
          6,
          7,
          2,
          2,
          4,
          2,
          2,
          5,
          2,
          7,
          9,
          7,
          6,
          19,
          11,
          11,
          41,
          16,
          4,
          29,
          16,
          15,
          15,
          38,
          16,
          10,
          3,
          5,
          3,
          1,
          2,
          2,
          1,
          4,
          1,
          8,
          1,
          1,
          4,
          1,
          4,
          1,
          2,
          7,
          4,
          5,
          2,
          4,
          4,
          4,
          3,
          4,
          3,
          3,
          3,
          2,
          4,
          2,
          2,
          1,
          6,
          4,
          5,
          4,
          7,
          2,
          1,
          4,
          1,
          1,
          1,
          1,
          1,
          1,
          4,
          5,
          1,
          2,
          1,
          3,
          1,
          1,
          1,
          1,
          1,
          3,
          2,
          2,
          1,
          2,
          3,
          1,
          1,
          2,
          2,
          3,
          1,
          1,
          2,
          2,
          1,
          7,
          2,
          3,
          4,
          4,
          4,
          4,
          6,
          1,
          4,
          4,
          3,
          2,
          8,
          7,
          9,
          5,
          6,
          4,
          2,
          0,
          1,
          1,
          1,
          1,
          2,
          1,
          1,
          1,
          1,
          1,
          1,
          2,
          1,
          1,
          1,
          1,
          1,
          1,
          1,
          1,
          1,
          1,
          1,
          1,
          1,
          1,
          1,
          1,
          1,
          1,
          1,
          1,
          1,
          1,
          1,
          1,
          1,
          1,
          1,
          1,
          1,
          1,
          1,
          1,
          1,
          1,
          1,
          1,
          3,
          3,
          1,
          2,
          1,
          2,
          1,
          1,
          1,
          1,
          1,
          1,
          1,
          3,
          1,
          1,
          1,
          3,
          1,
          1,
          1,
          1,
          3,
          2,
          3,
          2,
          4,
          1,
          4,
          2,
          1,
          1,
          1,
          1,
          1,
          1,
          1,
          1,
          1,
          2,
          1,
          1,
          1,
          1,
          1,
          1,
          1,
          2,
          5,
          2,
          2,
          4,
          4,
          3,
          2,
          4,
          4,
          7,
          9,
          7,
          8,
          7,
          5,
          3,
          2,
          1,
          1,
          1,
          1,
          0,
          1,
          1,
          1,
          1,
          1,
          1,
          1,
          1,
          1,
          2,
          1,
          1,
          1,
          1,
          1,
          2,
          1
         ]
        },
        {
         "marker": {
          "color": "royalblue"
         },
         "name": "Nombre des tweets",
         "type": "scatter",
         "visible": true,
         "x": [
          "2010-03-01",
          "2010-08-26",
          "2010-09-12",
          "2010-09-22",
          "2010-09-23",
          "2010-09-30",
          "2010-10-04",
          "2010-10-09",
          "2010-10-11",
          "2010-10-14",
          "2010-10-15",
          "2010-10-16",
          "2010-10-18",
          "2010-10-19",
          "2010-10-21",
          "2010-10-22",
          "2010-10-23",
          "2010-10-24",
          "2010-10-25",
          "2010-10-26",
          "2010-10-27",
          "2010-10-28",
          "2010-10-29",
          "2010-10-30",
          "2010-10-31",
          "2010-11-01",
          "2010-11-03",
          "2010-11-04",
          "2010-11-05",
          "2010-11-10",
          "2010-11-13",
          "2010-11-26",
          "2011-03-25",
          "2011-04-29",
          "2011-10-09",
          "2012-03-06",
          "2012-05-03",
          "2012-05-04",
          "2012-05-14",
          "2012-06-25",
          "2012-08-14",
          "2012-08-15",
          "2012-08-18",
          "2012-08-31",
          "2012-09-05",
          "2012-09-06",
          "2012-09-07",
          "2012-09-09",
          "2012-09-17",
          "2012-09-19",
          "2012-10-22",
          "2012-10-23",
          "2012-10-24",
          "2012-10-25",
          "2012-10-26",
          "2012-10-27",
          "2012-10-28",
          "2012-10-29",
          "2012-10-30",
          "2012-10-31",
          "2012-11-01",
          "2012-11-02",
          "2012-11-03",
          "2012-11-04",
          "2012-11-05",
          "2012-11-06",
          "2012-11-07",
          "2012-11-08",
          "2012-11-09",
          "2012-11-10",
          "2012-11-11",
          "2012-11-12",
          "2012-11-13",
          "2012-11-14",
          "2012-11-15",
          "2012-11-16",
          "2012-11-17",
          "2012-11-18",
          "2012-11-19",
          "2012-11-20",
          "2012-11-21",
          "2012-11-22",
          "2012-11-23",
          "2012-11-24",
          "2012-11-25",
          "2012-11-26",
          "2012-11-27",
          "2012-11-28",
          "2012-12-03",
          "2012-12-04",
          "2012-12-06",
          "2012-12-16",
          "2012-12-26",
          "2012-12-28",
          "2013-01-17",
          "2013-02-20",
          "2013-04-04",
          "2013-04-24",
          "2013-05-23",
          "2013-11-21",
          "2013-12-16",
          "2014-03-25",
          "2014-03-26",
          "2014-03-29",
          "2014-03-30",
          "2014-05-14",
          "2014-05-24",
          "2014-05-25",
          "2014-05-26",
          "2014-05-27",
          "2014-06-03",
          "2014-07-27",
          "2014-07-31",
          "2014-09-18",
          "2014-09-27",
          "2014-10-02",
          "2014-10-05",
          "2014-10-07",
          "2014-10-19",
          "2014-10-24",
          "2014-11-07",
          "2014-11-11",
          "2014-11-12",
          "2014-11-13",
          "2014-11-14",
          "2014-11-15",
          "2014-11-21",
          "2014-11-25",
          "2014-11-26",
          "2014-11-27",
          "2014-11-28",
          "2014-11-29",
          "2014-11-30",
          "2014-12-01",
          "2014-12-02",
          "2014-12-03",
          "2014-12-04",
          "2014-12-05",
          "2014-12-06",
          "2014-12-07",
          "2014-12-08",
          "2014-12-09",
          "2014-12-10",
          "2014-12-12",
          "2014-12-14",
          "2014-12-15",
          "2014-12-16",
          "2014-12-18",
          "2014-12-20",
          "2015-01-15",
          "2015-04-11",
          "2015-04-18",
          "2015-04-27",
          "2015-05-13",
          "2015-05-14",
          "2015-05-15",
          "2015-05-27",
          "2015-05-31",
          "2015-08-27",
          "2015-09-01",
          "2015-09-02",
          "2015-09-11",
          "2015-09-12",
          "2015-09-13",
          "2015-09-14",
          "2015-09-15",
          "2015-09-16",
          "2015-09-21",
          "2015-09-22",
          "2015-09-23",
          "2015-09-24",
          "2015-09-27",
          "2015-09-29",
          "2015-10-09",
          "2015-10-13",
          "2015-10-19",
          "2015-10-20",
          "2015-10-21",
          "2015-10-26",
          "2015-10-28",
          "2015-11-03",
          "2015-11-04",
          "2015-11-05",
          "2015-11-06",
          "2015-11-07",
          "2015-11-08",
          "2015-11-09",
          "2015-11-10",
          "2015-11-11",
          "2015-11-12",
          "2015-11-13",
          "2015-11-14",
          "2015-11-15",
          "2015-11-16",
          "2015-11-17",
          "2015-11-18",
          "2015-11-19",
          "2015-11-20",
          "2015-11-21",
          "2015-11-22",
          "2015-11-23",
          "2015-11-24",
          "2015-11-25",
          "2015-11-26",
          "2015-11-27",
          "2015-11-28",
          "2015-11-29",
          "2015-11-30",
          "2015-12-01",
          "2015-12-02",
          "2015-12-03",
          "2015-12-05",
          "2015-12-07",
          "2015-12-10",
          "2015-12-15",
          "2015-12-16",
          "2015-12-23",
          "2016-01-03",
          "2016-02-06",
          "2016-02-08",
          "2016-02-13",
          "2016-02-16",
          "2016-02-24",
          "2016-03-21",
          "2016-04-18",
          "2016-04-20",
          "2016-05-20",
          "2016-06-02",
          "2016-06-24",
          "2016-07-12",
          "2016-07-14",
          "2016-08-02",
          "2016-08-18",
          "2016-08-19",
          "2016-08-20",
          "2016-08-21",
          "2016-08-28",
          "2016-09-07",
          "2016-09-08",
          "2016-09-20",
          "2016-09-21",
          "2016-10-03",
          "2016-10-09",
          "2016-10-11",
          "2016-10-12",
          "2016-10-18",
          "2016-10-20",
          "2016-10-21",
          "2016-10-22",
          "2016-10-23",
          "2016-10-24",
          "2016-10-25",
          "2016-10-26",
          "2016-10-27",
          "2016-10-28",
          "2016-10-29",
          "2016-10-30",
          "2016-10-31",
          "2016-11-01",
          "2016-11-02",
          "2016-11-03",
          "2016-11-04",
          "2016-11-05",
          "2016-11-06",
          "2016-11-07",
          "2016-11-08",
          "2016-11-10",
          "2016-11-11",
          "2016-11-12",
          "2016-11-13",
          "2016-11-14",
          "2016-11-15",
          "2016-11-18",
          "2016-11-19",
          "2016-11-20",
          "2016-11-21",
          "2016-11-22",
          "2016-11-23",
          "2016-11-24",
          "2016-11-30",
          "2016-12-06",
          "2016-12-07",
          "2016-12-12",
          "2016-12-14",
          "2016-12-20",
          "2016-12-22",
          "2016-12-23",
          "2017-01-04",
          "2017-01-11",
          "2017-01-15",
          "2017-01-28",
          "2017-02-07",
          "2017-02-08",
          "2017-02-10",
          "2017-02-13",
          "2017-02-14",
          "2017-02-24",
          "2017-03-11",
          "2017-04-08",
          "2017-05-24",
          "2017-05-26",
          "2017-05-29",
          "2017-06-16",
          "2017-06-26",
          "2017-07-01",
          "2017-08-16",
          "2017-09-19",
          "2017-09-23",
          "2017-09-24",
          "2017-09-25",
          "2017-09-27",
          "2017-09-28",
          "2017-09-29",
          "2017-09-30",
          "2017-10-02",
          "2017-10-03",
          "2017-10-05",
          "2017-10-06",
          "2017-10-07",
          "2017-10-08",
          "2017-10-09",
          "2017-10-11",
          "2017-10-13",
          "2017-10-14",
          "2017-10-15",
          "2017-10-16",
          "2017-10-17",
          "2017-10-18",
          "2017-10-19",
          "2017-10-20",
          "2017-10-21",
          "2017-10-22",
          "2017-10-23",
          "2017-10-24",
          "2017-10-25",
          "2017-10-26",
          "2017-10-27",
          "2017-10-28",
          "2017-10-29",
          "2017-10-30",
          "2017-10-31",
          "2017-11-01",
          "2017-11-02",
          "2017-11-03",
          "2017-11-04",
          "2017-11-05",
          "2017-11-06",
          "2017-11-07",
          "2017-11-08",
          "2017-11-09",
          "2017-11-10",
          "2017-11-11",
          "2017-11-12",
          "2017-11-13",
          "2017-11-14",
          "2017-11-15",
          "2017-11-16",
          "2017-11-17",
          "2017-11-18",
          "2017-11-19",
          "2017-11-20",
          "2017-11-23",
          "2017-11-24",
          "2017-11-25",
          "2017-11-26",
          "2017-11-27",
          "2017-11-29",
          "2017-11-30",
          "2017-12-01",
          "2017-12-02",
          "2017-12-03",
          "2017-12-05",
          "2017-12-06",
          "2017-12-07",
          "2017-12-10",
          "2017-12-11",
          "2017-12-12",
          "2017-12-13",
          "2017-12-15",
          "2017-12-16",
          "2017-12-17",
          "2017-12-18",
          "2017-12-19",
          "2017-12-21",
          "2017-12-22",
          "2017-12-23",
          "2017-12-27",
          "2017-12-28",
          "2017-12-29",
          "2017-12-30",
          "2018-01-02",
          "2018-01-03",
          "2018-01-09",
          "2018-01-13",
          "2018-01-24",
          "2018-01-26",
          "2018-01-27",
          "2018-02-04",
          "2018-03-20",
          "2018-03-30",
          "2018-04-18",
          "2018-05-01",
          "2018-05-07",
          "2018-05-12",
          "2018-05-14",
          "2018-05-15",
          "2018-05-19",
          "2018-05-22",
          "2018-05-29",
          "2018-06-23",
          "2018-06-27",
          "2018-07-09",
          "2018-08-07",
          "2018-08-08",
          "2018-08-29",
          "2018-08-30",
          "2018-08-31",
          "2018-09-01",
          "2018-09-07",
          "2018-09-14",
          "2018-09-15",
          "2018-09-16",
          "2018-09-17",
          "2018-09-18",
          "2018-09-21",
          "2018-09-24",
          "2018-09-25",
          "2018-09-26",
          "2018-09-27",
          "2018-09-29",
          "2018-10-02",
          "2018-10-03",
          "2018-10-04",
          "2018-10-05",
          "2018-10-07",
          "2018-10-17",
          "2018-10-18",
          "2018-10-19",
          "2018-10-23",
          "2018-10-25",
          "2018-10-26",
          "2018-10-27",
          "2018-10-28",
          "2018-10-29",
          "2018-10-30",
          "2018-10-31",
          "2018-11-01",
          "2018-11-02",
          "2018-11-03",
          "2018-11-04",
          "2018-11-05",
          "2018-11-06",
          "2018-11-07",
          "2018-11-08",
          "2018-11-09",
          "2018-11-10",
          "2018-11-11",
          "2018-11-12",
          "2018-11-13",
          "2018-11-14",
          "2018-11-19",
          "2018-11-20",
          "2018-11-25",
          "2018-11-26",
          "2018-12-16",
          "2019-01-03",
          "2019-01-10",
          "2019-01-27",
          "2019-01-31",
          "2019-02-01",
          "2019-02-08",
          "2019-02-12",
          "2019-02-13",
          "2019-02-15",
          "2019-02-16",
          "2019-02-21",
          "2019-02-27",
          "2019-02-28",
          "2019-03-02",
          "2019-03-15",
          "2019-04-01",
          "2019-04-07",
          "2019-04-17",
          "2019-04-22",
          "2019-04-23",
          "2019-04-24",
          "2019-04-28",
          "2019-04-30",
          "2019-05-04",
          "2019-05-08",
          "2019-05-10",
          "2019-05-20",
          "2019-05-22",
          "2019-05-23",
          "2019-05-24",
          "2019-05-27",
          "2019-06-01",
          "2019-06-25",
          "2019-07-03",
          "2019-07-22",
          "2019-08-05",
          "2019-08-16",
          "2019-08-17",
          "2019-08-21",
          "2019-08-29",
          "2019-08-30",
          "2019-09-02",
          "2019-09-03",
          "2019-09-06",
          "2019-09-09",
          "2019-09-20",
          "2019-09-26",
          "2019-10-01",
          "2019-10-05",
          "2019-10-08",
          "2019-10-09",
          "2019-10-10",
          "2019-10-17",
          "2019-10-18",
          "2019-10-19",
          "2019-10-20",
          "2019-10-21",
          "2019-10-22",
          "2019-10-23",
          "2019-10-24",
          "2019-10-25",
          "2019-10-26",
          "2019-10-27",
          "2019-10-28",
          "2019-10-29",
          "2019-10-30",
          "2019-10-31",
          "2019-11-01",
          "2019-11-02",
          "2019-11-03",
          "2019-11-04",
          "2019-11-05",
          "2019-11-06",
          "2019-11-07",
          "2019-11-08",
          "2019-11-09",
          "2019-11-10",
          "2019-11-13",
          "2019-11-16",
          "2019-11-19",
          "2019-11-27",
          "2019-11-29",
          "2019-12-01",
          "2019-12-04",
          "2019-12-06",
          "2019-12-07",
          "2019-12-09",
          "2019-12-15",
          "2019-12-17",
          "2019-12-19",
          "2020-01-06",
          "2020-01-07",
          "2020-01-16",
          "2020-01-24",
          "2020-02-06",
          "2020-03-01",
          "2020-04-04",
          "2020-04-07",
          "2020-04-14",
          "2020-04-18",
          "2020-05-04",
          "2020-05-13",
          "2020-05-14",
          "2020-05-16",
          "2020-05-18"
         ],
         "y": [
          1,
          1,
          1,
          1,
          1,
          2,
          1,
          1,
          1,
          3,
          2,
          1,
          3,
          1,
          2,
          5,
          16,
          3,
          5,
          10,
          9,
          6,
          2,
          4,
          9,
          17,
          7,
          1,
          4,
          1,
          1,
          1,
          1,
          1,
          3,
          5,
          1,
          3,
          1,
          1,
          3,
          6,
          1,
          1,
          2,
          2,
          2,
          2,
          1,
          10,
          1,
          6,
          15,
          12,
          1,
          4,
          8,
          4,
          3,
          1,
          5,
          2,
          2,
          2,
          14,
          1,
          2,
          8,
          11,
          3,
          3,
          1,
          6,
          12,
          9,
          7,
          13,
          8,
          21,
          16,
          6,
          7,
          13,
          40,
          23,
          5,
          2,
          2,
          2,
          1,
          2,
          2,
          1,
          1,
          1,
          1,
          1,
          1,
          1,
          1,
          1,
          1,
          2,
          1,
          1,
          3,
          4,
          7,
          5,
          1,
          2,
          2,
          1,
          8,
          10,
          4,
          2,
          4,
          1,
          8,
          3,
          5,
          3,
          4,
          6,
          11,
          17,
          5,
          3,
          4,
          6,
          24,
          9,
          21,
          5,
          3,
          4,
          11,
          14,
          18,
          5,
          6,
          1,
          1,
          1,
          1,
          2,
          3,
          1,
          1,
          3,
          1,
          2,
          5,
          3,
          2,
          2,
          2,
          1,
          1,
          1,
          2,
          2,
          2,
          4,
          1,
          2,
          2,
          3,
          2,
          1,
          1,
          1,
          9,
          4,
          4,
          2,
          1,
          1,
          1,
          32,
          17,
          6,
          13,
          2,
          4,
          8,
          3,
          4,
          5,
          1,
          1,
          1,
          1,
          1,
          8,
          7,
          9,
          54,
          40,
          21,
          42,
          66,
          29,
          37,
          50,
          38,
          3,
          5,
          9,
          6,
          3,
          3,
          2,
          1,
          1,
          2,
          1,
          1,
          1,
          1,
          1,
          1,
          1,
          2,
          1,
          1,
          1,
          1,
          1,
          1,
          1,
          1,
          2,
          1,
          1,
          2,
          5,
          1,
          2,
          1,
          1,
          1,
          8,
          3,
          3,
          10,
          3,
          7,
          2,
          7,
          14,
          17,
          20,
          30,
          46,
          35,
          16,
          25,
          26,
          17,
          30,
          54,
          44,
          21,
          6,
          10,
          1,
          10,
          7,
          12,
          1,
          1,
          1,
          2,
          1,
          1,
          1,
          1,
          1,
          1,
          1,
          1,
          1,
          1,
          1,
          1,
          1,
          1,
          1,
          1,
          1,
          1,
          1,
          2,
          1,
          2,
          1,
          1,
          2,
          1,
          2,
          1,
          1,
          1,
          1,
          1,
          1,
          1,
          4,
          1,
          1,
          2,
          2,
          2,
          5,
          10,
          2,
          2,
          1,
          8,
          1,
          1,
          2,
          4,
          7,
          2,
          2,
          30,
          17,
          4,
          6,
          3,
          3,
          2,
          5,
          4,
          6,
          6,
          4,
          8,
          13,
          10,
          13,
          45,
          32,
          39,
          23,
          43,
          37,
          23,
          48,
          11,
          10,
          5,
          9,
          3,
          4,
          8,
          3,
          1,
          1,
          2,
          5,
          5,
          1,
          5,
          2,
          2,
          1,
          1,
          3,
          3,
          2,
          3,
          2,
          2,
          3,
          3,
          1,
          2,
          2,
          1,
          3,
          1,
          5,
          1,
          4,
          1,
          2,
          1,
          1,
          1,
          1,
          2,
          1,
          1,
          1,
          1,
          1,
          2,
          1,
          1,
          1,
          1,
          1,
          1,
          1,
          1,
          1,
          2,
          1,
          1,
          1,
          1,
          1,
          1,
          0,
          1,
          3,
          1,
          1,
          1,
          2,
          2,
          1,
          1,
          2,
          4,
          4,
          1,
          2,
          1,
          1,
          1,
          2,
          5,
          1,
          3,
          4,
          1,
          2,
          3,
          5,
          11,
          11,
          4,
          14,
          27,
          19,
          22,
          25,
          13,
          9,
          6,
          33,
          12,
          12,
          1,
          1,
          1,
          1,
          2,
          1,
          1,
          1,
          1,
          1,
          1,
          1,
          1,
          1,
          2,
          1,
          1,
          1,
          1,
          1,
          1,
          1,
          1,
          1,
          1,
          1,
          1,
          1,
          2,
          2,
          1,
          1,
          1,
          1,
          1,
          1,
          1,
          2,
          1,
          1,
          1,
          1,
          1,
          10,
          2,
          6,
          1,
          1,
          1,
          2,
          1,
          1,
          1,
          1,
          1,
          2,
          1,
          1,
          1,
          2,
          10,
          2,
          4,
          10,
          4,
          1,
          9,
          5,
          4,
          40,
          18,
          29,
          21,
          13,
          14,
          48,
          23,
          9,
          7,
          1,
          2,
          1,
          2,
          0,
          1,
          2,
          6,
          2,
          5,
          1,
          1,
          1,
          1,
          3,
          1,
          1,
          1,
          1,
          1,
          1,
          1,
          1,
          1,
          1,
          1,
          2,
          1,
          2,
          4,
          1,
          1,
          1
         ]
        }
       ],
       "layout": {
        "font": {
         "family": " Gravitas One, cursive",
         "size": 17
        },
        "template": {
         "data": {
          "bar": [
           {
            "error_x": {
             "color": "#2a3f5f"
            },
            "error_y": {
             "color": "#2a3f5f"
            },
            "marker": {
             "line": {
              "color": "white",
              "width": 0.5
             }
            },
            "type": "bar"
           }
          ],
          "barpolar": [
           {
            "marker": {
             "line": {
              "color": "white",
              "width": 0.5
             }
            },
            "type": "barpolar"
           }
          ],
          "carpet": [
           {
            "aaxis": {
             "endlinecolor": "#2a3f5f",
             "gridcolor": "#C8D4E3",
             "linecolor": "#C8D4E3",
             "minorgridcolor": "#C8D4E3",
             "startlinecolor": "#2a3f5f"
            },
            "baxis": {
             "endlinecolor": "#2a3f5f",
             "gridcolor": "#C8D4E3",
             "linecolor": "#C8D4E3",
             "minorgridcolor": "#C8D4E3",
             "startlinecolor": "#2a3f5f"
            },
            "type": "carpet"
           }
          ],
          "choropleth": [
           {
            "colorbar": {
             "outlinewidth": 0,
             "ticks": ""
            },
            "type": "choropleth"
           }
          ],
          "contour": [
           {
            "colorbar": {
             "outlinewidth": 0,
             "ticks": ""
            },
            "colorscale": [
             [
              0,
              "#0d0887"
             ],
             [
              0.1111111111111111,
              "#46039f"
             ],
             [
              0.2222222222222222,
              "#7201a8"
             ],
             [
              0.3333333333333333,
              "#9c179e"
             ],
             [
              0.4444444444444444,
              "#bd3786"
             ],
             [
              0.5555555555555556,
              "#d8576b"
             ],
             [
              0.6666666666666666,
              "#ed7953"
             ],
             [
              0.7777777777777778,
              "#fb9f3a"
             ],
             [
              0.8888888888888888,
              "#fdca26"
             ],
             [
              1,
              "#f0f921"
             ]
            ],
            "type": "contour"
           }
          ],
          "contourcarpet": [
           {
            "colorbar": {
             "outlinewidth": 0,
             "ticks": ""
            },
            "type": "contourcarpet"
           }
          ],
          "heatmap": [
           {
            "colorbar": {
             "outlinewidth": 0,
             "ticks": ""
            },
            "colorscale": [
             [
              0,
              "#0d0887"
             ],
             [
              0.1111111111111111,
              "#46039f"
             ],
             [
              0.2222222222222222,
              "#7201a8"
             ],
             [
              0.3333333333333333,
              "#9c179e"
             ],
             [
              0.4444444444444444,
              "#bd3786"
             ],
             [
              0.5555555555555556,
              "#d8576b"
             ],
             [
              0.6666666666666666,
              "#ed7953"
             ],
             [
              0.7777777777777778,
              "#fb9f3a"
             ],
             [
              0.8888888888888888,
              "#fdca26"
             ],
             [
              1,
              "#f0f921"
             ]
            ],
            "type": "heatmap"
           }
          ],
          "heatmapgl": [
           {
            "colorbar": {
             "outlinewidth": 0,
             "ticks": ""
            },
            "colorscale": [
             [
              0,
              "#0d0887"
             ],
             [
              0.1111111111111111,
              "#46039f"
             ],
             [
              0.2222222222222222,
              "#7201a8"
             ],
             [
              0.3333333333333333,
              "#9c179e"
             ],
             [
              0.4444444444444444,
              "#bd3786"
             ],
             [
              0.5555555555555556,
              "#d8576b"
             ],
             [
              0.6666666666666666,
              "#ed7953"
             ],
             [
              0.7777777777777778,
              "#fb9f3a"
             ],
             [
              0.8888888888888888,
              "#fdca26"
             ],
             [
              1,
              "#f0f921"
             ]
            ],
            "type": "heatmapgl"
           }
          ],
          "histogram": [
           {
            "marker": {
             "colorbar": {
              "outlinewidth": 0,
              "ticks": ""
             }
            },
            "type": "histogram"
           }
          ],
          "histogram2d": [
           {
            "colorbar": {
             "outlinewidth": 0,
             "ticks": ""
            },
            "colorscale": [
             [
              0,
              "#0d0887"
             ],
             [
              0.1111111111111111,
              "#46039f"
             ],
             [
              0.2222222222222222,
              "#7201a8"
             ],
             [
              0.3333333333333333,
              "#9c179e"
             ],
             [
              0.4444444444444444,
              "#bd3786"
             ],
             [
              0.5555555555555556,
              "#d8576b"
             ],
             [
              0.6666666666666666,
              "#ed7953"
             ],
             [
              0.7777777777777778,
              "#fb9f3a"
             ],
             [
              0.8888888888888888,
              "#fdca26"
             ],
             [
              1,
              "#f0f921"
             ]
            ],
            "type": "histogram2d"
           }
          ],
          "histogram2dcontour": [
           {
            "colorbar": {
             "outlinewidth": 0,
             "ticks": ""
            },
            "colorscale": [
             [
              0,
              "#0d0887"
             ],
             [
              0.1111111111111111,
              "#46039f"
             ],
             [
              0.2222222222222222,
              "#7201a8"
             ],
             [
              0.3333333333333333,
              "#9c179e"
             ],
             [
              0.4444444444444444,
              "#bd3786"
             ],
             [
              0.5555555555555556,
              "#d8576b"
             ],
             [
              0.6666666666666666,
              "#ed7953"
             ],
             [
              0.7777777777777778,
              "#fb9f3a"
             ],
             [
              0.8888888888888888,
              "#fdca26"
             ],
             [
              1,
              "#f0f921"
             ]
            ],
            "type": "histogram2dcontour"
           }
          ],
          "mesh3d": [
           {
            "colorbar": {
             "outlinewidth": 0,
             "ticks": ""
            },
            "type": "mesh3d"
           }
          ],
          "parcoords": [
           {
            "line": {
             "colorbar": {
              "outlinewidth": 0,
              "ticks": ""
             }
            },
            "type": "parcoords"
           }
          ],
          "pie": [
           {
            "automargin": true,
            "type": "pie"
           }
          ],
          "scatter": [
           {
            "marker": {
             "colorbar": {
              "outlinewidth": 0,
              "ticks": ""
             }
            },
            "type": "scatter"
           }
          ],
          "scatter3d": [
           {
            "line": {
             "colorbar": {
              "outlinewidth": 0,
              "ticks": ""
             }
            },
            "marker": {
             "colorbar": {
              "outlinewidth": 0,
              "ticks": ""
             }
            },
            "type": "scatter3d"
           }
          ],
          "scattercarpet": [
           {
            "marker": {
             "colorbar": {
              "outlinewidth": 0,
              "ticks": ""
             }
            },
            "type": "scattercarpet"
           }
          ],
          "scattergeo": [
           {
            "marker": {
             "colorbar": {
              "outlinewidth": 0,
              "ticks": ""
             }
            },
            "type": "scattergeo"
           }
          ],
          "scattergl": [
           {
            "marker": {
             "colorbar": {
              "outlinewidth": 0,
              "ticks": ""
             }
            },
            "type": "scattergl"
           }
          ],
          "scattermapbox": [
           {
            "marker": {
             "colorbar": {
              "outlinewidth": 0,
              "ticks": ""
             }
            },
            "type": "scattermapbox"
           }
          ],
          "scatterpolar": [
           {
            "marker": {
             "colorbar": {
              "outlinewidth": 0,
              "ticks": ""
             }
            },
            "type": "scatterpolar"
           }
          ],
          "scatterpolargl": [
           {
            "marker": {
             "colorbar": {
              "outlinewidth": 0,
              "ticks": ""
             }
            },
            "type": "scatterpolargl"
           }
          ],
          "scatterternary": [
           {
            "marker": {
             "colorbar": {
              "outlinewidth": 0,
              "ticks": ""
             }
            },
            "type": "scatterternary"
           }
          ],
          "surface": [
           {
            "colorbar": {
             "outlinewidth": 0,
             "ticks": ""
            },
            "colorscale": [
             [
              0,
              "#0d0887"
             ],
             [
              0.1111111111111111,
              "#46039f"
             ],
             [
              0.2222222222222222,
              "#7201a8"
             ],
             [
              0.3333333333333333,
              "#9c179e"
             ],
             [
              0.4444444444444444,
              "#bd3786"
             ],
             [
              0.5555555555555556,
              "#d8576b"
             ],
             [
              0.6666666666666666,
              "#ed7953"
             ],
             [
              0.7777777777777778,
              "#fb9f3a"
             ],
             [
              0.8888888888888888,
              "#fdca26"
             ],
             [
              1,
              "#f0f921"
             ]
            ],
            "type": "surface"
           }
          ],
          "table": [
           {
            "cells": {
             "fill": {
              "color": "#EBF0F8"
             },
             "line": {
              "color": "white"
             }
            },
            "header": {
             "fill": {
              "color": "#C8D4E3"
             },
             "line": {
              "color": "white"
             }
            },
            "type": "table"
           }
          ]
         },
         "layout": {
          "annotationdefaults": {
           "arrowcolor": "#2a3f5f",
           "arrowhead": 0,
           "arrowwidth": 1
          },
          "coloraxis": {
           "colorbar": {
            "outlinewidth": 0,
            "ticks": ""
           }
          },
          "colorscale": {
           "diverging": [
            [
             0,
             "#8e0152"
            ],
            [
             0.1,
             "#c51b7d"
            ],
            [
             0.2,
             "#de77ae"
            ],
            [
             0.3,
             "#f1b6da"
            ],
            [
             0.4,
             "#fde0ef"
            ],
            [
             0.5,
             "#f7f7f7"
            ],
            [
             0.6,
             "#e6f5d0"
            ],
            [
             0.7,
             "#b8e186"
            ],
            [
             0.8,
             "#7fbc41"
            ],
            [
             0.9,
             "#4d9221"
            ],
            [
             1,
             "#276419"
            ]
           ],
           "sequential": [
            [
             0,
             "#0d0887"
            ],
            [
             0.1111111111111111,
             "#46039f"
            ],
            [
             0.2222222222222222,
             "#7201a8"
            ],
            [
             0.3333333333333333,
             "#9c179e"
            ],
            [
             0.4444444444444444,
             "#bd3786"
            ],
            [
             0.5555555555555556,
             "#d8576b"
            ],
            [
             0.6666666666666666,
             "#ed7953"
            ],
            [
             0.7777777777777778,
             "#fb9f3a"
            ],
            [
             0.8888888888888888,
             "#fdca26"
            ],
            [
             1,
             "#f0f921"
            ]
           ],
           "sequentialminus": [
            [
             0,
             "#0d0887"
            ],
            [
             0.1111111111111111,
             "#46039f"
            ],
            [
             0.2222222222222222,
             "#7201a8"
            ],
            [
             0.3333333333333333,
             "#9c179e"
            ],
            [
             0.4444444444444444,
             "#bd3786"
            ],
            [
             0.5555555555555556,
             "#d8576b"
            ],
            [
             0.6666666666666666,
             "#ed7953"
            ],
            [
             0.7777777777777778,
             "#fb9f3a"
            ],
            [
             0.8888888888888888,
             "#fdca26"
            ],
            [
             1,
             "#f0f921"
            ]
           ]
          },
          "colorway": [
           "#636efa",
           "#EF553B",
           "#00cc96",
           "#ab63fa",
           "#FFA15A",
           "#19d3f3",
           "#FF6692",
           "#B6E880",
           "#FF97FF",
           "#FECB52"
          ],
          "font": {
           "color": "#2a3f5f"
          },
          "geo": {
           "bgcolor": "white",
           "lakecolor": "white",
           "landcolor": "white",
           "showlakes": true,
           "showland": true,
           "subunitcolor": "#C8D4E3"
          },
          "hoverlabel": {
           "align": "left"
          },
          "hovermode": "closest",
          "mapbox": {
           "style": "light"
          },
          "paper_bgcolor": "white",
          "plot_bgcolor": "white",
          "polar": {
           "angularaxis": {
            "gridcolor": "#EBF0F8",
            "linecolor": "#EBF0F8",
            "ticks": ""
           },
           "bgcolor": "white",
           "radialaxis": {
            "gridcolor": "#EBF0F8",
            "linecolor": "#EBF0F8",
            "ticks": ""
           }
          },
          "scene": {
           "xaxis": {
            "backgroundcolor": "white",
            "gridcolor": "#DFE8F3",
            "gridwidth": 2,
            "linecolor": "#EBF0F8",
            "showbackground": true,
            "ticks": "",
            "zerolinecolor": "#EBF0F8"
           },
           "yaxis": {
            "backgroundcolor": "white",
            "gridcolor": "#DFE8F3",
            "gridwidth": 2,
            "linecolor": "#EBF0F8",
            "showbackground": true,
            "ticks": "",
            "zerolinecolor": "#EBF0F8"
           },
           "zaxis": {
            "backgroundcolor": "white",
            "gridcolor": "#DFE8F3",
            "gridwidth": 2,
            "linecolor": "#EBF0F8",
            "showbackground": true,
            "ticks": "",
            "zerolinecolor": "#EBF0F8"
           }
          },
          "shapedefaults": {
           "line": {
            "color": "#2a3f5f"
           }
          },
          "ternary": {
           "aaxis": {
            "gridcolor": "#DFE8F3",
            "linecolor": "#A2B1C6",
            "ticks": ""
           },
           "baxis": {
            "gridcolor": "#DFE8F3",
            "linecolor": "#A2B1C6",
            "ticks": ""
           },
           "bgcolor": "white",
           "caxis": {
            "gridcolor": "#DFE8F3",
            "linecolor": "#A2B1C6",
            "ticks": ""
           }
          },
          "title": {
           "x": 0.05
          },
          "xaxis": {
           "automargin": true,
           "gridcolor": "#EBF0F8",
           "linecolor": "#EBF0F8",
           "ticks": "",
           "title": {
            "standoff": 15
           },
           "zerolinecolor": "#EBF0F8",
           "zerolinewidth": 2
          },
          "yaxis": {
           "automargin": true,
           "gridcolor": "#EBF0F8",
           "linecolor": "#EBF0F8",
           "ticks": "",
           "title": {
            "standoff": 15
           },
           "zerolinecolor": "#EBF0F8",
           "zerolinewidth": 2
          }
         }
        },
        "title": {
         "text": " "
        },
        "updatemenus": [
         {
          "buttons": [
           {
            "args": [
             {
              "visible": [
               true,
               false
              ]
             }
            ],
            "label": "                                                              Nombre de posts                                                            ",
            "method": "update"
           },
           {
            "args": [
             {
              "visible": [
               false,
               true
              ]
             }
            ],
            "label": "                                                              Nombre des tweets",
            "method": "update"
           }
          ],
          "x": 1.65,
          "y": 1.3
         }
        ]
       }
      },
      "text/html": [
       "<div>\n",
       "        \n",
       "        \n",
       "            <div id=\"d3aa58a0-6709-44ea-bcc9-d0aa1f5dbf40\" class=\"plotly-graph-div\" style=\"height:525px; width:100%;\"></div>\n",
       "            <script type=\"text/javascript\">\n",
       "                require([\"plotly\"], function(Plotly) {\n",
       "                    window.PLOTLYENV=window.PLOTLYENV || {};\n",
       "                    \n",
       "                if (document.getElementById(\"d3aa58a0-6709-44ea-bcc9-d0aa1f5dbf40\")) {\n",
       "                    Plotly.newPlot(\n",
       "                        'd3aa58a0-6709-44ea-bcc9-d0aa1f5dbf40',\n",
       "                        [{\"marker\": {\"color\": \"Pink\"}, \"name\": \"Nombre de posts\", \"type\": \"scatter\", \"visible\": true, \"x\": [\"2015-10-19\", \"2015-10-20\", \"2015-10-23\", \"2015-10-26\", \"2015-10-27\", \"2015-10-28\", \"2015-10-29\", \"2015-10-30\", \"2015-10-31\", \"2015-11-01\", \"2015-11-03\", \"2015-11-04\", \"2015-11-05\", \"2015-11-09\", \"2015-11-10\", \"2015-11-11\", \"2015-11-12\", \"2015-11-15\", \"2015-11-16\", \"2015-11-17\", \"2015-11-18\", \"2015-11-19\", \"2015-11-20\", \"2015-11-21\", \"2015-11-23\", \"2015-11-24\", \"2015-11-25\", \"2015-11-26\", \"2015-11-27\", \"2015-11-28\", \"2015-11-29\", \"2015-11-30\", \"2015-12-01\", \"2015-12-02\", \"2015-12-03\", \"2015-12-06\", \"2015-12-07\", \"2015-12-08\", \"2015-12-09\", \"2015-12-10\", \"2015-12-11\", \"2015-12-12\", \"2015-12-17\", \"2015-12-20\", \"2015-12-30\", \"2016-01-24\", \"2016-02-18\", \"2016-04-18\", \"2016-04-19\", \"2016-04-22\", \"2016-04-24\", \"2016-05-03\", \"2016-10-20\", \"2016-10-22\", \"2016-10-23\", \"2016-10-24\", \"2016-10-25\", \"2016-10-26\", \"2016-10-27\", \"2016-10-28\", \"2016-10-29\", \"2016-10-30\", \"2016-10-31\", \"2016-11-01\", \"2016-11-02\", \"2016-11-03\", \"2016-11-04\", \"2016-11-05\", \"2016-11-06\", \"2017-08-24\", \"2017-08-25\", \"2017-09-01\", \"2017-09-14\", \"2017-09-21\", \"2017-09-23\", \"2017-09-24\", \"2017-09-25\", \"2017-09-26\", \"2017-09-27\", \"2017-09-29\", \"2017-09-30\", \"2017-10-01\", \"2017-10-02\", \"2017-10-03\", \"2017-10-04\", \"2017-10-05\", \"2017-10-06\", \"2017-10-07\", \"2017-10-08\", \"2017-10-09\", \"2017-10-10\", \"2017-10-11\", \"2017-10-13\", \"2017-10-14\", \"2017-10-15\", \"2017-10-16\", \"2017-10-17\", \"2017-10-18\", \"2017-10-19\", \"2017-10-20\", \"2017-10-21\", \"2017-10-22\", \"2017-10-23\", \"2017-10-24\", \"2017-10-25\", \"2017-10-26\", \"2017-10-27\", \"2017-10-28\", \"2017-10-29\", \"2017-10-30\", \"2017-10-31\", \"2017-11-01\", \"2017-11-02\", \"2017-11-03\", \"2017-11-04\", \"2017-11-05\", \"2017-11-06\", \"2017-11-07\", \"2017-11-08\", \"2017-11-09\", \"2017-11-10\", \"2017-11-11\", \"2017-11-12\", \"2017-11-13\", \"2017-11-14\", \"2017-11-15\", \"2017-11-16\", \"2017-11-17\", \"2017-11-19\", \"2017-11-20\", \"2017-11-21\", \"2017-11-22\", \"2017-11-23\", \"2017-11-24\", \"2017-11-26\", \"2017-11-27\", \"2017-11-28\", \"2017-11-29\", \"2017-12-01\", \"2017-12-02\", \"2017-12-03\", \"2017-12-05\", \"2017-12-06\", \"2017-12-07\", \"2017-12-09\", \"2017-12-10\", \"2017-12-11\", \"2017-12-12\", \"2017-12-14\", \"2017-12-15\", \"2017-12-16\", \"2017-12-17\", \"2017-12-18\", \"2017-12-19\", \"2017-12-21\", \"2017-12-22\", \"2017-12-23\", \"2017-12-24\", \"2017-12-25\", \"2017-12-27\", \"2017-12-28\", \"2017-12-29\", \"2017-12-30\", \"2017-12-31\", \"2018-01-10\", \"2018-01-23\", \"2018-01-29\", \"2018-02-17\", \"2018-02-21\", \"2018-04-03\", \"2018-04-07\", \"2018-04-17\", \"2018-04-19\", \"2018-04-23\", \"2018-04-24\", \"2018-04-25\", \"2018-05-02\", \"2018-05-15\", \"2018-05-16\", \"2018-05-17\", \"2018-07-02\", \"2018-08-02\", \"2018-08-03\", \"2018-08-18\", \"2018-08-22\", \"2018-08-29\", \"2018-09-05\", \"2018-09-13\", \"2018-09-14\", \"2018-09-19\", \"2018-09-21\", \"2018-09-25\", \"2018-09-28\", \"2018-09-29\", \"2018-09-30\", \"2018-10-02\", \"2018-10-04\", \"2018-10-05\", \"2018-10-06\", \"2018-10-17\", \"2018-10-23\", \"2018-10-24\", \"2018-10-25\", \"2018-10-26\", \"2018-10-27\", \"2018-10-28\", \"2018-10-29\", \"2018-10-30\", \"2018-10-31\", \"2018-11-01\", \"2018-11-02\", \"2018-11-03\", \"2018-11-04\", \"2018-11-05\", \"2018-11-06\", \"2018-11-07\", \"2018-11-08\", \"2018-11-09\", \"2018-11-10\", \"2018-11-11\", \"2018-11-13\", \"2018-11-14\", \"2018-11-26\", \"2018-11-30\", \"2018-12-03\", \"2018-12-10\", \"2018-12-24\", \"2018-12-26\", \"2019-02-02\", \"2019-02-08\", \"2019-02-10\", \"2019-02-11\", \"2019-02-12\", \"2019-02-14\", \"2019-02-15\", \"2019-02-18\", \"2019-02-21\", \"2019-02-23\", \"2019-02-26\", \"2019-03-01\", \"2019-03-04\", \"2019-03-11\", \"2019-03-13\", \"2019-03-15\", \"2019-03-19\", \"2019-03-20\", \"2019-03-21\", \"2019-03-30\", \"2019-04-01\", \"2019-04-09\", \"2019-04-10\", \"2019-04-12\", \"2019-04-15\", \"2019-04-17\", \"2019-04-19\", \"2019-04-22\", \"2019-04-23\", \"2019-04-26\", \"2019-04-27\", \"2019-04-30\", \"2019-05-02\", \"2019-05-03\", \"2019-05-05\", \"2019-05-06\", \"2019-05-10\", \"2019-05-13\", \"2019-05-18\", \"2019-05-19\", \"2019-05-20\", \"2019-05-22\", \"2019-05-24\", \"2019-05-25\", \"2019-05-26\", \"2019-06-04\", \"2019-06-09\", \"2019-06-18\", \"2019-06-30\", \"2019-07-12\", \"2019-07-15\", \"2019-07-18\", \"2019-07-21\", \"2019-07-22\", \"2019-08-05\", \"2019-08-07\", \"2019-08-08\", \"2019-08-11\", \"2019-08-12\", \"2019-08-15\", \"2019-08-16\", \"2019-08-17\", \"2019-08-21\", \"2019-08-25\", \"2019-08-28\", \"2019-08-29\", \"2019-08-30\", \"2019-09-01\", \"2019-09-03\", \"2019-09-04\", \"2019-09-05\", \"2019-09-06\", \"2019-09-08\", \"2019-09-09\", \"2019-09-20\", \"2019-09-26\", \"2019-09-27\", \"2019-09-28\", \"2019-10-01\", \"2019-10-04\", \"2019-10-05\", \"2019-10-07\", \"2019-10-09\", \"2019-10-10\", \"2019-10-12\", \"2019-10-15\", \"2019-10-16\", \"2019-10-17\", \"2019-10-18\", \"2019-10-19\", \"2019-10-20\", \"2019-10-21\", \"2019-10-22\", \"2019-10-23\", \"2019-10-24\", \"2019-10-25\", \"2019-10-26\", \"2019-10-27\", \"2019-10-28\", \"2019-10-29\", \"2019-10-30\", \"2019-10-31\", \"2019-11-01\", \"2019-11-02\", \"2019-11-03\", \"2019-11-04\", \"2019-11-06\", \"2019-11-07\", \"2019-11-08\", \"2019-11-09\", \"2019-11-13\", \"2019-11-14\", \"2019-11-19\", \"2019-11-23\", \"2019-11-25\", \"2019-11-30\", \"2019-12-03\", \"2019-12-12\", \"2019-12-23\", \"2019-12-30\", \"2020-01-01\", \"2020-01-13\", \"2020-01-14\", \"2020-03-27\", \"2020-05-12\", \"2020-05-13\", \"2020-05-17\"], \"y\": [2, 1, 1, 1, 1, 1, 2, 2, 2, 1, 1, 1, 1, 3, 2, 1, 1, 1, 2, 1, 1, 2, 1, 5, 2, 9, 12, 20, 12, 4, 5, 10, 2, 13, 5, 1, 3, 2, 1, 2, 1, 3, 1, 1, 3, 1, 1, 1, 1, 3, 1, 1, 6, 4, 4, 5, 8, 10, 8, 14, 4, 5, 3, 3, 3, 7, 5, 11, 9, 4, 1, 1, 1, 2, 1, 2, 4, 2, 2, 5, 4, 3, 2, 1, 2, 8, 1, 1, 1, 3, 1, 1, 2, 3, 3, 1, 1, 2, 6, 7, 2, 2, 4, 2, 2, 5, 2, 7, 9, 7, 6, 19, 11, 11, 41, 16, 4, 29, 16, 15, 15, 38, 16, 10, 3, 5, 3, 1, 2, 2, 1, 4, 1, 8, 1, 1, 4, 1, 4, 1, 2, 7, 4, 5, 2, 4, 4, 4, 3, 4, 3, 3, 3, 2, 4, 2, 2, 1, 6, 4, 5, 4, 7, 2, 1, 4, 1, 1, 1, 1, 1, 1, 4, 5, 1, 2, 1, 3, 1, 1, 1, 1, 1, 3, 2, 2, 1, 2, 3, 1, 1, 2, 2, 3, 1, 1, 2, 2, 1, 7, 2, 3, 4, 4, 4, 4, 6, 1, 4, 4, 3, 2, 8, 7, 9, 5, 6, 4, 2, 0, 1, 1, 1, 1, 2, 1, 1, 1, 1, 1, 1, 2, 1, 1, 1, 1, 1, 1, 1, 1, 1, 1, 1, 1, 1, 1, 1, 1, 1, 1, 1, 1, 1, 1, 1, 1, 1, 1, 1, 1, 1, 1, 1, 1, 1, 1, 1, 1, 3, 3, 1, 2, 1, 2, 1, 1, 1, 1, 1, 1, 1, 3, 1, 1, 1, 3, 1, 1, 1, 1, 3, 2, 3, 2, 4, 1, 4, 2, 1, 1, 1, 1, 1, 1, 1, 1, 1, 2, 1, 1, 1, 1, 1, 1, 1, 2, 5, 2, 2, 4, 4, 3, 2, 4, 4, 7, 9, 7, 8, 7, 5, 3, 2, 1, 1, 1, 1, 0, 1, 1, 1, 1, 1, 1, 1, 1, 1, 2, 1, 1, 1, 1, 1, 2, 1]}, {\"marker\": {\"color\": \"royalblue\"}, \"name\": \"Nombre des tweets\", \"type\": \"scatter\", \"visible\": true, \"x\": [\"2010-03-01\", \"2010-08-26\", \"2010-09-12\", \"2010-09-22\", \"2010-09-23\", \"2010-09-30\", \"2010-10-04\", \"2010-10-09\", \"2010-10-11\", \"2010-10-14\", \"2010-10-15\", \"2010-10-16\", \"2010-10-18\", \"2010-10-19\", \"2010-10-21\", \"2010-10-22\", \"2010-10-23\", \"2010-10-24\", \"2010-10-25\", \"2010-10-26\", \"2010-10-27\", \"2010-10-28\", \"2010-10-29\", \"2010-10-30\", \"2010-10-31\", \"2010-11-01\", \"2010-11-03\", \"2010-11-04\", \"2010-11-05\", \"2010-11-10\", \"2010-11-13\", \"2010-11-26\", \"2011-03-25\", \"2011-04-29\", \"2011-10-09\", \"2012-03-06\", \"2012-05-03\", \"2012-05-04\", \"2012-05-14\", \"2012-06-25\", \"2012-08-14\", \"2012-08-15\", \"2012-08-18\", \"2012-08-31\", \"2012-09-05\", \"2012-09-06\", \"2012-09-07\", \"2012-09-09\", \"2012-09-17\", \"2012-09-19\", \"2012-10-22\", \"2012-10-23\", \"2012-10-24\", \"2012-10-25\", \"2012-10-26\", \"2012-10-27\", \"2012-10-28\", \"2012-10-29\", \"2012-10-30\", \"2012-10-31\", \"2012-11-01\", \"2012-11-02\", \"2012-11-03\", \"2012-11-04\", \"2012-11-05\", \"2012-11-06\", \"2012-11-07\", \"2012-11-08\", \"2012-11-09\", \"2012-11-10\", \"2012-11-11\", \"2012-11-12\", \"2012-11-13\", \"2012-11-14\", \"2012-11-15\", \"2012-11-16\", \"2012-11-17\", \"2012-11-18\", \"2012-11-19\", \"2012-11-20\", \"2012-11-21\", \"2012-11-22\", \"2012-11-23\", \"2012-11-24\", \"2012-11-25\", \"2012-11-26\", \"2012-11-27\", \"2012-11-28\", \"2012-12-03\", \"2012-12-04\", \"2012-12-06\", \"2012-12-16\", \"2012-12-26\", \"2012-12-28\", \"2013-01-17\", \"2013-02-20\", \"2013-04-04\", \"2013-04-24\", \"2013-05-23\", \"2013-11-21\", \"2013-12-16\", \"2014-03-25\", \"2014-03-26\", \"2014-03-29\", \"2014-03-30\", \"2014-05-14\", \"2014-05-24\", \"2014-05-25\", \"2014-05-26\", \"2014-05-27\", \"2014-06-03\", \"2014-07-27\", \"2014-07-31\", \"2014-09-18\", \"2014-09-27\", \"2014-10-02\", \"2014-10-05\", \"2014-10-07\", \"2014-10-19\", \"2014-10-24\", \"2014-11-07\", \"2014-11-11\", \"2014-11-12\", \"2014-11-13\", \"2014-11-14\", \"2014-11-15\", \"2014-11-21\", \"2014-11-25\", \"2014-11-26\", \"2014-11-27\", \"2014-11-28\", \"2014-11-29\", \"2014-11-30\", \"2014-12-01\", \"2014-12-02\", \"2014-12-03\", \"2014-12-04\", \"2014-12-05\", \"2014-12-06\", \"2014-12-07\", \"2014-12-08\", \"2014-12-09\", \"2014-12-10\", \"2014-12-12\", \"2014-12-14\", \"2014-12-15\", \"2014-12-16\", \"2014-12-18\", \"2014-12-20\", \"2015-01-15\", \"2015-04-11\", \"2015-04-18\", \"2015-04-27\", \"2015-05-13\", \"2015-05-14\", \"2015-05-15\", \"2015-05-27\", \"2015-05-31\", \"2015-08-27\", \"2015-09-01\", \"2015-09-02\", \"2015-09-11\", \"2015-09-12\", \"2015-09-13\", \"2015-09-14\", \"2015-09-15\", \"2015-09-16\", \"2015-09-21\", \"2015-09-22\", \"2015-09-23\", \"2015-09-24\", \"2015-09-27\", \"2015-09-29\", \"2015-10-09\", \"2015-10-13\", \"2015-10-19\", \"2015-10-20\", \"2015-10-21\", \"2015-10-26\", \"2015-10-28\", \"2015-11-03\", \"2015-11-04\", \"2015-11-05\", \"2015-11-06\", \"2015-11-07\", \"2015-11-08\", \"2015-11-09\", \"2015-11-10\", \"2015-11-11\", \"2015-11-12\", \"2015-11-13\", \"2015-11-14\", \"2015-11-15\", \"2015-11-16\", \"2015-11-17\", \"2015-11-18\", \"2015-11-19\", \"2015-11-20\", \"2015-11-21\", \"2015-11-22\", \"2015-11-23\", \"2015-11-24\", \"2015-11-25\", \"2015-11-26\", \"2015-11-27\", \"2015-11-28\", \"2015-11-29\", \"2015-11-30\", \"2015-12-01\", \"2015-12-02\", \"2015-12-03\", \"2015-12-05\", \"2015-12-07\", \"2015-12-10\", \"2015-12-15\", \"2015-12-16\", \"2015-12-23\", \"2016-01-03\", \"2016-02-06\", \"2016-02-08\", \"2016-02-13\", \"2016-02-16\", \"2016-02-24\", \"2016-03-21\", \"2016-04-18\", \"2016-04-20\", \"2016-05-20\", \"2016-06-02\", \"2016-06-24\", \"2016-07-12\", \"2016-07-14\", \"2016-08-02\", \"2016-08-18\", \"2016-08-19\", \"2016-08-20\", \"2016-08-21\", \"2016-08-28\", \"2016-09-07\", \"2016-09-08\", \"2016-09-20\", \"2016-09-21\", \"2016-10-03\", \"2016-10-09\", \"2016-10-11\", \"2016-10-12\", \"2016-10-18\", \"2016-10-20\", \"2016-10-21\", \"2016-10-22\", \"2016-10-23\", \"2016-10-24\", \"2016-10-25\", \"2016-10-26\", \"2016-10-27\", \"2016-10-28\", \"2016-10-29\", \"2016-10-30\", \"2016-10-31\", \"2016-11-01\", \"2016-11-02\", \"2016-11-03\", \"2016-11-04\", \"2016-11-05\", \"2016-11-06\", \"2016-11-07\", \"2016-11-08\", \"2016-11-10\", \"2016-11-11\", \"2016-11-12\", \"2016-11-13\", \"2016-11-14\", \"2016-11-15\", \"2016-11-18\", \"2016-11-19\", \"2016-11-20\", \"2016-11-21\", \"2016-11-22\", \"2016-11-23\", \"2016-11-24\", \"2016-11-30\", \"2016-12-06\", \"2016-12-07\", \"2016-12-12\", \"2016-12-14\", \"2016-12-20\", \"2016-12-22\", \"2016-12-23\", \"2017-01-04\", \"2017-01-11\", \"2017-01-15\", \"2017-01-28\", \"2017-02-07\", \"2017-02-08\", \"2017-02-10\", \"2017-02-13\", \"2017-02-14\", \"2017-02-24\", \"2017-03-11\", \"2017-04-08\", \"2017-05-24\", \"2017-05-26\", \"2017-05-29\", \"2017-06-16\", \"2017-06-26\", \"2017-07-01\", \"2017-08-16\", \"2017-09-19\", \"2017-09-23\", \"2017-09-24\", \"2017-09-25\", \"2017-09-27\", \"2017-09-28\", \"2017-09-29\", \"2017-09-30\", \"2017-10-02\", \"2017-10-03\", \"2017-10-05\", \"2017-10-06\", \"2017-10-07\", \"2017-10-08\", \"2017-10-09\", \"2017-10-11\", \"2017-10-13\", \"2017-10-14\", \"2017-10-15\", \"2017-10-16\", \"2017-10-17\", \"2017-10-18\", \"2017-10-19\", \"2017-10-20\", \"2017-10-21\", \"2017-10-22\", \"2017-10-23\", \"2017-10-24\", \"2017-10-25\", \"2017-10-26\", \"2017-10-27\", \"2017-10-28\", \"2017-10-29\", \"2017-10-30\", \"2017-10-31\", \"2017-11-01\", \"2017-11-02\", \"2017-11-03\", \"2017-11-04\", \"2017-11-05\", \"2017-11-06\", \"2017-11-07\", \"2017-11-08\", \"2017-11-09\", \"2017-11-10\", \"2017-11-11\", \"2017-11-12\", \"2017-11-13\", \"2017-11-14\", \"2017-11-15\", \"2017-11-16\", \"2017-11-17\", \"2017-11-18\", \"2017-11-19\", \"2017-11-20\", \"2017-11-23\", \"2017-11-24\", \"2017-11-25\", \"2017-11-26\", \"2017-11-27\", \"2017-11-29\", \"2017-11-30\", \"2017-12-01\", \"2017-12-02\", \"2017-12-03\", \"2017-12-05\", \"2017-12-06\", \"2017-12-07\", \"2017-12-10\", \"2017-12-11\", \"2017-12-12\", \"2017-12-13\", \"2017-12-15\", \"2017-12-16\", \"2017-12-17\", \"2017-12-18\", \"2017-12-19\", \"2017-12-21\", \"2017-12-22\", \"2017-12-23\", \"2017-12-27\", \"2017-12-28\", \"2017-12-29\", \"2017-12-30\", \"2018-01-02\", \"2018-01-03\", \"2018-01-09\", \"2018-01-13\", \"2018-01-24\", \"2018-01-26\", \"2018-01-27\", \"2018-02-04\", \"2018-03-20\", \"2018-03-30\", \"2018-04-18\", \"2018-05-01\", \"2018-05-07\", \"2018-05-12\", \"2018-05-14\", \"2018-05-15\", \"2018-05-19\", \"2018-05-22\", \"2018-05-29\", \"2018-06-23\", \"2018-06-27\", \"2018-07-09\", \"2018-08-07\", \"2018-08-08\", \"2018-08-29\", \"2018-08-30\", \"2018-08-31\", \"2018-09-01\", \"2018-09-07\", \"2018-09-14\", \"2018-09-15\", \"2018-09-16\", \"2018-09-17\", \"2018-09-18\", \"2018-09-21\", \"2018-09-24\", \"2018-09-25\", \"2018-09-26\", \"2018-09-27\", \"2018-09-29\", \"2018-10-02\", \"2018-10-03\", \"2018-10-04\", \"2018-10-05\", \"2018-10-07\", \"2018-10-17\", \"2018-10-18\", \"2018-10-19\", \"2018-10-23\", \"2018-10-25\", \"2018-10-26\", \"2018-10-27\", \"2018-10-28\", \"2018-10-29\", \"2018-10-30\", \"2018-10-31\", \"2018-11-01\", \"2018-11-02\", \"2018-11-03\", \"2018-11-04\", \"2018-11-05\", \"2018-11-06\", \"2018-11-07\", \"2018-11-08\", \"2018-11-09\", \"2018-11-10\", \"2018-11-11\", \"2018-11-12\", \"2018-11-13\", \"2018-11-14\", \"2018-11-19\", \"2018-11-20\", \"2018-11-25\", \"2018-11-26\", \"2018-12-16\", \"2019-01-03\", \"2019-01-10\", \"2019-01-27\", \"2019-01-31\", \"2019-02-01\", \"2019-02-08\", \"2019-02-12\", \"2019-02-13\", \"2019-02-15\", \"2019-02-16\", \"2019-02-21\", \"2019-02-27\", \"2019-02-28\", \"2019-03-02\", \"2019-03-15\", \"2019-04-01\", \"2019-04-07\", \"2019-04-17\", \"2019-04-22\", \"2019-04-23\", \"2019-04-24\", \"2019-04-28\", \"2019-04-30\", \"2019-05-04\", \"2019-05-08\", \"2019-05-10\", \"2019-05-20\", \"2019-05-22\", \"2019-05-23\", \"2019-05-24\", \"2019-05-27\", \"2019-06-01\", \"2019-06-25\", \"2019-07-03\", \"2019-07-22\", \"2019-08-05\", \"2019-08-16\", \"2019-08-17\", \"2019-08-21\", \"2019-08-29\", \"2019-08-30\", \"2019-09-02\", \"2019-09-03\", \"2019-09-06\", \"2019-09-09\", \"2019-09-20\", \"2019-09-26\", \"2019-10-01\", \"2019-10-05\", \"2019-10-08\", \"2019-10-09\", \"2019-10-10\", \"2019-10-17\", \"2019-10-18\", \"2019-10-19\", \"2019-10-20\", \"2019-10-21\", \"2019-10-22\", \"2019-10-23\", \"2019-10-24\", \"2019-10-25\", \"2019-10-26\", \"2019-10-27\", \"2019-10-28\", \"2019-10-29\", \"2019-10-30\", \"2019-10-31\", \"2019-11-01\", \"2019-11-02\", \"2019-11-03\", \"2019-11-04\", \"2019-11-05\", \"2019-11-06\", \"2019-11-07\", \"2019-11-08\", \"2019-11-09\", \"2019-11-10\", \"2019-11-13\", \"2019-11-16\", \"2019-11-19\", \"2019-11-27\", \"2019-11-29\", \"2019-12-01\", \"2019-12-04\", \"2019-12-06\", \"2019-12-07\", \"2019-12-09\", \"2019-12-15\", \"2019-12-17\", \"2019-12-19\", \"2020-01-06\", \"2020-01-07\", \"2020-01-16\", \"2020-01-24\", \"2020-02-06\", \"2020-03-01\", \"2020-04-04\", \"2020-04-07\", \"2020-04-14\", \"2020-04-18\", \"2020-05-04\", \"2020-05-13\", \"2020-05-14\", \"2020-05-16\", \"2020-05-18\"], \"y\": [1, 1, 1, 1, 1, 2, 1, 1, 1, 3, 2, 1, 3, 1, 2, 5, 16, 3, 5, 10, 9, 6, 2, 4, 9, 17, 7, 1, 4, 1, 1, 1, 1, 1, 3, 5, 1, 3, 1, 1, 3, 6, 1, 1, 2, 2, 2, 2, 1, 10, 1, 6, 15, 12, 1, 4, 8, 4, 3, 1, 5, 2, 2, 2, 14, 1, 2, 8, 11, 3, 3, 1, 6, 12, 9, 7, 13, 8, 21, 16, 6, 7, 13, 40, 23, 5, 2, 2, 2, 1, 2, 2, 1, 1, 1, 1, 1, 1, 1, 1, 1, 1, 2, 1, 1, 3, 4, 7, 5, 1, 2, 2, 1, 8, 10, 4, 2, 4, 1, 8, 3, 5, 3, 4, 6, 11, 17, 5, 3, 4, 6, 24, 9, 21, 5, 3, 4, 11, 14, 18, 5, 6, 1, 1, 1, 1, 2, 3, 1, 1, 3, 1, 2, 5, 3, 2, 2, 2, 1, 1, 1, 2, 2, 2, 4, 1, 2, 2, 3, 2, 1, 1, 1, 9, 4, 4, 2, 1, 1, 1, 32, 17, 6, 13, 2, 4, 8, 3, 4, 5, 1, 1, 1, 1, 1, 8, 7, 9, 54, 40, 21, 42, 66, 29, 37, 50, 38, 3, 5, 9, 6, 3, 3, 2, 1, 1, 2, 1, 1, 1, 1, 1, 1, 1, 2, 1, 1, 1, 1, 1, 1, 1, 1, 2, 1, 1, 2, 5, 1, 2, 1, 1, 1, 8, 3, 3, 10, 3, 7, 2, 7, 14, 17, 20, 30, 46, 35, 16, 25, 26, 17, 30, 54, 44, 21, 6, 10, 1, 10, 7, 12, 1, 1, 1, 2, 1, 1, 1, 1, 1, 1, 1, 1, 1, 1, 1, 1, 1, 1, 1, 1, 1, 1, 1, 2, 1, 2, 1, 1, 2, 1, 2, 1, 1, 1, 1, 1, 1, 1, 4, 1, 1, 2, 2, 2, 5, 10, 2, 2, 1, 8, 1, 1, 2, 4, 7, 2, 2, 30, 17, 4, 6, 3, 3, 2, 5, 4, 6, 6, 4, 8, 13, 10, 13, 45, 32, 39, 23, 43, 37, 23, 48, 11, 10, 5, 9, 3, 4, 8, 3, 1, 1, 2, 5, 5, 1, 5, 2, 2, 1, 1, 3, 3, 2, 3, 2, 2, 3, 3, 1, 2, 2, 1, 3, 1, 5, 1, 4, 1, 2, 1, 1, 1, 1, 2, 1, 1, 1, 1, 1, 2, 1, 1, 1, 1, 1, 1, 1, 1, 1, 2, 1, 1, 1, 1, 1, 1, 0, 1, 3, 1, 1, 1, 2, 2, 1, 1, 2, 4, 4, 1, 2, 1, 1, 1, 2, 5, 1, 3, 4, 1, 2, 3, 5, 11, 11, 4, 14, 27, 19, 22, 25, 13, 9, 6, 33, 12, 12, 1, 1, 1, 1, 2, 1, 1, 1, 1, 1, 1, 1, 1, 1, 2, 1, 1, 1, 1, 1, 1, 1, 1, 1, 1, 1, 1, 1, 2, 2, 1, 1, 1, 1, 1, 1, 1, 2, 1, 1, 1, 1, 1, 10, 2, 6, 1, 1, 1, 2, 1, 1, 1, 1, 1, 2, 1, 1, 1, 2, 10, 2, 4, 10, 4, 1, 9, 5, 4, 40, 18, 29, 21, 13, 14, 48, 23, 9, 7, 1, 2, 1, 2, 0, 1, 2, 6, 2, 5, 1, 1, 1, 1, 3, 1, 1, 1, 1, 1, 1, 1, 1, 1, 1, 1, 2, 1, 2, 4, 1, 1, 1]}],\n",
       "                        {\"font\": {\"family\": \" Gravitas One, cursive\", \"size\": 17}, \"template\": {\"data\": {\"bar\": [{\"error_x\": {\"color\": \"#2a3f5f\"}, \"error_y\": {\"color\": \"#2a3f5f\"}, \"marker\": {\"line\": {\"color\": \"white\", \"width\": 0.5}}, \"type\": \"bar\"}], \"barpolar\": [{\"marker\": {\"line\": {\"color\": \"white\", \"width\": 0.5}}, \"type\": \"barpolar\"}], \"carpet\": [{\"aaxis\": {\"endlinecolor\": \"#2a3f5f\", \"gridcolor\": \"#C8D4E3\", \"linecolor\": \"#C8D4E3\", \"minorgridcolor\": \"#C8D4E3\", \"startlinecolor\": \"#2a3f5f\"}, \"baxis\": {\"endlinecolor\": \"#2a3f5f\", \"gridcolor\": \"#C8D4E3\", \"linecolor\": \"#C8D4E3\", \"minorgridcolor\": \"#C8D4E3\", \"startlinecolor\": \"#2a3f5f\"}, \"type\": \"carpet\"}], \"choropleth\": [{\"colorbar\": {\"outlinewidth\": 0, \"ticks\": \"\"}, \"type\": \"choropleth\"}], \"contour\": [{\"colorbar\": {\"outlinewidth\": 0, \"ticks\": \"\"}, \"colorscale\": [[0.0, \"#0d0887\"], [0.1111111111111111, \"#46039f\"], [0.2222222222222222, \"#7201a8\"], [0.3333333333333333, \"#9c179e\"], [0.4444444444444444, \"#bd3786\"], [0.5555555555555556, \"#d8576b\"], [0.6666666666666666, \"#ed7953\"], [0.7777777777777778, \"#fb9f3a\"], [0.8888888888888888, \"#fdca26\"], [1.0, \"#f0f921\"]], \"type\": \"contour\"}], \"contourcarpet\": [{\"colorbar\": {\"outlinewidth\": 0, \"ticks\": \"\"}, \"type\": \"contourcarpet\"}], \"heatmap\": [{\"colorbar\": {\"outlinewidth\": 0, \"ticks\": \"\"}, \"colorscale\": [[0.0, \"#0d0887\"], [0.1111111111111111, \"#46039f\"], [0.2222222222222222, \"#7201a8\"], [0.3333333333333333, \"#9c179e\"], [0.4444444444444444, \"#bd3786\"], [0.5555555555555556, \"#d8576b\"], [0.6666666666666666, \"#ed7953\"], [0.7777777777777778, \"#fb9f3a\"], [0.8888888888888888, \"#fdca26\"], [1.0, \"#f0f921\"]], \"type\": \"heatmap\"}], \"heatmapgl\": [{\"colorbar\": {\"outlinewidth\": 0, \"ticks\": \"\"}, \"colorscale\": [[0.0, \"#0d0887\"], [0.1111111111111111, \"#46039f\"], [0.2222222222222222, \"#7201a8\"], [0.3333333333333333, \"#9c179e\"], [0.4444444444444444, \"#bd3786\"], [0.5555555555555556, \"#d8576b\"], [0.6666666666666666, \"#ed7953\"], [0.7777777777777778, \"#fb9f3a\"], [0.8888888888888888, \"#fdca26\"], [1.0, \"#f0f921\"]], \"type\": \"heatmapgl\"}], \"histogram\": [{\"marker\": {\"colorbar\": {\"outlinewidth\": 0, \"ticks\": \"\"}}, \"type\": \"histogram\"}], \"histogram2d\": [{\"colorbar\": {\"outlinewidth\": 0, \"ticks\": \"\"}, \"colorscale\": [[0.0, \"#0d0887\"], [0.1111111111111111, \"#46039f\"], [0.2222222222222222, \"#7201a8\"], [0.3333333333333333, \"#9c179e\"], [0.4444444444444444, \"#bd3786\"], [0.5555555555555556, \"#d8576b\"], [0.6666666666666666, \"#ed7953\"], [0.7777777777777778, \"#fb9f3a\"], [0.8888888888888888, \"#fdca26\"], [1.0, \"#f0f921\"]], \"type\": \"histogram2d\"}], \"histogram2dcontour\": [{\"colorbar\": {\"outlinewidth\": 0, \"ticks\": \"\"}, \"colorscale\": [[0.0, \"#0d0887\"], [0.1111111111111111, \"#46039f\"], [0.2222222222222222, \"#7201a8\"], [0.3333333333333333, \"#9c179e\"], [0.4444444444444444, \"#bd3786\"], [0.5555555555555556, \"#d8576b\"], [0.6666666666666666, \"#ed7953\"], [0.7777777777777778, \"#fb9f3a\"], [0.8888888888888888, \"#fdca26\"], [1.0, \"#f0f921\"]], \"type\": \"histogram2dcontour\"}], \"mesh3d\": [{\"colorbar\": {\"outlinewidth\": 0, \"ticks\": \"\"}, \"type\": \"mesh3d\"}], \"parcoords\": [{\"line\": {\"colorbar\": {\"outlinewidth\": 0, \"ticks\": \"\"}}, \"type\": \"parcoords\"}], \"pie\": [{\"automargin\": true, \"type\": \"pie\"}], \"scatter\": [{\"marker\": {\"colorbar\": {\"outlinewidth\": 0, \"ticks\": \"\"}}, \"type\": \"scatter\"}], \"scatter3d\": [{\"line\": {\"colorbar\": {\"outlinewidth\": 0, \"ticks\": \"\"}}, \"marker\": {\"colorbar\": {\"outlinewidth\": 0, \"ticks\": \"\"}}, \"type\": \"scatter3d\"}], \"scattercarpet\": [{\"marker\": {\"colorbar\": {\"outlinewidth\": 0, \"ticks\": \"\"}}, \"type\": \"scattercarpet\"}], \"scattergeo\": [{\"marker\": {\"colorbar\": {\"outlinewidth\": 0, \"ticks\": \"\"}}, \"type\": \"scattergeo\"}], \"scattergl\": [{\"marker\": {\"colorbar\": {\"outlinewidth\": 0, \"ticks\": \"\"}}, \"type\": \"scattergl\"}], \"scattermapbox\": [{\"marker\": {\"colorbar\": {\"outlinewidth\": 0, \"ticks\": \"\"}}, \"type\": \"scattermapbox\"}], \"scatterpolar\": [{\"marker\": {\"colorbar\": {\"outlinewidth\": 0, \"ticks\": \"\"}}, \"type\": \"scatterpolar\"}], \"scatterpolargl\": [{\"marker\": {\"colorbar\": {\"outlinewidth\": 0, \"ticks\": \"\"}}, \"type\": \"scatterpolargl\"}], \"scatterternary\": [{\"marker\": {\"colorbar\": {\"outlinewidth\": 0, \"ticks\": \"\"}}, \"type\": \"scatterternary\"}], \"surface\": [{\"colorbar\": {\"outlinewidth\": 0, \"ticks\": \"\"}, \"colorscale\": [[0.0, \"#0d0887\"], [0.1111111111111111, \"#46039f\"], [0.2222222222222222, \"#7201a8\"], [0.3333333333333333, \"#9c179e\"], [0.4444444444444444, \"#bd3786\"], [0.5555555555555556, \"#d8576b\"], [0.6666666666666666, \"#ed7953\"], [0.7777777777777778, \"#fb9f3a\"], [0.8888888888888888, \"#fdca26\"], [1.0, \"#f0f921\"]], \"type\": \"surface\"}], \"table\": [{\"cells\": {\"fill\": {\"color\": \"#EBF0F8\"}, \"line\": {\"color\": \"white\"}}, \"header\": {\"fill\": {\"color\": \"#C8D4E3\"}, \"line\": {\"color\": \"white\"}}, \"type\": \"table\"}]}, \"layout\": {\"annotationdefaults\": {\"arrowcolor\": \"#2a3f5f\", \"arrowhead\": 0, \"arrowwidth\": 1}, \"coloraxis\": {\"colorbar\": {\"outlinewidth\": 0, \"ticks\": \"\"}}, \"colorscale\": {\"diverging\": [[0, \"#8e0152\"], [0.1, \"#c51b7d\"], [0.2, \"#de77ae\"], [0.3, \"#f1b6da\"], [0.4, \"#fde0ef\"], [0.5, \"#f7f7f7\"], [0.6, \"#e6f5d0\"], [0.7, \"#b8e186\"], [0.8, \"#7fbc41\"], [0.9, \"#4d9221\"], [1, \"#276419\"]], \"sequential\": [[0.0, \"#0d0887\"], [0.1111111111111111, \"#46039f\"], [0.2222222222222222, \"#7201a8\"], [0.3333333333333333, \"#9c179e\"], [0.4444444444444444, \"#bd3786\"], [0.5555555555555556, \"#d8576b\"], [0.6666666666666666, \"#ed7953\"], [0.7777777777777778, \"#fb9f3a\"], [0.8888888888888888, \"#fdca26\"], [1.0, \"#f0f921\"]], \"sequentialminus\": [[0.0, \"#0d0887\"], [0.1111111111111111, \"#46039f\"], [0.2222222222222222, \"#7201a8\"], [0.3333333333333333, \"#9c179e\"], [0.4444444444444444, \"#bd3786\"], [0.5555555555555556, \"#d8576b\"], [0.6666666666666666, \"#ed7953\"], [0.7777777777777778, \"#fb9f3a\"], [0.8888888888888888, \"#fdca26\"], [1.0, \"#f0f921\"]]}, \"colorway\": [\"#636efa\", \"#EF553B\", \"#00cc96\", \"#ab63fa\", \"#FFA15A\", \"#19d3f3\", \"#FF6692\", \"#B6E880\", \"#FF97FF\", \"#FECB52\"], \"font\": {\"color\": \"#2a3f5f\"}, \"geo\": {\"bgcolor\": \"white\", \"lakecolor\": \"white\", \"landcolor\": \"white\", \"showlakes\": true, \"showland\": true, \"subunitcolor\": \"#C8D4E3\"}, \"hoverlabel\": {\"align\": \"left\"}, \"hovermode\": \"closest\", \"mapbox\": {\"style\": \"light\"}, \"paper_bgcolor\": \"white\", \"plot_bgcolor\": \"white\", \"polar\": {\"angularaxis\": {\"gridcolor\": \"#EBF0F8\", \"linecolor\": \"#EBF0F8\", \"ticks\": \"\"}, \"bgcolor\": \"white\", \"radialaxis\": {\"gridcolor\": \"#EBF0F8\", \"linecolor\": \"#EBF0F8\", \"ticks\": \"\"}}, \"scene\": {\"xaxis\": {\"backgroundcolor\": \"white\", \"gridcolor\": \"#DFE8F3\", \"gridwidth\": 2, \"linecolor\": \"#EBF0F8\", \"showbackground\": true, \"ticks\": \"\", \"zerolinecolor\": \"#EBF0F8\"}, \"yaxis\": {\"backgroundcolor\": \"white\", \"gridcolor\": \"#DFE8F3\", \"gridwidth\": 2, \"linecolor\": \"#EBF0F8\", \"showbackground\": true, \"ticks\": \"\", \"zerolinecolor\": \"#EBF0F8\"}, \"zaxis\": {\"backgroundcolor\": \"white\", \"gridcolor\": \"#DFE8F3\", \"gridwidth\": 2, \"linecolor\": \"#EBF0F8\", \"showbackground\": true, \"ticks\": \"\", \"zerolinecolor\": \"#EBF0F8\"}}, \"shapedefaults\": {\"line\": {\"color\": \"#2a3f5f\"}}, \"ternary\": {\"aaxis\": {\"gridcolor\": \"#DFE8F3\", \"linecolor\": \"#A2B1C6\", \"ticks\": \"\"}, \"baxis\": {\"gridcolor\": \"#DFE8F3\", \"linecolor\": \"#A2B1C6\", \"ticks\": \"\"}, \"bgcolor\": \"white\", \"caxis\": {\"gridcolor\": \"#DFE8F3\", \"linecolor\": \"#A2B1C6\", \"ticks\": \"\"}}, \"title\": {\"x\": 0.05}, \"xaxis\": {\"automargin\": true, \"gridcolor\": \"#EBF0F8\", \"linecolor\": \"#EBF0F8\", \"ticks\": \"\", \"title\": {\"standoff\": 15}, \"zerolinecolor\": \"#EBF0F8\", \"zerolinewidth\": 2}, \"yaxis\": {\"automargin\": true, \"gridcolor\": \"#EBF0F8\", \"linecolor\": \"#EBF0F8\", \"ticks\": \"\", \"title\": {\"standoff\": 15}, \"zerolinecolor\": \"#EBF0F8\", \"zerolinewidth\": 2}}}, \"title\": {\"text\": \" \"}, \"updatemenus\": [{\"buttons\": [{\"args\": [{\"visible\": [true, false]}], \"label\": \"                                                              Nombre de posts                                                            \", \"method\": \"update\"}, {\"args\": [{\"visible\": [false, true]}], \"label\": \"                                                              Nombre des tweets\", \"method\": \"update\"}], \"x\": 1.65, \"y\": 1.3}]},\n",
       "                        {\"responsive\": true}\n",
       "                    ).then(function(){\n",
       "                            \n",
       "var gd = document.getElementById('d3aa58a0-6709-44ea-bcc9-d0aa1f5dbf40');\n",
       "var x = new MutationObserver(function (mutations, observer) {{\n",
       "        var display = window.getComputedStyle(gd).display;\n",
       "        if (!display || display === 'none') {{\n",
       "            console.log([gd, 'removed!']);\n",
       "            Plotly.purge(gd);\n",
       "            observer.disconnect();\n",
       "        }}\n",
       "}});\n",
       "\n",
       "// Listen for the removal of the full notebook cells\n",
       "var notebookContainer = gd.closest('#notebook-container');\n",
       "if (notebookContainer) {{\n",
       "    x.observe(notebookContainer, {childList: true});\n",
       "}}\n",
       "\n",
       "// Listen for the clearing of the current output cell\n",
       "var outputEl = gd.closest('.output');\n",
       "if (outputEl) {{\n",
       "    x.observe(outputEl, {childList: true});\n",
       "}}\n",
       "\n",
       "                        })\n",
       "                };\n",
       "                });\n",
       "            </script>\n",
       "        </div>"
      ]
     },
     "metadata": {},
     "output_type": "display_data"
    }
   ],
   "source": [
    "data_bar=[ go.Scatter(name='Nombre de posts',\n",
    "           visible=True,\n",
    "           x=df18.index, \n",
    "           y=df18['post_id'],\n",
    "           marker_color='Pink'),\n",
    "          \n",
    "         go.Scatter(name='Nombre des tweets',\n",
    "           visible=True,\n",
    "           x=df20.index, \n",
    "           y= df20['text'],\n",
    "          marker_color='royalblue'),\n",
    "          \n",
    "          \n",
    "         \n",
    "        ]\n",
    "\n",
    "list_updatemenus=[\n",
    "        {'args':[{\"visible\":[True,False]}],\n",
    "         'label':\"                                                              Nombre de posts                                                            \",\n",
    "         'method':\"update\"},\n",
    "    \n",
    "        {'args':[{\"visible\":[False,True]}],\n",
    "         'label':\"                                                              Nombre des tweets\",\n",
    "         'method':\"update\"},\n",
    "    \n",
    "    \n",
    "\n",
    "         ]\n",
    "layout_bar=go.Layout(updatemenus=list([dict(buttons= list_updatemenus,x=1.65,y=1.3)]),\n",
    "                     title_text=\" \",\n",
    "                     template='plotly_white',\n",
    "                     font=dict(\n",
    "                    family=\" Gravitas One, cursive\",\n",
    "                    size=17))\n",
    "\n",
    "#defining figure and plotting\n",
    "nbre_posts_tweets = go.Figure(data_bar,layout_bar)\n",
    "nbre_posts_tweets.show()\n"
   ]
  },
  {
   "cell_type": "code",
   "execution_count": null,
   "metadata": {},
   "outputs": [],
   "source": []
  },
  {
   "cell_type": "code",
   "execution_count": null,
   "metadata": {},
   "outputs": [],
   "source": []
  },
  {
   "cell_type": "code",
   "execution_count": null,
   "metadata": {},
   "outputs": [],
   "source": []
  },
  {
   "cell_type": "code",
   "execution_count": null,
   "metadata": {},
   "outputs": [],
   "source": []
  },
  {
   "cell_type": "code",
   "execution_count": null,
   "metadata": {},
   "outputs": [],
   "source": []
  },
  {
   "cell_type": "code",
   "execution_count": null,
   "metadata": {},
   "outputs": [],
   "source": []
  },
  {
   "cell_type": "code",
   "execution_count": 18,
   "metadata": {},
   "outputs": [
    {
     "data": {
      "application/vnd.plotly.v1+json": {
       "config": {
        "plotlyServerURL": "https://plot.ly"
       },
       "data": [
        {
         "alignmentgroup": "True",
         "hovertemplate": "gov_name_f=%{x}<br>2016=%{y}<extra></extra>",
         "legendgroup": "Tunis",
         "marker": {
          "color": "#636efa"
         },
         "name": "Tunis",
         "offsetgroup": "Tunis",
         "orientation": "v",
         "showlegend": true,
         "textposition": "auto",
         "type": "bar",
         "x": [
          "Tunis"
         ],
         "xaxis": "x",
         "y": [
          26
         ],
         "yaxis": "y"
        },
        {
         "alignmentgroup": "True",
         "hovertemplate": "gov_name_f=%{x}<br>2016=%{y}<extra></extra>",
         "legendgroup": "Ariana",
         "marker": {
          "color": "#EF553B"
         },
         "name": "Ariana",
         "offsetgroup": "Ariana",
         "orientation": "v",
         "showlegend": true,
         "textposition": "auto",
         "type": "bar",
         "x": [
          "Ariana"
         ],
         "xaxis": "x",
         "y": [
          2
         ],
         "yaxis": "y"
        },
        {
         "alignmentgroup": "True",
         "hovertemplate": "gov_name_f=%{x}<br>2016=%{y}<extra></extra>",
         "legendgroup": "Ben Arous",
         "marker": {
          "color": "#00cc96"
         },
         "name": "Ben Arous",
         "offsetgroup": "Ben Arous",
         "orientation": "v",
         "showlegend": true,
         "textposition": "auto",
         "type": "bar",
         "x": [
          "Ben Arous"
         ],
         "xaxis": "x",
         "y": [
          7
         ],
         "yaxis": "y"
        },
        {
         "alignmentgroup": "True",
         "hovertemplate": "gov_name_f=%{x}<br>2016=%{y}<extra></extra>",
         "legendgroup": "Manubah",
         "marker": {
          "color": "#ab63fa"
         },
         "name": "Manubah",
         "offsetgroup": "Manubah",
         "orientation": "v",
         "showlegend": true,
         "textposition": "auto",
         "type": "bar",
         "x": [
          "Manubah"
         ],
         "xaxis": "x",
         "y": [
          5
         ],
         "yaxis": "y"
        },
        {
         "alignmentgroup": "True",
         "hovertemplate": "gov_name_f=%{x}<br>2016=%{y}<extra></extra>",
         "legendgroup": "Nabeul",
         "marker": {
          "color": "#FFA15A"
         },
         "name": "Nabeul",
         "offsetgroup": "Nabeul",
         "orientation": "v",
         "showlegend": true,
         "textposition": "auto",
         "type": "bar",
         "x": [
          "Nabeul"
         ],
         "xaxis": "x",
         "y": [
          9
         ],
         "yaxis": "y"
        },
        {
         "alignmentgroup": "True",
         "hovertemplate": "gov_name_f=%{x}<br>2016=%{y}<extra></extra>",
         "legendgroup": "Zaghouan",
         "marker": {
          "color": "#19d3f3"
         },
         "name": "Zaghouan",
         "offsetgroup": "Zaghouan",
         "orientation": "v",
         "showlegend": true,
         "textposition": "auto",
         "type": "bar",
         "x": [
          "Zaghouan"
         ],
         "xaxis": "x",
         "y": [
          5
         ],
         "yaxis": "y"
        },
        {
         "alignmentgroup": "True",
         "hovertemplate": "gov_name_f=%{x}<br>2016=%{y}<extra></extra>",
         "legendgroup": "Bizerte",
         "marker": {
          "color": "#FF6692"
         },
         "name": "Bizerte",
         "offsetgroup": "Bizerte",
         "orientation": "v",
         "showlegend": true,
         "textposition": "auto",
         "type": "bar",
         "x": [
          "Bizerte"
         ],
         "xaxis": "x",
         "y": [
          10
         ],
         "yaxis": "y"
        },
        {
         "alignmentgroup": "True",
         "hovertemplate": "gov_name_f=%{x}<br>2016=%{y}<extra></extra>",
         "legendgroup": "Béja",
         "marker": {
          "color": "#B6E880"
         },
         "name": "Béja",
         "offsetgroup": "Béja",
         "orientation": "v",
         "showlegend": true,
         "textposition": "auto",
         "type": "bar",
         "x": [
          "Béja"
         ],
         "xaxis": "x",
         "y": [
          9
         ],
         "yaxis": "y"
        },
        {
         "alignmentgroup": "True",
         "hovertemplate": "gov_name_f=%{x}<br>2016=%{y}<extra></extra>",
         "legendgroup": "Jendouba",
         "marker": {
          "color": "#FF97FF"
         },
         "name": "Jendouba",
         "offsetgroup": "Jendouba",
         "orientation": "v",
         "showlegend": true,
         "textposition": "auto",
         "type": "bar",
         "x": [
          "Jendouba"
         ],
         "xaxis": "x",
         "y": [
          7
         ],
         "yaxis": "y"
        },
        {
         "alignmentgroup": "True",
         "hovertemplate": "gov_name_f=%{x}<br>2016=%{y}<extra></extra>",
         "legendgroup": "Le Kef",
         "marker": {
          "color": "#FECB52"
         },
         "name": "Le Kef",
         "offsetgroup": "Le Kef",
         "orientation": "v",
         "showlegend": true,
         "textposition": "auto",
         "type": "bar",
         "x": [
          "Le Kef"
         ],
         "xaxis": "x",
         "y": [
          10
         ],
         "yaxis": "y"
        },
        {
         "alignmentgroup": "True",
         "hovertemplate": "gov_name_f=%{x}<br>2016=%{y}<extra></extra>",
         "legendgroup": "Siliana",
         "marker": {
          "color": "#636efa"
         },
         "name": "Siliana",
         "offsetgroup": "Siliana",
         "orientation": "v",
         "showlegend": true,
         "textposition": "auto",
         "type": "bar",
         "x": [
          "Siliana"
         ],
         "xaxis": "x",
         "y": [
          8
         ],
         "yaxis": "y"
        },
        {
         "alignmentgroup": "True",
         "hovertemplate": "gov_name_f=%{x}<br>2016=%{y}<extra></extra>",
         "legendgroup": "Sousse",
         "marker": {
          "color": "#EF553B"
         },
         "name": "Sousse",
         "offsetgroup": "Sousse",
         "orientation": "v",
         "showlegend": true,
         "textposition": "auto",
         "type": "bar",
         "x": [
          "Sousse"
         ],
         "xaxis": "x",
         "y": [
          9
         ],
         "yaxis": "y"
        },
        {
         "alignmentgroup": "True",
         "hovertemplate": "gov_name_f=%{x}<br>2016=%{y}<extra></extra>",
         "legendgroup": "Monastir",
         "marker": {
          "color": "#00cc96"
         },
         "name": "Monastir",
         "offsetgroup": "Monastir",
         "orientation": "v",
         "showlegend": true,
         "textposition": "auto",
         "type": "bar",
         "x": [
          "Monastir"
         ],
         "xaxis": "x",
         "y": [
          15
         ],
         "yaxis": "y"
        },
        {
         "alignmentgroup": "True",
         "hovertemplate": "gov_name_f=%{x}<br>2016=%{y}<extra></extra>",
         "legendgroup": "Mahdia",
         "marker": {
          "color": "#ab63fa"
         },
         "name": "Mahdia",
         "offsetgroup": "Mahdia",
         "orientation": "v",
         "showlegend": true,
         "textposition": "auto",
         "type": "bar",
         "x": [
          "Mahdia"
         ],
         "xaxis": "x",
         "y": [
          14
         ],
         "yaxis": "y"
        },
        {
         "alignmentgroup": "True",
         "hovertemplate": "gov_name_f=%{x}<br>2016=%{y}<extra></extra>",
         "legendgroup": "Sfax",
         "marker": {
          "color": "#FFA15A"
         },
         "name": "Sfax",
         "offsetgroup": "Sfax",
         "orientation": "v",
         "showlegend": true,
         "textposition": "auto",
         "type": "bar",
         "x": [
          "Sfax"
         ],
         "xaxis": "x",
         "y": [
          14
         ],
         "yaxis": "y"
        },
        {
         "alignmentgroup": "True",
         "hovertemplate": "gov_name_f=%{x}<br>2016=%{y}<extra></extra>",
         "legendgroup": "Kairouan",
         "marker": {
          "color": "#19d3f3"
         },
         "name": "Kairouan",
         "offsetgroup": "Kairouan",
         "orientation": "v",
         "showlegend": true,
         "textposition": "auto",
         "type": "bar",
         "x": [
          "Kairouan"
         ],
         "xaxis": "x",
         "y": [
          12
         ],
         "yaxis": "y"
        },
        {
         "alignmentgroup": "True",
         "hovertemplate": "gov_name_f=%{x}<br>2016=%{y}<extra></extra>",
         "legendgroup": "Kassérine",
         "marker": {
          "color": "#FF6692"
         },
         "name": "Kassérine",
         "offsetgroup": "Kassérine",
         "orientation": "v",
         "showlegend": true,
         "textposition": "auto",
         "type": "bar",
         "x": [
          "Kassérine"
         ],
         "xaxis": "x",
         "y": [
          13
         ],
         "yaxis": "y"
        },
        {
         "alignmentgroup": "True",
         "hovertemplate": "gov_name_f=%{x}<br>2016=%{y}<extra></extra>",
         "legendgroup": "Sidi Bou Zid",
         "marker": {
          "color": "#B6E880"
         },
         "name": "Sidi Bou Zid",
         "offsetgroup": "Sidi Bou Zid",
         "orientation": "v",
         "showlegend": true,
         "textposition": "auto",
         "type": "bar",
         "x": [
          "Sidi Bou Zid"
         ],
         "xaxis": "x",
         "y": [
          7
         ],
         "yaxis": "y"
        },
        {
         "alignmentgroup": "True",
         "hovertemplate": "gov_name_f=%{x}<br>2016=%{y}<extra></extra>",
         "legendgroup": "Gabès",
         "marker": {
          "color": "#FF97FF"
         },
         "name": "Gabès",
         "offsetgroup": "Gabès",
         "orientation": "v",
         "showlegend": true,
         "textposition": "auto",
         "type": "bar",
         "x": [
          "Gabès"
         ],
         "xaxis": "x",
         "y": [
          9
         ],
         "yaxis": "y"
        },
        {
         "alignmentgroup": "True",
         "hovertemplate": "gov_name_f=%{x}<br>2016=%{y}<extra></extra>",
         "legendgroup": "Médenine",
         "marker": {
          "color": "#FECB52"
         },
         "name": "Médenine",
         "offsetgroup": "Médenine",
         "orientation": "v",
         "showlegend": true,
         "textposition": "auto",
         "type": "bar",
         "x": [
          "Médenine"
         ],
         "xaxis": "x",
         "y": [
          8
         ],
         "yaxis": "y"
        },
        {
         "alignmentgroup": "True",
         "hovertemplate": "gov_name_f=%{x}<br>2016=%{y}<extra></extra>",
         "legendgroup": "Tataouine",
         "marker": {
          "color": "#636efa"
         },
         "name": "Tataouine",
         "offsetgroup": "Tataouine",
         "orientation": "v",
         "showlegend": true,
         "textposition": "auto",
         "type": "bar",
         "x": [
          "Tataouine"
         ],
         "xaxis": "x",
         "y": [
          6
         ],
         "yaxis": "y"
        },
        {
         "alignmentgroup": "True",
         "hovertemplate": "gov_name_f=%{x}<br>2016=%{y}<extra></extra>",
         "legendgroup": "Gafsa",
         "marker": {
          "color": "#EF553B"
         },
         "name": "Gafsa",
         "offsetgroup": "Gafsa",
         "orientation": "v",
         "showlegend": true,
         "textposition": "auto",
         "type": "bar",
         "x": [
          "Gafsa"
         ],
         "xaxis": "x",
         "y": [
          8
         ],
         "yaxis": "y"
        },
        {
         "alignmentgroup": "True",
         "hovertemplate": "gov_name_f=%{x}<br>2016=%{y}<extra></extra>",
         "legendgroup": "Tozeur",
         "marker": {
          "color": "#00cc96"
         },
         "name": "Tozeur",
         "offsetgroup": "Tozeur",
         "orientation": "v",
         "showlegend": true,
         "textposition": "auto",
         "type": "bar",
         "x": [
          "Tozeur"
         ],
         "xaxis": "x",
         "y": [
          3
         ],
         "yaxis": "y"
        },
        {
         "alignmentgroup": "True",
         "hovertemplate": "gov_name_f=%{x}<br>2016=%{y}<extra></extra>",
         "legendgroup": "Kebili",
         "marker": {
          "color": "#ab63fa"
         },
         "name": "Kebili",
         "offsetgroup": "Kebili",
         "orientation": "v",
         "showlegend": true,
         "textposition": "auto",
         "type": "bar",
         "x": [
          "Kebili"
         ],
         "xaxis": "x",
         "y": [
          4
         ],
         "yaxis": "y"
        }
       ],
       "layout": {
        "barmode": "relative",
        "legend": {
         "title": {
          "text": "gov_name_f"
         },
         "tracegroupgap": 0
        },
        "margin": {
         "t": 60
        },
        "template": {
         "data": {
          "bar": [
           {
            "error_x": {
             "color": "#2a3f5f"
            },
            "error_y": {
             "color": "#2a3f5f"
            },
            "marker": {
             "line": {
              "color": "white",
              "width": 0.5
             }
            },
            "type": "bar"
           }
          ],
          "barpolar": [
           {
            "marker": {
             "line": {
              "color": "white",
              "width": 0.5
             }
            },
            "type": "barpolar"
           }
          ],
          "carpet": [
           {
            "aaxis": {
             "endlinecolor": "#2a3f5f",
             "gridcolor": "#C8D4E3",
             "linecolor": "#C8D4E3",
             "minorgridcolor": "#C8D4E3",
             "startlinecolor": "#2a3f5f"
            },
            "baxis": {
             "endlinecolor": "#2a3f5f",
             "gridcolor": "#C8D4E3",
             "linecolor": "#C8D4E3",
             "minorgridcolor": "#C8D4E3",
             "startlinecolor": "#2a3f5f"
            },
            "type": "carpet"
           }
          ],
          "choropleth": [
           {
            "colorbar": {
             "outlinewidth": 0,
             "ticks": ""
            },
            "type": "choropleth"
           }
          ],
          "contour": [
           {
            "colorbar": {
             "outlinewidth": 0,
             "ticks": ""
            },
            "colorscale": [
             [
              0,
              "#0d0887"
             ],
             [
              0.1111111111111111,
              "#46039f"
             ],
             [
              0.2222222222222222,
              "#7201a8"
             ],
             [
              0.3333333333333333,
              "#9c179e"
             ],
             [
              0.4444444444444444,
              "#bd3786"
             ],
             [
              0.5555555555555556,
              "#d8576b"
             ],
             [
              0.6666666666666666,
              "#ed7953"
             ],
             [
              0.7777777777777778,
              "#fb9f3a"
             ],
             [
              0.8888888888888888,
              "#fdca26"
             ],
             [
              1,
              "#f0f921"
             ]
            ],
            "type": "contour"
           }
          ],
          "contourcarpet": [
           {
            "colorbar": {
             "outlinewidth": 0,
             "ticks": ""
            },
            "type": "contourcarpet"
           }
          ],
          "heatmap": [
           {
            "colorbar": {
             "outlinewidth": 0,
             "ticks": ""
            },
            "colorscale": [
             [
              0,
              "#0d0887"
             ],
             [
              0.1111111111111111,
              "#46039f"
             ],
             [
              0.2222222222222222,
              "#7201a8"
             ],
             [
              0.3333333333333333,
              "#9c179e"
             ],
             [
              0.4444444444444444,
              "#bd3786"
             ],
             [
              0.5555555555555556,
              "#d8576b"
             ],
             [
              0.6666666666666666,
              "#ed7953"
             ],
             [
              0.7777777777777778,
              "#fb9f3a"
             ],
             [
              0.8888888888888888,
              "#fdca26"
             ],
             [
              1,
              "#f0f921"
             ]
            ],
            "type": "heatmap"
           }
          ],
          "heatmapgl": [
           {
            "colorbar": {
             "outlinewidth": 0,
             "ticks": ""
            },
            "colorscale": [
             [
              0,
              "#0d0887"
             ],
             [
              0.1111111111111111,
              "#46039f"
             ],
             [
              0.2222222222222222,
              "#7201a8"
             ],
             [
              0.3333333333333333,
              "#9c179e"
             ],
             [
              0.4444444444444444,
              "#bd3786"
             ],
             [
              0.5555555555555556,
              "#d8576b"
             ],
             [
              0.6666666666666666,
              "#ed7953"
             ],
             [
              0.7777777777777778,
              "#fb9f3a"
             ],
             [
              0.8888888888888888,
              "#fdca26"
             ],
             [
              1,
              "#f0f921"
             ]
            ],
            "type": "heatmapgl"
           }
          ],
          "histogram": [
           {
            "marker": {
             "colorbar": {
              "outlinewidth": 0,
              "ticks": ""
             }
            },
            "type": "histogram"
           }
          ],
          "histogram2d": [
           {
            "colorbar": {
             "outlinewidth": 0,
             "ticks": ""
            },
            "colorscale": [
             [
              0,
              "#0d0887"
             ],
             [
              0.1111111111111111,
              "#46039f"
             ],
             [
              0.2222222222222222,
              "#7201a8"
             ],
             [
              0.3333333333333333,
              "#9c179e"
             ],
             [
              0.4444444444444444,
              "#bd3786"
             ],
             [
              0.5555555555555556,
              "#d8576b"
             ],
             [
              0.6666666666666666,
              "#ed7953"
             ],
             [
              0.7777777777777778,
              "#fb9f3a"
             ],
             [
              0.8888888888888888,
              "#fdca26"
             ],
             [
              1,
              "#f0f921"
             ]
            ],
            "type": "histogram2d"
           }
          ],
          "histogram2dcontour": [
           {
            "colorbar": {
             "outlinewidth": 0,
             "ticks": ""
            },
            "colorscale": [
             [
              0,
              "#0d0887"
             ],
             [
              0.1111111111111111,
              "#46039f"
             ],
             [
              0.2222222222222222,
              "#7201a8"
             ],
             [
              0.3333333333333333,
              "#9c179e"
             ],
             [
              0.4444444444444444,
              "#bd3786"
             ],
             [
              0.5555555555555556,
              "#d8576b"
             ],
             [
              0.6666666666666666,
              "#ed7953"
             ],
             [
              0.7777777777777778,
              "#fb9f3a"
             ],
             [
              0.8888888888888888,
              "#fdca26"
             ],
             [
              1,
              "#f0f921"
             ]
            ],
            "type": "histogram2dcontour"
           }
          ],
          "mesh3d": [
           {
            "colorbar": {
             "outlinewidth": 0,
             "ticks": ""
            },
            "type": "mesh3d"
           }
          ],
          "parcoords": [
           {
            "line": {
             "colorbar": {
              "outlinewidth": 0,
              "ticks": ""
             }
            },
            "type": "parcoords"
           }
          ],
          "pie": [
           {
            "automargin": true,
            "type": "pie"
           }
          ],
          "scatter": [
           {
            "marker": {
             "colorbar": {
              "outlinewidth": 0,
              "ticks": ""
             }
            },
            "type": "scatter"
           }
          ],
          "scatter3d": [
           {
            "line": {
             "colorbar": {
              "outlinewidth": 0,
              "ticks": ""
             }
            },
            "marker": {
             "colorbar": {
              "outlinewidth": 0,
              "ticks": ""
             }
            },
            "type": "scatter3d"
           }
          ],
          "scattercarpet": [
           {
            "marker": {
             "colorbar": {
              "outlinewidth": 0,
              "ticks": ""
             }
            },
            "type": "scattercarpet"
           }
          ],
          "scattergeo": [
           {
            "marker": {
             "colorbar": {
              "outlinewidth": 0,
              "ticks": ""
             }
            },
            "type": "scattergeo"
           }
          ],
          "scattergl": [
           {
            "marker": {
             "colorbar": {
              "outlinewidth": 0,
              "ticks": ""
             }
            },
            "type": "scattergl"
           }
          ],
          "scattermapbox": [
           {
            "marker": {
             "colorbar": {
              "outlinewidth": 0,
              "ticks": ""
             }
            },
            "type": "scattermapbox"
           }
          ],
          "scatterpolar": [
           {
            "marker": {
             "colorbar": {
              "outlinewidth": 0,
              "ticks": ""
             }
            },
            "type": "scatterpolar"
           }
          ],
          "scatterpolargl": [
           {
            "marker": {
             "colorbar": {
              "outlinewidth": 0,
              "ticks": ""
             }
            },
            "type": "scatterpolargl"
           }
          ],
          "scatterternary": [
           {
            "marker": {
             "colorbar": {
              "outlinewidth": 0,
              "ticks": ""
             }
            },
            "type": "scatterternary"
           }
          ],
          "surface": [
           {
            "colorbar": {
             "outlinewidth": 0,
             "ticks": ""
            },
            "colorscale": [
             [
              0,
              "#0d0887"
             ],
             [
              0.1111111111111111,
              "#46039f"
             ],
             [
              0.2222222222222222,
              "#7201a8"
             ],
             [
              0.3333333333333333,
              "#9c179e"
             ],
             [
              0.4444444444444444,
              "#bd3786"
             ],
             [
              0.5555555555555556,
              "#d8576b"
             ],
             [
              0.6666666666666666,
              "#ed7953"
             ],
             [
              0.7777777777777778,
              "#fb9f3a"
             ],
             [
              0.8888888888888888,
              "#fdca26"
             ],
             [
              1,
              "#f0f921"
             ]
            ],
            "type": "surface"
           }
          ],
          "table": [
           {
            "cells": {
             "fill": {
              "color": "#EBF0F8"
             },
             "line": {
              "color": "white"
             }
            },
            "header": {
             "fill": {
              "color": "#C8D4E3"
             },
             "line": {
              "color": "white"
             }
            },
            "type": "table"
           }
          ]
         },
         "layout": {
          "annotationdefaults": {
           "arrowcolor": "#2a3f5f",
           "arrowhead": 0,
           "arrowwidth": 1
          },
          "coloraxis": {
           "colorbar": {
            "outlinewidth": 0,
            "ticks": ""
           }
          },
          "colorscale": {
           "diverging": [
            [
             0,
             "#8e0152"
            ],
            [
             0.1,
             "#c51b7d"
            ],
            [
             0.2,
             "#de77ae"
            ],
            [
             0.3,
             "#f1b6da"
            ],
            [
             0.4,
             "#fde0ef"
            ],
            [
             0.5,
             "#f7f7f7"
            ],
            [
             0.6,
             "#e6f5d0"
            ],
            [
             0.7,
             "#b8e186"
            ],
            [
             0.8,
             "#7fbc41"
            ],
            [
             0.9,
             "#4d9221"
            ],
            [
             1,
             "#276419"
            ]
           ],
           "sequential": [
            [
             0,
             "#0d0887"
            ],
            [
             0.1111111111111111,
             "#46039f"
            ],
            [
             0.2222222222222222,
             "#7201a8"
            ],
            [
             0.3333333333333333,
             "#9c179e"
            ],
            [
             0.4444444444444444,
             "#bd3786"
            ],
            [
             0.5555555555555556,
             "#d8576b"
            ],
            [
             0.6666666666666666,
             "#ed7953"
            ],
            [
             0.7777777777777778,
             "#fb9f3a"
            ],
            [
             0.8888888888888888,
             "#fdca26"
            ],
            [
             1,
             "#f0f921"
            ]
           ],
           "sequentialminus": [
            [
             0,
             "#0d0887"
            ],
            [
             0.1111111111111111,
             "#46039f"
            ],
            [
             0.2222222222222222,
             "#7201a8"
            ],
            [
             0.3333333333333333,
             "#9c179e"
            ],
            [
             0.4444444444444444,
             "#bd3786"
            ],
            [
             0.5555555555555556,
             "#d8576b"
            ],
            [
             0.6666666666666666,
             "#ed7953"
            ],
            [
             0.7777777777777778,
             "#fb9f3a"
            ],
            [
             0.8888888888888888,
             "#fdca26"
            ],
            [
             1,
             "#f0f921"
            ]
           ]
          },
          "colorway": [
           "#636efa",
           "#EF553B",
           "#00cc96",
           "#ab63fa",
           "#FFA15A",
           "#19d3f3",
           "#FF6692",
           "#B6E880",
           "#FF97FF",
           "#FECB52"
          ],
          "font": {
           "color": "#2a3f5f"
          },
          "geo": {
           "bgcolor": "white",
           "lakecolor": "white",
           "landcolor": "white",
           "showlakes": true,
           "showland": true,
           "subunitcolor": "#C8D4E3"
          },
          "hoverlabel": {
           "align": "left"
          },
          "hovermode": "closest",
          "mapbox": {
           "style": "light"
          },
          "paper_bgcolor": "white",
          "plot_bgcolor": "white",
          "polar": {
           "angularaxis": {
            "gridcolor": "#EBF0F8",
            "linecolor": "#EBF0F8",
            "ticks": ""
           },
           "bgcolor": "white",
           "radialaxis": {
            "gridcolor": "#EBF0F8",
            "linecolor": "#EBF0F8",
            "ticks": ""
           }
          },
          "scene": {
           "xaxis": {
            "backgroundcolor": "white",
            "gridcolor": "#DFE8F3",
            "gridwidth": 2,
            "linecolor": "#EBF0F8",
            "showbackground": true,
            "ticks": "",
            "zerolinecolor": "#EBF0F8"
           },
           "yaxis": {
            "backgroundcolor": "white",
            "gridcolor": "#DFE8F3",
            "gridwidth": 2,
            "linecolor": "#EBF0F8",
            "showbackground": true,
            "ticks": "",
            "zerolinecolor": "#EBF0F8"
           },
           "zaxis": {
            "backgroundcolor": "white",
            "gridcolor": "#DFE8F3",
            "gridwidth": 2,
            "linecolor": "#EBF0F8",
            "showbackground": true,
            "ticks": "",
            "zerolinecolor": "#EBF0F8"
           }
          },
          "shapedefaults": {
           "line": {
            "color": "#2a3f5f"
           }
          },
          "ternary": {
           "aaxis": {
            "gridcolor": "#DFE8F3",
            "linecolor": "#A2B1C6",
            "ticks": ""
           },
           "baxis": {
            "gridcolor": "#DFE8F3",
            "linecolor": "#A2B1C6",
            "ticks": ""
           },
           "bgcolor": "white",
           "caxis": {
            "gridcolor": "#DFE8F3",
            "linecolor": "#A2B1C6",
            "ticks": ""
           }
          },
          "title": {
           "x": 0.05
          },
          "xaxis": {
           "automargin": true,
           "gridcolor": "#EBF0F8",
           "linecolor": "#EBF0F8",
           "ticks": "",
           "title": {
            "standoff": 15
           },
           "zerolinecolor": "#EBF0F8",
           "zerolinewidth": 2
          },
          "yaxis": {
           "automargin": true,
           "gridcolor": "#EBF0F8",
           "linecolor": "#EBF0F8",
           "ticks": "",
           "title": {
            "standoff": 15
           },
           "zerolinecolor": "#EBF0F8",
           "zerolinewidth": 2
          }
         }
        },
        "xaxis": {
         "anchor": "y",
         "categoryarray": [
          "Tunis",
          "Ariana",
          "Ben Arous",
          "Manubah",
          "Nabeul",
          "Zaghouan",
          "Bizerte",
          "Béja",
          "Jendouba",
          "Le Kef",
          "Siliana",
          "Sousse",
          "Monastir",
          "Mahdia",
          "Sfax",
          "Kairouan",
          "Kassérine",
          "Sidi Bou Zid",
          "Gabès",
          "Médenine",
          "Tataouine",
          "Gafsa",
          "Tozeur",
          "Kebili"
         ],
         "categoryorder": "array",
         "domain": [
          0,
          1
         ],
         "title": {
          "text": "gov_name_f"
         }
        },
        "yaxis": {
         "anchor": "x",
         "domain": [
          0,
          1
         ],
         "title": {
          "text": "2016"
         }
        }
       }
      },
      "text/html": [
       "<div>\n",
       "        \n",
       "        \n",
       "            <div id=\"d4fcc08c-56c5-4eb2-a3ab-c4e59993571a\" class=\"plotly-graph-div\" style=\"height:525px; width:100%;\"></div>\n",
       "            <script type=\"text/javascript\">\n",
       "                require([\"plotly\"], function(Plotly) {\n",
       "                    window.PLOTLYENV=window.PLOTLYENV || {};\n",
       "                    \n",
       "                if (document.getElementById(\"d4fcc08c-56c5-4eb2-a3ab-c4e59993571a\")) {\n",
       "                    Plotly.newPlot(\n",
       "                        'd4fcc08c-56c5-4eb2-a3ab-c4e59993571a',\n",
       "                        [{\"alignmentgroup\": \"True\", \"hovertemplate\": \"gov_name_f=%{x}<br>2016=%{y}<extra></extra>\", \"legendgroup\": \"Tunis\", \"marker\": {\"color\": \"#636efa\"}, \"name\": \"Tunis\", \"offsetgroup\": \"Tunis\", \"orientation\": \"v\", \"showlegend\": true, \"textposition\": \"auto\", \"type\": \"bar\", \"x\": [\"Tunis\"], \"xaxis\": \"x\", \"y\": [26], \"yaxis\": \"y\"}, {\"alignmentgroup\": \"True\", \"hovertemplate\": \"gov_name_f=%{x}<br>2016=%{y}<extra></extra>\", \"legendgroup\": \"Ariana\", \"marker\": {\"color\": \"#EF553B\"}, \"name\": \"Ariana\", \"offsetgroup\": \"Ariana\", \"orientation\": \"v\", \"showlegend\": true, \"textposition\": \"auto\", \"type\": \"bar\", \"x\": [\"Ariana\"], \"xaxis\": \"x\", \"y\": [2], \"yaxis\": \"y\"}, {\"alignmentgroup\": \"True\", \"hovertemplate\": \"gov_name_f=%{x}<br>2016=%{y}<extra></extra>\", \"legendgroup\": \"Ben Arous\", \"marker\": {\"color\": \"#00cc96\"}, \"name\": \"Ben Arous\", \"offsetgroup\": \"Ben Arous\", \"orientation\": \"v\", \"showlegend\": true, \"textposition\": \"auto\", \"type\": \"bar\", \"x\": [\"Ben Arous\"], \"xaxis\": \"x\", \"y\": [7], \"yaxis\": \"y\"}, {\"alignmentgroup\": \"True\", \"hovertemplate\": \"gov_name_f=%{x}<br>2016=%{y}<extra></extra>\", \"legendgroup\": \"Manubah\", \"marker\": {\"color\": \"#ab63fa\"}, \"name\": \"Manubah\", \"offsetgroup\": \"Manubah\", \"orientation\": \"v\", \"showlegend\": true, \"textposition\": \"auto\", \"type\": \"bar\", \"x\": [\"Manubah\"], \"xaxis\": \"x\", \"y\": [5], \"yaxis\": \"y\"}, {\"alignmentgroup\": \"True\", \"hovertemplate\": \"gov_name_f=%{x}<br>2016=%{y}<extra></extra>\", \"legendgroup\": \"Nabeul\", \"marker\": {\"color\": \"#FFA15A\"}, \"name\": \"Nabeul\", \"offsetgroup\": \"Nabeul\", \"orientation\": \"v\", \"showlegend\": true, \"textposition\": \"auto\", \"type\": \"bar\", \"x\": [\"Nabeul\"], \"xaxis\": \"x\", \"y\": [9], \"yaxis\": \"y\"}, {\"alignmentgroup\": \"True\", \"hovertemplate\": \"gov_name_f=%{x}<br>2016=%{y}<extra></extra>\", \"legendgroup\": \"Zaghouan\", \"marker\": {\"color\": \"#19d3f3\"}, \"name\": \"Zaghouan\", \"offsetgroup\": \"Zaghouan\", \"orientation\": \"v\", \"showlegend\": true, \"textposition\": \"auto\", \"type\": \"bar\", \"x\": [\"Zaghouan\"], \"xaxis\": \"x\", \"y\": [5], \"yaxis\": \"y\"}, {\"alignmentgroup\": \"True\", \"hovertemplate\": \"gov_name_f=%{x}<br>2016=%{y}<extra></extra>\", \"legendgroup\": \"Bizerte\", \"marker\": {\"color\": \"#FF6692\"}, \"name\": \"Bizerte\", \"offsetgroup\": \"Bizerte\", \"orientation\": \"v\", \"showlegend\": true, \"textposition\": \"auto\", \"type\": \"bar\", \"x\": [\"Bizerte\"], \"xaxis\": \"x\", \"y\": [10], \"yaxis\": \"y\"}, {\"alignmentgroup\": \"True\", \"hovertemplate\": \"gov_name_f=%{x}<br>2016=%{y}<extra></extra>\", \"legendgroup\": \"B\\u00e9ja\", \"marker\": {\"color\": \"#B6E880\"}, \"name\": \"B\\u00e9ja\", \"offsetgroup\": \"B\\u00e9ja\", \"orientation\": \"v\", \"showlegend\": true, \"textposition\": \"auto\", \"type\": \"bar\", \"x\": [\"B\\u00e9ja\"], \"xaxis\": \"x\", \"y\": [9], \"yaxis\": \"y\"}, {\"alignmentgroup\": \"True\", \"hovertemplate\": \"gov_name_f=%{x}<br>2016=%{y}<extra></extra>\", \"legendgroup\": \"Jendouba\", \"marker\": {\"color\": \"#FF97FF\"}, \"name\": \"Jendouba\", \"offsetgroup\": \"Jendouba\", \"orientation\": \"v\", \"showlegend\": true, \"textposition\": \"auto\", \"type\": \"bar\", \"x\": [\"Jendouba\"], \"xaxis\": \"x\", \"y\": [7], \"yaxis\": \"y\"}, {\"alignmentgroup\": \"True\", \"hovertemplate\": \"gov_name_f=%{x}<br>2016=%{y}<extra></extra>\", \"legendgroup\": \"Le Kef\", \"marker\": {\"color\": \"#FECB52\"}, \"name\": \"Le Kef\", \"offsetgroup\": \"Le Kef\", \"orientation\": \"v\", \"showlegend\": true, \"textposition\": \"auto\", \"type\": \"bar\", \"x\": [\"Le Kef\"], \"xaxis\": \"x\", \"y\": [10], \"yaxis\": \"y\"}, {\"alignmentgroup\": \"True\", \"hovertemplate\": \"gov_name_f=%{x}<br>2016=%{y}<extra></extra>\", \"legendgroup\": \"Siliana\", \"marker\": {\"color\": \"#636efa\"}, \"name\": \"Siliana\", \"offsetgroup\": \"Siliana\", \"orientation\": \"v\", \"showlegend\": true, \"textposition\": \"auto\", \"type\": \"bar\", \"x\": [\"Siliana\"], \"xaxis\": \"x\", \"y\": [8], \"yaxis\": \"y\"}, {\"alignmentgroup\": \"True\", \"hovertemplate\": \"gov_name_f=%{x}<br>2016=%{y}<extra></extra>\", \"legendgroup\": \"Sousse\", \"marker\": {\"color\": \"#EF553B\"}, \"name\": \"Sousse\", \"offsetgroup\": \"Sousse\", \"orientation\": \"v\", \"showlegend\": true, \"textposition\": \"auto\", \"type\": \"bar\", \"x\": [\"Sousse\"], \"xaxis\": \"x\", \"y\": [9], \"yaxis\": \"y\"}, {\"alignmentgroup\": \"True\", \"hovertemplate\": \"gov_name_f=%{x}<br>2016=%{y}<extra></extra>\", \"legendgroup\": \"Monastir\", \"marker\": {\"color\": \"#00cc96\"}, \"name\": \"Monastir\", \"offsetgroup\": \"Monastir\", \"orientation\": \"v\", \"showlegend\": true, \"textposition\": \"auto\", \"type\": \"bar\", \"x\": [\"Monastir\"], \"xaxis\": \"x\", \"y\": [15], \"yaxis\": \"y\"}, {\"alignmentgroup\": \"True\", \"hovertemplate\": \"gov_name_f=%{x}<br>2016=%{y}<extra></extra>\", \"legendgroup\": \"Mahdia\", \"marker\": {\"color\": \"#ab63fa\"}, \"name\": \"Mahdia\", \"offsetgroup\": \"Mahdia\", \"orientation\": \"v\", \"showlegend\": true, \"textposition\": \"auto\", \"type\": \"bar\", \"x\": [\"Mahdia\"], \"xaxis\": \"x\", \"y\": [14], \"yaxis\": \"y\"}, {\"alignmentgroup\": \"True\", \"hovertemplate\": \"gov_name_f=%{x}<br>2016=%{y}<extra></extra>\", \"legendgroup\": \"Sfax\", \"marker\": {\"color\": \"#FFA15A\"}, \"name\": \"Sfax\", \"offsetgroup\": \"Sfax\", \"orientation\": \"v\", \"showlegend\": true, \"textposition\": \"auto\", \"type\": \"bar\", \"x\": [\"Sfax\"], \"xaxis\": \"x\", \"y\": [14], \"yaxis\": \"y\"}, {\"alignmentgroup\": \"True\", \"hovertemplate\": \"gov_name_f=%{x}<br>2016=%{y}<extra></extra>\", \"legendgroup\": \"Kairouan\", \"marker\": {\"color\": \"#19d3f3\"}, \"name\": \"Kairouan\", \"offsetgroup\": \"Kairouan\", \"orientation\": \"v\", \"showlegend\": true, \"textposition\": \"auto\", \"type\": \"bar\", \"x\": [\"Kairouan\"], \"xaxis\": \"x\", \"y\": [12], \"yaxis\": \"y\"}, {\"alignmentgroup\": \"True\", \"hovertemplate\": \"gov_name_f=%{x}<br>2016=%{y}<extra></extra>\", \"legendgroup\": \"Kass\\u00e9rine\", \"marker\": {\"color\": \"#FF6692\"}, \"name\": \"Kass\\u00e9rine\", \"offsetgroup\": \"Kass\\u00e9rine\", \"orientation\": \"v\", \"showlegend\": true, \"textposition\": \"auto\", \"type\": \"bar\", \"x\": [\"Kass\\u00e9rine\"], \"xaxis\": \"x\", \"y\": [13], \"yaxis\": \"y\"}, {\"alignmentgroup\": \"True\", \"hovertemplate\": \"gov_name_f=%{x}<br>2016=%{y}<extra></extra>\", \"legendgroup\": \"Sidi Bou Zid\", \"marker\": {\"color\": \"#B6E880\"}, \"name\": \"Sidi Bou Zid\", \"offsetgroup\": \"Sidi Bou Zid\", \"orientation\": \"v\", \"showlegend\": true, \"textposition\": \"auto\", \"type\": \"bar\", \"x\": [\"Sidi Bou Zid\"], \"xaxis\": \"x\", \"y\": [7], \"yaxis\": \"y\"}, {\"alignmentgroup\": \"True\", \"hovertemplate\": \"gov_name_f=%{x}<br>2016=%{y}<extra></extra>\", \"legendgroup\": \"Gab\\u00e8s\", \"marker\": {\"color\": \"#FF97FF\"}, \"name\": \"Gab\\u00e8s\", \"offsetgroup\": \"Gab\\u00e8s\", \"orientation\": \"v\", \"showlegend\": true, \"textposition\": \"auto\", \"type\": \"bar\", \"x\": [\"Gab\\u00e8s\"], \"xaxis\": \"x\", \"y\": [9], \"yaxis\": \"y\"}, {\"alignmentgroup\": \"True\", \"hovertemplate\": \"gov_name_f=%{x}<br>2016=%{y}<extra></extra>\", \"legendgroup\": \"M\\u00e9denine\", \"marker\": {\"color\": \"#FECB52\"}, \"name\": \"M\\u00e9denine\", \"offsetgroup\": \"M\\u00e9denine\", \"orientation\": \"v\", \"showlegend\": true, \"textposition\": \"auto\", \"type\": \"bar\", \"x\": [\"M\\u00e9denine\"], \"xaxis\": \"x\", \"y\": [8], \"yaxis\": \"y\"}, {\"alignmentgroup\": \"True\", \"hovertemplate\": \"gov_name_f=%{x}<br>2016=%{y}<extra></extra>\", \"legendgroup\": \"Tataouine\", \"marker\": {\"color\": \"#636efa\"}, \"name\": \"Tataouine\", \"offsetgroup\": \"Tataouine\", \"orientation\": \"v\", \"showlegend\": true, \"textposition\": \"auto\", \"type\": \"bar\", \"x\": [\"Tataouine\"], \"xaxis\": \"x\", \"y\": [6], \"yaxis\": \"y\"}, {\"alignmentgroup\": \"True\", \"hovertemplate\": \"gov_name_f=%{x}<br>2016=%{y}<extra></extra>\", \"legendgroup\": \"Gafsa\", \"marker\": {\"color\": \"#EF553B\"}, \"name\": \"Gafsa\", \"offsetgroup\": \"Gafsa\", \"orientation\": \"v\", \"showlegend\": true, \"textposition\": \"auto\", \"type\": \"bar\", \"x\": [\"Gafsa\"], \"xaxis\": \"x\", \"y\": [8], \"yaxis\": \"y\"}, {\"alignmentgroup\": \"True\", \"hovertemplate\": \"gov_name_f=%{x}<br>2016=%{y}<extra></extra>\", \"legendgroup\": \"Tozeur\", \"marker\": {\"color\": \"#00cc96\"}, \"name\": \"Tozeur\", \"offsetgroup\": \"Tozeur\", \"orientation\": \"v\", \"showlegend\": true, \"textposition\": \"auto\", \"type\": \"bar\", \"x\": [\"Tozeur\"], \"xaxis\": \"x\", \"y\": [3], \"yaxis\": \"y\"}, {\"alignmentgroup\": \"True\", \"hovertemplate\": \"gov_name_f=%{x}<br>2016=%{y}<extra></extra>\", \"legendgroup\": \"Kebili\", \"marker\": {\"color\": \"#ab63fa\"}, \"name\": \"Kebili\", \"offsetgroup\": \"Kebili\", \"orientation\": \"v\", \"showlegend\": true, \"textposition\": \"auto\", \"type\": \"bar\", \"x\": [\"Kebili\"], \"xaxis\": \"x\", \"y\": [4], \"yaxis\": \"y\"}],\n",
       "                        {\"barmode\": \"relative\", \"legend\": {\"title\": {\"text\": \"gov_name_f\"}, \"tracegroupgap\": 0}, \"margin\": {\"t\": 60}, \"template\": {\"data\": {\"bar\": [{\"error_x\": {\"color\": \"#2a3f5f\"}, \"error_y\": {\"color\": \"#2a3f5f\"}, \"marker\": {\"line\": {\"color\": \"white\", \"width\": 0.5}}, \"type\": \"bar\"}], \"barpolar\": [{\"marker\": {\"line\": {\"color\": \"white\", \"width\": 0.5}}, \"type\": \"barpolar\"}], \"carpet\": [{\"aaxis\": {\"endlinecolor\": \"#2a3f5f\", \"gridcolor\": \"#C8D4E3\", \"linecolor\": \"#C8D4E3\", \"minorgridcolor\": \"#C8D4E3\", \"startlinecolor\": \"#2a3f5f\"}, \"baxis\": {\"endlinecolor\": \"#2a3f5f\", \"gridcolor\": \"#C8D4E3\", \"linecolor\": \"#C8D4E3\", \"minorgridcolor\": \"#C8D4E3\", \"startlinecolor\": \"#2a3f5f\"}, \"type\": \"carpet\"}], \"choropleth\": [{\"colorbar\": {\"outlinewidth\": 0, \"ticks\": \"\"}, \"type\": \"choropleth\"}], \"contour\": [{\"colorbar\": {\"outlinewidth\": 0, \"ticks\": \"\"}, \"colorscale\": [[0.0, \"#0d0887\"], [0.1111111111111111, \"#46039f\"], [0.2222222222222222, \"#7201a8\"], [0.3333333333333333, \"#9c179e\"], [0.4444444444444444, \"#bd3786\"], [0.5555555555555556, \"#d8576b\"], [0.6666666666666666, \"#ed7953\"], [0.7777777777777778, \"#fb9f3a\"], [0.8888888888888888, \"#fdca26\"], [1.0, \"#f0f921\"]], \"type\": \"contour\"}], \"contourcarpet\": [{\"colorbar\": {\"outlinewidth\": 0, \"ticks\": \"\"}, \"type\": \"contourcarpet\"}], \"heatmap\": [{\"colorbar\": {\"outlinewidth\": 0, \"ticks\": \"\"}, \"colorscale\": [[0.0, \"#0d0887\"], [0.1111111111111111, \"#46039f\"], [0.2222222222222222, \"#7201a8\"], [0.3333333333333333, \"#9c179e\"], [0.4444444444444444, \"#bd3786\"], [0.5555555555555556, \"#d8576b\"], [0.6666666666666666, \"#ed7953\"], [0.7777777777777778, \"#fb9f3a\"], [0.8888888888888888, \"#fdca26\"], [1.0, \"#f0f921\"]], \"type\": \"heatmap\"}], \"heatmapgl\": [{\"colorbar\": {\"outlinewidth\": 0, \"ticks\": \"\"}, \"colorscale\": [[0.0, \"#0d0887\"], [0.1111111111111111, \"#46039f\"], [0.2222222222222222, \"#7201a8\"], [0.3333333333333333, \"#9c179e\"], [0.4444444444444444, \"#bd3786\"], [0.5555555555555556, \"#d8576b\"], [0.6666666666666666, \"#ed7953\"], [0.7777777777777778, \"#fb9f3a\"], [0.8888888888888888, \"#fdca26\"], [1.0, \"#f0f921\"]], \"type\": \"heatmapgl\"}], \"histogram\": [{\"marker\": {\"colorbar\": {\"outlinewidth\": 0, \"ticks\": \"\"}}, \"type\": \"histogram\"}], \"histogram2d\": [{\"colorbar\": {\"outlinewidth\": 0, \"ticks\": \"\"}, \"colorscale\": [[0.0, \"#0d0887\"], [0.1111111111111111, \"#46039f\"], [0.2222222222222222, \"#7201a8\"], [0.3333333333333333, \"#9c179e\"], [0.4444444444444444, \"#bd3786\"], [0.5555555555555556, \"#d8576b\"], [0.6666666666666666, \"#ed7953\"], [0.7777777777777778, \"#fb9f3a\"], [0.8888888888888888, \"#fdca26\"], [1.0, \"#f0f921\"]], \"type\": \"histogram2d\"}], \"histogram2dcontour\": [{\"colorbar\": {\"outlinewidth\": 0, \"ticks\": \"\"}, \"colorscale\": [[0.0, \"#0d0887\"], [0.1111111111111111, \"#46039f\"], [0.2222222222222222, \"#7201a8\"], [0.3333333333333333, \"#9c179e\"], [0.4444444444444444, \"#bd3786\"], [0.5555555555555556, \"#d8576b\"], [0.6666666666666666, \"#ed7953\"], [0.7777777777777778, \"#fb9f3a\"], [0.8888888888888888, \"#fdca26\"], [1.0, \"#f0f921\"]], \"type\": \"histogram2dcontour\"}], \"mesh3d\": [{\"colorbar\": {\"outlinewidth\": 0, \"ticks\": \"\"}, \"type\": \"mesh3d\"}], \"parcoords\": [{\"line\": {\"colorbar\": {\"outlinewidth\": 0, \"ticks\": \"\"}}, \"type\": \"parcoords\"}], \"pie\": [{\"automargin\": true, \"type\": \"pie\"}], \"scatter\": [{\"marker\": {\"colorbar\": {\"outlinewidth\": 0, \"ticks\": \"\"}}, \"type\": \"scatter\"}], \"scatter3d\": [{\"line\": {\"colorbar\": {\"outlinewidth\": 0, \"ticks\": \"\"}}, \"marker\": {\"colorbar\": {\"outlinewidth\": 0, \"ticks\": \"\"}}, \"type\": \"scatter3d\"}], \"scattercarpet\": [{\"marker\": {\"colorbar\": {\"outlinewidth\": 0, \"ticks\": \"\"}}, \"type\": \"scattercarpet\"}], \"scattergeo\": [{\"marker\": {\"colorbar\": {\"outlinewidth\": 0, \"ticks\": \"\"}}, \"type\": \"scattergeo\"}], \"scattergl\": [{\"marker\": {\"colorbar\": {\"outlinewidth\": 0, \"ticks\": \"\"}}, \"type\": \"scattergl\"}], \"scattermapbox\": [{\"marker\": {\"colorbar\": {\"outlinewidth\": 0, \"ticks\": \"\"}}, \"type\": \"scattermapbox\"}], \"scatterpolar\": [{\"marker\": {\"colorbar\": {\"outlinewidth\": 0, \"ticks\": \"\"}}, \"type\": \"scatterpolar\"}], \"scatterpolargl\": [{\"marker\": {\"colorbar\": {\"outlinewidth\": 0, \"ticks\": \"\"}}, \"type\": \"scatterpolargl\"}], \"scatterternary\": [{\"marker\": {\"colorbar\": {\"outlinewidth\": 0, \"ticks\": \"\"}}, \"type\": \"scatterternary\"}], \"surface\": [{\"colorbar\": {\"outlinewidth\": 0, \"ticks\": \"\"}, \"colorscale\": [[0.0, \"#0d0887\"], [0.1111111111111111, \"#46039f\"], [0.2222222222222222, \"#7201a8\"], [0.3333333333333333, \"#9c179e\"], [0.4444444444444444, \"#bd3786\"], [0.5555555555555556, \"#d8576b\"], [0.6666666666666666, \"#ed7953\"], [0.7777777777777778, \"#fb9f3a\"], [0.8888888888888888, \"#fdca26\"], [1.0, \"#f0f921\"]], \"type\": \"surface\"}], \"table\": [{\"cells\": {\"fill\": {\"color\": \"#EBF0F8\"}, \"line\": {\"color\": \"white\"}}, \"header\": {\"fill\": {\"color\": \"#C8D4E3\"}, \"line\": {\"color\": \"white\"}}, \"type\": \"table\"}]}, \"layout\": {\"annotationdefaults\": {\"arrowcolor\": \"#2a3f5f\", \"arrowhead\": 0, \"arrowwidth\": 1}, \"coloraxis\": {\"colorbar\": {\"outlinewidth\": 0, \"ticks\": \"\"}}, \"colorscale\": {\"diverging\": [[0, \"#8e0152\"], [0.1, \"#c51b7d\"], [0.2, \"#de77ae\"], [0.3, \"#f1b6da\"], [0.4, \"#fde0ef\"], [0.5, \"#f7f7f7\"], [0.6, \"#e6f5d0\"], [0.7, \"#b8e186\"], [0.8, \"#7fbc41\"], [0.9, \"#4d9221\"], [1, \"#276419\"]], \"sequential\": [[0.0, \"#0d0887\"], [0.1111111111111111, \"#46039f\"], [0.2222222222222222, \"#7201a8\"], [0.3333333333333333, \"#9c179e\"], [0.4444444444444444, \"#bd3786\"], [0.5555555555555556, \"#d8576b\"], [0.6666666666666666, \"#ed7953\"], [0.7777777777777778, \"#fb9f3a\"], [0.8888888888888888, \"#fdca26\"], [1.0, \"#f0f921\"]], \"sequentialminus\": [[0.0, \"#0d0887\"], [0.1111111111111111, \"#46039f\"], [0.2222222222222222, \"#7201a8\"], [0.3333333333333333, \"#9c179e\"], [0.4444444444444444, \"#bd3786\"], [0.5555555555555556, \"#d8576b\"], [0.6666666666666666, \"#ed7953\"], [0.7777777777777778, \"#fb9f3a\"], [0.8888888888888888, \"#fdca26\"], [1.0, \"#f0f921\"]]}, \"colorway\": [\"#636efa\", \"#EF553B\", \"#00cc96\", \"#ab63fa\", \"#FFA15A\", \"#19d3f3\", \"#FF6692\", \"#B6E880\", \"#FF97FF\", \"#FECB52\"], \"font\": {\"color\": \"#2a3f5f\"}, \"geo\": {\"bgcolor\": \"white\", \"lakecolor\": \"white\", \"landcolor\": \"white\", \"showlakes\": true, \"showland\": true, \"subunitcolor\": \"#C8D4E3\"}, \"hoverlabel\": {\"align\": \"left\"}, \"hovermode\": \"closest\", \"mapbox\": {\"style\": \"light\"}, \"paper_bgcolor\": \"white\", \"plot_bgcolor\": \"white\", \"polar\": {\"angularaxis\": {\"gridcolor\": \"#EBF0F8\", \"linecolor\": \"#EBF0F8\", \"ticks\": \"\"}, \"bgcolor\": \"white\", \"radialaxis\": {\"gridcolor\": \"#EBF0F8\", \"linecolor\": \"#EBF0F8\", \"ticks\": \"\"}}, \"scene\": {\"xaxis\": {\"backgroundcolor\": \"white\", \"gridcolor\": \"#DFE8F3\", \"gridwidth\": 2, \"linecolor\": \"#EBF0F8\", \"showbackground\": true, \"ticks\": \"\", \"zerolinecolor\": \"#EBF0F8\"}, \"yaxis\": {\"backgroundcolor\": \"white\", \"gridcolor\": \"#DFE8F3\", \"gridwidth\": 2, \"linecolor\": \"#EBF0F8\", \"showbackground\": true, \"ticks\": \"\", \"zerolinecolor\": \"#EBF0F8\"}, \"zaxis\": {\"backgroundcolor\": \"white\", \"gridcolor\": \"#DFE8F3\", \"gridwidth\": 2, \"linecolor\": \"#EBF0F8\", \"showbackground\": true, \"ticks\": \"\", \"zerolinecolor\": \"#EBF0F8\"}}, \"shapedefaults\": {\"line\": {\"color\": \"#2a3f5f\"}}, \"ternary\": {\"aaxis\": {\"gridcolor\": \"#DFE8F3\", \"linecolor\": \"#A2B1C6\", \"ticks\": \"\"}, \"baxis\": {\"gridcolor\": \"#DFE8F3\", \"linecolor\": \"#A2B1C6\", \"ticks\": \"\"}, \"bgcolor\": \"white\", \"caxis\": {\"gridcolor\": \"#DFE8F3\", \"linecolor\": \"#A2B1C6\", \"ticks\": \"\"}}, \"title\": {\"x\": 0.05}, \"xaxis\": {\"automargin\": true, \"gridcolor\": \"#EBF0F8\", \"linecolor\": \"#EBF0F8\", \"ticks\": \"\", \"title\": {\"standoff\": 15}, \"zerolinecolor\": \"#EBF0F8\", \"zerolinewidth\": 2}, \"yaxis\": {\"automargin\": true, \"gridcolor\": \"#EBF0F8\", \"linecolor\": \"#EBF0F8\", \"ticks\": \"\", \"title\": {\"standoff\": 15}, \"zerolinecolor\": \"#EBF0F8\", \"zerolinewidth\": 2}}}, \"xaxis\": {\"anchor\": \"y\", \"categoryarray\": [\"Tunis\", \"Ariana\", \"Ben Arous\", \"Manubah\", \"Nabeul\", \"Zaghouan\", \"Bizerte\", \"B\\u00e9ja\", \"Jendouba\", \"Le Kef\", \"Siliana\", \"Sousse\", \"Monastir\", \"Mahdia\", \"Sfax\", \"Kairouan\", \"Kass\\u00e9rine\", \"Sidi Bou Zid\", \"Gab\\u00e8s\", \"M\\u00e9denine\", \"Tataouine\", \"Gafsa\", \"Tozeur\", \"Kebili\"], \"categoryorder\": \"array\", \"domain\": [0.0, 1.0], \"title\": {\"text\": \"gov_name_f\"}}, \"yaxis\": {\"anchor\": \"x\", \"domain\": [0.0, 1.0], \"title\": {\"text\": \"2016\"}}},\n",
       "                        {\"responsive\": true}\n",
       "                    ).then(function(){\n",
       "                            \n",
       "var gd = document.getElementById('d4fcc08c-56c5-4eb2-a3ab-c4e59993571a');\n",
       "var x = new MutationObserver(function (mutations, observer) {{\n",
       "        var display = window.getComputedStyle(gd).display;\n",
       "        if (!display || display === 'none') {{\n",
       "            console.log([gd, 'removed!']);\n",
       "            Plotly.purge(gd);\n",
       "            observer.disconnect();\n",
       "        }}\n",
       "}});\n",
       "\n",
       "// Listen for the removal of the full notebook cells\n",
       "var notebookContainer = gd.closest('#notebook-container');\n",
       "if (notebookContainer) {{\n",
       "    x.observe(notebookContainer, {childList: true});\n",
       "}}\n",
       "\n",
       "// Listen for the clearing of the current output cell\n",
       "var outputEl = gd.closest('.output');\n",
       "if (outputEl) {{\n",
       "    x.observe(outputEl, {childList: true});\n",
       "}}\n",
       "\n",
       "                        })\n",
       "                };\n",
       "                });\n",
       "            </script>\n",
       "        </div>"
      ]
     },
     "metadata": {},
     "output_type": "display_data"
    }
   ],
   "source": [
    "df21=pd.read_csv ('evolution-nombre-maison-culture.csv')\n",
    "\n",
    "\n",
    "nbre_MC_gov = px.bar(df342, x='gov_name_f', y='2016',\n",
    "              color='gov_name_f',title='',template='plotly_white')\n",
    "nbre_MC_gov.show()"
   ]
  },
  {
   "cell_type": "code",
   "execution_count": null,
   "metadata": {},
   "outputs": [],
   "source": []
  },
  {
   "cell_type": "code",
   "execution_count": null,
   "metadata": {},
   "outputs": [],
   "source": []
  },
  {
   "cell_type": "code",
   "execution_count": null,
   "metadata": {},
   "outputs": [],
   "source": []
  },
  {
   "cell_type": "code",
   "execution_count": null,
   "metadata": {},
   "outputs": [],
   "source": []
  },
  {
   "cell_type": "code",
   "execution_count": null,
   "metadata": {},
   "outputs": [],
   "source": []
  },
  {
   "cell_type": "code",
   "execution_count": null,
   "metadata": {},
   "outputs": [],
   "source": []
  },
  {
   "cell_type": "code",
   "execution_count": null,
   "metadata": {},
   "outputs": [],
   "source": []
  },
  {
   "cell_type": "code",
   "execution_count": null,
   "metadata": {},
   "outputs": [],
   "source": []
  },
  {
   "cell_type": "code",
   "execution_count": 20,
   "metadata": {},
   "outputs": [
    {
     "name": "stdout",
     "output_type": "stream",
     "text": [
      "Running on http://127.0.0.1:8050/\n",
      "Running on http://127.0.0.1:8050/\n",
      "Debugger PIN: 248-703-498\n",
      "Debugger PIN: 248-703-498\n",
      " * Serving Flask app \"__main__\" (lazy loading)\n",
      " * Environment: production\n",
      "   WARNING: This is a development server. Do not use it in a production deployment.\n",
      "   Use a production WSGI server instead.\n",
      " * Debug mode: on\n"
     ]
    }
   ],
   "source": [
    "import dash\n",
    "import dash_html_components as html\n",
    "import dash_core_components as dcc\n",
    "\n",
    "from dash.dependencies import Input, Output\n",
    "\n",
    "app = dash.Dash()\n",
    "\n",
    "app.layout = html.Div([\n",
    "    dcc.Tabs(id='tabs-example', value='tabs-1', children=[\n",
    "        dcc.Tab(label='Subventions', value='tab-1'),\n",
    "        dcc.Tab(label='Maisons de cultures', value='tab-2'),\n",
    "        dcc.Tab(label='JCC', value='tab-3'),\n",
    "    ]),\n",
    "    html.Div(id='tabs-example-content')\n",
    "])\n",
    "\n",
    "@app.callback(Output('tabs-example-content', 'children'),\n",
    "              [Input('tabs-example', 'value')])\n",
    "def render_content(tab):\n",
    "    if tab == 'tab-1':\n",
    "        return html.Div([\n",
    "            html.Div(className='row',\n",
    "#                      style={'background-color':'#d6d6d6'},\n",
    "                    children=[\n",
    "            html.Div(className='row',\n",
    "                     style={'height':'100px','margin-top':'100px','margin-bottom':'100px'},\n",
    "                     children=[\n",
    "                                html.H1(style={'text-align':'center'},children='Subventions de Ministère de culture')\n",
    "                             ]\n",
    "                    ),\n",
    "\n",
    "            \n",
    "            html.Div(className='row',\n",
    "                     style={'height':'600px','margin-top':'30px'},\n",
    "                     children=[\n",
    "                                html.Div(className='row',\n",
    "                                         style={'width':'45%','display':'inline-block','margin-left':'20px'},\n",
    "                                         children=[\n",
    "                                                html.Div(className='row',\n",
    "                                                         style={},\n",
    "                                                         children=[\n",
    "\n",
    "                                                                 html.H1(style={'text-align':'center'},children='Subventions par Governorat par années'),\n",
    "                                                                 dcc.Graph(\n",
    "                                                                            id='example-1',\n",
    "                                                                            figure=sub_gov_an,\n",
    "                                                                            style={\n",
    "                                                                                   'width':\"100%\"\n",
    "                                                                                  }\n",
    "\n",
    "\n",
    "                                                                        ),\n",
    "\n",
    "                                                            ]),\n",
    "\n",
    "                                          ]\n",
    "                                        ),\n",
    "                                 html.Div(className='row',\n",
    "                                         style={'width':'50%','display':'inline-block','margin-left':'20px'},\n",
    "                                         children=[\n",
    "                                                html.Div(className='row',\n",
    "                                                         style={},\n",
    "                                                         children=[\n",
    "\n",
    "                                                                 html.H1(style={'text-align':'center'},children='Subventions par clubs par années'),\n",
    "                                                                 dcc.Graph(\n",
    "                                                                            id='example-2',\n",
    "                                                                            figure=sub_club_an,\n",
    "                                                                            style={\n",
    "                                                                                   'width':\"100%\"\n",
    "                                                                                  }\n",
    "\n",
    "\n",
    "                                                                        )\n",
    "\n",
    "                                                            ]\n",
    "                                                ),\n",
    "\n",
    "                                          ]\n",
    "                                        ),\n",
    "                     ]\n",
    "                     \n",
    "                    ),\n",
    "]\n",
    "                    ),\n",
    "            \n",
    "        ])\n",
    "    elif tab == 'tab-2':\n",
    "        return html.Div([\n",
    "                         \n",
    "                        html.Div(className='row',\n",
    "                                 style={'height':'100px','margin-top':'100px','margin-bottom':'100px','margin-left':'80px'},\n",
    "                                 children=[\n",
    "                                            html.H1(style={'text-align':'center'},children='Maisons de culture en Tunisie')\n",
    "                                         ]\n",
    "                        ),\n",
    "                    \n",
    "                        html.Div(className='row',\n",
    "                                 style={'height':'600px','margin-top':'30px','margin-left':'40px'},\n",
    "                                 children=[\n",
    "                                            html.Div(className='row',\n",
    "                                                     style={'width':'45%','display':'inline-block'},\n",
    "                                                     children=[\n",
    "                                                            html.Div(className='row',\n",
    "                                                                     style={},\n",
    "                                                                     children=[\n",
    "\n",
    "                                                                             html.H1(style={'text-align':'center'},children='Evolution de nombre de maisons de culture par section'),\n",
    "                                                                             dcc.Graph(\n",
    "                                                                                        id='example-3',\n",
    "                                                                                        figure=evol_MC_section,\n",
    "                                                                                        style={\n",
    "                                                                                               'width':\"100%\"\n",
    "                                                                                              }\n",
    "\n",
    "\n",
    "                                                                                    ),\n",
    "\n",
    "                                                                        ]),\n",
    "\n",
    "                                                      ]\n",
    "                                                    ),\n",
    "                                             html.Div(className='row',\n",
    "                                                     style={'width':'50%','display':'inline-block','margin-left':'90px'},\n",
    "                                                     children=[\n",
    "                                                            html.Div(className='row',\n",
    "                                                                     style={},\n",
    "                                                                     children=[\n",
    "\n",
    "                                                                             html.H1(style={'text-align':'center'},children='Nombre de Maisons de culture/inscrits'),\n",
    "                                                                             dcc.Graph(\n",
    "                                                                                        id='example-4',\n",
    "                                                                                        figure=nbre_MC_inscrits,\n",
    "                                                                                        style={\n",
    "                                                                                               'width':\"100%\"\n",
    "                                                                                              }\n",
    "\n",
    "\n",
    "                                                                                    )\n",
    "\n",
    "                                                                        ]\n",
    "                                                            ),\n",
    "\n",
    "                                                      ]\n",
    "                                                    ),\n",
    "                                 ]\n",
    "\n",
    "                                ),\n",
    "\n",
    "                                html.Div(className='row',\n",
    "                                         style={'margin-top':'30px','margin-left':'40px'},\n",
    "                                         children=[\n",
    "                                                    html.Div(className='row',\n",
    "                                                             style={'width':'100%','display':'inline-block','margin-left':'20px'},\n",
    "                                                             children=[\n",
    "                                                                    html.Div(className='row',\n",
    "                                                                             style={},\n",
    "                                                                             children=[\n",
    "                                                                                     html.H1(style={'text-align':'center'},children='Nombre de maisons de culture en Nabeul'),\n",
    "                                                                                     dcc.Graph(\n",
    "                                                                                                    id='example-6',\n",
    "                                                                                                    figure=nbre_MC_an_Nabeul,\n",
    "                                                                                                    style={\n",
    "                                                                                                           'width':\"100%\"\n",
    "                                                                                                          }\n",
    "\n",
    "\n",
    "                                                                                                ),\n",
    "\n",
    "                                                                                     \n",
    "                                                                                ]),\n",
    "\n",
    "                                                              ]\n",
    "                                                            ),\n",
    "\n",
    "                                         ]\n",
    "\n",
    "                                ),\n",
    "                            \n",
    "                                html.Div(className='row',\n",
    "                                         style={'height':'600px','margin-top':'30px','margin-left':'40px'},\n",
    "                                         children=[\n",
    "                                                    html.Div(className='row',\n",
    "                                                             style={'width':'45%','display':'inline-block','margin-left':'20px'},\n",
    "                                                             children=[\n",
    "                                                                    html.Div(className='row',\n",
    "                                                                             style={},\n",
    "                                                                             children=[\n",
    "\n",
    "                                                                                     html.H1(style={'text-align':'center'},children='Nombre de clubs et de pionniers'),\n",
    "                                                                                     dcc.Graph(\n",
    "                                                                                                id='example-7',\n",
    "                                                                                                figure=nbre_club_pion,\n",
    "                                                                                                style={\n",
    "                                                                                                       'width':\"100%\"\n",
    "                                                                                                      }\n",
    "\n",
    "\n",
    "                                                                                            ),\n",
    "\n",
    "                                                                                ]),\n",
    "\n",
    "                                                              ]\n",
    "                                                            ),\n",
    "                                                     html.Div(className='row',\n",
    "                                                             style={'width':'45%','display':'inline-block','margin-left':'90px'},\n",
    "                                                             children=[\n",
    "                                                                    html.Div(className='row',\n",
    "                                                                             style={},\n",
    "                                                                             children=[\n",
    "\n",
    "                                                                                     html.H1(style={'text-align':'center'},children='Nombre des adhérents des Maisons de culture de Nabeul'),\n",
    "                                                                                  dcc.Graph(\n",
    "                                                                                                id='example-8',\n",
    "                                                                                                figure=nbre_adherent,\n",
    "                                                                                                style={'height':'100%',\n",
    "                                                                                                       'width':\"100%\"\n",
    "                                                                                                      }\n",
    "\n",
    "\n",
    "                                                                                            )\n",
    "  \n",
    "\n",
    "                                                                                ]\n",
    "                                                                    ),\n",
    "\n",
    "                                                              ]\n",
    "                                                            ),\n",
    "                                         ]\n",
    "\n",
    "                                ),\n",
    "                        \n",
    "            \n",
    "            html.Div(className='row',\n",
    "                                         style={'margin-top':'30px','margin-left':'30px'},\n",
    "                                         children=[\n",
    "                                                    html.Div(className='row',\n",
    "                                                             style={'width':'100%','display':'inline-block','margin-left':'10px'},\n",
    "                                                             children=[\n",
    "                                                                    html.Div(className='row',\n",
    "                                                                             style={},\n",
    "                                                                             children=[\n",
    "                                                                                     html.H1(style={'text-align':'center'},children='Nombre de maisons de culture en Tunisie'),\n",
    "                                                                                     dcc.Graph(\n",
    "                                                                                                id='example',\n",
    "                                                                                                figure=nbre_MC_gov,\n",
    "                                                                                                style={'height':'100%',\n",
    "                                                                                                       'width':\"100%\"\n",
    "                                                                                                      }\n",
    "\n",
    "\n",
    "                                                                                            )\n",
    "  \n",
    "                                                                                     \n",
    "                                                                                ]),\n",
    "\n",
    "                                                              ]\n",
    "                                                            ),\n",
    "                                         ]\n",
    "\n",
    "                                ),\n",
    "        ])\n",
    "    elif tab == 'tab-3':\n",
    "        return html.Div([\n",
    "                        html.Div(className='row',\n",
    "                                 style={'height':'100px','margin-top':'100px','margin-bottom':'100px','margin-left':'80px'},\n",
    "                                 children=[\n",
    "                                            html.H1(style={'text-align':'center'},children='Festivals en Tunisie')\n",
    "                                         ]\n",
    "                        ),\n",
    "            \n",
    "                        html.Div(className='row',\n",
    "                                 style={'height':'600px','margin-top':'30px','margin-left':'40px'},\n",
    "                                 children=[\n",
    "                                            html.Div(className='row',\n",
    "                                                     style={'width':'45%','display':'inline-block'},\n",
    "                                                     children=[\n",
    "                                                            html.Div(className='row',\n",
    "                                                                     style={},\n",
    "                                                                     children=[\n",
    "\n",
    "                                                                             html.H1(style={'text-align':'center'},children='Nombre de posts/tweets'),\n",
    "                                                                             dcc.Graph(\n",
    "                                                                                        id='example-9',\n",
    "                                                                                        figure=nbre_posts_tweets,\n",
    "                                                                                        style={\n",
    "                                                                                               'width':\"100%\"\n",
    "                                                                                              }\n",
    "\n",
    "\n",
    "                                                                                    ),\n",
    "\n",
    "                                                                        ]),\n",
    "\n",
    "                                                      ]\n",
    "                                                    ),\n",
    "                                             html.Div(className='row',\n",
    "                                                     style={'width':'50%','display':'inline-block','margin-left':'90px'},\n",
    "                                                     children=[\n",
    "                                                            html.Div(className='row',\n",
    "                                                                     style={},\n",
    "                                                                     children=[\n",
    "\n",
    "                                                                             html.H1(style={'text-align':'center'},children='Nombre de like/share/comments en Facebook'),\n",
    "                                                                             dcc.Graph(\n",
    "                                                                                        id='example-10',\n",
    "                                                                                        figure=nbre_like_share_comment,\n",
    "                                                                                        style={\n",
    "                                                                                               'width':\"100%\"\n",
    "                                                                                              }\n",
    "\n",
    "\n",
    "                                                                                    )\n",
    "\n",
    "                                                                        ]\n",
    "                                                            ),\n",
    "\n",
    "                                                      ]\n",
    "                                                    ),\n",
    "                                 ]\n",
    "\n",
    "                                ),\n",
    "                \n",
    "                                \n",
    "                                html.Div(className='row',\n",
    "                                         style={'height':'800px','margin-top':'30px','margin-left':'40px'},\n",
    "                                         children=[\n",
    "                                                    html.Div(className='row',\n",
    "                                                             style={'width':'45%','display':'inline-block'},\n",
    "                                                             children=[\n",
    "                                                                    html.Div(className='row',\n",
    "                                                                             style={},\n",
    "                                                                             children=[\n",
    "\n",
    "                                                                                     html.H1(style={'text-align':'center'},children='Revenus de festivals JCC'),\n",
    "                                                                                     dcc.Graph(\n",
    "                                                                                                id='example-11',\n",
    "                                                                                                figure=fig2,\n",
    "                                                                                                style={\n",
    "                                                                                                       'width':\"100%\"\n",
    "                                                                                                      }\n",
    "\n",
    "\n",
    "                                                                                            ),\n",
    "\n",
    "                                                                                ]),\n",
    "\n",
    "                                                              ]\n",
    "                                                            ),\n",
    "                                                     html.Div(className='row',\n",
    "                                                             style={'width':'45%','display':'inline-block','margin-left':'90px'},\n",
    "                                                             children=[\n",
    "                                                                    html.Div(className='row',\n",
    "                                                                             style={},\n",
    "                                                                             children=[\n",
    "\n",
    "                                                                                     html.H1(style={'text-align':'center'},children='Clustering tweets'),\n",
    "                                                                                     html.Iframe(id='map',srcDoc=open('clustering.html','r').read(),width='100%',height=\"800px\",style={'margin-top':'100','display': 'inherit'}),\n",
    "\n",
    "                                                                                ]\n",
    "                                                                    ),\n",
    "\n",
    "                                                              ]\n",
    "                                                            ),\n",
    "                                         ]\n",
    "\n",
    "                                ),\n",
    "\n",
    "                                html.Div(className='row',\n",
    "                                         style={'margin-top':'90px','margin-left':'30px'},\n",
    "                                         children=[\n",
    "                                                    html.Div(className='row',\n",
    "                                                             style={'width':'100%','display':'inline-block','margin-left':'10px'},\n",
    "                                                             children=[\n",
    "                                                                    html.Div(className='row',\n",
    "                                                                             style={},\n",
    "                                                                             children=[\n",
    "                                                                                     html.H1(style={'text-align':'center'},children='Nombre de maisons de culture en Tunisie'),\n",
    "                                                                                     html.Iframe(id='map2',srcDoc=open('tunisia_map_Fest.html','r').read(),width='98%',height=\"600\",style={'margin-top':'100'}),\n",
    "\n",
    "                                                                                     \n",
    "                                                                                ]),\n",
    "\n",
    "                                                              ]\n",
    "                                                            ),\n",
    "                                         ]\n",
    "\n",
    "                                ),\n",
    "        ])\n",
    "\n",
    "if __name__ == '__main__':\n",
    "    app.run_server(debug=True, use_reloader=False)\n"
   ]
  },
  {
   "cell_type": "code",
   "execution_count": null,
   "metadata": {},
   "outputs": [],
   "source": []
  }
 ],
 "metadata": {
  "kernelspec": {
   "display_name": "Python 3",
   "language": "python",
   "name": "python3"
  },
  "language_info": {
   "codemirror_mode": {
    "name": "ipython",
    "version": 3
   },
   "file_extension": ".py",
   "mimetype": "text/x-python",
   "name": "python",
   "nbconvert_exporter": "python",
   "pygments_lexer": "ipython3",
   "version": "3.7.4"
  }
 },
 "nbformat": 4,
 "nbformat_minor": 2
}
